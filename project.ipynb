{
 "cells": [
  {
   "cell_type": "markdown",
   "metadata": {},
   "source": [
    "Import all libraries\n"
   ]
  },
  {
   "cell_type": "code",
   "execution_count": 2,
   "metadata": {},
   "outputs": [],
   "source": [
    "import os\n",
    "import zipfile\n",
    "import requests\n",
    "import nltk\n",
    "import matplotlib.pyplot as plt\n",
    "import seaborn as sns\n",
    "import re\n",
    "import pandas as pd\n",
    "from nltk.tokenize import word_tokenize, sent_tokenize\n",
    "from nltk.stem.snowball import SnowballStemmer\n",
    "import numpy as np\n",
    "import wn\n",
    "from wn.similarity import wup\n",
    "from tqdm import tqdm\n",
    "from nltk.corpus.reader.wordnet import WordNetCorpusReader\n",
    "from sklearn.feature_extraction.text import CountVectorizer, TfidfVectorizer\n",
    "from sklearn.metrics.pairwise import cosine_similarity\n",
    "from sklearn.preprocessing import normalize\n",
    "from deep_translator import GoogleTranslator\n",
    "from collections import defaultdict\n",
    "from gensim.models import Word2Vec\n",
    "import gensim\n",
    "import gensim.downloader as api\n",
    "import kagglehub\n",
    "from vaderSentiment.vaderSentiment import SentimentIntensityAnalyzer\n",
    "import tarfile\n",
    "from multiprocessing import Pool, Manager\n",
    "import concurrent.futures\n",
    "import pickle\n",
    "import torch\n",
    "from transformers import MarianMTModel, MarianTokenizer"
   ]
  },
  {
   "cell_type": "code",
   "execution_count": 3,
   "metadata": {},
   "outputs": [
    {
     "data": {
      "application/vnd.jupyter.widget-view+json": {
       "model_id": "bdee89f07e754cae9bd7001be1584dc6",
       "version_major": 2,
       "version_minor": 0
      },
      "text/plain": [
       "VBox(children=(HTML(value='<center> <img\\nsrc=https://www.kaggle.com/static/images/site-logo.png\\nalt=\\'Kaggle…"
      ]
     },
     "metadata": {},
     "output_type": "display_data"
    }
   ],
   "source": [
    "#Login to Kaggle\n",
    "kagglehub.login()"
   ]
  },
  {
   "cell_type": "code",
   "execution_count": 4,
   "metadata": {},
   "outputs": [
    {
     "name": "stdout",
     "output_type": "stream",
     "text": [
      "Failed to clone repository. Directory already exists.\n"
     ]
    },
    {
     "name": "stderr",
     "output_type": "stream",
     "text": [
      "[nltk_data] Downloading package wordnet to\n",
      "[nltk_data]     C:\\Users\\janne\\AppData\\Roaming\\nltk_data...\n",
      "[nltk_data]   Package wordnet is already up-to-date!\n",
      "[nltk_data] Downloading package punkt to\n",
      "[nltk_data]     C:\\Users\\janne\\AppData\\Roaming\\nltk_data...\n",
      "[nltk_data]   Package punkt is already up-to-date!\n",
      "[nltk_data] Downloading package punkt_tab to\n",
      "[nltk_data]     C:\\Users\\janne\\AppData\\Roaming\\nltk_data...\n",
      "[nltk_data]   Package punkt_tab is already up-to-date!\n",
      "[nltk_data] Downloading package omw-1.4 to\n",
      "[nltk_data]     C:\\Users\\janne\\AppData\\Roaming\\nltk_data...\n",
      "[nltk_data]   Package omw-1.4 is already up-to-date!\n",
      "\n",
      "\u001b[KCached file found: C:\\Users\\janne\\.wn_data\\downloads\\e22bb9bb7ec2fbb9254ce638a385cf3b2c5c4a58\n",
      "\n",
      "\u001b[KChecking C:\\Users\\janne\\AppData\\Local\\Temp\\tmp0thqqrcn\\omw-fi\\omw-fi.xml\n",
      "\u001b[KSkipping omw-fi:1.4 (FinnWordNet); already added\n",
      "\n"
     ]
    }
   ],
   "source": [
    "## Clone WNAffect repository\n",
    "repo_url = \"https://github.com/clemtoy/WNAffect.git\"\n",
    "clone_dir = \"WNAffect\"\n",
    "\n",
    "if not os.path.exists(clone_dir):\n",
    "    os.system(f\"git clone {repo_url} {clone_dir}\")\n",
    "else:\n",
    "    print(\"Failed to clone repository. Directory already exists.\")\n",
    "\n",
    "from WNAffect.wnaffect import WNAffect\n",
    "from WNAffect.emotion import Emotion\n",
    "\n",
    "# Download the nltk data\n",
    "nltk.download(\"wordnet\")\n",
    "nltk.download(\"punkt\")\n",
    "nltk.download('punkt_tab')\n",
    "nltk.download(\"omw-1.4\")\n",
    "\n",
    "# Download finnish wordnet\n",
    "!python -m wn download omw-fi\n",
    "\n",
    "# Download finnish word2vec model from kaggle\n",
    "word2vec_fi = kagglehub.dataset_download(\"lehtol/word2vec-fi\")"
   ]
  },
  {
   "cell_type": "code",
   "execution_count": 5,
   "metadata": {},
   "outputs": [],
   "source": [
    "def download_and_extract(url, zip_path, extract_path):\n",
    "    if os.path.exists(extract_path):\n",
    "        print(f\"File {extract_path} already exists.\")\n",
    "    else:\n",
    "        print(f\"Downloading and extracting the {zip_path} to {extract_path}.\")\n",
    "        response = requests.get(url, stream=True)\n",
    "        total_size = int(response.headers.get(\"content-length\", 0))\n",
    "        block_size = 1024\n",
    "        with open(zip_path, \"wb\") as file, tqdm(\n",
    "            desc=zip_path,\n",
    "            total=total_size,\n",
    "            unit=\"iB\",\n",
    "            unit_scale=True,\n",
    "            unit_divisor=1024,\n",
    "        ) as bar:\n",
    "            for data in response.iter_content(block_size):\n",
    "                file.write(data)\n",
    "                bar.update(len(data))\n",
    "        if not os.path.exists(extract_path):\n",
    "            os.makedirs(extract_path)\n",
    "        with zipfile.ZipFile(zip_path, \"r\") as zip_ref:\n",
    "            for member in zip_ref.namelist():\n",
    "                member_path = os.path.join(\n",
    "                    extract_path,\n",
    "                    os.path.relpath(\n",
    "                        member, start=os.path.commonpath(zip_ref.namelist())\n",
    "                    ),\n",
    "                )\n",
    "                if member.endswith(\"/\"):\n",
    "                    os.makedirs(member_path, exist_ok=True)\n",
    "                else:\n",
    "                    os.makedirs(os.path.dirname(member_path), exist_ok=True)\n",
    "                    with open(member_path, \"wb\") as f:\n",
    "                        f.write(zip_ref.read(member))\n",
    "        os.remove(zip_path)\n",
    "        print(f\"Download and extraction of {extract_path} complete.\")\n",
    "\n",
    "\n",
    "def download(url, file_path):\n",
    "    if os.path.exists(file_path):\n",
    "        print(f\"File {file_path} already exists.\")\n",
    "    else:\n",
    "        print(f\"Downloading the file {file_path}\")\n",
    "        response = requests.get(url, stream=True)\n",
    "        total_size = int(response.headers.get(\"content-length\", 0))\n",
    "        block_size = 1024\n",
    "\n",
    "        with open(file_path, \"wb\") as file, tqdm(\n",
    "            desc=file_path,\n",
    "            total=total_size,\n",
    "            unit=\"iB\",\n",
    "            unit_scale=True,\n",
    "            unit_divisor=1024,\n",
    "        ) as bar:\n",
    "            for data in response.iter_content(block_size):\n",
    "                file.write(data)\n",
    "                bar.update(len(data))\n",
    "        print(f\"Download of {file_path} complete.\")\n",
    "\n",
    "def extract_wordnet16_tar(tar_path, extract_path):\n",
    "    def is_within_directory(directory, target):\n",
    "        abs_directory = os.path.abspath(directory)\n",
    "        abs_target = os.path.abspath(target)\n",
    "        return os.path.commonpath([abs_directory]) == os.path.commonpath([abs_directory, abs_target])\n",
    "\n",
    "    def safe_extract(tar, path=\".\", members=None, *, numeric_owner=False):\n",
    "        for member in tar.getmembers():\n",
    "            member_path = os.path.join(path, member.name)\n",
    "            if not is_within_directory(path, member_path):\n",
    "                raise Exception(\"Attempted Path Traversal in Tar File\")\n",
    "        for member in members:\n",
    "            if member.issym() or member.islnk():\n",
    "                continue  # Skip symbolic links\n",
    "            tar.extract(member, path, numeric_owner=numeric_owner, filter=None)\n",
    "\n",
    "    with tarfile.open(tar_path, \"r\") as tar:\n",
    "        members = [m for m in tar.getmembers() if m.name.startswith(\"wordnet-1.6/\")]\n",
    "        for member in members:\n",
    "            member.name = member.name[len(\"wordnet-1.6/\"):]\n",
    "        safe_extract(tar, extract_path, members=members)\n",
    "\n",
    "def download_and_extract_targz(url, gz, path):\n",
    "    if os.path.exists(path):\n",
    "        print(f\"File {path} already exists.\")\n",
    "    else:\n",
    "        print(f\"Downloading and extracting the {gz} to {path}.\")\n",
    "        download(url, gz)\n",
    "        extract_wordnet16_tar(gz, path)\n",
    "        os.remove(gz)\n"
   ]
  },
  {
   "cell_type": "markdown",
   "metadata": {},
   "source": [
    "Download the Finnish Wikipedia 2017 dataset, Finnish Stopwords, Stemmer, FinnWordNet and Word2Vec.\n"
   ]
  },
  {
   "cell_type": "code",
   "execution_count": 6,
   "metadata": {},
   "outputs": [
    {
     "name": "stdout",
     "output_type": "stream",
     "text": [
      "File data/wikipedia-fi-2017-src already exists.\n",
      "File data/finnishST.txt already exists.\n",
      "File data/FinnWordNet already exists.\n",
      "File data/wn16 already exists.\n",
      "File data/wndomains32 already exists.\n"
     ]
    }
   ],
   "source": [
    "# Wikipedia dataset\n",
    "wiki_url = \"https://www.kielipankki.fi/download/wikipedia-fi/wikipedia-fi-2017-src/wikipedia-fi-2017-src.zip\"\n",
    "wiki_zip_path = \"wikipedia-fi-2017-src.zip\"\n",
    "wiki_extract_path = \"data/wikipedia-fi-2017-src\"\n",
    "download_and_extract(wiki_url, wiki_zip_path, wiki_extract_path)\n",
    "\n",
    "# Finnish Stopwords\n",
    "stopword_url = \"http://members.unine.ch/jacques.savoy/clef/finnishST.txt\"\n",
    "stopwords_path = \"data/finnishST.txt\"\n",
    "download(stopword_url, stopwords_path)\n",
    "\n",
    "# Finnish Stemmer\n",
    "# stemmer_url = \"http://members.unine.ch/jacques.savoy/clef/finnishStemmer.txt\"\n",
    "# stemmer_path = \"data/finnishStemmer.txt\"\n",
    "# download(stemmer_url, stemmer_path)\n",
    "\n",
    "# FinnWordNet\n",
    "finnwordnet_url = (\n",
    "    \"https://www.kielipankki.fi/download/FinnWordNet/v2.0/FinnWordNet-2.0.zip\"\n",
    ")\n",
    "finnwordnet_zip_path = \"FinnWordNet-2.0.zip\"\n",
    "finnwordnet_extract_path = \"data/FinnWordNet\"\n",
    "download_and_extract(finnwordnet_url, finnwordnet_zip_path, finnwordnet_extract_path)\n",
    "\n",
    "# Wordnet 1.6\n",
    "wordnet16_url = \"https://wordnetcode.princeton.edu/1.6/wn16.unix.tar.gz\"\n",
    "wordnet16_gz = \"wn16.unix.tar.gz\"\n",
    "wordnet16_path = \"data/wn16\"\n",
    "download_and_extract_targz(wordnet16_url, wordnet16_gz, wordnet16_path)\n",
    "\n",
    "# Download Wordnet Affect\n",
    "wordnet_affect_url = \"https://unioulu-my.sharepoint.com/:u:/g/personal/jyrjanai20_student_oulu_fi/EcfjOMVVQ7dIr_lETcSOFo4B5KEtVvB1I5mmWEVxjspDNQ?e=hKkcAj&download=1\"\n",
    "wordnet_affect_zip = \"wndomains32.zip\"\n",
    "wordnet_affect_path = \"data/wndomains32\"\n",
    "download_and_extract(wordnet_affect_url, wordnet_affect_zip, wordnet_affect_path)"
   ]
  },
  {
   "cell_type": "code",
   "execution_count": 7,
   "metadata": {},
   "outputs": [],
   "source": [
    "# !python -m spacy download fi_core_news_md\n",
    "# !python -m spacy download fi_core_news_sm"
   ]
  },
  {
   "cell_type": "markdown",
   "metadata": {},
   "source": [
    "### Task 1:\n",
    "\n",
    "Consider the wordings: “climate change”, “emission”, “resilience”, “sustainability” (need to consider their Finnish translations). Suggest a script where your input each of these wordings and output the corresponding Wikipedia pages, highlighting all the (linked) entities in these pages.\n"
   ]
  },
  {
   "cell_type": "code",
   "execution_count": 8,
   "metadata": {},
   "outputs": [],
   "source": [
    "terms = {\"ilmastonmuutos\", \"päästö\", \"joustavuus\", \"ekologinen kestävyys\"}"
   ]
  },
  {
   "cell_type": "code",
   "execution_count": 9,
   "metadata": {},
   "outputs": [],
   "source": [
    "# Function to load the extracted Wikipedia dataset\n",
    "def load_wikipedia_dataset(directory):\n",
    "    data = {}\n",
    "    data_titles = {}\n",
    "\n",
    "    # Iterate over all dataset parts\n",
    "    files = [\n",
    "        f\n",
    "        for f in os.listdir(directory)\n",
    "        if f.startswith(\"wiki_part\") and f.endswith(\".VRT\")\n",
    "    ]\n",
    "    for filename in tqdm(files, desc=\"Processing files\"):\n",
    "        if filename.startswith(\"wiki_part\") and filename.endswith(\".VRT\"):\n",
    "            file_path = os.path.join(directory, filename)\n",
    "            # print(f\"Processing file: {file_path}\")\n",
    "\n",
    "            with open(file_path, \"r\", encoding=\"utf-8\") as file:\n",
    "                content = file.read()\n",
    "\n",
    "                # Use regex to find all documents within the <doc>...</doc> tags\n",
    "                docs = re.findall(\n",
    "                    r'<doc id=\"(.*?)\" url=\"(.*?)\" title=\"(.*?)\">(.*?)</doc>',\n",
    "                    content,\n",
    "                    re.DOTALL,\n",
    "                )\n",
    "\n",
    "                # Process each document found\n",
    "                for doc_id, url, title, doc_content in docs:\n",
    "                    data_titles[title.casefold()] = {\n",
    "                        \"id\": doc_id,\n",
    "                    }\n",
    "                    # Only store the data if the title matches one of the specified terms\n",
    "                    if title.casefold() in terms:\n",
    "                        data[title.casefold()] = {\n",
    "                            \"id\": doc_id,\n",
    "                            \"url\": url,\n",
    "                            \"content\": doc_content,\n",
    "                        }\n",
    "    return data, data_titles\n",
    "\n",
    "\n",
    "# Load Finnish stopwords\n",
    "def load_stopwords(file_path):\n",
    "    with open(file_path, \"r\", encoding=\"ISO-8859-1\") as f:\n",
    "        stopwords = f.read().splitlines()\n",
    "        print(f\"Loaded {len(stopwords)} stopwords from {file_path}\")\n",
    "    return stopwords\n",
    "\n",
    "\n",
    "# Function to highlight linked entities\n",
    "def highlight_linked_entities(content):\n",
    "    highlighted_content = re.sub(\n",
    "        r'(<link entity=\")(.*?)(\">)(.*?)(</link>)', r\"\\1\\2\\3**\\4**\\5\", content\n",
    "    )\n",
    "    return highlighted_content\n",
    "\n",
    "\n",
    "# Function to tokenize text into sentences and remove stopwords\n",
    "def remove_stopwords(sentence, stopwords, language=\"finnish\"):\n",
    "    words = word_tokenize(text=sentence, language=language)\n",
    "    filtered_words = [word for word in words if word.lower() not in stopwords]\n",
    "    return \" \".join(filtered_words)\n",
    "\n",
    "\n",
    "# Function to remove '#' from the middle of a word\n",
    "def remove_hash_from_words(text):\n",
    "    return re.sub(r\"(\\w)#(\\w)\", r\"\\1\\2\", text)"
   ]
  },
  {
   "cell_type": "markdown",
   "metadata": {},
   "source": [
    "Load the wikipedia dataset\n"
   ]
  },
  {
   "cell_type": "code",
   "execution_count": 10,
   "metadata": {},
   "outputs": [
    {
     "name": "stderr",
     "output_type": "stream",
     "text": [
      "Processing files: 100%|██████████| 66/66 [00:48<00:00,  1.35it/s]"
     ]
    },
    {
     "name": "stdout",
     "output_type": "stream",
     "text": [
      "number of wikipedia titles 425318\n"
     ]
    },
    {
     "name": "stderr",
     "output_type": "stream",
     "text": [
      "\n"
     ]
    }
   ],
   "source": [
    "dataset_directory = \"data/wikipedia-fi-2017-src\"  # Path to the extracted dataset\n",
    "wikipedia_data, wikipedia_title_data = load_wikipedia_dataset(dataset_directory)\n",
    "print(f\"number of wikipedia titles\", len(wikipedia_title_data))"
   ]
  },
  {
   "cell_type": "markdown",
   "metadata": {},
   "source": [
    "Load the finnish stopwords\n"
   ]
  },
  {
   "cell_type": "code",
   "execution_count": 11,
   "metadata": {},
   "outputs": [
    {
     "name": "stdout",
     "output_type": "stream",
     "text": [
      "Loaded 747 stopwords from data/finnishST.txt\n"
     ]
    }
   ],
   "source": [
    "finnish_stopwords = load_stopwords(stopwords_path)"
   ]
  },
  {
   "cell_type": "markdown",
   "metadata": {},
   "source": [
    "Highlight the entities in the wikipedia pages\n"
   ]
  },
  {
   "cell_type": "code",
   "execution_count": 12,
   "metadata": {},
   "outputs": [],
   "source": [
    "for title, info in wikipedia_data.items():\n",
    "    highlighted_content = highlight_linked_entities(info[\"content\"])\n",
    "    # print(f\"Title: {title}\\nHighlighted Content: {highlighted_content}\\n\")"
   ]
  },
  {
   "cell_type": "markdown",
   "metadata": {},
   "source": [
    "Get the pages for the given wordings and get the sentences\n"
   ]
  },
  {
   "cell_type": "code",
   "execution_count": 13,
   "metadata": {},
   "outputs": [
    {
     "name": "stdout",
     "output_type": "stream",
     "text": [
      "{'joustavuus': {'id': '62900', 'url': 'https://fi.wikipedia.org/wiki?curid=62900', 'content': '\\n<paragraph>\\n<sentence>\\n1\\tJoustavuus\\tjoustavuus\\tNOUN\\t_\\tCase=Nom|Number=Sing\\t0\\troot\\t_\\t_\\n</sentence>\\n</paragraph>\\n<paragraph>\\n<sentence>\\n1\\tJoustavuus\\tjoustavuus\\tNOUN\\t_\\tCase=Nom|Number=Sing\\t4\\tnsubj:cop\\t_\\t_\\n2\\ton\\tolla\\tVERB\\t_\\tMood=Ind|Number=Sing|Person=3|Tense=Pres|VerbForm=Fin|Voice=Act\\t4\\tcop\\t_\\t_\\n3\\tyrityksen\\tyritys\\tNOUN\\t_\\tCase=Gen|Number=Sing\\t4\\tnmod:poss\\t_\\t_\\n4\\tominaisuus\\tominaisuus\\tNOUN\\t_\\tCase=Nom|Number=Sing\\t0\\troot\\t_\\t_\\n5\\t,\\t,\\tPUNCT\\t_\\t_\\t7\\tpunct\\t_\\t_\\n6\\tjoka\\tjoka\\tPRON\\t_\\tCase=Nom|Number=Sing|PronType=Rel\\t7\\tnsubj\\t_\\t_\\n7\\tkertoo\\tkertoa\\tVERB\\t_\\tMood=Ind|Number=Sing|Person=3|Tense=Pres|VerbForm=Fin|Voice=Act\\t4\\tacl:relcl\\t_\\t_\\n8\\tsiitä\\tse\\tPRON\\t_\\tCase=Ela|Number=Sing|PronType=Dem\\t7\\tnmod\\t_\\t_\\n9\\t,\\t,\\tPUNCT\\t_\\t_\\t12\\tpunct\\t_\\t_\\n10\\tmiten\\tmiten\\tADV\\t_\\t_\\t12\\tadvmod\\t_\\t_\\n11\\tyritys\\tyritys\\tNOUN\\t_\\tCase=Nom|Number=Sing\\t12\\tnsubj\\t_\\t_\\n12\\tpystyy\\tpystyä\\tVERB\\t_\\tMood=Ind|Number=Sing|Person=3|Tense=Pres|VerbForm=Fin|Voice=Act\\t8\\tccomp\\t_\\t_\\n13\\tsopeutumaan\\tsopeutua\\tVERB\\t_\\tCase=Ill|InfForm=3|Number=Sing|VerbForm=Inf|Voice=Act\\t12\\txcomp\\t_\\t_\\n14\\tkysynnässä\\tkysyntä\\tNOUN\\t_\\tCase=Ine|Number=Sing\\t15\\tnmod\\t_\\t_\\n15\\ttapahtuviin\\ttapahtua\\tVERB\\t_\\tCase=Ill|Degree=Pos|Number=Plur|PartForm=Pres|VerbForm=Part|Voice=Act\\t19\\tacl\\t_\\t_\\n16\\tmäärällisiin\\tmäärällinen\\tADJ\\t_\\tCase=Ill|Degree=Pos|Number=Plur\\t19\\tamod\\t_\\t_\\n17\\tja\\tja\\tCONJ\\t_\\t_\\t16\\tcc\\t_\\t_\\n18\\tlaadullisiin\\tlaadullinen\\tADJ\\t_\\tCase=Ill|Degree=Pos|Number=Plur\\t16\\tconj\\t_\\t_\\n19\\tmuutoksiin\\tmuutos\\tNOUN\\t_\\tCase=Ill|Number=Plur\\t13\\tnmod\\t_\\t_\\n20\\tsiten\\tsiten\\tADV\\t_\\t_\\t13\\tadvmod\\t_\\t_\\n21\\t,\\t,\\tPUNCT\\t_\\t_\\t28\\tpunct\\t_\\t_\\n22\\tettä\\tettä\\tSCONJ\\t_\\t_\\t28\\tmark\\t_\\t_\\n23\\tyritys\\tyritys\\tNOUN\\t_\\tCase=Nom|Number=Sing\\t28\\tdobj\\t_\\t_\\n24\\tei\\tei\\tVERB\\t_\\tNegative=Yes|Number=Sing|Person=3|VerbForm=Fin|Voice=Act\\t28\\tneg\\t_\\t_\\n25\\tmuutosten\\tmuutos\\tNOUN\\t_\\tCase=Gen|Number=Plur\\t28\\tnmod\\t_\\t_\\n26\\tmyötä\\tmyötä\\tADP\\t_\\tAdpType=Post\\t25\\tcase\\t_\\t_\\n27\\tjoutuisi\\tjoutua\\tAUX\\t_\\tMood=Cnd|Number=Sing|Person=3|VerbForm=Fin|Voice=Act\\t28\\tauxpass\\t_\\t_\\n28\\tkilpailijoitaan\\tkilpailija\\tVERB\\t_\\tMood=Ind|Tense=Pres|VerbForm=Fin|Voice=Pass\\t20\\tccomp\\t_\\t_\\n29\\tepäedullisempaan\\tepä#edullinen\\tADJ\\t_\\tCase=Ill|Degree=Cmp|Number=Sing\\t30\\tamod\\t_\\t_\\n30\\tasemaan\\tasema\\tNOUN\\t_\\tCase=Ill|Number=Sing\\t28\\tnmod\\t_\\t_\\n31\\t.\\t.\\tPUNCT\\t_\\t_\\t4\\tpunct\\t_\\t_\\n</sentence>\\n</paragraph>\\n<paragraph>\\n<sentence>\\n1\\tAnna\\tAnna\\tPROPN\\t_\\tCase=Nom|Number=Sing\\t2\\tname\\t_\\t_\\n2\\tPollert\\tPollert\\tPROPN\\t_\\tCase=Nom|Number=Sing\\t4\\tnsubj\\t_\\t_\\n3\\ton\\tolla\\tAUX\\t_\\tMood=Ind|Number=Sing|Person=3|Tense=Pres|VerbForm=Fin|Voice=Act\\t4\\taux\\t_\\t_\\n4\\tarvostellut\\tarvostella\\tVERB\\t_\\tCase=Nom|Degree=Pos|Number=Sing|PartForm=Past|VerbForm=Part|Voice=Act\\t0\\troot\\t_\\t_\\n5\\tkäsitettä\\tkäsite\\tNOUN\\t_\\tCase=Par|Number=Sing\\t4\\tdobj\\t_\\t_\\n6\\tsiitä\\tse\\tPRON\\t_\\tCase=Ela|Number=Sing|PronType=Dem\\t5\\tnmod\\t_\\t_\\n7\\t,\\t,\\tPUNCT\\t_\\t_\\t11\\tpunct\\t_\\t_\\n8\\tettä\\tettä\\tSCONJ\\t_\\t_\\t11\\tmark\\t_\\t_\\n9\\tjoustavuuden\\tjoustavuus\\tNOUN\\t_\\tCase=Gen|Number=Sing\\t10\\tnmod:poss\\t_\\t_\\n10\\tvarjolla\\tvarjo\\tNOUN\\t_\\tCase=Ade|Number=Sing\\t11\\tnmod\\t_\\t_\\n11\\ttehdään\\ttehdä\\tVERB\\t_\\tMood=Ind|Tense=Pres|VerbForm=Fin|Voice=Pass\\t6\\tccomp\\t_\\t_\\n12\\ttoisistaan\\ttoinen\\tNOUN\\t_\\tCase=Ela|Number=Plur|Person[psor]=3\\t11\\tnmod\\t_\\t_\\n13\\thyvinkin\\thyvin\\tADV\\t_\\tClitic=Kin\\t14\\tadvmod\\t_\\t_\\n14\\tpaljon\\tpaljon\\tADV\\t_\\t_\\t15\\tadvmod\\t_\\t_\\n15\\tpoikkeavia\\tpoiketa\\tVERB\\t_\\tCase=Par|Degree=Pos|Number=Plur|PartForm=Pres|VerbForm=Part|Voice=Act\\t20\\tacl\\t_\\t_\\n16\\t,\\t,\\tPUNCT\\t_\\t_\\t20\\tpunct\\t_\\t_\\n17\\ttyöntekijöiden\\ttyöntekijä\\tNOUN\\t_\\tCase=Gen|Number=Plur\\t18\\tnmod:poss\\t_\\t_\\n18\\tasemaan\\tasema\\tNOUN\\t_\\tCase=Ill|Number=Sing\\t19\\tnmod\\t_\\t_\\n19\\tvaikuttavia\\tvaikuttaa\\tVERB\\t_\\tCase=Par|Degree=Pos|Number=Plur|PartForm=Pres|VerbForm=Part|Voice=Act\\t20\\tacl\\t_\\t_\\n20\\ttoimenpiteitä\\ttoimen#pide\\tNOUN\\t_\\tCase=Par|Number=Plur\\t11\\tdobj\\t_\\t_\\n21\\t.\\t.\\tPUNCT\\t_\\t_\\t4\\tpunct\\t_\\t_\\n</sentence>\\n<sentence>\\n1\\tJoustavuudella\\tjoustavuus\\tNOUN\\t_\\tCase=Ade|Number=Sing\\t3\\tnmod\\t_\\t_\\n2\\ton\\tolla\\tAUX\\t_\\tMood=Ind|Number=Sing|Person=3|Tense=Pres|VerbForm=Fin|Voice=Act\\t3\\tauxpass\\t_\\t_\\n3\\tpyritty\\tpyrkiä\\tVERB\\t_\\tCase=Nom|Degree=Pos|Number=Sing|PartForm=Past|VerbForm=Part|Voice=Pass\\t0\\troot\\t_\\t_\\n4\\toikeuttamaan\\toikeuttaa\\tVERB\\t_\\tCase=Ill|InfForm=3|Number=Sing|VerbForm=Inf|Voice=Act\\t3\\txcomp\\t_\\t_\\n5\\tjopa\\tjopa\\tADV\\t_\\t_\\t6\\tadvmod\\t_\\t_\\n6\\tkeskenään\\tkeskenään\\tADV\\t_\\t_\\t4\\tadvmod\\t_\\t_\\n7\\tristiriitaisia\\tristi#riitainen\\tADJ\\t_\\tCase=Par|Degree=Pos|Number=Plur\\t8\\tamod\\t_\\t_\\n8\\ttoimenpiteitä\\ttoimen#pide\\tNOUN\\t_\\tCase=Par|Number=Plur\\t4\\tdobj\\t_\\t_\\n9\\t.\\t.\\tPUNCT\\t_\\t_\\t3\\tpunct\\t_\\t_\\n</sentence>\\n<sentence>\\n1\\tTäsmällisemmässä\\ttäsmällinen\\tADJ\\t_\\tCase=Ine|Degree=Cmp|Number=Sing\\t2\\tamod\\t_\\t_\\n2\\tkielenkäytössä\\tkielen#käyttö\\tNOUN\\t_\\tCase=Ine|Number=Sing\\t4\\tnmod\\t_\\t_\\n3\\tjoustavuus\\tjoustavuus\\tNOUN\\t_\\tCase=Nom|Number=Sing\\t4\\tdobj\\t_\\t_\\n4\\tjaetaan\\tjakaa\\tVERB\\t_\\tMood=Ind|Tense=Pres|VerbForm=Fin|Voice=Pass\\t0\\troot\\t_\\t_\\n5\\tkahteen\\tkaksi\\tNUM\\t_\\tCase=Ill|Number=Sing|NumType=Card\\t6\\tnummod\\t_\\t_\\n6\\tlajiin\\tlaji\\tNOUN\\t_\\tCase=Ill|Number=Sing\\t4\\tnmod\\t_\\t_\\n7\\t:\\t:\\tPUNCT\\t_\\t_\\t6\\tpunct\\t_\\t_\\n8\\t\"\\t\"\\tPUNCT\\t_\\t_\\t9\\tpunct\\t_\\t_\\n9\\tjoustavuus\\tjoustavuus\\tNOUN\\t_\\tCase=Nom|Number=Sing\\t6\\tappos\\t_\\t_\\n10\\tlyhytaikaisessa\\tlyhyt#aikainen\\tADJ\\t_\\tCase=Ine|Degree=Pos|Number=Sing\\t11\\tamod\\t_\\t_\\n11\\tennakoinnissa\\tennakointi\\tNOUN\\t_\\tCase=Ine|Number=Sing\\t9\\tnmod\\t_\\t_\\n12\\t\"\\t\"\\tPUNCT\\t_\\t_\\t9\\tpunct\\t_\\t_\\n13\\t(\\t(\\tPUNCT\\t_\\t_\\t18\\tpunct\\t_\\t_\\n14\\t\"\\t\"\\tPUNCT\\t_\\t_\\t18\\tpunct\\t_\\t_\\n15\\tflexibility\\tflexibility\\tSYM\\t_\\t_\\t18\\tname\\t_\\t_\\n16\\tfor\\tfor\\tPROPN\\t_\\t_\\t18\\tname\\t_\\t_\\n17\\tshort-term\\tshort-term\\tPROPN\\t_\\t_\\t18\\tname\\t_\\t_\\n18\\tpredicatability\\tpredicatability\\tPROPN\\t_\\tCase=Nom|Number=Sing\\t9\\tappos\\t_\\t_\\n19\\t\"\\t\"\\tPUNCT\\t_\\t_\\t18\\tpunct\\t_\\t_\\n20\\ttai\\ttai\\tCONJ\\t_\\t_\\t18\\tcc\\t_\\t_\\n21\\tmäärällinen\\tmäärällinen\\tADJ\\t_\\tCase=Nom|Degree=Pos|Number=Sing\\t22\\tamod\\t_\\t_\\n22\\tjousto\\tjousto\\tNOUN\\t_\\tCase=Nom|Number=Sing\\t18\\tconj\\t_\\t_\\n23\\t)\\t)\\tPUNCT\\t_\\t_\\t22\\tpunct\\t_\\t_\\n24\\tja\\tja\\tCONJ\\t_\\t_\\t22\\tcc\\t_\\t_\\n25\\t\"\\t\"\\tPUNCT\\t_\\t_\\t26\\tpunct\\t_\\t_\\n26\\tjoustavuus\\tjoustavuus\\tNOUN\\t_\\tCase=Nom|Number=Sing\\t22\\tconj\\t_\\t_\\n27\\tpitkäaikaisessa\\tpitkä#aikainen\\tADJ\\t_\\tCase=Ine|Degree=Pos|Number=Sing\\t28\\tamod\\t_\\t_\\n28\\tsopeutumisessa\\tsopeutua\\tNOUN\\t_\\tCase=Ine|Derivation=Minen|Number=Sing\\t26\\tnmod\\t_\\t_\\n29\\t\"\\t\"\\tPUNCT\\t_\\t_\\t26\\tpunct\\t_\\t_\\n30\\t(\\t(\\tPUNCT\\t_\\t_\\t35\\tpunct\\t_\\t_\\n31\\t\"\\t\"\\tPUNCT\\t_\\t_\\t35\\tpunct\\t_\\t_\\n32\\tflexibility\\tflexibility\\tX\\t_\\tForeign=Foreign\\t35\\tname\\t_\\t_\\n33\\tfor\\tfor\\tX\\t_\\tForeign=Foreign\\t35\\tname\\t_\\t_\\n34\\tlong-term\\tlong-term\\tX\\t_\\tForeign=Foreign\\t35\\tname\\t_\\t_\\n35\\tadaptability\\tadaptability\\tX\\t_\\tForeign=Foreign\\t26\\tparataxis\\t_\\t_\\n36\\t\"\\t\"\\tPUNCT\\t_\\t_\\t35\\tpunct\\t_\\t_\\n37\\ttai\\ttai\\tCONJ\\t_\\t_\\t22\\tcc\\t_\\t_\\n38\\ttoiminnallinen\\ttoiminnallinen\\tADJ\\t_\\tCase=Nom|Degree=Pos|Number=Sing\\t39\\tamod\\t_\\t_\\n39\\tjousto\\tjousto\\tNOUN\\t_\\tCase=Nom|Number=Sing\\t22\\tconj\\t_\\t_\\n40\\t)\\t)\\tPUNCT\\t_\\t_\\t9\\tpunct\\t_\\t_\\n41\\t.\\t.\\tPUNCT\\t_\\t_\\t4\\tpunct\\t_\\t_\\n</sentence>\\n</paragraph>\\n<paragraph>\\n<sentence>\\n1\\tJoustavuus\\tjoustavuus\\tNOUN\\t_\\tCase=Nom|Number=Sing\\t4\\tnsubj\\t_\\t_\\n2\\tlyhytaikaisessa\\tlyhyt#aikainen\\tADJ\\t_\\tCase=Ine|Degree=Pos|Number=Sing\\t3\\tamod\\t_\\t_\\n3\\tennakoinnissa\\tennakointi\\tNOUN\\t_\\tCase=Ine|Number=Sing\\t1\\tnmod\\t_\\t_\\n4\\tmerkitsee\\tmerkitä\\tVERB\\t_\\tMood=Ind|Number=Sing|Person=3|Tense=Pres|VerbForm=Fin|Voice=Act\\t0\\troot\\t_\\t_\\n5\\tyritykselle\\tyritys\\tNOUN\\t_\\tCase=All|Number=Sing\\t4\\tnmod\\t_\\t_\\n6\\tsitä\\tse\\tPRON\\t_\\tCase=Par|Number=Sing|PronType=Dem\\t4\\tdobj\\t_\\t_\\n7\\t,\\t,\\tPUNCT\\t_\\t_\\t12\\tpunct\\t_\\t_\\n8\\tettä\\tettä\\tSCONJ\\t_\\t_\\t12\\tmark\\t_\\t_\\n9\\tse\\tse\\tPRON\\t_\\tCase=Nom|Number=Sing|PronType=Dem\\t12\\tnsubj\\t_\\t_\\n10\\tvoi\\tvoida\\tAUX\\t_\\tMood=Ind|Number=Sing|Person=3|Tense=Pres|VerbForm=Fin|Voice=Act\\t12\\taux\\t_\\t_\\n11\\tnopeasti\\tnopeasti\\tADV\\t_\\t_\\t12\\tadvmod\\t_\\t_\\n12\\tsopeuttaa\\tsopeuttaa\\tVERB\\t_\\tInfForm=1|Number=Sing|VerbForm=Inf|Voice=Act\\t6\\tccomp\\t_\\t_\\n13\\ttuotantokustannuksensa\\ttuotanto#kustannus\\tNOUN\\t_\\tCase=Gen|Number=Sing|Person[psor]=3\\t12\\tdobj\\t_\\t_\\n14\\tkysynnän\\tkysyntä\\tNOUN\\t_\\tCase=Gen|Number=Sing\\t12\\tnmod\\t_\\t_\\n15\\tmukaan\\tmukaan\\tADP\\t_\\tAdpType=Post\\t14\\tcase\\t_\\t_\\n16\\t.\\t.\\tPUNCT\\t_\\t_\\t4\\tpunct\\t_\\t_\\n</sentence>\\n<sentence>\\n1\\tTeknisten\\ttekninen\\tADJ\\t_\\tCase=Gen|Degree=Pos|Number=Plur\\t2\\tamod\\t_\\t_\\n2\\tominaisuuksien\\tominaisuus\\tNOUN\\t_\\tCase=Gen|Number=Plur\\t6\\tnmod\\t_\\t_\\n3\\tlisäksi\\tlisäksi\\tADP\\t_\\tAdpType=Post\\t2\\tcase\\t_\\t_\\n4\\tlyhytaikaista\\tlyhyt#aikainen\\tADJ\\t_\\tCase=Par|Degree=Pos|Number=Sing\\t5\\tamod\\t_\\t_\\n5\\tjoustavuutta\\tjoustavuus\\tNOUN\\t_\\tCase=Par|Number=Sing\\t6\\tdobj\\t_\\t_\\n6\\tlisää\\tlisätä\\tVERB\\t_\\tMood=Imp|Number=Sing|Person=2|VerbForm=Fin|Voice=Act\\t0\\troot\\t_\\t_\\n7\\tmahdollisuus\\tmahdollisuus\\tNOUN\\t_\\tCase=Nom|Number=Sing\\t6\\tdobj\\t_\\t_\\n8\\tnopeasti\\tnopeasti\\tADV\\t_\\t_\\t6\\tadvmod\\t_\\t_\\n9\\tirtisanoa\\tirtisanoa\\tVERB\\t_\\tInfForm=1|Number=Sing|VerbForm=Inf|Voice=Act\\t6\\txcomp:ds\\t_\\t_\\n10\\tja\\tja\\tCONJ\\t_\\t_\\t9\\tcc\\t_\\t_\\n11\\thankkia\\thankkia\\tVERB\\t_\\tInfForm=1|Number=Sing|VerbForm=Inf|Voice=Act\\t9\\tconj\\t_\\t_\\n12\\ttyöntekijöitä\\ttyöntekijä\\tNOUN\\t_\\tCase=Par|Number=Plur\\t11\\tdobj\\t_\\t_\\n13\\t.\\t.\\tPUNCT\\t_\\t_\\t6\\tpunct\\t_\\t_\\n</sentence>\\n<sentence>\\n1\\tJoustavuus\\tjoustavuus\\tNOUN\\t_\\tCase=Nom|Number=Sing\\t4\\tnsubj\\t_\\t_\\n2\\tpitkäaikaisessa\\tpitkä#aikainen\\tADJ\\t_\\tCase=Ine|Degree=Pos|Number=Sing\\t3\\tamod\\t_\\t_\\n3\\tsopeutumisessa\\tsopeutua\\tNOUN\\t_\\tCase=Ine|Derivation=Minen|Number=Sing\\t1\\tnmod\\t_\\t_\\n4\\tedellyttää\\tedellyttää\\tVERB\\t_\\tMood=Ind|Number=Sing|Person=3|Tense=Pres|VerbForm=Fin|Voice=Act\\t0\\troot\\t_\\t_\\n5\\tyritykseltä\\tyritys\\tNOUN\\t_\\tCase=Abl|Number=Sing\\t4\\tnmod\\t_\\t_\\n6\\tkykyä\\tkyky\\tNOUN\\t_\\tCase=Par|Number=Sing\\t4\\tdobj\\t_\\t_\\n7\\tkehittää\\tkehittää\\tVERB\\t_\\tInfForm=1|Number=Sing|VerbForm=Inf|Voice=Act\\t6\\tacl\\t_\\t_\\n8\\tuusia\\tuusi\\tADJ\\t_\\tCase=Par|Degree=Pos|Number=Plur\\t9\\tamod\\t_\\t_\\n9\\ttuotteita\\ttuote\\tNOUN\\t_\\tCase=Par|Number=Plur\\t7\\tdobj\\t_\\t_\\n10\\tja\\tja\\tCONJ\\t_\\t_\\t9\\tcc\\t_\\t_\\n11\\tomaa\\toma\\tADJ\\t_\\tCase=Par|Degree=Pos|Number=Sing\\t12\\tamod\\t_\\t_\\n12\\ttuotantoprosessiaan\\ttuotanto#prosessi\\tNOUN\\t_\\tCase=Par|Number=Sing|Person[psor]=3\\t9\\tconj\\t_\\t_\\n13\\t,\\t,\\tPUNCT\\t_\\t_\\t15\\tpunct\\t_\\t_\\n14\\tmikä\\tmikä\\tPRON\\t_\\tCase=Nom|Number=Sing|PronType=Rel\\t15\\tnsubj\\t_\\t_\\n15\\tauttaa\\tauttaa\\tVERB\\t_\\tMood=Ind|Number=Sing|Person=3|Tense=Pres|VerbForm=Fin|Voice=Act\\t12\\tacl:relcl\\t_\\t_\\n16\\tyritystä\\tyritys\\tNOUN\\t_\\tCase=Par|Number=Sing\\t17\\tnsubj\\t_\\t_\\n17\\tsopeutumaan\\tsopeutua\\tVERB\\t_\\tCase=Ill|InfForm=3|Number=Sing|VerbForm=Inf|Voice=Act\\t15\\txcomp:ds\\t_\\t_\\n18\\tuudenlaisiin\\tuudenlainen\\tADJ\\t_\\tCase=Ill|Degree=Pos|Number=Plur\\t19\\tamod\\t_\\t_\\n19\\tmarkkinatilanteisiin\\tmarkkina#tilanne\\tNOUN\\t_\\tCase=Ill|Number=Plur\\t17\\tnmod\\t_\\t_\\n20\\t.\\t.\\tPUNCT\\t_\\t_\\t4\\tpunct\\t_\\t_\\n</sentence>\\n</paragraph>\\n<paragraph>\\n<sentence>\\n1\\tYrityksiin\\tyritys\\tNOUN\\t_\\tCase=Ill|Number=Plur\\t2\\tnmod\\t_\\t_\\n2\\tkohdistuvat\\tkohdistua\\tVERB\\t_\\tMood=Ind|Number=Plur|Person=3|Tense=Pres|VerbForm=Fin|Voice=Act\\t4\\tacl\\t_\\t_\\n3\\ttoimialan\\ttoimi#ala\\tNOUN\\t_\\tCase=Gen|Number=Sing\\t4\\tnmod:poss\\t_\\t_\\n4\\tkilpailuvoimat\\tkilpailu#voima\\tNOUN\\t_\\tCase=Nom|Number=Plur\\t5\\tnsubj\\t_\\t_\\n5\\taiheuttavat\\taiheuttaa\\tVERB\\t_\\tMood=Ind|Number=Plur|Person=3|Tense=Pres|VerbForm=Fin|Voice=Act\\t0\\troot\\t_\\t_\\n6\\ttarvetta\\ttarve\\tNOUN\\t_\\tCase=Par|Number=Sing\\t5\\tdobj\\t_\\t_\\n7\\tsekä\\tsekä\\tCONJ\\t_\\t_\\t8\\tcc:preconj\\t_\\t_\\n8\\tlyhytaikaiselle\\tlyhyt#aikainen\\tADJ\\t_\\tCase=All|Degree=Pos|Number=Sing\\t11\\tamod\\t_\\t_\\n9\\tettä\\tettä\\tCONJ\\t_\\t_\\t8\\tcc\\t_\\t_\\n10\\tpitkäaikaiselle\\tpitkä#aikainen\\tADJ\\t_\\tCase=All|Degree=Pos|Number=Sing\\t8\\tconj\\t_\\t_\\n11\\tjoustavuudelle\\tjoustavuus\\tNOUN\\t_\\tCase=All|Number=Sing\\t5\\tnmod\\t_\\t_\\n12\\t.\\t.\\tPUNCT\\t_\\t_\\t5\\tpunct\\t_\\t_\\n</sentence>\\n<sentence>\\n1\\tUsein\\tusein\\tADV\\t_\\t_\\t3\\tadvmod\\t_\\t_\\n2\\tvoimat\\tvoima\\tNOUN\\t_\\tCase=Nom|Number=Plur\\t3\\tnsubj\\t_\\t_\\n3\\tvaikuttavat\\tvaikuttaa\\tVERB\\t_\\tMood=Ind|Number=Plur|Person=3|Tense=Pres|VerbForm=Fin|Voice=Act\\t0\\troot\\t_\\t_\\n4\\tsamaankin\\tsama\\tPRON\\t_\\tCase=Ill|Clitic=Kin|Number=Sing|PronType=Ind\\t5\\tdet\\t_\\t_\\n5\\tyritykseen\\tyritys\\tNOUN\\t_\\tCase=Ill|Number=Sing\\t3\\tnmod\\t_\\t_\\n6\\tniin\\tniin\\tADV\\t_\\t_\\t3\\tadvmod\\t_\\t_\\n7\\t,\\t,\\tPUNCT\\t_\\t_\\t12\\tpunct\\t_\\t_\\n8\\tettä\\tettä\\tSCONJ\\t_\\t_\\t12\\tmark\\t_\\t_\\n9\\tsen\\tse\\tPRON\\t_\\tCase=Gen|Number=Sing|PronType=Dem\\t12\\tdobj\\t_\\t_\\n10\\ton\\tolla\\tAUX\\t_\\tMood=Ind|Number=Sing|Person=3|Tense=Pres|VerbForm=Fin|Voice=Act\\t12\\tauxpass\\t_\\t_\\n11\\tsamanaikaisesti\\tsamanaikaisesti\\tADV\\t_\\t_\\t12\\tadvmod\\t_\\t_\\n12\\tkäytettävä\\tkäyttää\\tVERB\\t_\\tCase=Nom|Degree=Pos|Number=Sing|PartForm=Pres|VerbForm=Part|Voice=Pass\\t6\\tccomp\\t_\\t_\\n13\\tkahta\\tkaksi\\tNUM\\t_\\tCase=Par|Number=Sing|NumType=Card\\t16\\tnummod\\t_\\t_\\n14\\terilaista\\terilainen\\tADJ\\t_\\tCase=Par|Degree=Pos|Number=Sing\\t16\\tamod\\t_\\t_\\n15\\thenkilöstöhallinnan\\thenkilöstö#hallinta\\tNOUN\\t_\\tCase=Gen|Number=Sing\\t16\\tnmod:poss\\t_\\t_\\n16\\tstrategiaa\\tstrategia\\tNOUN\\t_\\tCase=Par|Number=Sing\\t12\\tdobj\\t_\\t_\\n17\\t.\\t.\\tPUNCT\\t_\\t_\\t3\\tpunct\\t_\\t_\\n</sentence>\\n</paragraph>\\n<paragraph>\\n<sentence>\\n1\\tTähän\\ttämä\\tPRON\\t_\\tCase=Ill|Number=Sing|PronType=Dem\\t2\\tdet\\t_\\t_\\n2\\tilmiöön\\tilmiö\\tNOUN\\t_\\tCase=Ill|Number=Sing\\t3\\tnmod\\t_\\t_\\n3\\tliittyvien\\tliittyä\\tVERB\\t_\\tCase=Gen|Degree=Pos|Number=Plur|PartForm=Pres|VerbForm=Part|Voice=Act\\t4\\tacl\\t_\\t_\\n4\\thavaintojen\\thavainto\\tNOUN\\t_\\tCase=Gen|Number=Plur\\t5\\tnmod:poss\\t_\\t_\\n5\\tpohjalta\\tpohja\\tNOUN\\t_\\tCase=Abl|Number=Sing\\t8\\tnmod\\t_\\t_\\n6\\tAtkinson\\tAtkinson\\tPROPN\\t_\\tCase=Nom|Number=Sing\\t8\\tnsubj\\t_\\t_\\n7\\ton\\tolla\\tAUX\\t_\\tMood=Ind|Number=Sing|Person=3|Tense=Pres|VerbForm=Fin|Voice=Act\\t8\\taux\\t_\\t_\\n8\\tkehittänyt\\tkehittää\\tVERB\\t_\\tCase=Nom|Degree=Pos|Number=Sing|PartForm=Past|VerbForm=Part|Voice=Act\\t0\\troot\\t_\\t_\\n9\\tjoustavan\\tjoustava\\tADJ\\t_\\tCase=Gen|Degree=Pos|Number=Sing\\t10\\tamod\\t_\\t_\\n10\\tyrityksen\\tyritys\\tNOUN\\t_\\tCase=Gen|Number=Sing\\t11\\tnmod:poss\\t_\\t_\\n11\\tmallin\\tmalli\\tNOUN\\t_\\tCase=Gen|Number=Sing\\t8\\tdobj\\t_\\t_\\n12\\t.\\t.\\tPUNCT\\t_\\t_\\t8\\tpunct\\t_\\t_\\n</sentence>\\n<sentence>\\n1\\tMallin\\tmalli\\tNOUN\\t_\\tCase=Gen|Number=Sing\\t2\\tnmod:poss\\t_\\t_\\n2\\tydin\\tydin\\tNOUN\\t_\\tCase=Nom|Number=Sing\\t3\\tnsubj\\t_\\t_\\n3\\tkoostuu\\tkoostua\\tVERB\\t_\\tMood=Ind|Number=Sing|Person=3|Tense=Pres|VerbForm=Fin|Voice=Act\\t0\\troot\\t_\\t_\\n4\\tpitkäaikaisissa\\tpitkä#aikainen\\tADJ\\t_\\tCase=Ine|Degree=Pos|Number=Plur\\t7\\tamod\\t_\\t_\\n5\\tja\\tja\\tCONJ\\t_\\t_\\t4\\tcc\\t_\\t_\\n6\\tpysyvissä\\tpysyvä\\tADJ\\t_\\tCase=Ine|Degree=Pos|Number=Plur\\t4\\tconj\\t_\\t_\\n7\\ttyösuhteissa\\ttyö#suhde\\tNOUN\\t_\\tCase=Ine|Number=Plur\\t8\\tnmod\\t_\\t_\\n8\\tolevista\\tolla\\tVERB\\t_\\tCase=Ela|Degree=Pos|Number=Plur|PartForm=Pres|VerbForm=Part|Voice=Act\\t11\\tacl\\t_\\t_\\n9\\t,\\t,\\tPUNCT\\t_\\t_\\t11\\tpunct\\t_\\t_\\n10\\ttaitavista\\ttaitava\\tADJ\\t_\\tCase=Ela|Degree=Pos|Number=Plur\\t11\\tamod\\t_\\t_\\n11\\ttyöntekijöistä\\ttyöntekijä\\tNOUN\\t_\\tCase=Ela|Number=Plur\\t3\\tnmod\\t_\\t_\\n12\\t,\\t,\\tPUNCT\\t_\\t_\\t11\\tpunct\\t_\\t_\\n13\\tsuunnittelijoista\\tsuunnittelija\\tNOUN\\t_\\tCase=Ela|Number=Plur\\t11\\tconj\\t_\\t_\\n14\\t,\\t,\\tPUNCT\\t_\\t_\\t11\\tpunct\\t_\\t_\\n15\\tjohtajista\\tjohtaja\\tNOUN\\t_\\tCase=Ela|Number=Plur\\t11\\tconj\\t_\\t_\\n16\\tjne\\tjne\\tADV\\t_\\tAbbr=Yes\\t15\\tadvmod\\t_\\t_\\n17\\t.\\t.\\tPUNCT\\t_\\t_\\t3\\tpunct\\t_\\t_\\n</sentence>\\n<sentence>\\n1\\tHeidän\\thän\\tPRON\\t_\\tCase=Gen|Number=Plur|Person=3|PronType=Prs\\t2\\tnmod:poss\\t_\\t_\\n2\\ttyösuhteensa\\ttyö#suhde\\tNOUN\\t_\\tCase=Gen|Number=Sing|Person[psor]=3\\t3\\tnmod:poss\\t_\\t_\\n3\\tyritykseen\\tyritys\\tNOUN\\t_\\tCase=Ill|Number=Sing\\t5\\tnmod\\t_\\t_\\n4\\ton\\tolla\\tVERB\\t_\\tMood=Ind|Number=Sing|Person=3|Tense=Pres|VerbForm=Fin|Voice=Act\\t5\\tcop\\t_\\t_\\n5\\tturvallinen\\tturvallinen\\tADJ\\t_\\tCase=Nom|Degree=Pos|Number=Sing\\t0\\troot\\t_\\t_\\n6\\t,\\t,\\tPUNCT\\t_\\t_\\t5\\tpunct\\t_\\t_\\n7\\tmutta\\tmutta\\tCONJ\\t_\\t_\\t5\\tcc\\t_\\t_\\n8\\ttyönkuva\\ttyönkuva\\tNOUN\\t_\\tCase=Nom|Number=Sing\\t12\\tnsubj\\t_\\t_\\n9\\tja\\tja\\tCONJ\\t_\\t_\\t8\\tcc\\t_\\t_\\n10\\tprojektit\\tprojekti\\tNOUN\\t_\\tCase=Nom|Number=Plur\\t8\\tconj\\t_\\t_\\n11\\tsaattavat\\tsaattaa\\tAUX\\t_\\tMood=Ind|Number=Plur|Person=3|Tense=Pres|VerbForm=Fin|Voice=Act\\t12\\taux\\t_\\t_\\n12\\tmuuttua\\tmuuttua\\tVERB\\t_\\tInfForm=1|Number=Sing|VerbForm=Inf|Voice=Act\\t5\\tconj\\t_\\t_\\n13\\tmonia\\tmoni\\tPRON\\t_\\tCase=Par|Number=Plur|PronType=Ind\\t14\\tdet\\t_\\t_\\n14\\tkertoja\\tkerta\\tNOUN\\t_\\tCase=Par|Number=Plur\\t12\\tdobj\\t_\\t_\\n15\\ttyösuhteen\\ttyö#suhde\\tNOUN\\t_\\tCase=Gen|Number=Sing\\t16\\tnmod:poss\\t_\\t_\\n16\\taikana\\taika\\tNOUN\\t_\\tCase=Ess|Number=Sing\\t12\\tnmod\\t_\\t_\\n17\\t.\\t.\\tPUNCT\\t_\\t_\\t5\\tpunct\\t_\\t_\\n</sentence>\\n<sentence>\\n1\\tReunaryhmän\\treuna#ryhmä\\tNOUN\\t_\\tCase=Gen|Number=Sing\\t2\\tnmod:poss\\t_\\t_\\n2\\ttyöntekijöiden\\ttyöntekijä\\tNOUN\\t_\\tCase=Gen|Number=Plur\\t3\\tnmod:poss\\t_\\t_\\n3\\ttyösuhteet\\ttyö#suhde\\tNOUN\\t_\\tCase=Nom|Number=Plur\\t6\\tnsubj:cop\\t_\\t_\\n4\\tovat\\tolla\\tVERB\\t_\\tMood=Ind|Number=Plur|Person=3|Tense=Pres|VerbForm=Fin|Voice=Act\\t6\\tcop\\t_\\t_\\n5\\tmyös\\tmyös\\tADV\\t_\\t_\\t6\\tadvmod\\t_\\t_\\n6\\tsäännöllisiä\\tsäännöllinen\\tADJ\\t_\\tCase=Par|Degree=Pos|Number=Plur\\t0\\troot\\t_\\t_\\n7\\t,\\t,\\tPUNCT\\t_\\t_\\t6\\tpunct\\t_\\t_\\n8\\tmutta\\tmutta\\tCONJ\\t_\\t_\\t6\\tcc\\t_\\t_\\n9\\tirtisanomisen\\tirtisanoa\\tNOUN\\t_\\tCase=Gen|Derivation=Minen|Number=Sing\\t10\\tnmod:poss\\t_\\t_\\n10\\tvaara\\tvaara\\tNOUN\\t_\\tCase=Nom|Number=Sing\\t12\\tnsubj:cop\\t_\\t_\\n11\\ton\\tolla\\tVERB\\t_\\tMood=Ind|Number=Sing|Person=3|Tense=Pres|VerbForm=Fin|Voice=Act\\t12\\tcop\\t_\\t_\\n12\\tsuurempi\\tsuuri\\tADJ\\t_\\tCase=Nom|Degree=Cmp|Number=Sing\\t6\\tconj\\t_\\t_\\n13\\tja\\tja\\tCONJ\\t_\\t_\\t6\\tcc\\t_\\t_\\n14\\turakehityksen\\tura#kehitys\\tNOUN\\t_\\tCase=Gen|Number=Sing\\t15\\tnmod:poss\\t_\\t_\\n15\\tmahdollisuudet\\tmahdollisuus\\tNOUN\\t_\\tCase=Nom|Number=Plur\\t16\\tnsubj:cop\\t_\\t_\\n16\\tpienemmät\\tpieni\\tADJ\\t_\\tCase=Nom|Degree=Cmp|Number=Plur\\t6\\tconj\\t_\\t_\\n17\\t.\\t.\\tPUNCT\\t_\\t_\\t6\\tpunct\\t_\\t_\\n</sentence>\\n<sentence>\\n1\\tReunaryhmään\\treuna#ryhmä\\tNOUN\\t_\\tCase=Ill|Number=Sing\\t2\\tnmod\\t_\\t_\\n2\\tkohdistuvat\\tkohdistua\\tVERB\\t_\\tMood=Ind|Number=Plur|Person=3|Tense=Pres|VerbForm=Fin|Voice=Act\\t0\\troot\\t_\\t_\\n3\\thenkilöstöhallinnon\\thenkilöstö#hallinto\\tNOUN\\t_\\tCase=Gen|Number=Sing\\t4\\tnmod:poss\\t_\\t_\\n4\\ttoimenpiteet\\ttoimen#pide\\tNOUN\\t_\\tCase=Nom|Number=Plur\\t8\\tnsubj:cop\\t_\\t_\\n5\\tovat\\tolla\\tVERB\\t_\\tMood=Ind|Number=Plur|Person=3|Tense=Pres|VerbForm=Fin|Voice=Act\\t8\\tcop\\t_\\t_\\n6\\tusein\\tusein\\tADV\\t_\\t_\\t8\\tadvmod\\t_\\t_\\n7\\tvähemmän\\tvähemmän\\tADV\\t_\\t_\\t8\\tadvmod\\t_\\t_\\n8\\tmotivoivia\\tmotivoida\\tADJ\\t_\\tCase=Par|Degree=Pos|Number=Plur\\t2\\tnsubj\\t_\\t_\\n9\\tja\\tja\\tCONJ\\t_\\t_\\t8\\tcc\\t_\\t_\\n10\\tenemmän\\tenemmän\\tADV\\t_\\t_\\t11\\tadvmod\\t_\\t_\\n11\\tfordistisia\\tfordistisia\\tADJ\\t_\\tCase=Par|Degree=Pos|Number=Plur\\t8\\tconj\\t_\\t_\\n12\\t.\\t.\\tPUNCT\\t_\\t_\\t2\\tpunct\\t_\\t_\\n</sentence>\\n<sentence>\\n1\\tTärkeitä\\ttärkeä\\tADJ\\t_\\tCase=Par|Degree=Pos|Number=Plur\\t3\\tamod\\t_\\t_\\n2\\tjouston\\tjousto\\tNOUN\\t_\\tCase=Gen|Number=Sing\\t3\\tnmod:poss\\t_\\t_\\n3\\tmekanismeja\\tmekanismi\\tNOUN\\t_\\tCase=Par|Number=Plur\\t6\\tnsubj:cop\\t_\\t_\\n4\\tovat\\tolla\\tVERB\\t_\\tMood=Ind|Number=Plur|Person=3|Tense=Pres|VerbForm=Fin|Voice=Act\\t6\\tcop\\t_\\t_\\n5\\tmyös\\tmyös\\tADV\\t_\\t_\\t6\\tadvmod\\t_\\t_\\n6\\talihankinta\\tali#hankinta\\tNOUN\\t_\\tCase=Nom|Number=Sing\\t0\\troot\\t_\\t_\\n7\\t,\\t,\\tPUNCT\\t_\\t_\\t6\\tpunct\\t_\\t_\\n8\\tulkoistaminen\\tulkoistaa\\tNOUN\\t_\\tCase=Nom|Derivation=Minen|Number=Sing\\t6\\tconj\\t_\\t_\\n9\\tja\\tja\\tCONJ\\t_\\t_\\t6\\tcc\\t_\\t_\\n10\\tvuokratyövoiman\\tvuokra#työ#voima\\tNOUN\\t_\\tCase=Gen|Number=Sing\\t11\\tnmod:gobj\\t_\\t_\\n11\\tkäyttö\\tkäyttö\\tNOUN\\t_\\tCase=Nom|Number=Sing\\t6\\tconj\\t_\\t_\\n12\\t.\\t.\\tPUNCT\\t_\\t_\\t6\\tpunct\\t_\\t_\\n</sentence>\\n</paragraph>\\n<paragraph>\\n<sentence>\\n1\\tJoustavuutta\\tjoustavuus\\tNOUN\\t_\\tCase=Par|Number=Sing\\t4\\tdobj\\t_\\t_\\n2\\tvoidaan\\tvoida\\tAUX\\t_\\tMood=Ind|Tense=Pres|VerbForm=Fin|Voice=Pass\\t4\\taux\\t_\\t_\\n3\\tmyös\\tmyös\\tADV\\t_\\t_\\t4\\tadvmod\\t_\\t_\\n4\\tsoveltaa\\tsoveltaa\\tVERB\\t_\\tInfForm=1|Number=Sing|VerbForm=Inf|Voice=Act\\t0\\troot\\t_\\t_\\n5\\tesimerkiksi\\tesimerkiksi\\tADV\\t_\\t_\\t9\\tadvmod\\t_\\t_\\n6\\ttyöttömyysvakuutuksen\\ttyöttömyys#vakuutus\\tNOUN\\t_\\tCase=Gen|Number=Sing\\t7\\tnmod:poss\\t_\\t_\\n7\\tpiirissä\\tpiiri\\tNOUN\\t_\\tCase=Ine|Number=Sing\\t8\\tnmod\\t_\\t_\\n8\\tolevissa\\tolla\\tVERB\\t_\\tCase=Ine|Degree=Pos|Number=Plur|PartForm=Pres|VerbForm=Part|Voice=Act\\t9\\tacl\\t_\\t_\\n9\\ttyöttömyyskorvauksissa\\ttyöttömyys#korvaus\\tNOUN\\t_\\tCase=Ine|Number=Plur\\t4\\tnmod\\t_\\t_\\n10\\t.\\t.\\tPUNCT\\t_\\t_\\t4\\tpunct\\t_\\t_\\n</sentence>\\n<sentence>\\n1\\tEsimerkiksi\\tesimerkiksi\\tADV\\t_\\t_\\t4\\tadvmod\\t_\\t_\\n2\\tansiosidonnaisen\\tansio#sidonnainen\\tADJ\\t_\\tCase=Gen|Degree=Pos|Number=Sing\\t3\\tamod\\t_\\t_\\n3\\ttyöttömyyskorvauksen\\ttyöttömyys#korvaus\\tNOUN\\t_\\tCase=Gen|Number=Sing\\t4\\tnmod:poss\\t_\\t_\\n4\\tjoustavuus\\tjoustavuus\\tNOUN\\t_\\tCase=Nom|Number=Sing\\t6\\tdobj\\t_\\t_\\n5\\tvoidaan\\tvoida\\tAUX\\t_\\tMood=Ind|Tense=Pres|VerbForm=Fin|Voice=Pass\\t6\\taux\\t_\\t_\\n6\\ttoteuttaa\\ttoteuttaa\\tVERB\\t_\\tInfForm=1|Number=Sing|VerbForm=Inf|Voice=Act\\t0\\troot\\t_\\t_\\n7\\tpienentämällä\\tpienentää\\tVERB\\t_\\tCase=Ade|InfForm=3|Number=Sing|VerbForm=Inf|Voice=Act\\t6\\tadvcl\\t_\\t_\\n8\\ttyöttömyyskorvauksen\\ttyöttömyys#korvaus\\tNOUN\\t_\\tCase=Gen|Number=Sing\\t9\\tnmod:poss\\t_\\t_\\n9\\tmäärää\\tmäärä\\tNOUN\\t_\\tCase=Par|Number=Sing\\t7\\tdobj\\t_\\t_\\n10\\tsekä\\tsekä\\tCONJ\\t_\\t_\\t7\\tcc\\t_\\t_\\n11\\tlyhentämällä\\tlyhentää\\tVERB\\t_\\tCase=Ade|InfForm=3|Number=Sing|VerbForm=Inf|Voice=Act\\t7\\tconj\\t_\\t_\\n12\\tsen\\tse\\tPRON\\t_\\tCase=Gen|Number=Sing|PronType=Dem\\t13\\tnmod:poss\\t_\\t_\\n13\\tsaantiaikaa\\tsaanti#aika\\tNOUN\\t_\\tCase=Par|Number=Sing\\t11\\tdobj\\t_\\t_\\n14\\t.\\t.\\tPUNCT\\t_\\t_\\t6\\tpunct\\t_\\t_\\n</sentence>\\n<sentence>\\n1\\tTyöttömyyskorvauksissa\\ttyöttömyys#korvaus\\tNOUN\\t_\\tCase=Ine|Number=Plur\\t3\\tnmod\\t_\\t_\\n2\\tjoustaminen\\tjoustaa\\tNOUN\\t_\\tCase=Nom|Derivation=Minen|Number=Sing\\t3\\tnsubj\\t_\\t_\\n3\\tperustuu\\tperustua\\tVERB\\t_\\tMood=Ind|Number=Sing|Person=3|Tense=Pres|VerbForm=Fin|Voice=Act\\t0\\troot\\t_\\t_\\n4\\tideaan\\tidea\\tNOUN\\t_\\tCase=Ill|Number=Sing\\t3\\tnmod\\t_\\t_\\n5\\t,\\t,\\tPUNCT\\t_\\t_\\t8\\tpunct\\t_\\t_\\n6\\tettä\\tettä\\tSCONJ\\t_\\t_\\t8\\tmark\\t_\\t_\\n7\\ttyötön\\ttyötön\\tADJ\\t_\\tCase=Nom|Degree=Pos|Number=Sing\\t8\\tnsubj\\t_\\t_\\n8\\thakeutuisi\\thakeutua\\tVERB\\t_\\tMood=Cnd|Number=Sing|Person=3|VerbForm=Fin|Voice=Act\\t3\\tadvcl\\t_\\t_\\n9\\ttöihin\\ttyö\\tNOUN\\t_\\tCase=Ill|Number=Plur\\t8\\tnmod\\t_\\t_\\n10\\t,\\t,\\tPUNCT\\t_\\t_\\t14\\tpunct\\t_\\t_\\n11\\tmikäli\\tmikäli\\tSCONJ\\t_\\t_\\t14\\tmark\\t_\\t_\\n12\\thän\\thän\\tPRON\\t_\\tCase=Nom|Number=Sing|Person=3|PronType=Prs\\t14\\tnsubj\\t_\\t_\\n13\\tei\\tei\\tVERB\\t_\\tNegative=Yes|Number=Sing|Person=3|VerbForm=Fin|Voice=Act\\t14\\tneg\\t_\\t_\\n14\\tsaa\\tsaada\\tVERB\\t_\\tConnegative=Yes|Mood=Ind|Tense=Pres|VerbForm=Fin\\t8\\tccomp\\t_\\t_\\n15\\ttoimeentuloonsa\\ttoimeentulo\\tNOUN\\t_\\tCase=Ill|Number=Sing|Person[psor]=3\\t14\\tnmod\\t_\\t_\\n16\\triittävää\\triittävä\\tADJ\\t_\\tCase=Par|Degree=Pos|Number=Sing\\t17\\tamod\\t_\\t_\\n17\\ttyöttömyyskorvausta\\ttyöttömyys#korvaus\\tNOUN\\t_\\tCase=Par|Number=Sing\\t14\\tdobj\\t_\\t_\\n18\\t.\\t.\\tPUNCT\\t_\\t_\\t3\\tpunct\\t_\\t_\\n</sentence>\\n<sentence>\\n1\\tTämä\\ttämä\\tPRON\\t_\\tCase=Nom|Number=Sing|PronType=Dem\\t3\\tnsubj\\t_\\t_\\n2\\ttosin\\ttosin\\tADV\\t_\\t_\\t3\\tadvmod\\t_\\t_\\n3\\tvaikeuttaa\\tvaikeuttaa\\tVERB\\t_\\tMood=Ind|Number=Sing|Person=3|Tense=Pres|VerbForm=Fin|Voice=Act\\t0\\troot\\t_\\t_\\n4\\tniiden\\tse\\tPRON\\t_\\tCase=Gen|Number=Plur|PronType=Dem\\t5\\tnmod:poss\\t_\\t_\\n5\\tasemaa\\tasema\\tNOUN\\t_\\tCase=Par|Number=Sing\\t3\\tdobj\\t_\\t_\\n6\\t,\\t,\\tPUNCT\\t_\\t_\\t11\\tpunct\\t_\\t_\\n7\\tjotka\\tjoka\\tPRON\\t_\\tCase=Nom|Number=Plur|PronType=Rel\\t11\\tnsubj\\t_\\t_\\n8\\teivät\\tei\\tVERB\\t_\\tNegative=Yes|Number=Plur|Person=3|VerbForm=Fin|Voice=Act\\t11\\tneg\\t_\\t_\\n9\\tyrityksistä\\tyritys\\tNOUN\\t_\\tCase=Ela|Number=Plur\\t11\\tnmod\\t_\\t_\\n10\\thuolimatta\\thuolimatta\\tADP\\t_\\tAdpType=Post\\t9\\tcase\\t_\\t_\\n11\\tsaa\\tsaada\\tVERB\\t_\\tMood=Ind|Number=Sing|Person=3|Tense=Pres|VerbForm=Fin|Voice=Act\\t5\\tacl:relcl\\t_\\t_\\n12\\ttöitä\\ttyö\\tNOUN\\t_\\tCase=Par|Number=Plur\\t11\\tdobj\\t_\\t_\\n13\\t.\\t.\\tPUNCT\\t_\\t_\\t3\\tpunct\\t_\\t_\\n</sentence>\\n</paragraph>\\n<paragraph>\\n<sentence>\\n1\\tVuonna\\tvuosi\\tNOUN\\t_\\tCase=Ess|Number=Sing\\t5\\tnmod\\t_\\t_\\n2\\t2015\\t2015\\tNUM\\t_\\tNumType=Card\\t1\\tnummod\\t_\\t_\\n3\\tSuomessa\\tSuomi\\tPROPN\\t_\\tCase=Ine|Number=Sing\\t5\\tnmod\\t_\\t_\\n4\\ton\\tolla\\tAUX\\t_\\tMood=Ind|Number=Sing|Person=3|Tense=Pres|VerbForm=Fin|Voice=Act\\t5\\tauxpass\\t_\\t_\\n5\\talettu\\talkaa\\tVERB\\t_\\tCase=Nom|Degree=Pos|Number=Sing|PartForm=Past|VerbForm=Part|Voice=Pass\\t0\\troot\\t_\\t_\\n6\\tajamaan\\tajaa\\tVERB\\t_\\tCase=Ill|InfForm=3|Number=Sing|VerbForm=Inf|Voice=Act\\t5\\txcomp\\t_\\t_\\n7\\tjoustavuusideaa\\tjoustavuus#idea\\tNOUN\\t_\\tCase=Par|Number=Sing\\t6\\tdobj\\t_\\t_\\n8\\t,\\t,\\tPUNCT\\t_\\t_\\t18\\tpunct\\t_\\t_\\n9\\tjonka\\tjoka\\tPRON\\t_\\tCase=Gen|Number=Sing|PronType=Rel\\t18\\tnmod\\t_\\t_\\n10\\tmukaan\\tmukaan\\tADP\\t_\\tAdpType=Post\\t9\\tcase\\t_\\t_\\n11\\tkorvaus\\tkorvaus\\tNOUN\\t_\\tCase=Nom|Number=Sing\\t18\\tnsubj:cop\\t_\\t_\\n12\\tvoisi\\tvoida\\tAUX\\t_\\tMood=Cnd|Number=Sing|Person=3|VerbForm=Fin|Voice=Act\\t18\\taux\\t_\\t_\\n13\\taluksi\\taluksi\\tADV\\t_\\t_\\t18\\tadvmod\\t_\\t_\\n14\\tolla\\tolla\\tVERB\\t_\\tInfForm=1|Number=Sing|VerbForm=Inf|Voice=Act\\t18\\tcop\\t_\\t_\\n15\\tlyhytaikaisesti\\tlyhyt#aikainen\\tADV\\t_\\tDerivation=Sti\\t18\\tadvmod\\t_\\t_\\n16\\ttyöttömille\\ttyötön\\tADJ\\t_\\tCase=All|Degree=Pos|Number=Plur\\t18\\tnmod\\t_\\t_\\n17\\tjopa\\tjopa\\tADV\\t_\\t_\\t18\\tadvmod\\t_\\t_\\n18\\tkorkeampi\\tkorkea\\tADJ\\t_\\tCase=Nom|Degree=Cmp|Number=Sing\\t7\\tacl:relcl\\t_\\t_\\n19\\tkuin\\tkuin\\tSCONJ\\t_\\t_\\t20\\tmark\\t_\\t_\\n20\\tnyt\\tnyt\\tADV\\t_\\t_\\t18\\tadvcl\\t_\\t_\\n21\\t,\\t,\\tPUNCT\\t_\\t_\\t18\\tpunct\\t_\\t_\\n22\\tmutta\\tmutta\\tCONJ\\t_\\t_\\t18\\tcc\\t_\\t_\\n23\\tpitkäaikaistyöttömän\\tpitkä#aikainen#työtön\\tADJ\\t_\\tCase=Gen|Degree=Pos|Number=Sing\\t24\\tamod\\t_\\t_\\n24\\tasemaa\\tasema\\tNOUN\\t_\\tCase=Par|Number=Sing\\t25\\tdobj\\t_\\t_\\n25\\theikennettäisiin\\theikentää\\tVERB\\t_\\tMood=Cnd|VerbForm=Fin|Voice=Pass\\t18\\tconj\\t_\\t_\\n26\\tentisestään\\tentisestään\\tADV\\t_\\t_\\t25\\tadvmod\\t_\\t_\\n27\\tkorvauksen\\tkorvaus\\tNOUN\\t_\\tCase=Gen|Number=Sing\\t28\\tnsubj\\t_\\t_\\n28\\talentuessa\\talentua\\tVERB\\t_\\tCase=Ine|InfForm=2|Number=Sing|VerbForm=Inf|Voice=Act\\t25\\tadvcl\\t_\\t_\\n29\\t.\\t.\\tPUNCT\\t_\\t_\\t5\\tpunct\\t_\\t_\\n</sentence>\\n<sentence>\\n1\\tTätä\\ttämä\\tPRON\\t_\\tCase=Par|Number=Sing|PronType=Dem\\t2\\tdet\\t_\\t_\\n2\\tjärjestelmää\\tjärjestelmä\\tNOUN\\t_\\tCase=Par|Number=Sing\\t3\\tdobj\\t_\\t_\\n3\\tkutsutaan\\tkutsua\\tVERB\\t_\\tMood=Ind|Tense=Pres|VerbForm=Fin|Voice=Pass\\t0\\troot\\t_\\t_\\n4\\tmyös\\tmyös\\tADV\\t_\\t_\\t7\\tadvmod\\t_\\t_\\n5\\tns.\\tns.\\tADV\\t_\\tAbbr=Yes\\t6\\tadvmod\\t_\\t_\\n6\\tkannustavaksi\\tkannustaa\\tVERB\\t_\\tCase=Tra|Degree=Pos|Number=Sing|PartForm=Pres|VerbForm=Part|Voice=Act\\t7\\tacl\\t_\\t_\\n7\\tjärjestelmäksi\\tjärjestelmä\\tNOUN\\t_\\tCase=Tra|Number=Sing\\t3\\txcomp:ds\\t_\\t_\\n8\\t.\\t.\\tPUNCT\\t_\\t_\\t3\\tpunct\\t_\\t_\\n</sentence>\\n<sentence>\\n1\\tYleensä\\tyleensä\\tADV\\t_\\t_\\t5\\tadvmod\\t_\\t_\\n2\\tjoustavuutta\\tjoustavuus\\tNOUN\\t_\\tCase=Par|Number=Sing\\t5\\tdobj\\t_\\t_\\n3\\tja\\tja\\tCONJ\\t_\\t_\\t2\\tcc\\t_\\t_\\n4\\tkannustavuutta\\tkannustaa\\tNOUN\\t_\\tCase=Par|Derivation=Vs|Number=Sing\\t2\\tconj\\t_\\t_\\n5\\tajavat\\tajaa\\tVERB\\t_\\tMood=Ind|Number=Plur|Person=3|Tense=Pres|VerbForm=Fin|Voice=Act\\t0\\troot\\t_\\t_\\n6\\ttyönantajapuolen\\ttyönantajapuoli\\tNOUN\\t_\\tCase=Gen|Number=Sing\\t7\\tnmod:poss\\t_\\t_\\n7\\tedustajat\\tedustaja\\tNOUN\\t_\\tCase=Nom|Number=Plur\\t5\\tnsubj\\t_\\t_\\n8\\t,\\t,\\tPUNCT\\t_\\t_\\t12\\tpunct\\t_\\t_\\n9\\tkun\\tkun\\tADV\\t_\\t_\\t12\\tmark\\t_\\t_\\n10\\ttaas\\ttaas\\tSCONJ\\t_\\t_\\t9\\tmwe\\t_\\t_\\n11\\tAY-liike\\tAY-liike\\tPROPN\\t_\\tCase=Nom|Number=Sing\\t12\\tnsubj\\t_\\t_\\n12\\tvastustaa\\tvastustaa\\tVERB\\t_\\tMood=Ind|Number=Sing|Person=3|Tense=Pres|VerbForm=Fin|Voice=Act\\t5\\tadvcl\\t_\\t_\\n13\\ttyöntekijän\\ttyöntekijä\\tNOUN\\t_\\tCase=Gen|Number=Sing\\t14\\tnmod:poss\\t_\\t_\\n14\\taseman\\tasema\\tNOUN\\t_\\tCase=Gen|Number=Sing\\t15\\tnmod:gobj\\t_\\t_\\n15\\theikentämistä\\theikentää\\tNOUN\\t_\\tCase=Par|Derivation=Minen|Number=Sing\\t12\\tdobj\\t_\\t_\\n16\\t.\\t.\\tPUNCT\\t_\\t_\\t5\\tpunct\\t_\\t_\\n</sentence>\\n</paragraph>\\n'}, 'ilmastonmuutos': {'id': '154424', 'url': 'https://fi.wikipedia.org/wiki?curid=154424', 'content': '\\n<paragraph>\\n<sentence>\\n1\\tIlmastonmuutos\\tilmasto#muutos\\tNOUN\\t_\\tCase=Nom|Number=Sing\\t0\\troot\\t_\\t_\\n</sentence>\\n</paragraph>\\n<paragraph>\\n<sentence>\\n1\\tYleiskielessä\\tyleis#kieli\\tNOUN\\t_\\tCase=Ine|Number=Sing\\t5\\tnmod\\t_\\t_\\n2\\tkäsitteellä\\tkäsite\\tNOUN\\t_\\tCase=Ade|Number=Sing\\t3\\tnmod\\t_\\t_\\n3\\t\"ilmastonmuutos\\t\"ilmastonmuutos\\tNOUN\\t_\\tCase=Nom|Number=Sing\\t5\\tdobj\\t_\\t_\\n4\\t\"\\t\"\\tPUNCT\\t_\\t_\\t3\\tpunct\\t_\\t_\\n5\\ttarkoitetaan\\ttarkoittaa\\tVERB\\t_\\tMood=Ind|Tense=Pres|VerbForm=Fin|Voice=Pass\\t0\\troot\\t_\\t_\\n6\\tnykyistä\\tnykyinen\\tADJ\\t_\\tCase=Par|Degree=Pos|Number=Sing\\t7\\tamod\\t_\\t_\\n7\\tihmisen\\tihminen\\tNOUN\\t_\\tCase=Gen|Number=Sing\\t8\\tnmod:gsubj\\t_\\t_\\n8\\ttoiminnasta\\ttoiminta\\tNOUN\\t_\\tCase=Ela|Number=Sing\\t9\\tnmod\\t_\\t_\\n9\\tjohtuvaa\\tjohtua\\tVERB\\t_\\tCase=Par|Degree=Pos|Number=Sing|PartForm=Pres|VerbForm=Part|Voice=Act\\t17\\tacl\\t_\\t_\\n10\\t,\\t,\\tPUNCT\\t_\\t_\\t9\\tpunct\\t_\\t_\\n11\\tilmakehän\\tilma#kehä\\tNOUN\\t_\\tCase=Gen|Number=Sing\\t13\\tnmod:poss\\t_\\t_\\n12\\tlisääntyvästä\\tlisääntyä\\tVERB\\t_\\tCase=Ela|Degree=Pos|Number=Sing|PartForm=Pres|VerbForm=Part|Voice=Act\\t13\\tacl\\t_\\t_\\n13\\tkasvihuonekaasupitoisuudesta\\tkasvi#huone#kaasu#pitoisuus\\tNOUN\\t_\\tCase=Ela|Number=Sing\\t14\\tnmod\\t_\\t_\\n14\\taiheutuvaa\\taihe#utua\\tVERB\\t_\\tCase=Par|Degree=Pos|Number=Sing|PartForm=Pres|VerbForm=Part|Voice=Act\\t9\\tconj\\t_\\t_\\n15\\tglobaalia\\tglobaali\\tADJ\\t_\\tCase=Par|Degree=Pos|Number=Sing\\t17\\tamod\\t_\\t_\\n16\\tilmaston\\tilmasto\\tNOUN\\t_\\tCase=Gen|Number=Sing\\t17\\tnmod:gsubj\\t_\\t_\\n17\\tlämpenemistä\\tlämmetä\\tNOUN\\t_\\tCase=Par|Derivation=Minen|Number=Sing\\t5\\tdobj\\t_\\t_\\n18\\t,\\t,\\tPUNCT\\t_\\t_\\t20\\tpunct\\t_\\t_\\n19\\tjota\\tjoka\\tPRON\\t_\\tCase=Par|Number=Sing|PronType=Rel\\t20\\tdobj\\t_\\t_\\n20\\tkäsitellään\\tkäsitellä\\tVERB\\t_\\tMood=Ind|Tense=Pres|VerbForm=Fin|Voice=Pass\\t17\\tacl:relcl\\t_\\t_\\n21\\tomassa\\toma\\tADJ\\t_\\tCase=Ine|Degree=Pos|Number=Sing\\t22\\tamod\\t_\\t_\\n22\\tIlmaston\\tilmasto\\tNOUN\\t_\\tCase=Gen|Number=Sing\\t23\\tnmod:gsubj\\t_\\t_\\n23\\tlämpeneminen\\tlämmetä\\tNOUN\\t_\\tCase=Nom|Derivation=Minen|Number=Sing\\t20\\tdobj\\t_\\t_\\n24\\t-nimisessä\\tniminen\\tADJ\\t_\\tCase=Ine|Degree=Pos|Number=Sing\\t25\\tamod\\t_\\t_\\n25\\tartikkelissaan\\tartikkeli\\tNOUN\\t_\\tCase=Ine|Number=Sing|Person[psor]=3\\t23\\tnmod\\t_\\t_\\n26\\t.\\t.\\tPUNCT\\t_\\t_\\t5\\tpunct\\t_\\t_\\n</sentence>\\n<sentence>\\n1\\tTämä\\ttämä\\tPRON\\t_\\tCase=Nom|Number=Sing|PronType=Dem\\t2\\tdet\\t_\\t_\\n2\\tartikkeli\\tartikkeli\\tNOUN\\t_\\tCase=Nom|Number=Sing\\t4\\tnsubj:cop\\t_\\t_\\n3\\ton\\tolla\\tVERB\\t_\\tMood=Ind|Number=Sing|Person=3|Tense=Pres|VerbForm=Fin|Voice=Act\\t4\\tcop\\t_\\t_\\n4\\tyleiskatsaus\\tyleis#katsaus\\tNOUN\\t_\\tCase=Nom|Number=Sing\\t0\\troot\\t_\\t_\\n5\\tkaikista\\tkaikki\\tPRON\\t_\\tCase=Ela|Number=Plur|PronType=Ind\\t11\\tdet\\t_\\t_\\n6\\tpaikalliseen\\tpaikallinen\\tADJ\\t_\\tCase=Ill|Degree=Pos|Number=Sing\\t9\\tamod\\t_\\t_\\n7\\tja\\tja\\tCONJ\\t_\\t_\\t6\\tcc\\t_\\t_\\n8\\tmaailmanlaajuiseen\\tmaa#ilman#laajuinen\\tADJ\\t_\\tCase=Ill|Degree=Pos|Number=Sing\\t6\\tconj\\t_\\t_\\n9\\tilmastoon\\tilmasto\\tNOUN\\t_\\tCase=Ill|Number=Sing\\t10\\tnmod\\t_\\t_\\n10\\tvaikuttavista\\tvaikuttaa\\tVERB\\t_\\tCase=Ela|Degree=Pos|Number=Plur|PartForm=Pres|VerbForm=Part|Voice=Act\\t11\\tacl\\t_\\t_\\n11\\ttekijöistä\\ttekijä\\tNOUN\\t_\\tCase=Ela|Number=Plur\\t4\\tnmod\\t_\\t_\\n12\\t.\\t.\\tPUNCT\\t_\\t_\\t4\\tpunct\\t_\\t_\\n</sentence>\\n<sentence>\\n1\\tTämä\\ttämä\\tPRON\\t_\\tCase=Nom|Number=Sing|PronType=Dem\\t2\\tdet\\t_\\t_\\n2\\tartikkeli\\tartikkeli\\tNOUN\\t_\\tCase=Nom|Number=Sing\\t3\\tnsubj\\t_\\t_\\n3\\tkäsittelee\\tkäsitellä\\tVERB\\t_\\tMood=Ind|Number=Sing|Person=3|Tense=Pres|VerbForm=Fin|Voice=Act\\t0\\troot\\t_\\t_\\n4\\tmyös\\tmyös\\tADV\\t_\\t_\\t6\\tadvmod\\t_\\t_\\n5\\tilmaston\\tilmasto\\tNOUN\\t_\\tCase=Gen|Number=Sing\\t6\\tnmod:gobj\\t_\\t_\\n6\\tviilenemistä\\tviiletä\\tNOUN\\t_\\tCase=Par|Derivation=Minen|Number=Sing\\t3\\tdobj\\t_\\t_\\n7\\t.\\t.\\tPUNCT\\t_\\t_\\t3\\tpunct\\t_\\t_\\n</sentence>\\n</paragraph>\\n<paragraph>\\n<sentence>\\n1\\tIlmastonmuutos\\tilmasto#muutos\\tNOUN\\t_\\tCase=Nom|Number=Sing\\t6\\tnsubj:cop\\t_\\t_\\n2\\ton\\tolla\\tVERB\\t_\\tMood=Ind|Number=Sing|Person=3|Tense=Pres|VerbForm=Fin|Voice=Act\\t6\\tcop\\t_\\t_\\n3\\tmerkittävä\\tmerkittävä\\tADJ\\t_\\tCase=Nom|Degree=Pos|Number=Sing\\t6\\tamod\\t_\\t_\\n4\\tpitkän\\tpitkä\\tADJ\\t_\\tCase=Gen|Degree=Pos|Number=Sing\\t5\\tamod\\t_\\t_\\n5\\taikavälin\\taika#väli\\tNOUN\\t_\\tCase=Gen|Number=Sing\\t6\\tnmod:poss\\t_\\t_\\n6\\tmuutos\\tmuutos\\tNOUN\\t_\\tCase=Nom|Number=Sing\\t0\\troot\\t_\\t_\\n7\\tglobaalissa\\tglobaali\\tADJ\\t_\\tCase=Ine|Degree=Pos|Number=Sing\\t10\\tamod\\t_\\t_\\n8\\ttai\\ttai\\tCONJ\\t_\\t_\\t7\\tcc\\t_\\t_\\n9\\tpaikallisessa\\tpaikallinen\\tADJ\\t_\\tCase=Ine|Degree=Pos|Number=Sing\\t7\\tconj\\t_\\t_\\n10\\tilmastossa\\tilmasto\\tNOUN\\t_\\tCase=Ine|Number=Sing\\t6\\tnmod\\t_\\t_\\n11\\t.\\t.\\tPUNCT\\t_\\t_\\t6\\tpunct\\t_\\t_\\n</sentence>\\n<sentence>\\n1\\tMuutokset\\tmuutos\\tNOUN\\t_\\tCase=Nom|Number=Plur\\t3\\tnsubj\\t_\\t_\\n2\\tvoivat\\tvoida\\tAUX\\t_\\tMood=Ind|Number=Plur|Person=3|Tense=Pres|VerbForm=Fin|Voice=Act\\t3\\taux\\t_\\t_\\n3\\ttapahtua\\ttapahtua\\tVERB\\t_\\tInfForm=1|Number=Sing|VerbForm=Inf|Voice=Act\\t0\\troot\\t_\\t_\\n4\\tesimerkiksi\\tesimerkiksi\\tADV\\t_\\t_\\t5\\tadvmod\\t_\\t_\\n5\\tsadannoissa\\tsadanta\\tNOUN\\t_\\tCase=Ine|Number=Plur\\t3\\tnmod\\t_\\t_\\n6\\t,\\t,\\tPUNCT\\t_\\t_\\t5\\tpunct\\t_\\t_\\n7\\tlämpötiloissa\\tlämpö#tila\\tNOUN\\t_\\tCase=Ine|Number=Plur\\t5\\tconj\\t_\\t_\\n8\\tja\\tja\\tCONJ\\t_\\t_\\t5\\tcc\\t_\\t_\\n9\\ttuulikuvioissa\\ttuuli#kuvio\\tNOUN\\t_\\tCase=Ine|Number=Plur\\t5\\tconj\\t_\\t_\\n10\\t.\\t.\\tPUNCT\\t_\\t_\\t3\\tpunct\\t_\\t_\\n</sentence>\\n<sentence>\\n1\\tTarkasteltava\\ttarkastella\\tADJ\\t_\\tCase=Nom|Degree=Pos|Number=Sing\\t2\\tamod\\t_\\t_\\n2\\taikaväli\\taika#väli\\tNOUN\\t_\\tCase=Nom|Number=Sing\\t4\\tnsubj\\t_\\t_\\n3\\tvoi\\tvoida\\tAUX\\t_\\tMood=Ind|Number=Sing|Person=3|Tense=Pres|VerbForm=Fin|Voice=Act\\t4\\taux\\t_\\t_\\n4\\tvaihdella\\tvaihdella\\tVERB\\t_\\tInfForm=1|Number=Sing|VerbForm=Inf|Voice=Act\\t0\\troot\\t_\\t_\\n5\\tkymmenistä\\t#kymmeninen\\tADJ\\t_\\tCase=Par|Degree=Pos|Number=Sing\\t6\\tamod\\t_\\t_\\n6\\tvuosista\\tvuosi\\tNOUN\\t_\\tCase=Ela|Number=Plur\\t4\\tnmod\\t_\\t_\\n7\\tmiljooniin\\tmiljoona\\tNUM\\t_\\tCase=Ill|Number=Plur|NumType=Card\\t8\\tnummod\\t_\\t_\\n8\\tvuosiin\\tvuosi\\tNOUN\\t_\\tCase=Ill|Number=Plur\\t4\\tnmod\\t_\\t_\\n9\\t.\\t.\\tPUNCT\\t_\\t_\\t4\\tpunct\\t_\\t_\\n</sentence>\\n<sentence>\\n1\\tIlmastonmuutos\\tilmasto#muutos\\tNOUN\\t_\\tCase=Nom|Number=Sing\\t3\\tnsubj\\t_\\t_\\n2\\tvoi\\tvoida\\tAUX\\t_\\tMood=Ind|Number=Sing|Person=3|Tense=Pres|VerbForm=Fin|Voice=Act\\t3\\taux\\t_\\t_\\n3\\taiheutua\\taihe#utua\\tVERB\\t_\\tInfForm=1|Number=Sing|VerbForm=Inf|Voice=Act\\t0\\troot\\t_\\t_\\n4\\ttapahtumista\\ttapahtuma\\tNOUN\\t_\\tCase=Ela|Number=Plur\\t3\\tnmod\\t_\\t_\\n5\\t,\\t,\\tPUNCT\\t_\\t_\\t7\\tpunct\\t_\\t_\\n6\\tjotka\\tjoka\\tPRON\\t_\\tCase=Nom|Number=Plur|PronType=Rel\\t7\\tnsubj\\t_\\t_\\n7\\tliittyvät\\tliittyä\\tVERB\\t_\\tMood=Ind|Number=Plur|Person=3|Tense=Pres|VerbForm=Fin|Voice=Act\\t4\\tacl:relcl\\t_\\t_\\n8\\tmuun\\tmuu\\tADV\\t_\\t_\\t7\\tadvmod\\t_\\t_\\n9\\tmuassa\\tmuassa\\tADV\\t_\\t_\\t8\\tmwe\\t_\\t_\\n10\\tmerien\\tmeri\\tNOUN\\t_\\tCase=Gen|Number=Plur\\t11\\tnmod:poss\\t_\\t_\\n11\\tlämpömekanismeihin\\tlämpö#mekanismi\\tNOUN\\t_\\tCase=Ill|Number=Plur\\t7\\tnmod\\t_\\t_\\n12\\t,\\t,\\tPUNCT\\t_\\t_\\t14\\tpunct\\t_\\t_\\n13\\tmaapallon\\tmaa#pallo\\tNOUN\\t_\\tCase=Gen|Number=Sing\\t14\\tnmod:poss\\t_\\t_\\n14\\trataan\\trata\\tNOUN\\t_\\tCase=Ill|Number=Sing\\t11\\tappos\\t_\\t_\\n15\\t,\\t,\\tPUNCT\\t_\\t_\\t11\\tpunct\\t_\\t_\\n16\\tmannerlaattojen\\tmanner#laatta\\tNOUN\\t_\\tCase=Gen|Number=Plur\\t17\\tnmod:poss\\t_\\t_\\n17\\tliikkeisiin\\tliike\\tNOUN\\t_\\tCase=Ill|Number=Plur\\t11\\tconj\\t_\\t_\\n18\\t,\\t,\\tPUNCT\\t_\\t_\\t11\\tpunct\\t_\\t_\\n19\\tAuringon\\tAurinko\\tPROPN\\t_\\tCase=Gen|Number=Sing\\t20\\tnmod:poss\\t_\\t_\\n20\\taktiivisuuteen\\taktiivisuus\\tNOUN\\t_\\tCase=Ill|Number=Sing\\t11\\tconj\\t_\\t_\\n21\\t,\\t,\\tPUNCT\\t_\\t_\\t11\\tpunct\\t_\\t_\\n22\\tvulkaaniseen\\tvulkaaninen\\tADJ\\t_\\tCase=Ill|Degree=Pos|Number=Sing\\t23\\tamod\\t_\\t_\\n23\\ttoimintaan\\ttoiminta\\tNOUN\\t_\\tCase=Ill|Number=Sing\\t11\\tconj\\t_\\t_\\n24\\t,\\t,\\tPUNCT\\t_\\t_\\t11\\tpunct\\t_\\t_\\n25\\tasteroiditörmäyksiin\\tasteroidi#törmäys\\tNOUN\\t_\\tCase=Ill|Number=Plur\\t11\\tconj\\t_\\t_\\n26\\tja\\tja\\tCONJ\\t_\\t_\\t11\\tcc\\t_\\t_\\n27\\tviime\\tviime\\tADJ\\t_\\t_\\t28\\tamod\\t_\\t_\\n28\\taikoina\\taika\\tNOUN\\t_\\tCase=Ess|Number=Plur\\t31\\tnmod\\t_\\t_\\n29\\tmyös\\tmyös\\tADV\\t_\\t_\\t31\\tadvmod\\t_\\t_\\n30\\tihmisen\\tihminen\\tNOUN\\t_\\tCase=Gen|Number=Sing\\t31\\tnmod:gsubj\\t_\\t_\\n31\\ttoimintaan\\ttoiminta\\tNOUN\\t_\\tCase=Ill|Number=Sing\\t11\\tconj\\t_\\t_\\n32\\t.\\t.\\tPUNCT\\t_\\t_\\t3\\tpunct\\t_\\t_\\n</sentence>\\n</paragraph>\\n<paragraph>\\n<sentence>\\n1\\tMaan\\tmaa\\tNOUN\\t_\\tCase=Gen|Number=Sing\\t2\\tnmod:poss\\t_\\t_\\n2\\tilmasto\\tilmasto\\tNOUN\\t_\\tCase=Nom|Number=Sing\\t4\\tnsubj\\t_\\t_\\n3\\tvoi\\tvoida\\tAUX\\t_\\tMood=Ind|Number=Sing|Person=3|Tense=Pres|VerbForm=Fin|Voice=Act\\t4\\taux\\t_\\t_\\n4\\tmuuttua\\tmuuttua\\tVERB\\t_\\tInfForm=1|Number=Sing|VerbForm=Inf|Voice=Act\\t0\\troot\\t_\\t_\\n5\\tmaapallon\\tmaa#pallo\\tNOUN\\t_\\tCase=Gen|Number=Sing\\t7\\tnmod:poss\\t_\\t_\\n6\\tsisäisten\\tsisäinen\\tADJ\\t_\\tCase=Gen|Degree=Pos|Number=Plur\\t7\\tamod\\t_\\t_\\n7\\tprosessien\\tprosessi\\tNOUN\\t_\\tCase=Gen|Number=Plur\\t4\\tdobj\\t_\\t_\\n8\\tmyötä\\tmyötä\\tADP\\t_\\tAdpType=Post\\t7\\tcase\\t_\\t_\\n9\\ttai\\ttai\\tCONJ\\t_\\t_\\t7\\tcc\\t_\\t_\\n10\\treaktiona\\treaktio\\tNOUN\\t_\\tCase=Ess|Number=Sing\\t7\\tconj\\t_\\t_\\n11\\tulkoisiin\\tulkoinen\\tADJ\\t_\\tCase=Ill|Degree=Pos|Number=Plur\\t12\\tamod\\t_\\t_\\n12\\ttekijöihin\\ttekijä\\tNOUN\\t_\\tCase=Ill|Number=Plur\\t10\\tnmod\\t_\\t_\\n13\\t(\\t(\\tPUNCT\\t_\\t_\\t15\\tpunct\\t_\\t_\\n14\\tesimerkiksi\\tesimerkiksi\\tADV\\t_\\t_\\t15\\tadvmod\\t_\\t_\\n15\\tmuutokset\\tmuutos\\tNOUN\\t_\\tCase=Nom|Number=Plur\\t7\\tparataxis\\t_\\t_\\n16\\tauringon\\taurinko\\tNOUN\\t_\\tCase=Gen|Number=Sing\\t17\\tnmod:poss\\t_\\t_\\n17\\taktiivisuudessa\\taktiivisuus\\tNOUN\\t_\\tCase=Ine|Number=Sing\\t15\\tnmod\\t_\\t_\\n18\\t,\\t,\\tPUNCT\\t_\\t_\\t17\\tpunct\\t_\\t_\\n19\\tmaapallon\\tmaa#pallo\\tNOUN\\t_\\tCase=Gen|Number=Sing\\t20\\tnmod:poss\\t_\\t_\\n20\\tkiertoradassa\\tkierto#rata\\tNOUN\\t_\\tCase=Ine|Number=Sing\\t17\\tconj\\t_\\t_\\n21\\ttai\\ttai\\tCONJ\\t_\\t_\\t17\\tcc\\t_\\t_\\n22\\takselissa\\takseli\\tNOUN\\t_\\tCase=Ine|Number=Sing\\t17\\tconj\\t_\\t_\\n23\\t)\\t)\\tPUNCT\\t_\\t_\\t15\\tpunct\\t_\\t_\\n24\\t.\\t.\\tPUNCT\\t_\\t_\\t4\\tpunct\\t_\\t_\\n</sentence>\\n<sentence>\\n1\\tMaapallon\\tmaa#pallo\\tNOUN\\t_\\tCase=Gen|Number=Sing\\t3\\tnmod:poss\\t_\\t_\\n2\\tsisäiset\\tsisäinen\\tADJ\\t_\\tCase=Nom|Degree=Pos|Number=Plur\\t3\\tamod\\t_\\t_\\n3\\tprosessit\\tprosessi\\tNOUN\\t_\\tCase=Nom|Number=Plur\\t6\\tnsubj:cop\\t_\\t_\\n4\\tvoivat\\tvoida\\tAUX\\t_\\tMood=Ind|Number=Plur|Person=3|Tense=Pres|VerbForm=Fin|Voice=Act\\t6\\taux\\t_\\t_\\n5\\tolla\\tolla\\tVERB\\t_\\tInfForm=1|Number=Sing|VerbForm=Inf|Voice=Act\\t6\\tcop\\t_\\t_\\n6\\tluontaisia\\tluontainen\\tADJ\\t_\\tCase=Par|Degree=Pos|Number=Plur\\t0\\troot\\t_\\t_\\n7\\t(\\t(\\tPUNCT\\t_\\t_\\t10\\tpunct\\t_\\t_\\n8\\tesimerkiksi\\tesimerkiksi\\tADV\\t_\\t_\\t10\\tadvmod\\t_\\t_\\n9\\tvulkaaniset\\tvulkaaninen\\tADJ\\t_\\tCase=Nom|Degree=Pos|Number=Plur\\t10\\tamod\\t_\\t_\\n10\\tpäästöt\\tpäästö\\tNOUN\\t_\\tCase=Nom|Number=Plur\\t6\\tappos\\t_\\t_\\n11\\t)\\t)\\tPUNCT\\t_\\t_\\t10\\tpunct\\t_\\t_\\n12\\ttai\\ttai\\tCONJ\\t_\\t_\\t6\\tcc\\t_\\t_\\n13\\tihmisen\\tihminen\\tNOUN\\t_\\tCase=Gen|Number=Sing\\t14\\tnmod:gsubj\\t_\\t_\\n14\\ttoiminnasta\\ttoiminta\\tNOUN\\t_\\tCase=Ela|Number=Sing\\t15\\tnmod\\t_\\t_\\n15\\tjohtuvia\\tjohtua\\tVERB\\t_\\tCase=Par|Degree=Pos|Number=Plur|PartForm=Pres|VerbForm=Part|Voice=Act\\t19\\tacl\\t_\\t_\\n16\\t(\\t(\\tPUNCT\\t_\\t_\\t19\\tpunct\\t_\\t_\\n17\\tesimerkiksi\\tesimerkiksi\\tADV\\t_\\t_\\t19\\tadvmod\\t_\\t_\\n18\\tfossiilisten\\tfossiilinen\\tADJ\\t_\\tCase=Gen|Degree=Pos|Number=Plur\\t19\\tamod\\t_\\t_\\n19\\tpolttoaineiden\\tpoltto#aine\\tNOUN\\t_\\tCase=Gen|Number=Plur\\t20\\tnmod:gobj\\t_\\t_\\n20\\tkäytön\\tkäyttö\\tNOUN\\t_\\tCase=Gen|Number=Sing\\t21\\tnsubj\\t_\\t_\\n21\\tsynnyttämä\\tsynnyttää\\tVERB\\t_\\tCase=Nom|Degree=Pos|Number=Sing|PartForm=Agt|VerbForm=Part|Voice=Act\\t6\\tconj\\t_\\t_\\n22\\tilmakehän\\tilma#kehä\\tNOUN\\t_\\tCase=Gen|Number=Sing\\t23\\tnmod:poss\\t_\\t_\\n23\\tkasvihuonekaasujen\\tkasvi#huone#kaasu\\tNOUN\\t_\\tCase=Gen|Number=Plur\\t21\\tdobj\\t_\\t_\\n24\\t;\\t;\\tPUNCT\\t_\\t_\\t25\\tpunct\\t_\\t_\\n25\\tCFC\\tCFC\\tPROPN\\t_\\tCase=Nom|Number=Sing\\t23\\tappos\\t_\\t_\\n26\\t,\\t,\\tPUNCT\\t_\\t_\\t25\\tpunct\\t_\\t_\\n27\\tNO\\tno\\tPROPN\\t_\\tCase=Nom|Number=Sing\\t25\\tconj\\t_\\t_\\n28\\t,\\t,\\tPUNCT\\t_\\t_\\t31\\tpunct\\t_\\t_\\n29\\tCO\\tCO\\tPROPN\\t_\\tCase=Nom|Number=Sing\\t30\\tcompound:nn\\t_\\t_\\n30\\tpitoisuuksien\\tpitoisuus\\tNOUN\\t_\\tCase=Gen|Number=Plur\\t31\\tnmod:poss\\t_\\t_\\n31\\tnousu\\tnousu\\tNOUN\\t_\\tCase=Nom|Number=Sing\\t25\\tappos\\t_\\t_\\n32\\t)\\t)\\tPUNCT\\t_\\t_\\t31\\tpunct\\t_\\t_\\n33\\t.\\t.\\tPUNCT\\t_\\t_\\t6\\tpunct\\t_\\t_\\n</sentence>\\n</paragraph>\\n<paragraph>\\n<sentence>\\n1\\tSää\\tsää\\tNOUN\\t_\\tCase=Nom|Number=Sing\\t6\\tnsubj:cop\\t_\\t_\\n2\\ton\\tolla\\tVERB\\t_\\tMood=Ind|Number=Sing|Person=3|Tense=Pres|VerbForm=Fin|Voice=Act\\t6\\tcop\\t_\\t_\\n3\\tkaoottinen\\tkaoottinen\\tADJ\\t_\\tCase=Nom|Degree=Pos|Number=Sing\\t6\\tamod\\t_\\t_\\n4\\tepälineaarinen\\tepä#lineaarinen\\tADJ\\t_\\tCase=Nom|Degree=Pos|Number=Sing\\t6\\tamod\\t_\\t_\\n5\\tdynaaminen\\tdynaaminen\\tADJ\\t_\\tCase=Nom|Degree=Pos|Number=Sing\\t6\\tamod\\t_\\t_\\n6\\tjärjestelmä\\tjärjestelmä\\tNOUN\\t_\\tCase=Nom|Number=Sing\\t0\\troot\\t_\\t_\\n7\\t.\\t.\\tPUNCT\\t_\\t_\\t6\\tpunct\\t_\\t_\\n</sentence>\\n<sentence>\\n1\\tTämä\\ttämä\\tPRON\\t_\\tCase=Nom|Number=Sing|PronType=Dem\\t2\\tnsubj\\t_\\t_\\n2\\ttarkoittaa\\ttarkoittaa\\tVERB\\t_\\tMood=Ind|Number=Sing|Person=3|Tense=Pres|VerbForm=Fin|Voice=Act\\t0\\troot\\t_\\t_\\n3\\t,\\t,\\tPUNCT\\t_\\t_\\t6\\tpunct\\t_\\t_\\n4\\tettä\\tettä\\tSCONJ\\t_\\t_\\t6\\tmark\\t_\\t_\\n5\\tse\\tse\\tPRON\\t_\\tCase=Nom|Number=Sing|PronType=Dem\\t6\\tnsubj\\t_\\t_\\n6\\ton\\tolla\\tVERB\\t_\\tMood=Ind|Number=Sing|Person=3|Tense=Pres|VerbForm=Fin|Voice=Act\\t2\\tccomp\\t_\\t_\\n7\\tvain\\tvain\\tADV\\t_\\t_\\t9\\tadvmod\\t_\\t_\\n8\\tosittain\\tosittain\\tADV\\t_\\t_\\t9\\tadvmod\\t_\\t_\\n9\\tennustettavissa\\tennustaa\\tVERB\\t_\\tCase=Ine|Degree=Pos|Number=Plur|PartForm=Pres|VerbForm=Part|Voice=Pass\\t6\\txcomp\\t_\\t_\\n10\\t.\\t.\\tPUNCT\\t_\\t_\\t2\\tpunct\\t_\\t_\\n</sentence>\\n<sentence>\\n1\\tIlmasto\\tilmasto\\tNOUN\\t_\\tCase=Nom|Number=Sing\\t11\\tnsubj:cop\\t_\\t_\\n2\\teli\\teli\\tCONJ\\t_\\t_\\t1\\tcc\\t_\\t_\\n3\\tsään\\tsää\\tNOUN\\t_\\tCase=Gen|Number=Sing\\t4\\tnmod:poss\\t_\\t_\\n4\\tkeskiarvo\\tkeski#arvo\\tNOUN\\t_\\tCase=Nom|Number=Sing\\t1\\tconj\\t_\\t_\\n5\\ton\\tolla\\tAUX\\t_\\tMood=Ind|Number=Sing|Person=3|Tense=Pres|VerbForm=Fin|Voice=Act\\t11\\taux\\t_\\t_\\n6\\tkuitenkin\\tkuitenkin\\tADV\\t_\\t_\\t11\\tadvmod\\t_\\t_\\n7\\tollut\\tolla\\tVERB\\t_\\tCase=Nom|Degree=Pos|Number=Sing|PartForm=Past|VerbForm=Part|Voice=Act\\t11\\tcop\\t_\\t_\\n8\\thavaintojen\\thavainto\\tNOUN\\t_\\tCase=Gen|Number=Plur\\t9\\tnmod:poss\\t_\\t_\\n9\\tvalossa\\tvalo\\tNOUN\\t_\\tCase=Ine|Number=Sing\\t11\\tnmod\\t_\\t_\\n10\\tsuhteellisen\\tsuhteellinen\\tADJ\\t_\\tCase=Gen|Degree=Pos|Number=Sing\\t11\\tamod\\t_\\t_\\n11\\tvakaa\\tvakaa\\tADJ\\t_\\tCase=Nom|Degree=Pos|Number=Sing\\t0\\troot\\t_\\t_\\n12\\taivan\\taivan\\tADV\\t_\\t_\\t14\\tadvmod\\t_\\t_\\n13\\tviime\\tviime\\tADJ\\t_\\t_\\t14\\tamod\\t_\\t_\\n14\\taikoihin\\taika\\tNOUN\\t_\\tCase=Ill|Number=Plur\\t11\\tnmod\\t_\\t_\\n15\\tasti\\tasti\\tADP\\t_\\tAdpType=Post\\t14\\tcase\\t_\\t_\\n16\\t.\\t.\\tPUNCT\\t_\\t_\\t11\\tpunct\\t_\\t_\\n</sentence>\\n<sentence>\\n1\\tIlmastoon\\tilmasto\\tNOUN\\t_\\tCase=Ill|Number=Sing\\t2\\tnmod\\t_\\t_\\n2\\tlukeutuvat\\tlukeutua\\tVERB\\t_\\tMood=Ind|Number=Plur|Person=3|Tense=Pres|VerbForm=Fin|Voice=Act\\t0\\troot\\t_\\t_\\n3\\tkeskilämpötila\\tkeski#lämpö#tila\\tNOUN\\t_\\tCase=Nom|Number=Sing\\t2\\tnsubj\\t_\\t_\\n4\\t,\\t,\\tPUNCT\\t_\\t_\\t3\\tpunct\\t_\\t_\\n5\\tsadanta\\tsadanta\\tNOUN\\t_\\tCase=Nom|Number=Sing\\t3\\tconj\\t_\\t_\\n6\\t,\\t,\\tPUNCT\\t_\\t_\\t3\\tpunct\\t_\\t_\\n7\\taurinkoisten\\taurinkoinen\\tADJ\\t_\\tCase=Gen|Degree=Pos|Number=Plur\\t8\\tamod\\t_\\t_\\n8\\tpäivien\\tpäivä\\tNOUN\\t_\\tCase=Gen|Number=Plur\\t9\\tnmod:poss\\t_\\t_\\n9\\tmäärä\\tmäärä\\tNOUN\\t_\\tCase=Nom|Number=Sing\\t3\\tconj\\t_\\t_\\n10\\tja\\tja\\tCONJ\\t_\\t_\\t3\\tcc\\t_\\t_\\n11\\tlukuisat\\tlukuisa\\tADJ\\t_\\tCase=Nom|Degree=Pos|Number=Plur\\t14\\tamod\\t_\\t_\\n12\\tmuut\\tmuu\\tPRON\\t_\\tCase=Nom|Degree=Pos|Number=Plur|PronType=Ind\\t14\\tdet\\t_\\t_\\n13\\tmitattavat\\tmitata\\tVERB\\t_\\tCase=Nom|Degree=Pos|Number=Plur|PartForm=Pres|VerbForm=Part|Voice=Pass\\t14\\tacl\\t_\\t_\\n14\\tsuureet\\tsuure\\tNOUN\\t_\\tCase=Nom|Number=Plur\\t3\\tconj\\t_\\t_\\n15\\t.\\t.\\tPUNCT\\t_\\t_\\t2\\tpunct\\t_\\t_\\n</sentence>\\n</paragraph>\\n<paragraph>\\n<sentence>\\n1\\tMaan\\tmaa\\tNOUN\\t_\\tCase=Gen|Number=Sing\\t2\\tnmod:poss\\t_\\t_\\n2\\tympäristössä\\tympäristö\\tNOUN\\t_\\tCase=Ine|Number=Sing\\t3\\tnmod\\t_\\t_\\n3\\ttapahtuu\\ttapahtua\\tVERB\\t_\\tMood=Ind|Number=Sing|Person=3|Tense=Pres|VerbForm=Fin|Voice=Act\\t0\\troot\\t_\\t_\\n4\\tkuitenkin\\tkuitenkin\\tADV\\t_\\t_\\t3\\tadvmod\\t_\\t_\\n5\\tmuutoksia\\tmuutos\\tNOUN\\t_\\tCase=Par|Number=Plur\\t3\\tdobj\\t_\\t_\\n6\\t,\\t,\\tPUNCT\\t_\\t_\\t9\\tpunct\\t_\\t_\\n7\\tjotka\\tjoka\\tPRON\\t_\\tCase=Nom|Number=Plur|PronType=Rel\\t9\\tnsubj\\t_\\t_\\n8\\tvoivat\\tvoida\\tAUX\\t_\\tMood=Ind|Number=Plur|Person=3|Tense=Pres|VerbForm=Fin|Voice=Act\\t9\\taux\\t_\\t_\\n9\\tvaikuttaa\\tvaikuttaa\\tVERB\\t_\\tInfForm=1|Number=Sing|VerbForm=Inf|Voice=Act\\t5\\tacl:relcl\\t_\\t_\\n10\\tilmastoon\\tilmasto\\tNOUN\\t_\\tCase=Ill|Number=Sing\\t9\\tnmod\\t_\\t_\\n11\\t.\\t.\\tPUNCT\\t_\\t_\\t3\\tpunct\\t_\\t_\\n</sentence>\\n<sentence>\\n1\\tEsimerkiksi\\tesimerkiksi\\tADV\\t_\\t_\\t3\\tadvmod\\t_\\t_\\n2\\tjäätiköiden\\tjäätikkö\\tNOUN\\t_\\tCase=Gen|Number=Plur\\t3\\tnmod:poss\\t_\\t_\\n3\\tkasvu\\tkasvu\\tNOUN\\t_\\tCase=Nom|Number=Sing\\t6\\tnsubj\\t_\\t_\\n4\\tja\\tja\\tCONJ\\t_\\t_\\t3\\tcc\\t_\\t_\\n5\\tpieneneminen\\tpienetä\\tNOUN\\t_\\tCase=Nom|Derivation=Minen|Number=Sing\\t3\\tconj\\t_\\t_\\n6\\taiheuttavat\\taiheuttaa\\tVERB\\t_\\tMood=Ind|Number=Plur|Person=3|Tense=Pres|VerbForm=Fin|Voice=Act\\t0\\troot\\t_\\t_\\n7\\tsekä\\tsekä\\tCONJ\\t_\\t_\\t6\\tcc\\t_\\t_\\n8\\tluonnollista\\tluonnollinen\\tADJ\\t_\\tCase=Par|Degree=Pos|Number=Sing\\t9\\tamod\\t_\\t_\\n9\\tvaihtelua\\tvaihtelu\\tNOUN\\t_\\tCase=Par|Number=Sing\\t6\\tdobj\\t_\\t_\\n10\\t,\\t,\\tPUNCT\\t_\\t_\\t12\\tpunct\\t_\\t_\\n11\\tettä\\tettä\\tSCONJ\\t_\\t_\\t12\\tmark\\t_\\t_\\n12\\tvahvistavat\\tvahvistaa\\tVERB\\t_\\tMood=Ind|Number=Plur|Person=3|Tense=Pres|VerbForm=Fin|Voice=Act\\t6\\tadvcl\\t_\\t_\\n13\\tulkoisia\\tulkoinen\\tADJ\\t_\\tCase=Par|Degree=Pos|Number=Plur\\t14\\tamod\\t_\\t_\\n14\\tpakotteita\\tpakote\\tNOUN\\t_\\tCase=Par|Number=Plur\\t12\\tdobj\\t_\\t_\\n15\\t.\\t.\\tPUNCT\\t_\\t_\\t6\\tpunct\\t_\\t_\\n</sentence>\\n<sentence>\\n1\\tToisaalta\\ttoisaalta\\tADV\\t_\\t_\\t5\\tadvmod\\t_\\t_\\n2\\tmeri-ilmakehäjärjestelmän\\tmeri-ilma#kehä#järjestelmä\\tNOUN\\t_\\tCase=Gen|Number=Sing\\t3\\tnmod:poss\\t_\\t_\\n3\\tmuutokset\\tmuutos\\tNOUN\\t_\\tCase=Nom|Number=Plur\\t5\\tnsubj\\t_\\t_\\n4\\tvoivat\\tvoida\\tAUX\\t_\\tMood=Ind|Number=Plur|Person=3|Tense=Pres|VerbForm=Fin|Voice=Act\\t5\\taux\\t_\\t_\\n5\\taiheuttaa\\taiheuttaa\\tVERB\\t_\\tInfForm=1|Number=Sing|VerbForm=Inf|Voice=Act\\t0\\troot\\t_\\t_\\n6\\tvoimakkaita\\tvoimakas\\tADJ\\t_\\tCase=Par|Degree=Pos|Number=Plur\\t7\\tamod\\t_\\t_\\n7\\tmuutoksia\\tmuutos\\tNOUN\\t_\\tCase=Par|Number=Plur\\t5\\tdobj\\t_\\t_\\n8\\t.\\t.\\tPUNCT\\t_\\t_\\t5\\tpunct\\t_\\t_\\n</sentence>\\n<sentence>\\n1\\tMerien\\tmeri\\tNOUN\\t_\\tCase=Gen|Number=Plur\\t2\\tnmod:gsubj\\t_\\t_\\n2\\tvaikutus\\tvaikutus\\tNOUN\\t_\\tCase=Nom|Number=Sing\\t4\\tnsubj\\t_\\t_\\n3\\tilmastoon\\tilmasto\\tNOUN\\t_\\tCase=Ill|Number=Sing\\t2\\tnmod\\t_\\t_\\n4\\tliittyy\\tliittyä\\tVERB\\t_\\tMood=Ind|Number=Sing|Person=3|Tense=Pres|VerbForm=Fin|Voice=Act\\t0\\troot\\t_\\t_\\n5\\tmonilta\\tmoni\\tPRON\\t_\\tCase=Abl|Number=Plur|PronType=Ind\\t6\\tdet\\t_\\t_\\n6\\tosin\\tosa\\tNOUN\\t_\\tCase=Ins|Number=Plur\\t4\\tnmod\\t_\\t_\\n7\\tniiden\\tse\\tPRON\\t_\\tCase=Gen|Number=Plur|PronType=Dem\\t9\\tnmod:poss\\t_\\t_\\n8\\tsuureen\\tsuuri\\tADJ\\t_\\tCase=Ill|Degree=Pos|Number=Sing\\t9\\tamod\\t_\\t_\\n9\\tlämpökapasiteettiin\\tlämpö#kapasiteetti\\tNOUN\\t_\\tCase=Ill|Number=Sing\\t4\\tnmod\\t_\\t_\\n10\\tja\\tja\\tCONJ\\t_\\t_\\t4\\tcc\\t_\\t_\\n11\\tkykyyn\\tkyky\\tNOUN\\t_\\tCase=Ill|Number=Sing\\t12\\tnmod\\t_\\t_\\n12\\tkuljettaa\\tkuljettaa\\tVERB\\t_\\tMood=Ind|Number=Sing|Person=3|Tense=Pres|VerbForm=Fin|Voice=Act\\t4\\tconj\\t_\\t_\\n13\\tenergiaa\\tenergia\\tNOUN\\t_\\tCase=Par|Number=Sing\\t12\\tdobj\\t_\\t_\\n14\\t.\\t.\\tPUNCT\\t_\\t_\\t4\\tpunct\\t_\\t_\\n</sentence>\\n<sentence>\\n1\\tTermohaliinikierron\\tTermohaliinikierron\\tNOUN\\t_\\tCase=Gen|Number=Sing\\t2\\tnmod:poss\\t_\\t_\\n2\\tmerkitys\\tmerkitys\\tNOUN\\t_\\tCase=Nom|Number=Sing\\t3\\tnsubj\\t_\\t_\\n3\\tkasvaa\\tkasvaa\\tVERB\\t_\\tMood=Ind|Number=Sing|Person=3|Tense=Pres|VerbForm=Fin|Voice=Act\\t0\\troot\\t_\\t_\\n4\\tpitemmillä\\tpitkä\\tADJ\\t_\\tCase=Ade|Degree=Cmp|Number=Plur\\t5\\tamod\\t_\\t_\\n5\\taikaväleillä\\taika#väli\\tNOUN\\t_\\tCase=Ade|Number=Plur\\t3\\tnmod\\t_\\t_\\n6\\t.\\t.\\tPUNCT\\t_\\t_\\t3\\tpunct\\t_\\t_\\n</sentence>\\n<sentence>\\n1\\tToisaalta\\ttoisaalta\\tADV\\t_\\t_\\t6\\tadvmod\\t_\\t_\\n2\\tilmaston\\tilmasto\\tNOUN\\t_\\tCase=Gen|Number=Sing\\t3\\tnmod:poss\\t_\\t_\\n3\\ttila\\ttila\\tNOUN\\t_\\tCase=Nom|Number=Sing\\t6\\tnsubj:cop\\t_\\t_\\n4\\tei\\tei\\tVERB\\t_\\tNegative=Yes|Number=Sing|Person=3|VerbForm=Fin|Voice=Act\\t6\\tneg\\t_\\t_\\n5\\tole\\tolla\\tVERB\\t_\\tConnegative=Yes|Mood=Ind|Tense=Pres|VerbForm=Fin\\t6\\tcop\\t_\\t_\\n6\\triippuvainen\\triippuvainen\\tADJ\\t_\\tCase=Nom|Degree=Pos|Number=Sing\\t0\\troot\\t_\\t_\\n7\\tyksin\\tyksin\\tADV\\t_\\t_\\t8\\tadvmod\\t_\\t_\\n8\\tnykytilasta\\tnyky#tila\\tNOUN\\t_\\tCase=Ela|Number=Sing\\t6\\tnmod\\t_\\t_\\n9\\tvaan\\tvaan\\tCONJ\\t_\\t_\\t6\\tcc\\t_\\t_\\n10\\tsiihen\\tse\\tPRON\\t_\\tCase=Ill|Number=Sing|PronType=Dem\\t11\\tnmod\\t_\\t_\\n11\\tvaikuttavat\\tvaikuttaa\\tVERB\\t_\\tMood=Ind|Number=Plur|Person=3|Tense=Pres|VerbForm=Fin|Voice=Act\\t6\\tconj\\t_\\t_\\n12\\tmyös\\tmyös\\tADV\\t_\\t_\\t13\\tadvmod\\t_\\t_\\n13\\tedeltävät\\tedeltää\\tVERB\\t_\\tCase=Nom|Degree=Pos|Number=Plur|PartForm=Pres|VerbForm=Part|Voice=Act\\t14\\tacl\\t_\\t_\\n14\\ttilat\\ttila\\tNOUN\\t_\\tCase=Nom|Number=Plur\\t11\\tnsubj\\t_\\t_\\n15\\t,\\t,\\tPUNCT\\t_\\t_\\t6\\tpunct\\t_\\t_\\n16\\tkysymys\\tkysymys\\tNOUN\\t_\\tCase=Nom|Number=Sing\\t17\\tnsubj\\t_\\t_\\n17\\ton\\tolla\\tVERB\\t_\\tMood=Ind|Number=Sing|Person=3|Tense=Pres|VerbForm=Fin|Voice=Act\\t6\\tconj\\t_\\t_\\n18\\tsiis\\tsiis\\tADV\\t_\\t_\\t17\\tadvmod\\t_\\t_\\n19\\thystereesi-ilmiöstä\\thystereesi#ilmiö\\tNOUN\\t_\\tCase=Ela|Number=Sing\\t17\\tnmod\\t_\\t_\\n20\\t.\\t.\\tPUNCT\\t_\\t_\\t6\\tpunct\\t_\\t_\\n</sentence>\\n</paragraph>\\n<paragraph>\\n<sentence>\\n1\\tSatojen\\tsata\\tNOUN\\t_\\tCase=Gen|Number=Plur\\t3\\tnmod:poss\\t_\\t_\\n2\\tmiljoonien\\tmiljoona\\tNUM\\t_\\tCase=Gen|Number=Plur|NumType=Card\\t3\\tnummod\\t_\\t_\\n3\\tvuosien\\tvuosi\\tNOUN\\t_\\tCase=Gen|Number=Plur\\t4\\tnsubj\\t_\\t_\\n4\\tkuluessa\\tkulua\\tVERB\\t_\\tCase=Ine|InfForm=2|Number=Sing|VerbForm=Inf|Voice=Act\\t7\\tadvcl\\t_\\t_\\n5\\tmannerlaattojen\\tmanner#laatta\\tNOUN\\t_\\tCase=Gen|Number=Plur\\t6\\tnmod:poss\\t_\\t_\\n6\\tliikkeet\\tliike\\tNOUN\\t_\\tCase=Nom|Number=Plur\\t7\\tnsubj\\t_\\t_\\n7\\tvaikuttavat\\tvaikuttaa\\tVERB\\t_\\tMood=Ind|Number=Plur|Person=3|Tense=Pres|VerbForm=Fin|Voice=Act\\t0\\troot\\t_\\t_\\n8\\tmerivirtoihin\\tmeri#virta\\tNOUN\\t_\\tCase=Ill|Number=Plur\\t7\\tnmod\\t_\\t_\\n9\\tja\\tja\\tCONJ\\t_\\t_\\t8\\tcc\\t_\\t_\\n10\\tvuorten\\tvuori\\tNOUN\\t_\\tCase=Gen|Number=Plur\\t11\\tnmod:poss\\t_\\t_\\n11\\tmuotoihin\\tmuoto\\tNOUN\\t_\\tCase=Ill|Number=Plur\\t8\\tconj\\t_\\t_\\n12\\tmuuttaen\\tmuuttaa\\tVERB\\t_\\tCase=Ins|InfForm=2|Number=Sing|VerbForm=Inf|Voice=Act\\t7\\tadvcl\\t_\\t_\\n13\\tsiten\\tsiten\\tADV\\t_\\t_\\t14\\tadvmod\\t_\\t_\\n14\\tilmastoa\\tilmasto\\tNOUN\\t_\\tCase=Par|Number=Sing\\t12\\tdobj\\t_\\t_\\n15\\t.\\t.\\tPUNCT\\t_\\t_\\t7\\tpunct\\t_\\t_\\n</sentence>\\n<sentence>\\n1\\tAuringon\\tAurinko\\tPROPN\\t_\\tCase=Gen|Number=Sing\\t2\\tnmod:poss\\t_\\t_\\n2\\taktiivisuudessa\\taktiivisuus\\tNOUN\\t_\\tCase=Ine|Number=Sing\\t10\\tnmod\\t_\\t_\\n3\\tsekä\\tsekä\\tCONJ\\t_\\t_\\t4\\tcc:preconj\\t_\\t_\\n4\\tpitkällä\\tpitkä\\tADJ\\t_\\tCase=Ade|Degree=Pos|Number=Sing\\t7\\tamod\\t_\\t_\\n5\\tettä\\tettä\\tCONJ\\t_\\t_\\t4\\tcc\\t_\\t_\\n6\\tlyhyellä\\tlyhyt\\tADJ\\t_\\tCase=Ade|Degree=Pos|Number=Sing\\t4\\tconj\\t_\\t_\\n7\\taikavälillä\\taika#väli\\tNOUN\\t_\\tCase=Ade|Number=Sing\\t8\\tnmod\\t_\\t_\\n8\\ttapahtuvat\\ttapahtua\\tVERB\\t_\\tMood=Ind|Number=Plur|Person=3|Tense=Pres|VerbForm=Fin|Voice=Act\\t9\\tacl\\t_\\t_\\n9\\tmuutokset\\tmuutos\\tNOUN\\t_\\tCase=Nom|Number=Plur\\t10\\tnsubj\\t_\\t_\\n10\\tmuuttavat\\tmuuttaa\\tVERB\\t_\\tMood=Ind|Number=Plur|Person=3|Tense=Pres|VerbForm=Fin|Voice=Act\\t0\\troot\\t_\\t_\\n11\\tilmaston\\tilmasto\\tNOUN\\t_\\tCase=Gen|Number=Sing\\t12\\tnmod:poss\\t_\\t_\\n12\\tsäteilypakotetta\\tsäteily#pakote\\tNOUN\\t_\\tCase=Par|Number=Sing\\t10\\tdobj\\t_\\t_\\n13\\t.\\t.\\tPUNCT\\t_\\t_\\t10\\tpunct\\t_\\t_\\n</sentence>\\n</paragraph>\\n<paragraph>\\n<sentence>\\n1\\tSuhteessa\\tsuhde\\tNOUN\\t_\\tCase=Ine|Number=Sing\\t9\\tnmod\\t_\\t_\\n2\\tnopeampia\\tnopea\\tADJ\\t_\\tCase=Par|Degree=Cmp|Number=Plur\\t3\\tamod\\t_\\t_\\n3\\tmuutoksia\\tmuutos\\tNOUN\\t_\\tCase=Par|Number=Plur\\t9\\tnsubj\\t_\\t_\\n4\\tovat\\tolla\\tVERB\\t_\\tMood=Ind|Number=Plur|Person=3|Tense=Pres|VerbForm=Fin|Voice=Act\\t13\\tcop\\t_\\t_\\n5\\tsatojen\\tsata\\tNUM\\t_\\tCase=Gen|Number=Plur|NumType=Card\\t6\\tcompound\\t_\\t_\\n6\\ttuhansien\\ttuhat\\tNUM\\t_\\tCase=Gen|Number=Plur|NumType=Card\\t7\\tnummod\\t_\\t_\\n7\\tvuosien\\tvuosi\\tNOUN\\t_\\tCase=Gen|Number=Plur\\t8\\tnmod:poss\\t_\\t_\\n8\\taikajänteellä\\taika#jänne\\tNOUN\\t_\\tCase=Ade|Number=Sing\\t9\\tnmod\\t_\\t_\\n9\\ttapahtuvat\\ttapahtua\\tVERB\\t_\\tMood=Ind|Number=Plur|Person=3|Tense=Pres|VerbForm=Fin|Voice=Act\\t0\\troot\\t_\\t_\\n10\\tMaan\\tMaa\\tPROPN\\t_\\tCase=Gen|Number=Sing\\t11\\tnmod:poss\\t_\\t_\\n11\\tradan\\trata\\tNOUN\\t_\\tCase=Gen|Number=Sing\\t13\\tnmod:poss\\t_\\t_\\n12\\tsäännölliset\\tsäännöllinen\\tADJ\\t_\\tCase=Nom|Degree=Pos|Number=Plur\\t13\\tamod\\t_\\t_\\n13\\theilahtelut\\theilahtelu\\tNOUN\\t_\\tCase=Nom|Number=Plur\\t9\\tnsubj\\t_\\t_\\n14\\t,\\t,\\tPUNCT\\t_\\t_\\t16\\tpunct\\t_\\t_\\n15\\tjotka\\tjoka\\tPRON\\t_\\tCase=Nom|Number=Plur|PronType=Rel\\t16\\tnsubj\\t_\\t_\\n16\\tjohtuvat\\tjohtua\\tVERB\\t_\\tMood=Ind|Number=Plur|Person=3|Tense=Pres|VerbForm=Fin|Voice=Act\\t13\\tacl:relcl\\t_\\t_\\n17\\taurinkokunnan\\taurinko#kunta\\tNOUN\\t_\\tCase=Gen|Number=Sing\\t19\\tnmod:poss\\t_\\t_\\n18\\tsisäisestä\\tsisäinen\\tADJ\\t_\\tCase=Ela|Degree=Pos|Number=Sing\\t19\\tamod\\t_\\t_\\n19\\tdynamiikasta\\tdynamiikka\\tNOUN\\t_\\tCase=Ela|Number=Sing\\t16\\tnmod\\t_\\t_\\n20\\t.\\t.\\tPUNCT\\t_\\t_\\t9\\tpunct\\t_\\t_\\n</sentence>\\n<sentence>\\n1\\tNämä\\ttämä\\tPRON\\t_\\tCase=Nom|Number=Plur|PronType=Dem\\t3\\tdet\\t_\\t_\\n2\\tMilankovićin\\tMilankovićin\\tPROPN\\t_\\tCase=Gen|Number=Sing\\t3\\tnmod:poss\\t_\\t_\\n3\\tjaksot\\tjakso\\tNOUN\\t_\\tCase=Nom|Number=Plur\\t4\\tnsubj\\t_\\t_\\n4\\taiheuttavat\\taiheuttaa\\tVERB\\t_\\tMood=Ind|Number=Plur|Person=3|Tense=Pres|VerbForm=Fin|Voice=Act\\t0\\troot\\t_\\t_\\n5\\tniin\\tniin\\tADV\\t_\\t_\\t6\\tadvmod\\t_\\t_\\n6\\tkutsutun\\tkutsua\\tADJ\\t_\\tCase=Gen|Degree=Pos|Number=Sing\\t7\\tamod\\t_\\t_\\n7\\tjääkausisyklin\\tjää#kausi#sykli\\tNOUN\\t_\\tCase=Gen|Number=Sing\\t4\\tdobj\\t_\\t_\\n8\\t.\\t.\\tPUNCT\\t_\\t_\\t4\\tpunct\\t_\\t_\\n</sentence>\\n</paragraph>\\n<paragraph>\\n<sentence>\\n1\\tVoimakkaat\\tvoimakas\\tADJ\\t_\\tCase=Nom|Degree=Pos|Number=Plur\\t2\\tamod\\t_\\t_\\n2\\ttulivuorenpurkaukset\\ttuli#vuoren#purkaus\\tNOUN\\t_\\tCase=Nom|Number=Plur\\t4\\tnsubj\\t_\\t_\\n3\\tvoivat\\tvoida\\tAUX\\t_\\tMood=Ind|Number=Plur|Person=3|Tense=Pres|VerbForm=Fin|Voice=Act\\t4\\taux\\t_\\t_\\n4\\tvaikuttaa\\tvaikuttaa\\tVERB\\t_\\tInfForm=1|Number=Sing|VerbForm=Inf|Voice=Act\\t0\\troot\\t_\\t_\\n5\\tilmastoon\\tilmasto\\tNOUN\\t_\\tCase=Ill|Number=Sing\\t4\\tnmod\\t_\\t_\\n6\\täkillisesti\\täkillisesti\\tADV\\t_\\t_\\t4\\tadvmod\\t_\\t_\\n7\\t.\\t.\\tPUNCT\\t_\\t_\\t4\\tpunct\\t_\\t_\\n</sentence>\\n<sentence>\\n1\\tSuuria\\tsuuri\\tADJ\\t_\\tCase=Par|Degree=Pos|Number=Plur\\t2\\tamod\\t_\\t_\\n2\\tpurkauksia\\tpurkaus\\tNOUN\\t_\\tCase=Par|Number=Plur\\t3\\tnsubj\\t_\\t_\\n3\\ttapahtuu\\ttapahtua\\tVERB\\t_\\tMood=Ind|Number=Sing|Person=3|Tense=Pres|VerbForm=Fin|Voice=Act\\t0\\troot\\t_\\t_\\n4\\tuseita\\tusea\\tADJ\\t_\\tCase=Par|Degree=Pos|Number=Plur\\t5\\tamod\\t_\\t_\\n5\\tkertoja\\tkerta\\tNOUN\\t_\\tCase=Par|Number=Plur\\t3\\tnmod\\t_\\t_\\n6\\tvuosisadassa\\tvuosi#sata\\tNOUN\\t_\\tCase=Ine|Number=Sing\\t3\\tnmod\\t_\\t_\\n7\\t.\\t.\\tPUNCT\\t_\\t_\\t3\\tpunct\\t_\\t_\\n</sentence>\\n<sentence>\\n1\\tJoidenkin\\tjokin\\tPRON\\t_\\tCase=Gen|Number=Plur|PronType=Ind\\t4\\tdet\\t_\\t_\\n2\\tkymmenien\\tkymmenen\\tNUM\\t_\\tCase=Gen|Number=Plur|NumType=Card\\t3\\tcompound\\t_\\t_\\n3\\tmiljoonien\\tmiljoona\\tNUM\\t_\\tCase=Gen|Number=Plur|NumType=Card\\t4\\tnummod\\t_\\t_\\n4\\tvuosien\\tvuosi\\tNOUN\\t_\\tCase=Gen|Number=Plur\\t5\\tnmod:poss\\t_\\t_\\n5\\tvälein\\tväli\\tNOUN\\t_\\tCase=Ins|Number=Plur\\t6\\tnmod\\t_\\t_\\n6\\tesiintyy\\tesiintyä\\tVERB\\t_\\tMood=Ind|Number=Sing|Person=3|Tense=Pres|VerbForm=Fin|Voice=Act\\t0\\troot\\t_\\t_\\n7\\tmyös\\tmyös\\tADV\\t_\\t_\\t15\\tadvmod\\t_\\t_\\n8\\terittäin\\terittäin\\tADV\\t_\\t_\\t9\\tadvmod\\t_\\t_\\n9\\tsuuria\\tsuuri\\tADJ\\t_\\tCase=Par|Degree=Pos|Number=Plur\\t15\\tamod\\t_\\t_\\n10\\t(\\t(\\tPUNCT\\t_\\t_\\t13\\tpunct\\t_\\t_\\n11\\tmiljoonien\\tmiljoona\\tNUM\\t_\\tCase=Gen|Number=Plur|NumType=Card\\t12\\tnummod\\t_\\t_\\n12\\tneliökilometrien\\tneliö#kilo#metri\\tNOUN\\t_\\tCase=Gen|Number=Plur\\t13\\tnmod:poss\\t_\\t_\\n13\\tsuuruisia\\tsuuruinen\\tADJ\\t_\\tCase=Par|Degree=Pos|Number=Plur\\t15\\tamod\\t_\\t_\\n14\\t)\\t)\\tPUNCT\\t_\\t_\\t13\\tpunct\\t_\\t_\\n15\\tpurkausalueita\\tpurkaus#alue\\tNOUN\\t_\\tCase=Par|Number=Plur\\t6\\tnsubj\\t_\\t_\\n16\\t,\\t,\\tPUNCT\\t_\\t_\\t18\\tpunct\\t_\\t_\\n17\\tjotka\\tjoka\\tPRON\\t_\\tCase=Nom|Number=Plur|PronType=Rel\\t18\\tnsubj\\t_\\t_\\n18\\tvaikuttavat\\tvaikuttaa\\tVERB\\t_\\tMood=Ind|Number=Plur|Person=3|Tense=Pres|VerbForm=Fin|Voice=Act\\t15\\tacl:relcl\\t_\\t_\\n19\\tilmastoon\\tilmasto\\tNOUN\\t_\\tCase=Ill|Number=Sing\\t18\\tnmod\\t_\\t_\\n20\\tmiljoonien\\tmiljoona\\tNUM\\t_\\tCase=Gen|Number=Plur|NumType=Card\\t21\\tnummod\\t_\\t_\\n21\\tvuosien\\tvuosi\\tNOUN\\t_\\tCase=Gen|Number=Plur\\t22\\tnmod:poss\\t_\\t_\\n22\\tajan\\taika\\tNOUN\\t_\\tCase=Gen|Number=Sing\\t18\\tnmod\\t_\\t_\\n23\\t.\\t.\\tPUNCT\\t_\\t_\\t6\\tpunct\\t_\\t_\\n</sentence>\\n</paragraph>\\n<paragraph>\\n<sentence>\\n1\\tKasvihuoneilmiö\\tkasvi#huone#ilmiö\\tNOUN\\t_\\tCase=Nom|Number=Sing\\t7\\tnsubj:cop\\t_\\t_\\n2\\ton\\tolla\\tVERB\\t_\\tMood=Ind|Number=Sing|Person=3|Tense=Pres|VerbForm=Fin|Voice=Act\\t7\\tcop\\t_\\t_\\n3\\tmerkittävä\\tmerkittävä\\tADJ\\t_\\tCase=Nom|Degree=Pos|Number=Sing\\t7\\tamod\\t_\\t_\\n4\\tmaapallon\\tmaa#pallo\\tNOUN\\t_\\tCase=Gen|Number=Sing\\t5\\tnmod:poss\\t_\\t_\\n5\\tlämpötilaa\\tlämpö#tila\\tNOUN\\t_\\tCase=Par|Number=Sing\\t6\\tdobj\\t_\\t_\\n6\\tsäätelevä\\tsäädellä\\tVERB\\t_\\tCase=Nom|Degree=Pos|Number=Sing|PartForm=Pres|VerbForm=Part|Voice=Act\\t7\\tacl\\t_\\t_\\n7\\ttekijä\\ttekijä\\tNOUN\\t_\\tCase=Nom|Number=Sing\\t0\\troot\\t_\\t_\\n8\\t.\\t.\\tPUNCT\\t_\\t_\\t7\\tpunct\\t_\\t_\\n</sentence>\\n<sentence>\\n1\\tKasvihuoneilmiötä\\tkasvi#huone#ilmiö\\tNOUN\\t_\\tCase=Par|Number=Sing\\t7\\tdobj\\t_\\t_\\n2\\tvoimistavista\\tvoida#tavi\\tNOUN\\t_\\tCase=Ela|Number=Sing\\t1\\tnmod\\t_\\t_\\n3\\tkasvihuonekaasuista\\tkasvi#huone#kaasu\\tNOUN\\t_\\tCase=Ela|Number=Plur\\t2\\tnmod\\t_\\t_\\n4\\thiilidioksidin\\thiili#dioksidi\\tNOUN\\t_\\tCase=Gen|Number=Sing\\t5\\tnmod:poss\\t_\\t_\\n5\\tmäärän\\tmäärä\\tNOUN\\t_\\tCase=Gen|Number=Sing\\t6\\tnmod:poss\\t_\\t_\\n6\\tilmakehässä\\tilma#kehä\\tNOUN\\t_\\tCase=Ine|Number=Sing\\t3\\tnmod\\t_\\t_\\n7\\tarvioidaan\\tarvioida\\tVERB\\t_\\tMood=Ind|Tense=Pres|VerbForm=Fin|Voice=Pass\\t0\\troot\\t_\\t_\\n8\\ttällä\\ttämä\\tPRON\\t_\\tCase=Ade|Number=Sing|PronType=Dem\\t9\\tdet\\t_\\t_\\n9\\thetkellä\\thetki\\tNOUN\\t_\\tCase=Ade|Number=Sing\\t11\\tnmod\\t_\\t_\\n10\\tolevan\\tolla\\tVERB\\t_\\tCase=Gen|Degree=Pos|Number=Sing|PartForm=Pres|VerbForm=Part|Voice=Act\\t11\\tcop\\t_\\t_\\n11\\tkorkein\\tkorkea\\tADJ\\t_\\tCase=Nom|Degree=Sup|Number=Sing\\t7\\tccomp\\t_\\t_\\n12\\tkolmeen\\tkolme\\tNUM\\t_\\tCase=Ill|Number=Sing|NumType=Card\\t13\\tcompound\\t_\\t_\\n13\\tmiljoonaan\\tmiljoona\\tNUM\\t_\\tCase=Ill|Number=Sing|NumType=Card\\t14\\tnummod\\t_\\t_\\n14\\tvuoteen\\tvuosi\\tNOUN\\t_\\tCase=Ill|Number=Sing\\t11\\tnmod\\t_\\t_\\n15\\t.\\t.\\tPUNCT\\t_\\t_\\t7\\tpunct\\t_\\t_\\n</sentence>\\n<sentence>\\n1\\tPaleoklimatologeja\\tpaleoklimatologi\\tNOUN\\t_\\tCase=Par|Number=Plur\\t2\\tdobj\\t_\\t_\\n2\\tkiinnostaakin\\tkiinnostaa\\tVERB\\t_\\tClitic=Kin|Mood=Ind|Number=Sing|Person=3|Tense=Pres|VerbForm=Fin|Voice=Act\\t0\\troot\\t_\\t_\\n3\\tnyt\\tnyt\\tADV\\t_\\t_\\t2\\tadvmod\\t_\\t_\\n4\\ttutkia\\ttutka\\tNOUN\\t_\\tCase=Par|Number=Plur\\t2\\tdobj\\t_\\t_\\n5\\tplioseenikaudella\\tplioseenikaudella\\tNOUN\\t_\\tCase=Ade|Number=Sing\\t4\\tnmod\\t_\\t_\\n6\\teli\\teli\\tCONJ\\t_\\t_\\t4\\tcc\\t_\\t_\\n7\\tkauan\\tkauan\\tADV\\t_\\t_\\t10\\tadvmod\\t_\\t_\\n8\\tennen\\tennen\\tADP\\t_\\tAdpType=Prep\\t10\\tcase\\t_\\t_\\n9\\tihmislajin\\tihminen#laji\\tNOUN\\t_\\tCase=Gen|Number=Sing\\t10\\tnmod:gobj\\t_\\t_\\n10\\tilmaantumista\\tilmaantua\\tNOUN\\t_\\tCase=Par|Derivation=Minen|Number=Sing\\t4\\tconj\\t_\\t_\\n11\\tmaapallolle\\tmaa#pallo\\tNOUN\\t_\\tCase=All|Number=Sing\\t12\\tnmod\\t_\\t_\\n12\\tvallinnutta\\tvallita\\tVERB\\t_\\tCase=Par|Degree=Pos|Number=Sing|PartForm=Past|VerbForm=Part|Voice=Act\\t13\\tacl\\t_\\t_\\n13\\tajanjaksoa\\tajan#jakso\\tNOUN\\t_\\tCase=Par|Number=Sing\\t10\\tnmod\\t_\\t_\\n14\\t,\\t,\\tPUNCT\\t_\\t_\\t21\\tpunct\\t_\\t_\\n15\\tkoska\\tkoska\\tSCONJ\\t_\\t_\\t21\\tmark\\t_\\t_\\n16\\thiilidioksidipitoisuuden\\thiili#dioksidi#pitoisuus\\tNOUN\\t_\\tCase=Gen|Number=Sing\\t17\\tnmod:poss\\t_\\t_\\n17\\tkasvuun\\tkasvu\\tNOUN\\t_\\tCase=Ill|Number=Sing\\t18\\tnmod\\t_\\t_\\n18\\tliittyvän\\tliittyä\\tVERB\\t_\\tCase=Gen|Degree=Pos|Number=Sing|PartForm=Pres|VerbForm=Part|Voice=Act\\t19\\tacl\\t_\\t_\\n19\\tilmaston\\tilmasto\\tNOUN\\t_\\tCase=Gen|Number=Sing\\t20\\tnmod:gobj\\t_\\t_\\n20\\tlämpenemisen\\tlämmetä\\tNOUN\\t_\\tCase=Gen|Derivation=Minen|Number=Sing\\t22\\tnsubj\\t_\\t_\\n21\\tarvioidaan\\tarvioida\\tVERB\\t_\\tMood=Ind|Tense=Pres|VerbForm=Fin|Voice=Pass\\t2\\tadvcl\\t_\\t_\\n22\\tmuuttavan\\tmuuttaa\\tVERB\\t_\\tCase=Gen|Degree=Pos|Number=Sing|PartForm=Pres|VerbForm=Part|Voice=Act\\t21\\txcomp:ds\\t_\\t_\\n23\\tMaapalloa\\tmaa#pallo\\tNOUN\\t_\\tCase=Par|Number=Sing\\t22\\tdobj\\t_\\t_\\n24\\tsilloin\\tsilloin\\tADV\\t_\\t_\\t25\\tadvmod\\t_\\t_\\n25\\tvallinneita\\tvallita\\tVERB\\t_\\tCase=Par|Degree=Pos|Number=Plur|PartForm=Past|VerbForm=Part|Voice=Act\\t26\\tacl\\t_\\t_\\n26\\toloja\\tolo\\tNOUN\\t_\\tCase=Par|Number=Plur\\t27\\tdobj\\t_\\t_\\n27\\tmuistuttavaan\\tmuistuttaa\\tVERB\\t_\\tCase=Ill|Degree=Pos|Number=Sing|PartForm=Pres|VerbForm=Part|Voice=Act\\t28\\tacl\\t_\\t_\\n28\\tsuuntaan\\tsuunta\\tNOUN\\t_\\tCase=Ill|Number=Sing\\t22\\tnmod\\t_\\t_\\n29\\t.\\t.\\tPUNCT\\t_\\t_\\t2\\tpunct\\t_\\t_\\n</sentence>\\n</paragraph>\\n<paragraph>\\n<sentence>\\n1\\tKalkkikiven\\tkalkki#kivi\\tNOUN\\t_\\tCase=Gen|Number=Sing\\t2\\tnmod:gobj\\t_\\t_\\n2\\trapautuminen\\trapautua\\tNOUN\\t_\\tCase=Nom|Derivation=Minen|Number=Sing\\t3\\tnsubj\\t_\\t_\\n3\\tvaimentaa\\tvaimentaa\\tVERB\\t_\\tMood=Ind|Number=Sing|Person=3|Tense=Pres|VerbForm=Fin|Voice=Act\\t0\\troot\\t_\\t_\\n4\\thiilidioksidipitoisuuden\\thiili#dioksidi#pitoisuus\\tNOUN\\t_\\tCase=Gen|Number=Sing\\t5\\tnmod:poss\\t_\\t_\\n5\\tmuutoksia\\tmuutos\\tNOUN\\t_\\tCase=Par|Number=Plur\\t3\\tdobj\\t_\\t_\\n6\\t.\\t.\\tPUNCT\\t_\\t_\\t3\\tpunct\\t_\\t_\\n</sentence>\\n<sentence>\\n1\\tMitä\\tmitä\\tADV\\t_\\t_\\t2\\tadvmod\\t_\\t_\\n2\\tenemmän\\tenemmän\\tADV\\t_\\t_\\t3\\tadvmod\\t_\\t_\\n3\\thiilidioksidia\\thiili#dioksidi\\tNOUN\\t_\\tCase=Par|Number=Sing\\t6\\tappos\\t_\\t_\\n4\\t,\\t,\\tPUNCT\\t_\\t_\\t3\\tpunct\\t_\\t_\\n5\\tsitä\\tsitä\\tADV\\t_\\t_\\t3\\tcc\\t_\\t_\\n6\\tenemmän\\tenemmän\\tADV\\t_\\t_\\t8\\tadvmod\\t_\\t_\\n7\\trapautuminen\\trapautua\\tNOUN\\t_\\tCase=Nom|Derivation=Minen|Number=Sing\\t8\\tnsubj\\t_\\t_\\n8\\tkiihtyy\\tkiihtyä\\tVERB\\t_\\tMood=Ind|Number=Sing|Person=3|Tense=Pres|VerbForm=Fin|Voice=Act\\t0\\troot\\t_\\t_\\n9\\t,\\t,\\tPUNCT\\t_\\t_\\t11\\tpunct\\t_\\t_\\n10\\tmikä\\tmikä\\tPRON\\t_\\tCase=Nom|Number=Sing|PronType=Rel\\t11\\tnsubj\\t_\\t_\\n11\\tlisää\\tlisätä\\tVERB\\t_\\tMood=Ind|Number=Sing|Person=3|Tense=Pres|VerbForm=Fin|Voice=Act\\t8\\tccomp\\t_\\t_\\n12\\tkalkkikiven\\tkalkki#kivi\\tNOUN\\t_\\tCase=Gen|Number=Sing\\t13\\tnmod:gobj\\t_\\t_\\n13\\tsyntymistä\\tsyntyä\\tNOUN\\t_\\tCase=Par|Derivation=Minen|Number=Sing\\t11\\tdobj\\t_\\t_\\n14\\t,\\t,\\tPUNCT\\t_\\t_\\t17\\tpunct\\t_\\t_\\n15\\tjoka\\tjoka\\tPRON\\t_\\tCase=Nom|Number=Sing|PronType=Rel\\t17\\tnsubj\\t_\\t_\\n16\\ttaas\\ttaas\\tADV\\t_\\t_\\t17\\tadvmod\\t_\\t_\\n17\\tsitoo\\tsitoa\\tVERB\\t_\\tMood=Ind|Number=Sing|Person=3|Tense=Pres|VerbForm=Fin|Voice=Act\\t13\\tacl:relcl\\t_\\t_\\n18\\thiilidioksidia\\thiili#dioksidi\\tNOUN\\t_\\tCase=Par|Number=Sing\\t17\\tdobj\\t_\\t_\\n19\\titseensä\\titse\\tPRON\\t_\\tCase=Ill|Number=Sing|Person[psor]=3|Reflex=Yes\\t20\\tnmod\\t_\\t_\\n20\\tvähentäen\\tvähentää\\tVERB\\t_\\tCase=Ins|InfForm=2|Number=Sing|VerbForm=Inf|Voice=Act\\t17\\tadvcl\\t_\\t_\\n21\\tpitoisuuksia\\tpitoisuus\\tNOUN\\t_\\tCase=Par|Number=Plur\\t20\\tdobj\\t_\\t_\\n22\\t.\\t.\\tPUNCT\\t_\\t_\\t8\\tpunct\\t_\\t_\\n</sentence>\\n<sentence>\\n1\\tKestää\\tkestää\\tVERB\\t_\\tMood=Ind|Number=Sing|Person=3|Tense=Pres|VerbForm=Fin|Voice=Act\\t0\\troot\\t_\\t_\\n2\\tkuitenkin\\tkuitenkin\\tADV\\t_\\t_\\t1\\tadvmod\\t_\\t_\\n3\\tmiljoonia\\tmiljoona\\tNUM\\t_\\tCase=Par|Number=Plur|NumType=Card\\t4\\tnummod\\t_\\t_\\n4\\tvuosia\\tvuosi\\tNOUN\\t_\\tCase=Par|Number=Plur\\t1\\tdobj\\t_\\t_\\n5\\t,\\t,\\tPUNCT\\t_\\t_\\t10\\tpunct\\t_\\t_\\n6\\tennen\\tennen\\tADV\\t_\\t_\\t7\\tadvmod\\t_\\t_\\n7\\tkuin\\tkuin\\tSCONJ\\t_\\t_\\t10\\tmark\\t_\\t_\\n8\\tilmakehän\\tilma#kehä\\tNOUN\\t_\\tCase=Gen|Number=Sing\\t9\\tnmod:poss\\t_\\t_\\n9\\thiilidioksidipitoisuus\\thiili#dioksidi#pitoisuus\\tNOUN\\t_\\tCase=Nom|Number=Sing\\t10\\tnsubj\\t_\\t_\\n10\\tpalaa\\tpalaa\\tVERB\\t_\\tMood=Ind|Number=Sing|Person=3|Tense=Pres|VerbForm=Fin|Voice=Act\\t1\\tacl:relcl\\t_\\t_\\n11\\tennalleen\\tennalleen\\tADV\\t_\\t_\\t10\\tadvmod\\t_\\t_\\n12\\tedellä\\tedellä\\tADV\\t_\\t_\\t13\\tadvmod\\t_\\t_\\n13\\tkuvatun\\tkuvata\\tVERB\\t_\\tCase=Gen|Degree=Pos|Number=Sing|PartForm=Past|VerbForm=Part|Voice=Pass\\t14\\tacl\\t_\\t_\\n14\\tprosessin\\tprosessi\\tNOUN\\t_\\tCase=Gen|Number=Sing\\t15\\tnmod:poss\\t_\\t_\\n15\\tavulla\\tapu\\tNOUN\\t_\\tCase=Ade|Number=Sing\\t10\\tnmod\\t_\\t_\\n16\\t.\\t.\\tPUNCT\\t_\\t_\\t1\\tpunct\\t_\\t_\\n</sentence>\\n</paragraph>\\n<paragraph>\\n<sentence>\\n1\\tToisaalta\\ttoisaalta\\tADV\\t_\\t_\\t5\\tadvmod\\t_\\t_\\n2\\tnykyistä\\tnykyinen\\tADJ\\t_\\tCase=Par|Degree=Pos|Number=Sing\\t3\\tamod\\t_\\t_\\n3\\thiilidioksidipitoisuutta\\thiili#dioksidi#pitoisuus\\tNOUN\\t_\\tCase=Par|Number=Sing\\t6\\tdobj\\t_\\t_\\n4\\ton\\tolla\\tVERB\\t_\\tMood=Ind|Number=Sing|Person=3|Tense=Pres|VerbForm=Fin|Voice=Act\\t5\\tcop\\t_\\t_\\n5\\tarveluttavaa\\tarveluttava\\tADJ\\t_\\tCase=Par|Degree=Pos|Number=Sing\\t0\\troot\\t_\\t_\\n6\\tverrata\\tverrata\\tVERB\\t_\\tInfForm=1|Number=Sing|VerbForm=Inf|Voice=Act\\t5\\tcsubj:cop\\t_\\t_\\n7\\t250\\t250\\tNUM\\t_\\tNumType=Card\\t8\\tcompound\\t_\\t_\\n8\\tmiljoonaa\\tmiljoona\\tNUM\\t_\\tCase=Par|Number=Sing|NumType=Card\\t9\\tnummod\\t_\\t_\\n9\\tvuotta\\tvuosi\\tNOUN\\t_\\tCase=Par|Number=Sing\\t11\\tnmod\\t_\\t_\\n10\\tsitten\\tsitten\\tADP\\t_\\tAdpType=Post\\t9\\tcase\\t_\\t_\\n11\\tolleeseen\\tolla\\tVERB\\t_\\tCase=Ill|Degree=Pos|Number=Sing|PartForm=Past|VerbForm=Part|Voice=Act\\t12\\tacl\\t_\\t_\\n12\\ttilanteeseen\\ttilanne\\tNOUN\\t_\\tCase=Ill|Number=Sing\\t6\\tnmod\\t_\\t_\\n13\\t,\\t,\\tPUNCT\\t_\\t_\\t18\\tpunct\\t_\\t_\\n14\\tkoska\\tkoska\\tSCONJ\\t_\\t_\\t18\\tmark\\t_\\t_\\n15\\tsilloin\\tsilloin\\tADV\\t_\\t_\\t17\\tadvmod\\t_\\t_\\n16\\tilmeisesti\\tilmeisesti\\tADV\\t_\\t_\\t15\\tadvmod\\t_\\t_\\n17\\tSiperiassa\\tSiperia\\tPROPN\\t_\\tCase=Ine|Number=Sing\\t18\\tnmod\\t_\\t_\\n18\\toli\\tolla\\tVERB\\t_\\tMood=Ind|Number=Sing|Person=3|Tense=Past|VerbForm=Fin|Voice=Act\\t5\\tadvcl\\t_\\t_\\n19\\tvoimakasta\\tvoimakas\\tADJ\\t_\\tCase=Par|Degree=Pos|Number=Sing\\t21\\tamod\\t_\\t_\\n20\\tvulkaanista\\tvulkaaninen\\tADJ\\t_\\tCase=Par|Degree=Pos|Number=Sing\\t21\\tamod\\t_\\t_\\n21\\ttoimintaa\\ttoiminta\\tNOUN\\t_\\tCase=Par|Number=Sing\\t18\\tnsubj\\t_\\t_\\n22\\tja\\tja\\tCONJ\\t_\\t_\\t18\\tcc\\t_\\t_\\n23\\tsilloin\\tsilloin\\tADV\\t_\\t_\\t24\\tadvmod\\t_\\t_\\n24\\ttapahtui\\ttapahtua\\tVERB\\t_\\tMood=Ind|Number=Sing|Person=3|Tense=Past|VerbForm=Fin|Voice=Act\\t18\\tconj\\t_\\t_\\n25\\tyksi\\tyksi\\tNUM\\t_\\tCase=Nom|Number=Sing|NumType=Card\\t26\\tnummod\\t_\\t_\\n26\\tmaapallon\\tmaa#pallo\\tNOUN\\t_\\tCase=Gen|Number=Sing\\t27\\tnmod:poss\\t_\\t_\\n27\\thistorian\\thistoria\\tNOUN\\t_\\tCase=Gen|Number=Sing\\t24\\tdobj\\t_\\t_\\n28\\tsuurimmista\\tsuuri\\tADJ\\t_\\tCase=Ela|Degree=Sup|Number=Plur\\t30\\tamod\\t_\\t_\\n29\\tlajien\\tlaji\\tNOUN\\t_\\tCase=Gen|Number=Plur\\t30\\tnmod:poss\\t_\\t_\\n30\\tmassakadoista\\tmassa#kato\\tNOUN\\t_\\tCase=Ela|Number=Plur\\t27\\tnmod\\t_\\t_\\n31\\t.\\t.\\tPUNCT\\t_\\t_\\t5\\tpunct\\t_\\t_\\n</sentence>\\n<sentence>\\n1\\tArviolta\\tarvio\\tNOUN\\t_\\tCase=Abl|Number=Sing\\t3\\tnmod\\t_\\t_\\n2\\t95\\t95\\tNUM\\t_\\tNumType=Card\\t3\\tnummod\\t_\\t_\\n3\\t%\\t%\\tSYM\\t_\\t_\\t5\\tnsubj\\t_\\t_\\n4\\tlajeista\\tlaji\\tNOUN\\t_\\tCase=Ela|Number=Plur\\t3\\tnmod\\t_\\t_\\n5\\tkatosi\\tkadota\\tVERB\\t_\\tMood=Ind|Number=Sing|Person=3|Tense=Past|VerbForm=Fin|Voice=Act\\t0\\troot\\t_\\t_\\n6\\tja\\tja\\tCONJ\\t_\\t_\\t5\\tcc\\t_\\t_\\n7\\tbiodiversiteetin\\tbiodiversiteetti\\tNOUN\\t_\\tCase=Gen|Number=Sing\\t8\\tnmod:gobj\\t_\\t_\\n8\\tpalautuminen\\tpala#utua\\tNOUN\\t_\\tCase=Nom|Derivation=Minen|Number=Sing\\t9\\tnsubj\\t_\\t_\\n9\\tkesti\\tkestää\\tVERB\\t_\\tMood=Ind|Number=Sing|Person=3|Tense=Past|VerbForm=Fin|Voice=Act\\t5\\tconj\\t_\\t_\\n10\\t5–6\\t5–6\\tNUM\\t_\\tNumType=Card\\t11\\tcompound\\t_\\t_\\n11\\tmiljoonaa\\tmiljoona\\tNUM\\t_\\tCase=Par|Number=Sing|NumType=Card\\t12\\tnummod\\t_\\t_\\n12\\tvuotta\\tvuosi\\tNOUN\\t_\\tCase=Par|Number=Sing\\t9\\tdobj\\t_\\t_\\n13\\t.\\t.\\tPUNCT\\t_\\t_\\t5\\tpunct\\t_\\t_\\n</sentence>\\n<sentence>\\n1\\tSilloin\\tsilloin\\tADV\\t_\\t_\\t5\\tadvmod\\t_\\t_\\n2\\thiilidioksidipitoisuus\\thiili#dioksidi#pitoisuus\\tNOUN\\t_\\tCase=Nom|Number=Sing\\t5\\tnsubj:cop\\t_\\t_\\n3\\toli\\tolla\\tVERB\\t_\\tMood=Ind|Number=Sing|Person=3|Tense=Past|VerbForm=Fin|Voice=Act\\t5\\tcop\\t_\\t_\\n4\\tepätavallisen\\tepä#tavallinen\\tADJ\\t_\\tCase=Gen|Degree=Pos|Number=Sing\\t5\\tamod\\t_\\t_\\n5\\tkorkea\\tkorkea\\tADJ\\t_\\tCase=Nom|Degree=Pos|Number=Sing\\t0\\troot\\t_\\t_\\n6\\tverrattuna\\tverrata\\tVERB\\t_\\tCase=Ess|Degree=Pos|Number=Sing|PartForm=Past|VerbForm=Part|Voice=Pass\\t7\\tacl\\t_\\t_\\n7\\tnykytilanteeseen\\tnyky#tilanne\\tNOUN\\t_\\tCase=Ill|Number=Sing\\t5\\tnmod\\t_\\t_\\n8\\t.\\t.\\tPUNCT\\t_\\t_\\t5\\tpunct\\t_\\t_\\n</sentence>\\n</paragraph>\\n<paragraph>\\n<sentence>\\n1\\tNyt\\tnyt\\tADV\\t_\\t_\\t6\\tadvmod\\t_\\t_\\n2\\tkäynnissä\\tkäynti\\tNOUN\\t_\\tCase=Ine|Number=Sing\\t3\\tnmod\\t_\\t_\\n3\\toleva\\tolla\\tVERB\\t_\\tCase=Nom|Degree=Pos|Number=Sing|PartForm=Pres|VerbForm=Part|Voice=Act\\t4\\tacl\\t_\\t_\\n4\\tilmastonmuutos\\tilmasto#muutos\\tNOUN\\t_\\tCase=Nom|Number=Sing\\t6\\tnsubj:cop\\t_\\t_\\n5\\ton\\tolla\\tVERB\\t_\\tMood=Ind|Number=Sing|Person=3|Tense=Pres|VerbForm=Fin|Voice=Act\\t6\\tcop\\t_\\t_\\n6\\tseurausta\\tseuraus\\tNOUN\\t_\\tCase=Par|Number=Sing\\t0\\troot\\t_\\t_\\n7\\tihmisen\\tihminen\\tNOUN\\t_\\tCase=Gen|Number=Sing\\t9\\tnmod:gsubj\\t_\\t_\\n8\\tomasta\\toma\\tADJ\\t_\\tCase=Ela|Degree=Pos|Number=Sing\\t9\\tamod\\t_\\t_\\n9\\ttoiminnasta\\ttoiminta\\tNOUN\\t_\\tCase=Ela|Number=Sing\\t6\\tnmod\\t_\\t_\\n10\\t.\\t.\\tPUNCT\\t_\\t_\\t6\\tpunct\\t_\\t_\\n</sentence>\\n<sentence>\\n1\\tIhmiskunnan\\tihmis#kunta\\tNOUN\\t_\\tCase=Gen|Number=Sing\\t2\\tnsubj\\t_\\t_\\n2\\taiheuttaman\\taiheuttaa\\tVERB\\t_\\tCase=Gen|Degree=Pos|Number=Sing|PartForm=Agt|VerbForm=Part|Voice=Act\\t3\\tacl\\t_\\t_\\n3\\tilmastonmuutoksen\\tilmasto#muutos\\tNOUN\\t_\\tCase=Gen|Number=Sing\\t4\\tnmod:gsubj\\t_\\t_\\n4\\tvaikutukset\\tvaikutus\\tNOUN\\t_\\tCase=Nom|Number=Plur\\t6\\tnsubj\\t_\\t_\\n5\\tmaapallolle\\tmaa#pallo\\tNOUN\\t_\\tCase=All|Number=Sing\\t4\\tnmod\\t_\\t_\\n6\\tovat\\tolla\\tVERB\\t_\\tMood=Ind|Number=Plur|Person=3|Tense=Pres|VerbForm=Fin|Voice=Act\\t0\\troot\\t_\\t_\\n7\\tsaavuttamassa\\tsaavuttaa\\tVERB\\t_\\tCase=Ine|InfForm=3|Number=Sing|VerbForm=Inf|Voice=Act\\t6\\txcomp\\t_\\t_\\n8\\tsellaiset\\tsellainen\\tADJ\\t_\\tCase=Nom|Number=Plur\\t9\\tamod\\t_\\t_\\n9\\tmittasuhteet\\tmitta#suhde\\tNOUN\\t_\\tCase=Nom|Number=Plur\\t7\\tdobj\\t_\\t_\\n10\\t,\\t,\\tPUNCT\\t_\\t_\\t14\\tpunct\\t_\\t_\\n11\\tettä\\tettä\\tSCONJ\\t_\\t_\\t14\\tmark\\t_\\t_\\n12\\tnykyaikaa\\tnyky#aika\\tNOUN\\t_\\tCase=Par|Number=Sing\\t15\\tdobj\\t_\\t_\\n13\\ton\\tolla\\tAUX\\t_\\tMood=Ind|Number=Sing|Person=3|Tense=Pres|VerbForm=Fin|Voice=Act\\t14\\tauxpass\\t_\\t_\\n14\\talettu\\talkaa\\tVERB\\t_\\tCase=Nom|Degree=Pos|Number=Sing|PartForm=Past|VerbForm=Part|Voice=Pass\\t6\\tadvcl\\t_\\t_\\n15\\tkutsua\\tkutsua\\tVERB\\t_\\tInfForm=1|Number=Sing|VerbForm=Inf|Voice=Act\\t14\\txcomp\\t_\\t_\\n16\\tmaailmanhistoriassa\\tmaa#ilman#historia\\tNOUN\\t_\\tCase=Ine|Number=Sing\\t15\\tnmod\\t_\\t_\\n17\\tantroposeeniksi\\tantroposeeniksi\\tNOUN\\t_\\tCase=Tra|Number=Plur\\t15\\tnmod\\t_\\t_\\n18\\teli\\teli\\tCONJ\\t_\\t_\\t17\\tcc\\t_\\t_\\n19\\tihmisten\\tihminen\\tNOUN\\t_\\tCase=Gen|Number=Plur\\t20\\tnmod:poss\\t_\\t_\\n20\\taikakaudeksi\\taika#kausi\\tNOUN\\t_\\tCase=Tra|Number=Sing\\t17\\tconj\\t_\\t_\\n21\\t.\\t.\\tPUNCT\\t_\\t_\\t6\\tpunct\\t_\\t_\\n</sentence>\\n<sentence>\\n1\\tIhmisperäisen\\tihminen#peräinen\\tADJ\\t_\\tCase=Gen|Degree=Pos|Number=Sing\\t2\\tamod\\t_\\t_\\n2\\tilmastonmuutoksen\\tilmasto#muutos\\tNOUN\\t_\\tCase=Gen|Number=Sing\\t5\\tnmod\\t_\\t_\\n3\\tmyötä\\tmyötä\\tADP\\t_\\tAdpType=Post\\t2\\tcase\\t_\\t_\\n4\\tmaapallolla\\tmaa#pallo\\tNOUN\\t_\\tCase=Ade|Number=Sing\\t5\\tnmod\\t_\\t_\\n5\\ton\\tolla\\tVERB\\t_\\tMood=Ind|Number=Sing|Person=3|Tense=Pres|VerbForm=Fin|Voice=Act\\t0\\troot\\t_\\t_\\n6\\talkamassa\\talkaa\\tVERB\\t_\\tCase=Ine|InfForm=3|Number=Sing|VerbForm=Inf|Voice=Act\\t5\\txcomp\\t_\\t_\\n7\\tkokonaan\\tkokonaan\\tADV\\t_\\t_\\t8\\tadvmod\\t_\\t_\\n8\\tuusi\\tuusi\\tADJ\\t_\\tCase=Nom|Degree=Pos|Number=Sing\\t12\\tamod\\t_\\t_\\n9\\t,\\t,\\tPUNCT\\t_\\t_\\t12\\tpunct\\t_\\t_\\n10\\tluontaisesta\\tluontainen\\tADJ\\t_\\tCase=Ela|Degree=Pos|Number=Sing\\t12\\tamod\\t_\\t_\\n11\\tpoikkeava\\tpoikkeava\\tADJ\\t_\\tCase=Nom|Degree=Pos|Number=Sing\\t12\\tamod\\t_\\t_\\n12\\tkehityskulku\\tkehitys#kulku\\tNOUN\\t_\\tCase=Nom|Number=Sing\\t5\\tnsubj\\t_\\t_\\n13\\t.\\t.\\tPUNCT\\t_\\t_\\t5\\tpunct\\t_\\t_\\n</sentence>\\n</paragraph>\\n<paragraph>\\n<sentence>\\n1\\tTutkijoiden\\ttutkija\\tNOUN\\t_\\tCase=Gen|Number=Plur\\t5\\tnmod\\t_\\t_\\n2\\tmukaan\\tmukaan\\tADP\\t_\\tAdpType=Post\\t1\\tcase\\t_\\t_\\n3\\tmaapallon\\tmaa#pallo\\tNOUN\\t_\\tCase=Gen|Number=Sing\\t4\\tnmod:poss\\t_\\t_\\n4\\tkeskilämpötila\\tkeski#lämpö#tila\\tNOUN\\t_\\tCase=Nom|Number=Sing\\t5\\tnsubj\\t_\\t_\\n5\\ttulee\\ttulla\\tVERB\\t_\\tMood=Ind|Number=Sing|Person=3|Tense=Pres|VerbForm=Fin|Voice=Act\\t0\\troot\\t_\\t_\\n6\\tnousemaan\\tnousta\\tVERB\\t_\\tCase=Ill|InfForm=3|Number=Sing|VerbForm=Inf|Voice=Act\\t5\\txcomp\\t_\\t_\\n7\\tihmiskunnan\\tihmis#kunta\\tNOUN\\t_\\tCase=Gen|Number=Sing\\t8\\tnmod:poss\\t_\\t_\\n8\\ttoimien\\ttoimi\\tNOUN\\t_\\tCase=Gen|Number=Plur\\t6\\tnmod\\t_\\t_\\n9\\tjohdosta\\tjohdosta\\tADP\\t_\\tAdpType=Post\\t8\\tcase\\t_\\t_\\n10\\tvuoteen\\tvuosi\\tNOUN\\t_\\tCase=Ill|Number=Sing\\t6\\tnmod\\t_\\t_\\n11\\t2100\\t2100\\tNUM\\t_\\tNumType=Card\\t10\\tnummod\\t_\\t_\\n12\\tmennessä\\tmennessä\\tADP\\t_\\tAdpType=Post\\t10\\tcase\\t_\\t_\\n13\\ttodennäköisesti\\ttoden#näköisesti\\tADV\\t_\\t_\\t14\\tadvmod\\t_\\t_\\n14\\tusealla\\tusea\\tADJ\\t_\\tCase=Ade|Degree=Pos|Number=Sing\\t15\\tamod\\t_\\t_\\n15\\tcelsiusasteella\\tcelsius#aste\\tNOUN\\t_\\tCase=Ade|Number=Sing\\t6\\tnmod\\t_\\t_\\n16\\tjatkaen\\tjatkaa\\tVERB\\t_\\tCase=Ins|InfForm=2|Number=Sing|VerbForm=Inf|Voice=Act\\t6\\tadvcl\\t_\\t_\\n17\\tnousuaan\\tnousu\\tADV\\t_\\t_\\t16\\tadvmod\\t_\\t_\\n18\\tuseita\\tusea\\tADJ\\t_\\tCase=Par|Degree=Pos|Number=Plur\\t19\\tamod\\t_\\t_\\n19\\tvuosisatoja\\tvuosi#sata\\tNOUN\\t_\\tCase=Par|Number=Plur\\t16\\tdobj\\t_\\t_\\n20\\t.\\t.\\tPUNCT\\t_\\t_\\t5\\tpunct\\t_\\t_\\n</sentence>\\n<sentence>\\n1\\tNykyinen\\tnykyinen\\tADJ\\t_\\tCase=Nom|Degree=Pos|Number=Sing\\t2\\tamod\\t_\\t_\\n2\\tkonsensusarvio\\tkonsensus#arvio\\tNOUN\\t_\\tCase=Nom|Number=Sing\\t7\\tnsubj:cop\\t_\\t_\\n3\\tvuodelle\\tvuosi\\tNOUN\\t_\\tCase=All|Number=Sing\\t2\\tnmod\\t_\\t_\\n4\\t2100\\t2100\\tNUM\\t_\\tNumType=Card\\t3\\tnummod\\t_\\t_\\n5\\ton\\tolla\\tVERB\\t_\\tMood=Ind|Number=Sing|Person=3|Tense=Pres|VerbForm=Fin|Voice=Act\\t7\\tcop\\t_\\t_\\n6\\tnoin\\tnoin\\tADV\\t_\\t_\\t7\\tadvmod\\t_\\t_\\n7\\t1\\t1\\tNUM\\t_\\tNumType=Card\\t13\\tnummod\\t_\\t_\\n8\\t,\\t,\\tPUNCT\\t_\\t_\\t7\\tpunct\\t_\\t_\\n9\\t5\\t5\\tNUM\\t_\\tNumType=Card\\t10\\tcompound\\t_\\t_\\n10\\t–6\\t–6\\tNUM\\t_\\t_\\t7\\tconj\\t_\\t_\\n11\\t,\\t,\\tPUNCT\\t_\\t_\\t7\\tpunct\\t_\\t_\\n12\\t0\\t0\\tNUM\\t_\\tNumType=Card\\t7\\tconj\\t_\\t_\\n13\\t°C\\t°C\\tSYM\\t_\\t_\\t0\\troot\\t_\\t_\\n14\\t.\\t.\\tPUNCT\\t_\\t_\\t13\\tpunct\\t_\\t_\\n</sentence>\\n<sentence>\\n1\\tLämpenemisen\\tlämmetä\\tNOUN\\t_\\tCase=Gen|Derivation=Minen|Number=Sing\\t2\\tnmod:poss\\t_\\t_\\n2\\tvoimakkuus\\tvoimakkuus\\tNOUN\\t_\\tCase=Nom|Number=Sing\\t3\\tnsubj\\t_\\t_\\n3\\triippuu\\triippua\\tVERB\\t_\\tMood=Ind|Number=Sing|Person=3|Tense=Pres|VerbForm=Fin|Voice=Act\\t0\\troot\\t_\\t_\\n4\\ttässä\\ttämä\\tPRON\\t_\\tCase=Ine|Number=Sing|PronType=Dem\\t5\\tdet\\t_\\t_\\n5\\tarviossa\\tarvio\\tNOUN\\t_\\tCase=Ine|Number=Sing\\t3\\tnmod\\t_\\t_\\n6\\tsiitä\\tse\\tPRON\\t_\\tCase=Ela|Number=Sing|PronType=Dem\\t5\\tnmod\\t_\\t_\\n7\\t,\\t,\\tPUNCT\\t_\\t_\\t8\\tpunct\\t_\\t_\\n8\\tlisääntyykö\\tlisääntyä\\tVERB\\t_\\tClitic=Ko|Mood=Ind|Number=Sing|Person=3|Tense=Pres|VerbForm=Fin|Voice=Act\\t6\\tccomp\\t_\\t_\\n9\\tvai\\tvai\\tCONJ\\t_\\t_\\t8\\tcc\\t_\\t_\\n10\\tväheneekö\\tvähetä\\tVERB\\t_\\tClitic=Ko|Mood=Ind|Number=Sing|Person=3|Tense=Pres|VerbForm=Fin|Voice=Act\\t8\\tconj\\t_\\t_\\n11\\tihmiskunnan\\tihmis#kunta\\tNOUN\\t_\\tCase=Gen|Number=Sing\\t12\\tnmod:poss\\t_\\t_\\n12\\tilmakehään\\tilma#kehä\\tNOUN\\t_\\tCase=Ill|Number=Sing\\t13\\tnmod\\t_\\t_\\n13\\tsyytämien\\tsyytää\\tVERB\\t_\\tCase=Gen|Degree=Pos|Number=Plur|PartForm=Agt|VerbForm=Part|Voice=Act\\t14\\tacl\\t_\\t_\\n14\\tkasvihuonekaasujen\\tkasvi#huone#kaasu\\tNOUN\\t_\\tCase=Gen|Number=Plur\\t15\\tnmod:poss\\t_\\t_\\n15\\tmäärä\\tmäärä\\tNOUN\\t_\\tCase=Nom|Number=Sing\\t10\\tnsubj\\t_\\t_\\n16\\t.\\t.\\tPUNCT\\t_\\t_\\t3\\tpunct\\t_\\t_\\n</sentence>\\n<sentence>\\n1\\tNykyisellä\\tnykyinen\\tADJ\\t_\\tCase=Ade|Degree=Pos|Number=Sing\\t2\\tamod\\t_\\t_\\n2\\tkehityksellä\\tkehitys\\tNOUN\\t_\\tCase=Ade|Number=Sing\\t6\\tnmod\\t_\\t_\\n3\\tilmakehän\\tilma#kehä\\tNOUN\\t_\\tCase=Gen|Number=Sing\\t4\\tnmod:poss\\t_\\t_\\n4\\tkasvihuonekaasujen\\tkasvi#huone#kaasu\\tNOUN\\t_\\tCase=Gen|Number=Plur\\t5\\tnmod:poss\\t_\\t_\\n5\\tpitoisuus\\tpitoisuus\\tNOUN\\t_\\tCase=Nom|Number=Sing\\t6\\tnsubj\\t_\\t_\\n6\\ttulisi\\ttulla\\tVERB\\t_\\tMood=Cnd|Number=Sing|Person=3|VerbForm=Fin|Voice=Act\\t0\\troot\\t_\\t_\\n7\\tlähes\\tlähes\\tADV\\t_\\t_\\t8\\tadvmod\\t_\\t_\\n8\\tkolminkertaistumaan\\tkolminkertaistua\\tVERB\\t_\\tCase=Ill|InfForm=3|Number=Sing|VerbForm=Inf|Voice=Act\\t6\\txcomp:ds\\t_\\t_\\n9\\tnykyisestä\\tnykyinen\\tADJ\\t_\\tCase=Ela|Degree=Pos|Number=Sing\\t8\\tnmod\\t_\\t_\\n10\\t.\\t.\\tPUNCT\\t_\\t_\\t6\\tpunct\\t_\\t_\\n</sentence>\\n</paragraph>\\n<paragraph>\\n<sentence>\\n1\\tJos\\tjos\\tSCONJ\\t_\\t_\\t3\\tmark\\t_\\t_\\n2\\tilmastonmuutos\\tilmasto#muutos\\tNOUN\\t_\\tCase=Nom|Number=Sing\\t4\\tdobj\\t_\\t_\\n3\\thalutaan\\thaluta\\tVERB\\t_\\tMood=Ind|Tense=Pres|VerbForm=Fin|Voice=Pass\\t10\\tadvcl\\t_\\t_\\n4\\tpitää\\tpitää\\tVERB\\t_\\tInfForm=1|Number=Sing|VerbForm=Inf|Voice=Act\\t3\\txcomp\\t_\\t_\\n5\\taisoissa\\taisa\\tNOUN\\t_\\tCase=Ine|Number=Plur\\t4\\tnmod\\t_\\t_\\n6\\t,\\t,\\tPUNCT\\t_\\t_\\t3\\tpunct\\t_\\t_\\n7\\tteollisuusmaiden\\tteollisuus#maa\\tNOUN\\t_\\tCase=Gen|Number=Plur\\t8\\tnmod:poss\\t_\\t_\\n8\\tpäästöjen\\tpäästö\\tNOUN\\t_\\tCase=Gen|Number=Plur\\t10\\tnsubj\\t_\\t_\\n9\\tolisi\\tolla\\tAUX\\t_\\tMood=Cnd|Number=Sing|Person=3|VerbForm=Fin|Voice=Act\\t10\\tauxpass\\t_\\t_\\n10\\tpudottava\\tpudota\\tVERB\\t_\\tCase=Nom|Degree=Pos|Number=Sing|PartForm=Pres|VerbForm=Part|Voice=Pass\\t0\\troot\\t_\\t_\\n11\\ttuntuvasti\\ttuntuvasti\\tADV\\t_\\t_\\t10\\tadvmod\\t_\\t_\\n12\\tjo\\tjo\\tADV\\t_\\t_\\t13\\tadvmod\\t_\\t_\\n13\\tlähivuosikymmeninä\\tlähi#vuosikymmen\\tNOUN\\t_\\tCase=Ess|Number=Plur\\t10\\tnmod\\t_\\t_\\n14\\t,\\t,\\tPUNCT\\t_\\t_\\t10\\tpunct\\t_\\t_\\n15\\tja\\tja\\tCONJ\\t_\\t_\\t10\\tcc\\t_\\t_\\n16\\tteollistuvien\\tteollistua\\tADJ\\t_\\tCase=Gen|Degree=Pos|Number=Plur\\t17\\tamod\\t_\\t_\\n17\\tkehitysmaittenkin\\tkehitys#maa\\tNOUN\\t_\\tCase=Gen|Clitic=Kin|Number=Plur\\t19\\tnsubj\\t_\\t_\\n18\\tolisi\\tolla\\tAUX\\t_\\tMood=Cnd|Number=Sing|Person=3|VerbForm=Fin|Voice=Act\\t19\\tauxpass\\t_\\t_\\n19\\thillittävä\\thillitä\\tVERB\\t_\\tCase=Nom|Degree=Pos|Number=Sing|PartForm=Pres|VerbForm=Part|Voice=Pass\\t10\\tconj\\t_\\t_\\n20\\ttehokkaasti\\ttehokkaasti\\tADV\\t_\\t_\\t19\\tadvmod\\t_\\t_\\n21\\tpäästöjensä\\tpäästö\\tNOUN\\t_\\tCase=Gen|Number=Plur|Person[psor]=3\\t22\\tnmod:poss\\t_\\t_\\n22\\tkasvuvauhtia\\tkasvu#vauhti\\tNOUN\\t_\\tCase=Par|Number=Sing\\t19\\tdobj\\t_\\t_\\n23\\t.\\t.\\tPUNCT\\t_\\t_\\t10\\tpunct\\t_\\t_\\n</sentence>\\n<sentence>\\n1\\tTämä\\ttämä\\tPRON\\t_\\tCase=Nom|Number=Sing|PronType=Dem\\t2\\tnsubj\\t_\\t_\\n2\\tmerkitsisi\\tmerkitä\\tVERB\\t_\\tMood=Cnd|Number=Sing|Person=3|VerbForm=Fin|Voice=Act\\t0\\troot\\t_\\t_\\n3\\tsitä\\tse\\tPRON\\t_\\tCase=Par|Number=Sing|PronType=Dem\\t2\\tdobj\\t_\\t_\\n4\\t,\\t,\\tPUNCT\\t_\\t_\\t10\\tpunct\\t_\\t_\\n5\\tettä\\tettä\\tSCONJ\\t_\\t_\\t10\\tmark\\t_\\t_\\n6\\tsuurin\\tsuuri\\tADJ\\t_\\tCase=Nom|Degree=Sup|Number=Sing\\t7\\tamod\\t_\\t_\\n7\\tosa\\tosa\\tNOUN\\t_\\tCase=Nom|Number=Sing\\t10\\tdobj\\t_\\t_\\n8\\tfossiilisista\\tfossiilinen\\tADJ\\t_\\tCase=Ela|Degree=Pos|Number=Plur\\t9\\tamod\\t_\\t_\\n9\\tpolttoaineista\\tpoltto#aine\\tNOUN\\t_\\tCase=Ela|Number=Plur\\t7\\tnmod\\t_\\t_\\n10\\tjätettäisiin\\tjättää\\tVERB\\t_\\tMood=Cnd|VerbForm=Fin|Voice=Pass\\t3\\tccomp\\t_\\t_\\n11\\tikiajoiksi\\tiki#ajo\\tNOUN\\t_\\tCase=Tra|Number=Plur\\t10\\txcomp:ds\\t_\\t_\\n12\\tmaan\\tmaa\\tNOUN\\t_\\tCase=Gen|Number=Sing\\t13\\tnmod:poss\\t_\\t_\\n13\\tpoveen\\tpovi\\tNOUN\\t_\\tCase=Ill|Number=Sing\\t10\\tnmod\\t_\\t_\\n14\\t.\\t.\\tPUNCT\\t_\\t_\\t2\\tpunct\\t_\\t_\\n</sentence>\\n<sentence>\\n1\\tIhmiskunnan\\tihmis#kunta\\tNOUN\\t_\\tCase=Gen|Number=Sing\\t2\\tnmod:poss\\t_\\t_\\n2\\tpäästöjen\\tpäästö\\tNOUN\\t_\\tCase=Gen|Number=Plur\\t3\\tnmod:poss\\t_\\t_\\n3\\tkehitys\\tkehitys\\tNOUN\\t_\\tCase=Nom|Number=Sing\\t4\\tnsubj\\t_\\t_\\n4\\triippuu\\triippua\\tVERB\\t_\\tMood=Ind|Number=Sing|Person=3|Tense=Pres|VerbForm=Fin|Voice=Act\\t0\\troot\\t_\\t_\\n5\\tmuun\\tmuu\\tADV\\t_\\t_\\t8\\tadvmod\\t_\\t_\\n6\\tmuassa\\tmuassa\\tADV\\t_\\t_\\t5\\tmwe\\t_\\t_\\n7\\tpoliittisesta\\tpoliittinen\\tADJ\\t_\\tCase=Ela|Degree=Pos|Number=Sing\\t8\\tamod\\t_\\t_\\n8\\ttahdosta\\ttahto\\tNOUN\\t_\\tCase=Ela|Number=Sing\\t4\\tnmod\\t_\\t_\\n9\\t,\\t,\\tPUNCT\\t_\\t_\\t8\\tpunct\\t_\\t_\\n10\\ttekniikan\\ttekniikka\\tNOUN\\t_\\tCase=Gen|Number=Sing\\t11\\tnmod:gsubj\\t_\\t_\\n11\\tkehityksestä\\tkehitys\\tNOUN\\t_\\tCase=Ela|Number=Sing\\t8\\tconj\\t_\\t_\\n12\\tja\\tja\\tCONJ\\t_\\t_\\t8\\tcc\\t_\\t_\\n13\\tpäästöjen\\tpäästö\\tNOUN\\t_\\tCase=Gen|Number=Plur\\t14\\tnmod:poss\\t_\\t_\\n14\\trajoittamisyritysten\\trajoittaa#yritys\\tNOUN\\t_\\tCase=Gen|Number=Plur\\t15\\tnmod:gsubj\\t_\\t_\\n15\\tvaikutuksista\\tvaikutus\\tNOUN\\t_\\tCase=Ela|Number=Plur\\t8\\tconj\\t_\\t_\\n16\\t.\\t.\\tPUNCT\\t_\\t_\\t4\\tpunct\\t_\\t_\\n</sentence>\\n</paragraph>\\n<paragraph>\\n<sentence>\\n1\\tIlmaston\\tilmasto\\tNOUN\\t_\\tCase=Gen|Number=Sing\\t2\\tnmod:gsubj\\t_\\t_\\n2\\tlämpeneminen\\tlämmetä\\tNOUN\\t_\\tCase=Nom|Derivation=Minen|Number=Sing\\t3\\tnsubj\\t_\\t_\\n3\\tjohtuu\\tjohtua\\tVERB\\t_\\tMood=Ind|Number=Sing|Person=3|Tense=Pres|VerbForm=Fin|Voice=Act\\t0\\troot\\t_\\t_\\n4\\tennen\\tennen\\tADV\\t_\\t_\\t3\\tadvmod\\t_\\t_\\n5\\tkaikkea\\tkaikki\\tADV\\t_\\t_\\t4\\tmwe\\t_\\t_\\n6\\tilmakehän\\tilma#kehä\\tNOUN\\t_\\tCase=Gen|Number=Sing\\t7\\tnmod:poss\\t_\\t_\\n7\\thiilidioksidi-\\thiili#dioksidi\\tNOUN\\t_\\tCase=Nom|Number=Sing\\t3\\tnsubj\\t_\\t_\\n8\\t,\\t,\\tPUNCT\\t_\\t_\\t7\\tpunct\\t_\\t_\\n9\\tmetaani-\\tmetaani\\tNOUN\\t_\\tCase=Nom|Number=Sing\\t7\\tconj\\t_\\t_\\n10\\tja\\tja\\tCONJ\\t_\\t_\\t7\\tcc\\t_\\t_\\n11\\ttyppioksiduulipitoisuuksien\\ttyppi#oksiduuli#pitoisuus\\tNOUN\\t_\\tCase=Gen|Number=Plur\\t7\\tconj\\t_\\t_\\n12\\tsekä\\tsekä\\tCONJ\\t_\\t_\\t7\\tcc\\t_\\t_\\n13\\ttroposfäärin\\ttroposfääri\\tNOUN\\t_\\tCase=Gen|Number=Sing\\t14\\tnmod:poss\\t_\\t_\\n14\\totsonipitoisuuksien\\totsoni#pitoisuus\\tNOUN\\t_\\tCase=Gen|Number=Plur\\t15\\tnmod:poss\\t_\\t_\\n15\\tnoususta\\tnousu\\tNOUN\\t_\\tCase=Ela|Number=Sing\\t7\\tconj\\t_\\t_\\n16\\t.\\t.\\tPUNCT\\t_\\t_\\t3\\tpunct\\t_\\t_\\n</sentence>\\n<sentence>\\n1\\tPienhiukkasten\\tpiki#hiukkanen\\tNOUN\\t_\\tCase=Gen|Number=Plur\\t4\\tnmod:poss\\t_\\t_\\n2\\teli\\teli\\tCONJ\\t_\\t_\\t1\\tcc\\t_\\t_\\n3\\taerosolien\\taerosoli\\tNOUN\\t_\\tCase=Gen|Number=Plur\\t1\\tconj\\t_\\t_\\n4\\tvaikutusta\\tvaikutus\\tNOUN\\t_\\tCase=Par|Number=Sing\\t8\\tdobj\\t_\\t_\\n5\\tpilvisyyteen\\tpilvisyys\\tNOUN\\t_\\tCase=Ill|Number=Sing\\t4\\tnmod\\t_\\t_\\n6\\ton\\tolla\\tVERB\\t_\\tMood=Ind|Number=Sing|Person=3|Tense=Pres|VerbForm=Fin|Voice=Act\\t7\\tcop\\t_\\t_\\n7\\tvaikea\\tvaikea\\tADJ\\t_\\tCase=Nom|Degree=Pos|Number=Sing\\t0\\troot\\t_\\t_\\n8\\tarvioida\\tarvioida\\tVERB\\t_\\tInfForm=1|Number=Sing|VerbForm=Inf|Voice=Act\\t7\\txcomp:ds\\t_\\t_\\n9\\ttarkasti\\ttarkasti\\tADV\\t_\\t_\\t8\\tadvmod\\t_\\t_\\n10\\t,\\t,\\tPUNCT\\t_\\t_\\t7\\tpunct\\t_\\t_\\n11\\tmutta\\tmutta\\tCONJ\\t_\\t_\\t7\\tcc\\t_\\t_\\n12\\tnykytiedon\\tnyky#tieto\\tNOUN\\t_\\tCase=Gen|Number=Sing\\t13\\tnmod:poss\\t_\\t_\\n13\\tvalossa\\tvalo\\tNOUN\\t_\\tCase=Ine|Number=Sing\\t15\\tnmod\\t_\\t_\\n14\\tpienhiukkasilla\\tpiki#hiukkanen\\tNOUN\\t_\\tCase=Ade|Number=Plur\\t15\\tnmod:own\\t_\\t_\\n15\\tolisi\\tolla\\tVERB\\t_\\tMood=Cnd|Number=Sing|Person=3|VerbForm=Fin|Voice=Act\\t7\\tconj\\t_\\t_\\n16\\tvoimakas\\tvoimakas\\tADJ\\t_\\tCase=Nom|Degree=Pos|Number=Sing\\t19\\tamod\\t_\\t_\\n17\\tilmastoa\\tilmasto\\tNOUN\\t_\\tCase=Par|Number=Sing\\t18\\tdobj\\t_\\t_\\n18\\tviilentävä\\tviilentää\\tVERB\\t_\\tCase=Nom|Degree=Pos|Number=Sing|PartForm=Pres|VerbForm=Part|Voice=Act\\t19\\tacl\\t_\\t_\\n19\\tnettovaikutus\\tnetto#vaikutus\\tNOUN\\t_\\tCase=Nom|Number=Sing\\t15\\tnsubj\\t_\\t_\\n20\\t,\\t,\\tPUNCT\\t_\\t_\\t23\\tpunct\\t_\\t_\\n21\\tjoka\\tjoka\\tPRON\\t_\\tCase=Nom|Number=Sing|PronType=Rel\\t23\\tdobj\\t_\\t_\\n22\\ton\\tolla\\tAUX\\t_\\tMood=Ind|Number=Sing|Person=3|Tense=Pres|VerbForm=Fin|Voice=Act\\t23\\tauxpass\\t_\\t_\\n23\\thuomioitu\\thuomioida\\tVERB\\t_\\tCase=Nom|Degree=Pos|Number=Sing|PartForm=Past|VerbForm=Part|Voice=Pass\\t19\\tacl:relcl\\t_\\t_\\n24\\tilmastomalleissa\\tilmasto#malli\\tNOUN\\t_\\tCase=Ine|Number=Plur\\t23\\tnmod\\t_\\t_\\n25\\tja\\tja\\tCONJ\\t_\\t_\\t24\\tcc\\t_\\t_\\n26\\t-ennusteissa\\tennuste\\tNOUN\\t_\\tCase=Ine|Number=Plur\\t24\\tconj\\t_\\t_\\n27\\t.\\t.\\tPUNCT\\t_\\t_\\t7\\tpunct\\t_\\t_\\n</sentence>\\n<sentence>\\n1\\tPienhiukkasten\\tpiki#hiukkanen\\tNOUN\\t_\\tCase=Gen|Number=Plur\\t3\\tnmod:poss\\t_\\t_\\n2\\tsuhteellinen\\tsuhteellinen\\tADJ\\t_\\tCase=Nom|Degree=Pos|Number=Sing\\t3\\tamod\\t_\\t_\\n3\\tilmakehää\\tilma#kehä\\tNOUN\\t_\\tCase=Par|Number=Sing\\t4\\tdobj\\t_\\t_\\n4\\tviilentävä\\tviilentää\\tVERB\\t_\\tCase=Nom|Degree=Pos|Number=Sing|PartForm=Pres|VerbForm=Part|Voice=Act\\t5\\tacl\\t_\\t_\\n5\\tvaikutus\\tvaikutus\\tNOUN\\t_\\tCase=Nom|Number=Sing\\t6\\tnsubj\\t_\\t_\\n6\\tvähenee\\tvähetä\\tVERB\\t_\\tMood=Ind|Number=Sing|Person=3|Tense=Pres|VerbForm=Fin|Voice=Act\\t0\\troot\\t_\\t_\\n7\\tkuitenkin\\tkuitenkin\\tADV\\t_\\t_\\t6\\tadvmod\\t_\\t_\\n8\\tjatkuvasti\\tjatkuvasti\\tADV\\t_\\t_\\t6\\tadvmod\\t_\\t_\\n9\\t.\\t.\\tPUNCT\\t_\\t_\\t6\\tpunct\\t_\\t_\\n</sentence>\\n<sentence>\\n1\\tTämä\\ttämä\\tPRON\\t_\\tCase=Nom|Number=Sing|PronType=Dem\\t2\\tnsubj\\t_\\t_\\n2\\tjohtuu\\tjohtua\\tVERB\\t_\\tMood=Ind|Number=Sing|Person=3|Tense=Pres|VerbForm=Fin|Voice=Act\\t0\\troot\\t_\\t_\\n3\\tsiitä\\tse\\tPRON\\t_\\tCase=Ela|Number=Sing|PronType=Dem\\t2\\tnmod\\t_\\t_\\n4\\t,\\t,\\tPUNCT\\t_\\t_\\t9\\tpunct\\t_\\t_\\n5\\tettä\\tettä\\tSCONJ\\t_\\t_\\t9\\tmark\\t_\\t_\\n6\\tkasvihuonekaasujen\\tkasvi#huone#kaasu\\tNOUN\\t_\\tCase=Gen|Number=Plur\\t7\\tnmod:poss\\t_\\t_\\n7\\tpitoisuus\\tpitoisuus\\tNOUN\\t_\\tCase=Nom|Number=Sing\\t9\\tnsubj\\t_\\t_\\n8\\tilmakehässä\\tilma#kehä\\tNOUN\\t_\\tCase=Ine|Number=Sing\\t7\\tnmod\\t_\\t_\\n9\\tkasvaa\\tkasvaa\\tVERB\\t_\\tMood=Ind|Number=Sing|Person=3|Tense=Pres|VerbForm=Fin|Voice=Act\\t3\\tccomp\\t_\\t_\\n10\\tvoimakkaasti\\tvoimakkaasti\\tADV\\t_\\t_\\t9\\tadvmod\\t_\\t_\\n11\\tja\\tja\\tCONJ\\t_\\t_\\t9\\tcc\\t_\\t_\\n12\\tnäillä\\ttämä\\tPRON\\t_\\tCase=Ade|Number=Plur|PronType=Dem\\t13\\tdet\\t_\\t_\\n13\\tkaasuilla\\tkaasu\\tNOUN\\t_\\tCase=Ade|Number=Plur\\t14\\tnmod\\t_\\t_\\n14\\ton\\tolla\\tVERB\\t_\\tMood=Ind|Number=Sing|Person=3|Tense=Pres|VerbForm=Fin|Voice=Act\\t9\\tconj\\t_\\t_\\n15\\thuomattavasti\\thuomattavasti\\tADV\\t_\\t_\\t16\\tadvmod\\t_\\t_\\n16\\tpidempi\\tpitkä\\tADJ\\t_\\tCase=Nom|Degree=Cmp|Number=Sing\\t17\\tamod\\t_\\t_\\n17\\telinkaari\\telin#kaari\\tNOUN\\t_\\tCase=Nom|Number=Sing\\t14\\tnsubj\\t_\\t_\\n18\\tkuin\\tkuin\\tSCONJ\\t_\\t_\\t19\\tmark\\t_\\t_\\n19\\tpienhiukkasilla\\tpiki#hiukkanen\\tNOUN\\t_\\tCase=Ade|Number=Plur\\t16\\tadvcl\\t_\\t_\\n20\\t.\\t.\\tPUNCT\\t_\\t_\\t2\\tpunct\\t_\\t_\\n</sentence>\\n</paragraph>\\n<paragraph>\\n<sentence>\\n1\\tKasvavia\\tkasvaa\\tADJ\\t_\\tCase=Par|Degree=Pos|Number=Plur\\t2\\tamod\\t_\\t_\\n2\\thiilidioksidipäästöjä\\thiili#dioksidi#päästö\\tNOUN\\t_\\tCase=Par|Number=Plur\\t3\\tdobj\\t_\\t_\\n3\\ttuottava\\ttuottaa\\tVERB\\t_\\tCase=Nom|Degree=Pos|Number=Sing|PartForm=Pres|VerbForm=Part|Voice=Act\\t8\\tacl\\t_\\t_\\n4\\tfossiilisten\\tfossiilinen\\tADJ\\t_\\tCase=Gen|Degree=Pos|Number=Plur\\t5\\tamod\\t_\\t_\\n5\\tpolttoaineiden\\tpoltto#aine\\tNOUN\\t_\\tCase=Gen|Number=Plur\\t8\\tnmod:poss\\t_\\t_\\n6\\tjatkuvasti\\tjatkuvasti\\tADV\\t_\\t_\\t7\\tadvmod\\t_\\t_\\n7\\tlisääntyvä\\tlisääntyä\\tVERB\\t_\\tCase=Nom|Degree=Pos|Number=Sing|PartForm=Pres|VerbForm=Part|Voice=Act\\t8\\tacl\\t_\\t_\\n8\\tkäyttö\\tkäyttö\\tNOUN\\t_\\tCase=Nom|Number=Sing\\t12\\tnsubj:cop\\t_\\t_\\n9\\ton\\tolla\\tVERB\\t_\\tMood=Ind|Number=Sing|Person=3|Tense=Pres|VerbForm=Fin|Voice=Act\\t12\\tcop\\t_\\t_\\n10\\tsuurin\\tsuuri\\tADJ\\t_\\tCase=Nom|Degree=Sup|Number=Sing\\t12\\tamod\\t_\\t_\\n11\\tyksittäinen\\tyksittäinen\\tADJ\\t_\\tCase=Nom|Degree=Pos|Number=Sing\\t12\\tamod\\t_\\t_\\n12\\tsyy\\tsyy\\tNOUN\\t_\\tCase=Nom|Number=Sing\\t0\\troot\\t_\\t_\\n13\\tantropogeeniseen\\tantropogeeniseen\\tADJ\\t_\\tCase=Ill|Degree=Pos|Number=Sing\\t17\\tnmod\\t_\\t_\\n14\\teli\\teli\\tCONJ\\t_\\t_\\t13\\tcc\\t_\\t_\\n15\\tihmisten\\tihminen\\tNOUN\\t_\\tCase=Gen|Number=Plur\\t16\\tnmod:poss\\t_\\t_\\n16\\ttoimista\\ttoimi\\tNOUN\\t_\\tCase=Ela|Number=Plur\\t13\\tconj\\t_\\t_\\n17\\tjohtuvaan\\tjohtua\\tVERB\\t_\\tCase=Ill|Degree=Pos|Number=Sing|PartForm=Pres|VerbForm=Part|Voice=Act\\t18\\tacl\\t_\\t_\\n18\\tilmastonmuutokseen\\tilmasto#muutos\\tNOUN\\t_\\tCase=Ill|Number=Sing\\t12\\tnmod\\t_\\t_\\n19\\t.\\t.\\tPUNCT\\t_\\t_\\t12\\tpunct\\t_\\t_\\n</sentence>\\n<sentence>\\n1\\tMyös\\tmyös\\tADV\\t_\\t_\\t6\\tadvmod\\t_\\t_\\n2\\tmaankäytön\\tmaan#käyttö\\tNOUN\\t_\\tCase=Gen|Number=Sing\\t3\\tnmod:poss\\t_\\t_\\n3\\tmuutokset\\tmuutos\\tNOUN\\t_\\tCase=Nom|Number=Plur\\t6\\tnsubj:cop\\t_\\t_\\n4\\tkuten\\tkuten\\tADV\\t_\\t_\\t6\\tadvmod\\t_\\t_\\n5\\tmetsien\\tmetsä\\tNOUN\\t_\\tCase=Gen|Number=Plur\\t6\\tnmod:poss\\t_\\t_\\n6\\thävitys\\thävitys\\tNOUN\\t_\\tCase=Nom|Number=Sing\\t13\\tnsubj\\t_\\t_\\n7\\tja\\tja\\tCONJ\\t_\\t_\\t6\\tcc\\t_\\t_\\n8\\tsoiden\\tsuo\\tNOUN\\t_\\tCase=Gen|Number=Plur\\t9\\tnmod:poss\\t_\\t_\\n9\\tkuivatus\\tkuivatus\\tNOUN\\t_\\tCase=Nom|Number=Sing\\t6\\tconj\\t_\\t_\\n10\\tpelloksi\\tpelto\\tNOUN\\t_\\tCase=Tra|Number=Sing\\t9\\tnmod\\t_\\t_\\n11\\tsekä\\tsekä\\tCONJ\\t_\\t_\\t6\\tcc\\t_\\t_\\n12\\tmaatalous\\tmaa#talous\\tNOUN\\t_\\tCase=Nom|Number=Sing\\t6\\tconj\\t_\\t_\\n13\\tvoimistavat\\tvoimistaa\\tVERB\\t_\\tMood=Ind|Number=Plur|Person=3|Tense=Pres|VerbForm=Fin|Voice=Act\\t0\\troot\\t_\\t_\\n14\\tilmastonmuutosta\\tilmasto#muutto\\tNOUN\\t_\\tCase=Ela|Number=Sing\\t13\\tnmod\\t_\\t_\\n15\\t.\\t.\\tPUNCT\\t_\\t_\\t13\\tpunct\\t_\\t_\\n</sentence>\\n<sentence>\\n1\\tNautakarjan\\tnauta#karja\\tNOUN\\t_\\tCase=Gen|Number=Sing\\t2\\tnmod:poss\\t_\\t_\\n2\\tpito\\tpito\\tNOUN\\t_\\tCase=Nom|Number=Sing\\t5\\tnsubj\\t_\\t_\\n3\\tja\\tja\\tCONJ\\t_\\t_\\t2\\tcc\\t_\\t_\\n4\\triisinviljely\\triisinviljely\\tNOUN\\t_\\tCase=Nom|Number=Sing\\t2\\tconj\\t_\\t_\\n5\\taiheuttavat\\taiheuttaa\\tVERB\\t_\\tMood=Ind|Number=Plur|Person=3|Tense=Pres|VerbForm=Fin|Voice=Act\\t0\\troot\\t_\\t_\\n6\\tilmastoa\\tilmasto\\tNOUN\\t_\\tCase=Par|Number=Sing\\t7\\tdobj\\t_\\t_\\n7\\tlämmittäviä\\tlämmittää\\tVERB\\t_\\tCase=Par|Degree=Pos|Number=Plur|PartForm=Pres|VerbForm=Part|Voice=Act\\t8\\tacl\\t_\\t_\\n8\\tmetaanipäästöjä\\tmetaani#päästö\\tNOUN\\t_\\tCase=Par|Number=Plur\\t5\\tdobj\\t_\\t_\\n9\\t.\\t.\\tPUNCT\\t_\\t_\\t5\\tpunct\\t_\\t_\\n</sentence>\\n<sentence>\\n1\\tIlmakehän\\tilma#kehä\\tNOUN\\t_\\tCase=Gen|Number=Sing\\t2\\tnmod:poss\\t_\\t_\\n2\\tmetaanipitoisuus\\tmetaani#pitoisuus\\tNOUN\\t_\\tCase=Nom|Number=Sing\\t4\\tnsubj\\t_\\t_\\n3\\tonkin\\tolla\\tAUX\\t_\\tClitic=Kin|Mood=Ind|Number=Sing|Person=3|Tense=Pres|VerbForm=Fin|Voice=Act\\t4\\taux\\t_\\t_\\n4\\tnoussut\\tnousta\\tVERB\\t_\\tCase=Nom|Degree=Pos|Number=Sing|PartForm=Past|VerbForm=Part|Voice=Act\\t0\\troot\\t_\\t_\\n5\\tlähes\\tlähes\\tADV\\t_\\t_\\t6\\tadvmod\\t_\\t_\\n6\\tkolminkertaiseksi\\tkolminkertainen\\tADJ\\t_\\tCase=Tra|Degree=Pos|Number=Sing\\t4\\tnmod\\t_\\t_\\n7\\tesiteolliseen\\tesi#teollinen\\tADJ\\t_\\tCase=Ill|Degree=Pos|Number=Sing\\t8\\tamod\\t_\\t_\\n8\\taikaan\\taika\\tNOUN\\t_\\tCase=Ill|Number=Sing\\t9\\tnmod\\t_\\t_\\n9\\tverrattuna\\tverrata\\tVERB\\t_\\tCase=Ess|Degree=Pos|Number=Sing|PartForm=Past|VerbForm=Part|Voice=Pass\\t6\\tacl\\t_\\t_\\n10\\t.\\t.\\tPUNCT\\t_\\t_\\t4\\tpunct\\t_\\t_\\n</sentence>\\n</paragraph>\\n<paragraph>\\n<sentence>\\n1\\tIlmastoa\\tilmasto\\tNOUN\\t_\\tCase=Par|Number=Sing\\t2\\tdobj\\t_\\t_\\n2\\tlämmittävää\\tlämmittää\\tVERB\\t_\\tCase=Par|Degree=Pos|Number=Sing|PartForm=Pres|VerbForm=Part|Voice=Act\\t3\\tacl\\t_\\t_\\n3\\ttyppioksiduulia\\ttyppi#oksiduuli\\tNOUN\\t_\\tCase=Par|Number=Sing\\t4\\tdobj\\t_\\t_\\n4\\tmuodostuu\\tmuodostua\\tVERB\\t_\\tMood=Ind|Number=Sing|Person=3|Tense=Pres|VerbForm=Fin|Voice=Act\\t0\\troot\\t_\\t_\\n5\\tviljelysmaassa\\tviljelys#maa\\tNOUN\\t_\\tCase=Ine|Number=Sing\\t4\\tnmod\\t_\\t_\\n6\\tnitraattien\\tnitraatti\\tNOUN\\t_\\tCase=Gen|Number=Plur\\t7\\tnsubj\\t_\\t_\\n7\\thajotessa\\thajota\\tVERB\\t_\\tCase=Ine|InfForm=2|Number=Sing|VerbForm=Inf|Voice=Act\\t4\\tadvcl\\t_\\t_\\n8\\tja\\tja\\tCONJ\\t_\\t_\\t4\\tcc\\t_\\t_\\n9\\tkeinolannoitteiden\\tkeino#lannoite\\tNOUN\\t_\\tCase=Gen|Number=Plur\\t10\\tnmod:gobj\\t_\\t_\\n10\\tkäyttö\\tkäyttö\\tNOUN\\t_\\tCase=Nom|Number=Sing\\t11\\tnsubj\\t_\\t_\\n11\\tlisää\\tlisätä\\tVERB\\t_\\tMood=Ind|Number=Sing|Person=3|Tense=Pres|VerbForm=Fin|Voice=Act\\t4\\tconj\\t_\\t_\\n12\\ttyppioksiduulipäästöjä\\ttyppi#oksiduuli#päästö\\tNOUN\\t_\\tCase=Par|Number=Plur\\t11\\tdobj\\t_\\t_\\n13\\t.\\t.\\tPUNCT\\t_\\t_\\t4\\tpunct\\t_\\t_\\n</sentence>\\n<sentence>\\n1\\tTyppioksiduulipäästöt\\ttyppi#oksiduuli#päästö\\tNOUN\\t_\\tCase=Nom|Number=Plur\\t2\\tnsubj\\t_\\t_\\n2\\tkasvavat\\tkasvaa\\tVERB\\t_\\tMood=Ind|Number=Plur|Person=3|Tense=Pres|VerbForm=Fin|Voice=Act\\t0\\troot\\t_\\t_\\n3\\ttällä\\ttämä\\tPRON\\t_\\tCase=Ade|Number=Sing|PronType=Dem\\t4\\tdet\\t_\\t_\\n4\\thetkellä\\thetki\\tNOUN\\t_\\tCase=Ade|Number=Sing\\t2\\tnmod\\t_\\t_\\n5\\tlineaarisesti\\tlineaarinen\\tADV\\t_\\tDerivation=Sti\\t2\\tadvmod\\t_\\t_\\n6\\t.\\t.\\tPUNCT\\t_\\t_\\t2\\tpunct\\t_\\t_\\n</sentence>\\n</paragraph>\\n<paragraph>\\n<sentence>\\n1\\tViimeisten\\tviimeinen\\tADJ\\t_\\tCase=Gen|Degree=Pos|Number=Plur\\t4\\tamod\\t_\\t_\\n2\\t55\\t55\\tNUM\\t_\\tNumType=Card\\t3\\tcompound\\t_\\t_\\n3\\tmiljoonan\\tmiljoona\\tNUM\\t_\\tCase=Gen|Number=Sing|NumType=Card\\t4\\tnummod\\t_\\t_\\n4\\tvuoden\\tvuosi\\tNOUN\\t_\\tCase=Gen|Number=Sing\\t5\\tnmod:poss\\t_\\t_\\n5\\taikana\\taika\\tNOUN\\t_\\tCase=Ess|Number=Sing\\t9\\tnmod\\t_\\t_\\n6\\tilmakehän\\tilma#kehä\\tNOUN\\t_\\tCase=Gen|Number=Sing\\t7\\tnmod:poss\\t_\\t_\\n7\\thiilidioksidipitoisuus\\thiili#dioksidi#pitoisuus\\tNOUN\\t_\\tCase=Nom|Number=Sing\\t9\\tnsubj\\t_\\t_\\n8\\ton\\tolla\\tAUX\\t_\\tMood=Ind|Number=Sing|Person=3|Tense=Pres|VerbForm=Fin|Voice=Act\\t9\\taux\\t_\\t_\\n9\\tvaihdellut\\tvaihdella\\tVERB\\t_\\tCase=Nom|Degree=Pos|Number=Sing|PartForm=Past|VerbForm=Part|Voice=Act\\t0\\troot\\t_\\t_\\n10\\tluontaisesti\\tluontaisesti\\tADV\\t_\\t_\\t9\\tadvmod\\t_\\t_\\n11\\tnoin\\tnoin\\tADV\\t_\\t_\\t12\\tadvmod\\t_\\t_\\n12\\t200\\t200\\tNUM\\t_\\tNumType=Card\\t15\\tnummod\\t_\\t_\\n13\\tja\\tja\\tCONJ\\t_\\t_\\t12\\tcc\\t_\\t_\\n14\\t300\\t300\\tNUM\\t_\\tNumType=Card\\t12\\tconj\\t_\\t_\\n15\\tppm:n\\tppm:n\\tNOUN\\t_\\tAbbr=Yes|Case=Gen|Number=Sing\\t9\\tnmod\\t_\\t_\\n16\\tvälillä\\tvälillä\\tADP\\t_\\tAdpType=Post\\t15\\tcase\\t_\\t_\\n17\\t,\\t,\\tPUNCT\\t_\\t_\\t9\\tpunct\\t_\\t_\\n18\\tja\\tja\\tCONJ\\t_\\t_\\t9\\tcc\\t_\\t_\\n19\\tviimeiset\\tviimeinen\\tADJ\\t_\\tCase=Nom|Degree=Pos|Number=Plur\\t23\\tamod\\t_\\t_\\n20\\t1\\t1\\tNUM\\t_\\tNumType=Card\\t21\\tcompound\\t_\\t_\\n21\\t000\\t000\\tNUM\\t_\\tNumType=Card\\t22\\tnummod\\t_\\t_\\n22\\tvuotta\\tvuosi\\tNOUN\\t_\\tCase=Par|Number=Sing\\t23\\tnmod\\t_\\t_\\n23\\tpitoisuus\\tpitoisuus\\tNOUN\\t_\\tCase=Nom|Number=Sing\\t28\\tnsubj:cop\\t_\\t_\\n24\\ton\\tolla\\tAUX\\t_\\tMood=Ind|Number=Sing|Person=3|Tense=Pres|VerbForm=Fin|Voice=Act\\t28\\taux\\t_\\t_\\n25\\tollut\\tolla\\tVERB\\t_\\tCase=Nom|Degree=Pos|Number=Plur|PartForm=Past|VerbForm=Part|Voice=Pass\\t28\\tcop\\t_\\t_\\n26\\tnoin\\tnoin\\tADV\\t_\\t_\\t27\\tadvmod\\t_\\t_\\n27\\t280\\t280\\tNUM\\t_\\tNumType=Card\\t28\\tnummod\\t_\\t_\\n28\\tppm.\\tppm.\\tNOUN\\t_\\tAbbr=Yes|Case=Par|Number=Sing\\t9\\tconj\\t_\\t_\\n</sentence>\\n</paragraph>\\n<paragraph>\\n<sentence>\\n1\\tIhmiskunnan\\tihmis#kunta\\tNOUN\\t_\\tCase=Gen|Number=Sing\\t2\\tnmod:poss\\t_\\t_\\n2\\tpääenergianlähde\\tpää#energian#lähde\\tNOUN\\t_\\tCase=Nom|Number=Sing\\t13\\tnsubj:cop\\t_\\t_\\n3\\ton\\tolla\\tAUX\\t_\\tMood=Ind|Number=Sing|Person=3|Tense=Pres|VerbForm=Fin|Voice=Act\\t13\\taux\\t_\\t_\\n4\\tollut\\tolla\\tVERB\\t_\\tCase=Nom|Degree=Pos|Number=Sing|PartForm=Past|VerbForm=Part|Voice=Act\\t13\\tcop\\t_\\t_\\n5\\tjo\\tjo\\tADV\\t_\\t_\\t6\\tadvmod\\t_\\t_\\n6\\tpitkään\\tpitkään\\tADV\\t_\\t_\\t8\\tadvmod\\t_\\t_\\n7\\tkivihiilikauden\\tkivi#hiili#kausi\\tNOUN\\t_\\tCase=Gen|Number=Sing\\t8\\tnmod:poss\\t_\\t_\\n8\\tmetsäjäännösten\\tmetsä#jäännös\\tNOUN\\t_\\tCase=Gen|Number=Plur\\t15\\tnmod:poss\\t_\\t_\\n9\\t,\\t,\\tPUNCT\\t_\\t_\\t8\\tpunct\\t_\\t_\\n10\\tfossiilisten\\tfossiilinen\\tADJ\\t_\\tCase=Gen|Degree=Pos|Number=Plur\\t11\\tamod\\t_\\t_\\n11\\tpolttoaineiden\\tpoltto#aine\\tNOUN\\t_\\tCase=Gen|Number=Plur\\t8\\tconj\\t_\\t_\\n12\\t(\\t(\\tPUNCT\\t_\\t_\\t13\\tpunct\\t_\\t_\\n13\\töljy\\töljy\\tNOUN\\t_\\tCase=Nom|Number=Sing\\t0\\troot\\t_\\t_\\n14\\t,\\t,\\tPUNCT\\t_\\t_\\t13\\tpunct\\t_\\t_\\n15\\tkivihiili\\tkivi#hiili\\tNOUN\\t_\\tCase=Nom|Number=Sing\\t13\\tconj\\t_\\t_\\n16\\t,\\t,\\tPUNCT\\t_\\t_\\t13\\tpunct\\t_\\t_\\n17\\tmaakaasu\\tmaa#kaasu\\tNOUN\\t_\\tCase=Nom|Number=Sing\\t13\\tconj\\t_\\t_\\n18\\t)\\t)\\tPUNCT\\t_\\t_\\t13\\tpunct\\t_\\t_\\n19\\tesiinkaivaminen\\tesiinkaivaminen\\tNOUN\\t_\\tCase=Nom|Derivation=Minen|Number=Sing\\t13\\tconj\\t_\\t_\\n20\\tja\\tja\\tCONJ\\t_\\t_\\t13\\tcc\\t_\\t_\\n21\\tpolttaminen\\tpolttaa\\tNOUN\\t_\\tCase=Nom|Derivation=Minen|Number=Sing\\t13\\tconj\\t_\\t_\\n22\\t.\\t.\\tPUNCT\\t_\\t_\\t13\\tpunct\\t_\\t_\\n</sentence>\\n<sentence>\\n1\\tNäistä\\ttämä\\tPRON\\t_\\tCase=Ela|Number=Plur|PronType=Dem\\t3\\tdet\\t_\\t_\\n2\\tkivihiilen\\tkivi#hiili\\tNOUN\\t_\\tCase=Gen|Number=Sing\\t3\\tnmod:poss\\t_\\t_\\n3\\tvarannot\\tvaranto\\tNOUN\\t_\\tCase=Nom|Number=Plur\\t4\\tnsubj\\t_\\t_\\n4\\triittävät\\triittää\\tVERB\\t_\\tMood=Ind|Number=Plur|Person=3|Tense=Pres|VerbForm=Fin|Voice=Act\\t0\\troot\\t_\\t_\\n5\\tvielä\\tvielä\\tADV\\t_\\t_\\t4\\tadvmod\\t_\\t_\\n6\\tsadoiksi\\tsata\\tNUM\\t_\\tCase=Tra|Number=Plur|NumType=Card\\t7\\tnummod\\t_\\t_\\n7\\tvuosiksi\\tvuosi\\tNOUN\\t_\\tCase=Tra|Number=Plur\\t4\\tnmod\\t_\\t_\\n8\\teteenpäin\\teteenpäin\\tADV\\t_\\t_\\t4\\tadvmod\\t_\\t_\\n9\\t.\\t.\\tPUNCT\\t_\\t_\\t4\\tpunct\\t_\\t_\\n</sentence>\\n</paragraph>\\n<paragraph>\\n<sentence>\\n1\\tHiilen\\thiili\\tNOUN\\t_\\tCase=Gen|Number=Sing\\t3\\tnmod:poss\\t_\\t_\\n2\\teri\\teri\\tADJ\\t_\\t_\\t3\\tamod\\t_\\t_\\n3\\tmuotojen\\tmuoto\\tNOUN\\t_\\tCase=Gen|Number=Plur\\t4\\tnmod:gobj\\t_\\t_\\n4\\tpolttaminen\\tpolttaa\\tNOUN\\t_\\tCase=Nom|Derivation=Minen|Number=Sing\\t6\\tnsubj\\t_\\t_\\n5\\ton\\tolla\\tAUX\\t_\\tMood=Ind|Number=Sing|Person=3|Tense=Pres|VerbForm=Fin|Voice=Act\\t6\\taux\\t_\\t_\\n6\\tnostanut\\tnostaa\\tVERB\\t_\\tCase=Nom|Degree=Pos|Number=Sing|PartForm=Past|VerbForm=Part|Voice=Act\\t0\\troot\\t_\\t_\\n7\\tilmakehän\\tilma#kehä\\tNOUN\\t_\\tCase=Gen|Number=Sing\\t8\\tnmod:poss\\t_\\t_\\n8\\thiilidioksidipitoisuuden\\thiili#dioksidi#pitoisuus\\tNOUN\\t_\\tCase=Gen|Number=Sing\\t6\\tdobj\\t_\\t_\\n9\\tnykyiseen\\tnykyinen\\tADJ\\t_\\tCase=Ill|Degree=Pos|Number=Sing\\t11\\tadvmod\\t_\\t_\\n10\\tnoin\\tnoin\\tADV\\t_\\t_\\t11\\tadvmod\\t_\\t_\\n11\\t380\\t380\\tNUM\\t_\\tNumType=Card\\t12\\tnummod\\t_\\t_\\n12\\tppm:iin\\tppm:iin\\tNOUN\\t_\\tCase=Ill|Number=Sing\\t6\\tnmod\\t_\\t_\\n13\\t,\\t,\\tPUNCT\\t_\\t_\\t18\\tpunct\\t_\\t_\\n14\\tyli\\tyli\\tADV\\t_\\t_\\t15\\tadvmod\\t_\\t_\\n15\\t30\\t30\\tNUM\\t_\\tNumType=Card\\t16\\tnummod\\t_\\t_\\n16\\t%\\t%\\tSYM\\t_\\t_\\t18\\tcase\\t_\\t_\\n17\\thistoriallisesta\\thistoriallinen\\tADJ\\t_\\tCase=Ela|Degree=Pos|Number=Sing\\t18\\tamod\\t_\\t_\\n18\\tarvosta\\tarvo\\tNOUN\\t_\\tCase=Ela|Number=Sing\\t12\\tappos\\t_\\t_\\n19\\t(\\t(\\tPUNCT\\t_\\t_\\t22\\tpunct\\t_\\t_\\n20\\tv.\\tv.\\tNOUN\\t_\\tAbbr=Yes\\t22\\tnmod\\t_\\t_\\n21\\t2004\\t2004\\tNUM\\t_\\tNumType=Card\\t22\\tnummod\\t_\\t_\\n22\\ttilanne\\ttilanne\\tNOUN\\t_\\tCase=Nom|Number=Sing\\t18\\tappos\\t_\\t_\\n23\\t)\\t)\\tPUNCT\\t_\\t_\\t22\\tpunct\\t_\\t_\\n24\\t.\\t.\\tPUNCT\\t_\\t_\\t6\\tpunct\\t_\\t_\\n</sentence>\\n<sentence>\\n1\\tKoska\\tkoska\\tSCONJ\\t_\\t_\\t5\\tmark\\t_\\t_\\n2\\tfossiilisten\\tfossiilinen\\tADJ\\t_\\tCase=Gen|Degree=Pos|Number=Plur\\t3\\tamod\\t_\\t_\\n3\\tpolttoaineiden\\tpoltto#aine\\tNOUN\\t_\\tCase=Gen|Number=Plur\\t4\\tnmod:gobj\\t_\\t_\\n4\\tkäyttö\\tkäyttö\\tNOUN\\t_\\tCase=Nom|Number=Sing\\t5\\tnsubj\\t_\\t_\\n5\\tlisääntyy\\tlisääntyä\\tVERB\\t_\\tMood=Ind|Number=Sing|Person=3|Tense=Pres|VerbForm=Fin|Voice=Act\\t11\\tadvcl\\t_\\t_\\n6\\tedelleen\\tedelleen\\tADV\\t_\\t_\\t5\\tadvmod\\t_\\t_\\n7\\t,\\t,\\tPUNCT\\t_\\t_\\t5\\tpunct\\t_\\t_\\n8\\tmyös\\tmyös\\tADV\\t_\\t_\\t11\\tadvmod\\t_\\t_\\n9\\tilmakehän\\tilma#kehä\\tNOUN\\t_\\tCase=Gen|Number=Sing\\t10\\tnmod:poss\\t_\\t_\\n10\\thiilidioksidipitoisuus\\thiili#dioksidi#pitoisuus\\tNOUN\\t_\\tCase=Nom|Number=Sing\\t11\\tnsubj\\t_\\t_\\n11\\tkasvaa\\tkasvaa\\tVERB\\t_\\tMood=Ind|Number=Sing|Person=3|Tense=Pres|VerbForm=Fin|Voice=Act\\t0\\troot\\t_\\t_\\n12\\tja\\tja\\tCONJ\\t_\\t_\\t11\\tcc\\t_\\t_\\n13\\tvieläpä\\tvieläpä\\tADV\\t_\\t_\\t11\\tconj\\t_\\t_\\n14\\tnopeutuen\\tnopeutua\\tVERB\\t_\\tCase=Ins|InfForm=2|Number=Sing|VerbForm=Inf|Voice=Act\\t11\\tadvcl\\t_\\t_\\n15\\t.\\t.\\tPUNCT\\t_\\t_\\t11\\tpunct\\t_\\t_\\n</sentence>\\n</paragraph>\\n<paragraph>\\n<sentence>\\n1\\tKasvillisuus\\tkasvillisuus\\tNOUN\\t_\\tCase=Nom|Number=Sing\\t2\\tnsubj\\t_\\t_\\n2\\tmenestyy\\tmenestyä\\tVERB\\t_\\tMood=Ind|Number=Sing|Person=3|Tense=Pres|VerbForm=Fin|Voice=Act\\t0\\troot\\t_\\t_\\n3\\tpääsääntöisesti\\tpää#sääntöisesti\\tADV\\t_\\t_\\t2\\tadvmod\\t_\\t_\\n4\\thyvin\\thyvin\\tADV\\t_\\t_\\t5\\tadvmod\\t_\\t_\\n5\\thiilidioksidipitoisessa\\thiili#dioksidi#pitoinen\\tADJ\\t_\\tCase=Ine|Degree=Pos|Number=Sing\\t6\\tamod\\t_\\t_\\n6\\tilmassa\\tilma\\tNOUN\\t_\\tCase=Ine|Number=Sing\\t2\\tnmod\\t_\\t_\\n7\\t,\\t,\\tPUNCT\\t_\\t_\\t10\\tpunct\\t_\\t_\\n8\\tkoska\\tkoska\\tSCONJ\\t_\\t_\\t10\\tmark\\t_\\t_\\n9\\tkasvit\\tkasvi\\tNOUN\\t_\\tCase=Nom|Number=Plur\\t10\\tnsubj\\t_\\t_\\n10\\ttarvitsevat\\ttarvita\\tVERB\\t_\\tMood=Ind|Number=Plur|Person=3|Tense=Pres|VerbForm=Fin|Voice=Act\\t2\\tadvcl\\t_\\t_\\n11\\thiilidioksidia\\thiili#dioksidi\\tNOUN\\t_\\tCase=Par|Number=Sing\\t10\\tdobj\\t_\\t_\\n12\\tyhteyttämiseen\\tyhteyttää\\tNOUN\\t_\\tCase=Ill|Derivation=Minen|Number=Sing\\t10\\tnmod\\t_\\t_\\n13\\t.\\t.\\tPUNCT\\t_\\t_\\t2\\tpunct\\t_\\t_\\n</sentence>\\n<sentence>\\n1\\tUusimmat\\tuusi\\tADJ\\t_\\tCase=Nom|Degree=Sup|Number=Plur\\t2\\tamod\\t_\\t_\\n2\\ttutkimukset\\ttutkimus\\tNOUN\\t_\\tCase=Nom|Number=Plur\\t3\\tnsubj\\t_\\t_\\n3\\tasettavat\\tasettaa\\tVERB\\t_\\tMood=Ind|Number=Plur|Person=3|Tense=Pres|VerbForm=Fin|Voice=Act\\t0\\troot\\t_\\t_\\n4\\tkuitenkin\\tkuitenkin\\tADV\\t_\\t_\\t3\\tadvmod\\t_\\t_\\n5\\tkyseenalaiseksi\\tkyseenalainen\\tADJ\\t_\\tCase=Tra|Degree=Pos|Number=Sing\\t3\\txcomp\\t_\\t_\\n6\\tkasvillisuuden\\tkasvillisuus\\tNOUN\\t_\\tCase=Gen|Number=Sing\\t7\\tnmod:gobj\\t_\\t_\\n7\\trehevöitymisen\\trehevöityä\\tNOUN\\t_\\tCase=Gen|Derivation=Minen|Number=Sing\\t8\\tnmod:poss\\t_\\t_\\n8\\tnettovaikutuksen\\tnetto#vaikutus\\tNOUN\\t_\\tCase=Gen|Number=Sing\\t3\\tdobj\\t_\\t_\\n9\\t.\\t.\\tPUNCT\\t_\\t_\\t3\\tpunct\\t_\\t_\\n</sentence>\\n<sentence>\\n1\\tTämä\\ttämä\\tPRON\\t_\\tCase=Nom|Number=Sing|PronType=Dem\\t2\\tnsubj\\t_\\t_\\n2\\tjohtuu\\tjohtua\\tVERB\\t_\\tMood=Ind|Number=Sing|Person=3|Tense=Pres|VerbForm=Fin|Voice=Act\\t0\\troot\\t_\\t_\\n3\\tsiitä\\tse\\tPRON\\t_\\tCase=Ela|Number=Sing|PronType=Dem\\t2\\tnmod\\t_\\t_\\n4\\t,\\t,\\tPUNCT\\t_\\t_\\t11\\tpunct\\t_\\t_\\n5\\tettä\\tettä\\tSCONJ\\t_\\t_\\t11\\tmark\\t_\\t_\\n6\\tilmaston\\tilmasto\\tNOUN\\t_\\tCase=Gen|Number=Sing\\t7\\tnsubj\\t_\\t_\\n7\\tlämmetessä\\tlämmetä\\tVERB\\t_\\tCase=Ine|InfForm=2|Number=Sing|VerbForm=Inf|Voice=Act\\t11\\tadvcl\\t_\\t_\\n8\\tmaaperään\\tmaa#perä\\tNOUN\\t_\\tCase=Ill|Number=Sing\\t9\\tnmod\\t_\\t_\\n9\\tvarastoitunut\\tvarastoitua\\tVERB\\t_\\tCase=Nom|Degree=Pos|Number=Sing|PartForm=Past|VerbForm=Part|Voice=Act\\t10\\tacl\\t_\\t_\\n10\\thiili\\thiili\\tNOUN\\t_\\tCase=Nom|Number=Sing\\t11\\tnsubj\\t_\\t_\\n11\\talkaa\\talkaa\\tVERB\\t_\\tMood=Ind|Number=Sing|Person=3|Tense=Pres|VerbForm=Fin|Voice=Act\\t3\\tccomp\\t_\\t_\\n12\\thajota\\thajota\\tVERB\\t_\\tInfForm=1|Number=Sing|VerbForm=Inf|Voice=Act\\t11\\txcomp\\t_\\t_\\n13\\tlisäten\\tlisätä\\tVERB\\t_\\tCase=Ins|InfForm=2|Number=Sing|VerbForm=Inf|Voice=Act\\t12\\tadvcl\\t_\\t_\\n14\\tilmakehän\\tilma#kehä\\tNOUN\\t_\\tCase=Gen|Number=Sing\\t15\\tnmod:poss\\t_\\t_\\n15\\thiilidioksidipitoisuutta\\thiili#dioksidi#pitoisuus\\tNOUN\\t_\\tCase=Par|Number=Sing\\t13\\tdobj\\t_\\t_\\n16\\tentisestään\\tentisestään\\tADV\\t_\\t_\\t13\\tadvmod\\t_\\t_\\n17\\t.\\t.\\tPUNCT\\t_\\t_\\t2\\tpunct\\t_\\t_\\n</sentence>\\n</paragraph>\\n<paragraph>\\n<sentence>\\n1\\tLisäksi\\tlisäksi\\tADV\\t_\\t_\\t2\\tadvmod\\t_\\t_\\n2\\ton\\tolla\\tVERB\\t_\\tMood=Ind|Number=Sing|Person=3|Tense=Pres|VerbForm=Fin|Voice=Act\\t0\\troot\\t_\\t_\\n3\\tmerkkejä\\tmerkki\\tNOUN\\t_\\tCase=Par|Number=Plur\\t4\\tdobj\\t_\\t_\\n4\\tlämpenevien\\tlämmetä\\tVERB\\t_\\tCase=Gen|Degree=Pos|Number=Plur|PartForm=Pres|VerbForm=Part|Voice=Act\\t6\\tacl\\t_\\t_\\n5\\tpohjoisten\\tpohjoinen\\tADJ\\t_\\tCase=Gen|Degree=Pos|Number=Plur\\t6\\tamod\\t_\\t_\\n6\\tsoiden\\tsuo\\tNOUN\\t_\\tCase=Gen|Number=Plur\\t2\\tdobj\\t_\\t_\\n7\\t(\\t(\\tPUNCT\\t_\\t_\\t8\\tpunct\\t_\\t_\\n8\\tSiperia\\tSiperia\\tPROPN\\t_\\tCase=Nom|Number=Sing\\t6\\tappos\\t_\\t_\\n9\\t,\\t,\\tPUNCT\\t_\\t_\\t8\\tpunct\\t_\\t_\\n10\\tAlaska\\tAlaska\\tPROPN\\t_\\tCase=Nom|Number=Sing\\t8\\tconj\\t_\\t_\\n11\\t,\\t,\\tPUNCT\\t_\\t_\\t8\\tpunct\\t_\\t_\\n12\\tomalta\\toma\\tADJ\\t_\\tCase=Abl|Degree=Pos|Number=Sing\\t14\\tamod\\t_\\t_\\n13\\tpieneltä\\tpieni\\tADJ\\t_\\tCase=Abl|Degree=Pos|Number=Sing\\t14\\tamod\\t_\\t_\\n14\\tosaltaan\\tosa\\tNOUN\\t_\\tCase=Abl|Number=Sing|Person[psor]=3\\t19\\tnmod\\t_\\t_\\n15\\tmyös\\tmyös\\tADV\\t_\\t_\\t17\\tadvmod\\t_\\t_\\n16\\tSuomen\\tSuomi\\tPROPN\\t_\\tCase=Gen|Number=Sing\\t17\\tnmod:poss\\t_\\t_\\n17\\tLappi\\tLappi\\tPROPN\\t_\\tCase=Nom|Number=Sing\\t19\\tnmod\\t_\\t_\\n18\\t)\\t)\\tPUNCT\\t_\\t_\\t17\\tpunct\\t_\\t_\\n19\\tlisääntyvästä\\tlisääntyä\\tVERB\\t_\\tCase=Ela|Degree=Pos|Number=Sing|PartForm=Pres|VerbForm=Part|Voice=Act\\t20\\tacl\\t_\\t_\\n20\\thiilidioksidin-\\thiili#dioksidi\\tNOUN\\t_\\tCase=Gen|Number=Sing\\t8\\tconj\\t_\\t_\\n21\\tja\\tja\\tCONJ\\t_\\t_\\t20\\tcc\\t_\\t_\\n22\\tmetaanintuotannosta\\tmetaani#tuotanto\\tNOUN\\t_\\tCase=Ela|Number=Sing\\t20\\tconj\\t_\\t_\\n23\\t,\\t,\\tPUNCT\\t_\\t_\\t26\\tpunct\\t_\\t_\\n24\\tjosta\\tjoka\\tPRON\\t_\\tCase=Ela|Number=Sing|PronType=Rel\\t26\\tnmod\\t_\\t_\\n25\\tsaattaa\\tsaattaa\\tAUX\\t_\\tMood=Ind|Number=Sing|Person=3|Tense=Pres|VerbForm=Fin|Voice=Act\\t26\\taux\\t_\\t_\\n26\\tmuodostua\\tmuodostua\\tVERB\\t_\\tInfForm=1|Number=Sing|VerbForm=Inf|Voice=Act\\t20\\tacl:relcl\\t_\\t_\\n27\\ttulevaisuudessa\\ttulevaisuus\\tNOUN\\t_\\tCase=Ine|Number=Sing\\t26\\tnmod\\t_\\t_\\n28\\thyvinkin\\thyvin\\tADV\\t_\\tClitic=Kin\\t29\\tadvmod\\t_\\t_\\n29\\toleellinen\\toleellinen\\tADJ\\t_\\tCase=Nom|Degree=Pos|Number=Sing\\t32\\tamod\\t_\\t_\\n30\\tilmakehän\\tilma#kehä\\tNOUN\\t_\\tCase=Gen|Number=Sing\\t31\\tnmod:poss\\t_\\t_\\n31\\thiilidioksidipitoisuuden\\thiili#dioksidi#pitoisuus\\tNOUN\\t_\\tCase=Gen|Number=Sing\\t32\\tnmod:poss\\t_\\t_\\n32\\tkohottaja\\tkohottaja\\tNOUN\\t_\\tCase=Nom|Number=Sing\\t26\\tdobj\\t_\\t_\\n33\\t.\\t.\\tPUNCT\\t_\\t_\\t2\\tpunct\\t_\\t_\\n</sentence>\\n</paragraph>\\n<paragraph>\\n<sentence>\\n1\\tNykyisin\\tnykyisin\\tADV\\t_\\t_\\t2\\tadvmod\\t_\\t_\\n2\\tpidetään\\tpitää\\tVERB\\t_\\tMood=Ind|Tense=Pres|VerbForm=Fin|Voice=Pass\\t0\\troot\\t_\\t_\\n3\\ttodennäköisenä\\ttoden#näköinen\\tADJ\\t_\\tCase=Ess|Degree=Pos|Number=Sing\\t2\\txcomp\\t_\\t_\\n4\\t,\\t,\\tPUNCT\\t_\\t_\\t14\\tpunct\\t_\\t_\\n5\\tettä\\tettä\\tSCONJ\\t_\\t_\\t14\\tmark\\t_\\t_\\n6\\tihmisen\\tihminen\\tNOUN\\t_\\tCase=Gen|Number=Sing\\t7\\tnsubj\\t_\\t_\\n7\\taikaansaama\\taikaansaada\\tVERB\\t_\\tCase=Nom|Degree=Pos|Number=Sing|PartForm=Agt|VerbForm=Part|Voice=Act\\t14\\tacl\\t_\\t_\\n8\\tilmaston\\tilmasto\\tNOUN\\t_\\tCase=Gen|Number=Sing\\t9\\tnmod:gsubj\\t_\\t_\\n9\\tlämpeneminen\\tlämmetä\\tNOUN\\t_\\tCase=Nom|Derivation=Minen|Number=Sing\\t13\\tnsubj\\t_\\t_\\n10\\tei\\tei\\tVERB\\t_\\tNegative=Yes|Number=Sing|Person=3|VerbForm=Fin|Voice=Act\\t13\\tneg\\t_\\t_\\n11\\tole\\tolla\\tAUX\\t_\\tConnegative=Yes|Mood=Ind|Tense=Pres|VerbForm=Fin\\t13\\taux\\t_\\t_\\n12\\ttasaisesti\\ttasaisesti\\tADV\\t_\\t_\\t13\\tadvmod\\t_\\t_\\n13\\tetenevä\\tedetä\\tVERB\\t_\\tCase=Nom|Degree=Pos|Number=Sing|PartForm=Pres|VerbForm=Part|Voice=Act\\t14\\tacl\\t_\\t_\\n14\\tprosessi\\tprosessi\\tNOUN\\t_\\tCase=Nom|Number=Sing\\t2\\tadvcl\\t_\\t_\\n15\\t,\\t,\\tPUNCT\\t_\\t_\\t14\\tpunct\\t_\\t_\\n16\\tvaan\\tvaan\\tCONJ\\t_\\t_\\t2\\tcc\\t_\\t_\\n17\\tettä\\tettä\\tSCONJ\\t_\\t_\\t19\\tmark\\t_\\t_\\n18\\tilmasto\\tilmasto\\tNOUN\\t_\\tCase=Nom|Number=Sing\\t19\\tnsubj\\t_\\t_\\n19\\ttulee\\ttulla\\tVERB\\t_\\tMood=Ind|Number=Sing|Person=3|Tense=Pres|VerbForm=Fin|Voice=Act\\t2\\tconj\\t_\\t_\\n20\\tmuuttumaan\\tmuuttua\\tVERB\\t_\\tCase=Ill|InfForm=3|Number=Sing|VerbForm=Inf|Voice=Act\\t19\\txcomp\\t_\\t_\\n21\\thyppäyksenomaisesti\\thyppäys#omaisesti\\tADV\\t_\\t_\\t20\\tadvmod\\t_\\t_\\n22\\tkriittisten\\tkriittinen\\tADJ\\t_\\tCase=Gen|Degree=Pos|Number=Plur\\t23\\tamod\\t_\\t_\\n23\\tkynnysarvojen\\tkynnys#arvo\\tNOUN\\t_\\tCase=Gen|Number=Plur\\t24\\tnmod:gobj\\t_\\t_\\n24\\tylittymisen\\tylittyä\\tNOUN\\t_\\tCase=Gen|Derivation=Minen|Number=Sing\\t25\\tnmod:poss\\t_\\t_\\n25\\tseurauksena\\tseuraus\\tNOUN\\t_\\tCase=Ess|Number=Sing\\t20\\tnmod\\t_\\t_\\n26\\t.\\t.\\tPUNCT\\t_\\t_\\t2\\tpunct\\t_\\t_\\n</sentence>\\n</paragraph>\\n<paragraph>\\n<sentence>\\n1\\tKun\\tkun\\tSCONJ\\t_\\t_\\t8\\tmark\\t_\\t_\\n2\\tjokin\\tjokin\\tPRON\\t_\\tCase=Nom|Number=Sing|PronType=Ind\\t3\\tdet\\t_\\t_\\n3\\tilmastopakote\\tilmasto#pakote\\tNOUN\\t_\\tCase=Nom|Number=Sing\\t8\\tnsubj\\t_\\t_\\n4\\t,\\t,\\tPUNCT\\t_\\t_\\t6\\tpunct\\t_\\t_\\n5\\tvaikkapa\\tvaikkapa\\tADV\\t_\\t_\\t6\\tadvmod\\t_\\t_\\n6\\tsäteily\\tsäteily\\tNOUN\\t_\\tCase=Nom|Number=Sing\\t3\\tappos\\t_\\t_\\n7\\t,\\t,\\tPUNCT\\t_\\t_\\t6\\tpunct\\t_\\t_\\n8\\tmuuttaa\\tmuuttaa\\tVERB\\t_\\tMood=Ind|Number=Sing|Person=3|Tense=Pres|VerbForm=Fin|Voice=Act\\t15\\tadvcl\\t_\\t_\\n9\\tilmastoa\\tilmasto\\tNOUN\\t_\\tCase=Par|Number=Sing\\t8\\tdobj\\t_\\t_\\n10\\t,\\t,\\tPUNCT\\t_\\t_\\t8\\tpunct\\t_\\t_\\n11\\tmonet\\tmoni\\tPRON\\t_\\tCase=Nom|Number=Plur|PronType=Ind\\t12\\tdet\\t_\\t_\\n12\\tmekanismit\\tmekanismi\\tNOUN\\t_\\tCase=Nom|Number=Plur\\t15\\tnsubj\\t_\\t_\\n13\\tvoivat\\tvoida\\tAUX\\t_\\tMood=Ind|Number=Plur|Person=3|Tense=Pres|VerbForm=Fin|Voice=Act\\t15\\taux\\t_\\t_\\n14\\tjoko\\tjoko\\tCONJ\\t_\\t_\\t15\\tcc:preconj\\t_\\t_\\n15\\tvahvistaa\\tvahvistaa\\tVERB\\t_\\tInfForm=1|Number=Sing|VerbForm=Inf|Voice=Act\\t0\\troot\\t_\\t_\\n16\\ttai\\ttai\\tCONJ\\t_\\t_\\t15\\tcc\\t_\\t_\\n17\\tvaimentaa\\tvaimentaa\\tVERB\\t_\\tInfForm=1|Number=Sing|VerbForm=Inf|Voice=Act\\t15\\tconj\\t_\\t_\\n18\\tmuutosta\\tmuutos\\tNOUN\\t_\\tCase=Par|Number=Sing\\t15\\tdobj\\t_\\t_\\n19\\t.\\t.\\tPUNCT\\t_\\t_\\t15\\tpunct\\t_\\t_\\n</sentence>\\n<sentence>\\n1\\tNämä\\ttämä\\tPRON\\t_\\tCase=Nom|Number=Plur|PronType=Dem\\t6\\tnsubj:cop\\t_\\t_\\n2\\tovat\\tolla\\tVERB\\t_\\tMood=Ind|Number=Plur|Person=3|Tense=Pres|VerbForm=Fin|Voice=Act\\t6\\tcop\\t_\\t_\\n3\\tpositiivisia\\tpositiivinen\\tADJ\\t_\\tCase=Par|Degree=Pos|Number=Plur\\t6\\tamod\\t_\\t_\\n4\\tja\\tja\\tCONJ\\t_\\t_\\t3\\tcc\\t_\\t_\\n5\\tnegatiivisia\\tnegatiivinen\\tADJ\\t_\\tCase=Par|Degree=Pos|Number=Plur\\t3\\tconj\\t_\\t_\\n6\\ttakaisinkytkentöjä\\ttakaisin#kytkentä\\tNOUN\\t_\\tCase=Par|Number=Plur\\t0\\troot\\t_\\t_\\n7\\t.\\t.\\tPUNCT\\t_\\t_\\t6\\tpunct\\t_\\t_\\n</sentence>\\n</paragraph>\\n<paragraph>\\n<sentence>\\n1\\tOn\\tolla\\tVERB\\t_\\tMood=Ind|Number=Sing|Person=3|Tense=Pres|VerbForm=Fin|Voice=Act\\t0\\troot\\t_\\t_\\n2\\tolemassa\\tolla\\tVERB\\t_\\tCase=Ine|InfForm=3|Number=Sing|VerbForm=Inf|Voice=Act\\t1\\txcomp\\t_\\t_\\n3\\tlukuisia\\tlukuisa\\tADJ\\t_\\tCase=Par|Degree=Pos|Number=Plur\\t7\\tamod\\t_\\t_\\n4\\tlämpenemistä\\tlämmetä\\tNOUN\\t_\\tCase=Par|Derivation=Minen|Number=Sing\\t5\\tdobj\\t_\\t_\\n5\\tvoimistavia\\tvoimistaa\\tVERB\\t_\\tCase=Par|Degree=Pos|Number=Plur|PartForm=Pres|VerbForm=Part|Voice=Act\\t7\\tacl\\t_\\t_\\n6\\tpositiivisia\\tpositiivinen\\tADJ\\t_\\tCase=Par|Degree=Pos|Number=Plur\\t7\\tamod\\t_\\t_\\n7\\ttakaisinkytkentöjä\\ttakaisin#kytkentä\\tNOUN\\t_\\tCase=Par|Number=Plur\\t1\\tnsubj\\t_\\t_\\n8\\t,\\t,\\tPUNCT\\t_\\t_\\t13\\tpunct\\t_\\t_\\n9\\tjoita\\tjoka\\tPRON\\t_\\tCase=Par|Number=Plur|PronType=Rel\\t13\\tdobj\\t_\\t_\\n10\\tkaikkia\\tkaikki\\tPRON\\t_\\tCase=Par|Number=Plur|PronType=Ind\\t13\\tdobj\\t_\\t_\\n11\\tei\\tei\\tVERB\\t_\\tNegative=Yes|Number=Sing|Person=3|VerbForm=Fin|Voice=Act\\t13\\tneg\\t_\\t_\\n12\\tole\\tolla\\tAUX\\t_\\tConnegative=Yes|Mood=Ind|Tense=Pres|VerbForm=Fin\\t13\\tauxpass\\t_\\t_\\n13\\thuomioitu\\thuomioida\\tVERB\\t_\\tCase=Nom|Degree=Pos|Number=Sing|PartForm=Past|VerbForm=Part|Voice=Pass\\t7\\tacl:relcl\\t_\\t_\\n14\\tIPCC:n\\tIPCC:n\\tPROPN\\t_\\tCase=Gen|Number=Sing\\t15\\tnmod:poss\\t_\\t_\\n15\\tilmastomalleissa\\tilmasto#malli\\tNOUN\\t_\\tCase=Ine|Number=Plur\\t13\\tnmod\\t_\\t_\\n16\\t.\\t.\\tPUNCT\\t_\\t_\\t1\\tpunct\\t_\\t_\\n</sentence>\\n<sentence>\\n1\\tNäitä\\ttämä\\tPRON\\t_\\tCase=Par|Number=Plur|PronType=Dem\\t2\\tdet\\t_\\t_\\n2\\ttakaisinkytkentöjä\\ttakaisin#kytkentä\\tNOUN\\t_\\tCase=Par|Number=Plur\\t3\\tnsubj\\t_\\t_\\n3\\tliittyy\\tliittyä\\tVERB\\t_\\tMood=Ind|Number=Sing|Person=3|Tense=Pres|VerbForm=Fin|Voice=Act\\t0\\troot\\t_\\t_\\n4\\tesimerkiksi\\tesimerkiksi\\tADV\\t_\\t_\\t7\\tadvmod\\t_\\t_\\n5\\tjäätiköiden\\tjäätikkö\\tNOUN\\t_\\tCase=Gen|Number=Plur\\t7\\tnmod:gobj\\t_\\t_\\n6\\tkiihtyvään\\tkiihtyä\\tADJ\\t_\\tCase=Ill|Degree=Pos|Number=Sing\\t7\\tamod\\t_\\t_\\n7\\tsulamiseen\\tsulaa\\tNOUN\\t_\\tCase=Ill|Derivation=Minen|Number=Sing\\t3\\tnmod\\t_\\t_\\n8\\t,\\t,\\tPUNCT\\t_\\t_\\t10\\tpunct\\t_\\t_\\n9\\tjoka\\tjoka\\tPRON\\t_\\tCase=Nom|Number=Sing|PronType=Rel\\t10\\tnsubj\\t_\\t_\\n10\\tnopeuttaa\\tnopeuttaa\\tVERB\\t_\\tMood=Ind|Number=Sing|Person=3|Tense=Pres|VerbForm=Fin|Voice=Act\\t7\\tacl:relcl\\t_\\t_\\n11\\tmeriveden\\tmeri#vesi\\tNOUN\\t_\\tCase=Gen|Number=Sing\\t12\\tnmod:gsubj\\t_\\t_\\n12\\tlämpenemistä\\tlämmetä\\tNOUN\\t_\\tCase=Par|Derivation=Minen|Number=Sing\\t10\\tdobj\\t_\\t_\\n13\\t.\\t.\\tPUNCT\\t_\\t_\\t3\\tpunct\\t_\\t_\\n</sentence>\\n</paragraph>\\n<paragraph>\\n<sentence>\\n1\\tMuita\\tmuu\\tPRON\\t_\\tCase=Par|Degree=Pos|Number=Plur|PronType=Ind\\t3\\tdet\\t_\\t_\\n2\\tpositiivisia\\tpositiivinen\\tADJ\\t_\\tCase=Par|Degree=Pos|Number=Plur\\t3\\tamod\\t_\\t_\\n3\\ttakaisinkytkentöjä\\ttakaisin#kytkentä\\tNOUN\\t_\\tCase=Par|Number=Plur\\t8\\tnsubj:cop\\t_\\t_\\n4\\tovat\\tolla\\tVERB\\t_\\tMood=Ind|Number=Plur|Person=3|Tense=Pres|VerbForm=Fin|Voice=Act\\t8\\tcop\\t_\\t_\\n5\\tikiroudan\\tiki#routa\\tNOUN\\t_\\tCase=Gen|Number=Sing\\t6\\tnmod:gobj\\t_\\t_\\n6\\tsulamisen\\tsulaa\\tNOUN\\t_\\tCase=Gen|Derivation=Minen|Number=Sing\\t7\\tnsubj\\t_\\t_\\n7\\taikaansaamat\\taikaansaada\\tVERB\\t_\\tCase=Nom|Degree=Pos|Number=Plur|PartForm=Agt|VerbForm=Part|Voice=Act\\t8\\tacl\\t_\\t_\\n8\\tmetaanipäästöt\\tmetaani#päästö\\tNOUN\\t_\\tCase=Nom|Number=Plur\\t0\\troot\\t_\\t_\\n9\\tsekä\\tsekä\\tCONJ\\t_\\t_\\t8\\tcc\\t_\\t_\\n10\\tveden\\tvesi\\tNOUN\\t_\\tCase=Gen|Number=Sing\\t11\\tnmod:gsubj\\t_\\t_\\n11\\tlämpenemisestä\\tlämmetä\\tNOUN\\t_\\tCase=Ela|Derivation=Minen|Number=Sing\\t12\\tnmod\\t_\\t_\\n12\\tjohtuva\\tjohtua\\tVERB\\t_\\tCase=Nom|Degree=Pos|Number=Sing|PartForm=Pres|VerbForm=Part|Voice=Act\\t15\\tacl\\t_\\t_\\n13\\tmerenpohjien\\tmeren#pohja\\tNOUN\\t_\\tCase=Gen|Number=Plur\\t14\\tnmod:poss\\t_\\t_\\n14\\tmetaanihydraatin\\tmetaani#hydraatti\\tNOUN\\t_\\tCase=Gen|Number=Sing\\t15\\tnmod:gobj\\t_\\t_\\n15\\tvapautuminen\\tvapautua\\tNOUN\\t_\\tCase=Nom|Derivation=Minen|Number=Sing\\t8\\tconj\\t_\\t_\\n16\\tilmakehään\\tilma#kehä\\tNOUN\\t_\\tCase=Ill|Number=Sing\\t15\\tnmod\\t_\\t_\\n17\\tmetaanin\\tmetaani\\tNOUN\\t_\\tCase=Gen|Number=Sing\\t18\\tnmod:poss\\t_\\t_\\n18\\tmuodossa\\tmuoto\\tNOUN\\t_\\tCase=Ine|Number=Sing\\t15\\tnmod\\t_\\t_\\n19\\t.\\t.\\tPUNCT\\t_\\t_\\t8\\tpunct\\t_\\t_\\n</sentence>\\n<sentence>\\n1\\tKahta\\tkaksi\\tNUM\\t_\\tCase=Par|Number=Sing|NumType=Card\\t4\\tnummod\\t_\\t_\\n2\\tviimeksi\\tviimeksi\\tADV\\t_\\t_\\t3\\tadvmod\\t_\\t_\\n3\\tmainittua\\tmainita\\tVERB\\t_\\tCase=Par|Degree=Pos|Number=Sing|PartForm=Past|VerbForm=Part|Voice=Pass\\t4\\tacl\\t_\\t_\\n4\\tprosessia\\tprosessi\\tNOUN\\t_\\tCase=Par|Number=Sing\\t7\\tdobj\\t_\\t_\\n5\\tei\\tei\\tVERB\\t_\\tNegative=Yes|Number=Sing|Person=3|VerbForm=Fin|Voice=Act\\t7\\tneg\\t_\\t_\\n6\\tole\\tolla\\tAUX\\t_\\tConnegative=Yes|Mood=Ind|Tense=Pres|VerbForm=Fin\\t7\\tauxpass\\t_\\t_\\n7\\thuomioitu\\thuomioida\\tVERB\\t_\\tCase=Nom|Degree=Pos|Number=Sing|PartForm=Past|VerbForm=Part|Voice=Pass\\t0\\troot\\t_\\t_\\n8\\tniissä\\tse\\tPRON\\t_\\tCase=Ine|Number=Plur|PronType=Dem\\t9\\tdet\\t_\\t_\\n9\\tilmastomalleissa\\tilmasto#malli\\tNOUN\\t_\\tCase=Ine|Number=Plur\\t7\\tnmod\\t_\\t_\\n10\\t,\\t,\\tPUNCT\\t_\\t_\\t14\\tpunct\\t_\\t_\\n11\\tjoihin\\tjoka\\tPRON\\t_\\tCase=Ill|Number=Plur|PronType=Rel\\t14\\tnmod\\t_\\t_\\n12\\tIPCC:n\\tIPCC:n\\tPROPN\\t_\\tCase=Gen|Number=Sing\\t13\\tnmod:poss\\t_\\t_\\n13\\traportit\\traportti\\tNOUN\\t_\\tCase=Nom|Number=Plur\\t14\\tnsubj\\t_\\t_\\n14\\tperustuvat\\tperustua\\tVERB\\t_\\tMood=Ind|Number=Plur|Person=3|Tense=Pres|VerbForm=Fin|Voice=Act\\t9\\tacl:relcl\\t_\\t_\\n15\\t.\\t.\\tPUNCT\\t_\\t_\\t7\\tpunct\\t_\\t_\\n</sentence>\\n</paragraph>\\n<paragraph>\\n<sentence>\\n1\\tLämpenemisen\\tlämmetä\\tNOUN\\t_\\tCase=Gen|Derivation=Minen|Number=Sing\\t2\\tnsubj\\t_\\t_\\n2\\taikaansaama\\taikaansaada\\tVERB\\t_\\tCase=Nom|Degree=Pos|Number=Sing|PartForm=Agt|VerbForm=Part|Voice=Act\\t4\\tacl\\t_\\t_\\n3\\tmerenpinnan\\tmeren#pinta\\tNOUN\\t_\\tCase=Gen|Number=Sing\\t4\\tnmod:poss\\t_\\t_\\n4\\tnousu\\tnousu\\tNOUN\\t_\\tCase=Nom|Number=Sing\\t6\\tnsubj\\t_\\t_\\n5\\tvoi\\tvoida\\tAUX\\t_\\tMood=Ind|Number=Sing|Person=3|Tense=Pres|VerbForm=Fin|Voice=Act\\t6\\taux\\t_\\t_\\n6\\tlisätä\\tlisätä\\tVERB\\t_\\tInfForm=1|Number=Sing|VerbForm=Inf|Voice=Act\\t0\\troot\\t_\\t_\\n7\\tmyös\\tmyös\\tADV\\t_\\t_\\t8\\tadvmod\\t_\\t_\\n8\\ttulivuorenpurkauksia\\ttuli#vuoren#purkaus\\tNOUN\\t_\\tCase=Par|Number=Plur\\t6\\tdobj\\t_\\t_\\n9\\t,\\t,\\tPUNCT\\t_\\t_\\t13\\tpunct\\t_\\t_\\n10\\tjoiden\\tjoka\\tPRON\\t_\\tCase=Gen|Number=Plur|PronType=Rel\\t11\\tnmod:poss\\t_\\t_\\n11\\tyhteydessä\\tyhteys\\tNOUN\\t_\\tCase=Ine|Number=Sing\\t13\\tnmod\\t_\\t_\\n12\\tilmakehään\\tilma#kehä\\tNOUN\\t_\\tCase=Ill|Number=Sing\\t13\\tnmod\\t_\\t_\\n13\\tpääsee\\tpäästä\\tVERB\\t_\\tMood=Ind|Number=Sing|Person=3|Tense=Pres|VerbForm=Fin|Voice=Act\\t8\\tacl:relcl\\t_\\t_\\n14\\tlisää\\tlisää\\tADV\\t_\\t_\\t15\\tadvmod\\t_\\t_\\n15\\tmetaania\\tmetaani\\tNOUN\\t_\\tCase=Par|Number=Sing\\t13\\tdobj\\t_\\t_\\n16\\tja\\tja\\tCONJ\\t_\\t_\\t15\\tcc\\t_\\t_\\n17\\thiilidioksidia\\thiili#dioksidi\\tNOUN\\t_\\tCase=Par|Number=Sing\\t15\\tconj\\t_\\t_\\n18\\t.\\t.\\tPUNCT\\t_\\t_\\t6\\tpunct\\t_\\t_\\n</sentence>\\n</paragraph>\\n<paragraph>\\n<sentence>\\n1\\tTrooppisten\\ttrooppinen\\tADJ\\t_\\tCase=Gen|Degree=Pos|Number=Plur\\t2\\tamod\\t_\\t_\\n2\\tkosteikkojen\\tkosteikko\\tNOUN\\t_\\tCase=Gen|Number=Plur\\t3\\tnmod:gobj\\t_\\t_\\n3\\tkuivuminen\\tkuivua\\tNOUN\\t_\\tCase=Nom|Derivation=Minen|Number=Sing\\t4\\tnsubj\\t_\\t_\\n4\\tvähentää\\tvähentää\\tVERB\\t_\\tMood=Ind|Number=Sing|Person=3|Tense=Pres|VerbForm=Fin|Voice=Act\\t0\\troot\\t_\\t_\\n5\\tniiden\\tse\\tPRON\\t_\\tCase=Gen|Number=Plur|PronType=Dem\\t6\\tnmod:poss\\t_\\t_\\n6\\tmetaanipäästöjä\\tmetaani#päästö\\tNOUN\\t_\\tCase=Par|Number=Plur\\t4\\tdobj\\t_\\t_\\n7\\tlisäten\\tlisätä\\tVERB\\t_\\tCase=Ins|InfForm=2|Number=Sing|VerbForm=Inf|Voice=Act\\t4\\tadvcl\\t_\\t_\\n8\\tkuitenkin\\tkuitenkin\\tADV\\t_\\t_\\t7\\tadvmod\\t_\\t_\\n9\\tsamalla\\tsamalla\\tADV\\t_\\t_\\t7\\tadvmod\\t_\\t_\\n10\\tniiden\\tse\\tPRON\\t_\\tCase=Gen|Number=Plur|PronType=Dem\\t11\\tnmod:poss\\t_\\t_\\n11\\tpalamisriskiä\\tpalaa#riski\\tNOUN\\t_\\tCase=Par|Number=Sing\\t7\\tdobj\\t_\\t_\\n12\\t.\\t.\\tPUNCT\\t_\\t_\\t4\\tpunct\\t_\\t_\\n</sentence>\\n<sentence>\\n1\\tKuivuneiden\\tkuivua\\tVERB\\t_\\tCase=Gen|Degree=Pos|Number=Plur|PartForm=Past|VerbForm=Part|Voice=Act\\t2\\tacl\\t_\\t_\\n2\\tkosteikkojen\\tkosteikko\\tNOUN\\t_\\tCase=Gen|Number=Plur\\t3\\tnmod:poss\\t_\\t_\\n3\\tpalot\\tpalo\\tNOUN\\t_\\tCase=Nom|Number=Plur\\t4\\tnsubj\\t_\\t_\\n4\\tvapauttavat\\tvapauttaa\\tVERB\\t_\\tMood=Ind|Number=Plur|Person=3|Tense=Pres|VerbForm=Fin|Voice=Act\\t0\\troot\\t_\\t_\\n5\\thiiltä\\thiki\\tNOUN\\t_\\tCase=Abl|Number=Plur\\t4\\tnmod\\t_\\t_\\n6\\tilmakehään\\tilma#kehä\\tNOUN\\t_\\tCase=Ill|Number=Sing\\t4\\tnmod\\t_\\t_\\n7\\t.\\t.\\tPUNCT\\t_\\t_\\t4\\tpunct\\t_\\t_\\n</sentence>\\n</paragraph>\\n<paragraph>\\n<sentence>\\n1\\tMyös\\tmyös\\tADV\\t_\\t_\\t7\\tadvmod\\t_\\t_\\n2\\tmerivirtojen\\tmeri#virta\\tNOUN\\t_\\tCase=Gen|Number=Plur\\t5\\tnmod:poss\\t_\\t_\\n3\\tja\\tja\\tCONJ\\t_\\t_\\t2\\tcc\\t_\\t_\\n4\\tilmakehän\\tilma#kehä\\tNOUN\\t_\\tCase=Gen|Number=Sing\\t2\\tconj\\t_\\t_\\n5\\tvirtausten\\tvirtaus\\tNOUN\\t_\\tCase=Gen|Number=Plur\\t7\\tnmod:poss\\t_\\t_\\n6\\tkeskinäiset\\tkeskinäinen\\tADJ\\t_\\tCase=Nom|Degree=Pos|Number=Plur\\t7\\tamod\\t_\\t_\\n7\\tvuorovaikutukset\\tvuoro#vaikutus\\tNOUN\\t_\\tCase=Nom|Number=Plur\\t8\\tnsubj\\t_\\t_\\n8\\tmuodostavat\\tmuodostaa\\tVERB\\t_\\tMood=Ind|Number=Plur|Person=3|Tense=Pres|VerbForm=Fin|Voice=Act\\t0\\troot\\t_\\t_\\n9\\tmonimutkaisia\\tmonimutkainen\\tADJ\\t_\\tCase=Par|Degree=Pos|Number=Plur\\t10\\tamod\\t_\\t_\\n10\\tpalautejärjestelmiä\\tpalaute#järjestelmä\\tNOUN\\t_\\tCase=Par|Number=Plur\\t8\\tdobj\\t_\\t_\\n11\\t.\\t.\\tPUNCT\\t_\\t_\\t8\\tpunct\\t_\\t_\\n</sentence>\\n<sentence>\\n1\\tKaikkia\\tkaikki\\tPRON\\t_\\tCase=Par|Number=Plur|PronType=Ind\\t2\\tdet\\t_\\t_\\n2\\tvuorovaikutuksia\\tvuoro#vaikutus\\tNOUN\\t_\\tCase=Par|Number=Plur\\t4\\tdobj\\t_\\t_\\n3\\tei\\tei\\tVERB\\t_\\tNegative=Yes|Number=Sing|Person=3|VerbForm=Fin|Voice=Act\\t4\\tneg\\t_\\t_\\n4\\tymmärretä\\tymmärtää\\tVERB\\t_\\tConnegative=Yes|Mood=Ind|Tense=Pres|VerbForm=Fin|Voice=Pass\\t0\\troot\\t_\\t_\\n5\\tvielä\\tvielä\\tADV\\t_\\t_\\t4\\tadvmod\\t_\\t_\\n6\\tkovin\\tkovin\\tADV\\t_\\t_\\t7\\tadvmod\\t_\\t_\\n7\\thyvin\\thyvin\\tADV\\t_\\t_\\t4\\tadvmod\\t_\\t_\\n8\\t.\\t.\\tPUNCT\\t_\\t_\\t4\\tpunct\\t_\\t_\\n</sentence>\\n</paragraph>\\n<paragraph>\\n<sentence>\\n1\\tAiemmin\\taiemmin\\tADV\\t_\\t_\\t2\\tadvmod\\t_\\t_\\n2\\tvallinneiden\\tvallita\\tVERB\\t_\\tCase=Gen|Degree=Pos|Number=Plur|PartForm=Past|VerbForm=Part|Voice=Act\\t3\\tacl\\t_\\t_\\n3\\tilmasto-olosuhteiden\\tilmasto#olo#suhteet\\tNOUN\\t_\\tCase=Gen|Number=Plur\\t4\\tnmod:gobj\\t_\\t_\\n4\\tpäättelemistä\\tpäätellä\\tNOUN\\t_\\tCase=Par|Derivation=Minen|Number=Sing\\t6\\tnmod\\t_\\t_\\n5\\tvarten\\tvarten\\tADP\\t_\\tAdpType=Post\\t4\\tcase\\t_\\t_\\n6\\tkerätään\\tkerätä\\tVERB\\t_\\tMood=Ind|Tense=Pres|VerbForm=Fin|Voice=Pass\\t0\\troot\\t_\\t_\\n7\\tlaajapohjaisesti\\tlaaja#pohjaisesti\\tADV\\t_\\t_\\t6\\tadvmod\\t_\\t_\\n8\\taineistoa\\taineisto\\tNOUN\\t_\\tCase=Par|Number=Sing\\t6\\tdobj\\t_\\t_\\n9\\t,\\t,\\tPUNCT\\t_\\t_\\t14\\tpunct\\t_\\t_\\n10\\tjonka\\tjoka\\tPRON\\t_\\tCase=Gen|Number=Sing|PronType=Rel\\t11\\tnmod:poss\\t_\\t_\\n11\\tpohjalta\\tpohja\\tNOUN\\t_\\tCase=Abl|Number=Sing\\t14\\tnmod\\t_\\t_\\n12\\tilmastoja\\tilmasto\\tNOUN\\t_\\tCase=Par|Number=Plur\\t14\\tdobj\\t_\\t_\\n13\\tvoidaan\\tvoida\\tAUX\\t_\\tMood=Ind|Tense=Pres|VerbForm=Fin|Voice=Pass\\t14\\taux\\t_\\t_\\n14\\trakentaa\\trakentaa\\tVERB\\t_\\tInfForm=1|Number=Sing|VerbForm=Inf|Voice=Act\\t8\\tacl:relcl\\t_\\t_\\n15\\tuudelleen\\tuudelleen\\tADV\\t_\\t_\\t14\\tadvmod\\t_\\t_\\n16\\tesimerkiksi\\tesimerkiksi\\tADV\\t_\\t_\\t17\\tadvmod\\t_\\t_\\n17\\tilmastomallein\\tilmasto#malli\\tNOUN\\t_\\tCase=Ins|Number=Plur\\t14\\tnmod\\t_\\t_\\n18\\t.\\t.\\tPUNCT\\t_\\t_\\t6\\tpunct\\t_\\t_\\n</sentence>\\n<sentence>\\n1\\tSuurin\\tsuuri\\tADJ\\t_\\tCase=Nom|Degree=Sup|Number=Sing\\t2\\tamod\\t_\\t_\\n2\\tosa\\tosa\\tNOUN\\t_\\tCase=Nom|Number=Sing\\t5\\tnsubj:cop\\t_\\t_\\n3\\ttodistusaineistosta\\ttodistus#aineisto\\tNOUN\\t_\\tCase=Ela|Number=Sing\\t2\\tnmod\\t_\\t_\\n4\\ton\\tolla\\tVERB\\t_\\tMood=Ind|Number=Sing|Person=3|Tense=Pres|VerbForm=Fin|Voice=Act\\t5\\tcop\\t_\\t_\\n5\\tepäsuoraa\\tepä#suora\\tADJ\\t_\\tCase=Par|Degree=Pos|Number=Sing\\t0\\troot\\t_\\t_\\n6\\t:\\t:\\tPUNCT\\t_\\t_\\t5\\tpunct\\t_\\t_\\n7\\tesimerkiksi\\tesimerkiksi\\tADV\\t_\\t_\\t8\\tadvmod\\t_\\t_\\n8\\tkasvillisuudesta\\tkasvillisuus\\tNOUN\\t_\\tCase=Ela|Number=Sing\\t21\\tnmod\\t_\\t_\\n9\\t,\\t,\\tPUNCT\\t_\\t_\\t8\\tpunct\\t_\\t_\\n10\\tpuiden\\tpuu\\tNOUN\\t_\\tCase=Gen|Number=Plur\\t11\\tnmod:poss\\t_\\t_\\n11\\tvuosirenkaista\\tvuosi#rengas\\tNOUN\\t_\\tCase=Ela|Number=Plur\\t8\\tconj\\t_\\t_\\n12\\t,\\t,\\tPUNCT\\t_\\t_\\t8\\tpunct\\t_\\t_\\n13\\tjääkairausnäytteistä\\tjää#kairaus#näyte\\tNOUN\\t_\\tCase=Ela|Number=Plur\\t8\\tconj\\t_\\t_\\n14\\t,\\t,\\tPUNCT\\t_\\t_\\t8\\tpunct\\t_\\t_\\n15\\tmerenpinnan\\tmeren#pinta\\tNOUN\\t_\\tCase=Gen|Number=Sing\\t16\\tnmod:poss\\t_\\t_\\n16\\tmuutoksista\\tmuutos\\tNOUN\\t_\\tCase=Ela|Number=Plur\\t8\\tconj\\t_\\t_\\n17\\tsekä\\tsekä\\tCONJ\\t_\\t_\\t8\\tcc\\t_\\t_\\n18\\tjäätiköiden\\tjäätikkö\\tNOUN\\t_\\tCase=Gen|Number=Plur\\t19\\tnmod:poss\\t_\\t_\\n19\\tliikkeistä\\tliike\\tNOUN\\t_\\tCase=Ela|Number=Plur\\t8\\tconj\\t_\\t_\\n20\\tvoidaan\\tvoida\\tAUX\\t_\\tMood=Ind|Tense=Pres|VerbForm=Fin|Voice=Pass\\t21\\taux\\t_\\t_\\n21\\tkerätä\\tkerätä\\tVERB\\t_\\tInfForm=1|Number=Sing|VerbForm=Inf|Voice=Act\\t5\\tparataxis\\t_\\t_\\n22\\ttietoa\\ttieto\\tNOUN\\t_\\tCase=Par|Number=Sing\\t21\\tdobj\\t_\\t_\\n23\\taiemmin\\taiemmin\\tADV\\t_\\t_\\t24\\tadvmod\\t_\\t_\\n24\\tvallinneista\\tvallita\\tVERB\\t_\\tCase=Ela|Degree=Pos|Number=Plur|PartForm=Past|VerbForm=Part|Voice=Act\\t25\\tacl\\t_\\t_\\n25\\tilmastoista\\tilmasto\\tNOUN\\t_\\tCase=Ela|Number=Plur\\t21\\tnmod\\t_\\t_\\n26\\t.\\t.\\tPUNCT\\t_\\t_\\t5\\tpunct\\t_\\t_\\n</sentence>\\n<sentence>\\n1\\tMyös\\tmyös\\tADV\\t_\\t_\\t10\\tadvmod\\t_\\t_\\n2\\tjärvien\\tjärvi\\tNOUN\\t_\\tCase=Gen|Number=Plur\\t5\\tnmod:poss\\t_\\t_\\n3\\tja\\tja\\tCONJ\\t_\\t_\\t2\\tcc\\t_\\t_\\n4\\tsoiden\\tsuo\\tNOUN\\t_\\tCase=Gen|Number=Plur\\t2\\tconj\\t_\\t_\\n5\\tsedimenttikerroksiin\\tsedimentti#kerros\\tNOUN\\t_\\tCase=Ill|Number=Plur\\t6\\tnmod\\t_\\t_\\n6\\ttallentuneet\\ttallentua\\tVERB\\t_\\tCase=Nom|Degree=Pos|Number=Plur|PartForm=Past|VerbForm=Part|Voice=Act\\t10\\tacl\\t_\\t_\\n7\\tsiitepölyn\\tsiitepöly\\tNOUN\\t_\\tCase=Gen|Number=Sing\\t10\\tnmod:poss\\t_\\t_\\n8\\tja\\tja\\tCONJ\\t_\\t_\\t7\\tcc\\t_\\t_\\n9\\tkovakuoriaisten\\tkovakuoriainen\\tNOUN\\t_\\tCase=Gen|Number=Plur\\t7\\tconj\\t_\\t_\\n10\\tjäänteitä\\tjäänne\\tNOUN\\t_\\tCase=Par|Number=Plur\\t12\\tdobj\\t_\\t_\\n11\\ton\\tolla\\tAUX\\t_\\tMood=Ind|Number=Sing|Person=3|Tense=Pres|VerbForm=Fin|Voice=Act\\t12\\tauxpass\\t_\\t_\\n12\\tkäytetty\\tkäyttää\\tVERB\\t_\\tCase=Nom|Degree=Pos|Number=Sing|PartForm=Past|VerbForm=Part|Voice=Pass\\t0\\troot\\t_\\t_\\n13\\ttähän\\ttämä\\tPRON\\t_\\tCase=Ill|Number=Sing|PronType=Dem\\t14\\tdet\\t_\\t_\\n14\\ttarkoitukseen\\ttarkoitus\\tNOUN\\t_\\tCase=Ill|Number=Sing\\t12\\tnmod\\t_\\t_\\n15\\t.\\t.\\tPUNCT\\t_\\t_\\t12\\tpunct\\t_\\t_\\n</sentence>\\n</paragraph>\\n'}, 'päästö': {'id': '174018', 'url': 'https://fi.wikipedia.org/wiki?curid=174018', 'content': '\\n<paragraph>\\n<sentence>\\n1\\tPäästö\\tpäästö\\tNOUN\\t_\\tCase=Nom|Number=Sing\\t0\\troot\\t_\\t_\\n</sentence>\\n</paragraph>\\n<paragraph>\\n<sentence>\\n1\\tPäästö\\tpäästö\\tNOUN\\t_\\tCase=Nom|Number=Sing\\t4\\tnsubj\\t_\\t_\\n2\\teli\\teli\\tCONJ\\t_\\t_\\t1\\tcc\\t_\\t_\\n3\\temissio\\temissio\\tNOUN\\t_\\tCase=Nom|Number=Sing\\t1\\tconj\\t_\\t_\\n4\\ttarkoittaa\\ttarkoittaa\\tVERB\\t_\\tMood=Ind|Number=Sing|Person=3|Tense=Pres|VerbForm=Fin|Voice=Act\\t0\\troot\\t_\\t_\\n5\\tympäristölainsäädännössä\\tympäristö#lain#säädäntö\\tNOUN\\t_\\tCase=Ine|Number=Sing\\t4\\tnmod\\t_\\t_\\n6\\tihmistoiminnan\\tihminen#toiminta\\tNOUN\\t_\\tCase=Gen|Number=Sing\\t7\\tnsubj\\t_\\t_\\n7\\taiheuttamaa\\taiheuttaa\\tVERB\\t_\\tCase=Par|Degree=Pos|Number=Sing|PartForm=Agt|VerbForm=Part|Voice=Act\\t8\\tacl\\t_\\t_\\n8\\taineen\\taine\\tNOUN\\t_\\tCase=Gen|Number=Sing\\t4\\tdobj\\t_\\t_\\n9\\t,\\t,\\tPUNCT\\t_\\t_\\t8\\tpunct\\t_\\t_\\n10\\tenergian\\tenergia\\tNOUN\\t_\\tCase=Gen|Number=Sing\\t8\\tconj\\t_\\t_\\n11\\t,\\t,\\tPUNCT\\t_\\t_\\t8\\tpunct\\t_\\t_\\n12\\tmelun\\tmelu\\tNOUN\\t_\\tCase=Gen|Number=Sing\\t8\\tconj\\t_\\t_\\n13\\t,\\t,\\tPUNCT\\t_\\t_\\t8\\tpunct\\t_\\t_\\n14\\ttärinän\\ttärinä\\tNOUN\\t_\\tCase=Gen|Number=Sing\\t8\\tconj\\t_\\t_\\n15\\t,\\t,\\tPUNCT\\t_\\t_\\t8\\tpunct\\t_\\t_\\n16\\tsäteilyn\\tsäteily\\tNOUN\\t_\\tCase=Gen|Number=Sing\\t8\\tconj\\t_\\t_\\n17\\t,\\t,\\tPUNCT\\t_\\t_\\t8\\tpunct\\t_\\t_\\n18\\tvalon\\tvalo\\tNOUN\\t_\\tCase=Gen|Number=Sing\\t8\\tconj\\t_\\t_\\n19\\ttai\\ttai\\tCONJ\\t_\\t_\\t8\\tcc\\t_\\t_\\n20\\thajun\\thaju\\tNOUN\\t_\\tCase=Gen|Number=Sing\\t21\\tnmod:gobj\\t_\\t_\\n21\\tpäästämistä\\tpäästää\\tNOUN\\t_\\tCase=Par|Derivation=Minen|Number=Sing\\t8\\tconj\\t_\\t_\\n22\\t,\\t,\\tPUNCT\\t_\\t_\\t8\\tpunct\\t_\\t_\\n23\\tjohtamista\\tjohtaa\\tNOUN\\t_\\tCase=Par|Derivation=Minen|Number=Sing\\t8\\tconj\\t_\\t_\\n24\\ttai\\ttai\\tCONJ\\t_\\t_\\t8\\tcc\\t_\\t_\\n25\\tjättämistä\\tjättää\\tNOUN\\t_\\tCase=Par|Derivation=Minen|Number=Sing\\t8\\tconj\\t_\\t_\\n26\\tyhdestä\\tyksi\\tNUM\\t_\\tCase=Ela|Number=Sing|NumType=Card\\t25\\tnmod\\t_\\t_\\n27\\ttai\\ttai\\tCONJ\\t_\\t_\\t25\\tcc\\t_\\t_\\n28\\tuseammasta\\tuseammasta\\tADJ\\t_\\tCase=Ela|Degree=Cmp|Number=Sing\\t29\\tamod\\t_\\t_\\n29\\talkukohdasta\\talku#kohta\\tNOUN\\t_\\tCase=Ela|Number=Sing\\t25\\tconj\\t_\\t_\\n30\\t(\\t(\\tPUNCT\\t_\\t_\\t31\\tpunct\\t_\\t_\\n31\\tpäästölähteestä\\tpäästö#lähde\\tNOUN\\t_\\tCase=Ela|Number=Sing\\t29\\tnmod\\t_\\t_\\n32\\t)\\t)\\tPUNCT\\t_\\t_\\t31\\tpunct\\t_\\t_\\n33\\tsuoraan\\tsuoraan\\tADV\\t_\\t_\\t29\\tcc\\t_\\t_\\n34\\ttai\\ttai\\tCONJ\\t_\\t_\\t29\\tcc\\t_\\t_\\n35\\tepäsuorasti\\tepä#suorasti\\tADV\\t_\\t_\\t36\\tadvmod\\t_\\t_\\n36\\tilmaan\\tilma\\tNOUN\\t_\\tCase=Ill|Number=Sing\\t29\\tconj\\t_\\t_\\n37\\t,\\t,\\tPUNCT\\t_\\t_\\t8\\tpunct\\t_\\t_\\n38\\tveteen\\tvesi\\tNOUN\\t_\\tCase=Ill|Number=Sing\\t8\\tconj\\t_\\t_\\n39\\ttai\\ttai\\tCONJ\\t_\\t_\\t8\\tcc\\t_\\t_\\n40\\tmaaperään\\tmaa#perä\\tNOUN\\t_\\tCase=Ill|Number=Sing\\t8\\tconj\\t_\\t_\\n41\\t.\\t.\\tPUNCT\\t_\\t_\\t4\\tpunct\\t_\\t_\\n</sentence>\\n</paragraph>\\n<paragraph>\\n<sentence>\\n1\\tPäästöt\\tpäästö\\tNOUN\\t_\\tCase=Nom|Number=Plur\\t4\\tnsubj:cop\\t_\\t_\\n2\\tvoivat\\tvoida\\tAUX\\t_\\tMood=Ind|Number=Plur|Person=3|Tense=Pres|VerbForm=Fin|Voice=Act\\t4\\taux\\t_\\t_\\n3\\tolla\\tolla\\tVERB\\t_\\tInfForm=1|Number=Sing|VerbForm=Inf|Voice=Act\\t4\\tcop\\t_\\t_\\n4\\ttoivottuja\\ttoivottu\\tNOUN\\t_\\tCase=Par|Number=Plur\\t0\\troot\\t_\\t_\\n5\\t(\\t(\\tPUNCT\\t_\\t_\\t7\\tpunct\\t_\\t_\\n6\\tesimerkiksi\\tesimerkiksi\\tADV\\t_\\t_\\t7\\tadvmod\\t_\\t_\\n7\\tulkoilmakonsertti\\tulko#ilma#konsertti\\tNOUN\\t_\\tCase=Nom|Number=Sing\\t4\\tappos\\t_\\t_\\n8\\tkonsertin\\tkonsertti\\tNOUN\\t_\\tCase=Gen|Number=Sing\\t9\\tnmod:poss\\t_\\t_\\n9\\tkuulijoille\\tkuulija\\tNOUN\\t_\\tCase=All|Number=Plur\\t7\\tnmod\\t_\\t_\\n10\\t)\\t)\\tPUNCT\\t_\\t_\\t7\\tpunct\\t_\\t_\\n11\\ttai\\ttai\\tCONJ\\t_\\t_\\t4\\tcc\\t_\\t_\\n12\\tei-toivottuja\\tei#toivottu\\tNOUN\\t_\\tCase=Par|Number=Plur\\t4\\tconj\\t_\\t_\\n13\\t.\\t.\\tPUNCT\\t_\\t_\\t4\\tpunct\\t_\\t_\\n</sentence>\\n<sentence>\\n1\\tPäästöjen\\tpäästö\\tNOUN\\t_\\tCase=Gen|Number=Plur\\t2\\tnmod:poss\\t_\\t_\\n2\\tseurauksen\\tseuraus\\tNOUN\\t_\\tCase=Gen|Number=Sing\\t4\\tnsubj\\t_\\t_\\n3\\tvoi\\tvoida\\tAUX\\t_\\tMood=Ind|Number=Sing|Person=3|Tense=Pres|VerbForm=Fin|Voice=Act\\t4\\taux\\t_\\t_\\n4\\taiheutua\\taihe#utua\\tVERB\\t_\\tInfForm=1|Number=Sing|VerbForm=Inf|Voice=Act\\t0\\troot\\t_\\t_\\n5\\tympäristön\\tympäristö\\tNOUN\\t_\\tCase=Gen|Number=Sing\\t6\\tnmod:gobj\\t_\\t_\\n6\\tpilaantumista\\tpilaantua\\tNOUN\\t_\\tCase=Par|Derivation=Minen|Number=Sing\\t4\\tdobj\\t_\\t_\\n7\\t,\\t,\\tPUNCT\\t_\\t_\\t10\\tpunct\\t_\\t_\\n8\\tjoka\\tjoka\\tPRON\\t_\\tCase=Nom|Number=Sing|PronType=Rel\\t9\\tdet\\t_\\t_\\n9\\tkäsite\\tkäsite\\tNOUN\\t_\\tCase=Nom|Number=Sing\\t10\\tnsubj\\t_\\t_\\n10\\tsisältää\\tsisältää\\tVERB\\t_\\tMood=Ind|Number=Sing|Person=3|Tense=Pres|VerbForm=Fin|Voice=Act\\t4\\tacl:relcl\\t_\\t_\\n11\\tmyös\\tmyös\\tADV\\t_\\t_\\t12\\tadvmod\\t_\\t_\\n12\\tterveyshaitan\\tterveys#haitta\\tNOUN\\t_\\tCase=Gen|Number=Sing\\t10\\tdobj\\t_\\t_\\n13\\tja\\tja\\tCONJ\\t_\\t_\\t12\\tcc\\t_\\t_\\n14\\tomaisuuden\\tomaisuus\\tNOUN\\t_\\tCase=Gen|Number=Sing\\t15\\tnmod:gobj\\t_\\t_\\n15\\tvahingoittumisen\\tvahingoittua\\tNOUN\\t_\\tCase=Gen|Derivation=Minen|Number=Sing\\t12\\tconj\\t_\\t_\\n16\\tpäästön\\tpäästö\\tNOUN\\t_\\tCase=Gen|Number=Sing\\t17\\tnmod:poss\\t_\\t_\\n17\\tseurauksena\\tseuraus\\tNOUN\\t_\\tCase=Ess|Number=Sing\\t10\\tnmod\\t_\\t_\\n18\\t.\\t.\\tPUNCT\\t_\\t_\\t4\\tpunct\\t_\\t_\\n</sentence>\\n</paragraph>\\n'}, 'ekologinen kestävyys': {'id': '558095', 'url': 'https://fi.wikipedia.org/wiki?curid=558095', 'content': '\\n<paragraph>\\n<sentence>\\n1\\tEkologinen\\tekologinen\\tADJ\\t_\\tCase=Nom|Degree=Pos|Number=Sing\\t2\\tamod\\t_\\t_\\n2\\tkestävyys\\tkestävyys\\tNOUN\\t_\\tCase=Nom|Number=Sing\\t0\\troot\\t_\\t_\\n</sentence>\\n</paragraph>\\n<paragraph>\\n<sentence>\\n1\\tEkologinen\\tekologinen\\tADJ\\t_\\tCase=Nom|Degree=Pos|Number=Sing\\t2\\tamod\\t_\\t_\\n2\\tkestävyys\\tkestävyys\\tNOUN\\t_\\tCase=Nom|Number=Sing\\t4\\tnsubj:cop\\t_\\t_\\n3\\ton\\tolla\\tVERB\\t_\\tMood=Ind|Number=Sing|Person=3|Tense=Pres|VerbForm=Fin|Voice=Act\\t4\\tcop\\t_\\t_\\n4\\tyksi\\tyksi\\tNUM\\t_\\tCase=Nom|Number=Sing|NumType=Card\\t0\\troot\\t_\\t_\\n5\\tkestävän\\tkestävä\\tADJ\\t_\\tCase=Gen|Degree=Pos|Number=Sing\\t6\\tamod\\t_\\t_\\n6\\tkehityksen\\tkehitys\\tNOUN\\t_\\tCase=Gen|Number=Sing\\t7\\tnmod:poss\\t_\\t_\\n7\\tnäkökulmista\\tnäkö#kulma\\tNOUN\\t_\\tCase=Ela|Number=Plur\\t4\\tnmod\\t_\\t_\\n8\\t.\\t.\\tPUNCT\\t_\\t_\\t4\\tpunct\\t_\\t_\\n</sentence>\\n<sentence>\\n1\\tSillä\\tse\\tPRON\\t_\\tCase=Ade|Number=Sing|PronType=Dem\\t2\\tnmod\\t_\\t_\\n2\\ttarkoitetaan\\ttarkoittaa\\tVERB\\t_\\tMood=Ind|Tense=Pres|VerbForm=Fin|Voice=Pass\\t0\\troot\\t_\\t_\\n3\\tluonnon\\tluonto\\tNOUN\\t_\\tCase=Gen|Number=Sing\\t4\\tnmod:poss\\t_\\t_\\n4\\tmonimuotoisuuden\\tmonimuotoisuus\\tNOUN\\t_\\tCase=Gen|Number=Sing\\t7\\tnmod:poss\\t_\\t_\\n5\\tja\\tja\\tCONJ\\t_\\t_\\t4\\tcc\\t_\\t_\\n6\\tekosysteemien\\tekosysteemi\\tNOUN\\t_\\tCase=Gen|Number=Plur\\t4\\tconj\\t_\\t_\\n7\\ttoiminnan\\ttoiminta\\tNOUN\\t_\\tCase=Gen|Number=Sing\\t8\\tnmod:gobj\\t_\\t_\\n8\\tvarmistamista\\tvarmistaa\\tNOUN\\t_\\tCase=Par|Derivation=Minen|Number=Sing\\t2\\tdobj\\t_\\t_\\n9\\tsekä\\tsekä\\tCONJ\\t_\\t_\\t8\\tcc\\t_\\t_\\n10\\tihmisten\\tihminen\\tNOUN\\t_\\tCase=Gen|Number=Plur\\t11\\tnmod:gsubj\\t_\\t_\\n11\\ttoiminnan\\ttoiminta\\tNOUN\\t_\\tCase=Gen|Number=Sing\\t12\\tnmod:gobj\\t_\\t_\\n12\\tsopeuttamista\\tsopeuttaa\\tNOUN\\t_\\tCase=Par|Derivation=Minen|Number=Sing\\t8\\tconj\\t_\\t_\\n13\\tsiihen\\tse\\tPRON\\t_\\tCase=Ill|Number=Sing|PronType=Dem\\t12\\tnmod\\t_\\t_\\n14\\tniin\\tniin\\tADV\\t_\\t_\\t12\\tadvmod\\t_\\t_\\n15\\t,\\t,\\tPUNCT\\t_\\t_\\t20\\tpunct\\t_\\t_\\n16\\tettä\\tettä\\tSCONJ\\t_\\t_\\t20\\tmark\\t_\\t_\\n17\\tluonnon\\tluonto\\tNOUN\\t_\\tCase=Gen|Number=Sing\\t18\\tnmod:poss\\t_\\t_\\n18\\tkestokyky\\tkesto#kyky\\tNOUN\\t_\\tCase=Nom|Number=Sing\\t20\\tnsubj\\t_\\t_\\n19\\tei\\tei\\tVERB\\t_\\tNegative=Yes|Number=Sing|Person=3|VerbForm=Fin|Voice=Act\\t20\\tneg\\t_\\t_\\n20\\tylity\\tylittyä\\tVERB\\t_\\tConnegative=Yes|Mood=Ind|Tense=Pres|VerbForm=Fin\\t14\\tccomp\\t_\\t_\\n21\\tsaastutuksen\\tsaastutus\\tNOUN\\t_\\tCase=Gen|Number=Sing\\t24\\tnmod:poss\\t_\\t_\\n22\\ttai\\ttai\\tCONJ\\t_\\t_\\t21\\tcc\\t_\\t_\\n23\\tluonnonvarojen\\tluonnon#vara\\tNOUN\\t_\\tCase=Gen|Number=Plur\\t21\\tconj\\t_\\t_\\n24\\tliikakäytön\\tliika#käyttö\\tNOUN\\t_\\tCase=Gen|Number=Sing\\t20\\tnmod\\t_\\t_\\n25\\ttakia\\ttakia\\tADP\\t_\\tAdpType=Post\\t24\\tcase\\t_\\t_\\n26\\t.\\t.\\tPUNCT\\t_\\t_\\t2\\tpunct\\t_\\t_\\n</sentence>\\n</paragraph>\\n'}}\n",
      "\n",
      "Words for document 'joustavuus': ['joustavuus', 'joustavuus', 'yritys', 'ominaisuus', 'kertoa', 'yritys', 'pystyä', 'sopeutua', 'kysyntä', 'tapahtua', 'määrällinen', 'laadullinen', 'muutos', 'yritys', 'muutos', 'kilpailija', 'epäedullinen', 'asema', 'anna', 'pollert', 'arvostella', 'käsite', 'joustavuus', 'varjo', 'tehdä', 'poiketa', 'työntekijä', 'asema', 'vaikuttaa', 'toimenpide', 'joustavuus', 'pyrkiä', 'oikeuttaa', 'keskenään', 'ristiriitainen', 'toimenpide', 'täsmällinen', 'kielenkäyttö', 'joustavuus', 'jakaa', 'laji', 'joustavuus', 'lyhytaikainen', 'ennakointi', 'flexibility', 'for', 'shortterm', 'predicatability', 'määrällinen', 'jousto', 'joustavuus', 'pitkäaikainen', 'sopeutua', 'flexibility', 'for', 'longterm', 'adaptability', 'toiminnallinen', 'jousto', 'joustavuus', 'lyhytaikainen', 'ennakointi', 'merkitä', 'yritys', 'voida', 'sopeuttaa', 'tuotantokustannus', 'kysyntä', 'tekninen', 'ominaisuus', 'lyhytaikainen', 'joustavuus', 'lisätä', 'mahdollisuus', 'irtisanoa', 'hankkia', 'työntekijä', 'joustavuus', 'pitkäaikainen', 'sopeutua', 'edellyttää', 'yritys', 'kyky', 'kehittää', 'tuote', 'tuotantoprosessi', 'auttaa', 'yritys', 'sopeutua', 'uudenlainen', 'markkinatilanne', 'yritys', 'kohdistua', 'toimiala', 'kilpailuvoima', 'aiheuttaa', 'tarve', 'lyhytaikainen', 'pitkäaikainen', 'joustavuus', 'voima', 'vaikuttaa', 'yritys', 'samanaikaisesti', 'käyttää', 'erilainen', 'henkilöstöhallinta', 'strategia', 'ilmiö', 'liittyä', 'havainto', 'pohja', 'atkinson', 'kehittää', 'joustava', 'yritys', 'malli', 'malli', 'ydin', 'koostua', 'pitkäaikainen', 'pysyvä', 'työsuhde', 'taitava', 'työntekijä', 'suunnittelija', 'johtaja', 'jne', 'työsuhde', 'yritys', 'turvallinen', 'työnkuva', 'projekti', 'saattaa', 'muuttua', 'työsuhde', 'reunaryhmä', 'työntekijä', 'työsuhde', 'säännöllinen', 'irtisanoa', 'vaara', 'urakehitys', 'mahdollisuus', 'reunaryhmä', 'kohdistua', 'henkilöstöhallinto', 'toimenpide', 'motivoida', 'fordistisia', 'tärkeä', 'jousto', 'mekanismi', 'alihankinta', 'ulkoistaa', 'vuokratyövoima', 'käyttö', 'joustavuus', 'voida', 'soveltaa', 'työttömyysvakuutus', 'piiri', 'työttömyyskorvaus', 'ansiosidonnainen', 'työttömyyskorvaus', 'joustavuus', 'voida', 'toteuttaa', 'pienentää', 'työttömyyskorvaus', 'määrä', 'lyhentää', 'saantiaika', 'työttömyyskorvaus', 'joustaa', 'perustua', 'idea', 'työtön', 'hakeutua', 'työ', 'saada', 'toimeentulo', 'riittävä', 'työttömyyskorvaus', 'vaikeuttaa', 'asema', 'yritys', 'saada', 'työ', '2015', 'suomi', 'alkaa', 'ajaa', 'joustavuusidea', 'korvaus', 'voida', 'lyhytaikainen', 'työtön', 'korkea', 'pitkäaikainentyötön', 'asema', 'heikentää', 'entisestään', 'korvaus', 'alentua', 'järjestelmä', 'kutsua', 'ns', 'kannustaa', 'järjestelmä', 'joustavuus', 'kannustaa', 'ajaa', 'työnantajapuoli', 'edustaja', 'ayliike', 'vastustaa', 'työntekijä', 'asema', 'heikentää']\n",
      "\n",
      "Words for document 'ilmastonmuutos': ['ilmastomuutos', 'yleiskieli', 'käsite', 'ilmastonmuutos', 'tarkoittaa', 'nykyinen', 'ihminen', 'toiminta', 'johtua', 'ilmakehä', 'lisääntyä', 'kasvihuonekaasupitoisuus', 'aiheutua', 'globaali', 'ilmasto', 'lämmetä', 'käsitellä', 'ilmasto', 'lämmetä', 'niminen', 'artikkeli', 'artikkeli', 'yleiskatsaus', 'paikallinen', 'maailmanlaajuinen', 'ilmasto', 'vaikuttaa', 'tekijä', 'artikkeli', 'käsitellä', 'ilmasto', 'viiletä', 'ilmastomuutos', 'merkittävä', 'pitkä', 'aikaväli', 'muutos', 'globaali', 'paikallinen', 'ilmasto', 'muutos', 'voida', 'tapahtua', 'sadanta', 'lämpötila', 'tuulikuvio', 'tarkastella', 'aikaväli', 'voida', 'vaihdella', 'kymmeninen', 'miljoona', 'ilmastomuutos', 'voida', 'aiheutua', 'tapahtuma', 'liittyä', 'meri', 'lämpömekanismi', 'maapallo', 'rata', 'mannerlaatta', 'liike', 'aurinko', 'aktiivisuus', 'vulkaaninen', 'toiminta', 'asteroiditörmäys', 'ihminen', 'toiminta', 'maa', 'ilmasto', 'voida', 'muuttua', 'maapallo', 'sisäinen', 'prosessi', 'reaktio', 'ulkoinen', 'tekijä', 'muutos', 'aurinko', 'aktiivisuus', 'maapallo', 'kiertorata', 'akseli', 'maapallo', 'sisäinen', 'prosessi', 'voida', 'luontainen', 'vulkaaninen', 'päästö', 'ihminen', 'toiminta', 'johtua', 'fossiilinen', 'polttoaine', 'käyttö', 'synnyttää', 'ilmakehä', 'kasvihuonekaasu', 'cfc', 'no', 'co', 'pitoisuus', 'nousu', 'sää', 'kaoottinen', 'epälineaarinen', 'dynaaminen', 'järjestelmä', 'tarkoittaa', 'osittain', 'ennustaa', 'ilmasto', 'sää', 'keskiarvo', 'havainto', 'valo', 'suhteellinen', 'vakaa', 'ilmasto', 'lukeutua', 'keskilämpötila', 'sadanta', 'aurinkoinen', 'päivä', 'määrä', 'lukuisa', 'mitata', 'suure', 'maa', 'ympäristö', 'tapahtua', 'muutos', 'voida', 'vaikuttaa', 'ilmasto', 'jäätikkö', 'kasvu', 'pienetä', 'aiheuttaa', 'luonnollinen', 'vaihtelu', 'vahvistaa', 'ulkoinen', 'pakote', 'meriilmakehäjärjestelmä', 'muutos', 'voida', 'aiheuttaa', 'voimakas', 'muutos', 'meri', 'vaikutus', 'ilmasto', 'liittyä', 'osa', 'lämpökapasiteetti', 'kyky', 'kuljettaa', 'energia', 'termohaliinikierron', 'merkitys', 'kasvaa', 'pitkä', 'aikaväli', 'ilmasto', 'tila', 'riippuvainen', 'nykytila', 'vaikuttaa', 'edeltää', 'tila', 'kysymys', 'hystereesiilmiö', 'miljoona', 'kulua', 'mannerlaatta', 'liike', 'vaikuttaa', 'merivirta', 'vuori', 'muoto', 'muuttaa', 'ilmasto', 'aurinko', 'aktiivisuus', 'pitkä', 'lyhyt', 'aikaväli', 'tapahtua', 'muutos', 'muuttaa', 'ilmasto', 'säteilypakote', 'suhde', 'nopea', 'muutos', 'aikajänne', 'tapahtua', 'maa', 'rata', 'säännöllinen', 'heilahtelu', 'johtua', 'aurinkokunta', 'sisäinen', 'dynamiikka', 'milankovićin', 'jakso', 'aiheuttaa', 'kutsua', 'jääkausisykli', 'voimakas', 'tulivuorenpurkaus', 'voida', 'vaikuttaa', 'ilmasto', 'äkillisesti', 'purkaus', 'tapahtua', 'vuosisata', 'miljoona', 'väli', 'esiintyä', 'miljoona', 'neliökilometri', 'suuruinen', 'purkausalue', 'vaikuttaa', 'ilmasto', 'miljoona', 'kasvihuoneilmiö', 'merkittävä', 'maapallo', 'lämpötila', 'säädellä', 'tekijä', 'kasvihuoneilmiö', 'voidatavi', 'kasvihuonekaasu', 'hiilidioksidi', 'määrä', 'ilmakehä', 'arvioida', 'hetki', 'korkea', 'miljoona', 'paleoklimatologi', 'kiinnostaa', 'tutka', 'plioseenikaudella', 'ihminenlaji', 'ilmaantua', 'maapallo', 'vallita', 'ajanjakso', 'hiilidioksidipitoisuus', 'kasvu', 'liittyä', 'ilmasto', 'lämmetä', 'arvioida', 'muuttaa', 'maapallo', 'vallita', 'olo', 'muistuttaa', 'suunta', 'kalkkikivi', 'rapautua', 'vaimentaa', 'hiilidioksidipitoisuus', 'muutos', 'hiilidioksidi', 'rapautua', 'kiihtyä', 'lisätä', 'kalkkikivi', 'syntyä', 'sitoa', 'hiilidioksidi', 'vähentää', 'pitoisuus', 'kestää', 'miljoona', 'ilmakehä', 'hiilidioksidipitoisuus', 'palaa', 'ennalleen', 'kuvata', 'prosessi', 'nykyinen', 'hiilidioksidipitoisuus', 'arveluttava', 'verrata', '250', 'miljoona', 'tilanne', 'siperia', 'voimakas', 'vulkaaninen', 'toiminta', 'tapahtua', 'maapallo', 'historia', 'laji', 'massakato', 'arvio', '95', 'laji', 'kadota', 'biodiversiteetti', 'palautua', 'kestää', '56', 'miljoona', 'hiilidioksidipitoisuus', 'epätavallinen', 'korkea', 'verrata', 'nykytilanne', 'käynti', 'ilmastomuutos', 'seuraus', 'ihminen', 'toiminta', 'ihmiskunta', 'aiheuttaa', 'ilmastomuutos', 'vaikutus', 'maapallo', 'saavuttaa', 'sellainen', 'mittasuhde', 'nykyaika', 'alkaa', 'kutsua', 'maailmanhistoria', 'antroposeeniksi', 'ihminen', 'aikakausi', 'ihminenperäinen', 'ilmastomuutos', 'maapallo', 'alkaa', 'luontainen', 'poikkeava', 'kehityskulku', 'tutkija', 'maapallo', 'keskilämpötila', 'nousta', 'ihmiskunta', 'toimi', 'johdosta', '2100', 'todennäköisesti', 'celsiusaste', 'jatkaa', 'nousu', 'vuosisata', 'nykyinen', 'konsensusarvio', '2100', '1', '5', '6', '0', 'c', 'lämmetä', 'voimakkuus', 'riippua', 'arvio', 'lisääntyä', 'vähetä', 'ihmiskunta', 'ilmakehä', 'syytää', 'kasvihuonekaasu', 'määrä', 'nykyinen', 'kehitys', 'ilmakehä', 'kasvihuonekaasu', 'pitoisuus', 'kolminkertaistua', 'nykyinen', 'ilmastomuutos', 'haluta', 'pitää', 'aisa', 'teollisuusmaa', 'päästö', 'pudota', 'tuntuvasti', 'lähivuosikymmen', 'teollistua', 'kehitysmaa', 'hillitä', 'tehokkaasti', 'päästö', 'kasvuvauhti', 'merkitä', 'osa', 'fossiilinen', 'polttoaine', 'jättää', 'ikiajo', 'maa', 'povi', 'ihmiskunta', 'päästö', 'kehitys', 'riippua', 'poliittinen', 'tahto', 'tekniikka', 'kehitys', 'päästö', 'rajoittaayritys', 'vaikutus', 'ilmasto', 'lämmetä', 'johtua', 'ilmakehä', 'hiilidioksidi', 'metaani', 'typpioksiduulipitoisuus', 'troposfääri', 'otsonipitoisuus', 'nousu', 'pikihiukkanen', 'aerosoli', 'vaikutus', 'pilvisyys', 'arvioida', 'tarkasti', 'nykytieto', 'valo', 'pikihiukkanen', 'voimakas', 'ilmasto', 'viilentää', 'nettovaikutus', 'huomioida', 'ilmastomalli', 'ennuste', 'pikihiukkanen', 'suhteellinen', 'ilmakehä', 'viilentää', 'vaikutus', 'vähetä', 'jatkuvasti', 'johtua', 'kasvihuonekaasu', 'pitoisuus', 'ilmakehä', 'kasvaa', 'voimakkaasti', 'kaasu', 'huomattavasti', 'pitkä', 'elinkaari', 'pikihiukkanen', 'kasvaa', 'hiilidioksidipäästö', 'tuottaa', 'fossiilinen', 'polttoaine', 'jatkuvasti', 'lisääntyä', 'käyttö', 'yksittäinen', 'syy', 'antropogeeniseen', 'ihminen', 'toimi', 'johtua', 'ilmastomuutos', 'maankäyttö', 'muutos', 'metsä', 'hävitys', 'suo', 'kuivatus', 'pelto', 'maatalous', 'voimistaa', 'ilmastomuutto', 'nautakarja', 'pito', 'riisinviljely', 'aiheuttaa', 'ilmasto', 'lämmittää', 'metaanipäästö', 'ilmakehä', 'metaanipitoisuus', 'nousta', 'kolminkertainen', 'esiteollinen', 'verrata', 'ilmasto', 'lämmittää', 'typpioksiduuli', 'muodostua', 'viljelysmaa', 'nitraatti', 'hajota', 'keinolannoite', 'käyttö', 'lisätä', 'typpioksiduulipäästö', 'typpioksiduulipäästö', 'kasvaa', 'hetki', 'lineaarinen', '55', 'miljoona', 'ilmakehä', 'hiilidioksidipitoisuus', 'vaihdella', 'luontaisesti', '200', '300', 'ppmn', '1', '000', 'pitoisuus', '280', 'ppm', 'ihmiskunta', 'pääenergianlähde', 'pitkään', 'kivihiilikausi', 'metsäjäännös', 'fossiilinen', 'polttoaine', 'öljy', 'kivihiili', 'maakaasu', 'esiinkaivaminen', 'polttaa', 'kivihiili', 'varanto', 'riittää', 'eteenpäin', 'hiili', 'muoto', 'polttaa', 'nostaa', 'ilmakehä', 'hiilidioksidipitoisuus', 'nykyinen', '380', 'ppmiin', '30', 'historiallinen', 'arvo', 'v', '2004', 'tilanne', 'fossiilinen', 'polttoaine', 'käyttö', 'lisääntyä', 'ilmakehä', 'hiilidioksidipitoisuus', 'kasvaa', 'vieläpä', 'nopeutua', 'kasvillisuus', 'menestyä', 'pääsääntöisesti', 'hiilidioksidipitoinen', 'ilma', 'kasvi', 'tarvita', 'hiilidioksidi', 'yhteyttää', 'tutkimus', 'asettaa', 'kyseenalainen', 'kasvillisuus', 'rehevöityä', 'nettovaikutus', 'johtua', 'ilmasto', 'lämmetä', 'maaperä', 'varastoitua', 'hiili', 'alkaa', 'hajota', 'lisätä', 'ilmakehä', 'hiilidioksidipitoisuus', 'entisestään', 'merkki', 'lämmetä', 'pohjoinen', 'suo', 'siperia', 'alaska', 'osa', 'suomi', 'lappi', 'lisääntyä', 'hiilidioksidi', 'metaanituotanto', 'saattaa', 'muodostua', 'tulevaisuus', 'oleellinen', 'ilmakehä', 'hiilidioksidipitoisuus', 'kohottaja', 'nykyisin', 'pitää', 'todennäköinen', 'ihminen', 'aikaansaada', 'ilmasto', 'lämmetä', 'tasaisesti', 'edetä', 'prosessi', 'ilmasto', 'muuttua', 'hyppäysomaisesti', 'kriittinen', 'kynnysarvo', 'ylittyä', 'seuraus', 'ilmastopakote', 'vaikkapa', 'säteily', 'muuttaa', 'ilmasto', 'mekanismi', 'voida', 'vahvistaa', 'vaimentaa', 'muutos', 'positiivinen', 'negatiivinen', 'takaisinkytkentä', 'lukuisa', 'lämmetä', 'voimistaa', 'positiivinen', 'takaisinkytkentä', 'huomioida', 'ipccn', 'ilmastomalli', 'takaisinkytkentä', 'liittyä', 'jäätikkö', 'kiihtyä', 'sulaa', 'nopeuttaa', 'merivesi', 'lämmetä', 'positiivinen', 'takaisinkytkentä', 'ikirouta', 'sulaa', 'aikaansaada', 'metaanipäästö', 'vesi', 'lämmetä', 'johtua', 'merenpohja', 'metaanihydraatti', 'vapautua', 'ilmakehä', 'metaani', 'muoto', 'mainita', 'prosessi', 'huomioida', 'ilmastomalli', 'ipccn', 'raportti', 'perustua', 'lämmetä', 'aikaansaada', 'merenpinta', 'nousu', 'voida', 'lisätä', 'tulivuorenpurkaus', 'yhteys', 'ilmakehä', 'päästä', 'metaani', 'hiilidioksidi', 'trooppinen', 'kosteikko', 'kuivua', 'vähentää', 'metaanipäästö', 'lisätä', 'palaariski', 'kuivua', 'kosteikko', 'palo', 'vapauttaa', 'hiki', 'ilmakehä', 'merivirta', 'ilmakehä', 'virtaus', 'keskinäinen', 'vuorovaikutus', 'muodostaa', 'monimutkainen', 'palautejärjestelmä', 'vuorovaikutus', 'ymmärtää', 'vallita', 'ilmastoolosuhteet', 'päätellä', 'kerätä', 'laajapohjaisesti', 'aineisto', 'pohja', 'ilmasto', 'voida', 'rakentaa', 'ilmastomalli', 'osa', 'todistusaineisto', 'epäsuora', 'kasvillisuus', 'puu', 'vuosirengas', 'jääkairausnäyte', 'merenpinta', 'muutos', 'jäätikkö', 'liike', 'voida', 'kerätä', 'tieto', 'vallita', 'ilmasto', 'järvi', 'suo', 'sedimenttikerros', 'tallentua', 'siitepöly', 'kovakuoriainen', 'jäänne', 'käyttää', 'tarkoitus']\n",
      "\n",
      "Words for document 'päästö': ['päästö', 'päästö', 'emissio', 'tarkoittaa', 'ympäristölainsäädäntö', 'ihminentoiminta', 'aiheuttaa', 'aine', 'energia', 'melu', 'tärinä', 'säteily', 'valo', 'haju', 'päästää', 'johtaa', 'jättää', 'useammasta', 'alkukohta', 'päästölähde', 'epäsuorasti', 'ilma', 'vesi', 'maaperä', 'päästö', 'voida', 'toivottu', 'ulkoilmakonsertti', 'konsertti', 'kuulija', 'eitoivottu', 'päästö', 'seuraus', 'voida', 'aiheutua', 'ympäristö', 'pilaantua', 'käsite', 'sisältää', 'terveyshaitta', 'omaisuus', 'vahingoittua', 'päästö', 'seuraus']\n",
      "\n",
      "Words for document 'ekologinen kestävyys': ['ekologinen', 'kestävyys', 'ekologinen', 'kestävyys', 'kestävä', 'kehitys', 'näkökulma', 'tarkoittaa', 'luonto', 'monimuotoisuus', 'ekosysteemi', 'toiminta', 'varmistaa', 'ihminen', 'toiminta', 'sopeuttaa', 'luonto', 'kestokyky', 'ylittyä', 'saastutus', 'luonnonvara', 'liikakäyttö']\n"
     ]
    }
   ],
   "source": [
    "# Function to extract third column data from sentences\n",
    "def extract_third_column(sentence):\n",
    "    third_column_data = []\n",
    "    lines = sentence.strip().split(\"\\n\")\n",
    "    for line in lines:\n",
    "        if line.strip() and not line.startswith(\"<\"):\n",
    "            columns = line.split(\"\\t\")\n",
    "            if len(columns) > 2:\n",
    "                third_column_data.append(columns[2])\n",
    "    return third_column_data\n",
    "\n",
    "\n",
    "def process_paragraphs(input_text):\n",
    "    # print(f\"Input Text: {input_text}\")\n",
    "    paragraphs = re.findall(r\"<paragraph>(.*?)</paragraph>\", input_text, re.DOTALL)\n",
    "    all_third_column_data = []\n",
    "    # print(f\"Paragraphs: {paragraphs}\")\n",
    "    for paragraph in paragraphs:\n",
    "        sentences = re.findall(r\"<sentence>(.*?)</sentence>\", paragraph, re.DOTALL)\n",
    "        # print(f\"Sentences: {sentences}\")\n",
    "        for sentence in sentences:\n",
    "            # print(f\"Sentence: {sentence}\")\n",
    "            third_column_data = extract_third_column(sentence)\n",
    "            all_third_column_data.append(\" \".join(third_column_data))\n",
    "    return all_third_column_data\n",
    "\n",
    "\n",
    "# print(f\"Wikipedia data: {wikipedia_data['ilmastonmuutos']['content']}\")\n",
    "\n",
    "# Process each item in wikipedia_data\n",
    "for item in wikipedia_data.items():\n",
    "    third_column_data = process_paragraphs(item[1][\"content\"])\n",
    "    # print(f\"Item {item[0]} third column data:\")\n",
    "    for j, data in enumerate(third_column_data):\n",
    "        filtered_sentence = remove_stopwords(data, finnish_stopwords)\n",
    "        # print(f\"Sentence {j+1}: {filtered_sentence}\")\n",
    "        # Save the filtered sentence to a variable if needed\n",
    "        # For example: sentence_var = filtered_sentence\n",
    "    # print(\"\\n\" + \"#\" * 80 + \"\\n\")\n",
    "\n",
    "\n",
    "all_words = {}\n",
    "\n",
    "print(wikipedia_data)\n",
    "for title, document in wikipedia_data.items():\n",
    "    sentences = re.findall(\n",
    "        r\"<sentence>(.*?)</sentence>\", document[\"content\"], re.DOTALL\n",
    "    )\n",
    "    document_words = []\n",
    "    if sentences:\n",
    "        for idx, sentence_content in enumerate(sentences):\n",
    "            # print(f\"Processing sentence {idx + 1}...\")\n",
    "\n",
    "            # Split each sentence into individual lines\n",
    "            lines = sentence_content.strip().split(\"\\n\")\n",
    "\n",
    "            # cleaned_lines = re.sub(r'[^\\w\\s]', '', lines)\n",
    "            # Extract the word (3nd column) from each line\n",
    "            words = [line.split(\"\\t\")[2] for line in lines if line.strip()]\n",
    "            for word in words:\n",
    "                cleaned_word = re.sub(r\"[^\\w\\s]\", \"\", word)\n",
    "                if not cleaned_word or cleaned_word in finnish_stopwords:\n",
    "                    continue\n",
    "                document_words.append(cleaned_word.casefold())\n",
    "\n",
    "    all_words[title] = document_words\n",
    "\n",
    "for title, words in all_words.items():\n",
    "    print(f\"\\nWords for document '{title}': {words}\")"
   ]
  },
  {
   "cell_type": "code",
   "execution_count": 14,
   "metadata": {},
   "outputs": [
    {
     "name": "stdout",
     "output_type": "stream",
     "text": [
      "Document 'joustavuus' contains the following entities: ['joustavuus', 'joustavuus', 'yritys', 'ominaisuus', 'yritys', 'muutos', 'yritys', 'muutos', 'asema', 'anna', 'käsite', 'joustavuus', 'varjo', 'työntekijä', 'asema', 'joustavuus', 'joustavuus', 'laji', 'joustavuus', 'ennakointi', 'jousto', 'joustavuus', 'jousto', 'joustavuus', 'ennakointi', 'yritys', 'ominaisuus', 'joustavuus', 'mahdollisuus', 'työntekijä', 'joustavuus', 'yritys', 'tuote', 'yritys', 'yritys', 'toimiala', 'tarve', 'joustavuus', 'voima', 'yritys', 'strategia', 'ilmiö', 'havainto', 'pohja', 'atkinson', 'yritys', 'malli', 'malli', 'ydin', 'työntekijä', 'johtaja', 'yritys', 'projekti', 'työntekijä', 'vaara', 'mahdollisuus', 'jousto', 'vuokratyövoima', 'joustavuus', 'työttömyysvakuutus', 'piiri', 'joustavuus', 'määrä', 'idea', 'työ', 'asema', 'yritys', 'työ', '2015', 'suomi', 'asema', 'ns', 'joustavuus', 'työntekijä', 'asema']\n",
      "Document 'ilmastonmuutos' contains the following entities: ['yleiskieli', 'käsite', 'ilmastonmuutos', 'ihminen', 'toiminta', 'ilmakehä', 'ilmasto', 'ilmasto', 'artikkeli', 'artikkeli', 'ilmasto', 'tekijä', 'artikkeli', 'ilmasto', 'muutos', 'ilmasto', 'muutos', 'sadanta', 'lämpötila', 'miljoona', 'tapahtuma', 'meri', 'rata', 'mannerlaatta', 'liike', 'aurinko', 'aktiivisuus', 'toiminta', 'ihminen', 'toiminta', 'maa', 'ilmasto', 'prosessi', 'reaktio', 'tekijä', 'muutos', 'aurinko', 'aktiivisuus', 'kiertorata', 'akseli', 'prosessi', 'päästö', 'ihminen', 'toiminta', 'polttoaine', 'ilmakehä', 'kasvihuonekaasu', 'no', 'co', 'sää', 'epälineaarinen', 'ilmasto', 'sää', 'havainto', 'valo', 'ilmasto', 'keskilämpötila', 'sadanta', 'päivä', 'määrä', 'suure', 'maa', 'ympäristö', 'muutos', 'ilmasto', 'jäätikkö', 'muutos', 'muutos', 'meri', 'ilmasto', 'osa', 'lämpökapasiteetti', 'energia', 'merkitys', 'ilmasto', 'tila', 'tila', 'miljoona', 'mannerlaatta', 'liike', 'merivirta', 'vuori', 'muoto', 'ilmasto', 'aurinko', 'aktiivisuus', 'muutos', 'ilmasto', 'säteilypakote', 'suhde', 'muutos', 'maa', 'rata', 'aurinkokunta', 'dynamiikka', 'jakso', 'tulivuorenpurkaus', 'ilmasto', 'vuosisata', 'miljoona', 'väli', 'miljoona', 'neliökilometri', 'ilmasto', 'miljoona', 'kasvihuoneilmiö', 'lämpötila', 'tekijä', 'kasvihuoneilmiö', 'kasvihuonekaasu', 'hiilidioksidi', 'määrä', 'ilmakehä', 'miljoona', 'tutka', 'ilmasto', 'suunta', 'kalkkikivi', 'muutos', 'hiilidioksidi', 'kalkkikivi', 'hiilidioksidi', 'miljoona', 'ilmakehä', 'palaa', 'prosessi', 'miljoona', 'siperia', 'toiminta', 'historia', 'laji', 'laji', 'biodiversiteetti', 'miljoona', 'ihminen', 'toiminta', 'nykyaika', 'maailmanhistoria', 'ihminen', 'tutkija', 'keskilämpötila', 'toimi', 'celsiusaste', 'vuosisata', '0', 'c', 'voimakkuus', 'ilmakehä', 'kasvihuonekaasu', 'määrä', 'ilmakehä', 'kasvihuonekaasu', 'aisa', 'teollisuusmaa', 'päästö', 'pudota', 'kehitysmaa', 'päästö', 'osa', 'polttoaine', 'maa', 'päästö', 'tekniikka', 'päästö', 'ilmasto', 'ilmakehä', 'hiilidioksidi', 'metaani', 'troposfääri', 'aerosoli', 'pilvisyys', 'valo', 'ilmasto', 'ilmastomalli', 'ilmakehä', 'kasvihuonekaasu', 'ilmakehä', 'kaasu', 'elinkaari', 'polttoaine', 'syy', 'ihminen', 'toimi', 'muutos', 'metsä', 'suo', 'pelto', 'maatalous', 'ilmasto', 'ilmakehä', 'ilmasto', 'nitraatti', 'miljoona', 'ilmakehä', '000', 'ppm', 'kivihiilikausi', 'polttoaine', 'öljy', 'kivihiili', 'maakaasu', 'kivihiili', 'eteenpäin', 'hiili', 'muoto', 'ilmakehä', 'arvo', 'v', '2004', 'polttoaine', 'ilmakehä', 'ilma', 'hiilidioksidi', 'tutkimus', 'ilmasto', 'maaperä', 'hiili', 'ilmakehä', 'merkki', 'pohjoinen', 'suo', 'siperia', 'alaska', 'osa', 'suomi', 'lappi', 'hiilidioksidi', 'tulevaisuus', 'ilmakehä', 'ihminen', 'ilmasto', 'prosessi', 'ilmasto', 'säteily', 'ilmasto', 'muutos', 'takaisinkytkentä', 'takaisinkytkentä', 'ilmastomalli', 'takaisinkytkentä', 'jäätikkö', 'merivesi', 'takaisinkytkentä', 'ikirouta', 'vesi', 'merenpohja', 'ilmakehä', 'metaani', 'muoto', 'prosessi', 'ilmastomalli', 'raportti', 'tulivuorenpurkaus', 'ilmakehä', 'metaani', 'hiilidioksidi', 'kosteikko', 'kosteikko', 'palo', 'hiki', 'ilmakehä', 'merivirta', 'ilmakehä', 'vuorovaikutus', 'vuorovaikutus', 'pohja', 'ilmasto', 'ilmastomalli', 'osa', 'todistusaineisto', 'puu', 'jääkairausnäyte', 'muutos', 'jäätikkö', 'liike', 'tieto', 'ilmasto', 'järvi', 'suo', 'siitepöly', 'tarkoitus']\n",
      "Document 'päästö' contains the following entities: ['päästö', 'päästö', 'emissio', 'aine', 'energia', 'melu', 'säteily', 'valo', 'ilma', 'vesi', 'maaperä', 'päästö', 'konsertti', 'päästö', 'ympäristö', 'käsite', 'terveyshaitta', 'päästö']\n",
      "Document 'ekologinen kestävyys' contains the following entities: ['kestävyys', 'kestävyys', 'näkökulma', 'luonto', 'monimuotoisuus', 'ekosysteemi', 'toiminta', 'ihminen', 'toiminta', 'luonto']\n"
     ]
    }
   ],
   "source": [
    "entities_found = {}\n",
    "\n",
    "for i, topic_words in enumerate(all_words):\n",
    "    found_words = []\n",
    "    for word in all_words[topic_words]:\n",
    "        if word.casefold() in [title.casefold() for title in wikipedia_title_data]:\n",
    "            found_words.append(word.casefold())\n",
    "    entities_found[topic_words] = found_words\n",
    "\n",
    "\n",
    "# Example usage of the entities_found dictionary\n",
    "for topic, found_entities in entities_found.items():\n",
    "    print(f\"Document '{topic}' contains the following entities: {found_entities}\")"
   ]
  },
  {
   "cell_type": "code",
   "execution_count": null,
   "metadata": {},
   "outputs": [],
   "source": []
  },
  {
   "cell_type": "markdown",
   "metadata": {},
   "source": [
    "### Task 2\n",
    "\n",
    "Assume the content of each webpage is a single document. Use relevant NLTK script to create a corpus constituted of the four document, and appropriate proprocessing and lemmatization, to construct the TfIdfVectorizer of each document and then calculate the cosine similarity of each pair of these documents. Provide the result in a table and comment on the findings.\n"
   ]
  },
  {
   "cell_type": "code",
   "execution_count": 15,
   "metadata": {},
   "outputs": [],
   "source": [
    "# def extract_second_column(sentence):\n",
    "#     second_column_data = []\n",
    "#     lines = sentence.strip().split(\"\\n\")\n",
    "#     for line in lines:\n",
    "#         if line.strip() and not line.startswith(\"<\"):\n",
    "#             columns = line.split(\"\\t\")\n",
    "#             if len(columns) > 2:\n",
    "#                 second_column_data.append(columns[1])\n",
    "#     return second_column_data\n",
    "\n",
    "\n",
    "# def process_sentences(input_text):\n",
    "#     paragraphs = re.findall(r\"<paragraph>(.*?)</paragraph>\", input_text, re.DOTALL)\n",
    "#     all_second_column_data = []\n",
    "#     for paragraph in paragraphs:\n",
    "#         sentences = re.findall(r\"<sentence>(.*?)</sentence>\", paragraph, re.DOTALL)\n",
    "#         # print(f\"Sentences: {sentences}\")\n",
    "#         for sentence in sentences:\n",
    "#             # print(f\"Sentence: {sentence}\")\n",
    "#             second_column_data = extract_second_column(sentence)\n",
    "#             all_second_column_data.append(\" \".join(second_column_data))\n",
    "#     return all_second_column_data\n",
    "\n",
    "\n",
    "# Preprocessing function to remove stopwords, stemming, and tokenize the document\n",
    "def preProcess(words, stopwords):\n",
    "    tokens = []\n",
    "    clean_stopwords = [word.casefold() for word in stopwords]\n",
    "    stemmer = SnowballStemmer(\"finnish\")\n",
    "    # sentences = process_sentences(doc)\n",
    "    # print(f\"Sentences: {sentences}\")\n",
    "    # sentences = sent_tokenize(text=sentences.casefold(), language='finnish')\n",
    "\n",
    "    #words = word_tokenize(words)\n",
    "\n",
    "    words = [stemmer.stem(word) for word in words]\n",
    "    words = [\n",
    "        word for word in words if word.isalpha() and word not in clean_stopwords\n",
    "    ]\n",
    "    words_set = list(set(words))\n",
    "\n",
    "    tokens.extend(words_set)\n",
    "\n",
    "    return \" \".join(tokens)"
   ]
  },
  {
   "cell_type": "code",
   "execution_count": 16,
   "metadata": {},
   "outputs": [
    {
     "name": "stdout",
     "output_type": "stream",
     "text": [
      "Processed Document: vaikeut järjestelm laji fordistis strateg lyhent piiri entis merk sopeutu mekanism kutsu työsuhd for pyrk säännöllin kesk suomi työttömyysvakuutus voida projekt aut kerto yd vuokratyövoim ominaisuus jaka henkilöstöhallin heikent joustav ns ulkoist ristiriitain mal tarv ennakoint motivoid tuotantokustannus kielenkäytö kilpailij toimenpid aja adaptability käytö urakehitys pienent riittäv kysyn tuotantoproses edustaj käsit sopeut pohj alihankin ansiosidonnain joustavuusid lyhytaikain aiheut pitkäaikain määrä saada edellyt ilmiö markkinatil longterm jousto shortterm alk lisä kehit ide kannust työntekij kilpailuvoim hakeutu tehd irtisano vaara muutu sovelt työtö flexibility joustavuus työttömyyskorvaus pitkäaikainentyötö mahdollisuus vaikut erilain atkinso saat muutos yritys voima ayliik jne toimeentulo saantiaik pollert toiminnallin suunnittelij uudenlain käyt pysty arvost asem oikeut hank an toteut joust työnantajapuol työ koostu alentu vastust laadullin tärk predicatability henkilöstöhallinto pysyv kork samanaikais johtaj tuote korvaus toimial epäedullin kohdistu turvallin täsmällin perustu työnkuv poike reunaryhm liity tapahtu teknin havainto kyky määrällin taitav varj\n",
      "Processed Document: laji yhteys kaoottin vaihd typpioksiduulipitoisuus maailmanhistor piene viljelysm teollisuusm kutsu alask positiivin hiilidioksidipäästö tekij puu syytä riipu aktiivisuus jät kulu pääs muistut co kasvihuonekaasu seuraus poikkeav synty nopeutu ulkoin no kivihiilikau tuulikuvio lap kest ipc suhteellin paikallin pääenergianlähd yleiskatsaus lämpötil kymmenin halu purkaus epälineaarin aksel konsensusarvio historiallin aerosol sää polt tutkimus vaihtelu järv nimin epätavallin artikkel vuosis tila hajo vapaut sula rehevöity c kasvu voimakas ikirou aikaansaad nettovaikutus kysymys saat muutos paleoklimatolog kuva tarkoitus tutkij tuot nitraat käyt muoto lämpökapasiteet vuorovaikutus val tieto luonnollin kosteiko hiili esiteollin ppmn milanković reaktio biodiversiteet perustu ihminenlaj nousu antroposeen sito epäsuor ver kyky suo ilmasto fossiilin tulivuorenpurkaus sellain järjestelm ppm öljy merk kolminkertaistu käynt poliittin merivir valo rata jatkuv lukuis mannerlaat keskinäin synnyt riippuvain pilvisyys eteenp pääsääntöis ennust poltoa muodostu luontain ymmärt kuivatus aurinkoin energ kolminkertain aurinkokun osa metaanihydraat antropogeenis ikiaj ede kovakuoriain lämmit aineisto kehityskulku meriv merenpin maailmanlaajuin hiilidioksid yleiskiel lisä sisäin nous säteilypakot olo vähent kasv keskilämpötil sääde mets päivä voimakkuus kalkkikiv suure pitä saavut aisa tarkoit purkausalue main viilent nautakarj hävitys huomattav vapautu riisinviljely lisäänty pikihiukkan osit jään nopeut vesi aikakau lineaarin vaikutus metaanituotanto aikaväl ppmiin huomioid nykyis nykyaik riit kriittin toimin vulkaanin dynaamin kasvihuonekaasupitoisuus entis menesty ilmastoolosuht esiinty maakaasu pääte mekanism metaanipitoisuus kuivu kyseenalain sadan säännöllin asteroiditörmäys kuljet pito merkitys jatk vähe keskiarvo toimi tarv sedimenttikerros monimutkain tekniik typpioksiduulipäästö käytö tuntuv suhd teollistu aur jääkausisykl äkillis siper tasais histor varanto virtaus termohaliinikiero ihminenperäin aiheut proses elinkaar syy määrä raport tahto varastoitu mittasuhd alk ilmastomuuto kiihty ilmastopakot ilmaantu kerä milj lukeutu hyppäysomais vuori cfc kaasu hil metaanipäästö nykyin aikaj merkittäv vaik säteily trooppin dynamiik johtu ilmastomal väli vuosirengas ilmakeh meri meriilmakehäjärjestelm povi ilmastonmuutos esiinkaivamin pohjoin v todennäköis kiertor otsonipitoisuus massakato vahvist kork arvio globaal maapalo ilmastomuutos kynnysarvo hystereesiilmiö yhteyt havainto plioseenikaud lähivuosikym pelto pakot jäätikö suuruin lämpömekanism metsäjäännös viile tarkast arvioid palautejärjestelm kasvihuoneilmiö merenpohj tutk mita meta kado takaisinkytken suomi voida oleellin pala rajoittaayritys neliökilometr todistusaineisto kiinnost tulevaisuus siitepöly typpioksiduul vaka aset hetk kehitysm käsit pohj aiheutu vaiment tapahtum päästö kasvuvauht laajapohjais ihmin ympäristö arvo jääkairausnäyt kivihiil ajanjakso ilm rapautu nykytil kohottaj muodost celsiusast rakent maa voimist tallentu johdo muutu negatiivin nykytieto voimak liike ylity vaikut keinolannoit nope arveluttav nost lyhy hiilidioksidipitoisuus pudo maankäytö kehitys suun läm ihmiskun kasvillisuus edelt heilahtelu pit palautu hiki palaarisk pitk hiilidioksidipitoin luontais todennäköin liity tapahtu troposfäär tehok pitoisuus maaper maatalous jakso palo voidatav\n",
      "Processed Document: tär seuraus toivotu kuulij eitoivotu emisio alkukoh pääst päästölähd ihminentoimin ulkoilmakonsert valo käsit energ vahingoitu aiheutu päästö vesi voida säteily konsert ympäristö melu aiheut epäsuor pilaantu haju jät maaper ilm tarkoit aine omaisuus useam sisält joht ympäristölainsäädäntö terveyshait\n",
      "Processed Document: sopeut näkökulm kestäv varmist tarkoit saastutus ylity luonnonvar luonto ihmin monimuotoisuus kehitys liikakäytö ekologin ekosysteem kestävyys kestokyky toimin\n",
      "\n",
      "Corpus:\n",
      "vaikeut järjestelm laji fordistis strateg lyhent piiri entis merk sopeutu mekanism kutsu työsuhd for pyrk säännöllin kesk suomi työttömyysvakuutus voida projekt aut kerto yd vuokratyövoim ominaisuus jaka henkilöstöhallin heikent joustav ns ulkoist ristiriitain mal tarv ennakoint motivoid tuotantokustannus kielenkäytö kilpailij toimenpid aja adaptability käytö urakehitys pienent riittäv kysyn tuotantoproses edustaj käsit sopeut pohj alihankin ansiosidonnain joustavuusid lyhytaikain aiheut pitkäaikain määrä saada edellyt ilmiö markkinatil longterm jousto shortterm alk lisä kehit ide kannust työntekij kilpailuvoim hakeutu tehd irtisano vaara muutu sovelt työtö flexibility joustavuus työttömyyskorvaus pitkäaikainentyötö mahdollisuus vaikut erilain atkinso saat muutos yritys voima ayliik jne toimeentulo saantiaik pollert toiminnallin suunnittelij uudenlain käyt pysty arvost asem oikeut hank an toteut joust työnantajapuol työ koostu alentu vastust laadullin tärk predicatability henkilöstöhallinto pysyv kork samanaikais johtaj tuote korvaus toimial epäedullin kohdistu turvallin täsmällin perustu työnkuv poike reunaryhm liity tapahtu teknin havainto kyky määrällin taitav varj\n",
      "laji yhteys kaoottin vaihd typpioksiduulipitoisuus maailmanhistor piene viljelysm teollisuusm kutsu alask positiivin hiilidioksidipäästö tekij puu syytä riipu aktiivisuus jät kulu pääs muistut co kasvihuonekaasu seuraus poikkeav synty nopeutu ulkoin no kivihiilikau tuulikuvio lap kest ipc suhteellin paikallin pääenergianlähd yleiskatsaus lämpötil kymmenin halu purkaus epälineaarin aksel konsensusarvio historiallin aerosol sää polt tutkimus vaihtelu järv nimin epätavallin artikkel vuosis tila hajo vapaut sula rehevöity c kasvu voimakas ikirou aikaansaad nettovaikutus kysymys saat muutos paleoklimatolog kuva tarkoitus tutkij tuot nitraat käyt muoto lämpökapasiteet vuorovaikutus val tieto luonnollin kosteiko hiili esiteollin ppmn milanković reaktio biodiversiteet perustu ihminenlaj nousu antroposeen sito epäsuor ver kyky suo ilmasto fossiilin tulivuorenpurkaus sellain järjestelm ppm öljy merk kolminkertaistu käynt poliittin merivir valo rata jatkuv lukuis mannerlaat keskinäin synnyt riippuvain pilvisyys eteenp pääsääntöis ennust poltoa muodostu luontain ymmärt kuivatus aurinkoin energ kolminkertain aurinkokun osa metaanihydraat antropogeenis ikiaj ede kovakuoriain lämmit aineisto kehityskulku meriv merenpin maailmanlaajuin hiilidioksid yleiskiel lisä sisäin nous säteilypakot olo vähent kasv keskilämpötil sääde mets päivä voimakkuus kalkkikiv suure pitä saavut aisa tarkoit purkausalue main viilent nautakarj hävitys huomattav vapautu riisinviljely lisäänty pikihiukkan osit jään nopeut vesi aikakau lineaarin vaikutus metaanituotanto aikaväl ppmiin huomioid nykyis nykyaik riit kriittin toimin vulkaanin dynaamin kasvihuonekaasupitoisuus entis menesty ilmastoolosuht esiinty maakaasu pääte mekanism metaanipitoisuus kuivu kyseenalain sadan säännöllin asteroiditörmäys kuljet pito merkitys jatk vähe keskiarvo toimi tarv sedimenttikerros monimutkain tekniik typpioksiduulipäästö käytö tuntuv suhd teollistu aur jääkausisykl äkillis siper tasais histor varanto virtaus termohaliinikiero ihminenperäin aiheut proses elinkaar syy määrä raport tahto varastoitu mittasuhd alk ilmastomuuto kiihty ilmastopakot ilmaantu kerä milj lukeutu hyppäysomais vuori cfc kaasu hil metaanipäästö nykyin aikaj merkittäv vaik säteily trooppin dynamiik johtu ilmastomal väli vuosirengas ilmakeh meri meriilmakehäjärjestelm povi ilmastonmuutos esiinkaivamin pohjoin v todennäköis kiertor otsonipitoisuus massakato vahvist kork arvio globaal maapalo ilmastomuutos kynnysarvo hystereesiilmiö yhteyt havainto plioseenikaud lähivuosikym pelto pakot jäätikö suuruin lämpömekanism metsäjäännös viile tarkast arvioid palautejärjestelm kasvihuoneilmiö merenpohj tutk mita meta kado takaisinkytken suomi voida oleellin pala rajoittaayritys neliökilometr todistusaineisto kiinnost tulevaisuus siitepöly typpioksiduul vaka aset hetk kehitysm käsit pohj aiheutu vaiment tapahtum päästö kasvuvauht laajapohjais ihmin ympäristö arvo jääkairausnäyt kivihiil ajanjakso ilm rapautu nykytil kohottaj muodost celsiusast rakent maa voimist tallentu johdo muutu negatiivin nykytieto voimak liike ylity vaikut keinolannoit nope arveluttav nost lyhy hiilidioksidipitoisuus pudo maankäytö kehitys suun läm ihmiskun kasvillisuus edelt heilahtelu pit palautu hiki palaarisk pitk hiilidioksidipitoin luontais todennäköin liity tapahtu troposfäär tehok pitoisuus maaper maatalous jakso palo voidatav\n",
      "tär seuraus toivotu kuulij eitoivotu emisio alkukoh pääst päästölähd ihminentoimin ulkoilmakonsert valo käsit energ vahingoitu aiheutu päästö vesi voida säteily konsert ympäristö melu aiheut epäsuor pilaantu haju jät maaper ilm tarkoit aine omaisuus useam sisält joht ympäristölainsäädäntö terveyshait\n",
      "sopeut näkökulm kestäv varmist tarkoit saastutus ylity luonnonvar luonto ihmin monimuotoisuus kehitys liikakäytö ekologin ekosysteem kestävyys kestokyky toimin\n"
     ]
    }
   ],
   "source": [
    "# Preprocess the document\n",
    "corpus = []\n",
    "\n",
    "for title, words in all_words.items():\n",
    "    processed_doc = preProcess(words, finnish_stopwords)\n",
    "    print(f\"Processed Document: {processed_doc}\")\n",
    "    corpus.append(processed_doc)\n",
    "\n",
    "# Print the processed document\n",
    "print(\"\\nCorpus:\")\n",
    "for doc in corpus:\n",
    "    print(doc)"
   ]
  },
  {
   "cell_type": "code",
   "execution_count": 17,
   "metadata": {},
   "outputs": [],
   "source": [
    "# TF-IDF Vectorization of each document\n",
    "tf = TfidfVectorizer(use_idf=True, min_df=1)\n",
    "tfidf_matrix = tf.fit_transform(corpus)"
   ]
  },
  {
   "cell_type": "code",
   "execution_count": 18,
   "metadata": {},
   "outputs": [],
   "source": [
    "# Compute cosine similarity of each pair of these documents\n",
    "cosine_sim = cosine_similarity(tfidf_matrix)"
   ]
  },
  {
   "cell_type": "code",
   "execution_count": 19,
   "metadata": {},
   "outputs": [
    {
     "name": "stdout",
     "output_type": "stream",
     "text": [
      "          Doc1      Doc2      Doc3      Doc4\n",
      "Doc1  1.000000  0.076511  0.019197  0.013820\n",
      "Doc2  0.076511  1.000000  0.084959  0.038291\n",
      "Doc3  0.019197  0.084959  1.000000  0.018550\n",
      "Doc4  0.013820  0.038291  0.018550  1.000000\n"
     ]
    }
   ],
   "source": [
    "# Provide the result in a table\n",
    "cosine_sim_df = pd.DataFrame(\n",
    "    cosine_sim,\n",
    "    index=[f\"Doc{i+1}\" for i in range(len(cosine_sim))],\n",
    "    columns=[f\"Doc{i+1}\" for i in range(len(cosine_sim))],\n",
    ")\n",
    "\n",
    "print(cosine_sim_df)\n",
    "\n",
    "# Comment on the findings"
   ]
  },
  {
   "cell_type": "markdown",
   "metadata": {},
   "source": [
    "### Task 3\n",
    "\n",
    "Repeat 2) when the documents are restricted only to clickable entities of each document\n"
   ]
  },
  {
   "cell_type": "code",
   "execution_count": 20,
   "metadata": {},
   "outputs": [],
   "source": [
    "# Preprocessing function to remove stopwords, stemming\n",
    "def preProcess_entites(words, stopwords):\n",
    "    clean_stopwords = [word.casefold() for word in stopwords]\n",
    "    stemmer = SnowballStemmer(\"finnish\")\n",
    "\n",
    "    words = [stemmer.stem(word) for word in words]\n",
    "\n",
    "    words = [word for word in words if word.isalpha() and word not in clean_stopwords]\n",
    "\n",
    "    words = list(set(words))\n",
    "\n",
    "    return \" \".join(words)"
   ]
  },
  {
   "cell_type": "code",
   "execution_count": 21,
   "metadata": {},
   "outputs": [
    {
     "name": "stdout",
     "output_type": "stream",
     "text": [
      "\n",
      "Corpus_entity:\n",
      "mal asem laji tarv an jousto strateg työ piiri ennakoint ide työntekij johtaj vaara tuote toimial käsit pohj joustavuus suomi työttömyysvakuutus mahdollisuus atkinso projekt muutos yritys voima yd vuokratyövoim ominaisuus havainto määrä ilmiö ns varj\n",
      "ppm laji öljy maakaasu kasvihuoneilmiö merenpohj maailmanhistor merk teollisuusm tutk merivir alask meta sadan valo takaisinkytken suomi tekij puu rata pala merkitys aktiivisuus neliökilometr todistusaineisto mannerlaat tulevaisuus co siitepöly toimi kasvihuonekaasu pilvisyys eteenp tekniik poltoa no kivihiilikau kehitysm lap suhd aur siper käsit histor energ pohj tapahtum päästö lämpötil aurinkokun ihmin ympäristö osa proses elinkaar arvo syy jääkairausnäyt määrä raport kivihiil ilm epälineaarin aksel aerosol sää tutkimus järv meriv hiilidioksid yleiskiel celsiusast maa artikkel vuosis milj tila säteilypakot vuori kaasu keskilämpötil c mets ikirou liike päivä voimakkuus säteily muutos kalkkikiv suure dynamiik ilmastomal väli aisa tarkoitus tutkij nitraat ilmakeh meri muoto lämpökapasiteet pudo ilmastonmuutos vuorovaikutus tieto pohjoin v suun kosteiko hiili kiertor reaktio biodiversiteet hiki vesi troposfäär nykyaik havainto maaper maatalous suo ilmasto pelto jakso palo jäätikö toimin tulivuorenpurkaus\n",
      "valo käsit energ maaper päästö vesi ilm aine säteily konsert ympäristö melu emisio terveyshait\n",
      "näkökulm luonto ihmin monimuotoisuus ekosysteem kestävyys toimin\n"
     ]
    }
   ],
   "source": [
    "# Preprocess the document\n",
    "corpus_entity = []\n",
    "for document, found_entities in entities_found.items():\n",
    "    processed_doc = preProcess_entites(found_entities, finnish_stopwords)\n",
    "    corpus_entity.append(processed_doc)\n",
    "\n",
    "# Print the processed document\n",
    "print(\"\\nCorpus_entity:\")\n",
    "for doc in corpus_entity:\n",
    "    print(doc)"
   ]
  },
  {
   "cell_type": "code",
   "execution_count": 22,
   "metadata": {},
   "outputs": [],
   "source": [
    "# TF-IDF Vectorization of each document\n",
    "tf = TfidfVectorizer(use_idf=True, min_df=1)\n",
    "tfidf_matrix_entity = tf.fit_transform(corpus_entity)"
   ]
  },
  {
   "cell_type": "code",
   "execution_count": 23,
   "metadata": {},
   "outputs": [],
   "source": [
    "# Compute cosine similarity of each pair of these documents\n",
    "cosine_sim_entity = cosine_similarity(tfidf_matrix_entity)"
   ]
  },
  {
   "cell_type": "code",
   "execution_count": 24,
   "metadata": {},
   "outputs": [
    {
     "name": "stdout",
     "output_type": "stream",
     "text": [
      "          Doc1      Doc2      Doc3      Doc4\n",
      "Doc1  1.000000  0.066520  0.022306  0.000000\n",
      "Doc2  0.066520  1.000000  0.152217  0.045353\n",
      "Doc3  0.022306  0.152217  1.000000  0.000000\n",
      "Doc4  0.000000  0.045353  0.000000  1.000000\n"
     ]
    }
   ],
   "source": [
    "# Provide the result in a table\n",
    "cosine_sim_df_entity = pd.DataFrame(\n",
    "    cosine_sim_entity,\n",
    "    index=[f\"Doc{i+1}\" for i in range(len(cosine_sim_entity))],\n",
    "    columns=[f\"Doc{i+1}\" for i in range(len(cosine_sim_entity))],\n",
    ")\n",
    "\n",
    "print(cosine_sim_df_entity)\n",
    "\n",
    "# Comment on the findings"
   ]
  },
  {
   "cell_type": "markdown",
   "metadata": {},
   "source": [
    "### Task 4\n",
    "\n",
    "Write a script that explores the clickable entities in each of the four concepts (exploring only once), and generates new extended vocabulary for each concepts, and compute the new similarity between each pair of concepts using extent of overlapping of overall vocabulary and reduced vocabulary (when restricting the vocabulary to clickable entities). We shall refer to the case where the clickable entities are further explored as extended vocabulary case.\n"
   ]
  },
  {
   "cell_type": "code",
   "execution_count": 25,
   "metadata": {},
   "outputs": [],
   "source": [
    "# Function to further explore clickable entities and generate extended vocabulary\n",
    "# Function to load the extracted Wikipedia dataset\n",
    "def load_wikipedia_dataset_extended(directory):\n",
    "    data_entity_voc = {}\n",
    "    nodup = {}\n",
    "    categories = [\"ilmastonmuutos\", \"päästö\", \"joustavuus\", \"ekologinen kestävyys\"]\n",
    "    data_entity_voc = {category: [] for category in categories}\n",
    "    for topic, found_entities in entities_found.items():\n",
    "        nodup[topic] = list(set(found_entities))\n",
    "\n",
    "    # Iterate over all dataset parts\n",
    "    files = [\n",
    "        f\n",
    "        for f in os.listdir(directory)\n",
    "        if f.startswith(\"wiki_part\") and f.endswith(\".VRT\")\n",
    "    ]\n",
    "\n",
    "    for filename in tqdm(files, desc=\"Processing files\"):\n",
    "        if filename.startswith(\"wiki_part\") and filename.endswith(\".VRT\"):\n",
    "            file_path = os.path.join(directory, filename)\n",
    "            # print(f\"Processing file: {file_path}\")\n",
    "\n",
    "            with open(file_path, \"r\", encoding=\"utf-8\") as file:\n",
    "                content = file.read()\n",
    "\n",
    "                # Use regex to find all documents within the <doc>...</doc> tags\n",
    "                docs = re.findall(\n",
    "                    r'<doc id=\"(.*?)\" url=\"(.*?)\" title=\"(.*?)\">(.*?)</doc>',\n",
    "                    content,\n",
    "                    re.DOTALL,\n",
    "                )\n",
    "\n",
    "                # Process each document found\n",
    "                for doc_id, url, title, doc_content in docs:\n",
    "                    # Loop through the relevant categories in 'nodup' to reduce repetitive code\n",
    "                    for category in categories:\n",
    "                        # Check if the title matches the category terms in 'nodup'\n",
    "                        if title.casefold() in nodup[category]:\n",
    "                            # Create a dictionary with the document data\n",
    "                            document_data = {\n",
    "                                \"title\": title,\n",
    "                                \"id\": doc_id,\n",
    "                                \"url\": url,\n",
    "                                \"content\": doc_content,\n",
    "                            }\n",
    "\n",
    "                            # Append the document data to the corresponding category in 'data_entity_voc'\n",
    "                            data_entity_voc[category].append(document_data)\n",
    "\n",
    "    return data_entity_voc"
   ]
  },
  {
   "cell_type": "code",
   "execution_count": 26,
   "metadata": {},
   "outputs": [
    {
     "name": "stderr",
     "output_type": "stream",
     "text": [
      "Processing files: 100%|██████████| 66/66 [00:50<00:00,  1.30it/s]\n"
     ]
    }
   ],
   "source": [
    "#\n",
    "dataset_directory = \"data/wikipedia-fi-2017-src\"  # Path to the extracted dataset\n",
    "documents_extended = load_wikipedia_dataset_extended(dataset_directory)"
   ]
  },
  {
   "cell_type": "code",
   "execution_count": 27,
   "metadata": {},
   "outputs": [],
   "source": [
    "def list_extended_words(documents_extended):\n",
    "    all_words_extended = {}\n",
    "\n",
    "    for title, documents in documents_extended.items():\n",
    "        for doc in documents:\n",
    "            sentences = re.findall(\n",
    "                r\"<sentence>(.*?)</sentence>\", doc[\"content\"], re.DOTALL\n",
    "            )\n",
    "            document_words = []\n",
    "            if sentences:\n",
    "                for idx, sentence_content in enumerate(sentences):\n",
    "                    # print(f\"Processing sentence {idx + 1}...\")\n",
    "\n",
    "                    # Split each sentence into individual lines\n",
    "                    lines = sentence_content.strip().split(\"\\n\")\n",
    "\n",
    "                    # cleaned_lines = re.sub(r'[^\\w\\s]', '', lines)\n",
    "                    # Extract the word (3nd column) from each line\n",
    "                    words = [line.split(\"\\t\")[2] for line in lines if line.strip()]\n",
    "                    for word in words:\n",
    "                        cleaned_word = re.sub(r\"[^\\w\\s]\", \"\", word)\n",
    "                        if not cleaned_word or cleaned_word in finnish_stopwords:\n",
    "                            continue\n",
    "                        document_words.append(cleaned_word.casefold())\n",
    "\n",
    "            if title in all_words_extended:\n",
    "                all_words_extended[title].extend(document_words)\n",
    "            else:\n",
    "                # If the title doesn't exist, initialize it with the document_words list\n",
    "                all_words_extended[title] = document_words\n",
    "\n",
    "    return all_words_extended"
   ]
  },
  {
   "cell_type": "code",
   "execution_count": 28,
   "metadata": {},
   "outputs": [],
   "source": [
    "words_extended = list_extended_words(documents_extended)\n",
    "\n",
    "words_extended_all = (\n",
    "    {}\n",
    ")  # extended words for all documents \"ilmastonmuutos\", \"päästö\", \"joustavuus\", \"ekologinen kestävyys\"\n",
    "\n",
    "categories = [\"ilmastonmuutos\", \"päästö\", \"joustavuus\", \"ekologinen kestävyys\"]\n",
    "words_extended_all = {category: [] for category in categories}\n",
    "\n",
    "for title, words in all_words.items():\n",
    "    words_extended_all[title] = all_words[title] + words_extended[title]"
   ]
  },
  {
   "cell_type": "code",
   "execution_count": 29,
   "metadata": {},
   "outputs": [],
   "source": [
    "# Preprocessing function to remove stopwords, stemming\n",
    "def preProcess_extended_words(words, stopwords):\n",
    "    clean_stopwords = [word.casefold() for word in stopwords]\n",
    "    stemmer = SnowballStemmer(\"finnish\")\n",
    "\n",
    "    words = [stemmer.stem(word) for word in words]\n",
    "\n",
    "    words = [word for word in words if word.isalpha() and word not in clean_stopwords]\n",
    "\n",
    "    words = list(set(words))\n",
    "\n",
    "    return \" \".join(words)\n",
    "\n",
    "\n",
    "# Compute similiarity for the extended words\n",
    "\n",
    "\n",
    "def compute_similarity(vocab1, vocab2):\n",
    "    # Join vocabularies into a single string for each concept\n",
    "    text1 = \" \".join(vocab1)\n",
    "    text2 = \" \".join(vocab2)\n",
    "\n",
    "    # Use TfidfVectorizer to create a matrix of the text\n",
    "    tf = TfidfVectorizer(use_idf=True, min_df=1)\n",
    "    tfidf_matrix = tf.fit_transform([text1, text2])\n",
    "\n",
    "    # Compute cosine similarit\n",
    "    cosine_sim = cosine_similarity(tfidf_matrix[0:1], tfidf_matrix[1:2])[0][0]\n",
    "\n",
    "    return cosine_sim"
   ]
  },
  {
   "cell_type": "code",
   "execution_count": 30,
   "metadata": {},
   "outputs": [],
   "source": [
    "# Preprocess the extended words + original words and extended words\n",
    "\n",
    "words_extended_preproces = {}\n",
    "words_extended_all_preproces = {}\n",
    "\n",
    "categories = [\"ilmastonmuutos\", \"päästö\", \"joustavuus\", \"ekologinen kestävyys\"]\n",
    "words_extended_preproces = {category: [] for category in categories}\n",
    "words_extended_all_preproces = {category: [] for category in categories}\n",
    "\n",
    "for document, words in words_extended.items():\n",
    "    processed_doc_ext = preProcess_entites(words, finnish_stopwords)\n",
    "    words_extended_preproces[document].append(processed_doc_ext)\n",
    "\n",
    "for document, words in words_extended_all.items():\n",
    "    processed_doc_ext_all = preProcess_entites(words, finnish_stopwords)\n",
    "    words_extended_all_preproces[document].append(processed_doc_ext_all)"
   ]
  },
  {
   "cell_type": "code",
   "execution_count": 31,
   "metadata": {},
   "outputs": [
    {
     "name": "stdout",
     "output_type": "stream",
     "text": [
      "Similarity between the extended vocabulary of 'ilmastonmuutos' and the original vocabulary: 0.999999999999558\n",
      "Similarity between the extended vocabulary of 'päästö' and the original vocabulary: 0.9999999999999338\n",
      "Similarity between the extended vocabulary of 'joustavuus' and the original vocabulary: 1.0000000000001876\n",
      "Similarity between the extended vocabulary of 'ekologinen kestävyys' and the original vocabulary: 0.9957818568242269\n"
     ]
    }
   ],
   "source": [
    "# Compute similarity for the extended words + original words and extended words\n",
    "\n",
    "similarities = {}\n",
    "for title in categories:\n",
    "    similarities[title] = compute_similarity(\n",
    "        words_extended_preproces[title], words_extended_all_preproces[title]\n",
    "    )\n",
    "\n",
    "for title, similarity in similarities.items():\n",
    "    print(\n",
    "        f\"Similarity between the extended vocabulary of '{title}' and the original vocabulary: {similarity}\"\n",
    "    )"
   ]
  },
  {
   "cell_type": "markdown",
   "metadata": {},
   "source": [
    "### Task 5\n",
    "\n",
    "We want to assess the importance of each of the four concepts by the number of clickable entities including in the webpage of the given concept. Write a script that implements this strategy to determine the importance of each concept. Next, we want to use the extended vocabulary by quantifying the importance of individual entity in the original webpage by the number of clickable links it generates. Summarize a table highlighting the order of importance of the four concepts according to each of the original and extended vocabulary.\n"
   ]
  },
  {
   "cell_type": "code",
   "execution_count": 32,
   "metadata": {},
   "outputs": [
    {
     "name": "stdout",
     "output_type": "stream",
     "text": [
      "Document 'joustavuus' contains entities:\n",
      "{'joustavuus': 14, 'yritys': 11, 'asema': 5, 'työntekijä': 5, 'jousto': 3, 'ominaisuus': 2, 'muutos': 2, 'ennakointi': 2, 'mahdollisuus': 2, 'malli': 2, 'työ': 2, 'anna': 1, 'käsite': 1, 'varjo': 1, 'laji': 1, 'tuote': 1, 'toimiala': 1, 'tarve': 1, 'voima': 1, 'strategia': 1, 'ilmiö': 1, 'havainto': 1, 'pohja': 1, 'atkinson': 1, 'ydin': 1, 'johtaja': 1, 'projekti': 1, 'vaara': 1, 'vuokratyövoima': 1, 'työttömyysvakuutus': 1, 'piiri': 1, 'määrä': 1, 'idea': 1, '2015': 1, 'suomi': 1, 'ns': 1}\n",
      "Document 'ilmastonmuutos' contains entities:\n",
      "{'ilmasto': 26, 'ilmakehä': 19, 'muutos': 12, 'miljoona': 10, 'ihminen': 7, 'hiilidioksidi': 7, 'toiminta': 6, 'prosessi': 5, 'päästö': 5, 'polttoaine': 5, 'kasvihuonekaasu': 5, 'maa': 4, 'osa': 4, 'ilmastomalli': 4, 'takaisinkytkentä': 4, 'artikkeli': 3, 'tekijä': 3, 'liike': 3, 'aurinko': 3, 'aktiivisuus': 3, 'määrä': 3, 'jäätikkö': 3, 'muoto': 3, 'metaani': 3, 'suo': 3, 'sadanta': 2, 'lämpötila': 2, 'meri': 2, 'rata': 2, 'mannerlaatta': 2, 'sää': 2, 'valo': 2, 'keskilämpötila': 2, 'tila': 2, 'merivirta': 2, 'tulivuorenpurkaus': 2, 'vuosisata': 2, 'kasvihuoneilmiö': 2, 'kalkkikivi': 2, 'siperia': 2, 'laji': 2, 'toimi': 2, 'kivihiili': 2, 'hiili': 2, 'kosteikko': 2, 'vuorovaikutus': 2, 'yleiskieli': 1, 'käsite': 1, 'ilmastonmuutos': 1, 'tapahtuma': 1, 'reaktio': 1, 'kiertorata': 1, 'akseli': 1, 'no': 1, 'co': 1, 'epälineaarinen': 1, 'havainto': 1, 'päivä': 1, 'suure': 1, 'ympäristö': 1, 'lämpökapasiteetti': 1, 'energia': 1, 'merkitys': 1, 'vuori': 1, 'säteilypakote': 1, 'suhde': 1, 'aurinkokunta': 1, 'dynamiikka': 1, 'jakso': 1, 'väli': 1, 'neliökilometri': 1, 'tutka': 1, 'suunta': 1, 'palaa': 1, 'historia': 1, 'biodiversiteetti': 1, 'nykyaika': 1, 'maailmanhistoria': 1, 'tutkija': 1, 'celsiusaste': 1, '0': 1, 'c': 1, 'voimakkuus': 1, 'aisa': 1, 'teollisuusmaa': 1, 'pudota': 1, 'kehitysmaa': 1, 'tekniikka': 1, 'troposfääri': 1, 'aerosoli': 1, 'pilvisyys': 1, 'kaasu': 1, 'elinkaari': 1, 'syy': 1, 'metsä': 1, 'pelto': 1, 'maatalous': 1, 'nitraatti': 1, '000': 1, 'ppm': 1, 'kivihiilikausi': 1, 'öljy': 1, 'maakaasu': 1, 'eteenpäin': 1, 'arvo': 1, 'v': 1, '2004': 1, 'ilma': 1, 'tutkimus': 1, 'maaperä': 1, 'merkki': 1, 'pohjoinen': 1, 'alaska': 1, 'suomi': 1, 'lappi': 1, 'tulevaisuus': 1, 'säteily': 1, 'merivesi': 1, 'ikirouta': 1, 'vesi': 1, 'merenpohja': 1, 'raportti': 1, 'palo': 1, 'hiki': 1, 'pohja': 1, 'todistusaineisto': 1, 'puu': 1, 'jääkairausnäyte': 1, 'tieto': 1, 'järvi': 1, 'siitepöly': 1, 'tarkoitus': 1}\n",
      "Document 'päästö' contains entities:\n",
      "{'päästö': 5, 'emissio': 1, 'aine': 1, 'energia': 1, 'melu': 1, 'säteily': 1, 'valo': 1, 'ilma': 1, 'vesi': 1, 'maaperä': 1, 'konsertti': 1, 'ympäristö': 1, 'käsite': 1, 'terveyshaitta': 1}\n",
      "Document 'ekologinen kestävyys' contains entities:\n",
      "{'kestävyys': 2, 'luonto': 2, 'toiminta': 2, 'näkökulma': 1, 'monimuotoisuus': 1, 'ekosysteemi': 1, 'ihminen': 1}\n"
     ]
    }
   ],
   "source": [
    "# calculate the occurance of each entity in the entities_found\n",
    "entity_occurence = {}\n",
    "for topic, found_entities in entities_found.items():\n",
    "    entity_occurence[topic] = {}\n",
    "    for entity in found_entities:\n",
    "        if entity in entity_occurence[topic]:\n",
    "            entity_occurence[topic][entity] += 1\n",
    "        else:\n",
    "            entity_occurence[topic][entity] = 1\n",
    "\n",
    "# order the entities by occurance\n",
    "sorted_entities = {}\n",
    "for topic, entities in entity_occurence.items():\n",
    "    sorted_entities[topic] = {\n",
    "        k: v\n",
    "        for k, v in sorted(entities.items(), key=lambda item: item[1], reverse=True)\n",
    "    }\n",
    "\n",
    "## print the sorted entities for each topic\n",
    "for topic, entities in sorted_entities.items():\n",
    "    print(f\"Document '{topic}' contains entities:\")\n",
    "    print(entities)"
   ]
  },
  {
   "cell_type": "code",
   "execution_count": 33,
   "metadata": {},
   "outputs": [
    {
     "name": "stdout",
     "output_type": "stream",
     "text": [
      "                Concept  Original Importance  Extended Importance\n",
      "1        ilmastonmuutos                 1016                16231\n",
      "0            joustavuus                  241               122660\n",
      "2                päästö                   91                47921\n",
      "3  ekologinen kestävyys                   64                13249\n"
     ]
    }
   ],
   "source": [
    "## words_extended_all contains the extended vocabulary for each document\n",
    "## entities_found contains the entities found in each document\n",
    "\n",
    "\n",
    "def count_clickable_links(entities):\n",
    "    return {entity: len(entity) for entity in entities}\n",
    "\n",
    "\n",
    "# Count clickable links for original and extended vocabulary\n",
    "original_counts = {\n",
    "    concept: count_clickable_links(entities)\n",
    "    for concept, entities in entities_found.items()\n",
    "}\n",
    "extended_counts = {\n",
    "    concept: count_clickable_links(entities)\n",
    "    for concept, entities in words_extended_all.items()\n",
    "}\n",
    "\n",
    "# Summarize importance\n",
    "original_importance = {\n",
    "    concept: sum(counts.values()) for concept, counts in original_counts.items()\n",
    "}\n",
    "extended_importance = {\n",
    "    concept: sum(counts.values()) for concept, counts in extended_counts.items()\n",
    "}\n",
    "\n",
    "# Create a DataFrame to summarize the importance\n",
    "importance_df = pd.DataFrame(\n",
    "    {\n",
    "        \"Concept\": list(original_importance.keys()),\n",
    "        \"Original Importance\": list(original_importance.values()),\n",
    "        \"Extended Importance\": list(extended_importance.values()),\n",
    "    }\n",
    ")\n",
    "\n",
    "# Sort the DataFrame by importance\n",
    "importance_df = importance_df.sort_values(\n",
    "    by=[\"Original Importance\", \"Extended Importance\"], ascending=False\n",
    ")\n",
    "\n",
    "# Display the table\n",
    "print(importance_df)"
   ]
  },
  {
   "cell_type": "code",
   "execution_count": null,
   "metadata": {},
   "outputs": [],
   "source": []
  },
  {
   "cell_type": "markdown",
   "metadata": {},
   "source": [
    "### Task 6\n",
    "\n",
    "We want to assess the similarity between the concepts is reflected in the their webpage content. Use a script to calculate Wu and Palmer WordNet semantic similarity between each pair of the four concepts and then compare result with the Jaccard similarity obtained by both original vocabulary in 2) and extended vocabulary 4), and comment on the compatibility between the semantic similarity and the above constructed Jaccard similarity measures\n"
   ]
  },
  {
   "cell_type": "code",
   "execution_count": 34,
   "metadata": {},
   "outputs": [
    {
     "name": "stderr",
     "output_type": "stream",
     "text": [
      "C:\\Users\\janne\\AppData\\Local\\Temp\\ipykernel_443000\\2577086909.py:4: WnWarning: lexicon dependencies not available: omw-en:1.4\n",
      "  fi = wn.Wordnet(\"omw-fi\")\n"
     ]
    }
   ],
   "source": [
    "finnwordnet_path = \"data/FinnWordNet/dict\"\n",
    "# wn = WordNetCorpusReader(finnwordnet_path, None)\n",
    "\n",
    "fi = wn.Wordnet(\"omw-fi\")"
   ]
  },
  {
   "cell_type": "code",
   "execution_count": 35,
   "metadata": {},
   "outputs": [
    {
     "name": "stdout",
     "output_type": "stream",
     "text": [
      "\n",
      "Wu and Palmer WordNet Semantic Similarity:\n",
      "          Concept1  Concept2  Concept3  Concept4\n",
      "Concept1       1.0       0.5       0.0       0.5\n",
      "Concept2       0.5       1.0       0.0       0.5\n",
      "Concept3       0.0       0.0       1.0       0.0\n",
      "Concept4       0.5       0.5       0.0       1.0\n",
      "\n",
      "Jaccard Similarity (Original Vocabulary):\n",
      "          Concept1  Concept2  Concept3  Concept4\n",
      "Concept1  1.000000  0.016854  0.018182  0.034247\n",
      "Concept2  0.016854  1.000000  0.006250  0.050847\n",
      "Concept3  0.018182  0.006250  1.000000  0.011682\n",
      "Concept4  0.034247  0.050847  0.011682  1.000000\n",
      "\n",
      "Jaccard Similarity (Extended Vocabulary):\n",
      "          Concept1  Concept2  Concept3  Concept4\n",
      "Concept1  1.000000  0.129126  0.164775  0.126862\n",
      "Concept2  0.129126  1.000000  0.119208  0.311455\n",
      "Concept3  0.164775  0.119208  1.000000  0.113017\n",
      "Concept4  0.126862  0.311455  0.113017  1.000000\n",
      "\n",
      "Comments on Compatibility Between Semantic and Jaccard Similarities:\n",
      "\n",
      "Comparison between Concept1 and Concept2:\n",
      "Wu and Palmer Semantic Similarity: 0.50\n",
      "Jaccard Similarity (Original Vocabulary): 0.02\n",
      "Jaccard Similarity (Extended Vocabulary): 0.13\n",
      "Low semantic similarity indicates less compatibility with Jaccard similarity.\n",
      "\n",
      "Comparison between Concept1 and Concept3:\n",
      "Wu and Palmer Semantic Similarity: 0.00\n",
      "Jaccard Similarity (Original Vocabulary): 0.02\n",
      "Jaccard Similarity (Extended Vocabulary): 0.16\n",
      "Low semantic similarity indicates less compatibility with Jaccard similarity.\n",
      "\n",
      "Comparison between Concept1 and Concept4:\n",
      "Wu and Palmer Semantic Similarity: 0.50\n",
      "Jaccard Similarity (Original Vocabulary): 0.03\n",
      "Jaccard Similarity (Extended Vocabulary): 0.13\n",
      "Low semantic similarity indicates less compatibility with Jaccard similarity.\n",
      "\n",
      "Comparison between Concept2 and Concept3:\n",
      "Wu and Palmer Semantic Similarity: 0.00\n",
      "Jaccard Similarity (Original Vocabulary): 0.01\n",
      "Jaccard Similarity (Extended Vocabulary): 0.12\n",
      "Low semantic similarity indicates less compatibility with Jaccard similarity.\n",
      "\n",
      "Comparison between Concept2 and Concept4:\n",
      "Wu and Palmer Semantic Similarity: 0.50\n",
      "Jaccard Similarity (Original Vocabulary): 0.05\n",
      "Jaccard Similarity (Extended Vocabulary): 0.31\n",
      "Low semantic similarity indicates less compatibility with Jaccard similarity.\n",
      "\n",
      "Comparison between Concept3 and Concept4:\n",
      "Wu and Palmer Semantic Similarity: 0.00\n",
      "Jaccard Similarity (Original Vocabulary): 0.01\n",
      "Jaccard Similarity (Extended Vocabulary): 0.11\n",
      "Low semantic similarity indicates less compatibility with Jaccard similarity.\n"
     ]
    }
   ],
   "source": [
    "# Wu and Palmer WordNet Semantic Similarity Calculation\n",
    "terms_list = list(terms)\n",
    "wu_palmer_similarity = []\n",
    "for i in range(len(terms_list)):\n",
    "    row = []\n",
    "    for j in range(len(terms_list)):\n",
    "        if i == j:\n",
    "            row.append(1.0)\n",
    "        else:\n",
    "            synsets_1 = fi.synsets(terms_list[i])\n",
    "            synsets_2 = fi.synsets(terms_list[j])\n",
    "            max_similarity = 0\n",
    "            for syn1 in synsets_1:\n",
    "                for syn2 in synsets_2:\n",
    "                    similarity = wup(syn1, syn2, simulate_root=True)\n",
    "                    if similarity and similarity > max_similarity:\n",
    "                        max_similarity = similarity\n",
    "            row.append(max_similarity if max_similarity else 0)\n",
    "    wu_palmer_similarity.append(row)\n",
    "\n",
    "# Provide the result in a table\n",
    "wu_palmer_sim_df = pd.DataFrame(\n",
    "    wu_palmer_similarity,\n",
    "    index=[f\"Concept{i+1}\" for i in range(len(terms_list))],\n",
    "    columns=[f\"Concept{i+1}\" for i in range(len(terms_list))],\n",
    ")\n",
    "\n",
    "print(\"\\nWu and Palmer WordNet Semantic Similarity:\")\n",
    "print(wu_palmer_sim_df)\n",
    "\n",
    "\n",
    "# Jaccard Similarity Calculation for Original and Extended Vocabulary\n",
    "def jaccard_similarity(set1, set2):\n",
    "    intersection = len(set(set1).intersection(set(set2)))\n",
    "    union = len(set(set1).union(set(set2)))\n",
    "    return intersection / union if union != 0 else 0\n",
    "\n",
    "\n",
    "# Calculate Jaccard Similarity for Original and Extended Vocabularies\n",
    "jaccard_original = []\n",
    "jaccard_extended = []\n",
    "for i in range(len(terms_list)):\n",
    "    row_original = []\n",
    "    row_extended = []\n",
    "    for j in range(len(terms_list)):\n",
    "        if i == j:\n",
    "            row_original.append(1.0)\n",
    "            row_extended.append(1.0)\n",
    "        else:\n",
    "            row_original.append(\n",
    "                jaccard_similarity(all_words[terms_list[i]], all_words[terms_list[j]])\n",
    "            )\n",
    "            row_extended.append(\n",
    "                jaccard_similarity(\n",
    "                    words_extended_all[terms_list[i]], words_extended_all[terms_list[j]]\n",
    "                )\n",
    "            )\n",
    "    jaccard_original.append(row_original)\n",
    "    jaccard_extended.append(row_extended)\n",
    "\n",
    "# Provide the results in tables\n",
    "jaccard_original_df = pd.DataFrame(\n",
    "    jaccard_original,\n",
    "    index=[f\"Concept{i+1}\" for i in range(len(terms_list))],\n",
    "    columns=[f\"Concept{i+1}\" for i in range(len(terms_list))],\n",
    ")\n",
    "\n",
    "jaccard_extended_df = pd.DataFrame(\n",
    "    jaccard_extended,\n",
    "    index=[f\"Concept{i+1}\" for i in range(len(terms_list))],\n",
    "    columns=[f\"Concept{i+1}\" for i in range(len(terms_list))],\n",
    ")\n",
    "\n",
    "print(\"\\nJaccard Similarity (Original Vocabulary):\")\n",
    "print(jaccard_original_df)\n",
    "print(\"\\nJaccard Similarity (Extended Vocabulary):\")\n",
    "print(jaccard_extended_df)\n",
    "\n",
    "# Comment on Compatibility Between Similarity Measures\n",
    "print(\"\\nComments on Compatibility Between Semantic and Jaccard Similarities:\")\n",
    "for i in range(len(terms_list)):\n",
    "    for j in range(i + 1, len(terms_list)):\n",
    "        print(f\"\\nComparison between Concept{i+1} and Concept{j+1}:\")\n",
    "        print(f\"Wu and Palmer Semantic Similarity: {wu_palmer_sim_df.iloc[i, j]:.2f}\")\n",
    "        print(\n",
    "            f\"Jaccard Similarity (Original Vocabulary): {jaccard_original_df.iloc[i, j]:.2f}\"\n",
    "        )\n",
    "        print(\n",
    "            f\"Jaccard Similarity (Extended Vocabulary): {jaccard_extended_df.iloc[i, j]:.2f}\"\n",
    "        )\n",
    "        if wu_palmer_sim_df.iloc[i, j] > 0.5:\n",
    "            print(\n",
    "                \"High semantic similarity is generally compatible with high Jaccard similarity.\"\n",
    "            )\n",
    "        else:\n",
    "            print(\n",
    "                \"Low semantic similarity indicates less compatibility with Jaccard similarity.\"\n",
    "            )"
   ]
  },
  {
   "cell_type": "code",
   "execution_count": null,
   "metadata": {},
   "outputs": [],
   "source": []
  },
  {
   "cell_type": "markdown",
   "metadata": {},
   "source": [
    "### Task 7\n",
    "\n",
    "Now we want to evaluate the emotion of the text in each dataframe. For this purpose, use WordnetAffect (https://github.com/clemtoy/WNAffect), which generates an emotion state and the part of speech tag of each word matched in the lexicon, and then compile the overall output for each concept. Repeat this process for both restricted and extended vocabulary cases, and comment on the compatibility between the emotion gained from the corresponding Wikipedia page and the intuitive emotion from individual concept.\n"
   ]
  },
  {
   "cell_type": "code",
   "execution_count": 36,
   "metadata": {},
   "outputs": [],
   "source": [
    "#Emotional Damage          Analysis Using WordNetAffect\n",
    "wna = WNAffect(wordnet16_path, wordnet_affect_path)\n",
    "translator = GoogleTranslator(source='fi', target='en')"
   ]
  },
  {
   "cell_type": "code",
   "execution_count": 37,
   "metadata": {},
   "outputs": [
    {
     "name": "stdout",
     "output_type": "stream",
     "text": [
      "['cat']\n"
     ]
    }
   ],
   "source": [
    "def translate_word(word):\n",
    "    \"\"\"Translate a single word.\"\"\"\n",
    "    return translator.translate(word)\n",
    "\n",
    "def translate_batch(words):\n",
    "    \"\"\"Translate a batch of words.\"\"\"\n",
    "    return translator.translate_batch(words)\n",
    "\n",
    "def load_or_translate(all_words, filename=\"translated_all_words.pkl\"):\n",
    "    \"\"\"Load translated words from disk if available, otherwise translate and save to disk.\"\"\"\n",
    "    if os.path.exists(filename):\n",
    "        with open(filename, \"rb\") as f:\n",
    "            translated_all_words = pickle.load(f)\n",
    "        print(\"Loaded translated words from disk.\")\n",
    "    else:\n",
    "        translated_all_words = {}\n",
    "        for term, vocab in all_words.items():\n",
    "            translated_all_words[term] = translate_batch_marian(vocab)\n",
    "            print(f\"Translated words for '{term}'\")\n",
    "\n",
    "        # translated_all_words = {}\n",
    "        # total_words = sum(len(vocab) for vocab in all_words.values())\n",
    "\n",
    "        # with tqdm(total=total_words, desc=\"Translating words\") as pbar:\n",
    "        #     with concurrent.futures.ThreadPoolExecutor() as executor:\n",
    "        #         future_to_word = {executor.submit(translate_word, word): (term, word) for term, vocab in all_words.items() for word in vocab}\n",
    "        #         for future in concurrent.futures.as_completed(future_to_word):\n",
    "        #             term, word = future_to_word[future]\n",
    "        #             translated_word = future.result()\n",
    "        #             if term not in translated_all_words:\n",
    "        #                 translated_all_words[term] = []\n",
    "        #             translated_all_words[term].append(translated_word)\n",
    "        #             pbar.update(1)\n",
    "\n",
    "        with open(filename, \"wb\") as f:\n",
    "            pickle.dump(translated_all_words, f)\n",
    "        print(\"Translated words saved to disk.\")\n",
    "    return translated_all_words\n",
    "\n",
    "# use MarianMTModel for translation\n",
    "def translate_batch_marian(words, model_name=\"Helsinki-NLP/opus-mt-fi-en\"):\n",
    "    print(f\"CUDA: {torch.cuda.is_available()}\")\n",
    "    device = torch.device(\"cuda\" if torch.cuda.is_available() else \"cpu\")\n",
    "    print(f\"Device: {device}\")\n",
    "    torch.cuda.empty_cache()\n",
    "    model = MarianMTModel.from_pretrained(model_name).to(device)\n",
    "    tokenizer = MarianTokenizer.from_pretrained(model_name)\n",
    "    # Generate translation\n",
    "    inputs = tokenizer(words, return_tensors=\"pt\", padding=True).to(device)\n",
    "    # Generate translation\n",
    "    translated = model.generate(**inputs)\n",
    "\n",
    "    # Decode the translated text\n",
    "    translated_text = [tokenizer.decode(t, skip_special_tokens=True) for t in translated]\n",
    "    return translated_text\n",
    "\n",
    "\n",
    "# # Load the model and tokenizer\n",
    "# device = torch.device(\"cuda:0\" if torch.cuda.is_available() else \"cpu\")\n",
    "# model_name = 'Helsinki-NLP/opus-mt-fi-en'\n",
    "# tokenizer = MarianTokenizer.from_pretrained(model_name)\n",
    "# model = MarianMTModel.from_pretrained(model_name).to(device)\n",
    "\n",
    "# # Translate from Finnish to English\n",
    "# src_text = [\"kissa\"]  # Example text in Finnish\n",
    "\n",
    "# # Generate translation\n",
    "# inputs = tokenizer(src_text, return_tensors=\"pt\", padding=True).to(device)\n",
    "\n",
    "# # Generate translation\n",
    "# translated = model.generate(**inputs)\n",
    "\n",
    "# # Decode the translated text\n",
    "# translated_text = [tokenizer.decode(t, skip_special_tokens=True) for t in translated]\n",
    "# print(translated_text)\n"
   ]
  },
  {
   "cell_type": "code",
   "execution_count": null,
   "metadata": {},
   "outputs": [
    {
     "name": "stdout",
     "output_type": "stream",
     "text": [
      "CUDA: True\n",
      "Device: cuda:0\n",
      "Loaded translated words from disk.\n"
     ]
    },
    {
     "name": "stderr",
     "output_type": "stream",
     "text": [
      "Translating batches:   1%|          | 384/52080 [00:13<07:09, 120.24it/s]"
     ]
    }
   ],
   "source": [
    "print(f\"CUDA: {torch.cuda.is_available()}\")\n",
    "device = torch.device(\"cuda:0\" if torch.cuda.is_available() else \"cpu\")\n",
    "print(f\"Device: {device}\")\n",
    "\n",
    "def chunks(lst, n):\n",
    "    \"\"\"Yield successive n-sized chunks from lst.\"\"\"\n",
    "    for i in range(0, len(lst), n):\n",
    "        yield lst[i:i + n]\n",
    "\n",
    "def translate_batch_marian(words, model_name=\"Helsinki-NLP/opus-mt-fi-en\", batch_size=8):\n",
    "    torch.cuda.empty_cache()\n",
    "    device = torch.device(\"cuda\" if torch.cuda.is_available() else \"cpu\")\n",
    "    model = MarianMTModel.from_pretrained(model_name).to(device)\n",
    "    tokenizer = MarianTokenizer.from_pretrained(model_name)\n",
    "\n",
    "    translations = []\n",
    "    total_words = len(words)\n",
    "    with tqdm(total=total_words, desc=\"Translating batches\") as pbar:\n",
    "        for src_text_list in chunks(words, batch_size):\n",
    "            batch = tokenizer(src_text_list, return_tensors=\"pt\", padding=True, truncation=True).to(device)\n",
    "            gen = model.generate(**batch)\n",
    "            translated_text = tokenizer.batch_decode(gen, skip_special_tokens=True)\n",
    "            translations.extend(translated_text)\n",
    "            pbar.update(len(src_text_list))\n",
    "            #print(f\"Translated {translations} words\")\n",
    "\n",
    "    return translations\n",
    "\n",
    "def load_or_translate(all_words, filename=\"translated_all_words.pkl\", batch_size=128):\n",
    "    \"\"\"Load translated words from disk if available, otherwise translate and save to disk.\"\"\"\n",
    "    if os.path.exists(filename):\n",
    "        with open(filename, \"rb\") as f:\n",
    "            translated_all_words = pickle.load(f)\n",
    "        print(\"Loaded translated words from disk.\")\n",
    "    else:\n",
    "        translated_all_words = {}\n",
    "        for term, vocab in all_words.items():\n",
    "            translated_vocab = translate_batch_marian(vocab, batch_size=batch_size)\n",
    "            translated_all_words[term] = translated_vocab\n",
    "\n",
    "        with open(filename, \"wb\") as f:\n",
    "            pickle.dump(translated_all_words, f)\n",
    "        print(\"Translated words saved to disk.\")\n",
    "    return translated_all_words\n",
    "\n",
    "# Usage\n",
    "translated_all_words = load_or_translate(all_words, \"translated_all_words.pkl\")\n",
    "translated_extended_words = load_or_translate(words_extended_all, \"translated_extended_words.pkl\")\n",
    "\n",
    "print(translated_all_words)\n",
    "print(translated_extended_words)\n",
    "print(len(translated_extended_words))"
   ]
  },
  {
   "cell_type": "code",
   "execution_count": 38,
   "metadata": {},
   "outputs": [
    {
     "name": "stdout",
     "output_type": "stream",
     "text": [
      "Loaded translated words from disk.\n",
      "Loaded translated words from disk.\n"
     ]
    }
   ],
   "source": [
    "# Usage\n",
    "translated_all_words = load_or_translate(all_words, \"translated_all_words.pkl\")\n",
    "translated_extended_words = load_or_translate(words_extended_all, \"translated_extended_words.pkl\")"
   ]
  },
  {
   "cell_type": "code",
   "execution_count": 39,
   "metadata": {},
   "outputs": [],
   "source": [
    "# Translate the terms in \"words_extended_all\" to English\n",
    "\n",
    "#for term, vocab in words_extended_all.items():\n",
    "    #emotion_results_extended[term] = analyze_emotions_v2(\" \".join(vocab))"
   ]
  },
  {
   "cell_type": "code",
   "execution_count": 40,
   "metadata": {},
   "outputs": [],
   "source": [
    "# Function to analyze emotions of text using WordNetAffect\n",
    "def analyze_emotions(text):\n",
    "    words = text.split()\n",
    "    emotion_count = defaultdict(int)\n",
    "    for word in tqdm(words, desc=\"Processing words\"):\n",
    "        pos_tag = nltk.pos_tag([word])[0][1]\n",
    "        synsets = wn.synsets(word, pos=pos_tag)\n",
    "        for syn in synsets:\n",
    "            emotion = wna.get_emotion(syn, pos_tag)\n",
    "            if emotion:\n",
    "                emotion_count[emotion] += 1\n",
    "    return emotion_count\n",
    "\n",
    "\n",
    "#######\n",
    "#######\n",
    "# def process_word(word):\n",
    "#     \"\"\"Process a single word to get its emotion.\"\"\"\n",
    "#     pos_tagged = nltk.pos_tag([word])\n",
    "#     pos = nltk.pos_tag([word])[0][1]\n",
    "#     synsets = wn.synsets(word, pos=pos)\n",
    "#     emotion_count = defaultdict(int)\n",
    "#     for syn in synsets:\n",
    "#         emotion = wna.get_emotion(syn, pos_tagged[0][1])\n",
    "#         if emotion:\n",
    "#             emotion_count[emotion] += 1\n",
    "#     return emotion_count\n",
    "\n",
    "# def analyze_emotions_v2(text):\n",
    "#     words = text.split()\n",
    "#     emotion_count = defaultdict(int)\n",
    "#     manager = Manager()\n",
    "#     counter = manager.Value('i', 0)\n",
    "#     total = len(words)\n",
    "#     with Pool() as pool:\n",
    "#         results = list(tqdm(pool.imap(process_word, [(word, counter, total) for word in words]), total=total, desc=\"Processing words\"))\n",
    "#     for result in results:\n",
    "#         for emotion, count in result.items():\n",
    "#             emotion_count[emotion] += count\n",
    "#     return emotion_count\n",
    "#######\n",
    "#######\n",
    "\n"
   ]
  },
  {
   "cell_type": "code",
   "execution_count": null,
   "metadata": {},
   "outputs": [
    {
     "name": "stderr",
     "output_type": "stream",
     "text": [
      "Processing words:   0%|          | 0/260 [00:00<?, ?it/s]"
     ]
    }
   ],
   "source": [
    "#######\n",
    "#######\n",
    "####### USE MULTI-THREADING TO SPEED UP THE PROCESS\n",
    "\n",
    "# # Analyze emotions for original and extended vocabulary\n",
    "# emotion_results_original = {}\n",
    "# emotion_results_extended = {}\n",
    "# for term, vocab in translated_all_words.items():\n",
    "#     emotion_results_original[term] = analyze_emotions_v2(\" \".join(vocab))\n",
    "# for term, vocab in translated_extended_words.items():\n",
    "#     emotion_results_extended[term] = analyze_emotions_v2(\" \".join(vocab))\n",
    "\n",
    "# # Print emotion analysis results\n",
    "# print(\"\\nEmotion Analysis (Original Vocabulary):\")\n",
    "# for term, emotions in emotion_results_original.items():\n",
    "#     print(f\"{term}: {dict(emotions)}\")\n",
    "\n",
    "# print(\"\\nEmotion Analysis (Extended Vocabulary):\")\n",
    "# for term, emotions in emotion_results_extended.items():\n",
    "#     print(f\"{term}: {dict(emotions)}\")\n",
    "\n",
    "# # Comment on Compatibility Between Emotion Analysis and Intuitive Emotion\n",
    "# print(\"\\nComments on Compatibility Between Emotion Analysis and Intuitive Emotion:\")\n",
    "# for term in terms_list:\n",
    "#     print(f\"\\nConcept: {term}\")\n",
    "#     print(f\"Emotion Analysis (Original Vocabulary): {emotion_results_original[term]}\")\n",
    "#     print(f\"Emotion Analysis (Extended Vocabulary): {emotion_results_extended[term]}\")\n",
    "#     # Add your own intuitive analysis based on the concept meaning\n",
    "#     print(\n",
    "#         \"The intuitive emotion for this concept aligns/does not align well with the emotion extracted from the Wikipedia page.\"\n",
    "#     )"
   ]
  },
  {
   "cell_type": "code",
   "execution_count": null,
   "metadata": {},
   "outputs": [],
   "source": [
    "# Analyze emotions for original and extended vocabulary\n",
    "emotion_results_original = {}\n",
    "emotion_results_extended = {}\n",
    "for term, vocab in translated_all_words.items():\n",
    "    emotion_results_original[term] = analyze_emotions(\" \".join(vocab))\n",
    "for term, vocab in translated_extended_words.items():\n",
    "    emotion_results_extended[term] = analyze_emotions(\" \".join(vocab))\n",
    "\n",
    "# Print emotion analysis results\n",
    "print(\"\\nEmotion Analysis (Original Vocabulary):\")\n",
    "for term, emotions in emotion_results_original.items():\n",
    "    print(f\"{term}: {dict(emotions)}\")\n",
    "\n",
    "print(\"\\nEmotion Analysis (Extended Vocabulary):\")\n",
    "for term, emotions in emotion_results_extended.items():\n",
    "    print(f\"{term}: {dict(emotions)}\")\n",
    "\n",
    "# Comment on Compatibility Between Emotion Analysis and Intuitive Emotion\n",
    "print(\"\\nComments on Compatibility Between Emotion Analysis and Intuitive Emotion:\")\n",
    "for term in terms_list:\n",
    "    print(f\"\\nConcept: {term}\")\n",
    "    print(f\"Emotion Analysis (Original Vocabulary): {emotion_results_original[term]}\")\n",
    "    print(f\"Emotion Analysis (Extended Vocabulary): {emotion_results_extended[term]}\")\n",
    "    # Add your own intuitive analysis based on the concept meaning\n",
    "    print(\n",
    "        \"The intuitive emotion for this concept aligns/does not align well with the emotion extracted from the Wikipedia page.\"\n",
    "    )"
   ]
  },
  {
   "cell_type": "code",
   "execution_count": null,
   "metadata": {},
   "outputs": [],
   "source": []
  },
  {
   "cell_type": "markdown",
   "metadata": {},
   "source": [
    "### Task 8\n",
    "\n",
    "We want to repeat this process for sentiment polarity. For this purpose, use the Vader sentiment https://github.com/cjhutto/vaderSentiment to assess the sentiment of each the Wikipedia page associated to each concept (both with original vocabulary and extended vocabulary, by aggregating the sentiment of individual clickable entity’s page) to compute the sentiment associated with each concept. Comment on the sentiment of each concept in restricted and extended vocabulary and its compatibility with the intuitive sentiment gained from the inherent definition of these concepts.\n"
   ]
  },
  {
   "cell_type": "code",
   "execution_count": null,
   "metadata": {},
   "outputs": [],
   "source": [
    "# Initialize Sentiment Analyzer\n",
    "analyzer = SentimentIntensityAnalyzer()"
   ]
  },
  {
   "cell_type": "code",
   "execution_count": null,
   "metadata": {},
   "outputs": [],
   "source": [
    "# Sentiment Analysis Using Vader Sentiment\n",
    "# Function to analyze sentiment of text using Vader Sentiment Analyzer\n",
    "def analyze_sentiment(text):\n",
    "    translated_text = translator.translate(text, src='fi', dest='en')\n",
    "    sentiment = analyzer.polarity_scores(translated_text)\n",
    "    return sentiment\n",
    "\n",
    "# Analyze sentiment for original and extended vocabulary\n",
    "sentiment_results_original = {}\n",
    "sentiment_results_extended = {}\n",
    "for term, vocab in all_words.items():\n",
    "    sentiment_results_original[term] = analyze_sentiment(\" \".join(vocab))\n",
    "for term, vocab in words_extended_all.items():\n",
    "    sentiment_results_extended[term] = analyze_sentiment(\" \".join(vocab))\n",
    "\n",
    "# Print sentiment analysis results\n",
    "print(\"\\nSentiment Analysis (Original Vocabulary):\")\n",
    "for term, sentiment in sentiment_results_original.items():\n",
    "    print(f\"{term}: {sentiment}\")\n",
    "\n",
    "print(\"\\nSentiment Analysis (Extended Vocabulary):\")\n",
    "for term, sentiment in sentiment_results_extended.items():\n",
    "    print(f\"{term}: {sentiment}\")\n",
    "\n",
    "# Comment on Compatibility Between Sentiment Analysis and Intuitive Sentiment\n",
    "print(\"\\nComments on Compatibility Between Sentiment Analysis and Intuitive Sentiment:\")\n",
    "for term in terms_list:\n",
    "    print(f\"\\nConcept: {term}\")\n",
    "    print(f\"Sentiment Analysis (Original Vocabulary): {sentiment_results_original[term]}\")\n",
    "    print(f\"Sentiment Analysis (Extended Vocabulary): {sentiment_results_extended[term]}\")\n",
    "    # Add your own intuitive analysis based on the concept meaning\n",
    "    print(\"The intuitive sentiment for this concept aligns/does not align well with the sentiment extracted from the Wikipedia page.\")"
   ]
  },
  {
   "cell_type": "markdown",
   "metadata": {},
   "source": [
    "### Task 9\n",
    "\n",
    "We want to investigate the similarity using the embedding representation. For this purpose, write a program that uses word2vec embedding to evaluate\n",
    "\n",
    "i) the consistency of the Wikipedia page by calculating the cosine similarity between the underlined concept and the average word2vec embedding of every words contained in the page\n",
    "\n",
    "ii) the similarity between the various concepts by computing the cosine similarity between the aggregated embedding vector of the corresponding pages. Comment on the compatibility between webpage content and concept and similarity between the various concepts.\n"
   ]
  },
  {
   "cell_type": "markdown",
   "metadata": {},
   "source": [
    "##### i)\n"
   ]
  },
  {
   "cell_type": "code",
   "execution_count": null,
   "metadata": {},
   "outputs": [],
   "source": [
    "# Function to get Word2Vec embedding of a word if it exists in the model\n",
    "def get_word_embedding(word, model):\n",
    "    try:\n",
    "        #print(f\"get_word_embedding: {word}\")\n",
    "        return model[word]\n",
    "    except KeyError:\n",
    "        return None\n",
    "\n",
    "# Function to get average embedding\n",
    "def get_average_embedding(tokens, model):\n",
    "    embeddings = [get_word_embedding(token, model) for token in tokens]\n",
    "    #print(f\"embeddings 1: {embeddings}\")\n",
    "    embeddings = [embedding for embedding in embeddings if embedding is not None]\n",
    "    #print(f\"embeddings 2: {embeddings}\")\n",
    "    if not embeddings:\n",
    "        return None\n",
    "    return np.mean(embeddings, axis=0)\n",
    "\n",
    "# Function to calculate cosine similarity\n",
    "def cosine_similarity_vectors(v1, v2):\n",
    "    v1 = v1.reshape(1, -1)\n",
    "    v2 = v2.reshape(1, -1)\n",
    "    return cosine_similarity(v1, v2)[0][0]"
   ]
  },
  {
   "cell_type": "code",
   "execution_count": null,
   "metadata": {},
   "outputs": [],
   "source": [
    "# word2vec_fi = kagglehub.dataset_download(\"lehtol/word2vec-fi\")\n",
    "def evaluate_page_consistency(page_title, model, stop_words):\n",
    "    # Get the page content\n",
    "    #page_content = load_wikipedia_dataset(dataset_directory, page_title)\n",
    "    #page_content = page_content[\"content\"]\n",
    "\n",
    "    page_content = all_words[page_title]\n",
    "\n",
    "    # Preprocess the page content\n",
    "    page_tokens = preProcess(page_content, stop_words)\n",
    "    page_tokens = word_tokenize(page_tokens)\n",
    "\n",
    "    # Get the embedding of the concept\n",
    "    stemmer = SnowballStemmer(\"finnish\")\n",
    "    word = stemmer.stem(page_title)\n",
    "\n",
    "    concept_embedding = get_word_embedding(word.casefold(), model)\n",
    "    if concept_embedding is None:\n",
    "        print(f\"The concept '{page_title}' is not in the Word2Vec model vocabulary.\")\n",
    "        return\n",
    "\n",
    "    # Get the average embedding of the page content\n",
    "    avg_embedding = get_average_embedding(page_tokens, model)\n",
    "    if avg_embedding is None:\n",
    "        print(\n",
    "            f\"No words in the Wikipedia page '{page_title}' have embeddings in the Word2Vec model.\"\n",
    "        )\n",
    "        return\n",
    "\n",
    "    # Calculate cosine similarity\n",
    "    similarity = cosine_similarity_vectors(concept_embedding, avg_embedding)\n",
    "    print(\n",
    "        f\"Cosine similarity between the page '{page_title}' and average embedding of the page content is: {similarity}\"\n",
    "    )"
   ]
  },
  {
   "cell_type": "code",
   "execution_count": null,
   "metadata": {},
   "outputs": [],
   "source": [
    "# load the word2vec model\n",
    "fi_model_path = os.path.join(word2vec_fi, \"word2vec-fi.bin\")\n",
    "word2vec_fi_model = gensim.models.KeyedVectors.load_word2vec_format(fi_model_path, binary=True)\n",
    "\n",
    "## Evaluate the consistency of the Wikipedia page content with the concept \"ilmastonmuutos\"\n",
    "# evaluate_page_consistency(\n",
    "#     \"ilmastonmuutos\", word2vec_fi_model, finnish_stopwords\n",
    "# )\n",
    "\n",
    "#evaluate_page_consistency(\"kestävyys\", word2vec_fi_model, finnish_stopwords)\n",
    "\n",
    "for title in terms:\n",
    "    evaluate_page_consistency(\n",
    "        title, word2vec_fi_model, finnish_stopwords\n",
    "    )\n",
    "\n"
   ]
  },
  {
   "cell_type": "markdown",
   "metadata": {},
   "source": [
    "##### ii)\n"
   ]
  },
  {
   "cell_type": "code",
   "execution_count": null,
   "metadata": {},
   "outputs": [],
   "source": [
    "# Function to get the aggregated embedding of a Wikipedia page\n",
    "def get_page_embedding(page_title, model, stop_words):\n",
    "    # Get the page content\n",
    "    #page_content = load_wikipedia_dataset(dataset_directory, page_title)\n",
    "    #page_content = page_content[\"content\"]\n",
    "\n",
    "    page_content = all_words[page_title]\n",
    "\n",
    "    # Check if the page exists\n",
    "    if page_content is None:\n",
    "        print(f\"The Wikipedia page does not exist.\")\n",
    "        return None\n",
    "\n",
    "    # Preprocess the page content\n",
    "    page_tokens = preProcess(page_content, stop_words)\n",
    "    page_tokens = word_tokenize(page_tokens)\n",
    "\n",
    "    # Get the average embedding of the page content\n",
    "    avg_page_embedding = get_average_embedding(page_tokens, model)\n",
    "\n",
    "    return avg_page_embedding\n",
    "\n",
    "def cosine_similarity_between_pages(page_title_1, page_title_2, model, stop_words):\n",
    "    # Get the aggregated embeddings for both pages\n",
    "    #print(f\"Calculating cosine similarity between '{page_title_1}' and '{page_title_2}'\")\n",
    "    embedding_1 = get_page_embedding(page_title_1, model, stop_words)\n",
    "    embedding_2 = get_page_embedding(page_title_2, model, stop_words)\n",
    "\n",
    "    #print(f\"Embedding 1: {embedding_1}, Embedding 2: {embedding_2}\")\n",
    "\n",
    "    # Check if embeddings exist for both pages\n",
    "    if embedding_1 is None or embedding_2 is None:\n",
    "        print(\"One or both pages do not have valid embeddings.\")\n",
    "        return None\n",
    "\n",
    "    # Reshape the embeddings for cosine similarity calculation\n",
    "    embedding_1 = embedding_1.reshape(1, -1)\n",
    "    embedding_2 = embedding_2.reshape(1, -1)\n",
    "\n",
    "    # Calculate and return the cosine similarity\n",
    "    similarity = cosine_similarity(embedding_1, embedding_2)[0][0]\n",
    "    return similarity\n"
   ]
  },
  {
   "cell_type": "code",
   "execution_count": null,
   "metadata": {},
   "outputs": [],
   "source": [
    "\n",
    "terms_list = list(terms)\n",
    "# Calculate the cosine similarity between the pages and print the results in a matrix\n",
    "page_similarity_matrix = np.zeros((len(terms_list), len(terms_list)))\n",
    "for i, page_title_1 in enumerate(terms_list):\n",
    "    for j, page_title_2 in enumerate(terms_list):\n",
    "        similarity = cosine_similarity_between_pages(\n",
    "            page_title_1, page_title_2, word2vec_fi_model, finnish_stopwords\n",
    "        )\n",
    "        page_similarity_matrix[i, j] = similarity\n",
    "\n",
    "# Provide the result in a table\n",
    "page_similarity_df = pd.DataFrame(\n",
    "    page_similarity_matrix,\n",
    "    index=terms_list,\n",
    "    columns=terms_list,\n",
    ")\n",
    "\n",
    "print(\"\\nCosine Similarity Between Wikipedia Pages:\")\n",
    "print(page_similarity_df)\n",
    "\n",
    "# print results in a graph\n",
    "plt.figure(figsize=(10, 8))\n",
    "sns.heatmap(page_similarity_df, annot=True, cmap=\"coolwarm\", fmt=\".2f\")\n",
    "plt.title(\"Cosine Similarity Between Wikipedia Pages\")\n",
    "plt.xlabel(\"Wikipedia Page\")\n",
    "plt.ylabel(\"Wikipedia Page\")\n",
    "plt.show()\n"
   ]
  },
  {
   "cell_type": "markdown",
   "metadata": {},
   "source": [
    "### Task 10\n",
    "\n",
    "Repeat 9) when the extended vocabulary is considered.\n"
   ]
  },
  {
   "cell_type": "markdown",
   "metadata": {},
   "source": [
    "##### i)\n"
   ]
  },
  {
   "cell_type": "code",
   "execution_count": null,
   "metadata": {},
   "outputs": [],
   "source": [
    "# word2vec_fi = kagglehub.dataset_download(\"lehtol/word2vec-fi\")\n",
    "def evaluate_page_consistency(page_title, model, stop_words):\n",
    "    # Get the page content\n",
    "    page_content = words_extended_all[page_title]\n",
    "\n",
    "    # Preprocess the page content\n",
    "    clean_stopwords = [word.casefold() for word in stop_words]\n",
    "    stemmer = SnowballStemmer(\"finnish\")\n",
    "\n",
    "    page_tokens = [stemmer.stem(word) for word in page_content]\n",
    "\n",
    "    page_tokens = [word for word in page_tokens if word.isalpha() and word not in clean_stopwords]\n",
    "\n",
    "    page_tokens = list(set(page_tokens))\n",
    "\n",
    "    # Get the embedding of the concept\n",
    "    word = stemmer.stem(page_title)\n",
    "\n",
    "    concept_embedding = get_word_embedding(word.casefold(), model)\n",
    "    if concept_embedding is None:\n",
    "        print(f\"The concept '{page_title}' is not in the Word2Vec model vocabulary.\")\n",
    "        return\n",
    "\n",
    "    # Get the average embedding of the page content\n",
    "    avg_embedding = get_average_embedding(page_tokens, model)\n",
    "    if avg_embedding is None:\n",
    "        print(\n",
    "            f\"No words in the Wikipedia page '{page_title}' have embeddings in the Word2Vec model.\"\n",
    "        )\n",
    "        return\n",
    "\n",
    "    # Calculate cosine similarity\n",
    "    similarity = cosine_similarity_vectors(concept_embedding, avg_embedding)\n",
    "    print(\n",
    "        f\"Cosine similarity between the page '{page_title}' and average embedding of the page content is: {similarity}\"\n",
    "    )"
   ]
  },
  {
   "cell_type": "code",
   "execution_count": null,
   "metadata": {},
   "outputs": [],
   "source": [
    "\n",
    "for title in terms:\n",
    "    evaluate_page_consistency(\n",
    "        title, word2vec_fi_model, finnish_stopwords\n",
    "    )"
   ]
  },
  {
   "cell_type": "markdown",
   "metadata": {},
   "source": [
    "##### ii)\n"
   ]
  },
  {
   "cell_type": "code",
   "execution_count": null,
   "metadata": {},
   "outputs": [],
   "source": [
    "# Function to get the aggregated embedding of a Wikipedia page\n",
    "def get_page_embedding(page_title, model, stop_words):\n",
    "    # Get the page content\n",
    "\n",
    "    page_content = words_extended_all[page_title]\n",
    "\n",
    "    # Check if the page exists\n",
    "    if page_content is None:\n",
    "        print(f\"The Wikipedia page does not exist.\")\n",
    "        return None\n",
    "\n",
    "    # Preprocess the page content\n",
    "    clean_stopwords = [word.casefold() for word in stop_words]\n",
    "    stemmer = SnowballStemmer(\"finnish\")\n",
    "\n",
    "    page_tokens = [stemmer.stem(word) for word in page_content]\n",
    "\n",
    "    page_tokens = [word for word in page_tokens if word.isalpha() and word not in clean_stopwords]\n",
    "\n",
    "    page_tokens = list(set(page_tokens))\n",
    "\n",
    "\n",
    "    # Get the average embedding of the page content\n",
    "    avg_page_embedding = get_average_embedding(page_tokens, model)\n",
    "\n",
    "    return avg_page_embedding\n",
    "\n",
    "def cosine_similarity_between_pages(page_title_1, page_title_2, model, stop_words):\n",
    "    # Get the aggregated embeddings for both pages\n",
    "    #print(f\"Calculating cosine similarity between '{page_title_1}' and '{page_title_2}'\")\n",
    "    embedding_1 = get_page_embedding(page_title_1, model, stop_words)\n",
    "    embedding_2 = get_page_embedding(page_title_2, model, stop_words)\n",
    "\n",
    "    #print(f\"Embedding 1: {embedding_1}, Embedding 2: {embedding_2}\")\n",
    "\n",
    "    # Check if embeddings exist for both pages\n",
    "    if embedding_1 is None or embedding_2 is None:\n",
    "        print(\"One or both pages do not have valid embeddings.\")\n",
    "        return None\n",
    "\n",
    "    # Reshape the embeddings for cosine similarity calculation\n",
    "    embedding_1 = embedding_1.reshape(1, -1)\n",
    "    embedding_2 = embedding_2.reshape(1, -1)\n",
    "\n",
    "    # Calculate and return the cosine similarity\n",
    "    similarity = cosine_similarity(embedding_1, embedding_2)[0][0]\n",
    "    return similarity"
   ]
  },
  {
   "cell_type": "code",
   "execution_count": null,
   "metadata": {},
   "outputs": [],
   "source": [
    "terms_list = list(terms)\n",
    "# Calculate the cosine similarity between the pages and print the results in a matrix\n",
    "page_similarity_matrix = np.zeros((len(terms_list), len(terms_list)))\n",
    "for i, page_title_1 in enumerate(terms_list):\n",
    "    for j, page_title_2 in enumerate(terms_list):\n",
    "        similarity = cosine_similarity_between_pages(\n",
    "            page_title_1, page_title_2, word2vec_fi_model, finnish_stopwords\n",
    "        )\n",
    "        page_similarity_matrix[i, j] = similarity\n",
    "\n",
    "#Provide the result in a table\n",
    "page_similarity_df = pd.DataFrame(\n",
    "    page_similarity_matrix,\n",
    "    index=terms_list,\n",
    "    columns=terms_list,\n",
    ")\n",
    "\n",
    "print(\"\\nCosine Similarity Between Wikipedia Pages:\")\n",
    "print(page_similarity_df)\n",
    "\n",
    "# print results in a graph\n",
    "plt.figure(figsize=(10, 8))\n",
    "sns.heatmap(page_similarity_df, annot=True, cmap=\"coolwarm\", fmt=\".2f\")\n",
    "plt.title(\"Cosine Similarity Between Wikipedia Pages\")\n",
    "plt.xlabel(\"Wikipedia Page\")\n",
    "plt.ylabel(\"Wikipedia Page\")\n",
    "plt.show()"
   ]
  },
  {
   "cell_type": "markdown",
   "metadata": {},
   "source": [
    "### Task 11\n",
    "\n",
    "Use appropriate literature to comment on the findings. Also, identify any additional input that would allow you to further elucidate any of the preceding, and use appropriate literature of corpus linguistic literature to justify your findings and comment on the obtained results. Finally, comment on the limitations and structural weakness of the data processing pipeline.\n"
   ]
  }
 ],
 "metadata": {
  "kernelspec": {
   "display_name": "CUDA",
   "language": "python",
   "name": "python3"
  },
  "language_info": {
   "codemirror_mode": {
    "name": "ipython",
    "version": 3
   },
   "file_extension": ".py",
   "mimetype": "text/x-python",
   "name": "python",
   "nbconvert_exporter": "python",
   "pygments_lexer": "ipython3",
   "version": "3.12.6"
  }
 },
 "nbformat": 4,
 "nbformat_minor": 4
}
