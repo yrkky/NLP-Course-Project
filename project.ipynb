{
 "cells": [
  {
   "cell_type": "markdown",
   "metadata": {},
   "source": [
    "Import all libraries\n"
   ]
  },
  {
   "cell_type": "code",
   "execution_count": 303,
   "metadata": {},
   "outputs": [],
   "source": [
    "import os\n",
    "import zipfile\n",
    "import requests\n",
    "import nltk\n",
    "import matplotlib.pyplot as plt\n",
    "import seaborn as sns\n",
    "import re\n",
    "import pandas as pd\n",
    "from nltk.tokenize import word_tokenize, sent_tokenize\n",
    "from nltk.stem.snowball import SnowballStemmer\n",
    "import numpy as np\n",
    "import wn\n",
    "from wn.similarity import wup\n",
    "from tqdm import tqdm\n",
    "from nltk.corpus.reader.wordnet import WordNetCorpusReader\n",
    "from sklearn.feature_extraction.text import CountVectorizer, TfidfVectorizer\n",
    "from sklearn.metrics.pairwise import cosine_similarity\n",
    "from sklearn.preprocessing import normalize\n",
    "from googletrans import Translator\n",
    "from collections import defaultdict\n",
    "from gensim.models import Word2Vec\n",
    "import gensim\n",
    "import gensim.downloader as api\n",
    "import kagglehub\n",
    "from vaderSentiment.vaderSentiment import SentimentIntensityAnalyzer\n",
    "import tarfile"
   ]
  },
  {
   "cell_type": "code",
   "execution_count": 25,
   "metadata": {},
   "outputs": [
    {
     "data": {
      "application/vnd.jupyter.widget-view+json": {
       "model_id": "3c10d7050e2a4ce3bb6f10374450ea7e",
       "version_major": 2,
       "version_minor": 0
      },
      "text/plain": [
       "VBox(children=(HTML(value='<center> <img\\nsrc=https://www.kaggle.com/static/images/site-logo.png\\nalt=\\'Kaggle…"
      ]
     },
     "metadata": {},
     "output_type": "display_data"
    }
   ],
   "source": [
    "#Login to Kaggle\n",
    "kagglehub.login()"
   ]
  },
  {
   "cell_type": "code",
   "execution_count": 26,
   "metadata": {},
   "outputs": [
    {
     "name": "stdout",
     "output_type": "stream",
     "text": [
      "Failed to clone repository. Directory already exists.\n"
     ]
    },
    {
     "name": "stderr",
     "output_type": "stream",
     "text": [
      "[nltk_data] Downloading package wordnet to\n",
      "[nltk_data]     C:\\Users\\janne\\AppData\\Roaming\\nltk_data...\n",
      "[nltk_data]   Package wordnet is already up-to-date!\n",
      "[nltk_data] Downloading package punkt to\n",
      "[nltk_data]     C:\\Users\\janne\\AppData\\Roaming\\nltk_data...\n",
      "[nltk_data]   Package punkt is already up-to-date!\n",
      "[nltk_data] Downloading package punkt_tab to\n",
      "[nltk_data]     C:\\Users\\janne\\AppData\\Roaming\\nltk_data...\n",
      "[nltk_data]   Package punkt_tab is already up-to-date!\n",
      "[nltk_data] Downloading package omw-1.4 to\n",
      "[nltk_data]     C:\\Users\\janne\\AppData\\Roaming\\nltk_data...\n",
      "[nltk_data]   Package omw-1.4 is already up-to-date!\n",
      "\n",
      "\u001b[KCached file found: C:\\Users\\janne\\.wn_data\\downloads\\e22bb9bb7ec2fbb9254ce638a385cf3b2c5c4a58\n",
      "\n",
      "\u001b[KChecking C:\\Users\\janne\\AppData\\Local\\Temp\\tmp8fmx7sjh\\omw-fi\\omw-fi.xml\n",
      "\u001b[KSkipping omw-fi:1.4 (FinnWordNet); already added\n",
      "\n"
     ]
    }
   ],
   "source": [
    "## Clone WNAffect repository\n",
    "repo_url = \"https://github.com/clemtoy/WNAffect.git\"\n",
    "clone_dir = \"WNAffect\"\n",
    "\n",
    "if not os.path.exists(clone_dir):\n",
    "    os.system(f\"git clone {repo_url} {clone_dir}\")\n",
    "else:\n",
    "    print(\"Failed to clone repository. Directory already exists.\")\n",
    "\n",
    "from WNAffect.wnaffect import WNAffect\n",
    "from WNAffect.emotion import Emotion\n",
    "\n",
    "# Download the nltk data\n",
    "nltk.download(\"wordnet\")\n",
    "nltk.download(\"punkt\")\n",
    "nltk.download('punkt_tab')\n",
    "nltk.download(\"omw-1.4\")\n",
    "\n",
    "# Download finnish wordnet\n",
    "!python -m wn download omw-fi\n",
    "\n",
    "# Download finnish word2vec model from kaggle\n",
    "word2vec_fi = kagglehub.dataset_download(\"lehtol/word2vec-fi\")"
   ]
  },
  {
   "cell_type": "markdown",
   "metadata": {},
   "source": [
    "Implement download functions to download data and datasets.\n"
   ]
  },
  {
   "cell_type": "code",
   "execution_count": 305,
   "metadata": {},
   "outputs": [],
   "source": [
    "def download_and_extract(url, zip_path, extract_path):\n",
    "    if os.path.exists(extract_path):\n",
    "        print(f\"File {extract_path} already exists.\")\n",
    "    else:\n",
    "        print(f\"Downloading and extracting the {zip_path} to {extract_path}.\")\n",
    "        response = requests.get(url, stream=True)\n",
    "        total_size = int(response.headers.get(\"content-length\", 0))\n",
    "        block_size = 1024\n",
    "        with open(zip_path, \"wb\") as file, tqdm(\n",
    "            desc=zip_path,\n",
    "            total=total_size,\n",
    "            unit=\"iB\",\n",
    "            unit_scale=True,\n",
    "            unit_divisor=1024,\n",
    "        ) as bar:\n",
    "            for data in response.iter_content(block_size):\n",
    "                file.write(data)\n",
    "                bar.update(len(data))\n",
    "        if not os.path.exists(extract_path):\n",
    "            os.makedirs(extract_path)\n",
    "        with zipfile.ZipFile(zip_path, \"r\") as zip_ref:\n",
    "            for member in zip_ref.namelist():\n",
    "                member_path = os.path.join(\n",
    "                    extract_path,\n",
    "                    os.path.relpath(\n",
    "                        member, start=os.path.commonpath(zip_ref.namelist())\n",
    "                    ),\n",
    "                )\n",
    "                if member.endswith(\"/\"):\n",
    "                    os.makedirs(member_path, exist_ok=True)\n",
    "                else:\n",
    "                    os.makedirs(os.path.dirname(member_path), exist_ok=True)\n",
    "                    with open(member_path, \"wb\") as f:\n",
    "                        f.write(zip_ref.read(member))\n",
    "        os.remove(zip_path)\n",
    "        print(f\"Download and extraction of {extract_path} complete.\")\n",
    "\n",
    "\n",
    "def download(url, file_path):\n",
    "    if os.path.exists(file_path):\n",
    "        print(f\"File {file_path} already exists.\")\n",
    "    else:\n",
    "        print(f\"Downloading the file {file_path}\")\n",
    "        response = requests.get(url, stream=True)\n",
    "        total_size = int(response.headers.get(\"content-length\", 0))\n",
    "        block_size = 1024\n",
    "\n",
    "        with open(file_path, \"wb\") as file, tqdm(\n",
    "            desc=file_path,\n",
    "            total=total_size,\n",
    "            unit=\"iB\",\n",
    "            unit_scale=True,\n",
    "            unit_divisor=1024,\n",
    "        ) as bar:\n",
    "            for data in response.iter_content(block_size):\n",
    "                file.write(data)\n",
    "                bar.update(len(data))\n",
    "        print(f\"Download of {file_path} complete.\")\n",
    "\n",
    "def extract_wordnet16_tar(tar_path, extract_path):\n",
    "    def is_within_directory(directory, target):\n",
    "        abs_directory = os.path.abspath(directory)\n",
    "        abs_target = os.path.abspath(target)\n",
    "        return os.path.commonpath([abs_directory]) == os.path.commonpath([abs_directory, abs_target])\n",
    "\n",
    "    def safe_extract(tar, path=\".\", members=None, *, numeric_owner=False):\n",
    "        for member in tar.getmembers():\n",
    "            member_path = os.path.join(path, member.name)\n",
    "            if not is_within_directory(path, member_path):\n",
    "                raise Exception(\"Attempted Path Traversal in Tar File\")\n",
    "        for member in members:\n",
    "            if member.issym() or member.islnk():\n",
    "                continue  # Skip symbolic links\n",
    "            tar.extract(member, path, numeric_owner=numeric_owner, filter=None)\n",
    "\n",
    "    with tarfile.open(tar_path, \"r\") as tar:\n",
    "        members = [m for m in tar.getmembers() if m.name.startswith(\"wordnet-1.6/\")]\n",
    "        for member in members:\n",
    "            member.name = member.name[len(\"wordnet-1.6/\"):]\n",
    "        safe_extract(tar, extract_path, members=members)\n",
    "\n",
    "def download_and_extract_targz(url, gz, path):\n",
    "    if os.path.exists(path):\n",
    "        print(f\"File {path} already exists.\")\n",
    "    else:\n",
    "        print(f\"Downloading and extracting the {gz} to {path}.\")\n",
    "        download(url, gz)\n",
    "        extract_wordnet16_tar(gz, path)\n",
    "        os.remove(gz)\n"
   ]
  },
  {
   "cell_type": "markdown",
   "metadata": {},
   "source": [
    "Download the Finnish Wikipedia 2017 dataset, Finnish Stopwords, Stemmer, FinnWordNet and Word2Vec.\n"
   ]
  },
  {
   "cell_type": "code",
   "execution_count": 306,
   "metadata": {},
   "outputs": [
    {
     "name": "stdout",
     "output_type": "stream",
     "text": [
      "File data/wikipedia-fi-2017-src already exists.\n",
      "File data/finnishST.txt already exists.\n",
      "File data/FinnWordNet already exists.\n",
      "File data/wn16 already exists.\n",
      "File data/wndomains32 already exists.\n"
     ]
    }
   ],
   "source": [
    "# Wikipedia dataset\n",
    "wiki_url = \"https://www.kielipankki.fi/download/wikipedia-fi/wikipedia-fi-2017-src/wikipedia-fi-2017-src.zip\"\n",
    "wiki_zip_path = \"wikipedia-fi-2017-src.zip\"\n",
    "wiki_extract_path = \"data/wikipedia-fi-2017-src\"\n",
    "download_and_extract(wiki_url, wiki_zip_path, wiki_extract_path)\n",
    "\n",
    "# Finnish Stopwords\n",
    "stopword_url = \"http://members.unine.ch/jacques.savoy/clef/finnishST.txt\"\n",
    "stopwords_path = \"data/finnishST.txt\"\n",
    "download(stopword_url, stopwords_path)\n",
    "\n",
    "# Finnish Stemmer\n",
    "# stemmer_url = \"http://members.unine.ch/jacques.savoy/clef/finnishStemmer.txt\"\n",
    "# stemmer_path = \"data/finnishStemmer.txt\"\n",
    "# download(stemmer_url, stemmer_path)\n",
    "\n",
    "# FinnWordNet\n",
    "finnwordnet_url = (\n",
    "    \"https://www.kielipankki.fi/download/FinnWordNet/v2.0/FinnWordNet-2.0.zip\"\n",
    ")\n",
    "finnwordnet_zip_path = \"FinnWordNet-2.0.zip\"\n",
    "finnwordnet_extract_path = \"data/FinnWordNet\"\n",
    "download_and_extract(finnwordnet_url, finnwordnet_zip_path, finnwordnet_extract_path)\n",
    "\n",
    "# Wordnet 1.6\n",
    "wordnet16_url = \"https://wordnetcode.princeton.edu/1.6/wn16.unix.tar.gz\"\n",
    "wordnet16_gz = \"wn16.unix.tar.gz\"\n",
    "wordnet16_path = \"data/wn16\"\n",
    "download_and_extract_targz(wordnet16_url, wordnet16_gz, wordnet16_path)\n",
    "\n",
    "# Download Wordnet Affect\n",
    "wordnet_affect_url = \"https://unioulu-my.sharepoint.com/:u:/g/personal/jyrjanai20_student_oulu_fi/EcfjOMVVQ7dIr_lETcSOFo4B5KEtVvB1I5mmWEVxjspDNQ?e=hKkcAj&download=1\"\n",
    "wordnet_affect_zip = \"wndomains32.zip\"\n",
    "wordnet_affect_path = \"data/wndomains32\"\n",
    "download_and_extract(wordnet_affect_url, wordnet_affect_zip, wordnet_affect_path)"
   ]
  },
  {
   "cell_type": "code",
   "execution_count": 29,
   "metadata": {},
   "outputs": [],
   "source": [
    "# !python -m spacy download fi_core_news_md\n",
    "# !python -m spacy download fi_core_news_sm"
   ]
  },
  {
   "cell_type": "markdown",
   "metadata": {},
   "source": [
    "### Task 1:\n",
    "\n",
    "Consider the wordings: “climate change”, “emission”, “resilience”, “sustainability” (need to consider their Finnish translations). Suggest a script where your input each of these wordings and output the corresponding Wikipedia pages, highlighting all the (linked) entities in these pages.\n"
   ]
  },
  {
   "cell_type": "code",
   "execution_count": 30,
   "metadata": {},
   "outputs": [],
   "source": [
    "terms = {\"ilmastonmuutos\", \"päästö\", \"joustavuus\", \"ekologinen kestävyys\"}"
   ]
  },
  {
   "cell_type": "code",
   "execution_count": 31,
   "metadata": {},
   "outputs": [],
   "source": [
    "# Function to load the extracted Wikipedia dataset\n",
    "def load_wikipedia_dataset(directory):\n",
    "    data = {}\n",
    "    data_titles = {}\n",
    "\n",
    "    # Iterate over all dataset parts\n",
    "    files = [\n",
    "        f\n",
    "        for f in os.listdir(directory)\n",
    "        if f.startswith(\"wiki_part\") and f.endswith(\".VRT\")\n",
    "    ]\n",
    "    for filename in tqdm(files, desc=\"Processing files\"):\n",
    "        if filename.startswith(\"wiki_part\") and filename.endswith(\".VRT\"):\n",
    "            file_path = os.path.join(directory, filename)\n",
    "            # print(f\"Processing file: {file_path}\")\n",
    "\n",
    "            with open(file_path, \"r\", encoding=\"utf-8\") as file:\n",
    "                content = file.read()\n",
    "\n",
    "                # Use regex to find all documents within the <doc>...</doc> tags\n",
    "                docs = re.findall(\n",
    "                    r'<doc id=\"(.*?)\" url=\"(.*?)\" title=\"(.*?)\">(.*?)</doc>',\n",
    "                    content,\n",
    "                    re.DOTALL,\n",
    "                )\n",
    "\n",
    "                # Process each document found\n",
    "                for doc_id, url, title, doc_content in docs:\n",
    "                    data_titles[title.casefold()] = {\n",
    "                        \"id\": doc_id,\n",
    "                    }\n",
    "                    # Only store the data if the title matches one of the specified terms\n",
    "                    if title.casefold() in terms:\n",
    "                        data[title.casefold()] = {\n",
    "                            \"id\": doc_id,\n",
    "                            \"url\": url,\n",
    "                            \"content\": doc_content,\n",
    "                        }\n",
    "    return data, data_titles\n",
    "\n",
    "\n",
    "# Load Finnish stopwords\n",
    "def load_stopwords(file_path):\n",
    "    with open(file_path, \"r\", encoding=\"ISO-8859-1\") as f:\n",
    "        stopwords = f.read().splitlines()\n",
    "        print(f\"Loaded {len(stopwords)} stopwords from {file_path}\")\n",
    "    return stopwords\n",
    "\n",
    "\n",
    "# Function to highlight linked entities\n",
    "def highlight_linked_entities(content):\n",
    "    highlighted_content = re.sub(\n",
    "        r'(<link entity=\")(.*?)(\">)(.*?)(</link>)', r\"\\1\\2\\3**\\4**\\5\", content\n",
    "    )\n",
    "    return highlighted_content\n",
    "\n",
    "\n",
    "# Function to tokenize text into sentences and remove stopwords\n",
    "def remove_stopwords(sentence, stopwords, language=\"finnish\"):\n",
    "    words = word_tokenize(text=sentence, language=language)\n",
    "    filtered_words = [word for word in words if word.lower() not in stopwords]\n",
    "    return \" \".join(filtered_words)\n",
    "\n",
    "\n",
    "# Function to remove '#' from the middle of a word\n",
    "def remove_hash_from_words(text):\n",
    "    return re.sub(r\"(\\w)#(\\w)\", r\"\\1\\2\", text)"
   ]
  },
  {
   "cell_type": "markdown",
   "metadata": {},
   "source": [
    "Load the wikipedia dataset\n"
   ]
  },
  {
   "cell_type": "code",
   "execution_count": 32,
   "metadata": {},
   "outputs": [
    {
     "name": "stderr",
     "output_type": "stream",
     "text": [
      "Processing files: 100%|██████████| 66/66 [00:54<00:00,  1.21it/s]"
     ]
    },
    {
     "name": "stdout",
     "output_type": "stream",
     "text": [
      "number of wikipedia titles 425318\n"
     ]
    },
    {
     "name": "stderr",
     "output_type": "stream",
     "text": [
      "\n"
     ]
    }
   ],
   "source": [
    "dataset_directory = \"data/wikipedia-fi-2017-src\"  # Path to the extracted dataset\n",
    "wikipedia_data, wikipedia_title_data = load_wikipedia_dataset(dataset_directory)\n",
    "print(f\"number of wikipedia titles\", len(wikipedia_title_data))"
   ]
  },
  {
   "cell_type": "markdown",
   "metadata": {},
   "source": [
    "Load the finnish stopwords\n"
   ]
  },
  {
   "cell_type": "code",
   "execution_count": 33,
   "metadata": {},
   "outputs": [
    {
     "name": "stdout",
     "output_type": "stream",
     "text": [
      "Loaded 747 stopwords from data/finnishST.txt\n"
     ]
    }
   ],
   "source": [
    "finnish_stopwords = load_stopwords(stopwords_path)"
   ]
  },
  {
   "cell_type": "markdown",
   "metadata": {},
   "source": [
    "Highlight the entities in the wikipedia pages\n"
   ]
  },
  {
   "cell_type": "code",
   "execution_count": 34,
   "metadata": {},
   "outputs": [],
   "source": [
    "for title, info in wikipedia_data.items():\n",
    "    highlighted_content = highlight_linked_entities(info[\"content\"])\n",
    "    # print(f\"Title: {title}\\nHighlighted Content: {highlighted_content}\\n\")"
   ]
  },
  {
   "cell_type": "markdown",
   "metadata": {},
   "source": [
    "Get the pages for the given wordings and get the sentences\n"
   ]
  },
  {
   "cell_type": "code",
   "execution_count": 35,
   "metadata": {},
   "outputs": [
    {
     "name": "stdout",
     "output_type": "stream",
     "text": [
      "{'joustavuus': {'id': '62900', 'url': 'https://fi.wikipedia.org/wiki?curid=62900', 'content': '\\n<paragraph>\\n<sentence>\\n1\\tJoustavuus\\tjoustavuus\\tNOUN\\t_\\tCase=Nom|Number=Sing\\t0\\troot\\t_\\t_\\n</sentence>\\n</paragraph>\\n<paragraph>\\n<sentence>\\n1\\tJoustavuus\\tjoustavuus\\tNOUN\\t_\\tCase=Nom|Number=Sing\\t4\\tnsubj:cop\\t_\\t_\\n2\\ton\\tolla\\tVERB\\t_\\tMood=Ind|Number=Sing|Person=3|Tense=Pres|VerbForm=Fin|Voice=Act\\t4\\tcop\\t_\\t_\\n3\\tyrityksen\\tyritys\\tNOUN\\t_\\tCase=Gen|Number=Sing\\t4\\tnmod:poss\\t_\\t_\\n4\\tominaisuus\\tominaisuus\\tNOUN\\t_\\tCase=Nom|Number=Sing\\t0\\troot\\t_\\t_\\n5\\t,\\t,\\tPUNCT\\t_\\t_\\t7\\tpunct\\t_\\t_\\n6\\tjoka\\tjoka\\tPRON\\t_\\tCase=Nom|Number=Sing|PronType=Rel\\t7\\tnsubj\\t_\\t_\\n7\\tkertoo\\tkertoa\\tVERB\\t_\\tMood=Ind|Number=Sing|Person=3|Tense=Pres|VerbForm=Fin|Voice=Act\\t4\\tacl:relcl\\t_\\t_\\n8\\tsiitä\\tse\\tPRON\\t_\\tCase=Ela|Number=Sing|PronType=Dem\\t7\\tnmod\\t_\\t_\\n9\\t,\\t,\\tPUNCT\\t_\\t_\\t12\\tpunct\\t_\\t_\\n10\\tmiten\\tmiten\\tADV\\t_\\t_\\t12\\tadvmod\\t_\\t_\\n11\\tyritys\\tyritys\\tNOUN\\t_\\tCase=Nom|Number=Sing\\t12\\tnsubj\\t_\\t_\\n12\\tpystyy\\tpystyä\\tVERB\\t_\\tMood=Ind|Number=Sing|Person=3|Tense=Pres|VerbForm=Fin|Voice=Act\\t8\\tccomp\\t_\\t_\\n13\\tsopeutumaan\\tsopeutua\\tVERB\\t_\\tCase=Ill|InfForm=3|Number=Sing|VerbForm=Inf|Voice=Act\\t12\\txcomp\\t_\\t_\\n14\\tkysynnässä\\tkysyntä\\tNOUN\\t_\\tCase=Ine|Number=Sing\\t15\\tnmod\\t_\\t_\\n15\\ttapahtuviin\\ttapahtua\\tVERB\\t_\\tCase=Ill|Degree=Pos|Number=Plur|PartForm=Pres|VerbForm=Part|Voice=Act\\t19\\tacl\\t_\\t_\\n16\\tmäärällisiin\\tmäärällinen\\tADJ\\t_\\tCase=Ill|Degree=Pos|Number=Plur\\t19\\tamod\\t_\\t_\\n17\\tja\\tja\\tCONJ\\t_\\t_\\t16\\tcc\\t_\\t_\\n18\\tlaadullisiin\\tlaadullinen\\tADJ\\t_\\tCase=Ill|Degree=Pos|Number=Plur\\t16\\tconj\\t_\\t_\\n19\\tmuutoksiin\\tmuutos\\tNOUN\\t_\\tCase=Ill|Number=Plur\\t13\\tnmod\\t_\\t_\\n20\\tsiten\\tsiten\\tADV\\t_\\t_\\t13\\tadvmod\\t_\\t_\\n21\\t,\\t,\\tPUNCT\\t_\\t_\\t28\\tpunct\\t_\\t_\\n22\\tettä\\tettä\\tSCONJ\\t_\\t_\\t28\\tmark\\t_\\t_\\n23\\tyritys\\tyritys\\tNOUN\\t_\\tCase=Nom|Number=Sing\\t28\\tdobj\\t_\\t_\\n24\\tei\\tei\\tVERB\\t_\\tNegative=Yes|Number=Sing|Person=3|VerbForm=Fin|Voice=Act\\t28\\tneg\\t_\\t_\\n25\\tmuutosten\\tmuutos\\tNOUN\\t_\\tCase=Gen|Number=Plur\\t28\\tnmod\\t_\\t_\\n26\\tmyötä\\tmyötä\\tADP\\t_\\tAdpType=Post\\t25\\tcase\\t_\\t_\\n27\\tjoutuisi\\tjoutua\\tAUX\\t_\\tMood=Cnd|Number=Sing|Person=3|VerbForm=Fin|Voice=Act\\t28\\tauxpass\\t_\\t_\\n28\\tkilpailijoitaan\\tkilpailija\\tVERB\\t_\\tMood=Ind|Tense=Pres|VerbForm=Fin|Voice=Pass\\t20\\tccomp\\t_\\t_\\n29\\tepäedullisempaan\\tepä#edullinen\\tADJ\\t_\\tCase=Ill|Degree=Cmp|Number=Sing\\t30\\tamod\\t_\\t_\\n30\\tasemaan\\tasema\\tNOUN\\t_\\tCase=Ill|Number=Sing\\t28\\tnmod\\t_\\t_\\n31\\t.\\t.\\tPUNCT\\t_\\t_\\t4\\tpunct\\t_\\t_\\n</sentence>\\n</paragraph>\\n<paragraph>\\n<sentence>\\n1\\tAnna\\tAnna\\tPROPN\\t_\\tCase=Nom|Number=Sing\\t2\\tname\\t_\\t_\\n2\\tPollert\\tPollert\\tPROPN\\t_\\tCase=Nom|Number=Sing\\t4\\tnsubj\\t_\\t_\\n3\\ton\\tolla\\tAUX\\t_\\tMood=Ind|Number=Sing|Person=3|Tense=Pres|VerbForm=Fin|Voice=Act\\t4\\taux\\t_\\t_\\n4\\tarvostellut\\tarvostella\\tVERB\\t_\\tCase=Nom|Degree=Pos|Number=Sing|PartForm=Past|VerbForm=Part|Voice=Act\\t0\\troot\\t_\\t_\\n5\\tkäsitettä\\tkäsite\\tNOUN\\t_\\tCase=Par|Number=Sing\\t4\\tdobj\\t_\\t_\\n6\\tsiitä\\tse\\tPRON\\t_\\tCase=Ela|Number=Sing|PronType=Dem\\t5\\tnmod\\t_\\t_\\n7\\t,\\t,\\tPUNCT\\t_\\t_\\t11\\tpunct\\t_\\t_\\n8\\tettä\\tettä\\tSCONJ\\t_\\t_\\t11\\tmark\\t_\\t_\\n9\\tjoustavuuden\\tjoustavuus\\tNOUN\\t_\\tCase=Gen|Number=Sing\\t10\\tnmod:poss\\t_\\t_\\n10\\tvarjolla\\tvarjo\\tNOUN\\t_\\tCase=Ade|Number=Sing\\t11\\tnmod\\t_\\t_\\n11\\ttehdään\\ttehdä\\tVERB\\t_\\tMood=Ind|Tense=Pres|VerbForm=Fin|Voice=Pass\\t6\\tccomp\\t_\\t_\\n12\\ttoisistaan\\ttoinen\\tNOUN\\t_\\tCase=Ela|Number=Plur|Person[psor]=3\\t11\\tnmod\\t_\\t_\\n13\\thyvinkin\\thyvin\\tADV\\t_\\tClitic=Kin\\t14\\tadvmod\\t_\\t_\\n14\\tpaljon\\tpaljon\\tADV\\t_\\t_\\t15\\tadvmod\\t_\\t_\\n15\\tpoikkeavia\\tpoiketa\\tVERB\\t_\\tCase=Par|Degree=Pos|Number=Plur|PartForm=Pres|VerbForm=Part|Voice=Act\\t20\\tacl\\t_\\t_\\n16\\t,\\t,\\tPUNCT\\t_\\t_\\t20\\tpunct\\t_\\t_\\n17\\ttyöntekijöiden\\ttyöntekijä\\tNOUN\\t_\\tCase=Gen|Number=Plur\\t18\\tnmod:poss\\t_\\t_\\n18\\tasemaan\\tasema\\tNOUN\\t_\\tCase=Ill|Number=Sing\\t19\\tnmod\\t_\\t_\\n19\\tvaikuttavia\\tvaikuttaa\\tVERB\\t_\\tCase=Par|Degree=Pos|Number=Plur|PartForm=Pres|VerbForm=Part|Voice=Act\\t20\\tacl\\t_\\t_\\n20\\ttoimenpiteitä\\ttoimen#pide\\tNOUN\\t_\\tCase=Par|Number=Plur\\t11\\tdobj\\t_\\t_\\n21\\t.\\t.\\tPUNCT\\t_\\t_\\t4\\tpunct\\t_\\t_\\n</sentence>\\n<sentence>\\n1\\tJoustavuudella\\tjoustavuus\\tNOUN\\t_\\tCase=Ade|Number=Sing\\t3\\tnmod\\t_\\t_\\n2\\ton\\tolla\\tAUX\\t_\\tMood=Ind|Number=Sing|Person=3|Tense=Pres|VerbForm=Fin|Voice=Act\\t3\\tauxpass\\t_\\t_\\n3\\tpyritty\\tpyrkiä\\tVERB\\t_\\tCase=Nom|Degree=Pos|Number=Sing|PartForm=Past|VerbForm=Part|Voice=Pass\\t0\\troot\\t_\\t_\\n4\\toikeuttamaan\\toikeuttaa\\tVERB\\t_\\tCase=Ill|InfForm=3|Number=Sing|VerbForm=Inf|Voice=Act\\t3\\txcomp\\t_\\t_\\n5\\tjopa\\tjopa\\tADV\\t_\\t_\\t6\\tadvmod\\t_\\t_\\n6\\tkeskenään\\tkeskenään\\tADV\\t_\\t_\\t4\\tadvmod\\t_\\t_\\n7\\tristiriitaisia\\tristi#riitainen\\tADJ\\t_\\tCase=Par|Degree=Pos|Number=Plur\\t8\\tamod\\t_\\t_\\n8\\ttoimenpiteitä\\ttoimen#pide\\tNOUN\\t_\\tCase=Par|Number=Plur\\t4\\tdobj\\t_\\t_\\n9\\t.\\t.\\tPUNCT\\t_\\t_\\t3\\tpunct\\t_\\t_\\n</sentence>\\n<sentence>\\n1\\tTäsmällisemmässä\\ttäsmällinen\\tADJ\\t_\\tCase=Ine|Degree=Cmp|Number=Sing\\t2\\tamod\\t_\\t_\\n2\\tkielenkäytössä\\tkielen#käyttö\\tNOUN\\t_\\tCase=Ine|Number=Sing\\t4\\tnmod\\t_\\t_\\n3\\tjoustavuus\\tjoustavuus\\tNOUN\\t_\\tCase=Nom|Number=Sing\\t4\\tdobj\\t_\\t_\\n4\\tjaetaan\\tjakaa\\tVERB\\t_\\tMood=Ind|Tense=Pres|VerbForm=Fin|Voice=Pass\\t0\\troot\\t_\\t_\\n5\\tkahteen\\tkaksi\\tNUM\\t_\\tCase=Ill|Number=Sing|NumType=Card\\t6\\tnummod\\t_\\t_\\n6\\tlajiin\\tlaji\\tNOUN\\t_\\tCase=Ill|Number=Sing\\t4\\tnmod\\t_\\t_\\n7\\t:\\t:\\tPUNCT\\t_\\t_\\t6\\tpunct\\t_\\t_\\n8\\t\"\\t\"\\tPUNCT\\t_\\t_\\t9\\tpunct\\t_\\t_\\n9\\tjoustavuus\\tjoustavuus\\tNOUN\\t_\\tCase=Nom|Number=Sing\\t6\\tappos\\t_\\t_\\n10\\tlyhytaikaisessa\\tlyhyt#aikainen\\tADJ\\t_\\tCase=Ine|Degree=Pos|Number=Sing\\t11\\tamod\\t_\\t_\\n11\\tennakoinnissa\\tennakointi\\tNOUN\\t_\\tCase=Ine|Number=Sing\\t9\\tnmod\\t_\\t_\\n12\\t\"\\t\"\\tPUNCT\\t_\\t_\\t9\\tpunct\\t_\\t_\\n13\\t(\\t(\\tPUNCT\\t_\\t_\\t18\\tpunct\\t_\\t_\\n14\\t\"\\t\"\\tPUNCT\\t_\\t_\\t18\\tpunct\\t_\\t_\\n15\\tflexibility\\tflexibility\\tSYM\\t_\\t_\\t18\\tname\\t_\\t_\\n16\\tfor\\tfor\\tPROPN\\t_\\t_\\t18\\tname\\t_\\t_\\n17\\tshort-term\\tshort-term\\tPROPN\\t_\\t_\\t18\\tname\\t_\\t_\\n18\\tpredicatability\\tpredicatability\\tPROPN\\t_\\tCase=Nom|Number=Sing\\t9\\tappos\\t_\\t_\\n19\\t\"\\t\"\\tPUNCT\\t_\\t_\\t18\\tpunct\\t_\\t_\\n20\\ttai\\ttai\\tCONJ\\t_\\t_\\t18\\tcc\\t_\\t_\\n21\\tmäärällinen\\tmäärällinen\\tADJ\\t_\\tCase=Nom|Degree=Pos|Number=Sing\\t22\\tamod\\t_\\t_\\n22\\tjousto\\tjousto\\tNOUN\\t_\\tCase=Nom|Number=Sing\\t18\\tconj\\t_\\t_\\n23\\t)\\t)\\tPUNCT\\t_\\t_\\t22\\tpunct\\t_\\t_\\n24\\tja\\tja\\tCONJ\\t_\\t_\\t22\\tcc\\t_\\t_\\n25\\t\"\\t\"\\tPUNCT\\t_\\t_\\t26\\tpunct\\t_\\t_\\n26\\tjoustavuus\\tjoustavuus\\tNOUN\\t_\\tCase=Nom|Number=Sing\\t22\\tconj\\t_\\t_\\n27\\tpitkäaikaisessa\\tpitkä#aikainen\\tADJ\\t_\\tCase=Ine|Degree=Pos|Number=Sing\\t28\\tamod\\t_\\t_\\n28\\tsopeutumisessa\\tsopeutua\\tNOUN\\t_\\tCase=Ine|Derivation=Minen|Number=Sing\\t26\\tnmod\\t_\\t_\\n29\\t\"\\t\"\\tPUNCT\\t_\\t_\\t26\\tpunct\\t_\\t_\\n30\\t(\\t(\\tPUNCT\\t_\\t_\\t35\\tpunct\\t_\\t_\\n31\\t\"\\t\"\\tPUNCT\\t_\\t_\\t35\\tpunct\\t_\\t_\\n32\\tflexibility\\tflexibility\\tX\\t_\\tForeign=Foreign\\t35\\tname\\t_\\t_\\n33\\tfor\\tfor\\tX\\t_\\tForeign=Foreign\\t35\\tname\\t_\\t_\\n34\\tlong-term\\tlong-term\\tX\\t_\\tForeign=Foreign\\t35\\tname\\t_\\t_\\n35\\tadaptability\\tadaptability\\tX\\t_\\tForeign=Foreign\\t26\\tparataxis\\t_\\t_\\n36\\t\"\\t\"\\tPUNCT\\t_\\t_\\t35\\tpunct\\t_\\t_\\n37\\ttai\\ttai\\tCONJ\\t_\\t_\\t22\\tcc\\t_\\t_\\n38\\ttoiminnallinen\\ttoiminnallinen\\tADJ\\t_\\tCase=Nom|Degree=Pos|Number=Sing\\t39\\tamod\\t_\\t_\\n39\\tjousto\\tjousto\\tNOUN\\t_\\tCase=Nom|Number=Sing\\t22\\tconj\\t_\\t_\\n40\\t)\\t)\\tPUNCT\\t_\\t_\\t9\\tpunct\\t_\\t_\\n41\\t.\\t.\\tPUNCT\\t_\\t_\\t4\\tpunct\\t_\\t_\\n</sentence>\\n</paragraph>\\n<paragraph>\\n<sentence>\\n1\\tJoustavuus\\tjoustavuus\\tNOUN\\t_\\tCase=Nom|Number=Sing\\t4\\tnsubj\\t_\\t_\\n2\\tlyhytaikaisessa\\tlyhyt#aikainen\\tADJ\\t_\\tCase=Ine|Degree=Pos|Number=Sing\\t3\\tamod\\t_\\t_\\n3\\tennakoinnissa\\tennakointi\\tNOUN\\t_\\tCase=Ine|Number=Sing\\t1\\tnmod\\t_\\t_\\n4\\tmerkitsee\\tmerkitä\\tVERB\\t_\\tMood=Ind|Number=Sing|Person=3|Tense=Pres|VerbForm=Fin|Voice=Act\\t0\\troot\\t_\\t_\\n5\\tyritykselle\\tyritys\\tNOUN\\t_\\tCase=All|Number=Sing\\t4\\tnmod\\t_\\t_\\n6\\tsitä\\tse\\tPRON\\t_\\tCase=Par|Number=Sing|PronType=Dem\\t4\\tdobj\\t_\\t_\\n7\\t,\\t,\\tPUNCT\\t_\\t_\\t12\\tpunct\\t_\\t_\\n8\\tettä\\tettä\\tSCONJ\\t_\\t_\\t12\\tmark\\t_\\t_\\n9\\tse\\tse\\tPRON\\t_\\tCase=Nom|Number=Sing|PronType=Dem\\t12\\tnsubj\\t_\\t_\\n10\\tvoi\\tvoida\\tAUX\\t_\\tMood=Ind|Number=Sing|Person=3|Tense=Pres|VerbForm=Fin|Voice=Act\\t12\\taux\\t_\\t_\\n11\\tnopeasti\\tnopeasti\\tADV\\t_\\t_\\t12\\tadvmod\\t_\\t_\\n12\\tsopeuttaa\\tsopeuttaa\\tVERB\\t_\\tInfForm=1|Number=Sing|VerbForm=Inf|Voice=Act\\t6\\tccomp\\t_\\t_\\n13\\ttuotantokustannuksensa\\ttuotanto#kustannus\\tNOUN\\t_\\tCase=Gen|Number=Sing|Person[psor]=3\\t12\\tdobj\\t_\\t_\\n14\\tkysynnän\\tkysyntä\\tNOUN\\t_\\tCase=Gen|Number=Sing\\t12\\tnmod\\t_\\t_\\n15\\tmukaan\\tmukaan\\tADP\\t_\\tAdpType=Post\\t14\\tcase\\t_\\t_\\n16\\t.\\t.\\tPUNCT\\t_\\t_\\t4\\tpunct\\t_\\t_\\n</sentence>\\n<sentence>\\n1\\tTeknisten\\ttekninen\\tADJ\\t_\\tCase=Gen|Degree=Pos|Number=Plur\\t2\\tamod\\t_\\t_\\n2\\tominaisuuksien\\tominaisuus\\tNOUN\\t_\\tCase=Gen|Number=Plur\\t6\\tnmod\\t_\\t_\\n3\\tlisäksi\\tlisäksi\\tADP\\t_\\tAdpType=Post\\t2\\tcase\\t_\\t_\\n4\\tlyhytaikaista\\tlyhyt#aikainen\\tADJ\\t_\\tCase=Par|Degree=Pos|Number=Sing\\t5\\tamod\\t_\\t_\\n5\\tjoustavuutta\\tjoustavuus\\tNOUN\\t_\\tCase=Par|Number=Sing\\t6\\tdobj\\t_\\t_\\n6\\tlisää\\tlisätä\\tVERB\\t_\\tMood=Imp|Number=Sing|Person=2|VerbForm=Fin|Voice=Act\\t0\\troot\\t_\\t_\\n7\\tmahdollisuus\\tmahdollisuus\\tNOUN\\t_\\tCase=Nom|Number=Sing\\t6\\tdobj\\t_\\t_\\n8\\tnopeasti\\tnopeasti\\tADV\\t_\\t_\\t6\\tadvmod\\t_\\t_\\n9\\tirtisanoa\\tirtisanoa\\tVERB\\t_\\tInfForm=1|Number=Sing|VerbForm=Inf|Voice=Act\\t6\\txcomp:ds\\t_\\t_\\n10\\tja\\tja\\tCONJ\\t_\\t_\\t9\\tcc\\t_\\t_\\n11\\thankkia\\thankkia\\tVERB\\t_\\tInfForm=1|Number=Sing|VerbForm=Inf|Voice=Act\\t9\\tconj\\t_\\t_\\n12\\ttyöntekijöitä\\ttyöntekijä\\tNOUN\\t_\\tCase=Par|Number=Plur\\t11\\tdobj\\t_\\t_\\n13\\t.\\t.\\tPUNCT\\t_\\t_\\t6\\tpunct\\t_\\t_\\n</sentence>\\n<sentence>\\n1\\tJoustavuus\\tjoustavuus\\tNOUN\\t_\\tCase=Nom|Number=Sing\\t4\\tnsubj\\t_\\t_\\n2\\tpitkäaikaisessa\\tpitkä#aikainen\\tADJ\\t_\\tCase=Ine|Degree=Pos|Number=Sing\\t3\\tamod\\t_\\t_\\n3\\tsopeutumisessa\\tsopeutua\\tNOUN\\t_\\tCase=Ine|Derivation=Minen|Number=Sing\\t1\\tnmod\\t_\\t_\\n4\\tedellyttää\\tedellyttää\\tVERB\\t_\\tMood=Ind|Number=Sing|Person=3|Tense=Pres|VerbForm=Fin|Voice=Act\\t0\\troot\\t_\\t_\\n5\\tyritykseltä\\tyritys\\tNOUN\\t_\\tCase=Abl|Number=Sing\\t4\\tnmod\\t_\\t_\\n6\\tkykyä\\tkyky\\tNOUN\\t_\\tCase=Par|Number=Sing\\t4\\tdobj\\t_\\t_\\n7\\tkehittää\\tkehittää\\tVERB\\t_\\tInfForm=1|Number=Sing|VerbForm=Inf|Voice=Act\\t6\\tacl\\t_\\t_\\n8\\tuusia\\tuusi\\tADJ\\t_\\tCase=Par|Degree=Pos|Number=Plur\\t9\\tamod\\t_\\t_\\n9\\ttuotteita\\ttuote\\tNOUN\\t_\\tCase=Par|Number=Plur\\t7\\tdobj\\t_\\t_\\n10\\tja\\tja\\tCONJ\\t_\\t_\\t9\\tcc\\t_\\t_\\n11\\tomaa\\toma\\tADJ\\t_\\tCase=Par|Degree=Pos|Number=Sing\\t12\\tamod\\t_\\t_\\n12\\ttuotantoprosessiaan\\ttuotanto#prosessi\\tNOUN\\t_\\tCase=Par|Number=Sing|Person[psor]=3\\t9\\tconj\\t_\\t_\\n13\\t,\\t,\\tPUNCT\\t_\\t_\\t15\\tpunct\\t_\\t_\\n14\\tmikä\\tmikä\\tPRON\\t_\\tCase=Nom|Number=Sing|PronType=Rel\\t15\\tnsubj\\t_\\t_\\n15\\tauttaa\\tauttaa\\tVERB\\t_\\tMood=Ind|Number=Sing|Person=3|Tense=Pres|VerbForm=Fin|Voice=Act\\t12\\tacl:relcl\\t_\\t_\\n16\\tyritystä\\tyritys\\tNOUN\\t_\\tCase=Par|Number=Sing\\t17\\tnsubj\\t_\\t_\\n17\\tsopeutumaan\\tsopeutua\\tVERB\\t_\\tCase=Ill|InfForm=3|Number=Sing|VerbForm=Inf|Voice=Act\\t15\\txcomp:ds\\t_\\t_\\n18\\tuudenlaisiin\\tuudenlainen\\tADJ\\t_\\tCase=Ill|Degree=Pos|Number=Plur\\t19\\tamod\\t_\\t_\\n19\\tmarkkinatilanteisiin\\tmarkkina#tilanne\\tNOUN\\t_\\tCase=Ill|Number=Plur\\t17\\tnmod\\t_\\t_\\n20\\t.\\t.\\tPUNCT\\t_\\t_\\t4\\tpunct\\t_\\t_\\n</sentence>\\n</paragraph>\\n<paragraph>\\n<sentence>\\n1\\tYrityksiin\\tyritys\\tNOUN\\t_\\tCase=Ill|Number=Plur\\t2\\tnmod\\t_\\t_\\n2\\tkohdistuvat\\tkohdistua\\tVERB\\t_\\tMood=Ind|Number=Plur|Person=3|Tense=Pres|VerbForm=Fin|Voice=Act\\t4\\tacl\\t_\\t_\\n3\\ttoimialan\\ttoimi#ala\\tNOUN\\t_\\tCase=Gen|Number=Sing\\t4\\tnmod:poss\\t_\\t_\\n4\\tkilpailuvoimat\\tkilpailu#voima\\tNOUN\\t_\\tCase=Nom|Number=Plur\\t5\\tnsubj\\t_\\t_\\n5\\taiheuttavat\\taiheuttaa\\tVERB\\t_\\tMood=Ind|Number=Plur|Person=3|Tense=Pres|VerbForm=Fin|Voice=Act\\t0\\troot\\t_\\t_\\n6\\ttarvetta\\ttarve\\tNOUN\\t_\\tCase=Par|Number=Sing\\t5\\tdobj\\t_\\t_\\n7\\tsekä\\tsekä\\tCONJ\\t_\\t_\\t8\\tcc:preconj\\t_\\t_\\n8\\tlyhytaikaiselle\\tlyhyt#aikainen\\tADJ\\t_\\tCase=All|Degree=Pos|Number=Sing\\t11\\tamod\\t_\\t_\\n9\\tettä\\tettä\\tCONJ\\t_\\t_\\t8\\tcc\\t_\\t_\\n10\\tpitkäaikaiselle\\tpitkä#aikainen\\tADJ\\t_\\tCase=All|Degree=Pos|Number=Sing\\t8\\tconj\\t_\\t_\\n11\\tjoustavuudelle\\tjoustavuus\\tNOUN\\t_\\tCase=All|Number=Sing\\t5\\tnmod\\t_\\t_\\n12\\t.\\t.\\tPUNCT\\t_\\t_\\t5\\tpunct\\t_\\t_\\n</sentence>\\n<sentence>\\n1\\tUsein\\tusein\\tADV\\t_\\t_\\t3\\tadvmod\\t_\\t_\\n2\\tvoimat\\tvoima\\tNOUN\\t_\\tCase=Nom|Number=Plur\\t3\\tnsubj\\t_\\t_\\n3\\tvaikuttavat\\tvaikuttaa\\tVERB\\t_\\tMood=Ind|Number=Plur|Person=3|Tense=Pres|VerbForm=Fin|Voice=Act\\t0\\troot\\t_\\t_\\n4\\tsamaankin\\tsama\\tPRON\\t_\\tCase=Ill|Clitic=Kin|Number=Sing|PronType=Ind\\t5\\tdet\\t_\\t_\\n5\\tyritykseen\\tyritys\\tNOUN\\t_\\tCase=Ill|Number=Sing\\t3\\tnmod\\t_\\t_\\n6\\tniin\\tniin\\tADV\\t_\\t_\\t3\\tadvmod\\t_\\t_\\n7\\t,\\t,\\tPUNCT\\t_\\t_\\t12\\tpunct\\t_\\t_\\n8\\tettä\\tettä\\tSCONJ\\t_\\t_\\t12\\tmark\\t_\\t_\\n9\\tsen\\tse\\tPRON\\t_\\tCase=Gen|Number=Sing|PronType=Dem\\t12\\tdobj\\t_\\t_\\n10\\ton\\tolla\\tAUX\\t_\\tMood=Ind|Number=Sing|Person=3|Tense=Pres|VerbForm=Fin|Voice=Act\\t12\\tauxpass\\t_\\t_\\n11\\tsamanaikaisesti\\tsamanaikaisesti\\tADV\\t_\\t_\\t12\\tadvmod\\t_\\t_\\n12\\tkäytettävä\\tkäyttää\\tVERB\\t_\\tCase=Nom|Degree=Pos|Number=Sing|PartForm=Pres|VerbForm=Part|Voice=Pass\\t6\\tccomp\\t_\\t_\\n13\\tkahta\\tkaksi\\tNUM\\t_\\tCase=Par|Number=Sing|NumType=Card\\t16\\tnummod\\t_\\t_\\n14\\terilaista\\terilainen\\tADJ\\t_\\tCase=Par|Degree=Pos|Number=Sing\\t16\\tamod\\t_\\t_\\n15\\thenkilöstöhallinnan\\thenkilöstö#hallinta\\tNOUN\\t_\\tCase=Gen|Number=Sing\\t16\\tnmod:poss\\t_\\t_\\n16\\tstrategiaa\\tstrategia\\tNOUN\\t_\\tCase=Par|Number=Sing\\t12\\tdobj\\t_\\t_\\n17\\t.\\t.\\tPUNCT\\t_\\t_\\t3\\tpunct\\t_\\t_\\n</sentence>\\n</paragraph>\\n<paragraph>\\n<sentence>\\n1\\tTähän\\ttämä\\tPRON\\t_\\tCase=Ill|Number=Sing|PronType=Dem\\t2\\tdet\\t_\\t_\\n2\\tilmiöön\\tilmiö\\tNOUN\\t_\\tCase=Ill|Number=Sing\\t3\\tnmod\\t_\\t_\\n3\\tliittyvien\\tliittyä\\tVERB\\t_\\tCase=Gen|Degree=Pos|Number=Plur|PartForm=Pres|VerbForm=Part|Voice=Act\\t4\\tacl\\t_\\t_\\n4\\thavaintojen\\thavainto\\tNOUN\\t_\\tCase=Gen|Number=Plur\\t5\\tnmod:poss\\t_\\t_\\n5\\tpohjalta\\tpohja\\tNOUN\\t_\\tCase=Abl|Number=Sing\\t8\\tnmod\\t_\\t_\\n6\\tAtkinson\\tAtkinson\\tPROPN\\t_\\tCase=Nom|Number=Sing\\t8\\tnsubj\\t_\\t_\\n7\\ton\\tolla\\tAUX\\t_\\tMood=Ind|Number=Sing|Person=3|Tense=Pres|VerbForm=Fin|Voice=Act\\t8\\taux\\t_\\t_\\n8\\tkehittänyt\\tkehittää\\tVERB\\t_\\tCase=Nom|Degree=Pos|Number=Sing|PartForm=Past|VerbForm=Part|Voice=Act\\t0\\troot\\t_\\t_\\n9\\tjoustavan\\tjoustava\\tADJ\\t_\\tCase=Gen|Degree=Pos|Number=Sing\\t10\\tamod\\t_\\t_\\n10\\tyrityksen\\tyritys\\tNOUN\\t_\\tCase=Gen|Number=Sing\\t11\\tnmod:poss\\t_\\t_\\n11\\tmallin\\tmalli\\tNOUN\\t_\\tCase=Gen|Number=Sing\\t8\\tdobj\\t_\\t_\\n12\\t.\\t.\\tPUNCT\\t_\\t_\\t8\\tpunct\\t_\\t_\\n</sentence>\\n<sentence>\\n1\\tMallin\\tmalli\\tNOUN\\t_\\tCase=Gen|Number=Sing\\t2\\tnmod:poss\\t_\\t_\\n2\\tydin\\tydin\\tNOUN\\t_\\tCase=Nom|Number=Sing\\t3\\tnsubj\\t_\\t_\\n3\\tkoostuu\\tkoostua\\tVERB\\t_\\tMood=Ind|Number=Sing|Person=3|Tense=Pres|VerbForm=Fin|Voice=Act\\t0\\troot\\t_\\t_\\n4\\tpitkäaikaisissa\\tpitkä#aikainen\\tADJ\\t_\\tCase=Ine|Degree=Pos|Number=Plur\\t7\\tamod\\t_\\t_\\n5\\tja\\tja\\tCONJ\\t_\\t_\\t4\\tcc\\t_\\t_\\n6\\tpysyvissä\\tpysyvä\\tADJ\\t_\\tCase=Ine|Degree=Pos|Number=Plur\\t4\\tconj\\t_\\t_\\n7\\ttyösuhteissa\\ttyö#suhde\\tNOUN\\t_\\tCase=Ine|Number=Plur\\t8\\tnmod\\t_\\t_\\n8\\tolevista\\tolla\\tVERB\\t_\\tCase=Ela|Degree=Pos|Number=Plur|PartForm=Pres|VerbForm=Part|Voice=Act\\t11\\tacl\\t_\\t_\\n9\\t,\\t,\\tPUNCT\\t_\\t_\\t11\\tpunct\\t_\\t_\\n10\\ttaitavista\\ttaitava\\tADJ\\t_\\tCase=Ela|Degree=Pos|Number=Plur\\t11\\tamod\\t_\\t_\\n11\\ttyöntekijöistä\\ttyöntekijä\\tNOUN\\t_\\tCase=Ela|Number=Plur\\t3\\tnmod\\t_\\t_\\n12\\t,\\t,\\tPUNCT\\t_\\t_\\t11\\tpunct\\t_\\t_\\n13\\tsuunnittelijoista\\tsuunnittelija\\tNOUN\\t_\\tCase=Ela|Number=Plur\\t11\\tconj\\t_\\t_\\n14\\t,\\t,\\tPUNCT\\t_\\t_\\t11\\tpunct\\t_\\t_\\n15\\tjohtajista\\tjohtaja\\tNOUN\\t_\\tCase=Ela|Number=Plur\\t11\\tconj\\t_\\t_\\n16\\tjne\\tjne\\tADV\\t_\\tAbbr=Yes\\t15\\tadvmod\\t_\\t_\\n17\\t.\\t.\\tPUNCT\\t_\\t_\\t3\\tpunct\\t_\\t_\\n</sentence>\\n<sentence>\\n1\\tHeidän\\thän\\tPRON\\t_\\tCase=Gen|Number=Plur|Person=3|PronType=Prs\\t2\\tnmod:poss\\t_\\t_\\n2\\ttyösuhteensa\\ttyö#suhde\\tNOUN\\t_\\tCase=Gen|Number=Sing|Person[psor]=3\\t3\\tnmod:poss\\t_\\t_\\n3\\tyritykseen\\tyritys\\tNOUN\\t_\\tCase=Ill|Number=Sing\\t5\\tnmod\\t_\\t_\\n4\\ton\\tolla\\tVERB\\t_\\tMood=Ind|Number=Sing|Person=3|Tense=Pres|VerbForm=Fin|Voice=Act\\t5\\tcop\\t_\\t_\\n5\\tturvallinen\\tturvallinen\\tADJ\\t_\\tCase=Nom|Degree=Pos|Number=Sing\\t0\\troot\\t_\\t_\\n6\\t,\\t,\\tPUNCT\\t_\\t_\\t5\\tpunct\\t_\\t_\\n7\\tmutta\\tmutta\\tCONJ\\t_\\t_\\t5\\tcc\\t_\\t_\\n8\\ttyönkuva\\ttyönkuva\\tNOUN\\t_\\tCase=Nom|Number=Sing\\t12\\tnsubj\\t_\\t_\\n9\\tja\\tja\\tCONJ\\t_\\t_\\t8\\tcc\\t_\\t_\\n10\\tprojektit\\tprojekti\\tNOUN\\t_\\tCase=Nom|Number=Plur\\t8\\tconj\\t_\\t_\\n11\\tsaattavat\\tsaattaa\\tAUX\\t_\\tMood=Ind|Number=Plur|Person=3|Tense=Pres|VerbForm=Fin|Voice=Act\\t12\\taux\\t_\\t_\\n12\\tmuuttua\\tmuuttua\\tVERB\\t_\\tInfForm=1|Number=Sing|VerbForm=Inf|Voice=Act\\t5\\tconj\\t_\\t_\\n13\\tmonia\\tmoni\\tPRON\\t_\\tCase=Par|Number=Plur|PronType=Ind\\t14\\tdet\\t_\\t_\\n14\\tkertoja\\tkerta\\tNOUN\\t_\\tCase=Par|Number=Plur\\t12\\tdobj\\t_\\t_\\n15\\ttyösuhteen\\ttyö#suhde\\tNOUN\\t_\\tCase=Gen|Number=Sing\\t16\\tnmod:poss\\t_\\t_\\n16\\taikana\\taika\\tNOUN\\t_\\tCase=Ess|Number=Sing\\t12\\tnmod\\t_\\t_\\n17\\t.\\t.\\tPUNCT\\t_\\t_\\t5\\tpunct\\t_\\t_\\n</sentence>\\n<sentence>\\n1\\tReunaryhmän\\treuna#ryhmä\\tNOUN\\t_\\tCase=Gen|Number=Sing\\t2\\tnmod:poss\\t_\\t_\\n2\\ttyöntekijöiden\\ttyöntekijä\\tNOUN\\t_\\tCase=Gen|Number=Plur\\t3\\tnmod:poss\\t_\\t_\\n3\\ttyösuhteet\\ttyö#suhde\\tNOUN\\t_\\tCase=Nom|Number=Plur\\t6\\tnsubj:cop\\t_\\t_\\n4\\tovat\\tolla\\tVERB\\t_\\tMood=Ind|Number=Plur|Person=3|Tense=Pres|VerbForm=Fin|Voice=Act\\t6\\tcop\\t_\\t_\\n5\\tmyös\\tmyös\\tADV\\t_\\t_\\t6\\tadvmod\\t_\\t_\\n6\\tsäännöllisiä\\tsäännöllinen\\tADJ\\t_\\tCase=Par|Degree=Pos|Number=Plur\\t0\\troot\\t_\\t_\\n7\\t,\\t,\\tPUNCT\\t_\\t_\\t6\\tpunct\\t_\\t_\\n8\\tmutta\\tmutta\\tCONJ\\t_\\t_\\t6\\tcc\\t_\\t_\\n9\\tirtisanomisen\\tirtisanoa\\tNOUN\\t_\\tCase=Gen|Derivation=Minen|Number=Sing\\t10\\tnmod:poss\\t_\\t_\\n10\\tvaara\\tvaara\\tNOUN\\t_\\tCase=Nom|Number=Sing\\t12\\tnsubj:cop\\t_\\t_\\n11\\ton\\tolla\\tVERB\\t_\\tMood=Ind|Number=Sing|Person=3|Tense=Pres|VerbForm=Fin|Voice=Act\\t12\\tcop\\t_\\t_\\n12\\tsuurempi\\tsuuri\\tADJ\\t_\\tCase=Nom|Degree=Cmp|Number=Sing\\t6\\tconj\\t_\\t_\\n13\\tja\\tja\\tCONJ\\t_\\t_\\t6\\tcc\\t_\\t_\\n14\\turakehityksen\\tura#kehitys\\tNOUN\\t_\\tCase=Gen|Number=Sing\\t15\\tnmod:poss\\t_\\t_\\n15\\tmahdollisuudet\\tmahdollisuus\\tNOUN\\t_\\tCase=Nom|Number=Plur\\t16\\tnsubj:cop\\t_\\t_\\n16\\tpienemmät\\tpieni\\tADJ\\t_\\tCase=Nom|Degree=Cmp|Number=Plur\\t6\\tconj\\t_\\t_\\n17\\t.\\t.\\tPUNCT\\t_\\t_\\t6\\tpunct\\t_\\t_\\n</sentence>\\n<sentence>\\n1\\tReunaryhmään\\treuna#ryhmä\\tNOUN\\t_\\tCase=Ill|Number=Sing\\t2\\tnmod\\t_\\t_\\n2\\tkohdistuvat\\tkohdistua\\tVERB\\t_\\tMood=Ind|Number=Plur|Person=3|Tense=Pres|VerbForm=Fin|Voice=Act\\t0\\troot\\t_\\t_\\n3\\thenkilöstöhallinnon\\thenkilöstö#hallinto\\tNOUN\\t_\\tCase=Gen|Number=Sing\\t4\\tnmod:poss\\t_\\t_\\n4\\ttoimenpiteet\\ttoimen#pide\\tNOUN\\t_\\tCase=Nom|Number=Plur\\t8\\tnsubj:cop\\t_\\t_\\n5\\tovat\\tolla\\tVERB\\t_\\tMood=Ind|Number=Plur|Person=3|Tense=Pres|VerbForm=Fin|Voice=Act\\t8\\tcop\\t_\\t_\\n6\\tusein\\tusein\\tADV\\t_\\t_\\t8\\tadvmod\\t_\\t_\\n7\\tvähemmän\\tvähemmän\\tADV\\t_\\t_\\t8\\tadvmod\\t_\\t_\\n8\\tmotivoivia\\tmotivoida\\tADJ\\t_\\tCase=Par|Degree=Pos|Number=Plur\\t2\\tnsubj\\t_\\t_\\n9\\tja\\tja\\tCONJ\\t_\\t_\\t8\\tcc\\t_\\t_\\n10\\tenemmän\\tenemmän\\tADV\\t_\\t_\\t11\\tadvmod\\t_\\t_\\n11\\tfordistisia\\tfordistisia\\tADJ\\t_\\tCase=Par|Degree=Pos|Number=Plur\\t8\\tconj\\t_\\t_\\n12\\t.\\t.\\tPUNCT\\t_\\t_\\t2\\tpunct\\t_\\t_\\n</sentence>\\n<sentence>\\n1\\tTärkeitä\\ttärkeä\\tADJ\\t_\\tCase=Par|Degree=Pos|Number=Plur\\t3\\tamod\\t_\\t_\\n2\\tjouston\\tjousto\\tNOUN\\t_\\tCase=Gen|Number=Sing\\t3\\tnmod:poss\\t_\\t_\\n3\\tmekanismeja\\tmekanismi\\tNOUN\\t_\\tCase=Par|Number=Plur\\t6\\tnsubj:cop\\t_\\t_\\n4\\tovat\\tolla\\tVERB\\t_\\tMood=Ind|Number=Plur|Person=3|Tense=Pres|VerbForm=Fin|Voice=Act\\t6\\tcop\\t_\\t_\\n5\\tmyös\\tmyös\\tADV\\t_\\t_\\t6\\tadvmod\\t_\\t_\\n6\\talihankinta\\tali#hankinta\\tNOUN\\t_\\tCase=Nom|Number=Sing\\t0\\troot\\t_\\t_\\n7\\t,\\t,\\tPUNCT\\t_\\t_\\t6\\tpunct\\t_\\t_\\n8\\tulkoistaminen\\tulkoistaa\\tNOUN\\t_\\tCase=Nom|Derivation=Minen|Number=Sing\\t6\\tconj\\t_\\t_\\n9\\tja\\tja\\tCONJ\\t_\\t_\\t6\\tcc\\t_\\t_\\n10\\tvuokratyövoiman\\tvuokra#työ#voima\\tNOUN\\t_\\tCase=Gen|Number=Sing\\t11\\tnmod:gobj\\t_\\t_\\n11\\tkäyttö\\tkäyttö\\tNOUN\\t_\\tCase=Nom|Number=Sing\\t6\\tconj\\t_\\t_\\n12\\t.\\t.\\tPUNCT\\t_\\t_\\t6\\tpunct\\t_\\t_\\n</sentence>\\n</paragraph>\\n<paragraph>\\n<sentence>\\n1\\tJoustavuutta\\tjoustavuus\\tNOUN\\t_\\tCase=Par|Number=Sing\\t4\\tdobj\\t_\\t_\\n2\\tvoidaan\\tvoida\\tAUX\\t_\\tMood=Ind|Tense=Pres|VerbForm=Fin|Voice=Pass\\t4\\taux\\t_\\t_\\n3\\tmyös\\tmyös\\tADV\\t_\\t_\\t4\\tadvmod\\t_\\t_\\n4\\tsoveltaa\\tsoveltaa\\tVERB\\t_\\tInfForm=1|Number=Sing|VerbForm=Inf|Voice=Act\\t0\\troot\\t_\\t_\\n5\\tesimerkiksi\\tesimerkiksi\\tADV\\t_\\t_\\t9\\tadvmod\\t_\\t_\\n6\\ttyöttömyysvakuutuksen\\ttyöttömyys#vakuutus\\tNOUN\\t_\\tCase=Gen|Number=Sing\\t7\\tnmod:poss\\t_\\t_\\n7\\tpiirissä\\tpiiri\\tNOUN\\t_\\tCase=Ine|Number=Sing\\t8\\tnmod\\t_\\t_\\n8\\tolevissa\\tolla\\tVERB\\t_\\tCase=Ine|Degree=Pos|Number=Plur|PartForm=Pres|VerbForm=Part|Voice=Act\\t9\\tacl\\t_\\t_\\n9\\ttyöttömyyskorvauksissa\\ttyöttömyys#korvaus\\tNOUN\\t_\\tCase=Ine|Number=Plur\\t4\\tnmod\\t_\\t_\\n10\\t.\\t.\\tPUNCT\\t_\\t_\\t4\\tpunct\\t_\\t_\\n</sentence>\\n<sentence>\\n1\\tEsimerkiksi\\tesimerkiksi\\tADV\\t_\\t_\\t4\\tadvmod\\t_\\t_\\n2\\tansiosidonnaisen\\tansio#sidonnainen\\tADJ\\t_\\tCase=Gen|Degree=Pos|Number=Sing\\t3\\tamod\\t_\\t_\\n3\\ttyöttömyyskorvauksen\\ttyöttömyys#korvaus\\tNOUN\\t_\\tCase=Gen|Number=Sing\\t4\\tnmod:poss\\t_\\t_\\n4\\tjoustavuus\\tjoustavuus\\tNOUN\\t_\\tCase=Nom|Number=Sing\\t6\\tdobj\\t_\\t_\\n5\\tvoidaan\\tvoida\\tAUX\\t_\\tMood=Ind|Tense=Pres|VerbForm=Fin|Voice=Pass\\t6\\taux\\t_\\t_\\n6\\ttoteuttaa\\ttoteuttaa\\tVERB\\t_\\tInfForm=1|Number=Sing|VerbForm=Inf|Voice=Act\\t0\\troot\\t_\\t_\\n7\\tpienentämällä\\tpienentää\\tVERB\\t_\\tCase=Ade|InfForm=3|Number=Sing|VerbForm=Inf|Voice=Act\\t6\\tadvcl\\t_\\t_\\n8\\ttyöttömyyskorvauksen\\ttyöttömyys#korvaus\\tNOUN\\t_\\tCase=Gen|Number=Sing\\t9\\tnmod:poss\\t_\\t_\\n9\\tmäärää\\tmäärä\\tNOUN\\t_\\tCase=Par|Number=Sing\\t7\\tdobj\\t_\\t_\\n10\\tsekä\\tsekä\\tCONJ\\t_\\t_\\t7\\tcc\\t_\\t_\\n11\\tlyhentämällä\\tlyhentää\\tVERB\\t_\\tCase=Ade|InfForm=3|Number=Sing|VerbForm=Inf|Voice=Act\\t7\\tconj\\t_\\t_\\n12\\tsen\\tse\\tPRON\\t_\\tCase=Gen|Number=Sing|PronType=Dem\\t13\\tnmod:poss\\t_\\t_\\n13\\tsaantiaikaa\\tsaanti#aika\\tNOUN\\t_\\tCase=Par|Number=Sing\\t11\\tdobj\\t_\\t_\\n14\\t.\\t.\\tPUNCT\\t_\\t_\\t6\\tpunct\\t_\\t_\\n</sentence>\\n<sentence>\\n1\\tTyöttömyyskorvauksissa\\ttyöttömyys#korvaus\\tNOUN\\t_\\tCase=Ine|Number=Plur\\t3\\tnmod\\t_\\t_\\n2\\tjoustaminen\\tjoustaa\\tNOUN\\t_\\tCase=Nom|Derivation=Minen|Number=Sing\\t3\\tnsubj\\t_\\t_\\n3\\tperustuu\\tperustua\\tVERB\\t_\\tMood=Ind|Number=Sing|Person=3|Tense=Pres|VerbForm=Fin|Voice=Act\\t0\\troot\\t_\\t_\\n4\\tideaan\\tidea\\tNOUN\\t_\\tCase=Ill|Number=Sing\\t3\\tnmod\\t_\\t_\\n5\\t,\\t,\\tPUNCT\\t_\\t_\\t8\\tpunct\\t_\\t_\\n6\\tettä\\tettä\\tSCONJ\\t_\\t_\\t8\\tmark\\t_\\t_\\n7\\ttyötön\\ttyötön\\tADJ\\t_\\tCase=Nom|Degree=Pos|Number=Sing\\t8\\tnsubj\\t_\\t_\\n8\\thakeutuisi\\thakeutua\\tVERB\\t_\\tMood=Cnd|Number=Sing|Person=3|VerbForm=Fin|Voice=Act\\t3\\tadvcl\\t_\\t_\\n9\\ttöihin\\ttyö\\tNOUN\\t_\\tCase=Ill|Number=Plur\\t8\\tnmod\\t_\\t_\\n10\\t,\\t,\\tPUNCT\\t_\\t_\\t14\\tpunct\\t_\\t_\\n11\\tmikäli\\tmikäli\\tSCONJ\\t_\\t_\\t14\\tmark\\t_\\t_\\n12\\thän\\thän\\tPRON\\t_\\tCase=Nom|Number=Sing|Person=3|PronType=Prs\\t14\\tnsubj\\t_\\t_\\n13\\tei\\tei\\tVERB\\t_\\tNegative=Yes|Number=Sing|Person=3|VerbForm=Fin|Voice=Act\\t14\\tneg\\t_\\t_\\n14\\tsaa\\tsaada\\tVERB\\t_\\tConnegative=Yes|Mood=Ind|Tense=Pres|VerbForm=Fin\\t8\\tccomp\\t_\\t_\\n15\\ttoimeentuloonsa\\ttoimeentulo\\tNOUN\\t_\\tCase=Ill|Number=Sing|Person[psor]=3\\t14\\tnmod\\t_\\t_\\n16\\triittävää\\triittävä\\tADJ\\t_\\tCase=Par|Degree=Pos|Number=Sing\\t17\\tamod\\t_\\t_\\n17\\ttyöttömyyskorvausta\\ttyöttömyys#korvaus\\tNOUN\\t_\\tCase=Par|Number=Sing\\t14\\tdobj\\t_\\t_\\n18\\t.\\t.\\tPUNCT\\t_\\t_\\t3\\tpunct\\t_\\t_\\n</sentence>\\n<sentence>\\n1\\tTämä\\ttämä\\tPRON\\t_\\tCase=Nom|Number=Sing|PronType=Dem\\t3\\tnsubj\\t_\\t_\\n2\\ttosin\\ttosin\\tADV\\t_\\t_\\t3\\tadvmod\\t_\\t_\\n3\\tvaikeuttaa\\tvaikeuttaa\\tVERB\\t_\\tMood=Ind|Number=Sing|Person=3|Tense=Pres|VerbForm=Fin|Voice=Act\\t0\\troot\\t_\\t_\\n4\\tniiden\\tse\\tPRON\\t_\\tCase=Gen|Number=Plur|PronType=Dem\\t5\\tnmod:poss\\t_\\t_\\n5\\tasemaa\\tasema\\tNOUN\\t_\\tCase=Par|Number=Sing\\t3\\tdobj\\t_\\t_\\n6\\t,\\t,\\tPUNCT\\t_\\t_\\t11\\tpunct\\t_\\t_\\n7\\tjotka\\tjoka\\tPRON\\t_\\tCase=Nom|Number=Plur|PronType=Rel\\t11\\tnsubj\\t_\\t_\\n8\\teivät\\tei\\tVERB\\t_\\tNegative=Yes|Number=Plur|Person=3|VerbForm=Fin|Voice=Act\\t11\\tneg\\t_\\t_\\n9\\tyrityksistä\\tyritys\\tNOUN\\t_\\tCase=Ela|Number=Plur\\t11\\tnmod\\t_\\t_\\n10\\thuolimatta\\thuolimatta\\tADP\\t_\\tAdpType=Post\\t9\\tcase\\t_\\t_\\n11\\tsaa\\tsaada\\tVERB\\t_\\tMood=Ind|Number=Sing|Person=3|Tense=Pres|VerbForm=Fin|Voice=Act\\t5\\tacl:relcl\\t_\\t_\\n12\\ttöitä\\ttyö\\tNOUN\\t_\\tCase=Par|Number=Plur\\t11\\tdobj\\t_\\t_\\n13\\t.\\t.\\tPUNCT\\t_\\t_\\t3\\tpunct\\t_\\t_\\n</sentence>\\n</paragraph>\\n<paragraph>\\n<sentence>\\n1\\tVuonna\\tvuosi\\tNOUN\\t_\\tCase=Ess|Number=Sing\\t5\\tnmod\\t_\\t_\\n2\\t2015\\t2015\\tNUM\\t_\\tNumType=Card\\t1\\tnummod\\t_\\t_\\n3\\tSuomessa\\tSuomi\\tPROPN\\t_\\tCase=Ine|Number=Sing\\t5\\tnmod\\t_\\t_\\n4\\ton\\tolla\\tAUX\\t_\\tMood=Ind|Number=Sing|Person=3|Tense=Pres|VerbForm=Fin|Voice=Act\\t5\\tauxpass\\t_\\t_\\n5\\talettu\\talkaa\\tVERB\\t_\\tCase=Nom|Degree=Pos|Number=Sing|PartForm=Past|VerbForm=Part|Voice=Pass\\t0\\troot\\t_\\t_\\n6\\tajamaan\\tajaa\\tVERB\\t_\\tCase=Ill|InfForm=3|Number=Sing|VerbForm=Inf|Voice=Act\\t5\\txcomp\\t_\\t_\\n7\\tjoustavuusideaa\\tjoustavuus#idea\\tNOUN\\t_\\tCase=Par|Number=Sing\\t6\\tdobj\\t_\\t_\\n8\\t,\\t,\\tPUNCT\\t_\\t_\\t18\\tpunct\\t_\\t_\\n9\\tjonka\\tjoka\\tPRON\\t_\\tCase=Gen|Number=Sing|PronType=Rel\\t18\\tnmod\\t_\\t_\\n10\\tmukaan\\tmukaan\\tADP\\t_\\tAdpType=Post\\t9\\tcase\\t_\\t_\\n11\\tkorvaus\\tkorvaus\\tNOUN\\t_\\tCase=Nom|Number=Sing\\t18\\tnsubj:cop\\t_\\t_\\n12\\tvoisi\\tvoida\\tAUX\\t_\\tMood=Cnd|Number=Sing|Person=3|VerbForm=Fin|Voice=Act\\t18\\taux\\t_\\t_\\n13\\taluksi\\taluksi\\tADV\\t_\\t_\\t18\\tadvmod\\t_\\t_\\n14\\tolla\\tolla\\tVERB\\t_\\tInfForm=1|Number=Sing|VerbForm=Inf|Voice=Act\\t18\\tcop\\t_\\t_\\n15\\tlyhytaikaisesti\\tlyhyt#aikainen\\tADV\\t_\\tDerivation=Sti\\t18\\tadvmod\\t_\\t_\\n16\\ttyöttömille\\ttyötön\\tADJ\\t_\\tCase=All|Degree=Pos|Number=Plur\\t18\\tnmod\\t_\\t_\\n17\\tjopa\\tjopa\\tADV\\t_\\t_\\t18\\tadvmod\\t_\\t_\\n18\\tkorkeampi\\tkorkea\\tADJ\\t_\\tCase=Nom|Degree=Cmp|Number=Sing\\t7\\tacl:relcl\\t_\\t_\\n19\\tkuin\\tkuin\\tSCONJ\\t_\\t_\\t20\\tmark\\t_\\t_\\n20\\tnyt\\tnyt\\tADV\\t_\\t_\\t18\\tadvcl\\t_\\t_\\n21\\t,\\t,\\tPUNCT\\t_\\t_\\t18\\tpunct\\t_\\t_\\n22\\tmutta\\tmutta\\tCONJ\\t_\\t_\\t18\\tcc\\t_\\t_\\n23\\tpitkäaikaistyöttömän\\tpitkä#aikainen#työtön\\tADJ\\t_\\tCase=Gen|Degree=Pos|Number=Sing\\t24\\tamod\\t_\\t_\\n24\\tasemaa\\tasema\\tNOUN\\t_\\tCase=Par|Number=Sing\\t25\\tdobj\\t_\\t_\\n25\\theikennettäisiin\\theikentää\\tVERB\\t_\\tMood=Cnd|VerbForm=Fin|Voice=Pass\\t18\\tconj\\t_\\t_\\n26\\tentisestään\\tentisestään\\tADV\\t_\\t_\\t25\\tadvmod\\t_\\t_\\n27\\tkorvauksen\\tkorvaus\\tNOUN\\t_\\tCase=Gen|Number=Sing\\t28\\tnsubj\\t_\\t_\\n28\\talentuessa\\talentua\\tVERB\\t_\\tCase=Ine|InfForm=2|Number=Sing|VerbForm=Inf|Voice=Act\\t25\\tadvcl\\t_\\t_\\n29\\t.\\t.\\tPUNCT\\t_\\t_\\t5\\tpunct\\t_\\t_\\n</sentence>\\n<sentence>\\n1\\tTätä\\ttämä\\tPRON\\t_\\tCase=Par|Number=Sing|PronType=Dem\\t2\\tdet\\t_\\t_\\n2\\tjärjestelmää\\tjärjestelmä\\tNOUN\\t_\\tCase=Par|Number=Sing\\t3\\tdobj\\t_\\t_\\n3\\tkutsutaan\\tkutsua\\tVERB\\t_\\tMood=Ind|Tense=Pres|VerbForm=Fin|Voice=Pass\\t0\\troot\\t_\\t_\\n4\\tmyös\\tmyös\\tADV\\t_\\t_\\t7\\tadvmod\\t_\\t_\\n5\\tns.\\tns.\\tADV\\t_\\tAbbr=Yes\\t6\\tadvmod\\t_\\t_\\n6\\tkannustavaksi\\tkannustaa\\tVERB\\t_\\tCase=Tra|Degree=Pos|Number=Sing|PartForm=Pres|VerbForm=Part|Voice=Act\\t7\\tacl\\t_\\t_\\n7\\tjärjestelmäksi\\tjärjestelmä\\tNOUN\\t_\\tCase=Tra|Number=Sing\\t3\\txcomp:ds\\t_\\t_\\n8\\t.\\t.\\tPUNCT\\t_\\t_\\t3\\tpunct\\t_\\t_\\n</sentence>\\n<sentence>\\n1\\tYleensä\\tyleensä\\tADV\\t_\\t_\\t5\\tadvmod\\t_\\t_\\n2\\tjoustavuutta\\tjoustavuus\\tNOUN\\t_\\tCase=Par|Number=Sing\\t5\\tdobj\\t_\\t_\\n3\\tja\\tja\\tCONJ\\t_\\t_\\t2\\tcc\\t_\\t_\\n4\\tkannustavuutta\\tkannustaa\\tNOUN\\t_\\tCase=Par|Derivation=Vs|Number=Sing\\t2\\tconj\\t_\\t_\\n5\\tajavat\\tajaa\\tVERB\\t_\\tMood=Ind|Number=Plur|Person=3|Tense=Pres|VerbForm=Fin|Voice=Act\\t0\\troot\\t_\\t_\\n6\\ttyönantajapuolen\\ttyönantajapuoli\\tNOUN\\t_\\tCase=Gen|Number=Sing\\t7\\tnmod:poss\\t_\\t_\\n7\\tedustajat\\tedustaja\\tNOUN\\t_\\tCase=Nom|Number=Plur\\t5\\tnsubj\\t_\\t_\\n8\\t,\\t,\\tPUNCT\\t_\\t_\\t12\\tpunct\\t_\\t_\\n9\\tkun\\tkun\\tADV\\t_\\t_\\t12\\tmark\\t_\\t_\\n10\\ttaas\\ttaas\\tSCONJ\\t_\\t_\\t9\\tmwe\\t_\\t_\\n11\\tAY-liike\\tAY-liike\\tPROPN\\t_\\tCase=Nom|Number=Sing\\t12\\tnsubj\\t_\\t_\\n12\\tvastustaa\\tvastustaa\\tVERB\\t_\\tMood=Ind|Number=Sing|Person=3|Tense=Pres|VerbForm=Fin|Voice=Act\\t5\\tadvcl\\t_\\t_\\n13\\ttyöntekijän\\ttyöntekijä\\tNOUN\\t_\\tCase=Gen|Number=Sing\\t14\\tnmod:poss\\t_\\t_\\n14\\taseman\\tasema\\tNOUN\\t_\\tCase=Gen|Number=Sing\\t15\\tnmod:gobj\\t_\\t_\\n15\\theikentämistä\\theikentää\\tNOUN\\t_\\tCase=Par|Derivation=Minen|Number=Sing\\t12\\tdobj\\t_\\t_\\n16\\t.\\t.\\tPUNCT\\t_\\t_\\t5\\tpunct\\t_\\t_\\n</sentence>\\n</paragraph>\\n'}, 'ilmastonmuutos': {'id': '154424', 'url': 'https://fi.wikipedia.org/wiki?curid=154424', 'content': '\\n<paragraph>\\n<sentence>\\n1\\tIlmastonmuutos\\tilmasto#muutos\\tNOUN\\t_\\tCase=Nom|Number=Sing\\t0\\troot\\t_\\t_\\n</sentence>\\n</paragraph>\\n<paragraph>\\n<sentence>\\n1\\tYleiskielessä\\tyleis#kieli\\tNOUN\\t_\\tCase=Ine|Number=Sing\\t5\\tnmod\\t_\\t_\\n2\\tkäsitteellä\\tkäsite\\tNOUN\\t_\\tCase=Ade|Number=Sing\\t3\\tnmod\\t_\\t_\\n3\\t\"ilmastonmuutos\\t\"ilmastonmuutos\\tNOUN\\t_\\tCase=Nom|Number=Sing\\t5\\tdobj\\t_\\t_\\n4\\t\"\\t\"\\tPUNCT\\t_\\t_\\t3\\tpunct\\t_\\t_\\n5\\ttarkoitetaan\\ttarkoittaa\\tVERB\\t_\\tMood=Ind|Tense=Pres|VerbForm=Fin|Voice=Pass\\t0\\troot\\t_\\t_\\n6\\tnykyistä\\tnykyinen\\tADJ\\t_\\tCase=Par|Degree=Pos|Number=Sing\\t7\\tamod\\t_\\t_\\n7\\tihmisen\\tihminen\\tNOUN\\t_\\tCase=Gen|Number=Sing\\t8\\tnmod:gsubj\\t_\\t_\\n8\\ttoiminnasta\\ttoiminta\\tNOUN\\t_\\tCase=Ela|Number=Sing\\t9\\tnmod\\t_\\t_\\n9\\tjohtuvaa\\tjohtua\\tVERB\\t_\\tCase=Par|Degree=Pos|Number=Sing|PartForm=Pres|VerbForm=Part|Voice=Act\\t17\\tacl\\t_\\t_\\n10\\t,\\t,\\tPUNCT\\t_\\t_\\t9\\tpunct\\t_\\t_\\n11\\tilmakehän\\tilma#kehä\\tNOUN\\t_\\tCase=Gen|Number=Sing\\t13\\tnmod:poss\\t_\\t_\\n12\\tlisääntyvästä\\tlisääntyä\\tVERB\\t_\\tCase=Ela|Degree=Pos|Number=Sing|PartForm=Pres|VerbForm=Part|Voice=Act\\t13\\tacl\\t_\\t_\\n13\\tkasvihuonekaasupitoisuudesta\\tkasvi#huone#kaasu#pitoisuus\\tNOUN\\t_\\tCase=Ela|Number=Sing\\t14\\tnmod\\t_\\t_\\n14\\taiheutuvaa\\taihe#utua\\tVERB\\t_\\tCase=Par|Degree=Pos|Number=Sing|PartForm=Pres|VerbForm=Part|Voice=Act\\t9\\tconj\\t_\\t_\\n15\\tglobaalia\\tglobaali\\tADJ\\t_\\tCase=Par|Degree=Pos|Number=Sing\\t17\\tamod\\t_\\t_\\n16\\tilmaston\\tilmasto\\tNOUN\\t_\\tCase=Gen|Number=Sing\\t17\\tnmod:gsubj\\t_\\t_\\n17\\tlämpenemistä\\tlämmetä\\tNOUN\\t_\\tCase=Par|Derivation=Minen|Number=Sing\\t5\\tdobj\\t_\\t_\\n18\\t,\\t,\\tPUNCT\\t_\\t_\\t20\\tpunct\\t_\\t_\\n19\\tjota\\tjoka\\tPRON\\t_\\tCase=Par|Number=Sing|PronType=Rel\\t20\\tdobj\\t_\\t_\\n20\\tkäsitellään\\tkäsitellä\\tVERB\\t_\\tMood=Ind|Tense=Pres|VerbForm=Fin|Voice=Pass\\t17\\tacl:relcl\\t_\\t_\\n21\\tomassa\\toma\\tADJ\\t_\\tCase=Ine|Degree=Pos|Number=Sing\\t22\\tamod\\t_\\t_\\n22\\tIlmaston\\tilmasto\\tNOUN\\t_\\tCase=Gen|Number=Sing\\t23\\tnmod:gsubj\\t_\\t_\\n23\\tlämpeneminen\\tlämmetä\\tNOUN\\t_\\tCase=Nom|Derivation=Minen|Number=Sing\\t20\\tdobj\\t_\\t_\\n24\\t-nimisessä\\tniminen\\tADJ\\t_\\tCase=Ine|Degree=Pos|Number=Sing\\t25\\tamod\\t_\\t_\\n25\\tartikkelissaan\\tartikkeli\\tNOUN\\t_\\tCase=Ine|Number=Sing|Person[psor]=3\\t23\\tnmod\\t_\\t_\\n26\\t.\\t.\\tPUNCT\\t_\\t_\\t5\\tpunct\\t_\\t_\\n</sentence>\\n<sentence>\\n1\\tTämä\\ttämä\\tPRON\\t_\\tCase=Nom|Number=Sing|PronType=Dem\\t2\\tdet\\t_\\t_\\n2\\tartikkeli\\tartikkeli\\tNOUN\\t_\\tCase=Nom|Number=Sing\\t4\\tnsubj:cop\\t_\\t_\\n3\\ton\\tolla\\tVERB\\t_\\tMood=Ind|Number=Sing|Person=3|Tense=Pres|VerbForm=Fin|Voice=Act\\t4\\tcop\\t_\\t_\\n4\\tyleiskatsaus\\tyleis#katsaus\\tNOUN\\t_\\tCase=Nom|Number=Sing\\t0\\troot\\t_\\t_\\n5\\tkaikista\\tkaikki\\tPRON\\t_\\tCase=Ela|Number=Plur|PronType=Ind\\t11\\tdet\\t_\\t_\\n6\\tpaikalliseen\\tpaikallinen\\tADJ\\t_\\tCase=Ill|Degree=Pos|Number=Sing\\t9\\tamod\\t_\\t_\\n7\\tja\\tja\\tCONJ\\t_\\t_\\t6\\tcc\\t_\\t_\\n8\\tmaailmanlaajuiseen\\tmaa#ilman#laajuinen\\tADJ\\t_\\tCase=Ill|Degree=Pos|Number=Sing\\t6\\tconj\\t_\\t_\\n9\\tilmastoon\\tilmasto\\tNOUN\\t_\\tCase=Ill|Number=Sing\\t10\\tnmod\\t_\\t_\\n10\\tvaikuttavista\\tvaikuttaa\\tVERB\\t_\\tCase=Ela|Degree=Pos|Number=Plur|PartForm=Pres|VerbForm=Part|Voice=Act\\t11\\tacl\\t_\\t_\\n11\\ttekijöistä\\ttekijä\\tNOUN\\t_\\tCase=Ela|Number=Plur\\t4\\tnmod\\t_\\t_\\n12\\t.\\t.\\tPUNCT\\t_\\t_\\t4\\tpunct\\t_\\t_\\n</sentence>\\n<sentence>\\n1\\tTämä\\ttämä\\tPRON\\t_\\tCase=Nom|Number=Sing|PronType=Dem\\t2\\tdet\\t_\\t_\\n2\\tartikkeli\\tartikkeli\\tNOUN\\t_\\tCase=Nom|Number=Sing\\t3\\tnsubj\\t_\\t_\\n3\\tkäsittelee\\tkäsitellä\\tVERB\\t_\\tMood=Ind|Number=Sing|Person=3|Tense=Pres|VerbForm=Fin|Voice=Act\\t0\\troot\\t_\\t_\\n4\\tmyös\\tmyös\\tADV\\t_\\t_\\t6\\tadvmod\\t_\\t_\\n5\\tilmaston\\tilmasto\\tNOUN\\t_\\tCase=Gen|Number=Sing\\t6\\tnmod:gobj\\t_\\t_\\n6\\tviilenemistä\\tviiletä\\tNOUN\\t_\\tCase=Par|Derivation=Minen|Number=Sing\\t3\\tdobj\\t_\\t_\\n7\\t.\\t.\\tPUNCT\\t_\\t_\\t3\\tpunct\\t_\\t_\\n</sentence>\\n</paragraph>\\n<paragraph>\\n<sentence>\\n1\\tIlmastonmuutos\\tilmasto#muutos\\tNOUN\\t_\\tCase=Nom|Number=Sing\\t6\\tnsubj:cop\\t_\\t_\\n2\\ton\\tolla\\tVERB\\t_\\tMood=Ind|Number=Sing|Person=3|Tense=Pres|VerbForm=Fin|Voice=Act\\t6\\tcop\\t_\\t_\\n3\\tmerkittävä\\tmerkittävä\\tADJ\\t_\\tCase=Nom|Degree=Pos|Number=Sing\\t6\\tamod\\t_\\t_\\n4\\tpitkän\\tpitkä\\tADJ\\t_\\tCase=Gen|Degree=Pos|Number=Sing\\t5\\tamod\\t_\\t_\\n5\\taikavälin\\taika#väli\\tNOUN\\t_\\tCase=Gen|Number=Sing\\t6\\tnmod:poss\\t_\\t_\\n6\\tmuutos\\tmuutos\\tNOUN\\t_\\tCase=Nom|Number=Sing\\t0\\troot\\t_\\t_\\n7\\tglobaalissa\\tglobaali\\tADJ\\t_\\tCase=Ine|Degree=Pos|Number=Sing\\t10\\tamod\\t_\\t_\\n8\\ttai\\ttai\\tCONJ\\t_\\t_\\t7\\tcc\\t_\\t_\\n9\\tpaikallisessa\\tpaikallinen\\tADJ\\t_\\tCase=Ine|Degree=Pos|Number=Sing\\t7\\tconj\\t_\\t_\\n10\\tilmastossa\\tilmasto\\tNOUN\\t_\\tCase=Ine|Number=Sing\\t6\\tnmod\\t_\\t_\\n11\\t.\\t.\\tPUNCT\\t_\\t_\\t6\\tpunct\\t_\\t_\\n</sentence>\\n<sentence>\\n1\\tMuutokset\\tmuutos\\tNOUN\\t_\\tCase=Nom|Number=Plur\\t3\\tnsubj\\t_\\t_\\n2\\tvoivat\\tvoida\\tAUX\\t_\\tMood=Ind|Number=Plur|Person=3|Tense=Pres|VerbForm=Fin|Voice=Act\\t3\\taux\\t_\\t_\\n3\\ttapahtua\\ttapahtua\\tVERB\\t_\\tInfForm=1|Number=Sing|VerbForm=Inf|Voice=Act\\t0\\troot\\t_\\t_\\n4\\tesimerkiksi\\tesimerkiksi\\tADV\\t_\\t_\\t5\\tadvmod\\t_\\t_\\n5\\tsadannoissa\\tsadanta\\tNOUN\\t_\\tCase=Ine|Number=Plur\\t3\\tnmod\\t_\\t_\\n6\\t,\\t,\\tPUNCT\\t_\\t_\\t5\\tpunct\\t_\\t_\\n7\\tlämpötiloissa\\tlämpö#tila\\tNOUN\\t_\\tCase=Ine|Number=Plur\\t5\\tconj\\t_\\t_\\n8\\tja\\tja\\tCONJ\\t_\\t_\\t5\\tcc\\t_\\t_\\n9\\ttuulikuvioissa\\ttuuli#kuvio\\tNOUN\\t_\\tCase=Ine|Number=Plur\\t5\\tconj\\t_\\t_\\n10\\t.\\t.\\tPUNCT\\t_\\t_\\t3\\tpunct\\t_\\t_\\n</sentence>\\n<sentence>\\n1\\tTarkasteltava\\ttarkastella\\tADJ\\t_\\tCase=Nom|Degree=Pos|Number=Sing\\t2\\tamod\\t_\\t_\\n2\\taikaväli\\taika#väli\\tNOUN\\t_\\tCase=Nom|Number=Sing\\t4\\tnsubj\\t_\\t_\\n3\\tvoi\\tvoida\\tAUX\\t_\\tMood=Ind|Number=Sing|Person=3|Tense=Pres|VerbForm=Fin|Voice=Act\\t4\\taux\\t_\\t_\\n4\\tvaihdella\\tvaihdella\\tVERB\\t_\\tInfForm=1|Number=Sing|VerbForm=Inf|Voice=Act\\t0\\troot\\t_\\t_\\n5\\tkymmenistä\\t#kymmeninen\\tADJ\\t_\\tCase=Par|Degree=Pos|Number=Sing\\t6\\tamod\\t_\\t_\\n6\\tvuosista\\tvuosi\\tNOUN\\t_\\tCase=Ela|Number=Plur\\t4\\tnmod\\t_\\t_\\n7\\tmiljooniin\\tmiljoona\\tNUM\\t_\\tCase=Ill|Number=Plur|NumType=Card\\t8\\tnummod\\t_\\t_\\n8\\tvuosiin\\tvuosi\\tNOUN\\t_\\tCase=Ill|Number=Plur\\t4\\tnmod\\t_\\t_\\n9\\t.\\t.\\tPUNCT\\t_\\t_\\t4\\tpunct\\t_\\t_\\n</sentence>\\n<sentence>\\n1\\tIlmastonmuutos\\tilmasto#muutos\\tNOUN\\t_\\tCase=Nom|Number=Sing\\t3\\tnsubj\\t_\\t_\\n2\\tvoi\\tvoida\\tAUX\\t_\\tMood=Ind|Number=Sing|Person=3|Tense=Pres|VerbForm=Fin|Voice=Act\\t3\\taux\\t_\\t_\\n3\\taiheutua\\taihe#utua\\tVERB\\t_\\tInfForm=1|Number=Sing|VerbForm=Inf|Voice=Act\\t0\\troot\\t_\\t_\\n4\\ttapahtumista\\ttapahtuma\\tNOUN\\t_\\tCase=Ela|Number=Plur\\t3\\tnmod\\t_\\t_\\n5\\t,\\t,\\tPUNCT\\t_\\t_\\t7\\tpunct\\t_\\t_\\n6\\tjotka\\tjoka\\tPRON\\t_\\tCase=Nom|Number=Plur|PronType=Rel\\t7\\tnsubj\\t_\\t_\\n7\\tliittyvät\\tliittyä\\tVERB\\t_\\tMood=Ind|Number=Plur|Person=3|Tense=Pres|VerbForm=Fin|Voice=Act\\t4\\tacl:relcl\\t_\\t_\\n8\\tmuun\\tmuu\\tADV\\t_\\t_\\t7\\tadvmod\\t_\\t_\\n9\\tmuassa\\tmuassa\\tADV\\t_\\t_\\t8\\tmwe\\t_\\t_\\n10\\tmerien\\tmeri\\tNOUN\\t_\\tCase=Gen|Number=Plur\\t11\\tnmod:poss\\t_\\t_\\n11\\tlämpömekanismeihin\\tlämpö#mekanismi\\tNOUN\\t_\\tCase=Ill|Number=Plur\\t7\\tnmod\\t_\\t_\\n12\\t,\\t,\\tPUNCT\\t_\\t_\\t14\\tpunct\\t_\\t_\\n13\\tmaapallon\\tmaa#pallo\\tNOUN\\t_\\tCase=Gen|Number=Sing\\t14\\tnmod:poss\\t_\\t_\\n14\\trataan\\trata\\tNOUN\\t_\\tCase=Ill|Number=Sing\\t11\\tappos\\t_\\t_\\n15\\t,\\t,\\tPUNCT\\t_\\t_\\t11\\tpunct\\t_\\t_\\n16\\tmannerlaattojen\\tmanner#laatta\\tNOUN\\t_\\tCase=Gen|Number=Plur\\t17\\tnmod:poss\\t_\\t_\\n17\\tliikkeisiin\\tliike\\tNOUN\\t_\\tCase=Ill|Number=Plur\\t11\\tconj\\t_\\t_\\n18\\t,\\t,\\tPUNCT\\t_\\t_\\t11\\tpunct\\t_\\t_\\n19\\tAuringon\\tAurinko\\tPROPN\\t_\\tCase=Gen|Number=Sing\\t20\\tnmod:poss\\t_\\t_\\n20\\taktiivisuuteen\\taktiivisuus\\tNOUN\\t_\\tCase=Ill|Number=Sing\\t11\\tconj\\t_\\t_\\n21\\t,\\t,\\tPUNCT\\t_\\t_\\t11\\tpunct\\t_\\t_\\n22\\tvulkaaniseen\\tvulkaaninen\\tADJ\\t_\\tCase=Ill|Degree=Pos|Number=Sing\\t23\\tamod\\t_\\t_\\n23\\ttoimintaan\\ttoiminta\\tNOUN\\t_\\tCase=Ill|Number=Sing\\t11\\tconj\\t_\\t_\\n24\\t,\\t,\\tPUNCT\\t_\\t_\\t11\\tpunct\\t_\\t_\\n25\\tasteroiditörmäyksiin\\tasteroidi#törmäys\\tNOUN\\t_\\tCase=Ill|Number=Plur\\t11\\tconj\\t_\\t_\\n26\\tja\\tja\\tCONJ\\t_\\t_\\t11\\tcc\\t_\\t_\\n27\\tviime\\tviime\\tADJ\\t_\\t_\\t28\\tamod\\t_\\t_\\n28\\taikoina\\taika\\tNOUN\\t_\\tCase=Ess|Number=Plur\\t31\\tnmod\\t_\\t_\\n29\\tmyös\\tmyös\\tADV\\t_\\t_\\t31\\tadvmod\\t_\\t_\\n30\\tihmisen\\tihminen\\tNOUN\\t_\\tCase=Gen|Number=Sing\\t31\\tnmod:gsubj\\t_\\t_\\n31\\ttoimintaan\\ttoiminta\\tNOUN\\t_\\tCase=Ill|Number=Sing\\t11\\tconj\\t_\\t_\\n32\\t.\\t.\\tPUNCT\\t_\\t_\\t3\\tpunct\\t_\\t_\\n</sentence>\\n</paragraph>\\n<paragraph>\\n<sentence>\\n1\\tMaan\\tmaa\\tNOUN\\t_\\tCase=Gen|Number=Sing\\t2\\tnmod:poss\\t_\\t_\\n2\\tilmasto\\tilmasto\\tNOUN\\t_\\tCase=Nom|Number=Sing\\t4\\tnsubj\\t_\\t_\\n3\\tvoi\\tvoida\\tAUX\\t_\\tMood=Ind|Number=Sing|Person=3|Tense=Pres|VerbForm=Fin|Voice=Act\\t4\\taux\\t_\\t_\\n4\\tmuuttua\\tmuuttua\\tVERB\\t_\\tInfForm=1|Number=Sing|VerbForm=Inf|Voice=Act\\t0\\troot\\t_\\t_\\n5\\tmaapallon\\tmaa#pallo\\tNOUN\\t_\\tCase=Gen|Number=Sing\\t7\\tnmod:poss\\t_\\t_\\n6\\tsisäisten\\tsisäinen\\tADJ\\t_\\tCase=Gen|Degree=Pos|Number=Plur\\t7\\tamod\\t_\\t_\\n7\\tprosessien\\tprosessi\\tNOUN\\t_\\tCase=Gen|Number=Plur\\t4\\tdobj\\t_\\t_\\n8\\tmyötä\\tmyötä\\tADP\\t_\\tAdpType=Post\\t7\\tcase\\t_\\t_\\n9\\ttai\\ttai\\tCONJ\\t_\\t_\\t7\\tcc\\t_\\t_\\n10\\treaktiona\\treaktio\\tNOUN\\t_\\tCase=Ess|Number=Sing\\t7\\tconj\\t_\\t_\\n11\\tulkoisiin\\tulkoinen\\tADJ\\t_\\tCase=Ill|Degree=Pos|Number=Plur\\t12\\tamod\\t_\\t_\\n12\\ttekijöihin\\ttekijä\\tNOUN\\t_\\tCase=Ill|Number=Plur\\t10\\tnmod\\t_\\t_\\n13\\t(\\t(\\tPUNCT\\t_\\t_\\t15\\tpunct\\t_\\t_\\n14\\tesimerkiksi\\tesimerkiksi\\tADV\\t_\\t_\\t15\\tadvmod\\t_\\t_\\n15\\tmuutokset\\tmuutos\\tNOUN\\t_\\tCase=Nom|Number=Plur\\t7\\tparataxis\\t_\\t_\\n16\\tauringon\\taurinko\\tNOUN\\t_\\tCase=Gen|Number=Sing\\t17\\tnmod:poss\\t_\\t_\\n17\\taktiivisuudessa\\taktiivisuus\\tNOUN\\t_\\tCase=Ine|Number=Sing\\t15\\tnmod\\t_\\t_\\n18\\t,\\t,\\tPUNCT\\t_\\t_\\t17\\tpunct\\t_\\t_\\n19\\tmaapallon\\tmaa#pallo\\tNOUN\\t_\\tCase=Gen|Number=Sing\\t20\\tnmod:poss\\t_\\t_\\n20\\tkiertoradassa\\tkierto#rata\\tNOUN\\t_\\tCase=Ine|Number=Sing\\t17\\tconj\\t_\\t_\\n21\\ttai\\ttai\\tCONJ\\t_\\t_\\t17\\tcc\\t_\\t_\\n22\\takselissa\\takseli\\tNOUN\\t_\\tCase=Ine|Number=Sing\\t17\\tconj\\t_\\t_\\n23\\t)\\t)\\tPUNCT\\t_\\t_\\t15\\tpunct\\t_\\t_\\n24\\t.\\t.\\tPUNCT\\t_\\t_\\t4\\tpunct\\t_\\t_\\n</sentence>\\n<sentence>\\n1\\tMaapallon\\tmaa#pallo\\tNOUN\\t_\\tCase=Gen|Number=Sing\\t3\\tnmod:poss\\t_\\t_\\n2\\tsisäiset\\tsisäinen\\tADJ\\t_\\tCase=Nom|Degree=Pos|Number=Plur\\t3\\tamod\\t_\\t_\\n3\\tprosessit\\tprosessi\\tNOUN\\t_\\tCase=Nom|Number=Plur\\t6\\tnsubj:cop\\t_\\t_\\n4\\tvoivat\\tvoida\\tAUX\\t_\\tMood=Ind|Number=Plur|Person=3|Tense=Pres|VerbForm=Fin|Voice=Act\\t6\\taux\\t_\\t_\\n5\\tolla\\tolla\\tVERB\\t_\\tInfForm=1|Number=Sing|VerbForm=Inf|Voice=Act\\t6\\tcop\\t_\\t_\\n6\\tluontaisia\\tluontainen\\tADJ\\t_\\tCase=Par|Degree=Pos|Number=Plur\\t0\\troot\\t_\\t_\\n7\\t(\\t(\\tPUNCT\\t_\\t_\\t10\\tpunct\\t_\\t_\\n8\\tesimerkiksi\\tesimerkiksi\\tADV\\t_\\t_\\t10\\tadvmod\\t_\\t_\\n9\\tvulkaaniset\\tvulkaaninen\\tADJ\\t_\\tCase=Nom|Degree=Pos|Number=Plur\\t10\\tamod\\t_\\t_\\n10\\tpäästöt\\tpäästö\\tNOUN\\t_\\tCase=Nom|Number=Plur\\t6\\tappos\\t_\\t_\\n11\\t)\\t)\\tPUNCT\\t_\\t_\\t10\\tpunct\\t_\\t_\\n12\\ttai\\ttai\\tCONJ\\t_\\t_\\t6\\tcc\\t_\\t_\\n13\\tihmisen\\tihminen\\tNOUN\\t_\\tCase=Gen|Number=Sing\\t14\\tnmod:gsubj\\t_\\t_\\n14\\ttoiminnasta\\ttoiminta\\tNOUN\\t_\\tCase=Ela|Number=Sing\\t15\\tnmod\\t_\\t_\\n15\\tjohtuvia\\tjohtua\\tVERB\\t_\\tCase=Par|Degree=Pos|Number=Plur|PartForm=Pres|VerbForm=Part|Voice=Act\\t19\\tacl\\t_\\t_\\n16\\t(\\t(\\tPUNCT\\t_\\t_\\t19\\tpunct\\t_\\t_\\n17\\tesimerkiksi\\tesimerkiksi\\tADV\\t_\\t_\\t19\\tadvmod\\t_\\t_\\n18\\tfossiilisten\\tfossiilinen\\tADJ\\t_\\tCase=Gen|Degree=Pos|Number=Plur\\t19\\tamod\\t_\\t_\\n19\\tpolttoaineiden\\tpoltto#aine\\tNOUN\\t_\\tCase=Gen|Number=Plur\\t20\\tnmod:gobj\\t_\\t_\\n20\\tkäytön\\tkäyttö\\tNOUN\\t_\\tCase=Gen|Number=Sing\\t21\\tnsubj\\t_\\t_\\n21\\tsynnyttämä\\tsynnyttää\\tVERB\\t_\\tCase=Nom|Degree=Pos|Number=Sing|PartForm=Agt|VerbForm=Part|Voice=Act\\t6\\tconj\\t_\\t_\\n22\\tilmakehän\\tilma#kehä\\tNOUN\\t_\\tCase=Gen|Number=Sing\\t23\\tnmod:poss\\t_\\t_\\n23\\tkasvihuonekaasujen\\tkasvi#huone#kaasu\\tNOUN\\t_\\tCase=Gen|Number=Plur\\t21\\tdobj\\t_\\t_\\n24\\t;\\t;\\tPUNCT\\t_\\t_\\t25\\tpunct\\t_\\t_\\n25\\tCFC\\tCFC\\tPROPN\\t_\\tCase=Nom|Number=Sing\\t23\\tappos\\t_\\t_\\n26\\t,\\t,\\tPUNCT\\t_\\t_\\t25\\tpunct\\t_\\t_\\n27\\tNO\\tno\\tPROPN\\t_\\tCase=Nom|Number=Sing\\t25\\tconj\\t_\\t_\\n28\\t,\\t,\\tPUNCT\\t_\\t_\\t31\\tpunct\\t_\\t_\\n29\\tCO\\tCO\\tPROPN\\t_\\tCase=Nom|Number=Sing\\t30\\tcompound:nn\\t_\\t_\\n30\\tpitoisuuksien\\tpitoisuus\\tNOUN\\t_\\tCase=Gen|Number=Plur\\t31\\tnmod:poss\\t_\\t_\\n31\\tnousu\\tnousu\\tNOUN\\t_\\tCase=Nom|Number=Sing\\t25\\tappos\\t_\\t_\\n32\\t)\\t)\\tPUNCT\\t_\\t_\\t31\\tpunct\\t_\\t_\\n33\\t.\\t.\\tPUNCT\\t_\\t_\\t6\\tpunct\\t_\\t_\\n</sentence>\\n</paragraph>\\n<paragraph>\\n<sentence>\\n1\\tSää\\tsää\\tNOUN\\t_\\tCase=Nom|Number=Sing\\t6\\tnsubj:cop\\t_\\t_\\n2\\ton\\tolla\\tVERB\\t_\\tMood=Ind|Number=Sing|Person=3|Tense=Pres|VerbForm=Fin|Voice=Act\\t6\\tcop\\t_\\t_\\n3\\tkaoottinen\\tkaoottinen\\tADJ\\t_\\tCase=Nom|Degree=Pos|Number=Sing\\t6\\tamod\\t_\\t_\\n4\\tepälineaarinen\\tepä#lineaarinen\\tADJ\\t_\\tCase=Nom|Degree=Pos|Number=Sing\\t6\\tamod\\t_\\t_\\n5\\tdynaaminen\\tdynaaminen\\tADJ\\t_\\tCase=Nom|Degree=Pos|Number=Sing\\t6\\tamod\\t_\\t_\\n6\\tjärjestelmä\\tjärjestelmä\\tNOUN\\t_\\tCase=Nom|Number=Sing\\t0\\troot\\t_\\t_\\n7\\t.\\t.\\tPUNCT\\t_\\t_\\t6\\tpunct\\t_\\t_\\n</sentence>\\n<sentence>\\n1\\tTämä\\ttämä\\tPRON\\t_\\tCase=Nom|Number=Sing|PronType=Dem\\t2\\tnsubj\\t_\\t_\\n2\\ttarkoittaa\\ttarkoittaa\\tVERB\\t_\\tMood=Ind|Number=Sing|Person=3|Tense=Pres|VerbForm=Fin|Voice=Act\\t0\\troot\\t_\\t_\\n3\\t,\\t,\\tPUNCT\\t_\\t_\\t6\\tpunct\\t_\\t_\\n4\\tettä\\tettä\\tSCONJ\\t_\\t_\\t6\\tmark\\t_\\t_\\n5\\tse\\tse\\tPRON\\t_\\tCase=Nom|Number=Sing|PronType=Dem\\t6\\tnsubj\\t_\\t_\\n6\\ton\\tolla\\tVERB\\t_\\tMood=Ind|Number=Sing|Person=3|Tense=Pres|VerbForm=Fin|Voice=Act\\t2\\tccomp\\t_\\t_\\n7\\tvain\\tvain\\tADV\\t_\\t_\\t9\\tadvmod\\t_\\t_\\n8\\tosittain\\tosittain\\tADV\\t_\\t_\\t9\\tadvmod\\t_\\t_\\n9\\tennustettavissa\\tennustaa\\tVERB\\t_\\tCase=Ine|Degree=Pos|Number=Plur|PartForm=Pres|VerbForm=Part|Voice=Pass\\t6\\txcomp\\t_\\t_\\n10\\t.\\t.\\tPUNCT\\t_\\t_\\t2\\tpunct\\t_\\t_\\n</sentence>\\n<sentence>\\n1\\tIlmasto\\tilmasto\\tNOUN\\t_\\tCase=Nom|Number=Sing\\t11\\tnsubj:cop\\t_\\t_\\n2\\teli\\teli\\tCONJ\\t_\\t_\\t1\\tcc\\t_\\t_\\n3\\tsään\\tsää\\tNOUN\\t_\\tCase=Gen|Number=Sing\\t4\\tnmod:poss\\t_\\t_\\n4\\tkeskiarvo\\tkeski#arvo\\tNOUN\\t_\\tCase=Nom|Number=Sing\\t1\\tconj\\t_\\t_\\n5\\ton\\tolla\\tAUX\\t_\\tMood=Ind|Number=Sing|Person=3|Tense=Pres|VerbForm=Fin|Voice=Act\\t11\\taux\\t_\\t_\\n6\\tkuitenkin\\tkuitenkin\\tADV\\t_\\t_\\t11\\tadvmod\\t_\\t_\\n7\\tollut\\tolla\\tVERB\\t_\\tCase=Nom|Degree=Pos|Number=Sing|PartForm=Past|VerbForm=Part|Voice=Act\\t11\\tcop\\t_\\t_\\n8\\thavaintojen\\thavainto\\tNOUN\\t_\\tCase=Gen|Number=Plur\\t9\\tnmod:poss\\t_\\t_\\n9\\tvalossa\\tvalo\\tNOUN\\t_\\tCase=Ine|Number=Sing\\t11\\tnmod\\t_\\t_\\n10\\tsuhteellisen\\tsuhteellinen\\tADJ\\t_\\tCase=Gen|Degree=Pos|Number=Sing\\t11\\tamod\\t_\\t_\\n11\\tvakaa\\tvakaa\\tADJ\\t_\\tCase=Nom|Degree=Pos|Number=Sing\\t0\\troot\\t_\\t_\\n12\\taivan\\taivan\\tADV\\t_\\t_\\t14\\tadvmod\\t_\\t_\\n13\\tviime\\tviime\\tADJ\\t_\\t_\\t14\\tamod\\t_\\t_\\n14\\taikoihin\\taika\\tNOUN\\t_\\tCase=Ill|Number=Plur\\t11\\tnmod\\t_\\t_\\n15\\tasti\\tasti\\tADP\\t_\\tAdpType=Post\\t14\\tcase\\t_\\t_\\n16\\t.\\t.\\tPUNCT\\t_\\t_\\t11\\tpunct\\t_\\t_\\n</sentence>\\n<sentence>\\n1\\tIlmastoon\\tilmasto\\tNOUN\\t_\\tCase=Ill|Number=Sing\\t2\\tnmod\\t_\\t_\\n2\\tlukeutuvat\\tlukeutua\\tVERB\\t_\\tMood=Ind|Number=Plur|Person=3|Tense=Pres|VerbForm=Fin|Voice=Act\\t0\\troot\\t_\\t_\\n3\\tkeskilämpötila\\tkeski#lämpö#tila\\tNOUN\\t_\\tCase=Nom|Number=Sing\\t2\\tnsubj\\t_\\t_\\n4\\t,\\t,\\tPUNCT\\t_\\t_\\t3\\tpunct\\t_\\t_\\n5\\tsadanta\\tsadanta\\tNOUN\\t_\\tCase=Nom|Number=Sing\\t3\\tconj\\t_\\t_\\n6\\t,\\t,\\tPUNCT\\t_\\t_\\t3\\tpunct\\t_\\t_\\n7\\taurinkoisten\\taurinkoinen\\tADJ\\t_\\tCase=Gen|Degree=Pos|Number=Plur\\t8\\tamod\\t_\\t_\\n8\\tpäivien\\tpäivä\\tNOUN\\t_\\tCase=Gen|Number=Plur\\t9\\tnmod:poss\\t_\\t_\\n9\\tmäärä\\tmäärä\\tNOUN\\t_\\tCase=Nom|Number=Sing\\t3\\tconj\\t_\\t_\\n10\\tja\\tja\\tCONJ\\t_\\t_\\t3\\tcc\\t_\\t_\\n11\\tlukuisat\\tlukuisa\\tADJ\\t_\\tCase=Nom|Degree=Pos|Number=Plur\\t14\\tamod\\t_\\t_\\n12\\tmuut\\tmuu\\tPRON\\t_\\tCase=Nom|Degree=Pos|Number=Plur|PronType=Ind\\t14\\tdet\\t_\\t_\\n13\\tmitattavat\\tmitata\\tVERB\\t_\\tCase=Nom|Degree=Pos|Number=Plur|PartForm=Pres|VerbForm=Part|Voice=Pass\\t14\\tacl\\t_\\t_\\n14\\tsuureet\\tsuure\\tNOUN\\t_\\tCase=Nom|Number=Plur\\t3\\tconj\\t_\\t_\\n15\\t.\\t.\\tPUNCT\\t_\\t_\\t2\\tpunct\\t_\\t_\\n</sentence>\\n</paragraph>\\n<paragraph>\\n<sentence>\\n1\\tMaan\\tmaa\\tNOUN\\t_\\tCase=Gen|Number=Sing\\t2\\tnmod:poss\\t_\\t_\\n2\\tympäristössä\\tympäristö\\tNOUN\\t_\\tCase=Ine|Number=Sing\\t3\\tnmod\\t_\\t_\\n3\\ttapahtuu\\ttapahtua\\tVERB\\t_\\tMood=Ind|Number=Sing|Person=3|Tense=Pres|VerbForm=Fin|Voice=Act\\t0\\troot\\t_\\t_\\n4\\tkuitenkin\\tkuitenkin\\tADV\\t_\\t_\\t3\\tadvmod\\t_\\t_\\n5\\tmuutoksia\\tmuutos\\tNOUN\\t_\\tCase=Par|Number=Plur\\t3\\tdobj\\t_\\t_\\n6\\t,\\t,\\tPUNCT\\t_\\t_\\t9\\tpunct\\t_\\t_\\n7\\tjotka\\tjoka\\tPRON\\t_\\tCase=Nom|Number=Plur|PronType=Rel\\t9\\tnsubj\\t_\\t_\\n8\\tvoivat\\tvoida\\tAUX\\t_\\tMood=Ind|Number=Plur|Person=3|Tense=Pres|VerbForm=Fin|Voice=Act\\t9\\taux\\t_\\t_\\n9\\tvaikuttaa\\tvaikuttaa\\tVERB\\t_\\tInfForm=1|Number=Sing|VerbForm=Inf|Voice=Act\\t5\\tacl:relcl\\t_\\t_\\n10\\tilmastoon\\tilmasto\\tNOUN\\t_\\tCase=Ill|Number=Sing\\t9\\tnmod\\t_\\t_\\n11\\t.\\t.\\tPUNCT\\t_\\t_\\t3\\tpunct\\t_\\t_\\n</sentence>\\n<sentence>\\n1\\tEsimerkiksi\\tesimerkiksi\\tADV\\t_\\t_\\t3\\tadvmod\\t_\\t_\\n2\\tjäätiköiden\\tjäätikkö\\tNOUN\\t_\\tCase=Gen|Number=Plur\\t3\\tnmod:poss\\t_\\t_\\n3\\tkasvu\\tkasvu\\tNOUN\\t_\\tCase=Nom|Number=Sing\\t6\\tnsubj\\t_\\t_\\n4\\tja\\tja\\tCONJ\\t_\\t_\\t3\\tcc\\t_\\t_\\n5\\tpieneneminen\\tpienetä\\tNOUN\\t_\\tCase=Nom|Derivation=Minen|Number=Sing\\t3\\tconj\\t_\\t_\\n6\\taiheuttavat\\taiheuttaa\\tVERB\\t_\\tMood=Ind|Number=Plur|Person=3|Tense=Pres|VerbForm=Fin|Voice=Act\\t0\\troot\\t_\\t_\\n7\\tsekä\\tsekä\\tCONJ\\t_\\t_\\t6\\tcc\\t_\\t_\\n8\\tluonnollista\\tluonnollinen\\tADJ\\t_\\tCase=Par|Degree=Pos|Number=Sing\\t9\\tamod\\t_\\t_\\n9\\tvaihtelua\\tvaihtelu\\tNOUN\\t_\\tCase=Par|Number=Sing\\t6\\tdobj\\t_\\t_\\n10\\t,\\t,\\tPUNCT\\t_\\t_\\t12\\tpunct\\t_\\t_\\n11\\tettä\\tettä\\tSCONJ\\t_\\t_\\t12\\tmark\\t_\\t_\\n12\\tvahvistavat\\tvahvistaa\\tVERB\\t_\\tMood=Ind|Number=Plur|Person=3|Tense=Pres|VerbForm=Fin|Voice=Act\\t6\\tadvcl\\t_\\t_\\n13\\tulkoisia\\tulkoinen\\tADJ\\t_\\tCase=Par|Degree=Pos|Number=Plur\\t14\\tamod\\t_\\t_\\n14\\tpakotteita\\tpakote\\tNOUN\\t_\\tCase=Par|Number=Plur\\t12\\tdobj\\t_\\t_\\n15\\t.\\t.\\tPUNCT\\t_\\t_\\t6\\tpunct\\t_\\t_\\n</sentence>\\n<sentence>\\n1\\tToisaalta\\ttoisaalta\\tADV\\t_\\t_\\t5\\tadvmod\\t_\\t_\\n2\\tmeri-ilmakehäjärjestelmän\\tmeri-ilma#kehä#järjestelmä\\tNOUN\\t_\\tCase=Gen|Number=Sing\\t3\\tnmod:poss\\t_\\t_\\n3\\tmuutokset\\tmuutos\\tNOUN\\t_\\tCase=Nom|Number=Plur\\t5\\tnsubj\\t_\\t_\\n4\\tvoivat\\tvoida\\tAUX\\t_\\tMood=Ind|Number=Plur|Person=3|Tense=Pres|VerbForm=Fin|Voice=Act\\t5\\taux\\t_\\t_\\n5\\taiheuttaa\\taiheuttaa\\tVERB\\t_\\tInfForm=1|Number=Sing|VerbForm=Inf|Voice=Act\\t0\\troot\\t_\\t_\\n6\\tvoimakkaita\\tvoimakas\\tADJ\\t_\\tCase=Par|Degree=Pos|Number=Plur\\t7\\tamod\\t_\\t_\\n7\\tmuutoksia\\tmuutos\\tNOUN\\t_\\tCase=Par|Number=Plur\\t5\\tdobj\\t_\\t_\\n8\\t.\\t.\\tPUNCT\\t_\\t_\\t5\\tpunct\\t_\\t_\\n</sentence>\\n<sentence>\\n1\\tMerien\\tmeri\\tNOUN\\t_\\tCase=Gen|Number=Plur\\t2\\tnmod:gsubj\\t_\\t_\\n2\\tvaikutus\\tvaikutus\\tNOUN\\t_\\tCase=Nom|Number=Sing\\t4\\tnsubj\\t_\\t_\\n3\\tilmastoon\\tilmasto\\tNOUN\\t_\\tCase=Ill|Number=Sing\\t2\\tnmod\\t_\\t_\\n4\\tliittyy\\tliittyä\\tVERB\\t_\\tMood=Ind|Number=Sing|Person=3|Tense=Pres|VerbForm=Fin|Voice=Act\\t0\\troot\\t_\\t_\\n5\\tmonilta\\tmoni\\tPRON\\t_\\tCase=Abl|Number=Plur|PronType=Ind\\t6\\tdet\\t_\\t_\\n6\\tosin\\tosa\\tNOUN\\t_\\tCase=Ins|Number=Plur\\t4\\tnmod\\t_\\t_\\n7\\tniiden\\tse\\tPRON\\t_\\tCase=Gen|Number=Plur|PronType=Dem\\t9\\tnmod:poss\\t_\\t_\\n8\\tsuureen\\tsuuri\\tADJ\\t_\\tCase=Ill|Degree=Pos|Number=Sing\\t9\\tamod\\t_\\t_\\n9\\tlämpökapasiteettiin\\tlämpö#kapasiteetti\\tNOUN\\t_\\tCase=Ill|Number=Sing\\t4\\tnmod\\t_\\t_\\n10\\tja\\tja\\tCONJ\\t_\\t_\\t4\\tcc\\t_\\t_\\n11\\tkykyyn\\tkyky\\tNOUN\\t_\\tCase=Ill|Number=Sing\\t12\\tnmod\\t_\\t_\\n12\\tkuljettaa\\tkuljettaa\\tVERB\\t_\\tMood=Ind|Number=Sing|Person=3|Tense=Pres|VerbForm=Fin|Voice=Act\\t4\\tconj\\t_\\t_\\n13\\tenergiaa\\tenergia\\tNOUN\\t_\\tCase=Par|Number=Sing\\t12\\tdobj\\t_\\t_\\n14\\t.\\t.\\tPUNCT\\t_\\t_\\t4\\tpunct\\t_\\t_\\n</sentence>\\n<sentence>\\n1\\tTermohaliinikierron\\tTermohaliinikierron\\tNOUN\\t_\\tCase=Gen|Number=Sing\\t2\\tnmod:poss\\t_\\t_\\n2\\tmerkitys\\tmerkitys\\tNOUN\\t_\\tCase=Nom|Number=Sing\\t3\\tnsubj\\t_\\t_\\n3\\tkasvaa\\tkasvaa\\tVERB\\t_\\tMood=Ind|Number=Sing|Person=3|Tense=Pres|VerbForm=Fin|Voice=Act\\t0\\troot\\t_\\t_\\n4\\tpitemmillä\\tpitkä\\tADJ\\t_\\tCase=Ade|Degree=Cmp|Number=Plur\\t5\\tamod\\t_\\t_\\n5\\taikaväleillä\\taika#väli\\tNOUN\\t_\\tCase=Ade|Number=Plur\\t3\\tnmod\\t_\\t_\\n6\\t.\\t.\\tPUNCT\\t_\\t_\\t3\\tpunct\\t_\\t_\\n</sentence>\\n<sentence>\\n1\\tToisaalta\\ttoisaalta\\tADV\\t_\\t_\\t6\\tadvmod\\t_\\t_\\n2\\tilmaston\\tilmasto\\tNOUN\\t_\\tCase=Gen|Number=Sing\\t3\\tnmod:poss\\t_\\t_\\n3\\ttila\\ttila\\tNOUN\\t_\\tCase=Nom|Number=Sing\\t6\\tnsubj:cop\\t_\\t_\\n4\\tei\\tei\\tVERB\\t_\\tNegative=Yes|Number=Sing|Person=3|VerbForm=Fin|Voice=Act\\t6\\tneg\\t_\\t_\\n5\\tole\\tolla\\tVERB\\t_\\tConnegative=Yes|Mood=Ind|Tense=Pres|VerbForm=Fin\\t6\\tcop\\t_\\t_\\n6\\triippuvainen\\triippuvainen\\tADJ\\t_\\tCase=Nom|Degree=Pos|Number=Sing\\t0\\troot\\t_\\t_\\n7\\tyksin\\tyksin\\tADV\\t_\\t_\\t8\\tadvmod\\t_\\t_\\n8\\tnykytilasta\\tnyky#tila\\tNOUN\\t_\\tCase=Ela|Number=Sing\\t6\\tnmod\\t_\\t_\\n9\\tvaan\\tvaan\\tCONJ\\t_\\t_\\t6\\tcc\\t_\\t_\\n10\\tsiihen\\tse\\tPRON\\t_\\tCase=Ill|Number=Sing|PronType=Dem\\t11\\tnmod\\t_\\t_\\n11\\tvaikuttavat\\tvaikuttaa\\tVERB\\t_\\tMood=Ind|Number=Plur|Person=3|Tense=Pres|VerbForm=Fin|Voice=Act\\t6\\tconj\\t_\\t_\\n12\\tmyös\\tmyös\\tADV\\t_\\t_\\t13\\tadvmod\\t_\\t_\\n13\\tedeltävät\\tedeltää\\tVERB\\t_\\tCase=Nom|Degree=Pos|Number=Plur|PartForm=Pres|VerbForm=Part|Voice=Act\\t14\\tacl\\t_\\t_\\n14\\ttilat\\ttila\\tNOUN\\t_\\tCase=Nom|Number=Plur\\t11\\tnsubj\\t_\\t_\\n15\\t,\\t,\\tPUNCT\\t_\\t_\\t6\\tpunct\\t_\\t_\\n16\\tkysymys\\tkysymys\\tNOUN\\t_\\tCase=Nom|Number=Sing\\t17\\tnsubj\\t_\\t_\\n17\\ton\\tolla\\tVERB\\t_\\tMood=Ind|Number=Sing|Person=3|Tense=Pres|VerbForm=Fin|Voice=Act\\t6\\tconj\\t_\\t_\\n18\\tsiis\\tsiis\\tADV\\t_\\t_\\t17\\tadvmod\\t_\\t_\\n19\\thystereesi-ilmiöstä\\thystereesi#ilmiö\\tNOUN\\t_\\tCase=Ela|Number=Sing\\t17\\tnmod\\t_\\t_\\n20\\t.\\t.\\tPUNCT\\t_\\t_\\t6\\tpunct\\t_\\t_\\n</sentence>\\n</paragraph>\\n<paragraph>\\n<sentence>\\n1\\tSatojen\\tsata\\tNOUN\\t_\\tCase=Gen|Number=Plur\\t3\\tnmod:poss\\t_\\t_\\n2\\tmiljoonien\\tmiljoona\\tNUM\\t_\\tCase=Gen|Number=Plur|NumType=Card\\t3\\tnummod\\t_\\t_\\n3\\tvuosien\\tvuosi\\tNOUN\\t_\\tCase=Gen|Number=Plur\\t4\\tnsubj\\t_\\t_\\n4\\tkuluessa\\tkulua\\tVERB\\t_\\tCase=Ine|InfForm=2|Number=Sing|VerbForm=Inf|Voice=Act\\t7\\tadvcl\\t_\\t_\\n5\\tmannerlaattojen\\tmanner#laatta\\tNOUN\\t_\\tCase=Gen|Number=Plur\\t6\\tnmod:poss\\t_\\t_\\n6\\tliikkeet\\tliike\\tNOUN\\t_\\tCase=Nom|Number=Plur\\t7\\tnsubj\\t_\\t_\\n7\\tvaikuttavat\\tvaikuttaa\\tVERB\\t_\\tMood=Ind|Number=Plur|Person=3|Tense=Pres|VerbForm=Fin|Voice=Act\\t0\\troot\\t_\\t_\\n8\\tmerivirtoihin\\tmeri#virta\\tNOUN\\t_\\tCase=Ill|Number=Plur\\t7\\tnmod\\t_\\t_\\n9\\tja\\tja\\tCONJ\\t_\\t_\\t8\\tcc\\t_\\t_\\n10\\tvuorten\\tvuori\\tNOUN\\t_\\tCase=Gen|Number=Plur\\t11\\tnmod:poss\\t_\\t_\\n11\\tmuotoihin\\tmuoto\\tNOUN\\t_\\tCase=Ill|Number=Plur\\t8\\tconj\\t_\\t_\\n12\\tmuuttaen\\tmuuttaa\\tVERB\\t_\\tCase=Ins|InfForm=2|Number=Sing|VerbForm=Inf|Voice=Act\\t7\\tadvcl\\t_\\t_\\n13\\tsiten\\tsiten\\tADV\\t_\\t_\\t14\\tadvmod\\t_\\t_\\n14\\tilmastoa\\tilmasto\\tNOUN\\t_\\tCase=Par|Number=Sing\\t12\\tdobj\\t_\\t_\\n15\\t.\\t.\\tPUNCT\\t_\\t_\\t7\\tpunct\\t_\\t_\\n</sentence>\\n<sentence>\\n1\\tAuringon\\tAurinko\\tPROPN\\t_\\tCase=Gen|Number=Sing\\t2\\tnmod:poss\\t_\\t_\\n2\\taktiivisuudessa\\taktiivisuus\\tNOUN\\t_\\tCase=Ine|Number=Sing\\t10\\tnmod\\t_\\t_\\n3\\tsekä\\tsekä\\tCONJ\\t_\\t_\\t4\\tcc:preconj\\t_\\t_\\n4\\tpitkällä\\tpitkä\\tADJ\\t_\\tCase=Ade|Degree=Pos|Number=Sing\\t7\\tamod\\t_\\t_\\n5\\tettä\\tettä\\tCONJ\\t_\\t_\\t4\\tcc\\t_\\t_\\n6\\tlyhyellä\\tlyhyt\\tADJ\\t_\\tCase=Ade|Degree=Pos|Number=Sing\\t4\\tconj\\t_\\t_\\n7\\taikavälillä\\taika#väli\\tNOUN\\t_\\tCase=Ade|Number=Sing\\t8\\tnmod\\t_\\t_\\n8\\ttapahtuvat\\ttapahtua\\tVERB\\t_\\tMood=Ind|Number=Plur|Person=3|Tense=Pres|VerbForm=Fin|Voice=Act\\t9\\tacl\\t_\\t_\\n9\\tmuutokset\\tmuutos\\tNOUN\\t_\\tCase=Nom|Number=Plur\\t10\\tnsubj\\t_\\t_\\n10\\tmuuttavat\\tmuuttaa\\tVERB\\t_\\tMood=Ind|Number=Plur|Person=3|Tense=Pres|VerbForm=Fin|Voice=Act\\t0\\troot\\t_\\t_\\n11\\tilmaston\\tilmasto\\tNOUN\\t_\\tCase=Gen|Number=Sing\\t12\\tnmod:poss\\t_\\t_\\n12\\tsäteilypakotetta\\tsäteily#pakote\\tNOUN\\t_\\tCase=Par|Number=Sing\\t10\\tdobj\\t_\\t_\\n13\\t.\\t.\\tPUNCT\\t_\\t_\\t10\\tpunct\\t_\\t_\\n</sentence>\\n</paragraph>\\n<paragraph>\\n<sentence>\\n1\\tSuhteessa\\tsuhde\\tNOUN\\t_\\tCase=Ine|Number=Sing\\t9\\tnmod\\t_\\t_\\n2\\tnopeampia\\tnopea\\tADJ\\t_\\tCase=Par|Degree=Cmp|Number=Plur\\t3\\tamod\\t_\\t_\\n3\\tmuutoksia\\tmuutos\\tNOUN\\t_\\tCase=Par|Number=Plur\\t9\\tnsubj\\t_\\t_\\n4\\tovat\\tolla\\tVERB\\t_\\tMood=Ind|Number=Plur|Person=3|Tense=Pres|VerbForm=Fin|Voice=Act\\t13\\tcop\\t_\\t_\\n5\\tsatojen\\tsata\\tNUM\\t_\\tCase=Gen|Number=Plur|NumType=Card\\t6\\tcompound\\t_\\t_\\n6\\ttuhansien\\ttuhat\\tNUM\\t_\\tCase=Gen|Number=Plur|NumType=Card\\t7\\tnummod\\t_\\t_\\n7\\tvuosien\\tvuosi\\tNOUN\\t_\\tCase=Gen|Number=Plur\\t8\\tnmod:poss\\t_\\t_\\n8\\taikajänteellä\\taika#jänne\\tNOUN\\t_\\tCase=Ade|Number=Sing\\t9\\tnmod\\t_\\t_\\n9\\ttapahtuvat\\ttapahtua\\tVERB\\t_\\tMood=Ind|Number=Plur|Person=3|Tense=Pres|VerbForm=Fin|Voice=Act\\t0\\troot\\t_\\t_\\n10\\tMaan\\tMaa\\tPROPN\\t_\\tCase=Gen|Number=Sing\\t11\\tnmod:poss\\t_\\t_\\n11\\tradan\\trata\\tNOUN\\t_\\tCase=Gen|Number=Sing\\t13\\tnmod:poss\\t_\\t_\\n12\\tsäännölliset\\tsäännöllinen\\tADJ\\t_\\tCase=Nom|Degree=Pos|Number=Plur\\t13\\tamod\\t_\\t_\\n13\\theilahtelut\\theilahtelu\\tNOUN\\t_\\tCase=Nom|Number=Plur\\t9\\tnsubj\\t_\\t_\\n14\\t,\\t,\\tPUNCT\\t_\\t_\\t16\\tpunct\\t_\\t_\\n15\\tjotka\\tjoka\\tPRON\\t_\\tCase=Nom|Number=Plur|PronType=Rel\\t16\\tnsubj\\t_\\t_\\n16\\tjohtuvat\\tjohtua\\tVERB\\t_\\tMood=Ind|Number=Plur|Person=3|Tense=Pres|VerbForm=Fin|Voice=Act\\t13\\tacl:relcl\\t_\\t_\\n17\\taurinkokunnan\\taurinko#kunta\\tNOUN\\t_\\tCase=Gen|Number=Sing\\t19\\tnmod:poss\\t_\\t_\\n18\\tsisäisestä\\tsisäinen\\tADJ\\t_\\tCase=Ela|Degree=Pos|Number=Sing\\t19\\tamod\\t_\\t_\\n19\\tdynamiikasta\\tdynamiikka\\tNOUN\\t_\\tCase=Ela|Number=Sing\\t16\\tnmod\\t_\\t_\\n20\\t.\\t.\\tPUNCT\\t_\\t_\\t9\\tpunct\\t_\\t_\\n</sentence>\\n<sentence>\\n1\\tNämä\\ttämä\\tPRON\\t_\\tCase=Nom|Number=Plur|PronType=Dem\\t3\\tdet\\t_\\t_\\n2\\tMilankovićin\\tMilankovićin\\tPROPN\\t_\\tCase=Gen|Number=Sing\\t3\\tnmod:poss\\t_\\t_\\n3\\tjaksot\\tjakso\\tNOUN\\t_\\tCase=Nom|Number=Plur\\t4\\tnsubj\\t_\\t_\\n4\\taiheuttavat\\taiheuttaa\\tVERB\\t_\\tMood=Ind|Number=Plur|Person=3|Tense=Pres|VerbForm=Fin|Voice=Act\\t0\\troot\\t_\\t_\\n5\\tniin\\tniin\\tADV\\t_\\t_\\t6\\tadvmod\\t_\\t_\\n6\\tkutsutun\\tkutsua\\tADJ\\t_\\tCase=Gen|Degree=Pos|Number=Sing\\t7\\tamod\\t_\\t_\\n7\\tjääkausisyklin\\tjää#kausi#sykli\\tNOUN\\t_\\tCase=Gen|Number=Sing\\t4\\tdobj\\t_\\t_\\n8\\t.\\t.\\tPUNCT\\t_\\t_\\t4\\tpunct\\t_\\t_\\n</sentence>\\n</paragraph>\\n<paragraph>\\n<sentence>\\n1\\tVoimakkaat\\tvoimakas\\tADJ\\t_\\tCase=Nom|Degree=Pos|Number=Plur\\t2\\tamod\\t_\\t_\\n2\\ttulivuorenpurkaukset\\ttuli#vuoren#purkaus\\tNOUN\\t_\\tCase=Nom|Number=Plur\\t4\\tnsubj\\t_\\t_\\n3\\tvoivat\\tvoida\\tAUX\\t_\\tMood=Ind|Number=Plur|Person=3|Tense=Pres|VerbForm=Fin|Voice=Act\\t4\\taux\\t_\\t_\\n4\\tvaikuttaa\\tvaikuttaa\\tVERB\\t_\\tInfForm=1|Number=Sing|VerbForm=Inf|Voice=Act\\t0\\troot\\t_\\t_\\n5\\tilmastoon\\tilmasto\\tNOUN\\t_\\tCase=Ill|Number=Sing\\t4\\tnmod\\t_\\t_\\n6\\täkillisesti\\täkillisesti\\tADV\\t_\\t_\\t4\\tadvmod\\t_\\t_\\n7\\t.\\t.\\tPUNCT\\t_\\t_\\t4\\tpunct\\t_\\t_\\n</sentence>\\n<sentence>\\n1\\tSuuria\\tsuuri\\tADJ\\t_\\tCase=Par|Degree=Pos|Number=Plur\\t2\\tamod\\t_\\t_\\n2\\tpurkauksia\\tpurkaus\\tNOUN\\t_\\tCase=Par|Number=Plur\\t3\\tnsubj\\t_\\t_\\n3\\ttapahtuu\\ttapahtua\\tVERB\\t_\\tMood=Ind|Number=Sing|Person=3|Tense=Pres|VerbForm=Fin|Voice=Act\\t0\\troot\\t_\\t_\\n4\\tuseita\\tusea\\tADJ\\t_\\tCase=Par|Degree=Pos|Number=Plur\\t5\\tamod\\t_\\t_\\n5\\tkertoja\\tkerta\\tNOUN\\t_\\tCase=Par|Number=Plur\\t3\\tnmod\\t_\\t_\\n6\\tvuosisadassa\\tvuosi#sata\\tNOUN\\t_\\tCase=Ine|Number=Sing\\t3\\tnmod\\t_\\t_\\n7\\t.\\t.\\tPUNCT\\t_\\t_\\t3\\tpunct\\t_\\t_\\n</sentence>\\n<sentence>\\n1\\tJoidenkin\\tjokin\\tPRON\\t_\\tCase=Gen|Number=Plur|PronType=Ind\\t4\\tdet\\t_\\t_\\n2\\tkymmenien\\tkymmenen\\tNUM\\t_\\tCase=Gen|Number=Plur|NumType=Card\\t3\\tcompound\\t_\\t_\\n3\\tmiljoonien\\tmiljoona\\tNUM\\t_\\tCase=Gen|Number=Plur|NumType=Card\\t4\\tnummod\\t_\\t_\\n4\\tvuosien\\tvuosi\\tNOUN\\t_\\tCase=Gen|Number=Plur\\t5\\tnmod:poss\\t_\\t_\\n5\\tvälein\\tväli\\tNOUN\\t_\\tCase=Ins|Number=Plur\\t6\\tnmod\\t_\\t_\\n6\\tesiintyy\\tesiintyä\\tVERB\\t_\\tMood=Ind|Number=Sing|Person=3|Tense=Pres|VerbForm=Fin|Voice=Act\\t0\\troot\\t_\\t_\\n7\\tmyös\\tmyös\\tADV\\t_\\t_\\t15\\tadvmod\\t_\\t_\\n8\\terittäin\\terittäin\\tADV\\t_\\t_\\t9\\tadvmod\\t_\\t_\\n9\\tsuuria\\tsuuri\\tADJ\\t_\\tCase=Par|Degree=Pos|Number=Plur\\t15\\tamod\\t_\\t_\\n10\\t(\\t(\\tPUNCT\\t_\\t_\\t13\\tpunct\\t_\\t_\\n11\\tmiljoonien\\tmiljoona\\tNUM\\t_\\tCase=Gen|Number=Plur|NumType=Card\\t12\\tnummod\\t_\\t_\\n12\\tneliökilometrien\\tneliö#kilo#metri\\tNOUN\\t_\\tCase=Gen|Number=Plur\\t13\\tnmod:poss\\t_\\t_\\n13\\tsuuruisia\\tsuuruinen\\tADJ\\t_\\tCase=Par|Degree=Pos|Number=Plur\\t15\\tamod\\t_\\t_\\n14\\t)\\t)\\tPUNCT\\t_\\t_\\t13\\tpunct\\t_\\t_\\n15\\tpurkausalueita\\tpurkaus#alue\\tNOUN\\t_\\tCase=Par|Number=Plur\\t6\\tnsubj\\t_\\t_\\n16\\t,\\t,\\tPUNCT\\t_\\t_\\t18\\tpunct\\t_\\t_\\n17\\tjotka\\tjoka\\tPRON\\t_\\tCase=Nom|Number=Plur|PronType=Rel\\t18\\tnsubj\\t_\\t_\\n18\\tvaikuttavat\\tvaikuttaa\\tVERB\\t_\\tMood=Ind|Number=Plur|Person=3|Tense=Pres|VerbForm=Fin|Voice=Act\\t15\\tacl:relcl\\t_\\t_\\n19\\tilmastoon\\tilmasto\\tNOUN\\t_\\tCase=Ill|Number=Sing\\t18\\tnmod\\t_\\t_\\n20\\tmiljoonien\\tmiljoona\\tNUM\\t_\\tCase=Gen|Number=Plur|NumType=Card\\t21\\tnummod\\t_\\t_\\n21\\tvuosien\\tvuosi\\tNOUN\\t_\\tCase=Gen|Number=Plur\\t22\\tnmod:poss\\t_\\t_\\n22\\tajan\\taika\\tNOUN\\t_\\tCase=Gen|Number=Sing\\t18\\tnmod\\t_\\t_\\n23\\t.\\t.\\tPUNCT\\t_\\t_\\t6\\tpunct\\t_\\t_\\n</sentence>\\n</paragraph>\\n<paragraph>\\n<sentence>\\n1\\tKasvihuoneilmiö\\tkasvi#huone#ilmiö\\tNOUN\\t_\\tCase=Nom|Number=Sing\\t7\\tnsubj:cop\\t_\\t_\\n2\\ton\\tolla\\tVERB\\t_\\tMood=Ind|Number=Sing|Person=3|Tense=Pres|VerbForm=Fin|Voice=Act\\t7\\tcop\\t_\\t_\\n3\\tmerkittävä\\tmerkittävä\\tADJ\\t_\\tCase=Nom|Degree=Pos|Number=Sing\\t7\\tamod\\t_\\t_\\n4\\tmaapallon\\tmaa#pallo\\tNOUN\\t_\\tCase=Gen|Number=Sing\\t5\\tnmod:poss\\t_\\t_\\n5\\tlämpötilaa\\tlämpö#tila\\tNOUN\\t_\\tCase=Par|Number=Sing\\t6\\tdobj\\t_\\t_\\n6\\tsäätelevä\\tsäädellä\\tVERB\\t_\\tCase=Nom|Degree=Pos|Number=Sing|PartForm=Pres|VerbForm=Part|Voice=Act\\t7\\tacl\\t_\\t_\\n7\\ttekijä\\ttekijä\\tNOUN\\t_\\tCase=Nom|Number=Sing\\t0\\troot\\t_\\t_\\n8\\t.\\t.\\tPUNCT\\t_\\t_\\t7\\tpunct\\t_\\t_\\n</sentence>\\n<sentence>\\n1\\tKasvihuoneilmiötä\\tkasvi#huone#ilmiö\\tNOUN\\t_\\tCase=Par|Number=Sing\\t7\\tdobj\\t_\\t_\\n2\\tvoimistavista\\tvoida#tavi\\tNOUN\\t_\\tCase=Ela|Number=Sing\\t1\\tnmod\\t_\\t_\\n3\\tkasvihuonekaasuista\\tkasvi#huone#kaasu\\tNOUN\\t_\\tCase=Ela|Number=Plur\\t2\\tnmod\\t_\\t_\\n4\\thiilidioksidin\\thiili#dioksidi\\tNOUN\\t_\\tCase=Gen|Number=Sing\\t5\\tnmod:poss\\t_\\t_\\n5\\tmäärän\\tmäärä\\tNOUN\\t_\\tCase=Gen|Number=Sing\\t6\\tnmod:poss\\t_\\t_\\n6\\tilmakehässä\\tilma#kehä\\tNOUN\\t_\\tCase=Ine|Number=Sing\\t3\\tnmod\\t_\\t_\\n7\\tarvioidaan\\tarvioida\\tVERB\\t_\\tMood=Ind|Tense=Pres|VerbForm=Fin|Voice=Pass\\t0\\troot\\t_\\t_\\n8\\ttällä\\ttämä\\tPRON\\t_\\tCase=Ade|Number=Sing|PronType=Dem\\t9\\tdet\\t_\\t_\\n9\\thetkellä\\thetki\\tNOUN\\t_\\tCase=Ade|Number=Sing\\t11\\tnmod\\t_\\t_\\n10\\tolevan\\tolla\\tVERB\\t_\\tCase=Gen|Degree=Pos|Number=Sing|PartForm=Pres|VerbForm=Part|Voice=Act\\t11\\tcop\\t_\\t_\\n11\\tkorkein\\tkorkea\\tADJ\\t_\\tCase=Nom|Degree=Sup|Number=Sing\\t7\\tccomp\\t_\\t_\\n12\\tkolmeen\\tkolme\\tNUM\\t_\\tCase=Ill|Number=Sing|NumType=Card\\t13\\tcompound\\t_\\t_\\n13\\tmiljoonaan\\tmiljoona\\tNUM\\t_\\tCase=Ill|Number=Sing|NumType=Card\\t14\\tnummod\\t_\\t_\\n14\\tvuoteen\\tvuosi\\tNOUN\\t_\\tCase=Ill|Number=Sing\\t11\\tnmod\\t_\\t_\\n15\\t.\\t.\\tPUNCT\\t_\\t_\\t7\\tpunct\\t_\\t_\\n</sentence>\\n<sentence>\\n1\\tPaleoklimatologeja\\tpaleoklimatologi\\tNOUN\\t_\\tCase=Par|Number=Plur\\t2\\tdobj\\t_\\t_\\n2\\tkiinnostaakin\\tkiinnostaa\\tVERB\\t_\\tClitic=Kin|Mood=Ind|Number=Sing|Person=3|Tense=Pres|VerbForm=Fin|Voice=Act\\t0\\troot\\t_\\t_\\n3\\tnyt\\tnyt\\tADV\\t_\\t_\\t2\\tadvmod\\t_\\t_\\n4\\ttutkia\\ttutka\\tNOUN\\t_\\tCase=Par|Number=Plur\\t2\\tdobj\\t_\\t_\\n5\\tplioseenikaudella\\tplioseenikaudella\\tNOUN\\t_\\tCase=Ade|Number=Sing\\t4\\tnmod\\t_\\t_\\n6\\teli\\teli\\tCONJ\\t_\\t_\\t4\\tcc\\t_\\t_\\n7\\tkauan\\tkauan\\tADV\\t_\\t_\\t10\\tadvmod\\t_\\t_\\n8\\tennen\\tennen\\tADP\\t_\\tAdpType=Prep\\t10\\tcase\\t_\\t_\\n9\\tihmislajin\\tihminen#laji\\tNOUN\\t_\\tCase=Gen|Number=Sing\\t10\\tnmod:gobj\\t_\\t_\\n10\\tilmaantumista\\tilmaantua\\tNOUN\\t_\\tCase=Par|Derivation=Minen|Number=Sing\\t4\\tconj\\t_\\t_\\n11\\tmaapallolle\\tmaa#pallo\\tNOUN\\t_\\tCase=All|Number=Sing\\t12\\tnmod\\t_\\t_\\n12\\tvallinnutta\\tvallita\\tVERB\\t_\\tCase=Par|Degree=Pos|Number=Sing|PartForm=Past|VerbForm=Part|Voice=Act\\t13\\tacl\\t_\\t_\\n13\\tajanjaksoa\\tajan#jakso\\tNOUN\\t_\\tCase=Par|Number=Sing\\t10\\tnmod\\t_\\t_\\n14\\t,\\t,\\tPUNCT\\t_\\t_\\t21\\tpunct\\t_\\t_\\n15\\tkoska\\tkoska\\tSCONJ\\t_\\t_\\t21\\tmark\\t_\\t_\\n16\\thiilidioksidipitoisuuden\\thiili#dioksidi#pitoisuus\\tNOUN\\t_\\tCase=Gen|Number=Sing\\t17\\tnmod:poss\\t_\\t_\\n17\\tkasvuun\\tkasvu\\tNOUN\\t_\\tCase=Ill|Number=Sing\\t18\\tnmod\\t_\\t_\\n18\\tliittyvän\\tliittyä\\tVERB\\t_\\tCase=Gen|Degree=Pos|Number=Sing|PartForm=Pres|VerbForm=Part|Voice=Act\\t19\\tacl\\t_\\t_\\n19\\tilmaston\\tilmasto\\tNOUN\\t_\\tCase=Gen|Number=Sing\\t20\\tnmod:gobj\\t_\\t_\\n20\\tlämpenemisen\\tlämmetä\\tNOUN\\t_\\tCase=Gen|Derivation=Minen|Number=Sing\\t22\\tnsubj\\t_\\t_\\n21\\tarvioidaan\\tarvioida\\tVERB\\t_\\tMood=Ind|Tense=Pres|VerbForm=Fin|Voice=Pass\\t2\\tadvcl\\t_\\t_\\n22\\tmuuttavan\\tmuuttaa\\tVERB\\t_\\tCase=Gen|Degree=Pos|Number=Sing|PartForm=Pres|VerbForm=Part|Voice=Act\\t21\\txcomp:ds\\t_\\t_\\n23\\tMaapalloa\\tmaa#pallo\\tNOUN\\t_\\tCase=Par|Number=Sing\\t22\\tdobj\\t_\\t_\\n24\\tsilloin\\tsilloin\\tADV\\t_\\t_\\t25\\tadvmod\\t_\\t_\\n25\\tvallinneita\\tvallita\\tVERB\\t_\\tCase=Par|Degree=Pos|Number=Plur|PartForm=Past|VerbForm=Part|Voice=Act\\t26\\tacl\\t_\\t_\\n26\\toloja\\tolo\\tNOUN\\t_\\tCase=Par|Number=Plur\\t27\\tdobj\\t_\\t_\\n27\\tmuistuttavaan\\tmuistuttaa\\tVERB\\t_\\tCase=Ill|Degree=Pos|Number=Sing|PartForm=Pres|VerbForm=Part|Voice=Act\\t28\\tacl\\t_\\t_\\n28\\tsuuntaan\\tsuunta\\tNOUN\\t_\\tCase=Ill|Number=Sing\\t22\\tnmod\\t_\\t_\\n29\\t.\\t.\\tPUNCT\\t_\\t_\\t2\\tpunct\\t_\\t_\\n</sentence>\\n</paragraph>\\n<paragraph>\\n<sentence>\\n1\\tKalkkikiven\\tkalkki#kivi\\tNOUN\\t_\\tCase=Gen|Number=Sing\\t2\\tnmod:gobj\\t_\\t_\\n2\\trapautuminen\\trapautua\\tNOUN\\t_\\tCase=Nom|Derivation=Minen|Number=Sing\\t3\\tnsubj\\t_\\t_\\n3\\tvaimentaa\\tvaimentaa\\tVERB\\t_\\tMood=Ind|Number=Sing|Person=3|Tense=Pres|VerbForm=Fin|Voice=Act\\t0\\troot\\t_\\t_\\n4\\thiilidioksidipitoisuuden\\thiili#dioksidi#pitoisuus\\tNOUN\\t_\\tCase=Gen|Number=Sing\\t5\\tnmod:poss\\t_\\t_\\n5\\tmuutoksia\\tmuutos\\tNOUN\\t_\\tCase=Par|Number=Plur\\t3\\tdobj\\t_\\t_\\n6\\t.\\t.\\tPUNCT\\t_\\t_\\t3\\tpunct\\t_\\t_\\n</sentence>\\n<sentence>\\n1\\tMitä\\tmitä\\tADV\\t_\\t_\\t2\\tadvmod\\t_\\t_\\n2\\tenemmän\\tenemmän\\tADV\\t_\\t_\\t3\\tadvmod\\t_\\t_\\n3\\thiilidioksidia\\thiili#dioksidi\\tNOUN\\t_\\tCase=Par|Number=Sing\\t6\\tappos\\t_\\t_\\n4\\t,\\t,\\tPUNCT\\t_\\t_\\t3\\tpunct\\t_\\t_\\n5\\tsitä\\tsitä\\tADV\\t_\\t_\\t3\\tcc\\t_\\t_\\n6\\tenemmän\\tenemmän\\tADV\\t_\\t_\\t8\\tadvmod\\t_\\t_\\n7\\trapautuminen\\trapautua\\tNOUN\\t_\\tCase=Nom|Derivation=Minen|Number=Sing\\t8\\tnsubj\\t_\\t_\\n8\\tkiihtyy\\tkiihtyä\\tVERB\\t_\\tMood=Ind|Number=Sing|Person=3|Tense=Pres|VerbForm=Fin|Voice=Act\\t0\\troot\\t_\\t_\\n9\\t,\\t,\\tPUNCT\\t_\\t_\\t11\\tpunct\\t_\\t_\\n10\\tmikä\\tmikä\\tPRON\\t_\\tCase=Nom|Number=Sing|PronType=Rel\\t11\\tnsubj\\t_\\t_\\n11\\tlisää\\tlisätä\\tVERB\\t_\\tMood=Ind|Number=Sing|Person=3|Tense=Pres|VerbForm=Fin|Voice=Act\\t8\\tccomp\\t_\\t_\\n12\\tkalkkikiven\\tkalkki#kivi\\tNOUN\\t_\\tCase=Gen|Number=Sing\\t13\\tnmod:gobj\\t_\\t_\\n13\\tsyntymistä\\tsyntyä\\tNOUN\\t_\\tCase=Par|Derivation=Minen|Number=Sing\\t11\\tdobj\\t_\\t_\\n14\\t,\\t,\\tPUNCT\\t_\\t_\\t17\\tpunct\\t_\\t_\\n15\\tjoka\\tjoka\\tPRON\\t_\\tCase=Nom|Number=Sing|PronType=Rel\\t17\\tnsubj\\t_\\t_\\n16\\ttaas\\ttaas\\tADV\\t_\\t_\\t17\\tadvmod\\t_\\t_\\n17\\tsitoo\\tsitoa\\tVERB\\t_\\tMood=Ind|Number=Sing|Person=3|Tense=Pres|VerbForm=Fin|Voice=Act\\t13\\tacl:relcl\\t_\\t_\\n18\\thiilidioksidia\\thiili#dioksidi\\tNOUN\\t_\\tCase=Par|Number=Sing\\t17\\tdobj\\t_\\t_\\n19\\titseensä\\titse\\tPRON\\t_\\tCase=Ill|Number=Sing|Person[psor]=3|Reflex=Yes\\t20\\tnmod\\t_\\t_\\n20\\tvähentäen\\tvähentää\\tVERB\\t_\\tCase=Ins|InfForm=2|Number=Sing|VerbForm=Inf|Voice=Act\\t17\\tadvcl\\t_\\t_\\n21\\tpitoisuuksia\\tpitoisuus\\tNOUN\\t_\\tCase=Par|Number=Plur\\t20\\tdobj\\t_\\t_\\n22\\t.\\t.\\tPUNCT\\t_\\t_\\t8\\tpunct\\t_\\t_\\n</sentence>\\n<sentence>\\n1\\tKestää\\tkestää\\tVERB\\t_\\tMood=Ind|Number=Sing|Person=3|Tense=Pres|VerbForm=Fin|Voice=Act\\t0\\troot\\t_\\t_\\n2\\tkuitenkin\\tkuitenkin\\tADV\\t_\\t_\\t1\\tadvmod\\t_\\t_\\n3\\tmiljoonia\\tmiljoona\\tNUM\\t_\\tCase=Par|Number=Plur|NumType=Card\\t4\\tnummod\\t_\\t_\\n4\\tvuosia\\tvuosi\\tNOUN\\t_\\tCase=Par|Number=Plur\\t1\\tdobj\\t_\\t_\\n5\\t,\\t,\\tPUNCT\\t_\\t_\\t10\\tpunct\\t_\\t_\\n6\\tennen\\tennen\\tADV\\t_\\t_\\t7\\tadvmod\\t_\\t_\\n7\\tkuin\\tkuin\\tSCONJ\\t_\\t_\\t10\\tmark\\t_\\t_\\n8\\tilmakehän\\tilma#kehä\\tNOUN\\t_\\tCase=Gen|Number=Sing\\t9\\tnmod:poss\\t_\\t_\\n9\\thiilidioksidipitoisuus\\thiili#dioksidi#pitoisuus\\tNOUN\\t_\\tCase=Nom|Number=Sing\\t10\\tnsubj\\t_\\t_\\n10\\tpalaa\\tpalaa\\tVERB\\t_\\tMood=Ind|Number=Sing|Person=3|Tense=Pres|VerbForm=Fin|Voice=Act\\t1\\tacl:relcl\\t_\\t_\\n11\\tennalleen\\tennalleen\\tADV\\t_\\t_\\t10\\tadvmod\\t_\\t_\\n12\\tedellä\\tedellä\\tADV\\t_\\t_\\t13\\tadvmod\\t_\\t_\\n13\\tkuvatun\\tkuvata\\tVERB\\t_\\tCase=Gen|Degree=Pos|Number=Sing|PartForm=Past|VerbForm=Part|Voice=Pass\\t14\\tacl\\t_\\t_\\n14\\tprosessin\\tprosessi\\tNOUN\\t_\\tCase=Gen|Number=Sing\\t15\\tnmod:poss\\t_\\t_\\n15\\tavulla\\tapu\\tNOUN\\t_\\tCase=Ade|Number=Sing\\t10\\tnmod\\t_\\t_\\n16\\t.\\t.\\tPUNCT\\t_\\t_\\t1\\tpunct\\t_\\t_\\n</sentence>\\n</paragraph>\\n<paragraph>\\n<sentence>\\n1\\tToisaalta\\ttoisaalta\\tADV\\t_\\t_\\t5\\tadvmod\\t_\\t_\\n2\\tnykyistä\\tnykyinen\\tADJ\\t_\\tCase=Par|Degree=Pos|Number=Sing\\t3\\tamod\\t_\\t_\\n3\\thiilidioksidipitoisuutta\\thiili#dioksidi#pitoisuus\\tNOUN\\t_\\tCase=Par|Number=Sing\\t6\\tdobj\\t_\\t_\\n4\\ton\\tolla\\tVERB\\t_\\tMood=Ind|Number=Sing|Person=3|Tense=Pres|VerbForm=Fin|Voice=Act\\t5\\tcop\\t_\\t_\\n5\\tarveluttavaa\\tarveluttava\\tADJ\\t_\\tCase=Par|Degree=Pos|Number=Sing\\t0\\troot\\t_\\t_\\n6\\tverrata\\tverrata\\tVERB\\t_\\tInfForm=1|Number=Sing|VerbForm=Inf|Voice=Act\\t5\\tcsubj:cop\\t_\\t_\\n7\\t250\\t250\\tNUM\\t_\\tNumType=Card\\t8\\tcompound\\t_\\t_\\n8\\tmiljoonaa\\tmiljoona\\tNUM\\t_\\tCase=Par|Number=Sing|NumType=Card\\t9\\tnummod\\t_\\t_\\n9\\tvuotta\\tvuosi\\tNOUN\\t_\\tCase=Par|Number=Sing\\t11\\tnmod\\t_\\t_\\n10\\tsitten\\tsitten\\tADP\\t_\\tAdpType=Post\\t9\\tcase\\t_\\t_\\n11\\tolleeseen\\tolla\\tVERB\\t_\\tCase=Ill|Degree=Pos|Number=Sing|PartForm=Past|VerbForm=Part|Voice=Act\\t12\\tacl\\t_\\t_\\n12\\ttilanteeseen\\ttilanne\\tNOUN\\t_\\tCase=Ill|Number=Sing\\t6\\tnmod\\t_\\t_\\n13\\t,\\t,\\tPUNCT\\t_\\t_\\t18\\tpunct\\t_\\t_\\n14\\tkoska\\tkoska\\tSCONJ\\t_\\t_\\t18\\tmark\\t_\\t_\\n15\\tsilloin\\tsilloin\\tADV\\t_\\t_\\t17\\tadvmod\\t_\\t_\\n16\\tilmeisesti\\tilmeisesti\\tADV\\t_\\t_\\t15\\tadvmod\\t_\\t_\\n17\\tSiperiassa\\tSiperia\\tPROPN\\t_\\tCase=Ine|Number=Sing\\t18\\tnmod\\t_\\t_\\n18\\toli\\tolla\\tVERB\\t_\\tMood=Ind|Number=Sing|Person=3|Tense=Past|VerbForm=Fin|Voice=Act\\t5\\tadvcl\\t_\\t_\\n19\\tvoimakasta\\tvoimakas\\tADJ\\t_\\tCase=Par|Degree=Pos|Number=Sing\\t21\\tamod\\t_\\t_\\n20\\tvulkaanista\\tvulkaaninen\\tADJ\\t_\\tCase=Par|Degree=Pos|Number=Sing\\t21\\tamod\\t_\\t_\\n21\\ttoimintaa\\ttoiminta\\tNOUN\\t_\\tCase=Par|Number=Sing\\t18\\tnsubj\\t_\\t_\\n22\\tja\\tja\\tCONJ\\t_\\t_\\t18\\tcc\\t_\\t_\\n23\\tsilloin\\tsilloin\\tADV\\t_\\t_\\t24\\tadvmod\\t_\\t_\\n24\\ttapahtui\\ttapahtua\\tVERB\\t_\\tMood=Ind|Number=Sing|Person=3|Tense=Past|VerbForm=Fin|Voice=Act\\t18\\tconj\\t_\\t_\\n25\\tyksi\\tyksi\\tNUM\\t_\\tCase=Nom|Number=Sing|NumType=Card\\t26\\tnummod\\t_\\t_\\n26\\tmaapallon\\tmaa#pallo\\tNOUN\\t_\\tCase=Gen|Number=Sing\\t27\\tnmod:poss\\t_\\t_\\n27\\thistorian\\thistoria\\tNOUN\\t_\\tCase=Gen|Number=Sing\\t24\\tdobj\\t_\\t_\\n28\\tsuurimmista\\tsuuri\\tADJ\\t_\\tCase=Ela|Degree=Sup|Number=Plur\\t30\\tamod\\t_\\t_\\n29\\tlajien\\tlaji\\tNOUN\\t_\\tCase=Gen|Number=Plur\\t30\\tnmod:poss\\t_\\t_\\n30\\tmassakadoista\\tmassa#kato\\tNOUN\\t_\\tCase=Ela|Number=Plur\\t27\\tnmod\\t_\\t_\\n31\\t.\\t.\\tPUNCT\\t_\\t_\\t5\\tpunct\\t_\\t_\\n</sentence>\\n<sentence>\\n1\\tArviolta\\tarvio\\tNOUN\\t_\\tCase=Abl|Number=Sing\\t3\\tnmod\\t_\\t_\\n2\\t95\\t95\\tNUM\\t_\\tNumType=Card\\t3\\tnummod\\t_\\t_\\n3\\t%\\t%\\tSYM\\t_\\t_\\t5\\tnsubj\\t_\\t_\\n4\\tlajeista\\tlaji\\tNOUN\\t_\\tCase=Ela|Number=Plur\\t3\\tnmod\\t_\\t_\\n5\\tkatosi\\tkadota\\tVERB\\t_\\tMood=Ind|Number=Sing|Person=3|Tense=Past|VerbForm=Fin|Voice=Act\\t0\\troot\\t_\\t_\\n6\\tja\\tja\\tCONJ\\t_\\t_\\t5\\tcc\\t_\\t_\\n7\\tbiodiversiteetin\\tbiodiversiteetti\\tNOUN\\t_\\tCase=Gen|Number=Sing\\t8\\tnmod:gobj\\t_\\t_\\n8\\tpalautuminen\\tpala#utua\\tNOUN\\t_\\tCase=Nom|Derivation=Minen|Number=Sing\\t9\\tnsubj\\t_\\t_\\n9\\tkesti\\tkestää\\tVERB\\t_\\tMood=Ind|Number=Sing|Person=3|Tense=Past|VerbForm=Fin|Voice=Act\\t5\\tconj\\t_\\t_\\n10\\t5–6\\t5–6\\tNUM\\t_\\tNumType=Card\\t11\\tcompound\\t_\\t_\\n11\\tmiljoonaa\\tmiljoona\\tNUM\\t_\\tCase=Par|Number=Sing|NumType=Card\\t12\\tnummod\\t_\\t_\\n12\\tvuotta\\tvuosi\\tNOUN\\t_\\tCase=Par|Number=Sing\\t9\\tdobj\\t_\\t_\\n13\\t.\\t.\\tPUNCT\\t_\\t_\\t5\\tpunct\\t_\\t_\\n</sentence>\\n<sentence>\\n1\\tSilloin\\tsilloin\\tADV\\t_\\t_\\t5\\tadvmod\\t_\\t_\\n2\\thiilidioksidipitoisuus\\thiili#dioksidi#pitoisuus\\tNOUN\\t_\\tCase=Nom|Number=Sing\\t5\\tnsubj:cop\\t_\\t_\\n3\\toli\\tolla\\tVERB\\t_\\tMood=Ind|Number=Sing|Person=3|Tense=Past|VerbForm=Fin|Voice=Act\\t5\\tcop\\t_\\t_\\n4\\tepätavallisen\\tepä#tavallinen\\tADJ\\t_\\tCase=Gen|Degree=Pos|Number=Sing\\t5\\tamod\\t_\\t_\\n5\\tkorkea\\tkorkea\\tADJ\\t_\\tCase=Nom|Degree=Pos|Number=Sing\\t0\\troot\\t_\\t_\\n6\\tverrattuna\\tverrata\\tVERB\\t_\\tCase=Ess|Degree=Pos|Number=Sing|PartForm=Past|VerbForm=Part|Voice=Pass\\t7\\tacl\\t_\\t_\\n7\\tnykytilanteeseen\\tnyky#tilanne\\tNOUN\\t_\\tCase=Ill|Number=Sing\\t5\\tnmod\\t_\\t_\\n8\\t.\\t.\\tPUNCT\\t_\\t_\\t5\\tpunct\\t_\\t_\\n</sentence>\\n</paragraph>\\n<paragraph>\\n<sentence>\\n1\\tNyt\\tnyt\\tADV\\t_\\t_\\t6\\tadvmod\\t_\\t_\\n2\\tkäynnissä\\tkäynti\\tNOUN\\t_\\tCase=Ine|Number=Sing\\t3\\tnmod\\t_\\t_\\n3\\toleva\\tolla\\tVERB\\t_\\tCase=Nom|Degree=Pos|Number=Sing|PartForm=Pres|VerbForm=Part|Voice=Act\\t4\\tacl\\t_\\t_\\n4\\tilmastonmuutos\\tilmasto#muutos\\tNOUN\\t_\\tCase=Nom|Number=Sing\\t6\\tnsubj:cop\\t_\\t_\\n5\\ton\\tolla\\tVERB\\t_\\tMood=Ind|Number=Sing|Person=3|Tense=Pres|VerbForm=Fin|Voice=Act\\t6\\tcop\\t_\\t_\\n6\\tseurausta\\tseuraus\\tNOUN\\t_\\tCase=Par|Number=Sing\\t0\\troot\\t_\\t_\\n7\\tihmisen\\tihminen\\tNOUN\\t_\\tCase=Gen|Number=Sing\\t9\\tnmod:gsubj\\t_\\t_\\n8\\tomasta\\toma\\tADJ\\t_\\tCase=Ela|Degree=Pos|Number=Sing\\t9\\tamod\\t_\\t_\\n9\\ttoiminnasta\\ttoiminta\\tNOUN\\t_\\tCase=Ela|Number=Sing\\t6\\tnmod\\t_\\t_\\n10\\t.\\t.\\tPUNCT\\t_\\t_\\t6\\tpunct\\t_\\t_\\n</sentence>\\n<sentence>\\n1\\tIhmiskunnan\\tihmis#kunta\\tNOUN\\t_\\tCase=Gen|Number=Sing\\t2\\tnsubj\\t_\\t_\\n2\\taiheuttaman\\taiheuttaa\\tVERB\\t_\\tCase=Gen|Degree=Pos|Number=Sing|PartForm=Agt|VerbForm=Part|Voice=Act\\t3\\tacl\\t_\\t_\\n3\\tilmastonmuutoksen\\tilmasto#muutos\\tNOUN\\t_\\tCase=Gen|Number=Sing\\t4\\tnmod:gsubj\\t_\\t_\\n4\\tvaikutukset\\tvaikutus\\tNOUN\\t_\\tCase=Nom|Number=Plur\\t6\\tnsubj\\t_\\t_\\n5\\tmaapallolle\\tmaa#pallo\\tNOUN\\t_\\tCase=All|Number=Sing\\t4\\tnmod\\t_\\t_\\n6\\tovat\\tolla\\tVERB\\t_\\tMood=Ind|Number=Plur|Person=3|Tense=Pres|VerbForm=Fin|Voice=Act\\t0\\troot\\t_\\t_\\n7\\tsaavuttamassa\\tsaavuttaa\\tVERB\\t_\\tCase=Ine|InfForm=3|Number=Sing|VerbForm=Inf|Voice=Act\\t6\\txcomp\\t_\\t_\\n8\\tsellaiset\\tsellainen\\tADJ\\t_\\tCase=Nom|Number=Plur\\t9\\tamod\\t_\\t_\\n9\\tmittasuhteet\\tmitta#suhde\\tNOUN\\t_\\tCase=Nom|Number=Plur\\t7\\tdobj\\t_\\t_\\n10\\t,\\t,\\tPUNCT\\t_\\t_\\t14\\tpunct\\t_\\t_\\n11\\tettä\\tettä\\tSCONJ\\t_\\t_\\t14\\tmark\\t_\\t_\\n12\\tnykyaikaa\\tnyky#aika\\tNOUN\\t_\\tCase=Par|Number=Sing\\t15\\tdobj\\t_\\t_\\n13\\ton\\tolla\\tAUX\\t_\\tMood=Ind|Number=Sing|Person=3|Tense=Pres|VerbForm=Fin|Voice=Act\\t14\\tauxpass\\t_\\t_\\n14\\talettu\\talkaa\\tVERB\\t_\\tCase=Nom|Degree=Pos|Number=Sing|PartForm=Past|VerbForm=Part|Voice=Pass\\t6\\tadvcl\\t_\\t_\\n15\\tkutsua\\tkutsua\\tVERB\\t_\\tInfForm=1|Number=Sing|VerbForm=Inf|Voice=Act\\t14\\txcomp\\t_\\t_\\n16\\tmaailmanhistoriassa\\tmaa#ilman#historia\\tNOUN\\t_\\tCase=Ine|Number=Sing\\t15\\tnmod\\t_\\t_\\n17\\tantroposeeniksi\\tantroposeeniksi\\tNOUN\\t_\\tCase=Tra|Number=Plur\\t15\\tnmod\\t_\\t_\\n18\\teli\\teli\\tCONJ\\t_\\t_\\t17\\tcc\\t_\\t_\\n19\\tihmisten\\tihminen\\tNOUN\\t_\\tCase=Gen|Number=Plur\\t20\\tnmod:poss\\t_\\t_\\n20\\taikakaudeksi\\taika#kausi\\tNOUN\\t_\\tCase=Tra|Number=Sing\\t17\\tconj\\t_\\t_\\n21\\t.\\t.\\tPUNCT\\t_\\t_\\t6\\tpunct\\t_\\t_\\n</sentence>\\n<sentence>\\n1\\tIhmisperäisen\\tihminen#peräinen\\tADJ\\t_\\tCase=Gen|Degree=Pos|Number=Sing\\t2\\tamod\\t_\\t_\\n2\\tilmastonmuutoksen\\tilmasto#muutos\\tNOUN\\t_\\tCase=Gen|Number=Sing\\t5\\tnmod\\t_\\t_\\n3\\tmyötä\\tmyötä\\tADP\\t_\\tAdpType=Post\\t2\\tcase\\t_\\t_\\n4\\tmaapallolla\\tmaa#pallo\\tNOUN\\t_\\tCase=Ade|Number=Sing\\t5\\tnmod\\t_\\t_\\n5\\ton\\tolla\\tVERB\\t_\\tMood=Ind|Number=Sing|Person=3|Tense=Pres|VerbForm=Fin|Voice=Act\\t0\\troot\\t_\\t_\\n6\\talkamassa\\talkaa\\tVERB\\t_\\tCase=Ine|InfForm=3|Number=Sing|VerbForm=Inf|Voice=Act\\t5\\txcomp\\t_\\t_\\n7\\tkokonaan\\tkokonaan\\tADV\\t_\\t_\\t8\\tadvmod\\t_\\t_\\n8\\tuusi\\tuusi\\tADJ\\t_\\tCase=Nom|Degree=Pos|Number=Sing\\t12\\tamod\\t_\\t_\\n9\\t,\\t,\\tPUNCT\\t_\\t_\\t12\\tpunct\\t_\\t_\\n10\\tluontaisesta\\tluontainen\\tADJ\\t_\\tCase=Ela|Degree=Pos|Number=Sing\\t12\\tamod\\t_\\t_\\n11\\tpoikkeava\\tpoikkeava\\tADJ\\t_\\tCase=Nom|Degree=Pos|Number=Sing\\t12\\tamod\\t_\\t_\\n12\\tkehityskulku\\tkehitys#kulku\\tNOUN\\t_\\tCase=Nom|Number=Sing\\t5\\tnsubj\\t_\\t_\\n13\\t.\\t.\\tPUNCT\\t_\\t_\\t5\\tpunct\\t_\\t_\\n</sentence>\\n</paragraph>\\n<paragraph>\\n<sentence>\\n1\\tTutkijoiden\\ttutkija\\tNOUN\\t_\\tCase=Gen|Number=Plur\\t5\\tnmod\\t_\\t_\\n2\\tmukaan\\tmukaan\\tADP\\t_\\tAdpType=Post\\t1\\tcase\\t_\\t_\\n3\\tmaapallon\\tmaa#pallo\\tNOUN\\t_\\tCase=Gen|Number=Sing\\t4\\tnmod:poss\\t_\\t_\\n4\\tkeskilämpötila\\tkeski#lämpö#tila\\tNOUN\\t_\\tCase=Nom|Number=Sing\\t5\\tnsubj\\t_\\t_\\n5\\ttulee\\ttulla\\tVERB\\t_\\tMood=Ind|Number=Sing|Person=3|Tense=Pres|VerbForm=Fin|Voice=Act\\t0\\troot\\t_\\t_\\n6\\tnousemaan\\tnousta\\tVERB\\t_\\tCase=Ill|InfForm=3|Number=Sing|VerbForm=Inf|Voice=Act\\t5\\txcomp\\t_\\t_\\n7\\tihmiskunnan\\tihmis#kunta\\tNOUN\\t_\\tCase=Gen|Number=Sing\\t8\\tnmod:poss\\t_\\t_\\n8\\ttoimien\\ttoimi\\tNOUN\\t_\\tCase=Gen|Number=Plur\\t6\\tnmod\\t_\\t_\\n9\\tjohdosta\\tjohdosta\\tADP\\t_\\tAdpType=Post\\t8\\tcase\\t_\\t_\\n10\\tvuoteen\\tvuosi\\tNOUN\\t_\\tCase=Ill|Number=Sing\\t6\\tnmod\\t_\\t_\\n11\\t2100\\t2100\\tNUM\\t_\\tNumType=Card\\t10\\tnummod\\t_\\t_\\n12\\tmennessä\\tmennessä\\tADP\\t_\\tAdpType=Post\\t10\\tcase\\t_\\t_\\n13\\ttodennäköisesti\\ttoden#näköisesti\\tADV\\t_\\t_\\t14\\tadvmod\\t_\\t_\\n14\\tusealla\\tusea\\tADJ\\t_\\tCase=Ade|Degree=Pos|Number=Sing\\t15\\tamod\\t_\\t_\\n15\\tcelsiusasteella\\tcelsius#aste\\tNOUN\\t_\\tCase=Ade|Number=Sing\\t6\\tnmod\\t_\\t_\\n16\\tjatkaen\\tjatkaa\\tVERB\\t_\\tCase=Ins|InfForm=2|Number=Sing|VerbForm=Inf|Voice=Act\\t6\\tadvcl\\t_\\t_\\n17\\tnousuaan\\tnousu\\tADV\\t_\\t_\\t16\\tadvmod\\t_\\t_\\n18\\tuseita\\tusea\\tADJ\\t_\\tCase=Par|Degree=Pos|Number=Plur\\t19\\tamod\\t_\\t_\\n19\\tvuosisatoja\\tvuosi#sata\\tNOUN\\t_\\tCase=Par|Number=Plur\\t16\\tdobj\\t_\\t_\\n20\\t.\\t.\\tPUNCT\\t_\\t_\\t5\\tpunct\\t_\\t_\\n</sentence>\\n<sentence>\\n1\\tNykyinen\\tnykyinen\\tADJ\\t_\\tCase=Nom|Degree=Pos|Number=Sing\\t2\\tamod\\t_\\t_\\n2\\tkonsensusarvio\\tkonsensus#arvio\\tNOUN\\t_\\tCase=Nom|Number=Sing\\t7\\tnsubj:cop\\t_\\t_\\n3\\tvuodelle\\tvuosi\\tNOUN\\t_\\tCase=All|Number=Sing\\t2\\tnmod\\t_\\t_\\n4\\t2100\\t2100\\tNUM\\t_\\tNumType=Card\\t3\\tnummod\\t_\\t_\\n5\\ton\\tolla\\tVERB\\t_\\tMood=Ind|Number=Sing|Person=3|Tense=Pres|VerbForm=Fin|Voice=Act\\t7\\tcop\\t_\\t_\\n6\\tnoin\\tnoin\\tADV\\t_\\t_\\t7\\tadvmod\\t_\\t_\\n7\\t1\\t1\\tNUM\\t_\\tNumType=Card\\t13\\tnummod\\t_\\t_\\n8\\t,\\t,\\tPUNCT\\t_\\t_\\t7\\tpunct\\t_\\t_\\n9\\t5\\t5\\tNUM\\t_\\tNumType=Card\\t10\\tcompound\\t_\\t_\\n10\\t–6\\t–6\\tNUM\\t_\\t_\\t7\\tconj\\t_\\t_\\n11\\t,\\t,\\tPUNCT\\t_\\t_\\t7\\tpunct\\t_\\t_\\n12\\t0\\t0\\tNUM\\t_\\tNumType=Card\\t7\\tconj\\t_\\t_\\n13\\t°C\\t°C\\tSYM\\t_\\t_\\t0\\troot\\t_\\t_\\n14\\t.\\t.\\tPUNCT\\t_\\t_\\t13\\tpunct\\t_\\t_\\n</sentence>\\n<sentence>\\n1\\tLämpenemisen\\tlämmetä\\tNOUN\\t_\\tCase=Gen|Derivation=Minen|Number=Sing\\t2\\tnmod:poss\\t_\\t_\\n2\\tvoimakkuus\\tvoimakkuus\\tNOUN\\t_\\tCase=Nom|Number=Sing\\t3\\tnsubj\\t_\\t_\\n3\\triippuu\\triippua\\tVERB\\t_\\tMood=Ind|Number=Sing|Person=3|Tense=Pres|VerbForm=Fin|Voice=Act\\t0\\troot\\t_\\t_\\n4\\ttässä\\ttämä\\tPRON\\t_\\tCase=Ine|Number=Sing|PronType=Dem\\t5\\tdet\\t_\\t_\\n5\\tarviossa\\tarvio\\tNOUN\\t_\\tCase=Ine|Number=Sing\\t3\\tnmod\\t_\\t_\\n6\\tsiitä\\tse\\tPRON\\t_\\tCase=Ela|Number=Sing|PronType=Dem\\t5\\tnmod\\t_\\t_\\n7\\t,\\t,\\tPUNCT\\t_\\t_\\t8\\tpunct\\t_\\t_\\n8\\tlisääntyykö\\tlisääntyä\\tVERB\\t_\\tClitic=Ko|Mood=Ind|Number=Sing|Person=3|Tense=Pres|VerbForm=Fin|Voice=Act\\t6\\tccomp\\t_\\t_\\n9\\tvai\\tvai\\tCONJ\\t_\\t_\\t8\\tcc\\t_\\t_\\n10\\tväheneekö\\tvähetä\\tVERB\\t_\\tClitic=Ko|Mood=Ind|Number=Sing|Person=3|Tense=Pres|VerbForm=Fin|Voice=Act\\t8\\tconj\\t_\\t_\\n11\\tihmiskunnan\\tihmis#kunta\\tNOUN\\t_\\tCase=Gen|Number=Sing\\t12\\tnmod:poss\\t_\\t_\\n12\\tilmakehään\\tilma#kehä\\tNOUN\\t_\\tCase=Ill|Number=Sing\\t13\\tnmod\\t_\\t_\\n13\\tsyytämien\\tsyytää\\tVERB\\t_\\tCase=Gen|Degree=Pos|Number=Plur|PartForm=Agt|VerbForm=Part|Voice=Act\\t14\\tacl\\t_\\t_\\n14\\tkasvihuonekaasujen\\tkasvi#huone#kaasu\\tNOUN\\t_\\tCase=Gen|Number=Plur\\t15\\tnmod:poss\\t_\\t_\\n15\\tmäärä\\tmäärä\\tNOUN\\t_\\tCase=Nom|Number=Sing\\t10\\tnsubj\\t_\\t_\\n16\\t.\\t.\\tPUNCT\\t_\\t_\\t3\\tpunct\\t_\\t_\\n</sentence>\\n<sentence>\\n1\\tNykyisellä\\tnykyinen\\tADJ\\t_\\tCase=Ade|Degree=Pos|Number=Sing\\t2\\tamod\\t_\\t_\\n2\\tkehityksellä\\tkehitys\\tNOUN\\t_\\tCase=Ade|Number=Sing\\t6\\tnmod\\t_\\t_\\n3\\tilmakehän\\tilma#kehä\\tNOUN\\t_\\tCase=Gen|Number=Sing\\t4\\tnmod:poss\\t_\\t_\\n4\\tkasvihuonekaasujen\\tkasvi#huone#kaasu\\tNOUN\\t_\\tCase=Gen|Number=Plur\\t5\\tnmod:poss\\t_\\t_\\n5\\tpitoisuus\\tpitoisuus\\tNOUN\\t_\\tCase=Nom|Number=Sing\\t6\\tnsubj\\t_\\t_\\n6\\ttulisi\\ttulla\\tVERB\\t_\\tMood=Cnd|Number=Sing|Person=3|VerbForm=Fin|Voice=Act\\t0\\troot\\t_\\t_\\n7\\tlähes\\tlähes\\tADV\\t_\\t_\\t8\\tadvmod\\t_\\t_\\n8\\tkolminkertaistumaan\\tkolminkertaistua\\tVERB\\t_\\tCase=Ill|InfForm=3|Number=Sing|VerbForm=Inf|Voice=Act\\t6\\txcomp:ds\\t_\\t_\\n9\\tnykyisestä\\tnykyinen\\tADJ\\t_\\tCase=Ela|Degree=Pos|Number=Sing\\t8\\tnmod\\t_\\t_\\n10\\t.\\t.\\tPUNCT\\t_\\t_\\t6\\tpunct\\t_\\t_\\n</sentence>\\n</paragraph>\\n<paragraph>\\n<sentence>\\n1\\tJos\\tjos\\tSCONJ\\t_\\t_\\t3\\tmark\\t_\\t_\\n2\\tilmastonmuutos\\tilmasto#muutos\\tNOUN\\t_\\tCase=Nom|Number=Sing\\t4\\tdobj\\t_\\t_\\n3\\thalutaan\\thaluta\\tVERB\\t_\\tMood=Ind|Tense=Pres|VerbForm=Fin|Voice=Pass\\t10\\tadvcl\\t_\\t_\\n4\\tpitää\\tpitää\\tVERB\\t_\\tInfForm=1|Number=Sing|VerbForm=Inf|Voice=Act\\t3\\txcomp\\t_\\t_\\n5\\taisoissa\\taisa\\tNOUN\\t_\\tCase=Ine|Number=Plur\\t4\\tnmod\\t_\\t_\\n6\\t,\\t,\\tPUNCT\\t_\\t_\\t3\\tpunct\\t_\\t_\\n7\\tteollisuusmaiden\\tteollisuus#maa\\tNOUN\\t_\\tCase=Gen|Number=Plur\\t8\\tnmod:poss\\t_\\t_\\n8\\tpäästöjen\\tpäästö\\tNOUN\\t_\\tCase=Gen|Number=Plur\\t10\\tnsubj\\t_\\t_\\n9\\tolisi\\tolla\\tAUX\\t_\\tMood=Cnd|Number=Sing|Person=3|VerbForm=Fin|Voice=Act\\t10\\tauxpass\\t_\\t_\\n10\\tpudottava\\tpudota\\tVERB\\t_\\tCase=Nom|Degree=Pos|Number=Sing|PartForm=Pres|VerbForm=Part|Voice=Pass\\t0\\troot\\t_\\t_\\n11\\ttuntuvasti\\ttuntuvasti\\tADV\\t_\\t_\\t10\\tadvmod\\t_\\t_\\n12\\tjo\\tjo\\tADV\\t_\\t_\\t13\\tadvmod\\t_\\t_\\n13\\tlähivuosikymmeninä\\tlähi#vuosikymmen\\tNOUN\\t_\\tCase=Ess|Number=Plur\\t10\\tnmod\\t_\\t_\\n14\\t,\\t,\\tPUNCT\\t_\\t_\\t10\\tpunct\\t_\\t_\\n15\\tja\\tja\\tCONJ\\t_\\t_\\t10\\tcc\\t_\\t_\\n16\\tteollistuvien\\tteollistua\\tADJ\\t_\\tCase=Gen|Degree=Pos|Number=Plur\\t17\\tamod\\t_\\t_\\n17\\tkehitysmaittenkin\\tkehitys#maa\\tNOUN\\t_\\tCase=Gen|Clitic=Kin|Number=Plur\\t19\\tnsubj\\t_\\t_\\n18\\tolisi\\tolla\\tAUX\\t_\\tMood=Cnd|Number=Sing|Person=3|VerbForm=Fin|Voice=Act\\t19\\tauxpass\\t_\\t_\\n19\\thillittävä\\thillitä\\tVERB\\t_\\tCase=Nom|Degree=Pos|Number=Sing|PartForm=Pres|VerbForm=Part|Voice=Pass\\t10\\tconj\\t_\\t_\\n20\\ttehokkaasti\\ttehokkaasti\\tADV\\t_\\t_\\t19\\tadvmod\\t_\\t_\\n21\\tpäästöjensä\\tpäästö\\tNOUN\\t_\\tCase=Gen|Number=Plur|Person[psor]=3\\t22\\tnmod:poss\\t_\\t_\\n22\\tkasvuvauhtia\\tkasvu#vauhti\\tNOUN\\t_\\tCase=Par|Number=Sing\\t19\\tdobj\\t_\\t_\\n23\\t.\\t.\\tPUNCT\\t_\\t_\\t10\\tpunct\\t_\\t_\\n</sentence>\\n<sentence>\\n1\\tTämä\\ttämä\\tPRON\\t_\\tCase=Nom|Number=Sing|PronType=Dem\\t2\\tnsubj\\t_\\t_\\n2\\tmerkitsisi\\tmerkitä\\tVERB\\t_\\tMood=Cnd|Number=Sing|Person=3|VerbForm=Fin|Voice=Act\\t0\\troot\\t_\\t_\\n3\\tsitä\\tse\\tPRON\\t_\\tCase=Par|Number=Sing|PronType=Dem\\t2\\tdobj\\t_\\t_\\n4\\t,\\t,\\tPUNCT\\t_\\t_\\t10\\tpunct\\t_\\t_\\n5\\tettä\\tettä\\tSCONJ\\t_\\t_\\t10\\tmark\\t_\\t_\\n6\\tsuurin\\tsuuri\\tADJ\\t_\\tCase=Nom|Degree=Sup|Number=Sing\\t7\\tamod\\t_\\t_\\n7\\tosa\\tosa\\tNOUN\\t_\\tCase=Nom|Number=Sing\\t10\\tdobj\\t_\\t_\\n8\\tfossiilisista\\tfossiilinen\\tADJ\\t_\\tCase=Ela|Degree=Pos|Number=Plur\\t9\\tamod\\t_\\t_\\n9\\tpolttoaineista\\tpoltto#aine\\tNOUN\\t_\\tCase=Ela|Number=Plur\\t7\\tnmod\\t_\\t_\\n10\\tjätettäisiin\\tjättää\\tVERB\\t_\\tMood=Cnd|VerbForm=Fin|Voice=Pass\\t3\\tccomp\\t_\\t_\\n11\\tikiajoiksi\\tiki#ajo\\tNOUN\\t_\\tCase=Tra|Number=Plur\\t10\\txcomp:ds\\t_\\t_\\n12\\tmaan\\tmaa\\tNOUN\\t_\\tCase=Gen|Number=Sing\\t13\\tnmod:poss\\t_\\t_\\n13\\tpoveen\\tpovi\\tNOUN\\t_\\tCase=Ill|Number=Sing\\t10\\tnmod\\t_\\t_\\n14\\t.\\t.\\tPUNCT\\t_\\t_\\t2\\tpunct\\t_\\t_\\n</sentence>\\n<sentence>\\n1\\tIhmiskunnan\\tihmis#kunta\\tNOUN\\t_\\tCase=Gen|Number=Sing\\t2\\tnmod:poss\\t_\\t_\\n2\\tpäästöjen\\tpäästö\\tNOUN\\t_\\tCase=Gen|Number=Plur\\t3\\tnmod:poss\\t_\\t_\\n3\\tkehitys\\tkehitys\\tNOUN\\t_\\tCase=Nom|Number=Sing\\t4\\tnsubj\\t_\\t_\\n4\\triippuu\\triippua\\tVERB\\t_\\tMood=Ind|Number=Sing|Person=3|Tense=Pres|VerbForm=Fin|Voice=Act\\t0\\troot\\t_\\t_\\n5\\tmuun\\tmuu\\tADV\\t_\\t_\\t8\\tadvmod\\t_\\t_\\n6\\tmuassa\\tmuassa\\tADV\\t_\\t_\\t5\\tmwe\\t_\\t_\\n7\\tpoliittisesta\\tpoliittinen\\tADJ\\t_\\tCase=Ela|Degree=Pos|Number=Sing\\t8\\tamod\\t_\\t_\\n8\\ttahdosta\\ttahto\\tNOUN\\t_\\tCase=Ela|Number=Sing\\t4\\tnmod\\t_\\t_\\n9\\t,\\t,\\tPUNCT\\t_\\t_\\t8\\tpunct\\t_\\t_\\n10\\ttekniikan\\ttekniikka\\tNOUN\\t_\\tCase=Gen|Number=Sing\\t11\\tnmod:gsubj\\t_\\t_\\n11\\tkehityksestä\\tkehitys\\tNOUN\\t_\\tCase=Ela|Number=Sing\\t8\\tconj\\t_\\t_\\n12\\tja\\tja\\tCONJ\\t_\\t_\\t8\\tcc\\t_\\t_\\n13\\tpäästöjen\\tpäästö\\tNOUN\\t_\\tCase=Gen|Number=Plur\\t14\\tnmod:poss\\t_\\t_\\n14\\trajoittamisyritysten\\trajoittaa#yritys\\tNOUN\\t_\\tCase=Gen|Number=Plur\\t15\\tnmod:gsubj\\t_\\t_\\n15\\tvaikutuksista\\tvaikutus\\tNOUN\\t_\\tCase=Ela|Number=Plur\\t8\\tconj\\t_\\t_\\n16\\t.\\t.\\tPUNCT\\t_\\t_\\t4\\tpunct\\t_\\t_\\n</sentence>\\n</paragraph>\\n<paragraph>\\n<sentence>\\n1\\tIlmaston\\tilmasto\\tNOUN\\t_\\tCase=Gen|Number=Sing\\t2\\tnmod:gsubj\\t_\\t_\\n2\\tlämpeneminen\\tlämmetä\\tNOUN\\t_\\tCase=Nom|Derivation=Minen|Number=Sing\\t3\\tnsubj\\t_\\t_\\n3\\tjohtuu\\tjohtua\\tVERB\\t_\\tMood=Ind|Number=Sing|Person=3|Tense=Pres|VerbForm=Fin|Voice=Act\\t0\\troot\\t_\\t_\\n4\\tennen\\tennen\\tADV\\t_\\t_\\t3\\tadvmod\\t_\\t_\\n5\\tkaikkea\\tkaikki\\tADV\\t_\\t_\\t4\\tmwe\\t_\\t_\\n6\\tilmakehän\\tilma#kehä\\tNOUN\\t_\\tCase=Gen|Number=Sing\\t7\\tnmod:poss\\t_\\t_\\n7\\thiilidioksidi-\\thiili#dioksidi\\tNOUN\\t_\\tCase=Nom|Number=Sing\\t3\\tnsubj\\t_\\t_\\n8\\t,\\t,\\tPUNCT\\t_\\t_\\t7\\tpunct\\t_\\t_\\n9\\tmetaani-\\tmetaani\\tNOUN\\t_\\tCase=Nom|Number=Sing\\t7\\tconj\\t_\\t_\\n10\\tja\\tja\\tCONJ\\t_\\t_\\t7\\tcc\\t_\\t_\\n11\\ttyppioksiduulipitoisuuksien\\ttyppi#oksiduuli#pitoisuus\\tNOUN\\t_\\tCase=Gen|Number=Plur\\t7\\tconj\\t_\\t_\\n12\\tsekä\\tsekä\\tCONJ\\t_\\t_\\t7\\tcc\\t_\\t_\\n13\\ttroposfäärin\\ttroposfääri\\tNOUN\\t_\\tCase=Gen|Number=Sing\\t14\\tnmod:poss\\t_\\t_\\n14\\totsonipitoisuuksien\\totsoni#pitoisuus\\tNOUN\\t_\\tCase=Gen|Number=Plur\\t15\\tnmod:poss\\t_\\t_\\n15\\tnoususta\\tnousu\\tNOUN\\t_\\tCase=Ela|Number=Sing\\t7\\tconj\\t_\\t_\\n16\\t.\\t.\\tPUNCT\\t_\\t_\\t3\\tpunct\\t_\\t_\\n</sentence>\\n<sentence>\\n1\\tPienhiukkasten\\tpiki#hiukkanen\\tNOUN\\t_\\tCase=Gen|Number=Plur\\t4\\tnmod:poss\\t_\\t_\\n2\\teli\\teli\\tCONJ\\t_\\t_\\t1\\tcc\\t_\\t_\\n3\\taerosolien\\taerosoli\\tNOUN\\t_\\tCase=Gen|Number=Plur\\t1\\tconj\\t_\\t_\\n4\\tvaikutusta\\tvaikutus\\tNOUN\\t_\\tCase=Par|Number=Sing\\t8\\tdobj\\t_\\t_\\n5\\tpilvisyyteen\\tpilvisyys\\tNOUN\\t_\\tCase=Ill|Number=Sing\\t4\\tnmod\\t_\\t_\\n6\\ton\\tolla\\tVERB\\t_\\tMood=Ind|Number=Sing|Person=3|Tense=Pres|VerbForm=Fin|Voice=Act\\t7\\tcop\\t_\\t_\\n7\\tvaikea\\tvaikea\\tADJ\\t_\\tCase=Nom|Degree=Pos|Number=Sing\\t0\\troot\\t_\\t_\\n8\\tarvioida\\tarvioida\\tVERB\\t_\\tInfForm=1|Number=Sing|VerbForm=Inf|Voice=Act\\t7\\txcomp:ds\\t_\\t_\\n9\\ttarkasti\\ttarkasti\\tADV\\t_\\t_\\t8\\tadvmod\\t_\\t_\\n10\\t,\\t,\\tPUNCT\\t_\\t_\\t7\\tpunct\\t_\\t_\\n11\\tmutta\\tmutta\\tCONJ\\t_\\t_\\t7\\tcc\\t_\\t_\\n12\\tnykytiedon\\tnyky#tieto\\tNOUN\\t_\\tCase=Gen|Number=Sing\\t13\\tnmod:poss\\t_\\t_\\n13\\tvalossa\\tvalo\\tNOUN\\t_\\tCase=Ine|Number=Sing\\t15\\tnmod\\t_\\t_\\n14\\tpienhiukkasilla\\tpiki#hiukkanen\\tNOUN\\t_\\tCase=Ade|Number=Plur\\t15\\tnmod:own\\t_\\t_\\n15\\tolisi\\tolla\\tVERB\\t_\\tMood=Cnd|Number=Sing|Person=3|VerbForm=Fin|Voice=Act\\t7\\tconj\\t_\\t_\\n16\\tvoimakas\\tvoimakas\\tADJ\\t_\\tCase=Nom|Degree=Pos|Number=Sing\\t19\\tamod\\t_\\t_\\n17\\tilmastoa\\tilmasto\\tNOUN\\t_\\tCase=Par|Number=Sing\\t18\\tdobj\\t_\\t_\\n18\\tviilentävä\\tviilentää\\tVERB\\t_\\tCase=Nom|Degree=Pos|Number=Sing|PartForm=Pres|VerbForm=Part|Voice=Act\\t19\\tacl\\t_\\t_\\n19\\tnettovaikutus\\tnetto#vaikutus\\tNOUN\\t_\\tCase=Nom|Number=Sing\\t15\\tnsubj\\t_\\t_\\n20\\t,\\t,\\tPUNCT\\t_\\t_\\t23\\tpunct\\t_\\t_\\n21\\tjoka\\tjoka\\tPRON\\t_\\tCase=Nom|Number=Sing|PronType=Rel\\t23\\tdobj\\t_\\t_\\n22\\ton\\tolla\\tAUX\\t_\\tMood=Ind|Number=Sing|Person=3|Tense=Pres|VerbForm=Fin|Voice=Act\\t23\\tauxpass\\t_\\t_\\n23\\thuomioitu\\thuomioida\\tVERB\\t_\\tCase=Nom|Degree=Pos|Number=Sing|PartForm=Past|VerbForm=Part|Voice=Pass\\t19\\tacl:relcl\\t_\\t_\\n24\\tilmastomalleissa\\tilmasto#malli\\tNOUN\\t_\\tCase=Ine|Number=Plur\\t23\\tnmod\\t_\\t_\\n25\\tja\\tja\\tCONJ\\t_\\t_\\t24\\tcc\\t_\\t_\\n26\\t-ennusteissa\\tennuste\\tNOUN\\t_\\tCase=Ine|Number=Plur\\t24\\tconj\\t_\\t_\\n27\\t.\\t.\\tPUNCT\\t_\\t_\\t7\\tpunct\\t_\\t_\\n</sentence>\\n<sentence>\\n1\\tPienhiukkasten\\tpiki#hiukkanen\\tNOUN\\t_\\tCase=Gen|Number=Plur\\t3\\tnmod:poss\\t_\\t_\\n2\\tsuhteellinen\\tsuhteellinen\\tADJ\\t_\\tCase=Nom|Degree=Pos|Number=Sing\\t3\\tamod\\t_\\t_\\n3\\tilmakehää\\tilma#kehä\\tNOUN\\t_\\tCase=Par|Number=Sing\\t4\\tdobj\\t_\\t_\\n4\\tviilentävä\\tviilentää\\tVERB\\t_\\tCase=Nom|Degree=Pos|Number=Sing|PartForm=Pres|VerbForm=Part|Voice=Act\\t5\\tacl\\t_\\t_\\n5\\tvaikutus\\tvaikutus\\tNOUN\\t_\\tCase=Nom|Number=Sing\\t6\\tnsubj\\t_\\t_\\n6\\tvähenee\\tvähetä\\tVERB\\t_\\tMood=Ind|Number=Sing|Person=3|Tense=Pres|VerbForm=Fin|Voice=Act\\t0\\troot\\t_\\t_\\n7\\tkuitenkin\\tkuitenkin\\tADV\\t_\\t_\\t6\\tadvmod\\t_\\t_\\n8\\tjatkuvasti\\tjatkuvasti\\tADV\\t_\\t_\\t6\\tadvmod\\t_\\t_\\n9\\t.\\t.\\tPUNCT\\t_\\t_\\t6\\tpunct\\t_\\t_\\n</sentence>\\n<sentence>\\n1\\tTämä\\ttämä\\tPRON\\t_\\tCase=Nom|Number=Sing|PronType=Dem\\t2\\tnsubj\\t_\\t_\\n2\\tjohtuu\\tjohtua\\tVERB\\t_\\tMood=Ind|Number=Sing|Person=3|Tense=Pres|VerbForm=Fin|Voice=Act\\t0\\troot\\t_\\t_\\n3\\tsiitä\\tse\\tPRON\\t_\\tCase=Ela|Number=Sing|PronType=Dem\\t2\\tnmod\\t_\\t_\\n4\\t,\\t,\\tPUNCT\\t_\\t_\\t9\\tpunct\\t_\\t_\\n5\\tettä\\tettä\\tSCONJ\\t_\\t_\\t9\\tmark\\t_\\t_\\n6\\tkasvihuonekaasujen\\tkasvi#huone#kaasu\\tNOUN\\t_\\tCase=Gen|Number=Plur\\t7\\tnmod:poss\\t_\\t_\\n7\\tpitoisuus\\tpitoisuus\\tNOUN\\t_\\tCase=Nom|Number=Sing\\t9\\tnsubj\\t_\\t_\\n8\\tilmakehässä\\tilma#kehä\\tNOUN\\t_\\tCase=Ine|Number=Sing\\t7\\tnmod\\t_\\t_\\n9\\tkasvaa\\tkasvaa\\tVERB\\t_\\tMood=Ind|Number=Sing|Person=3|Tense=Pres|VerbForm=Fin|Voice=Act\\t3\\tccomp\\t_\\t_\\n10\\tvoimakkaasti\\tvoimakkaasti\\tADV\\t_\\t_\\t9\\tadvmod\\t_\\t_\\n11\\tja\\tja\\tCONJ\\t_\\t_\\t9\\tcc\\t_\\t_\\n12\\tnäillä\\ttämä\\tPRON\\t_\\tCase=Ade|Number=Plur|PronType=Dem\\t13\\tdet\\t_\\t_\\n13\\tkaasuilla\\tkaasu\\tNOUN\\t_\\tCase=Ade|Number=Plur\\t14\\tnmod\\t_\\t_\\n14\\ton\\tolla\\tVERB\\t_\\tMood=Ind|Number=Sing|Person=3|Tense=Pres|VerbForm=Fin|Voice=Act\\t9\\tconj\\t_\\t_\\n15\\thuomattavasti\\thuomattavasti\\tADV\\t_\\t_\\t16\\tadvmod\\t_\\t_\\n16\\tpidempi\\tpitkä\\tADJ\\t_\\tCase=Nom|Degree=Cmp|Number=Sing\\t17\\tamod\\t_\\t_\\n17\\telinkaari\\telin#kaari\\tNOUN\\t_\\tCase=Nom|Number=Sing\\t14\\tnsubj\\t_\\t_\\n18\\tkuin\\tkuin\\tSCONJ\\t_\\t_\\t19\\tmark\\t_\\t_\\n19\\tpienhiukkasilla\\tpiki#hiukkanen\\tNOUN\\t_\\tCase=Ade|Number=Plur\\t16\\tadvcl\\t_\\t_\\n20\\t.\\t.\\tPUNCT\\t_\\t_\\t2\\tpunct\\t_\\t_\\n</sentence>\\n</paragraph>\\n<paragraph>\\n<sentence>\\n1\\tKasvavia\\tkasvaa\\tADJ\\t_\\tCase=Par|Degree=Pos|Number=Plur\\t2\\tamod\\t_\\t_\\n2\\thiilidioksidipäästöjä\\thiili#dioksidi#päästö\\tNOUN\\t_\\tCase=Par|Number=Plur\\t3\\tdobj\\t_\\t_\\n3\\ttuottava\\ttuottaa\\tVERB\\t_\\tCase=Nom|Degree=Pos|Number=Sing|PartForm=Pres|VerbForm=Part|Voice=Act\\t8\\tacl\\t_\\t_\\n4\\tfossiilisten\\tfossiilinen\\tADJ\\t_\\tCase=Gen|Degree=Pos|Number=Plur\\t5\\tamod\\t_\\t_\\n5\\tpolttoaineiden\\tpoltto#aine\\tNOUN\\t_\\tCase=Gen|Number=Plur\\t8\\tnmod:poss\\t_\\t_\\n6\\tjatkuvasti\\tjatkuvasti\\tADV\\t_\\t_\\t7\\tadvmod\\t_\\t_\\n7\\tlisääntyvä\\tlisääntyä\\tVERB\\t_\\tCase=Nom|Degree=Pos|Number=Sing|PartForm=Pres|VerbForm=Part|Voice=Act\\t8\\tacl\\t_\\t_\\n8\\tkäyttö\\tkäyttö\\tNOUN\\t_\\tCase=Nom|Number=Sing\\t12\\tnsubj:cop\\t_\\t_\\n9\\ton\\tolla\\tVERB\\t_\\tMood=Ind|Number=Sing|Person=3|Tense=Pres|VerbForm=Fin|Voice=Act\\t12\\tcop\\t_\\t_\\n10\\tsuurin\\tsuuri\\tADJ\\t_\\tCase=Nom|Degree=Sup|Number=Sing\\t12\\tamod\\t_\\t_\\n11\\tyksittäinen\\tyksittäinen\\tADJ\\t_\\tCase=Nom|Degree=Pos|Number=Sing\\t12\\tamod\\t_\\t_\\n12\\tsyy\\tsyy\\tNOUN\\t_\\tCase=Nom|Number=Sing\\t0\\troot\\t_\\t_\\n13\\tantropogeeniseen\\tantropogeeniseen\\tADJ\\t_\\tCase=Ill|Degree=Pos|Number=Sing\\t17\\tnmod\\t_\\t_\\n14\\teli\\teli\\tCONJ\\t_\\t_\\t13\\tcc\\t_\\t_\\n15\\tihmisten\\tihminen\\tNOUN\\t_\\tCase=Gen|Number=Plur\\t16\\tnmod:poss\\t_\\t_\\n16\\ttoimista\\ttoimi\\tNOUN\\t_\\tCase=Ela|Number=Plur\\t13\\tconj\\t_\\t_\\n17\\tjohtuvaan\\tjohtua\\tVERB\\t_\\tCase=Ill|Degree=Pos|Number=Sing|PartForm=Pres|VerbForm=Part|Voice=Act\\t18\\tacl\\t_\\t_\\n18\\tilmastonmuutokseen\\tilmasto#muutos\\tNOUN\\t_\\tCase=Ill|Number=Sing\\t12\\tnmod\\t_\\t_\\n19\\t.\\t.\\tPUNCT\\t_\\t_\\t12\\tpunct\\t_\\t_\\n</sentence>\\n<sentence>\\n1\\tMyös\\tmyös\\tADV\\t_\\t_\\t6\\tadvmod\\t_\\t_\\n2\\tmaankäytön\\tmaan#käyttö\\tNOUN\\t_\\tCase=Gen|Number=Sing\\t3\\tnmod:poss\\t_\\t_\\n3\\tmuutokset\\tmuutos\\tNOUN\\t_\\tCase=Nom|Number=Plur\\t6\\tnsubj:cop\\t_\\t_\\n4\\tkuten\\tkuten\\tADV\\t_\\t_\\t6\\tadvmod\\t_\\t_\\n5\\tmetsien\\tmetsä\\tNOUN\\t_\\tCase=Gen|Number=Plur\\t6\\tnmod:poss\\t_\\t_\\n6\\thävitys\\thävitys\\tNOUN\\t_\\tCase=Nom|Number=Sing\\t13\\tnsubj\\t_\\t_\\n7\\tja\\tja\\tCONJ\\t_\\t_\\t6\\tcc\\t_\\t_\\n8\\tsoiden\\tsuo\\tNOUN\\t_\\tCase=Gen|Number=Plur\\t9\\tnmod:poss\\t_\\t_\\n9\\tkuivatus\\tkuivatus\\tNOUN\\t_\\tCase=Nom|Number=Sing\\t6\\tconj\\t_\\t_\\n10\\tpelloksi\\tpelto\\tNOUN\\t_\\tCase=Tra|Number=Sing\\t9\\tnmod\\t_\\t_\\n11\\tsekä\\tsekä\\tCONJ\\t_\\t_\\t6\\tcc\\t_\\t_\\n12\\tmaatalous\\tmaa#talous\\tNOUN\\t_\\tCase=Nom|Number=Sing\\t6\\tconj\\t_\\t_\\n13\\tvoimistavat\\tvoimistaa\\tVERB\\t_\\tMood=Ind|Number=Plur|Person=3|Tense=Pres|VerbForm=Fin|Voice=Act\\t0\\troot\\t_\\t_\\n14\\tilmastonmuutosta\\tilmasto#muutto\\tNOUN\\t_\\tCase=Ela|Number=Sing\\t13\\tnmod\\t_\\t_\\n15\\t.\\t.\\tPUNCT\\t_\\t_\\t13\\tpunct\\t_\\t_\\n</sentence>\\n<sentence>\\n1\\tNautakarjan\\tnauta#karja\\tNOUN\\t_\\tCase=Gen|Number=Sing\\t2\\tnmod:poss\\t_\\t_\\n2\\tpito\\tpito\\tNOUN\\t_\\tCase=Nom|Number=Sing\\t5\\tnsubj\\t_\\t_\\n3\\tja\\tja\\tCONJ\\t_\\t_\\t2\\tcc\\t_\\t_\\n4\\triisinviljely\\triisinviljely\\tNOUN\\t_\\tCase=Nom|Number=Sing\\t2\\tconj\\t_\\t_\\n5\\taiheuttavat\\taiheuttaa\\tVERB\\t_\\tMood=Ind|Number=Plur|Person=3|Tense=Pres|VerbForm=Fin|Voice=Act\\t0\\troot\\t_\\t_\\n6\\tilmastoa\\tilmasto\\tNOUN\\t_\\tCase=Par|Number=Sing\\t7\\tdobj\\t_\\t_\\n7\\tlämmittäviä\\tlämmittää\\tVERB\\t_\\tCase=Par|Degree=Pos|Number=Plur|PartForm=Pres|VerbForm=Part|Voice=Act\\t8\\tacl\\t_\\t_\\n8\\tmetaanipäästöjä\\tmetaani#päästö\\tNOUN\\t_\\tCase=Par|Number=Plur\\t5\\tdobj\\t_\\t_\\n9\\t.\\t.\\tPUNCT\\t_\\t_\\t5\\tpunct\\t_\\t_\\n</sentence>\\n<sentence>\\n1\\tIlmakehän\\tilma#kehä\\tNOUN\\t_\\tCase=Gen|Number=Sing\\t2\\tnmod:poss\\t_\\t_\\n2\\tmetaanipitoisuus\\tmetaani#pitoisuus\\tNOUN\\t_\\tCase=Nom|Number=Sing\\t4\\tnsubj\\t_\\t_\\n3\\tonkin\\tolla\\tAUX\\t_\\tClitic=Kin|Mood=Ind|Number=Sing|Person=3|Tense=Pres|VerbForm=Fin|Voice=Act\\t4\\taux\\t_\\t_\\n4\\tnoussut\\tnousta\\tVERB\\t_\\tCase=Nom|Degree=Pos|Number=Sing|PartForm=Past|VerbForm=Part|Voice=Act\\t0\\troot\\t_\\t_\\n5\\tlähes\\tlähes\\tADV\\t_\\t_\\t6\\tadvmod\\t_\\t_\\n6\\tkolminkertaiseksi\\tkolminkertainen\\tADJ\\t_\\tCase=Tra|Degree=Pos|Number=Sing\\t4\\tnmod\\t_\\t_\\n7\\tesiteolliseen\\tesi#teollinen\\tADJ\\t_\\tCase=Ill|Degree=Pos|Number=Sing\\t8\\tamod\\t_\\t_\\n8\\taikaan\\taika\\tNOUN\\t_\\tCase=Ill|Number=Sing\\t9\\tnmod\\t_\\t_\\n9\\tverrattuna\\tverrata\\tVERB\\t_\\tCase=Ess|Degree=Pos|Number=Sing|PartForm=Past|VerbForm=Part|Voice=Pass\\t6\\tacl\\t_\\t_\\n10\\t.\\t.\\tPUNCT\\t_\\t_\\t4\\tpunct\\t_\\t_\\n</sentence>\\n</paragraph>\\n<paragraph>\\n<sentence>\\n1\\tIlmastoa\\tilmasto\\tNOUN\\t_\\tCase=Par|Number=Sing\\t2\\tdobj\\t_\\t_\\n2\\tlämmittävää\\tlämmittää\\tVERB\\t_\\tCase=Par|Degree=Pos|Number=Sing|PartForm=Pres|VerbForm=Part|Voice=Act\\t3\\tacl\\t_\\t_\\n3\\ttyppioksiduulia\\ttyppi#oksiduuli\\tNOUN\\t_\\tCase=Par|Number=Sing\\t4\\tdobj\\t_\\t_\\n4\\tmuodostuu\\tmuodostua\\tVERB\\t_\\tMood=Ind|Number=Sing|Person=3|Tense=Pres|VerbForm=Fin|Voice=Act\\t0\\troot\\t_\\t_\\n5\\tviljelysmaassa\\tviljelys#maa\\tNOUN\\t_\\tCase=Ine|Number=Sing\\t4\\tnmod\\t_\\t_\\n6\\tnitraattien\\tnitraatti\\tNOUN\\t_\\tCase=Gen|Number=Plur\\t7\\tnsubj\\t_\\t_\\n7\\thajotessa\\thajota\\tVERB\\t_\\tCase=Ine|InfForm=2|Number=Sing|VerbForm=Inf|Voice=Act\\t4\\tadvcl\\t_\\t_\\n8\\tja\\tja\\tCONJ\\t_\\t_\\t4\\tcc\\t_\\t_\\n9\\tkeinolannoitteiden\\tkeino#lannoite\\tNOUN\\t_\\tCase=Gen|Number=Plur\\t10\\tnmod:gobj\\t_\\t_\\n10\\tkäyttö\\tkäyttö\\tNOUN\\t_\\tCase=Nom|Number=Sing\\t11\\tnsubj\\t_\\t_\\n11\\tlisää\\tlisätä\\tVERB\\t_\\tMood=Ind|Number=Sing|Person=3|Tense=Pres|VerbForm=Fin|Voice=Act\\t4\\tconj\\t_\\t_\\n12\\ttyppioksiduulipäästöjä\\ttyppi#oksiduuli#päästö\\tNOUN\\t_\\tCase=Par|Number=Plur\\t11\\tdobj\\t_\\t_\\n13\\t.\\t.\\tPUNCT\\t_\\t_\\t4\\tpunct\\t_\\t_\\n</sentence>\\n<sentence>\\n1\\tTyppioksiduulipäästöt\\ttyppi#oksiduuli#päästö\\tNOUN\\t_\\tCase=Nom|Number=Plur\\t2\\tnsubj\\t_\\t_\\n2\\tkasvavat\\tkasvaa\\tVERB\\t_\\tMood=Ind|Number=Plur|Person=3|Tense=Pres|VerbForm=Fin|Voice=Act\\t0\\troot\\t_\\t_\\n3\\ttällä\\ttämä\\tPRON\\t_\\tCase=Ade|Number=Sing|PronType=Dem\\t4\\tdet\\t_\\t_\\n4\\thetkellä\\thetki\\tNOUN\\t_\\tCase=Ade|Number=Sing\\t2\\tnmod\\t_\\t_\\n5\\tlineaarisesti\\tlineaarinen\\tADV\\t_\\tDerivation=Sti\\t2\\tadvmod\\t_\\t_\\n6\\t.\\t.\\tPUNCT\\t_\\t_\\t2\\tpunct\\t_\\t_\\n</sentence>\\n</paragraph>\\n<paragraph>\\n<sentence>\\n1\\tViimeisten\\tviimeinen\\tADJ\\t_\\tCase=Gen|Degree=Pos|Number=Plur\\t4\\tamod\\t_\\t_\\n2\\t55\\t55\\tNUM\\t_\\tNumType=Card\\t3\\tcompound\\t_\\t_\\n3\\tmiljoonan\\tmiljoona\\tNUM\\t_\\tCase=Gen|Number=Sing|NumType=Card\\t4\\tnummod\\t_\\t_\\n4\\tvuoden\\tvuosi\\tNOUN\\t_\\tCase=Gen|Number=Sing\\t5\\tnmod:poss\\t_\\t_\\n5\\taikana\\taika\\tNOUN\\t_\\tCase=Ess|Number=Sing\\t9\\tnmod\\t_\\t_\\n6\\tilmakehän\\tilma#kehä\\tNOUN\\t_\\tCase=Gen|Number=Sing\\t7\\tnmod:poss\\t_\\t_\\n7\\thiilidioksidipitoisuus\\thiili#dioksidi#pitoisuus\\tNOUN\\t_\\tCase=Nom|Number=Sing\\t9\\tnsubj\\t_\\t_\\n8\\ton\\tolla\\tAUX\\t_\\tMood=Ind|Number=Sing|Person=3|Tense=Pres|VerbForm=Fin|Voice=Act\\t9\\taux\\t_\\t_\\n9\\tvaihdellut\\tvaihdella\\tVERB\\t_\\tCase=Nom|Degree=Pos|Number=Sing|PartForm=Past|VerbForm=Part|Voice=Act\\t0\\troot\\t_\\t_\\n10\\tluontaisesti\\tluontaisesti\\tADV\\t_\\t_\\t9\\tadvmod\\t_\\t_\\n11\\tnoin\\tnoin\\tADV\\t_\\t_\\t12\\tadvmod\\t_\\t_\\n12\\t200\\t200\\tNUM\\t_\\tNumType=Card\\t15\\tnummod\\t_\\t_\\n13\\tja\\tja\\tCONJ\\t_\\t_\\t12\\tcc\\t_\\t_\\n14\\t300\\t300\\tNUM\\t_\\tNumType=Card\\t12\\tconj\\t_\\t_\\n15\\tppm:n\\tppm:n\\tNOUN\\t_\\tAbbr=Yes|Case=Gen|Number=Sing\\t9\\tnmod\\t_\\t_\\n16\\tvälillä\\tvälillä\\tADP\\t_\\tAdpType=Post\\t15\\tcase\\t_\\t_\\n17\\t,\\t,\\tPUNCT\\t_\\t_\\t9\\tpunct\\t_\\t_\\n18\\tja\\tja\\tCONJ\\t_\\t_\\t9\\tcc\\t_\\t_\\n19\\tviimeiset\\tviimeinen\\tADJ\\t_\\tCase=Nom|Degree=Pos|Number=Plur\\t23\\tamod\\t_\\t_\\n20\\t1\\t1\\tNUM\\t_\\tNumType=Card\\t21\\tcompound\\t_\\t_\\n21\\t000\\t000\\tNUM\\t_\\tNumType=Card\\t22\\tnummod\\t_\\t_\\n22\\tvuotta\\tvuosi\\tNOUN\\t_\\tCase=Par|Number=Sing\\t23\\tnmod\\t_\\t_\\n23\\tpitoisuus\\tpitoisuus\\tNOUN\\t_\\tCase=Nom|Number=Sing\\t28\\tnsubj:cop\\t_\\t_\\n24\\ton\\tolla\\tAUX\\t_\\tMood=Ind|Number=Sing|Person=3|Tense=Pres|VerbForm=Fin|Voice=Act\\t28\\taux\\t_\\t_\\n25\\tollut\\tolla\\tVERB\\t_\\tCase=Nom|Degree=Pos|Number=Plur|PartForm=Past|VerbForm=Part|Voice=Pass\\t28\\tcop\\t_\\t_\\n26\\tnoin\\tnoin\\tADV\\t_\\t_\\t27\\tadvmod\\t_\\t_\\n27\\t280\\t280\\tNUM\\t_\\tNumType=Card\\t28\\tnummod\\t_\\t_\\n28\\tppm.\\tppm.\\tNOUN\\t_\\tAbbr=Yes|Case=Par|Number=Sing\\t9\\tconj\\t_\\t_\\n</sentence>\\n</paragraph>\\n<paragraph>\\n<sentence>\\n1\\tIhmiskunnan\\tihmis#kunta\\tNOUN\\t_\\tCase=Gen|Number=Sing\\t2\\tnmod:poss\\t_\\t_\\n2\\tpääenergianlähde\\tpää#energian#lähde\\tNOUN\\t_\\tCase=Nom|Number=Sing\\t13\\tnsubj:cop\\t_\\t_\\n3\\ton\\tolla\\tAUX\\t_\\tMood=Ind|Number=Sing|Person=3|Tense=Pres|VerbForm=Fin|Voice=Act\\t13\\taux\\t_\\t_\\n4\\tollut\\tolla\\tVERB\\t_\\tCase=Nom|Degree=Pos|Number=Sing|PartForm=Past|VerbForm=Part|Voice=Act\\t13\\tcop\\t_\\t_\\n5\\tjo\\tjo\\tADV\\t_\\t_\\t6\\tadvmod\\t_\\t_\\n6\\tpitkään\\tpitkään\\tADV\\t_\\t_\\t8\\tadvmod\\t_\\t_\\n7\\tkivihiilikauden\\tkivi#hiili#kausi\\tNOUN\\t_\\tCase=Gen|Number=Sing\\t8\\tnmod:poss\\t_\\t_\\n8\\tmetsäjäännösten\\tmetsä#jäännös\\tNOUN\\t_\\tCase=Gen|Number=Plur\\t15\\tnmod:poss\\t_\\t_\\n9\\t,\\t,\\tPUNCT\\t_\\t_\\t8\\tpunct\\t_\\t_\\n10\\tfossiilisten\\tfossiilinen\\tADJ\\t_\\tCase=Gen|Degree=Pos|Number=Plur\\t11\\tamod\\t_\\t_\\n11\\tpolttoaineiden\\tpoltto#aine\\tNOUN\\t_\\tCase=Gen|Number=Plur\\t8\\tconj\\t_\\t_\\n12\\t(\\t(\\tPUNCT\\t_\\t_\\t13\\tpunct\\t_\\t_\\n13\\töljy\\töljy\\tNOUN\\t_\\tCase=Nom|Number=Sing\\t0\\troot\\t_\\t_\\n14\\t,\\t,\\tPUNCT\\t_\\t_\\t13\\tpunct\\t_\\t_\\n15\\tkivihiili\\tkivi#hiili\\tNOUN\\t_\\tCase=Nom|Number=Sing\\t13\\tconj\\t_\\t_\\n16\\t,\\t,\\tPUNCT\\t_\\t_\\t13\\tpunct\\t_\\t_\\n17\\tmaakaasu\\tmaa#kaasu\\tNOUN\\t_\\tCase=Nom|Number=Sing\\t13\\tconj\\t_\\t_\\n18\\t)\\t)\\tPUNCT\\t_\\t_\\t13\\tpunct\\t_\\t_\\n19\\tesiinkaivaminen\\tesiinkaivaminen\\tNOUN\\t_\\tCase=Nom|Derivation=Minen|Number=Sing\\t13\\tconj\\t_\\t_\\n20\\tja\\tja\\tCONJ\\t_\\t_\\t13\\tcc\\t_\\t_\\n21\\tpolttaminen\\tpolttaa\\tNOUN\\t_\\tCase=Nom|Derivation=Minen|Number=Sing\\t13\\tconj\\t_\\t_\\n22\\t.\\t.\\tPUNCT\\t_\\t_\\t13\\tpunct\\t_\\t_\\n</sentence>\\n<sentence>\\n1\\tNäistä\\ttämä\\tPRON\\t_\\tCase=Ela|Number=Plur|PronType=Dem\\t3\\tdet\\t_\\t_\\n2\\tkivihiilen\\tkivi#hiili\\tNOUN\\t_\\tCase=Gen|Number=Sing\\t3\\tnmod:poss\\t_\\t_\\n3\\tvarannot\\tvaranto\\tNOUN\\t_\\tCase=Nom|Number=Plur\\t4\\tnsubj\\t_\\t_\\n4\\triittävät\\triittää\\tVERB\\t_\\tMood=Ind|Number=Plur|Person=3|Tense=Pres|VerbForm=Fin|Voice=Act\\t0\\troot\\t_\\t_\\n5\\tvielä\\tvielä\\tADV\\t_\\t_\\t4\\tadvmod\\t_\\t_\\n6\\tsadoiksi\\tsata\\tNUM\\t_\\tCase=Tra|Number=Plur|NumType=Card\\t7\\tnummod\\t_\\t_\\n7\\tvuosiksi\\tvuosi\\tNOUN\\t_\\tCase=Tra|Number=Plur\\t4\\tnmod\\t_\\t_\\n8\\teteenpäin\\teteenpäin\\tADV\\t_\\t_\\t4\\tadvmod\\t_\\t_\\n9\\t.\\t.\\tPUNCT\\t_\\t_\\t4\\tpunct\\t_\\t_\\n</sentence>\\n</paragraph>\\n<paragraph>\\n<sentence>\\n1\\tHiilen\\thiili\\tNOUN\\t_\\tCase=Gen|Number=Sing\\t3\\tnmod:poss\\t_\\t_\\n2\\teri\\teri\\tADJ\\t_\\t_\\t3\\tamod\\t_\\t_\\n3\\tmuotojen\\tmuoto\\tNOUN\\t_\\tCase=Gen|Number=Plur\\t4\\tnmod:gobj\\t_\\t_\\n4\\tpolttaminen\\tpolttaa\\tNOUN\\t_\\tCase=Nom|Derivation=Minen|Number=Sing\\t6\\tnsubj\\t_\\t_\\n5\\ton\\tolla\\tAUX\\t_\\tMood=Ind|Number=Sing|Person=3|Tense=Pres|VerbForm=Fin|Voice=Act\\t6\\taux\\t_\\t_\\n6\\tnostanut\\tnostaa\\tVERB\\t_\\tCase=Nom|Degree=Pos|Number=Sing|PartForm=Past|VerbForm=Part|Voice=Act\\t0\\troot\\t_\\t_\\n7\\tilmakehän\\tilma#kehä\\tNOUN\\t_\\tCase=Gen|Number=Sing\\t8\\tnmod:poss\\t_\\t_\\n8\\thiilidioksidipitoisuuden\\thiili#dioksidi#pitoisuus\\tNOUN\\t_\\tCase=Gen|Number=Sing\\t6\\tdobj\\t_\\t_\\n9\\tnykyiseen\\tnykyinen\\tADJ\\t_\\tCase=Ill|Degree=Pos|Number=Sing\\t11\\tadvmod\\t_\\t_\\n10\\tnoin\\tnoin\\tADV\\t_\\t_\\t11\\tadvmod\\t_\\t_\\n11\\t380\\t380\\tNUM\\t_\\tNumType=Card\\t12\\tnummod\\t_\\t_\\n12\\tppm:iin\\tppm:iin\\tNOUN\\t_\\tCase=Ill|Number=Sing\\t6\\tnmod\\t_\\t_\\n13\\t,\\t,\\tPUNCT\\t_\\t_\\t18\\tpunct\\t_\\t_\\n14\\tyli\\tyli\\tADV\\t_\\t_\\t15\\tadvmod\\t_\\t_\\n15\\t30\\t30\\tNUM\\t_\\tNumType=Card\\t16\\tnummod\\t_\\t_\\n16\\t%\\t%\\tSYM\\t_\\t_\\t18\\tcase\\t_\\t_\\n17\\thistoriallisesta\\thistoriallinen\\tADJ\\t_\\tCase=Ela|Degree=Pos|Number=Sing\\t18\\tamod\\t_\\t_\\n18\\tarvosta\\tarvo\\tNOUN\\t_\\tCase=Ela|Number=Sing\\t12\\tappos\\t_\\t_\\n19\\t(\\t(\\tPUNCT\\t_\\t_\\t22\\tpunct\\t_\\t_\\n20\\tv.\\tv.\\tNOUN\\t_\\tAbbr=Yes\\t22\\tnmod\\t_\\t_\\n21\\t2004\\t2004\\tNUM\\t_\\tNumType=Card\\t22\\tnummod\\t_\\t_\\n22\\ttilanne\\ttilanne\\tNOUN\\t_\\tCase=Nom|Number=Sing\\t18\\tappos\\t_\\t_\\n23\\t)\\t)\\tPUNCT\\t_\\t_\\t22\\tpunct\\t_\\t_\\n24\\t.\\t.\\tPUNCT\\t_\\t_\\t6\\tpunct\\t_\\t_\\n</sentence>\\n<sentence>\\n1\\tKoska\\tkoska\\tSCONJ\\t_\\t_\\t5\\tmark\\t_\\t_\\n2\\tfossiilisten\\tfossiilinen\\tADJ\\t_\\tCase=Gen|Degree=Pos|Number=Plur\\t3\\tamod\\t_\\t_\\n3\\tpolttoaineiden\\tpoltto#aine\\tNOUN\\t_\\tCase=Gen|Number=Plur\\t4\\tnmod:gobj\\t_\\t_\\n4\\tkäyttö\\tkäyttö\\tNOUN\\t_\\tCase=Nom|Number=Sing\\t5\\tnsubj\\t_\\t_\\n5\\tlisääntyy\\tlisääntyä\\tVERB\\t_\\tMood=Ind|Number=Sing|Person=3|Tense=Pres|VerbForm=Fin|Voice=Act\\t11\\tadvcl\\t_\\t_\\n6\\tedelleen\\tedelleen\\tADV\\t_\\t_\\t5\\tadvmod\\t_\\t_\\n7\\t,\\t,\\tPUNCT\\t_\\t_\\t5\\tpunct\\t_\\t_\\n8\\tmyös\\tmyös\\tADV\\t_\\t_\\t11\\tadvmod\\t_\\t_\\n9\\tilmakehän\\tilma#kehä\\tNOUN\\t_\\tCase=Gen|Number=Sing\\t10\\tnmod:poss\\t_\\t_\\n10\\thiilidioksidipitoisuus\\thiili#dioksidi#pitoisuus\\tNOUN\\t_\\tCase=Nom|Number=Sing\\t11\\tnsubj\\t_\\t_\\n11\\tkasvaa\\tkasvaa\\tVERB\\t_\\tMood=Ind|Number=Sing|Person=3|Tense=Pres|VerbForm=Fin|Voice=Act\\t0\\troot\\t_\\t_\\n12\\tja\\tja\\tCONJ\\t_\\t_\\t11\\tcc\\t_\\t_\\n13\\tvieläpä\\tvieläpä\\tADV\\t_\\t_\\t11\\tconj\\t_\\t_\\n14\\tnopeutuen\\tnopeutua\\tVERB\\t_\\tCase=Ins|InfForm=2|Number=Sing|VerbForm=Inf|Voice=Act\\t11\\tadvcl\\t_\\t_\\n15\\t.\\t.\\tPUNCT\\t_\\t_\\t11\\tpunct\\t_\\t_\\n</sentence>\\n</paragraph>\\n<paragraph>\\n<sentence>\\n1\\tKasvillisuus\\tkasvillisuus\\tNOUN\\t_\\tCase=Nom|Number=Sing\\t2\\tnsubj\\t_\\t_\\n2\\tmenestyy\\tmenestyä\\tVERB\\t_\\tMood=Ind|Number=Sing|Person=3|Tense=Pres|VerbForm=Fin|Voice=Act\\t0\\troot\\t_\\t_\\n3\\tpääsääntöisesti\\tpää#sääntöisesti\\tADV\\t_\\t_\\t2\\tadvmod\\t_\\t_\\n4\\thyvin\\thyvin\\tADV\\t_\\t_\\t5\\tadvmod\\t_\\t_\\n5\\thiilidioksidipitoisessa\\thiili#dioksidi#pitoinen\\tADJ\\t_\\tCase=Ine|Degree=Pos|Number=Sing\\t6\\tamod\\t_\\t_\\n6\\tilmassa\\tilma\\tNOUN\\t_\\tCase=Ine|Number=Sing\\t2\\tnmod\\t_\\t_\\n7\\t,\\t,\\tPUNCT\\t_\\t_\\t10\\tpunct\\t_\\t_\\n8\\tkoska\\tkoska\\tSCONJ\\t_\\t_\\t10\\tmark\\t_\\t_\\n9\\tkasvit\\tkasvi\\tNOUN\\t_\\tCase=Nom|Number=Plur\\t10\\tnsubj\\t_\\t_\\n10\\ttarvitsevat\\ttarvita\\tVERB\\t_\\tMood=Ind|Number=Plur|Person=3|Tense=Pres|VerbForm=Fin|Voice=Act\\t2\\tadvcl\\t_\\t_\\n11\\thiilidioksidia\\thiili#dioksidi\\tNOUN\\t_\\tCase=Par|Number=Sing\\t10\\tdobj\\t_\\t_\\n12\\tyhteyttämiseen\\tyhteyttää\\tNOUN\\t_\\tCase=Ill|Derivation=Minen|Number=Sing\\t10\\tnmod\\t_\\t_\\n13\\t.\\t.\\tPUNCT\\t_\\t_\\t2\\tpunct\\t_\\t_\\n</sentence>\\n<sentence>\\n1\\tUusimmat\\tuusi\\tADJ\\t_\\tCase=Nom|Degree=Sup|Number=Plur\\t2\\tamod\\t_\\t_\\n2\\ttutkimukset\\ttutkimus\\tNOUN\\t_\\tCase=Nom|Number=Plur\\t3\\tnsubj\\t_\\t_\\n3\\tasettavat\\tasettaa\\tVERB\\t_\\tMood=Ind|Number=Plur|Person=3|Tense=Pres|VerbForm=Fin|Voice=Act\\t0\\troot\\t_\\t_\\n4\\tkuitenkin\\tkuitenkin\\tADV\\t_\\t_\\t3\\tadvmod\\t_\\t_\\n5\\tkyseenalaiseksi\\tkyseenalainen\\tADJ\\t_\\tCase=Tra|Degree=Pos|Number=Sing\\t3\\txcomp\\t_\\t_\\n6\\tkasvillisuuden\\tkasvillisuus\\tNOUN\\t_\\tCase=Gen|Number=Sing\\t7\\tnmod:gobj\\t_\\t_\\n7\\trehevöitymisen\\trehevöityä\\tNOUN\\t_\\tCase=Gen|Derivation=Minen|Number=Sing\\t8\\tnmod:poss\\t_\\t_\\n8\\tnettovaikutuksen\\tnetto#vaikutus\\tNOUN\\t_\\tCase=Gen|Number=Sing\\t3\\tdobj\\t_\\t_\\n9\\t.\\t.\\tPUNCT\\t_\\t_\\t3\\tpunct\\t_\\t_\\n</sentence>\\n<sentence>\\n1\\tTämä\\ttämä\\tPRON\\t_\\tCase=Nom|Number=Sing|PronType=Dem\\t2\\tnsubj\\t_\\t_\\n2\\tjohtuu\\tjohtua\\tVERB\\t_\\tMood=Ind|Number=Sing|Person=3|Tense=Pres|VerbForm=Fin|Voice=Act\\t0\\troot\\t_\\t_\\n3\\tsiitä\\tse\\tPRON\\t_\\tCase=Ela|Number=Sing|PronType=Dem\\t2\\tnmod\\t_\\t_\\n4\\t,\\t,\\tPUNCT\\t_\\t_\\t11\\tpunct\\t_\\t_\\n5\\tettä\\tettä\\tSCONJ\\t_\\t_\\t11\\tmark\\t_\\t_\\n6\\tilmaston\\tilmasto\\tNOUN\\t_\\tCase=Gen|Number=Sing\\t7\\tnsubj\\t_\\t_\\n7\\tlämmetessä\\tlämmetä\\tVERB\\t_\\tCase=Ine|InfForm=2|Number=Sing|VerbForm=Inf|Voice=Act\\t11\\tadvcl\\t_\\t_\\n8\\tmaaperään\\tmaa#perä\\tNOUN\\t_\\tCase=Ill|Number=Sing\\t9\\tnmod\\t_\\t_\\n9\\tvarastoitunut\\tvarastoitua\\tVERB\\t_\\tCase=Nom|Degree=Pos|Number=Sing|PartForm=Past|VerbForm=Part|Voice=Act\\t10\\tacl\\t_\\t_\\n10\\thiili\\thiili\\tNOUN\\t_\\tCase=Nom|Number=Sing\\t11\\tnsubj\\t_\\t_\\n11\\talkaa\\talkaa\\tVERB\\t_\\tMood=Ind|Number=Sing|Person=3|Tense=Pres|VerbForm=Fin|Voice=Act\\t3\\tccomp\\t_\\t_\\n12\\thajota\\thajota\\tVERB\\t_\\tInfForm=1|Number=Sing|VerbForm=Inf|Voice=Act\\t11\\txcomp\\t_\\t_\\n13\\tlisäten\\tlisätä\\tVERB\\t_\\tCase=Ins|InfForm=2|Number=Sing|VerbForm=Inf|Voice=Act\\t12\\tadvcl\\t_\\t_\\n14\\tilmakehän\\tilma#kehä\\tNOUN\\t_\\tCase=Gen|Number=Sing\\t15\\tnmod:poss\\t_\\t_\\n15\\thiilidioksidipitoisuutta\\thiili#dioksidi#pitoisuus\\tNOUN\\t_\\tCase=Par|Number=Sing\\t13\\tdobj\\t_\\t_\\n16\\tentisestään\\tentisestään\\tADV\\t_\\t_\\t13\\tadvmod\\t_\\t_\\n17\\t.\\t.\\tPUNCT\\t_\\t_\\t2\\tpunct\\t_\\t_\\n</sentence>\\n</paragraph>\\n<paragraph>\\n<sentence>\\n1\\tLisäksi\\tlisäksi\\tADV\\t_\\t_\\t2\\tadvmod\\t_\\t_\\n2\\ton\\tolla\\tVERB\\t_\\tMood=Ind|Number=Sing|Person=3|Tense=Pres|VerbForm=Fin|Voice=Act\\t0\\troot\\t_\\t_\\n3\\tmerkkejä\\tmerkki\\tNOUN\\t_\\tCase=Par|Number=Plur\\t4\\tdobj\\t_\\t_\\n4\\tlämpenevien\\tlämmetä\\tVERB\\t_\\tCase=Gen|Degree=Pos|Number=Plur|PartForm=Pres|VerbForm=Part|Voice=Act\\t6\\tacl\\t_\\t_\\n5\\tpohjoisten\\tpohjoinen\\tADJ\\t_\\tCase=Gen|Degree=Pos|Number=Plur\\t6\\tamod\\t_\\t_\\n6\\tsoiden\\tsuo\\tNOUN\\t_\\tCase=Gen|Number=Plur\\t2\\tdobj\\t_\\t_\\n7\\t(\\t(\\tPUNCT\\t_\\t_\\t8\\tpunct\\t_\\t_\\n8\\tSiperia\\tSiperia\\tPROPN\\t_\\tCase=Nom|Number=Sing\\t6\\tappos\\t_\\t_\\n9\\t,\\t,\\tPUNCT\\t_\\t_\\t8\\tpunct\\t_\\t_\\n10\\tAlaska\\tAlaska\\tPROPN\\t_\\tCase=Nom|Number=Sing\\t8\\tconj\\t_\\t_\\n11\\t,\\t,\\tPUNCT\\t_\\t_\\t8\\tpunct\\t_\\t_\\n12\\tomalta\\toma\\tADJ\\t_\\tCase=Abl|Degree=Pos|Number=Sing\\t14\\tamod\\t_\\t_\\n13\\tpieneltä\\tpieni\\tADJ\\t_\\tCase=Abl|Degree=Pos|Number=Sing\\t14\\tamod\\t_\\t_\\n14\\tosaltaan\\tosa\\tNOUN\\t_\\tCase=Abl|Number=Sing|Person[psor]=3\\t19\\tnmod\\t_\\t_\\n15\\tmyös\\tmyös\\tADV\\t_\\t_\\t17\\tadvmod\\t_\\t_\\n16\\tSuomen\\tSuomi\\tPROPN\\t_\\tCase=Gen|Number=Sing\\t17\\tnmod:poss\\t_\\t_\\n17\\tLappi\\tLappi\\tPROPN\\t_\\tCase=Nom|Number=Sing\\t19\\tnmod\\t_\\t_\\n18\\t)\\t)\\tPUNCT\\t_\\t_\\t17\\tpunct\\t_\\t_\\n19\\tlisääntyvästä\\tlisääntyä\\tVERB\\t_\\tCase=Ela|Degree=Pos|Number=Sing|PartForm=Pres|VerbForm=Part|Voice=Act\\t20\\tacl\\t_\\t_\\n20\\thiilidioksidin-\\thiili#dioksidi\\tNOUN\\t_\\tCase=Gen|Number=Sing\\t8\\tconj\\t_\\t_\\n21\\tja\\tja\\tCONJ\\t_\\t_\\t20\\tcc\\t_\\t_\\n22\\tmetaanintuotannosta\\tmetaani#tuotanto\\tNOUN\\t_\\tCase=Ela|Number=Sing\\t20\\tconj\\t_\\t_\\n23\\t,\\t,\\tPUNCT\\t_\\t_\\t26\\tpunct\\t_\\t_\\n24\\tjosta\\tjoka\\tPRON\\t_\\tCase=Ela|Number=Sing|PronType=Rel\\t26\\tnmod\\t_\\t_\\n25\\tsaattaa\\tsaattaa\\tAUX\\t_\\tMood=Ind|Number=Sing|Person=3|Tense=Pres|VerbForm=Fin|Voice=Act\\t26\\taux\\t_\\t_\\n26\\tmuodostua\\tmuodostua\\tVERB\\t_\\tInfForm=1|Number=Sing|VerbForm=Inf|Voice=Act\\t20\\tacl:relcl\\t_\\t_\\n27\\ttulevaisuudessa\\ttulevaisuus\\tNOUN\\t_\\tCase=Ine|Number=Sing\\t26\\tnmod\\t_\\t_\\n28\\thyvinkin\\thyvin\\tADV\\t_\\tClitic=Kin\\t29\\tadvmod\\t_\\t_\\n29\\toleellinen\\toleellinen\\tADJ\\t_\\tCase=Nom|Degree=Pos|Number=Sing\\t32\\tamod\\t_\\t_\\n30\\tilmakehän\\tilma#kehä\\tNOUN\\t_\\tCase=Gen|Number=Sing\\t31\\tnmod:poss\\t_\\t_\\n31\\thiilidioksidipitoisuuden\\thiili#dioksidi#pitoisuus\\tNOUN\\t_\\tCase=Gen|Number=Sing\\t32\\tnmod:poss\\t_\\t_\\n32\\tkohottaja\\tkohottaja\\tNOUN\\t_\\tCase=Nom|Number=Sing\\t26\\tdobj\\t_\\t_\\n33\\t.\\t.\\tPUNCT\\t_\\t_\\t2\\tpunct\\t_\\t_\\n</sentence>\\n</paragraph>\\n<paragraph>\\n<sentence>\\n1\\tNykyisin\\tnykyisin\\tADV\\t_\\t_\\t2\\tadvmod\\t_\\t_\\n2\\tpidetään\\tpitää\\tVERB\\t_\\tMood=Ind|Tense=Pres|VerbForm=Fin|Voice=Pass\\t0\\troot\\t_\\t_\\n3\\ttodennäköisenä\\ttoden#näköinen\\tADJ\\t_\\tCase=Ess|Degree=Pos|Number=Sing\\t2\\txcomp\\t_\\t_\\n4\\t,\\t,\\tPUNCT\\t_\\t_\\t14\\tpunct\\t_\\t_\\n5\\tettä\\tettä\\tSCONJ\\t_\\t_\\t14\\tmark\\t_\\t_\\n6\\tihmisen\\tihminen\\tNOUN\\t_\\tCase=Gen|Number=Sing\\t7\\tnsubj\\t_\\t_\\n7\\taikaansaama\\taikaansaada\\tVERB\\t_\\tCase=Nom|Degree=Pos|Number=Sing|PartForm=Agt|VerbForm=Part|Voice=Act\\t14\\tacl\\t_\\t_\\n8\\tilmaston\\tilmasto\\tNOUN\\t_\\tCase=Gen|Number=Sing\\t9\\tnmod:gsubj\\t_\\t_\\n9\\tlämpeneminen\\tlämmetä\\tNOUN\\t_\\tCase=Nom|Derivation=Minen|Number=Sing\\t13\\tnsubj\\t_\\t_\\n10\\tei\\tei\\tVERB\\t_\\tNegative=Yes|Number=Sing|Person=3|VerbForm=Fin|Voice=Act\\t13\\tneg\\t_\\t_\\n11\\tole\\tolla\\tAUX\\t_\\tConnegative=Yes|Mood=Ind|Tense=Pres|VerbForm=Fin\\t13\\taux\\t_\\t_\\n12\\ttasaisesti\\ttasaisesti\\tADV\\t_\\t_\\t13\\tadvmod\\t_\\t_\\n13\\tetenevä\\tedetä\\tVERB\\t_\\tCase=Nom|Degree=Pos|Number=Sing|PartForm=Pres|VerbForm=Part|Voice=Act\\t14\\tacl\\t_\\t_\\n14\\tprosessi\\tprosessi\\tNOUN\\t_\\tCase=Nom|Number=Sing\\t2\\tadvcl\\t_\\t_\\n15\\t,\\t,\\tPUNCT\\t_\\t_\\t14\\tpunct\\t_\\t_\\n16\\tvaan\\tvaan\\tCONJ\\t_\\t_\\t2\\tcc\\t_\\t_\\n17\\tettä\\tettä\\tSCONJ\\t_\\t_\\t19\\tmark\\t_\\t_\\n18\\tilmasto\\tilmasto\\tNOUN\\t_\\tCase=Nom|Number=Sing\\t19\\tnsubj\\t_\\t_\\n19\\ttulee\\ttulla\\tVERB\\t_\\tMood=Ind|Number=Sing|Person=3|Tense=Pres|VerbForm=Fin|Voice=Act\\t2\\tconj\\t_\\t_\\n20\\tmuuttumaan\\tmuuttua\\tVERB\\t_\\tCase=Ill|InfForm=3|Number=Sing|VerbForm=Inf|Voice=Act\\t19\\txcomp\\t_\\t_\\n21\\thyppäyksenomaisesti\\thyppäys#omaisesti\\tADV\\t_\\t_\\t20\\tadvmod\\t_\\t_\\n22\\tkriittisten\\tkriittinen\\tADJ\\t_\\tCase=Gen|Degree=Pos|Number=Plur\\t23\\tamod\\t_\\t_\\n23\\tkynnysarvojen\\tkynnys#arvo\\tNOUN\\t_\\tCase=Gen|Number=Plur\\t24\\tnmod:gobj\\t_\\t_\\n24\\tylittymisen\\tylittyä\\tNOUN\\t_\\tCase=Gen|Derivation=Minen|Number=Sing\\t25\\tnmod:poss\\t_\\t_\\n25\\tseurauksena\\tseuraus\\tNOUN\\t_\\tCase=Ess|Number=Sing\\t20\\tnmod\\t_\\t_\\n26\\t.\\t.\\tPUNCT\\t_\\t_\\t2\\tpunct\\t_\\t_\\n</sentence>\\n</paragraph>\\n<paragraph>\\n<sentence>\\n1\\tKun\\tkun\\tSCONJ\\t_\\t_\\t8\\tmark\\t_\\t_\\n2\\tjokin\\tjokin\\tPRON\\t_\\tCase=Nom|Number=Sing|PronType=Ind\\t3\\tdet\\t_\\t_\\n3\\tilmastopakote\\tilmasto#pakote\\tNOUN\\t_\\tCase=Nom|Number=Sing\\t8\\tnsubj\\t_\\t_\\n4\\t,\\t,\\tPUNCT\\t_\\t_\\t6\\tpunct\\t_\\t_\\n5\\tvaikkapa\\tvaikkapa\\tADV\\t_\\t_\\t6\\tadvmod\\t_\\t_\\n6\\tsäteily\\tsäteily\\tNOUN\\t_\\tCase=Nom|Number=Sing\\t3\\tappos\\t_\\t_\\n7\\t,\\t,\\tPUNCT\\t_\\t_\\t6\\tpunct\\t_\\t_\\n8\\tmuuttaa\\tmuuttaa\\tVERB\\t_\\tMood=Ind|Number=Sing|Person=3|Tense=Pres|VerbForm=Fin|Voice=Act\\t15\\tadvcl\\t_\\t_\\n9\\tilmastoa\\tilmasto\\tNOUN\\t_\\tCase=Par|Number=Sing\\t8\\tdobj\\t_\\t_\\n10\\t,\\t,\\tPUNCT\\t_\\t_\\t8\\tpunct\\t_\\t_\\n11\\tmonet\\tmoni\\tPRON\\t_\\tCase=Nom|Number=Plur|PronType=Ind\\t12\\tdet\\t_\\t_\\n12\\tmekanismit\\tmekanismi\\tNOUN\\t_\\tCase=Nom|Number=Plur\\t15\\tnsubj\\t_\\t_\\n13\\tvoivat\\tvoida\\tAUX\\t_\\tMood=Ind|Number=Plur|Person=3|Tense=Pres|VerbForm=Fin|Voice=Act\\t15\\taux\\t_\\t_\\n14\\tjoko\\tjoko\\tCONJ\\t_\\t_\\t15\\tcc:preconj\\t_\\t_\\n15\\tvahvistaa\\tvahvistaa\\tVERB\\t_\\tInfForm=1|Number=Sing|VerbForm=Inf|Voice=Act\\t0\\troot\\t_\\t_\\n16\\ttai\\ttai\\tCONJ\\t_\\t_\\t15\\tcc\\t_\\t_\\n17\\tvaimentaa\\tvaimentaa\\tVERB\\t_\\tInfForm=1|Number=Sing|VerbForm=Inf|Voice=Act\\t15\\tconj\\t_\\t_\\n18\\tmuutosta\\tmuutos\\tNOUN\\t_\\tCase=Par|Number=Sing\\t15\\tdobj\\t_\\t_\\n19\\t.\\t.\\tPUNCT\\t_\\t_\\t15\\tpunct\\t_\\t_\\n</sentence>\\n<sentence>\\n1\\tNämä\\ttämä\\tPRON\\t_\\tCase=Nom|Number=Plur|PronType=Dem\\t6\\tnsubj:cop\\t_\\t_\\n2\\tovat\\tolla\\tVERB\\t_\\tMood=Ind|Number=Plur|Person=3|Tense=Pres|VerbForm=Fin|Voice=Act\\t6\\tcop\\t_\\t_\\n3\\tpositiivisia\\tpositiivinen\\tADJ\\t_\\tCase=Par|Degree=Pos|Number=Plur\\t6\\tamod\\t_\\t_\\n4\\tja\\tja\\tCONJ\\t_\\t_\\t3\\tcc\\t_\\t_\\n5\\tnegatiivisia\\tnegatiivinen\\tADJ\\t_\\tCase=Par|Degree=Pos|Number=Plur\\t3\\tconj\\t_\\t_\\n6\\ttakaisinkytkentöjä\\ttakaisin#kytkentä\\tNOUN\\t_\\tCase=Par|Number=Plur\\t0\\troot\\t_\\t_\\n7\\t.\\t.\\tPUNCT\\t_\\t_\\t6\\tpunct\\t_\\t_\\n</sentence>\\n</paragraph>\\n<paragraph>\\n<sentence>\\n1\\tOn\\tolla\\tVERB\\t_\\tMood=Ind|Number=Sing|Person=3|Tense=Pres|VerbForm=Fin|Voice=Act\\t0\\troot\\t_\\t_\\n2\\tolemassa\\tolla\\tVERB\\t_\\tCase=Ine|InfForm=3|Number=Sing|VerbForm=Inf|Voice=Act\\t1\\txcomp\\t_\\t_\\n3\\tlukuisia\\tlukuisa\\tADJ\\t_\\tCase=Par|Degree=Pos|Number=Plur\\t7\\tamod\\t_\\t_\\n4\\tlämpenemistä\\tlämmetä\\tNOUN\\t_\\tCase=Par|Derivation=Minen|Number=Sing\\t5\\tdobj\\t_\\t_\\n5\\tvoimistavia\\tvoimistaa\\tVERB\\t_\\tCase=Par|Degree=Pos|Number=Plur|PartForm=Pres|VerbForm=Part|Voice=Act\\t7\\tacl\\t_\\t_\\n6\\tpositiivisia\\tpositiivinen\\tADJ\\t_\\tCase=Par|Degree=Pos|Number=Plur\\t7\\tamod\\t_\\t_\\n7\\ttakaisinkytkentöjä\\ttakaisin#kytkentä\\tNOUN\\t_\\tCase=Par|Number=Plur\\t1\\tnsubj\\t_\\t_\\n8\\t,\\t,\\tPUNCT\\t_\\t_\\t13\\tpunct\\t_\\t_\\n9\\tjoita\\tjoka\\tPRON\\t_\\tCase=Par|Number=Plur|PronType=Rel\\t13\\tdobj\\t_\\t_\\n10\\tkaikkia\\tkaikki\\tPRON\\t_\\tCase=Par|Number=Plur|PronType=Ind\\t13\\tdobj\\t_\\t_\\n11\\tei\\tei\\tVERB\\t_\\tNegative=Yes|Number=Sing|Person=3|VerbForm=Fin|Voice=Act\\t13\\tneg\\t_\\t_\\n12\\tole\\tolla\\tAUX\\t_\\tConnegative=Yes|Mood=Ind|Tense=Pres|VerbForm=Fin\\t13\\tauxpass\\t_\\t_\\n13\\thuomioitu\\thuomioida\\tVERB\\t_\\tCase=Nom|Degree=Pos|Number=Sing|PartForm=Past|VerbForm=Part|Voice=Pass\\t7\\tacl:relcl\\t_\\t_\\n14\\tIPCC:n\\tIPCC:n\\tPROPN\\t_\\tCase=Gen|Number=Sing\\t15\\tnmod:poss\\t_\\t_\\n15\\tilmastomalleissa\\tilmasto#malli\\tNOUN\\t_\\tCase=Ine|Number=Plur\\t13\\tnmod\\t_\\t_\\n16\\t.\\t.\\tPUNCT\\t_\\t_\\t1\\tpunct\\t_\\t_\\n</sentence>\\n<sentence>\\n1\\tNäitä\\ttämä\\tPRON\\t_\\tCase=Par|Number=Plur|PronType=Dem\\t2\\tdet\\t_\\t_\\n2\\ttakaisinkytkentöjä\\ttakaisin#kytkentä\\tNOUN\\t_\\tCase=Par|Number=Plur\\t3\\tnsubj\\t_\\t_\\n3\\tliittyy\\tliittyä\\tVERB\\t_\\tMood=Ind|Number=Sing|Person=3|Tense=Pres|VerbForm=Fin|Voice=Act\\t0\\troot\\t_\\t_\\n4\\tesimerkiksi\\tesimerkiksi\\tADV\\t_\\t_\\t7\\tadvmod\\t_\\t_\\n5\\tjäätiköiden\\tjäätikkö\\tNOUN\\t_\\tCase=Gen|Number=Plur\\t7\\tnmod:gobj\\t_\\t_\\n6\\tkiihtyvään\\tkiihtyä\\tADJ\\t_\\tCase=Ill|Degree=Pos|Number=Sing\\t7\\tamod\\t_\\t_\\n7\\tsulamiseen\\tsulaa\\tNOUN\\t_\\tCase=Ill|Derivation=Minen|Number=Sing\\t3\\tnmod\\t_\\t_\\n8\\t,\\t,\\tPUNCT\\t_\\t_\\t10\\tpunct\\t_\\t_\\n9\\tjoka\\tjoka\\tPRON\\t_\\tCase=Nom|Number=Sing|PronType=Rel\\t10\\tnsubj\\t_\\t_\\n10\\tnopeuttaa\\tnopeuttaa\\tVERB\\t_\\tMood=Ind|Number=Sing|Person=3|Tense=Pres|VerbForm=Fin|Voice=Act\\t7\\tacl:relcl\\t_\\t_\\n11\\tmeriveden\\tmeri#vesi\\tNOUN\\t_\\tCase=Gen|Number=Sing\\t12\\tnmod:gsubj\\t_\\t_\\n12\\tlämpenemistä\\tlämmetä\\tNOUN\\t_\\tCase=Par|Derivation=Minen|Number=Sing\\t10\\tdobj\\t_\\t_\\n13\\t.\\t.\\tPUNCT\\t_\\t_\\t3\\tpunct\\t_\\t_\\n</sentence>\\n</paragraph>\\n<paragraph>\\n<sentence>\\n1\\tMuita\\tmuu\\tPRON\\t_\\tCase=Par|Degree=Pos|Number=Plur|PronType=Ind\\t3\\tdet\\t_\\t_\\n2\\tpositiivisia\\tpositiivinen\\tADJ\\t_\\tCase=Par|Degree=Pos|Number=Plur\\t3\\tamod\\t_\\t_\\n3\\ttakaisinkytkentöjä\\ttakaisin#kytkentä\\tNOUN\\t_\\tCase=Par|Number=Plur\\t8\\tnsubj:cop\\t_\\t_\\n4\\tovat\\tolla\\tVERB\\t_\\tMood=Ind|Number=Plur|Person=3|Tense=Pres|VerbForm=Fin|Voice=Act\\t8\\tcop\\t_\\t_\\n5\\tikiroudan\\tiki#routa\\tNOUN\\t_\\tCase=Gen|Number=Sing\\t6\\tnmod:gobj\\t_\\t_\\n6\\tsulamisen\\tsulaa\\tNOUN\\t_\\tCase=Gen|Derivation=Minen|Number=Sing\\t7\\tnsubj\\t_\\t_\\n7\\taikaansaamat\\taikaansaada\\tVERB\\t_\\tCase=Nom|Degree=Pos|Number=Plur|PartForm=Agt|VerbForm=Part|Voice=Act\\t8\\tacl\\t_\\t_\\n8\\tmetaanipäästöt\\tmetaani#päästö\\tNOUN\\t_\\tCase=Nom|Number=Plur\\t0\\troot\\t_\\t_\\n9\\tsekä\\tsekä\\tCONJ\\t_\\t_\\t8\\tcc\\t_\\t_\\n10\\tveden\\tvesi\\tNOUN\\t_\\tCase=Gen|Number=Sing\\t11\\tnmod:gsubj\\t_\\t_\\n11\\tlämpenemisestä\\tlämmetä\\tNOUN\\t_\\tCase=Ela|Derivation=Minen|Number=Sing\\t12\\tnmod\\t_\\t_\\n12\\tjohtuva\\tjohtua\\tVERB\\t_\\tCase=Nom|Degree=Pos|Number=Sing|PartForm=Pres|VerbForm=Part|Voice=Act\\t15\\tacl\\t_\\t_\\n13\\tmerenpohjien\\tmeren#pohja\\tNOUN\\t_\\tCase=Gen|Number=Plur\\t14\\tnmod:poss\\t_\\t_\\n14\\tmetaanihydraatin\\tmetaani#hydraatti\\tNOUN\\t_\\tCase=Gen|Number=Sing\\t15\\tnmod:gobj\\t_\\t_\\n15\\tvapautuminen\\tvapautua\\tNOUN\\t_\\tCase=Nom|Derivation=Minen|Number=Sing\\t8\\tconj\\t_\\t_\\n16\\tilmakehään\\tilma#kehä\\tNOUN\\t_\\tCase=Ill|Number=Sing\\t15\\tnmod\\t_\\t_\\n17\\tmetaanin\\tmetaani\\tNOUN\\t_\\tCase=Gen|Number=Sing\\t18\\tnmod:poss\\t_\\t_\\n18\\tmuodossa\\tmuoto\\tNOUN\\t_\\tCase=Ine|Number=Sing\\t15\\tnmod\\t_\\t_\\n19\\t.\\t.\\tPUNCT\\t_\\t_\\t8\\tpunct\\t_\\t_\\n</sentence>\\n<sentence>\\n1\\tKahta\\tkaksi\\tNUM\\t_\\tCase=Par|Number=Sing|NumType=Card\\t4\\tnummod\\t_\\t_\\n2\\tviimeksi\\tviimeksi\\tADV\\t_\\t_\\t3\\tadvmod\\t_\\t_\\n3\\tmainittua\\tmainita\\tVERB\\t_\\tCase=Par|Degree=Pos|Number=Sing|PartForm=Past|VerbForm=Part|Voice=Pass\\t4\\tacl\\t_\\t_\\n4\\tprosessia\\tprosessi\\tNOUN\\t_\\tCase=Par|Number=Sing\\t7\\tdobj\\t_\\t_\\n5\\tei\\tei\\tVERB\\t_\\tNegative=Yes|Number=Sing|Person=3|VerbForm=Fin|Voice=Act\\t7\\tneg\\t_\\t_\\n6\\tole\\tolla\\tAUX\\t_\\tConnegative=Yes|Mood=Ind|Tense=Pres|VerbForm=Fin\\t7\\tauxpass\\t_\\t_\\n7\\thuomioitu\\thuomioida\\tVERB\\t_\\tCase=Nom|Degree=Pos|Number=Sing|PartForm=Past|VerbForm=Part|Voice=Pass\\t0\\troot\\t_\\t_\\n8\\tniissä\\tse\\tPRON\\t_\\tCase=Ine|Number=Plur|PronType=Dem\\t9\\tdet\\t_\\t_\\n9\\tilmastomalleissa\\tilmasto#malli\\tNOUN\\t_\\tCase=Ine|Number=Plur\\t7\\tnmod\\t_\\t_\\n10\\t,\\t,\\tPUNCT\\t_\\t_\\t14\\tpunct\\t_\\t_\\n11\\tjoihin\\tjoka\\tPRON\\t_\\tCase=Ill|Number=Plur|PronType=Rel\\t14\\tnmod\\t_\\t_\\n12\\tIPCC:n\\tIPCC:n\\tPROPN\\t_\\tCase=Gen|Number=Sing\\t13\\tnmod:poss\\t_\\t_\\n13\\traportit\\traportti\\tNOUN\\t_\\tCase=Nom|Number=Plur\\t14\\tnsubj\\t_\\t_\\n14\\tperustuvat\\tperustua\\tVERB\\t_\\tMood=Ind|Number=Plur|Person=3|Tense=Pres|VerbForm=Fin|Voice=Act\\t9\\tacl:relcl\\t_\\t_\\n15\\t.\\t.\\tPUNCT\\t_\\t_\\t7\\tpunct\\t_\\t_\\n</sentence>\\n</paragraph>\\n<paragraph>\\n<sentence>\\n1\\tLämpenemisen\\tlämmetä\\tNOUN\\t_\\tCase=Gen|Derivation=Minen|Number=Sing\\t2\\tnsubj\\t_\\t_\\n2\\taikaansaama\\taikaansaada\\tVERB\\t_\\tCase=Nom|Degree=Pos|Number=Sing|PartForm=Agt|VerbForm=Part|Voice=Act\\t4\\tacl\\t_\\t_\\n3\\tmerenpinnan\\tmeren#pinta\\tNOUN\\t_\\tCase=Gen|Number=Sing\\t4\\tnmod:poss\\t_\\t_\\n4\\tnousu\\tnousu\\tNOUN\\t_\\tCase=Nom|Number=Sing\\t6\\tnsubj\\t_\\t_\\n5\\tvoi\\tvoida\\tAUX\\t_\\tMood=Ind|Number=Sing|Person=3|Tense=Pres|VerbForm=Fin|Voice=Act\\t6\\taux\\t_\\t_\\n6\\tlisätä\\tlisätä\\tVERB\\t_\\tInfForm=1|Number=Sing|VerbForm=Inf|Voice=Act\\t0\\troot\\t_\\t_\\n7\\tmyös\\tmyös\\tADV\\t_\\t_\\t8\\tadvmod\\t_\\t_\\n8\\ttulivuorenpurkauksia\\ttuli#vuoren#purkaus\\tNOUN\\t_\\tCase=Par|Number=Plur\\t6\\tdobj\\t_\\t_\\n9\\t,\\t,\\tPUNCT\\t_\\t_\\t13\\tpunct\\t_\\t_\\n10\\tjoiden\\tjoka\\tPRON\\t_\\tCase=Gen|Number=Plur|PronType=Rel\\t11\\tnmod:poss\\t_\\t_\\n11\\tyhteydessä\\tyhteys\\tNOUN\\t_\\tCase=Ine|Number=Sing\\t13\\tnmod\\t_\\t_\\n12\\tilmakehään\\tilma#kehä\\tNOUN\\t_\\tCase=Ill|Number=Sing\\t13\\tnmod\\t_\\t_\\n13\\tpääsee\\tpäästä\\tVERB\\t_\\tMood=Ind|Number=Sing|Person=3|Tense=Pres|VerbForm=Fin|Voice=Act\\t8\\tacl:relcl\\t_\\t_\\n14\\tlisää\\tlisää\\tADV\\t_\\t_\\t15\\tadvmod\\t_\\t_\\n15\\tmetaania\\tmetaani\\tNOUN\\t_\\tCase=Par|Number=Sing\\t13\\tdobj\\t_\\t_\\n16\\tja\\tja\\tCONJ\\t_\\t_\\t15\\tcc\\t_\\t_\\n17\\thiilidioksidia\\thiili#dioksidi\\tNOUN\\t_\\tCase=Par|Number=Sing\\t15\\tconj\\t_\\t_\\n18\\t.\\t.\\tPUNCT\\t_\\t_\\t6\\tpunct\\t_\\t_\\n</sentence>\\n</paragraph>\\n<paragraph>\\n<sentence>\\n1\\tTrooppisten\\ttrooppinen\\tADJ\\t_\\tCase=Gen|Degree=Pos|Number=Plur\\t2\\tamod\\t_\\t_\\n2\\tkosteikkojen\\tkosteikko\\tNOUN\\t_\\tCase=Gen|Number=Plur\\t3\\tnmod:gobj\\t_\\t_\\n3\\tkuivuminen\\tkuivua\\tNOUN\\t_\\tCase=Nom|Derivation=Minen|Number=Sing\\t4\\tnsubj\\t_\\t_\\n4\\tvähentää\\tvähentää\\tVERB\\t_\\tMood=Ind|Number=Sing|Person=3|Tense=Pres|VerbForm=Fin|Voice=Act\\t0\\troot\\t_\\t_\\n5\\tniiden\\tse\\tPRON\\t_\\tCase=Gen|Number=Plur|PronType=Dem\\t6\\tnmod:poss\\t_\\t_\\n6\\tmetaanipäästöjä\\tmetaani#päästö\\tNOUN\\t_\\tCase=Par|Number=Plur\\t4\\tdobj\\t_\\t_\\n7\\tlisäten\\tlisätä\\tVERB\\t_\\tCase=Ins|InfForm=2|Number=Sing|VerbForm=Inf|Voice=Act\\t4\\tadvcl\\t_\\t_\\n8\\tkuitenkin\\tkuitenkin\\tADV\\t_\\t_\\t7\\tadvmod\\t_\\t_\\n9\\tsamalla\\tsamalla\\tADV\\t_\\t_\\t7\\tadvmod\\t_\\t_\\n10\\tniiden\\tse\\tPRON\\t_\\tCase=Gen|Number=Plur|PronType=Dem\\t11\\tnmod:poss\\t_\\t_\\n11\\tpalamisriskiä\\tpalaa#riski\\tNOUN\\t_\\tCase=Par|Number=Sing\\t7\\tdobj\\t_\\t_\\n12\\t.\\t.\\tPUNCT\\t_\\t_\\t4\\tpunct\\t_\\t_\\n</sentence>\\n<sentence>\\n1\\tKuivuneiden\\tkuivua\\tVERB\\t_\\tCase=Gen|Degree=Pos|Number=Plur|PartForm=Past|VerbForm=Part|Voice=Act\\t2\\tacl\\t_\\t_\\n2\\tkosteikkojen\\tkosteikko\\tNOUN\\t_\\tCase=Gen|Number=Plur\\t3\\tnmod:poss\\t_\\t_\\n3\\tpalot\\tpalo\\tNOUN\\t_\\tCase=Nom|Number=Plur\\t4\\tnsubj\\t_\\t_\\n4\\tvapauttavat\\tvapauttaa\\tVERB\\t_\\tMood=Ind|Number=Plur|Person=3|Tense=Pres|VerbForm=Fin|Voice=Act\\t0\\troot\\t_\\t_\\n5\\thiiltä\\thiki\\tNOUN\\t_\\tCase=Abl|Number=Plur\\t4\\tnmod\\t_\\t_\\n6\\tilmakehään\\tilma#kehä\\tNOUN\\t_\\tCase=Ill|Number=Sing\\t4\\tnmod\\t_\\t_\\n7\\t.\\t.\\tPUNCT\\t_\\t_\\t4\\tpunct\\t_\\t_\\n</sentence>\\n</paragraph>\\n<paragraph>\\n<sentence>\\n1\\tMyös\\tmyös\\tADV\\t_\\t_\\t7\\tadvmod\\t_\\t_\\n2\\tmerivirtojen\\tmeri#virta\\tNOUN\\t_\\tCase=Gen|Number=Plur\\t5\\tnmod:poss\\t_\\t_\\n3\\tja\\tja\\tCONJ\\t_\\t_\\t2\\tcc\\t_\\t_\\n4\\tilmakehän\\tilma#kehä\\tNOUN\\t_\\tCase=Gen|Number=Sing\\t2\\tconj\\t_\\t_\\n5\\tvirtausten\\tvirtaus\\tNOUN\\t_\\tCase=Gen|Number=Plur\\t7\\tnmod:poss\\t_\\t_\\n6\\tkeskinäiset\\tkeskinäinen\\tADJ\\t_\\tCase=Nom|Degree=Pos|Number=Plur\\t7\\tamod\\t_\\t_\\n7\\tvuorovaikutukset\\tvuoro#vaikutus\\tNOUN\\t_\\tCase=Nom|Number=Plur\\t8\\tnsubj\\t_\\t_\\n8\\tmuodostavat\\tmuodostaa\\tVERB\\t_\\tMood=Ind|Number=Plur|Person=3|Tense=Pres|VerbForm=Fin|Voice=Act\\t0\\troot\\t_\\t_\\n9\\tmonimutkaisia\\tmonimutkainen\\tADJ\\t_\\tCase=Par|Degree=Pos|Number=Plur\\t10\\tamod\\t_\\t_\\n10\\tpalautejärjestelmiä\\tpalaute#järjestelmä\\tNOUN\\t_\\tCase=Par|Number=Plur\\t8\\tdobj\\t_\\t_\\n11\\t.\\t.\\tPUNCT\\t_\\t_\\t8\\tpunct\\t_\\t_\\n</sentence>\\n<sentence>\\n1\\tKaikkia\\tkaikki\\tPRON\\t_\\tCase=Par|Number=Plur|PronType=Ind\\t2\\tdet\\t_\\t_\\n2\\tvuorovaikutuksia\\tvuoro#vaikutus\\tNOUN\\t_\\tCase=Par|Number=Plur\\t4\\tdobj\\t_\\t_\\n3\\tei\\tei\\tVERB\\t_\\tNegative=Yes|Number=Sing|Person=3|VerbForm=Fin|Voice=Act\\t4\\tneg\\t_\\t_\\n4\\tymmärretä\\tymmärtää\\tVERB\\t_\\tConnegative=Yes|Mood=Ind|Tense=Pres|VerbForm=Fin|Voice=Pass\\t0\\troot\\t_\\t_\\n5\\tvielä\\tvielä\\tADV\\t_\\t_\\t4\\tadvmod\\t_\\t_\\n6\\tkovin\\tkovin\\tADV\\t_\\t_\\t7\\tadvmod\\t_\\t_\\n7\\thyvin\\thyvin\\tADV\\t_\\t_\\t4\\tadvmod\\t_\\t_\\n8\\t.\\t.\\tPUNCT\\t_\\t_\\t4\\tpunct\\t_\\t_\\n</sentence>\\n</paragraph>\\n<paragraph>\\n<sentence>\\n1\\tAiemmin\\taiemmin\\tADV\\t_\\t_\\t2\\tadvmod\\t_\\t_\\n2\\tvallinneiden\\tvallita\\tVERB\\t_\\tCase=Gen|Degree=Pos|Number=Plur|PartForm=Past|VerbForm=Part|Voice=Act\\t3\\tacl\\t_\\t_\\n3\\tilmasto-olosuhteiden\\tilmasto#olo#suhteet\\tNOUN\\t_\\tCase=Gen|Number=Plur\\t4\\tnmod:gobj\\t_\\t_\\n4\\tpäättelemistä\\tpäätellä\\tNOUN\\t_\\tCase=Par|Derivation=Minen|Number=Sing\\t6\\tnmod\\t_\\t_\\n5\\tvarten\\tvarten\\tADP\\t_\\tAdpType=Post\\t4\\tcase\\t_\\t_\\n6\\tkerätään\\tkerätä\\tVERB\\t_\\tMood=Ind|Tense=Pres|VerbForm=Fin|Voice=Pass\\t0\\troot\\t_\\t_\\n7\\tlaajapohjaisesti\\tlaaja#pohjaisesti\\tADV\\t_\\t_\\t6\\tadvmod\\t_\\t_\\n8\\taineistoa\\taineisto\\tNOUN\\t_\\tCase=Par|Number=Sing\\t6\\tdobj\\t_\\t_\\n9\\t,\\t,\\tPUNCT\\t_\\t_\\t14\\tpunct\\t_\\t_\\n10\\tjonka\\tjoka\\tPRON\\t_\\tCase=Gen|Number=Sing|PronType=Rel\\t11\\tnmod:poss\\t_\\t_\\n11\\tpohjalta\\tpohja\\tNOUN\\t_\\tCase=Abl|Number=Sing\\t14\\tnmod\\t_\\t_\\n12\\tilmastoja\\tilmasto\\tNOUN\\t_\\tCase=Par|Number=Plur\\t14\\tdobj\\t_\\t_\\n13\\tvoidaan\\tvoida\\tAUX\\t_\\tMood=Ind|Tense=Pres|VerbForm=Fin|Voice=Pass\\t14\\taux\\t_\\t_\\n14\\trakentaa\\trakentaa\\tVERB\\t_\\tInfForm=1|Number=Sing|VerbForm=Inf|Voice=Act\\t8\\tacl:relcl\\t_\\t_\\n15\\tuudelleen\\tuudelleen\\tADV\\t_\\t_\\t14\\tadvmod\\t_\\t_\\n16\\tesimerkiksi\\tesimerkiksi\\tADV\\t_\\t_\\t17\\tadvmod\\t_\\t_\\n17\\tilmastomallein\\tilmasto#malli\\tNOUN\\t_\\tCase=Ins|Number=Plur\\t14\\tnmod\\t_\\t_\\n18\\t.\\t.\\tPUNCT\\t_\\t_\\t6\\tpunct\\t_\\t_\\n</sentence>\\n<sentence>\\n1\\tSuurin\\tsuuri\\tADJ\\t_\\tCase=Nom|Degree=Sup|Number=Sing\\t2\\tamod\\t_\\t_\\n2\\tosa\\tosa\\tNOUN\\t_\\tCase=Nom|Number=Sing\\t5\\tnsubj:cop\\t_\\t_\\n3\\ttodistusaineistosta\\ttodistus#aineisto\\tNOUN\\t_\\tCase=Ela|Number=Sing\\t2\\tnmod\\t_\\t_\\n4\\ton\\tolla\\tVERB\\t_\\tMood=Ind|Number=Sing|Person=3|Tense=Pres|VerbForm=Fin|Voice=Act\\t5\\tcop\\t_\\t_\\n5\\tepäsuoraa\\tepä#suora\\tADJ\\t_\\tCase=Par|Degree=Pos|Number=Sing\\t0\\troot\\t_\\t_\\n6\\t:\\t:\\tPUNCT\\t_\\t_\\t5\\tpunct\\t_\\t_\\n7\\tesimerkiksi\\tesimerkiksi\\tADV\\t_\\t_\\t8\\tadvmod\\t_\\t_\\n8\\tkasvillisuudesta\\tkasvillisuus\\tNOUN\\t_\\tCase=Ela|Number=Sing\\t21\\tnmod\\t_\\t_\\n9\\t,\\t,\\tPUNCT\\t_\\t_\\t8\\tpunct\\t_\\t_\\n10\\tpuiden\\tpuu\\tNOUN\\t_\\tCase=Gen|Number=Plur\\t11\\tnmod:poss\\t_\\t_\\n11\\tvuosirenkaista\\tvuosi#rengas\\tNOUN\\t_\\tCase=Ela|Number=Plur\\t8\\tconj\\t_\\t_\\n12\\t,\\t,\\tPUNCT\\t_\\t_\\t8\\tpunct\\t_\\t_\\n13\\tjääkairausnäytteistä\\tjää#kairaus#näyte\\tNOUN\\t_\\tCase=Ela|Number=Plur\\t8\\tconj\\t_\\t_\\n14\\t,\\t,\\tPUNCT\\t_\\t_\\t8\\tpunct\\t_\\t_\\n15\\tmerenpinnan\\tmeren#pinta\\tNOUN\\t_\\tCase=Gen|Number=Sing\\t16\\tnmod:poss\\t_\\t_\\n16\\tmuutoksista\\tmuutos\\tNOUN\\t_\\tCase=Ela|Number=Plur\\t8\\tconj\\t_\\t_\\n17\\tsekä\\tsekä\\tCONJ\\t_\\t_\\t8\\tcc\\t_\\t_\\n18\\tjäätiköiden\\tjäätikkö\\tNOUN\\t_\\tCase=Gen|Number=Plur\\t19\\tnmod:poss\\t_\\t_\\n19\\tliikkeistä\\tliike\\tNOUN\\t_\\tCase=Ela|Number=Plur\\t8\\tconj\\t_\\t_\\n20\\tvoidaan\\tvoida\\tAUX\\t_\\tMood=Ind|Tense=Pres|VerbForm=Fin|Voice=Pass\\t21\\taux\\t_\\t_\\n21\\tkerätä\\tkerätä\\tVERB\\t_\\tInfForm=1|Number=Sing|VerbForm=Inf|Voice=Act\\t5\\tparataxis\\t_\\t_\\n22\\ttietoa\\ttieto\\tNOUN\\t_\\tCase=Par|Number=Sing\\t21\\tdobj\\t_\\t_\\n23\\taiemmin\\taiemmin\\tADV\\t_\\t_\\t24\\tadvmod\\t_\\t_\\n24\\tvallinneista\\tvallita\\tVERB\\t_\\tCase=Ela|Degree=Pos|Number=Plur|PartForm=Past|VerbForm=Part|Voice=Act\\t25\\tacl\\t_\\t_\\n25\\tilmastoista\\tilmasto\\tNOUN\\t_\\tCase=Ela|Number=Plur\\t21\\tnmod\\t_\\t_\\n26\\t.\\t.\\tPUNCT\\t_\\t_\\t5\\tpunct\\t_\\t_\\n</sentence>\\n<sentence>\\n1\\tMyös\\tmyös\\tADV\\t_\\t_\\t10\\tadvmod\\t_\\t_\\n2\\tjärvien\\tjärvi\\tNOUN\\t_\\tCase=Gen|Number=Plur\\t5\\tnmod:poss\\t_\\t_\\n3\\tja\\tja\\tCONJ\\t_\\t_\\t2\\tcc\\t_\\t_\\n4\\tsoiden\\tsuo\\tNOUN\\t_\\tCase=Gen|Number=Plur\\t2\\tconj\\t_\\t_\\n5\\tsedimenttikerroksiin\\tsedimentti#kerros\\tNOUN\\t_\\tCase=Ill|Number=Plur\\t6\\tnmod\\t_\\t_\\n6\\ttallentuneet\\ttallentua\\tVERB\\t_\\tCase=Nom|Degree=Pos|Number=Plur|PartForm=Past|VerbForm=Part|Voice=Act\\t10\\tacl\\t_\\t_\\n7\\tsiitepölyn\\tsiitepöly\\tNOUN\\t_\\tCase=Gen|Number=Sing\\t10\\tnmod:poss\\t_\\t_\\n8\\tja\\tja\\tCONJ\\t_\\t_\\t7\\tcc\\t_\\t_\\n9\\tkovakuoriaisten\\tkovakuoriainen\\tNOUN\\t_\\tCase=Gen|Number=Plur\\t7\\tconj\\t_\\t_\\n10\\tjäänteitä\\tjäänne\\tNOUN\\t_\\tCase=Par|Number=Plur\\t12\\tdobj\\t_\\t_\\n11\\ton\\tolla\\tAUX\\t_\\tMood=Ind|Number=Sing|Person=3|Tense=Pres|VerbForm=Fin|Voice=Act\\t12\\tauxpass\\t_\\t_\\n12\\tkäytetty\\tkäyttää\\tVERB\\t_\\tCase=Nom|Degree=Pos|Number=Sing|PartForm=Past|VerbForm=Part|Voice=Pass\\t0\\troot\\t_\\t_\\n13\\ttähän\\ttämä\\tPRON\\t_\\tCase=Ill|Number=Sing|PronType=Dem\\t14\\tdet\\t_\\t_\\n14\\ttarkoitukseen\\ttarkoitus\\tNOUN\\t_\\tCase=Ill|Number=Sing\\t12\\tnmod\\t_\\t_\\n15\\t.\\t.\\tPUNCT\\t_\\t_\\t12\\tpunct\\t_\\t_\\n</sentence>\\n</paragraph>\\n'}, 'päästö': {'id': '174018', 'url': 'https://fi.wikipedia.org/wiki?curid=174018', 'content': '\\n<paragraph>\\n<sentence>\\n1\\tPäästö\\tpäästö\\tNOUN\\t_\\tCase=Nom|Number=Sing\\t0\\troot\\t_\\t_\\n</sentence>\\n</paragraph>\\n<paragraph>\\n<sentence>\\n1\\tPäästö\\tpäästö\\tNOUN\\t_\\tCase=Nom|Number=Sing\\t4\\tnsubj\\t_\\t_\\n2\\teli\\teli\\tCONJ\\t_\\t_\\t1\\tcc\\t_\\t_\\n3\\temissio\\temissio\\tNOUN\\t_\\tCase=Nom|Number=Sing\\t1\\tconj\\t_\\t_\\n4\\ttarkoittaa\\ttarkoittaa\\tVERB\\t_\\tMood=Ind|Number=Sing|Person=3|Tense=Pres|VerbForm=Fin|Voice=Act\\t0\\troot\\t_\\t_\\n5\\tympäristölainsäädännössä\\tympäristö#lain#säädäntö\\tNOUN\\t_\\tCase=Ine|Number=Sing\\t4\\tnmod\\t_\\t_\\n6\\tihmistoiminnan\\tihminen#toiminta\\tNOUN\\t_\\tCase=Gen|Number=Sing\\t7\\tnsubj\\t_\\t_\\n7\\taiheuttamaa\\taiheuttaa\\tVERB\\t_\\tCase=Par|Degree=Pos|Number=Sing|PartForm=Agt|VerbForm=Part|Voice=Act\\t8\\tacl\\t_\\t_\\n8\\taineen\\taine\\tNOUN\\t_\\tCase=Gen|Number=Sing\\t4\\tdobj\\t_\\t_\\n9\\t,\\t,\\tPUNCT\\t_\\t_\\t8\\tpunct\\t_\\t_\\n10\\tenergian\\tenergia\\tNOUN\\t_\\tCase=Gen|Number=Sing\\t8\\tconj\\t_\\t_\\n11\\t,\\t,\\tPUNCT\\t_\\t_\\t8\\tpunct\\t_\\t_\\n12\\tmelun\\tmelu\\tNOUN\\t_\\tCase=Gen|Number=Sing\\t8\\tconj\\t_\\t_\\n13\\t,\\t,\\tPUNCT\\t_\\t_\\t8\\tpunct\\t_\\t_\\n14\\ttärinän\\ttärinä\\tNOUN\\t_\\tCase=Gen|Number=Sing\\t8\\tconj\\t_\\t_\\n15\\t,\\t,\\tPUNCT\\t_\\t_\\t8\\tpunct\\t_\\t_\\n16\\tsäteilyn\\tsäteily\\tNOUN\\t_\\tCase=Gen|Number=Sing\\t8\\tconj\\t_\\t_\\n17\\t,\\t,\\tPUNCT\\t_\\t_\\t8\\tpunct\\t_\\t_\\n18\\tvalon\\tvalo\\tNOUN\\t_\\tCase=Gen|Number=Sing\\t8\\tconj\\t_\\t_\\n19\\ttai\\ttai\\tCONJ\\t_\\t_\\t8\\tcc\\t_\\t_\\n20\\thajun\\thaju\\tNOUN\\t_\\tCase=Gen|Number=Sing\\t21\\tnmod:gobj\\t_\\t_\\n21\\tpäästämistä\\tpäästää\\tNOUN\\t_\\tCase=Par|Derivation=Minen|Number=Sing\\t8\\tconj\\t_\\t_\\n22\\t,\\t,\\tPUNCT\\t_\\t_\\t8\\tpunct\\t_\\t_\\n23\\tjohtamista\\tjohtaa\\tNOUN\\t_\\tCase=Par|Derivation=Minen|Number=Sing\\t8\\tconj\\t_\\t_\\n24\\ttai\\ttai\\tCONJ\\t_\\t_\\t8\\tcc\\t_\\t_\\n25\\tjättämistä\\tjättää\\tNOUN\\t_\\tCase=Par|Derivation=Minen|Number=Sing\\t8\\tconj\\t_\\t_\\n26\\tyhdestä\\tyksi\\tNUM\\t_\\tCase=Ela|Number=Sing|NumType=Card\\t25\\tnmod\\t_\\t_\\n27\\ttai\\ttai\\tCONJ\\t_\\t_\\t25\\tcc\\t_\\t_\\n28\\tuseammasta\\tuseammasta\\tADJ\\t_\\tCase=Ela|Degree=Cmp|Number=Sing\\t29\\tamod\\t_\\t_\\n29\\talkukohdasta\\talku#kohta\\tNOUN\\t_\\tCase=Ela|Number=Sing\\t25\\tconj\\t_\\t_\\n30\\t(\\t(\\tPUNCT\\t_\\t_\\t31\\tpunct\\t_\\t_\\n31\\tpäästölähteestä\\tpäästö#lähde\\tNOUN\\t_\\tCase=Ela|Number=Sing\\t29\\tnmod\\t_\\t_\\n32\\t)\\t)\\tPUNCT\\t_\\t_\\t31\\tpunct\\t_\\t_\\n33\\tsuoraan\\tsuoraan\\tADV\\t_\\t_\\t29\\tcc\\t_\\t_\\n34\\ttai\\ttai\\tCONJ\\t_\\t_\\t29\\tcc\\t_\\t_\\n35\\tepäsuorasti\\tepä#suorasti\\tADV\\t_\\t_\\t36\\tadvmod\\t_\\t_\\n36\\tilmaan\\tilma\\tNOUN\\t_\\tCase=Ill|Number=Sing\\t29\\tconj\\t_\\t_\\n37\\t,\\t,\\tPUNCT\\t_\\t_\\t8\\tpunct\\t_\\t_\\n38\\tveteen\\tvesi\\tNOUN\\t_\\tCase=Ill|Number=Sing\\t8\\tconj\\t_\\t_\\n39\\ttai\\ttai\\tCONJ\\t_\\t_\\t8\\tcc\\t_\\t_\\n40\\tmaaperään\\tmaa#perä\\tNOUN\\t_\\tCase=Ill|Number=Sing\\t8\\tconj\\t_\\t_\\n41\\t.\\t.\\tPUNCT\\t_\\t_\\t4\\tpunct\\t_\\t_\\n</sentence>\\n</paragraph>\\n<paragraph>\\n<sentence>\\n1\\tPäästöt\\tpäästö\\tNOUN\\t_\\tCase=Nom|Number=Plur\\t4\\tnsubj:cop\\t_\\t_\\n2\\tvoivat\\tvoida\\tAUX\\t_\\tMood=Ind|Number=Plur|Person=3|Tense=Pres|VerbForm=Fin|Voice=Act\\t4\\taux\\t_\\t_\\n3\\tolla\\tolla\\tVERB\\t_\\tInfForm=1|Number=Sing|VerbForm=Inf|Voice=Act\\t4\\tcop\\t_\\t_\\n4\\ttoivottuja\\ttoivottu\\tNOUN\\t_\\tCase=Par|Number=Plur\\t0\\troot\\t_\\t_\\n5\\t(\\t(\\tPUNCT\\t_\\t_\\t7\\tpunct\\t_\\t_\\n6\\tesimerkiksi\\tesimerkiksi\\tADV\\t_\\t_\\t7\\tadvmod\\t_\\t_\\n7\\tulkoilmakonsertti\\tulko#ilma#konsertti\\tNOUN\\t_\\tCase=Nom|Number=Sing\\t4\\tappos\\t_\\t_\\n8\\tkonsertin\\tkonsertti\\tNOUN\\t_\\tCase=Gen|Number=Sing\\t9\\tnmod:poss\\t_\\t_\\n9\\tkuulijoille\\tkuulija\\tNOUN\\t_\\tCase=All|Number=Plur\\t7\\tnmod\\t_\\t_\\n10\\t)\\t)\\tPUNCT\\t_\\t_\\t7\\tpunct\\t_\\t_\\n11\\ttai\\ttai\\tCONJ\\t_\\t_\\t4\\tcc\\t_\\t_\\n12\\tei-toivottuja\\tei#toivottu\\tNOUN\\t_\\tCase=Par|Number=Plur\\t4\\tconj\\t_\\t_\\n13\\t.\\t.\\tPUNCT\\t_\\t_\\t4\\tpunct\\t_\\t_\\n</sentence>\\n<sentence>\\n1\\tPäästöjen\\tpäästö\\tNOUN\\t_\\tCase=Gen|Number=Plur\\t2\\tnmod:poss\\t_\\t_\\n2\\tseurauksen\\tseuraus\\tNOUN\\t_\\tCase=Gen|Number=Sing\\t4\\tnsubj\\t_\\t_\\n3\\tvoi\\tvoida\\tAUX\\t_\\tMood=Ind|Number=Sing|Person=3|Tense=Pres|VerbForm=Fin|Voice=Act\\t4\\taux\\t_\\t_\\n4\\taiheutua\\taihe#utua\\tVERB\\t_\\tInfForm=1|Number=Sing|VerbForm=Inf|Voice=Act\\t0\\troot\\t_\\t_\\n5\\tympäristön\\tympäristö\\tNOUN\\t_\\tCase=Gen|Number=Sing\\t6\\tnmod:gobj\\t_\\t_\\n6\\tpilaantumista\\tpilaantua\\tNOUN\\t_\\tCase=Par|Derivation=Minen|Number=Sing\\t4\\tdobj\\t_\\t_\\n7\\t,\\t,\\tPUNCT\\t_\\t_\\t10\\tpunct\\t_\\t_\\n8\\tjoka\\tjoka\\tPRON\\t_\\tCase=Nom|Number=Sing|PronType=Rel\\t9\\tdet\\t_\\t_\\n9\\tkäsite\\tkäsite\\tNOUN\\t_\\tCase=Nom|Number=Sing\\t10\\tnsubj\\t_\\t_\\n10\\tsisältää\\tsisältää\\tVERB\\t_\\tMood=Ind|Number=Sing|Person=3|Tense=Pres|VerbForm=Fin|Voice=Act\\t4\\tacl:relcl\\t_\\t_\\n11\\tmyös\\tmyös\\tADV\\t_\\t_\\t12\\tadvmod\\t_\\t_\\n12\\tterveyshaitan\\tterveys#haitta\\tNOUN\\t_\\tCase=Gen|Number=Sing\\t10\\tdobj\\t_\\t_\\n13\\tja\\tja\\tCONJ\\t_\\t_\\t12\\tcc\\t_\\t_\\n14\\tomaisuuden\\tomaisuus\\tNOUN\\t_\\tCase=Gen|Number=Sing\\t15\\tnmod:gobj\\t_\\t_\\n15\\tvahingoittumisen\\tvahingoittua\\tNOUN\\t_\\tCase=Gen|Derivation=Minen|Number=Sing\\t12\\tconj\\t_\\t_\\n16\\tpäästön\\tpäästö\\tNOUN\\t_\\tCase=Gen|Number=Sing\\t17\\tnmod:poss\\t_\\t_\\n17\\tseurauksena\\tseuraus\\tNOUN\\t_\\tCase=Ess|Number=Sing\\t10\\tnmod\\t_\\t_\\n18\\t.\\t.\\tPUNCT\\t_\\t_\\t4\\tpunct\\t_\\t_\\n</sentence>\\n</paragraph>\\n'}, 'ekologinen kestävyys': {'id': '558095', 'url': 'https://fi.wikipedia.org/wiki?curid=558095', 'content': '\\n<paragraph>\\n<sentence>\\n1\\tEkologinen\\tekologinen\\tADJ\\t_\\tCase=Nom|Degree=Pos|Number=Sing\\t2\\tamod\\t_\\t_\\n2\\tkestävyys\\tkestävyys\\tNOUN\\t_\\tCase=Nom|Number=Sing\\t0\\troot\\t_\\t_\\n</sentence>\\n</paragraph>\\n<paragraph>\\n<sentence>\\n1\\tEkologinen\\tekologinen\\tADJ\\t_\\tCase=Nom|Degree=Pos|Number=Sing\\t2\\tamod\\t_\\t_\\n2\\tkestävyys\\tkestävyys\\tNOUN\\t_\\tCase=Nom|Number=Sing\\t4\\tnsubj:cop\\t_\\t_\\n3\\ton\\tolla\\tVERB\\t_\\tMood=Ind|Number=Sing|Person=3|Tense=Pres|VerbForm=Fin|Voice=Act\\t4\\tcop\\t_\\t_\\n4\\tyksi\\tyksi\\tNUM\\t_\\tCase=Nom|Number=Sing|NumType=Card\\t0\\troot\\t_\\t_\\n5\\tkestävän\\tkestävä\\tADJ\\t_\\tCase=Gen|Degree=Pos|Number=Sing\\t6\\tamod\\t_\\t_\\n6\\tkehityksen\\tkehitys\\tNOUN\\t_\\tCase=Gen|Number=Sing\\t7\\tnmod:poss\\t_\\t_\\n7\\tnäkökulmista\\tnäkö#kulma\\tNOUN\\t_\\tCase=Ela|Number=Plur\\t4\\tnmod\\t_\\t_\\n8\\t.\\t.\\tPUNCT\\t_\\t_\\t4\\tpunct\\t_\\t_\\n</sentence>\\n<sentence>\\n1\\tSillä\\tse\\tPRON\\t_\\tCase=Ade|Number=Sing|PronType=Dem\\t2\\tnmod\\t_\\t_\\n2\\ttarkoitetaan\\ttarkoittaa\\tVERB\\t_\\tMood=Ind|Tense=Pres|VerbForm=Fin|Voice=Pass\\t0\\troot\\t_\\t_\\n3\\tluonnon\\tluonto\\tNOUN\\t_\\tCase=Gen|Number=Sing\\t4\\tnmod:poss\\t_\\t_\\n4\\tmonimuotoisuuden\\tmonimuotoisuus\\tNOUN\\t_\\tCase=Gen|Number=Sing\\t7\\tnmod:poss\\t_\\t_\\n5\\tja\\tja\\tCONJ\\t_\\t_\\t4\\tcc\\t_\\t_\\n6\\tekosysteemien\\tekosysteemi\\tNOUN\\t_\\tCase=Gen|Number=Plur\\t4\\tconj\\t_\\t_\\n7\\ttoiminnan\\ttoiminta\\tNOUN\\t_\\tCase=Gen|Number=Sing\\t8\\tnmod:gobj\\t_\\t_\\n8\\tvarmistamista\\tvarmistaa\\tNOUN\\t_\\tCase=Par|Derivation=Minen|Number=Sing\\t2\\tdobj\\t_\\t_\\n9\\tsekä\\tsekä\\tCONJ\\t_\\t_\\t8\\tcc\\t_\\t_\\n10\\tihmisten\\tihminen\\tNOUN\\t_\\tCase=Gen|Number=Plur\\t11\\tnmod:gsubj\\t_\\t_\\n11\\ttoiminnan\\ttoiminta\\tNOUN\\t_\\tCase=Gen|Number=Sing\\t12\\tnmod:gobj\\t_\\t_\\n12\\tsopeuttamista\\tsopeuttaa\\tNOUN\\t_\\tCase=Par|Derivation=Minen|Number=Sing\\t8\\tconj\\t_\\t_\\n13\\tsiihen\\tse\\tPRON\\t_\\tCase=Ill|Number=Sing|PronType=Dem\\t12\\tnmod\\t_\\t_\\n14\\tniin\\tniin\\tADV\\t_\\t_\\t12\\tadvmod\\t_\\t_\\n15\\t,\\t,\\tPUNCT\\t_\\t_\\t20\\tpunct\\t_\\t_\\n16\\tettä\\tettä\\tSCONJ\\t_\\t_\\t20\\tmark\\t_\\t_\\n17\\tluonnon\\tluonto\\tNOUN\\t_\\tCase=Gen|Number=Sing\\t18\\tnmod:poss\\t_\\t_\\n18\\tkestokyky\\tkesto#kyky\\tNOUN\\t_\\tCase=Nom|Number=Sing\\t20\\tnsubj\\t_\\t_\\n19\\tei\\tei\\tVERB\\t_\\tNegative=Yes|Number=Sing|Person=3|VerbForm=Fin|Voice=Act\\t20\\tneg\\t_\\t_\\n20\\tylity\\tylittyä\\tVERB\\t_\\tConnegative=Yes|Mood=Ind|Tense=Pres|VerbForm=Fin\\t14\\tccomp\\t_\\t_\\n21\\tsaastutuksen\\tsaastutus\\tNOUN\\t_\\tCase=Gen|Number=Sing\\t24\\tnmod:poss\\t_\\t_\\n22\\ttai\\ttai\\tCONJ\\t_\\t_\\t21\\tcc\\t_\\t_\\n23\\tluonnonvarojen\\tluonnon#vara\\tNOUN\\t_\\tCase=Gen|Number=Plur\\t21\\tconj\\t_\\t_\\n24\\tliikakäytön\\tliika#käyttö\\tNOUN\\t_\\tCase=Gen|Number=Sing\\t20\\tnmod\\t_\\t_\\n25\\ttakia\\ttakia\\tADP\\t_\\tAdpType=Post\\t24\\tcase\\t_\\t_\\n26\\t.\\t.\\tPUNCT\\t_\\t_\\t2\\tpunct\\t_\\t_\\n</sentence>\\n</paragraph>\\n'}}\n",
      "\n",
      "Words for document 'joustavuus': ['joustavuus', 'joustavuus', 'yritys', 'ominaisuus', 'kertoa', 'yritys', 'pystyä', 'sopeutua', 'kysyntä', 'tapahtua', 'määrällinen', 'laadullinen', 'muutos', 'yritys', 'muutos', 'kilpailija', 'epäedullinen', 'asema', 'anna', 'pollert', 'arvostella', 'käsite', 'joustavuus', 'varjo', 'tehdä', 'poiketa', 'työntekijä', 'asema', 'vaikuttaa', 'toimenpide', 'joustavuus', 'pyrkiä', 'oikeuttaa', 'keskenään', 'ristiriitainen', 'toimenpide', 'täsmällinen', 'kielenkäyttö', 'joustavuus', 'jakaa', 'laji', 'joustavuus', 'lyhytaikainen', 'ennakointi', 'flexibility', 'for', 'shortterm', 'predicatability', 'määrällinen', 'jousto', 'joustavuus', 'pitkäaikainen', 'sopeutua', 'flexibility', 'for', 'longterm', 'adaptability', 'toiminnallinen', 'jousto', 'joustavuus', 'lyhytaikainen', 'ennakointi', 'merkitä', 'yritys', 'voida', 'sopeuttaa', 'tuotantokustannus', 'kysyntä', 'tekninen', 'ominaisuus', 'lyhytaikainen', 'joustavuus', 'lisätä', 'mahdollisuus', 'irtisanoa', 'hankkia', 'työntekijä', 'joustavuus', 'pitkäaikainen', 'sopeutua', 'edellyttää', 'yritys', 'kyky', 'kehittää', 'tuote', 'tuotantoprosessi', 'auttaa', 'yritys', 'sopeutua', 'uudenlainen', 'markkinatilanne', 'yritys', 'kohdistua', 'toimiala', 'kilpailuvoima', 'aiheuttaa', 'tarve', 'lyhytaikainen', 'pitkäaikainen', 'joustavuus', 'voima', 'vaikuttaa', 'yritys', 'samanaikaisesti', 'käyttää', 'erilainen', 'henkilöstöhallinta', 'strategia', 'ilmiö', 'liittyä', 'havainto', 'pohja', 'atkinson', 'kehittää', 'joustava', 'yritys', 'malli', 'malli', 'ydin', 'koostua', 'pitkäaikainen', 'pysyvä', 'työsuhde', 'taitava', 'työntekijä', 'suunnittelija', 'johtaja', 'jne', 'työsuhde', 'yritys', 'turvallinen', 'työnkuva', 'projekti', 'saattaa', 'muuttua', 'työsuhde', 'reunaryhmä', 'työntekijä', 'työsuhde', 'säännöllinen', 'irtisanoa', 'vaara', 'urakehitys', 'mahdollisuus', 'reunaryhmä', 'kohdistua', 'henkilöstöhallinto', 'toimenpide', 'motivoida', 'fordistisia', 'tärkeä', 'jousto', 'mekanismi', 'alihankinta', 'ulkoistaa', 'vuokratyövoima', 'käyttö', 'joustavuus', 'voida', 'soveltaa', 'työttömyysvakuutus', 'piiri', 'työttömyyskorvaus', 'ansiosidonnainen', 'työttömyyskorvaus', 'joustavuus', 'voida', 'toteuttaa', 'pienentää', 'työttömyyskorvaus', 'määrä', 'lyhentää', 'saantiaika', 'työttömyyskorvaus', 'joustaa', 'perustua', 'idea', 'työtön', 'hakeutua', 'työ', 'saada', 'toimeentulo', 'riittävä', 'työttömyyskorvaus', 'vaikeuttaa', 'asema', 'yritys', 'saada', 'työ', '2015', 'suomi', 'alkaa', 'ajaa', 'joustavuusidea', 'korvaus', 'voida', 'lyhytaikainen', 'työtön', 'korkea', 'pitkäaikainentyötön', 'asema', 'heikentää', 'entisestään', 'korvaus', 'alentua', 'järjestelmä', 'kutsua', 'ns', 'kannustaa', 'järjestelmä', 'joustavuus', 'kannustaa', 'ajaa', 'työnantajapuoli', 'edustaja', 'ayliike', 'vastustaa', 'työntekijä', 'asema', 'heikentää']\n",
      "\n",
      "Words for document 'ilmastonmuutos': ['ilmastomuutos', 'yleiskieli', 'käsite', 'ilmastonmuutos', 'tarkoittaa', 'nykyinen', 'ihminen', 'toiminta', 'johtua', 'ilmakehä', 'lisääntyä', 'kasvihuonekaasupitoisuus', 'aiheutua', 'globaali', 'ilmasto', 'lämmetä', 'käsitellä', 'ilmasto', 'lämmetä', 'niminen', 'artikkeli', 'artikkeli', 'yleiskatsaus', 'paikallinen', 'maailmanlaajuinen', 'ilmasto', 'vaikuttaa', 'tekijä', 'artikkeli', 'käsitellä', 'ilmasto', 'viiletä', 'ilmastomuutos', 'merkittävä', 'pitkä', 'aikaväli', 'muutos', 'globaali', 'paikallinen', 'ilmasto', 'muutos', 'voida', 'tapahtua', 'sadanta', 'lämpötila', 'tuulikuvio', 'tarkastella', 'aikaväli', 'voida', 'vaihdella', 'kymmeninen', 'miljoona', 'ilmastomuutos', 'voida', 'aiheutua', 'tapahtuma', 'liittyä', 'meri', 'lämpömekanismi', 'maapallo', 'rata', 'mannerlaatta', 'liike', 'aurinko', 'aktiivisuus', 'vulkaaninen', 'toiminta', 'asteroiditörmäys', 'ihminen', 'toiminta', 'maa', 'ilmasto', 'voida', 'muuttua', 'maapallo', 'sisäinen', 'prosessi', 'reaktio', 'ulkoinen', 'tekijä', 'muutos', 'aurinko', 'aktiivisuus', 'maapallo', 'kiertorata', 'akseli', 'maapallo', 'sisäinen', 'prosessi', 'voida', 'luontainen', 'vulkaaninen', 'päästö', 'ihminen', 'toiminta', 'johtua', 'fossiilinen', 'polttoaine', 'käyttö', 'synnyttää', 'ilmakehä', 'kasvihuonekaasu', 'cfc', 'no', 'co', 'pitoisuus', 'nousu', 'sää', 'kaoottinen', 'epälineaarinen', 'dynaaminen', 'järjestelmä', 'tarkoittaa', 'osittain', 'ennustaa', 'ilmasto', 'sää', 'keskiarvo', 'havainto', 'valo', 'suhteellinen', 'vakaa', 'ilmasto', 'lukeutua', 'keskilämpötila', 'sadanta', 'aurinkoinen', 'päivä', 'määrä', 'lukuisa', 'mitata', 'suure', 'maa', 'ympäristö', 'tapahtua', 'muutos', 'voida', 'vaikuttaa', 'ilmasto', 'jäätikkö', 'kasvu', 'pienetä', 'aiheuttaa', 'luonnollinen', 'vaihtelu', 'vahvistaa', 'ulkoinen', 'pakote', 'meriilmakehäjärjestelmä', 'muutos', 'voida', 'aiheuttaa', 'voimakas', 'muutos', 'meri', 'vaikutus', 'ilmasto', 'liittyä', 'osa', 'lämpökapasiteetti', 'kyky', 'kuljettaa', 'energia', 'termohaliinikierron', 'merkitys', 'kasvaa', 'pitkä', 'aikaväli', 'ilmasto', 'tila', 'riippuvainen', 'nykytila', 'vaikuttaa', 'edeltää', 'tila', 'kysymys', 'hystereesiilmiö', 'miljoona', 'kulua', 'mannerlaatta', 'liike', 'vaikuttaa', 'merivirta', 'vuori', 'muoto', 'muuttaa', 'ilmasto', 'aurinko', 'aktiivisuus', 'pitkä', 'lyhyt', 'aikaväli', 'tapahtua', 'muutos', 'muuttaa', 'ilmasto', 'säteilypakote', 'suhde', 'nopea', 'muutos', 'aikajänne', 'tapahtua', 'maa', 'rata', 'säännöllinen', 'heilahtelu', 'johtua', 'aurinkokunta', 'sisäinen', 'dynamiikka', 'milankovićin', 'jakso', 'aiheuttaa', 'kutsua', 'jääkausisykli', 'voimakas', 'tulivuorenpurkaus', 'voida', 'vaikuttaa', 'ilmasto', 'äkillisesti', 'purkaus', 'tapahtua', 'vuosisata', 'miljoona', 'väli', 'esiintyä', 'miljoona', 'neliökilometri', 'suuruinen', 'purkausalue', 'vaikuttaa', 'ilmasto', 'miljoona', 'kasvihuoneilmiö', 'merkittävä', 'maapallo', 'lämpötila', 'säädellä', 'tekijä', 'kasvihuoneilmiö', 'voidatavi', 'kasvihuonekaasu', 'hiilidioksidi', 'määrä', 'ilmakehä', 'arvioida', 'hetki', 'korkea', 'miljoona', 'paleoklimatologi', 'kiinnostaa', 'tutka', 'plioseenikaudella', 'ihminenlaji', 'ilmaantua', 'maapallo', 'vallita', 'ajanjakso', 'hiilidioksidipitoisuus', 'kasvu', 'liittyä', 'ilmasto', 'lämmetä', 'arvioida', 'muuttaa', 'maapallo', 'vallita', 'olo', 'muistuttaa', 'suunta', 'kalkkikivi', 'rapautua', 'vaimentaa', 'hiilidioksidipitoisuus', 'muutos', 'hiilidioksidi', 'rapautua', 'kiihtyä', 'lisätä', 'kalkkikivi', 'syntyä', 'sitoa', 'hiilidioksidi', 'vähentää', 'pitoisuus', 'kestää', 'miljoona', 'ilmakehä', 'hiilidioksidipitoisuus', 'palaa', 'ennalleen', 'kuvata', 'prosessi', 'nykyinen', 'hiilidioksidipitoisuus', 'arveluttava', 'verrata', '250', 'miljoona', 'tilanne', 'siperia', 'voimakas', 'vulkaaninen', 'toiminta', 'tapahtua', 'maapallo', 'historia', 'laji', 'massakato', 'arvio', '95', 'laji', 'kadota', 'biodiversiteetti', 'palautua', 'kestää', '56', 'miljoona', 'hiilidioksidipitoisuus', 'epätavallinen', 'korkea', 'verrata', 'nykytilanne', 'käynti', 'ilmastomuutos', 'seuraus', 'ihminen', 'toiminta', 'ihmiskunta', 'aiheuttaa', 'ilmastomuutos', 'vaikutus', 'maapallo', 'saavuttaa', 'sellainen', 'mittasuhde', 'nykyaika', 'alkaa', 'kutsua', 'maailmanhistoria', 'antroposeeniksi', 'ihminen', 'aikakausi', 'ihminenperäinen', 'ilmastomuutos', 'maapallo', 'alkaa', 'luontainen', 'poikkeava', 'kehityskulku', 'tutkija', 'maapallo', 'keskilämpötila', 'nousta', 'ihmiskunta', 'toimi', 'johdosta', '2100', 'todennäköisesti', 'celsiusaste', 'jatkaa', 'nousu', 'vuosisata', 'nykyinen', 'konsensusarvio', '2100', '1', '5', '6', '0', 'c', 'lämmetä', 'voimakkuus', 'riippua', 'arvio', 'lisääntyä', 'vähetä', 'ihmiskunta', 'ilmakehä', 'syytää', 'kasvihuonekaasu', 'määrä', 'nykyinen', 'kehitys', 'ilmakehä', 'kasvihuonekaasu', 'pitoisuus', 'kolminkertaistua', 'nykyinen', 'ilmastomuutos', 'haluta', 'pitää', 'aisa', 'teollisuusmaa', 'päästö', 'pudota', 'tuntuvasti', 'lähivuosikymmen', 'teollistua', 'kehitysmaa', 'hillitä', 'tehokkaasti', 'päästö', 'kasvuvauhti', 'merkitä', 'osa', 'fossiilinen', 'polttoaine', 'jättää', 'ikiajo', 'maa', 'povi', 'ihmiskunta', 'päästö', 'kehitys', 'riippua', 'poliittinen', 'tahto', 'tekniikka', 'kehitys', 'päästö', 'rajoittaayritys', 'vaikutus', 'ilmasto', 'lämmetä', 'johtua', 'ilmakehä', 'hiilidioksidi', 'metaani', 'typpioksiduulipitoisuus', 'troposfääri', 'otsonipitoisuus', 'nousu', 'pikihiukkanen', 'aerosoli', 'vaikutus', 'pilvisyys', 'arvioida', 'tarkasti', 'nykytieto', 'valo', 'pikihiukkanen', 'voimakas', 'ilmasto', 'viilentää', 'nettovaikutus', 'huomioida', 'ilmastomalli', 'ennuste', 'pikihiukkanen', 'suhteellinen', 'ilmakehä', 'viilentää', 'vaikutus', 'vähetä', 'jatkuvasti', 'johtua', 'kasvihuonekaasu', 'pitoisuus', 'ilmakehä', 'kasvaa', 'voimakkaasti', 'kaasu', 'huomattavasti', 'pitkä', 'elinkaari', 'pikihiukkanen', 'kasvaa', 'hiilidioksidipäästö', 'tuottaa', 'fossiilinen', 'polttoaine', 'jatkuvasti', 'lisääntyä', 'käyttö', 'yksittäinen', 'syy', 'antropogeeniseen', 'ihminen', 'toimi', 'johtua', 'ilmastomuutos', 'maankäyttö', 'muutos', 'metsä', 'hävitys', 'suo', 'kuivatus', 'pelto', 'maatalous', 'voimistaa', 'ilmastomuutto', 'nautakarja', 'pito', 'riisinviljely', 'aiheuttaa', 'ilmasto', 'lämmittää', 'metaanipäästö', 'ilmakehä', 'metaanipitoisuus', 'nousta', 'kolminkertainen', 'esiteollinen', 'verrata', 'ilmasto', 'lämmittää', 'typpioksiduuli', 'muodostua', 'viljelysmaa', 'nitraatti', 'hajota', 'keinolannoite', 'käyttö', 'lisätä', 'typpioksiduulipäästö', 'typpioksiduulipäästö', 'kasvaa', 'hetki', 'lineaarinen', '55', 'miljoona', 'ilmakehä', 'hiilidioksidipitoisuus', 'vaihdella', 'luontaisesti', '200', '300', 'ppmn', '1', '000', 'pitoisuus', '280', 'ppm', 'ihmiskunta', 'pääenergianlähde', 'pitkään', 'kivihiilikausi', 'metsäjäännös', 'fossiilinen', 'polttoaine', 'öljy', 'kivihiili', 'maakaasu', 'esiinkaivaminen', 'polttaa', 'kivihiili', 'varanto', 'riittää', 'eteenpäin', 'hiili', 'muoto', 'polttaa', 'nostaa', 'ilmakehä', 'hiilidioksidipitoisuus', 'nykyinen', '380', 'ppmiin', '30', 'historiallinen', 'arvo', 'v', '2004', 'tilanne', 'fossiilinen', 'polttoaine', 'käyttö', 'lisääntyä', 'ilmakehä', 'hiilidioksidipitoisuus', 'kasvaa', 'vieläpä', 'nopeutua', 'kasvillisuus', 'menestyä', 'pääsääntöisesti', 'hiilidioksidipitoinen', 'ilma', 'kasvi', 'tarvita', 'hiilidioksidi', 'yhteyttää', 'tutkimus', 'asettaa', 'kyseenalainen', 'kasvillisuus', 'rehevöityä', 'nettovaikutus', 'johtua', 'ilmasto', 'lämmetä', 'maaperä', 'varastoitua', 'hiili', 'alkaa', 'hajota', 'lisätä', 'ilmakehä', 'hiilidioksidipitoisuus', 'entisestään', 'merkki', 'lämmetä', 'pohjoinen', 'suo', 'siperia', 'alaska', 'osa', 'suomi', 'lappi', 'lisääntyä', 'hiilidioksidi', 'metaanituotanto', 'saattaa', 'muodostua', 'tulevaisuus', 'oleellinen', 'ilmakehä', 'hiilidioksidipitoisuus', 'kohottaja', 'nykyisin', 'pitää', 'todennäköinen', 'ihminen', 'aikaansaada', 'ilmasto', 'lämmetä', 'tasaisesti', 'edetä', 'prosessi', 'ilmasto', 'muuttua', 'hyppäysomaisesti', 'kriittinen', 'kynnysarvo', 'ylittyä', 'seuraus', 'ilmastopakote', 'vaikkapa', 'säteily', 'muuttaa', 'ilmasto', 'mekanismi', 'voida', 'vahvistaa', 'vaimentaa', 'muutos', 'positiivinen', 'negatiivinen', 'takaisinkytkentä', 'lukuisa', 'lämmetä', 'voimistaa', 'positiivinen', 'takaisinkytkentä', 'huomioida', 'ipccn', 'ilmastomalli', 'takaisinkytkentä', 'liittyä', 'jäätikkö', 'kiihtyä', 'sulaa', 'nopeuttaa', 'merivesi', 'lämmetä', 'positiivinen', 'takaisinkytkentä', 'ikirouta', 'sulaa', 'aikaansaada', 'metaanipäästö', 'vesi', 'lämmetä', 'johtua', 'merenpohja', 'metaanihydraatti', 'vapautua', 'ilmakehä', 'metaani', 'muoto', 'mainita', 'prosessi', 'huomioida', 'ilmastomalli', 'ipccn', 'raportti', 'perustua', 'lämmetä', 'aikaansaada', 'merenpinta', 'nousu', 'voida', 'lisätä', 'tulivuorenpurkaus', 'yhteys', 'ilmakehä', 'päästä', 'metaani', 'hiilidioksidi', 'trooppinen', 'kosteikko', 'kuivua', 'vähentää', 'metaanipäästö', 'lisätä', 'palaariski', 'kuivua', 'kosteikko', 'palo', 'vapauttaa', 'hiki', 'ilmakehä', 'merivirta', 'ilmakehä', 'virtaus', 'keskinäinen', 'vuorovaikutus', 'muodostaa', 'monimutkainen', 'palautejärjestelmä', 'vuorovaikutus', 'ymmärtää', 'vallita', 'ilmastoolosuhteet', 'päätellä', 'kerätä', 'laajapohjaisesti', 'aineisto', 'pohja', 'ilmasto', 'voida', 'rakentaa', 'ilmastomalli', 'osa', 'todistusaineisto', 'epäsuora', 'kasvillisuus', 'puu', 'vuosirengas', 'jääkairausnäyte', 'merenpinta', 'muutos', 'jäätikkö', 'liike', 'voida', 'kerätä', 'tieto', 'vallita', 'ilmasto', 'järvi', 'suo', 'sedimenttikerros', 'tallentua', 'siitepöly', 'kovakuoriainen', 'jäänne', 'käyttää', 'tarkoitus']\n",
      "\n",
      "Words for document 'päästö': ['päästö', 'päästö', 'emissio', 'tarkoittaa', 'ympäristölainsäädäntö', 'ihminentoiminta', 'aiheuttaa', 'aine', 'energia', 'melu', 'tärinä', 'säteily', 'valo', 'haju', 'päästää', 'johtaa', 'jättää', 'useammasta', 'alkukohta', 'päästölähde', 'epäsuorasti', 'ilma', 'vesi', 'maaperä', 'päästö', 'voida', 'toivottu', 'ulkoilmakonsertti', 'konsertti', 'kuulija', 'eitoivottu', 'päästö', 'seuraus', 'voida', 'aiheutua', 'ympäristö', 'pilaantua', 'käsite', 'sisältää', 'terveyshaitta', 'omaisuus', 'vahingoittua', 'päästö', 'seuraus']\n",
      "\n",
      "Words for document 'ekologinen kestävyys': ['ekologinen', 'kestävyys', 'ekologinen', 'kestävyys', 'kestävä', 'kehitys', 'näkökulma', 'tarkoittaa', 'luonto', 'monimuotoisuus', 'ekosysteemi', 'toiminta', 'varmistaa', 'ihminen', 'toiminta', 'sopeuttaa', 'luonto', 'kestokyky', 'ylittyä', 'saastutus', 'luonnonvara', 'liikakäyttö']\n"
     ]
    }
   ],
   "source": [
    "# Function to extract third column data from sentences\n",
    "def extract_third_column(sentence):\n",
    "    third_column_data = []\n",
    "    lines = sentence.strip().split(\"\\n\")\n",
    "    for line in lines:\n",
    "        if line.strip() and not line.startswith(\"<\"):\n",
    "            columns = line.split(\"\\t\")\n",
    "            if len(columns) > 2:\n",
    "                third_column_data.append(columns[2])\n",
    "    return third_column_data\n",
    "\n",
    "\n",
    "def process_paragraphs(input_text):\n",
    "    # print(f\"Input Text: {input_text}\")\n",
    "    paragraphs = re.findall(r\"<paragraph>(.*?)</paragraph>\", input_text, re.DOTALL)\n",
    "    all_third_column_data = []\n",
    "    # print(f\"Paragraphs: {paragraphs}\")\n",
    "    for paragraph in paragraphs:\n",
    "        sentences = re.findall(r\"<sentence>(.*?)</sentence>\", paragraph, re.DOTALL)\n",
    "        # print(f\"Sentences: {sentences}\")\n",
    "        for sentence in sentences:\n",
    "            # print(f\"Sentence: {sentence}\")\n",
    "            third_column_data = extract_third_column(sentence)\n",
    "            all_third_column_data.append(\" \".join(third_column_data))\n",
    "    return all_third_column_data\n",
    "\n",
    "\n",
    "# print(f\"Wikipedia data: {wikipedia_data['ilmastonmuutos']['content']}\")\n",
    "\n",
    "# Process each item in wikipedia_data\n",
    "for item in wikipedia_data.items():\n",
    "    third_column_data = process_paragraphs(item[1][\"content\"])\n",
    "    # print(f\"Item {item[0]} third column data:\")\n",
    "    for j, data in enumerate(third_column_data):\n",
    "        filtered_sentence = remove_stopwords(data, finnish_stopwords)\n",
    "        # print(f\"Sentence {j+1}: {filtered_sentence}\")\n",
    "        # Save the filtered sentence to a variable if needed\n",
    "        # For example: sentence_var = filtered_sentence\n",
    "    # print(\"\\n\" + \"#\" * 80 + \"\\n\")\n",
    "\n",
    "\n",
    "all_words = {}\n",
    "\n",
    "print(wikipedia_data)\n",
    "for title, document in wikipedia_data.items():\n",
    "    sentences = re.findall(\n",
    "        r\"<sentence>(.*?)</sentence>\", document[\"content\"], re.DOTALL\n",
    "    )\n",
    "    document_words = []\n",
    "    if sentences:\n",
    "        for idx, sentence_content in enumerate(sentences):\n",
    "            # print(f\"Processing sentence {idx + 1}...\")\n",
    "\n",
    "            # Split each sentence into individual lines\n",
    "            lines = sentence_content.strip().split(\"\\n\")\n",
    "\n",
    "            # cleaned_lines = re.sub(r'[^\\w\\s]', '', lines)\n",
    "            # Extract the word (3nd column) from each line\n",
    "            words = [line.split(\"\\t\")[2] for line in lines if line.strip()]\n",
    "            for word in words:\n",
    "                cleaned_word = re.sub(r\"[^\\w\\s]\", \"\", word)\n",
    "                if not cleaned_word or cleaned_word in finnish_stopwords:\n",
    "                    continue\n",
    "                document_words.append(cleaned_word.casefold())\n",
    "\n",
    "    all_words[title] = document_words\n",
    "\n",
    "for title, words in all_words.items():\n",
    "    print(f\"\\nWords for document '{title}': {words}\")"
   ]
  },
  {
   "cell_type": "code",
   "execution_count": 36,
   "metadata": {},
   "outputs": [
    {
     "name": "stdout",
     "output_type": "stream",
     "text": [
      "Document 'joustavuus' contains the following entities: ['joustavuus', 'joustavuus', 'yritys', 'ominaisuus', 'yritys', 'muutos', 'yritys', 'muutos', 'asema', 'anna', 'käsite', 'joustavuus', 'varjo', 'työntekijä', 'asema', 'joustavuus', 'joustavuus', 'laji', 'joustavuus', 'ennakointi', 'jousto', 'joustavuus', 'jousto', 'joustavuus', 'ennakointi', 'yritys', 'ominaisuus', 'joustavuus', 'mahdollisuus', 'työntekijä', 'joustavuus', 'yritys', 'tuote', 'yritys', 'yritys', 'toimiala', 'tarve', 'joustavuus', 'voima', 'yritys', 'strategia', 'ilmiö', 'havainto', 'pohja', 'atkinson', 'yritys', 'malli', 'malli', 'ydin', 'työntekijä', 'johtaja', 'yritys', 'projekti', 'työntekijä', 'vaara', 'mahdollisuus', 'jousto', 'vuokratyövoima', 'joustavuus', 'työttömyysvakuutus', 'piiri', 'joustavuus', 'määrä', 'idea', 'työ', 'asema', 'yritys', 'työ', '2015', 'suomi', 'asema', 'ns', 'joustavuus', 'työntekijä', 'asema']\n",
      "Document 'ilmastonmuutos' contains the following entities: ['yleiskieli', 'käsite', 'ilmastonmuutos', 'ihminen', 'toiminta', 'ilmakehä', 'ilmasto', 'ilmasto', 'artikkeli', 'artikkeli', 'ilmasto', 'tekijä', 'artikkeli', 'ilmasto', 'muutos', 'ilmasto', 'muutos', 'sadanta', 'lämpötila', 'miljoona', 'tapahtuma', 'meri', 'rata', 'mannerlaatta', 'liike', 'aurinko', 'aktiivisuus', 'toiminta', 'ihminen', 'toiminta', 'maa', 'ilmasto', 'prosessi', 'reaktio', 'tekijä', 'muutos', 'aurinko', 'aktiivisuus', 'kiertorata', 'akseli', 'prosessi', 'päästö', 'ihminen', 'toiminta', 'polttoaine', 'ilmakehä', 'kasvihuonekaasu', 'no', 'co', 'sää', 'epälineaarinen', 'ilmasto', 'sää', 'havainto', 'valo', 'ilmasto', 'keskilämpötila', 'sadanta', 'päivä', 'määrä', 'suure', 'maa', 'ympäristö', 'muutos', 'ilmasto', 'jäätikkö', 'muutos', 'muutos', 'meri', 'ilmasto', 'osa', 'lämpökapasiteetti', 'energia', 'merkitys', 'ilmasto', 'tila', 'tila', 'miljoona', 'mannerlaatta', 'liike', 'merivirta', 'vuori', 'muoto', 'ilmasto', 'aurinko', 'aktiivisuus', 'muutos', 'ilmasto', 'säteilypakote', 'suhde', 'muutos', 'maa', 'rata', 'aurinkokunta', 'dynamiikka', 'jakso', 'tulivuorenpurkaus', 'ilmasto', 'vuosisata', 'miljoona', 'väli', 'miljoona', 'neliökilometri', 'ilmasto', 'miljoona', 'kasvihuoneilmiö', 'lämpötila', 'tekijä', 'kasvihuoneilmiö', 'kasvihuonekaasu', 'hiilidioksidi', 'määrä', 'ilmakehä', 'miljoona', 'tutka', 'ilmasto', 'suunta', 'kalkkikivi', 'muutos', 'hiilidioksidi', 'kalkkikivi', 'hiilidioksidi', 'miljoona', 'ilmakehä', 'palaa', 'prosessi', 'miljoona', 'siperia', 'toiminta', 'historia', 'laji', 'laji', 'biodiversiteetti', 'miljoona', 'ihminen', 'toiminta', 'nykyaika', 'maailmanhistoria', 'ihminen', 'tutkija', 'keskilämpötila', 'toimi', 'celsiusaste', 'vuosisata', '0', 'c', 'voimakkuus', 'ilmakehä', 'kasvihuonekaasu', 'määrä', 'ilmakehä', 'kasvihuonekaasu', 'aisa', 'teollisuusmaa', 'päästö', 'pudota', 'kehitysmaa', 'päästö', 'osa', 'polttoaine', 'maa', 'päästö', 'tekniikka', 'päästö', 'ilmasto', 'ilmakehä', 'hiilidioksidi', 'metaani', 'troposfääri', 'aerosoli', 'pilvisyys', 'valo', 'ilmasto', 'ilmastomalli', 'ilmakehä', 'kasvihuonekaasu', 'ilmakehä', 'kaasu', 'elinkaari', 'polttoaine', 'syy', 'ihminen', 'toimi', 'muutos', 'metsä', 'suo', 'pelto', 'maatalous', 'ilmasto', 'ilmakehä', 'ilmasto', 'nitraatti', 'miljoona', 'ilmakehä', '000', 'ppm', 'kivihiilikausi', 'polttoaine', 'öljy', 'kivihiili', 'maakaasu', 'kivihiili', 'eteenpäin', 'hiili', 'muoto', 'ilmakehä', 'arvo', 'v', '2004', 'polttoaine', 'ilmakehä', 'ilma', 'hiilidioksidi', 'tutkimus', 'ilmasto', 'maaperä', 'hiili', 'ilmakehä', 'merkki', 'pohjoinen', 'suo', 'siperia', 'alaska', 'osa', 'suomi', 'lappi', 'hiilidioksidi', 'tulevaisuus', 'ilmakehä', 'ihminen', 'ilmasto', 'prosessi', 'ilmasto', 'säteily', 'ilmasto', 'muutos', 'takaisinkytkentä', 'takaisinkytkentä', 'ilmastomalli', 'takaisinkytkentä', 'jäätikkö', 'merivesi', 'takaisinkytkentä', 'ikirouta', 'vesi', 'merenpohja', 'ilmakehä', 'metaani', 'muoto', 'prosessi', 'ilmastomalli', 'raportti', 'tulivuorenpurkaus', 'ilmakehä', 'metaani', 'hiilidioksidi', 'kosteikko', 'kosteikko', 'palo', 'hiki', 'ilmakehä', 'merivirta', 'ilmakehä', 'vuorovaikutus', 'vuorovaikutus', 'pohja', 'ilmasto', 'ilmastomalli', 'osa', 'todistusaineisto', 'puu', 'jääkairausnäyte', 'muutos', 'jäätikkö', 'liike', 'tieto', 'ilmasto', 'järvi', 'suo', 'siitepöly', 'tarkoitus']\n",
      "Document 'päästö' contains the following entities: ['päästö', 'päästö', 'emissio', 'aine', 'energia', 'melu', 'säteily', 'valo', 'ilma', 'vesi', 'maaperä', 'päästö', 'konsertti', 'päästö', 'ympäristö', 'käsite', 'terveyshaitta', 'päästö']\n",
      "Document 'ekologinen kestävyys' contains the following entities: ['kestävyys', 'kestävyys', 'näkökulma', 'luonto', 'monimuotoisuus', 'ekosysteemi', 'toiminta', 'ihminen', 'toiminta', 'luonto']\n"
     ]
    }
   ],
   "source": [
    "entities_found = {}\n",
    "\n",
    "for i, topic_words in enumerate(all_words):\n",
    "    found_words = []\n",
    "    for word in all_words[topic_words]:\n",
    "        if word.casefold() in [title.casefold() for title in wikipedia_title_data]:\n",
    "            found_words.append(word.casefold())\n",
    "    entities_found[topic_words] = found_words\n",
    "\n",
    "\n",
    "# Example usage of the entities_found dictionary\n",
    "for topic, found_entities in entities_found.items():\n",
    "    print(f\"Document '{topic}' contains the following entities: {found_entities}\")"
   ]
  },
  {
   "cell_type": "code",
   "execution_count": null,
   "metadata": {},
   "outputs": [],
   "source": []
  },
  {
   "cell_type": "markdown",
   "metadata": {},
   "source": [
    "### Task 2\n",
    "\n",
    "Assume the content of each webpage is a single document. Use relevant NLTK script to create a corpus constituted of the four document, and appropriate proprocessing and lemmatization, to construct the TfIdfVectorizer of each document and then calculate the cosine similarity of each pair of these documents. Provide the result in a table and comment on the findings.\n"
   ]
  },
  {
   "cell_type": "code",
   "execution_count": 92,
   "metadata": {},
   "outputs": [],
   "source": [
    "def extract_second_column(sentence):\n",
    "    second_column_data = []\n",
    "    lines = sentence.strip().split(\"\\n\")\n",
    "    for line in lines:\n",
    "        if line.strip() and not line.startswith(\"<\"):\n",
    "            columns = line.split(\"\\t\")\n",
    "            if len(columns) > 2:\n",
    "                second_column_data.append(columns[1])\n",
    "    return second_column_data\n",
    "\n",
    "\n",
    "def process_sentences(input_text):\n",
    "    paragraphs = re.findall(r\"<paragraph>(.*?)</paragraph>\", input_text, re.DOTALL)\n",
    "    all_second_column_data = []\n",
    "    for paragraph in paragraphs:\n",
    "        sentences = re.findall(r\"<sentence>(.*?)</sentence>\", paragraph, re.DOTALL)\n",
    "        # print(f\"Sentences: {sentences}\")\n",
    "        for sentence in sentences:\n",
    "            # print(f\"Sentence: {sentence}\")\n",
    "            second_column_data = extract_second_column(sentence)\n",
    "            all_second_column_data.append(\" \".join(second_column_data))\n",
    "    return all_second_column_data\n",
    "\n",
    "\n",
    "# Preprocessing function to remove stopwords, stemming, and tokenize the document\n",
    "def preProcess(doc, stopwords):\n",
    "    clean_stopwords = [word.casefold() for word in stopwords]\n",
    "    stemmer = SnowballStemmer(\"finnish\")\n",
    "    sentences = process_sentences(doc)\n",
    "    # print(f\"Sentences: {sentences}\")\n",
    "    # sentences = sent_tokenize(text=sentences.casefold(), language='finnish')\n",
    "\n",
    "    tokens = []\n",
    "    for sentence in sentences:\n",
    "        words = word_tokenize(sentence)\n",
    "\n",
    "        words = [stemmer.stem(word) for word in words]\n",
    "        words = [\n",
    "            word for word in words if word.isalpha() and word not in clean_stopwords\n",
    "        ]\n",
    "        words_set = list(set(words))\n",
    "\n",
    "        tokens.extend(words_set)\n",
    "\n",
    "    return \" \".join(tokens)"
   ]
  },
  {
   "cell_type": "code",
   "execution_count": 38,
   "metadata": {},
   "outputs": [
    {
     "name": "stdout",
     "output_type": "stream",
     "text": [
      "Sentences: ['Joustavuus', 'Joustavuus on yrityksen ominaisuus , joka kertoo siitä , miten yritys pystyy sopeutumaan kysynnässä tapahtuviin määrällisiin ja laadullisiin muutoksiin siten , että yritys ei muutosten myötä joutuisi kilpailijoitaan epäedullisempaan asemaan .', 'Anna Pollert on arvostellut käsitettä siitä , että joustavuuden varjolla tehdään toisistaan hyvinkin paljon poikkeavia , työntekijöiden asemaan vaikuttavia toimenpiteitä .', 'Joustavuudella on pyritty oikeuttamaan jopa keskenään ristiriitaisia toimenpiteitä .', 'Täsmällisemmässä kielenkäytössä joustavuus jaetaan kahteen lajiin : \" joustavuus lyhytaikaisessa ennakoinnissa \" ( \" flexibility for short-term predicatability \" tai määrällinen jousto ) ja \" joustavuus pitkäaikaisessa sopeutumisessa \" ( \" flexibility for long-term adaptability \" tai toiminnallinen jousto ) .', 'Joustavuus lyhytaikaisessa ennakoinnissa merkitsee yritykselle sitä , että se voi nopeasti sopeuttaa tuotantokustannuksensa kysynnän mukaan .', 'Teknisten ominaisuuksien lisäksi lyhytaikaista joustavuutta lisää mahdollisuus nopeasti irtisanoa ja hankkia työntekijöitä .', 'Joustavuus pitkäaikaisessa sopeutumisessa edellyttää yritykseltä kykyä kehittää uusia tuotteita ja omaa tuotantoprosessiaan , mikä auttaa yritystä sopeutumaan uudenlaisiin markkinatilanteisiin .', 'Yrityksiin kohdistuvat toimialan kilpailuvoimat aiheuttavat tarvetta sekä lyhytaikaiselle että pitkäaikaiselle joustavuudelle .', 'Usein voimat vaikuttavat samaankin yritykseen niin , että sen on samanaikaisesti käytettävä kahta erilaista henkilöstöhallinnan strategiaa .', 'Tähän ilmiöön liittyvien havaintojen pohjalta Atkinson on kehittänyt joustavan yrityksen mallin .', 'Mallin ydin koostuu pitkäaikaisissa ja pysyvissä työsuhteissa olevista , taitavista työntekijöistä , suunnittelijoista , johtajista jne .', 'Heidän työsuhteensa yritykseen on turvallinen , mutta työnkuva ja projektit saattavat muuttua monia kertoja työsuhteen aikana .', 'Reunaryhmän työntekijöiden työsuhteet ovat myös säännöllisiä , mutta irtisanomisen vaara on suurempi ja urakehityksen mahdollisuudet pienemmät .', 'Reunaryhmään kohdistuvat henkilöstöhallinnon toimenpiteet ovat usein vähemmän motivoivia ja enemmän fordistisia .', 'Tärkeitä jouston mekanismeja ovat myös alihankinta , ulkoistaminen ja vuokratyövoiman käyttö .', 'Joustavuutta voidaan myös soveltaa esimerkiksi työttömyysvakuutuksen piirissä olevissa työttömyyskorvauksissa .', 'Esimerkiksi ansiosidonnaisen työttömyyskorvauksen joustavuus voidaan toteuttaa pienentämällä työttömyyskorvauksen määrää sekä lyhentämällä sen saantiaikaa .', 'Työttömyyskorvauksissa joustaminen perustuu ideaan , että työtön hakeutuisi töihin , mikäli hän ei saa toimeentuloonsa riittävää työttömyyskorvausta .', 'Tämä tosin vaikeuttaa niiden asemaa , jotka eivät yrityksistä huolimatta saa töitä .', 'Vuonna 2015 Suomessa on alettu ajamaan joustavuusideaa , jonka mukaan korvaus voisi aluksi olla lyhytaikaisesti työttömille jopa korkeampi kuin nyt , mutta pitkäaikaistyöttömän asemaa heikennettäisiin entisestään korvauksen alentuessa .', 'Tätä järjestelmää kutsutaan myös ns. kannustavaksi järjestelmäksi .', 'Yleensä joustavuutta ja kannustavuutta ajavat työnantajapuolen edustajat , kun taas AY-liike vastustaa työntekijän aseman heikentämistä .']\n",
      "Processed Document: joustavuus kysyn laadullis kerto ominaisuus muutoks epäedullis sopeutum site kilpailij yrityks joustavuus muutost mite pystyy tapahtuv määrällis asem yritys varj hyv poikkeav pollert arvostelu vaikuttav an tois käsit palj toimenpit työntekijö joustavuud asem tehd ristiriitais kesk toimenpit oikeuttam joustavuud pyrity lyhytaikais flexibility kielenkäytö jousto pitkäaikais predicatability adaptability kaht for laj joustavuus toiminnallin määrällin täsmällis sopeutumis ennakoin jaeta lyhytaikais kysyn tuotantokustannuks yrityks joustavuus sopeut merkits nopeast ennakoin työntekijö joustavuut irtisano teknist lisä hank nopeast mahdollisuus lyhytaik ominaisuuks edellyt pitkäaikais tuotantoprosesia sopeutum kyky uudenl aut yrityks joustavuus kehit yrity uus tuot sopeutumis markkinatilant lyhytaikais pitkäaikais yrityks kohdistuv kilpailuvoim toimial joustavuud aiheuttav tarv voima samanaikais vaikuttav use käytettäv yrityks eril kah henkilöstöhallin strategia tähä mal joustav havainto yrityks pohj liittyv ilmiö atkinso kehittäny mal pysyv pitkäaikais taitav työsuht koostu suunnittelij olev jne johtaj työntekijö yd turvallin mon kerto heidä projekt mut työsuht saattav yrityks työnkuv muutu ova pienem vaara säännöllis työsuht mut urakehityks suuremp mahdollisuud työntekijö reunaryhm irtisanomis motivoiv vähem ova henkilöstöhallino use kohdistuv enem toimenpit reunaryhm fordistis vuokratyövoim ova ulkoistamin jousto tärk käytö mekanism alihankin joustavuut työttömyyskorvauks työttömyysvakuutuks sovelt piir olev esimerk voida työttömyyskorvauks ansiosidonnais määrä saantiaik lyhentäm joustavuus esimerk voida toteut pienentäm joustamin toimeentulo riittäv työttömyyskorvauks mikäl työtö hakeutui idea töih työttömyyskorvau perustu saa niide huolimat töitä eivä yrityks vaikeut tos jotk asem saa lyhytaikais alentue vuon alu entis aletu pitkäaikaistyöttöm mut joustavuusidea korvaus asem korkeamp ajam suome korvauks ol työttöm heikennet jonk kannustav järjestelm ns kutsu joustavuut työntekij heikentäm vastust ajav yle edustaj työnantajapuol kannustavuut asem\n",
      "Sentences: ['Ilmastonmuutos', 'Yleiskielessä käsitteellä \"ilmastonmuutos \" tarkoitetaan nykyistä ihmisen toiminnasta johtuvaa , ilmakehän lisääntyvästä kasvihuonekaasupitoisuudesta aiheutuvaa globaalia ilmaston lämpenemistä , jota käsitellään omassa Ilmaston lämpeneminen -nimisessä artikkelissaan .', 'Tämä artikkeli on yleiskatsaus kaikista paikalliseen ja maailmanlaajuiseen ilmastoon vaikuttavista tekijöistä .', 'Tämä artikkeli käsittelee myös ilmaston viilenemistä .', 'Ilmastonmuutos on merkittävä pitkän aikavälin muutos globaalissa tai paikallisessa ilmastossa .', 'Muutokset voivat tapahtua esimerkiksi sadannoissa , lämpötiloissa ja tuulikuvioissa .', 'Tarkasteltava aikaväli voi vaihdella kymmenistä vuosista miljooniin vuosiin .', 'Ilmastonmuutos voi aiheutua tapahtumista , jotka liittyvät muun muassa merien lämpömekanismeihin , maapallon rataan , mannerlaattojen liikkeisiin , Auringon aktiivisuuteen , vulkaaniseen toimintaan , asteroiditörmäyksiin ja viime aikoina myös ihmisen toimintaan .', 'Maan ilmasto voi muuttua maapallon sisäisten prosessien myötä tai reaktiona ulkoisiin tekijöihin ( esimerkiksi muutokset auringon aktiivisuudessa , maapallon kiertoradassa tai akselissa ) .', 'Maapallon sisäiset prosessit voivat olla luontaisia ( esimerkiksi vulkaaniset päästöt ) tai ihmisen toiminnasta johtuvia ( esimerkiksi fossiilisten polttoaineiden käytön synnyttämä ilmakehän kasvihuonekaasujen ; CFC , NO , CO pitoisuuksien nousu ) .', 'Sää on kaoottinen epälineaarinen dynaaminen järjestelmä .', 'Tämä tarkoittaa , että se on vain osittain ennustettavissa .', 'Ilmasto eli sään keskiarvo on kuitenkin ollut havaintojen valossa suhteellisen vakaa aivan viime aikoihin asti .', 'Ilmastoon lukeutuvat keskilämpötila , sadanta , aurinkoisten päivien määrä ja lukuisat muut mitattavat suureet .', 'Maan ympäristössä tapahtuu kuitenkin muutoksia , jotka voivat vaikuttaa ilmastoon .', 'Esimerkiksi jäätiköiden kasvu ja pieneneminen aiheuttavat sekä luonnollista vaihtelua , että vahvistavat ulkoisia pakotteita .', 'Toisaalta meri-ilmakehäjärjestelmän muutokset voivat aiheuttaa voimakkaita muutoksia .', 'Merien vaikutus ilmastoon liittyy monilta osin niiden suureen lämpökapasiteettiin ja kykyyn kuljettaa energiaa .', 'Termohaliinikierron merkitys kasvaa pitemmillä aikaväleillä .', 'Toisaalta ilmaston tila ei ole riippuvainen yksin nykytilasta vaan siihen vaikuttavat myös edeltävät tilat , kysymys on siis hystereesi-ilmiöstä .', 'Satojen miljoonien vuosien kuluessa mannerlaattojen liikkeet vaikuttavat merivirtoihin ja vuorten muotoihin muuttaen siten ilmastoa .', 'Auringon aktiivisuudessa sekä pitkällä että lyhyellä aikavälillä tapahtuvat muutokset muuttavat ilmaston säteilypakotetta .', 'Suhteessa nopeampia muutoksia ovat satojen tuhansien vuosien aikajänteellä tapahtuvat Maan radan säännölliset heilahtelut , jotka johtuvat aurinkokunnan sisäisestä dynamiikasta .', 'Nämä Milankovićin jaksot aiheuttavat niin kutsutun jääkausisyklin .', 'Voimakkaat tulivuorenpurkaukset voivat vaikuttaa ilmastoon äkillisesti .', 'Suuria purkauksia tapahtuu useita kertoja vuosisadassa .', 'Joidenkin kymmenien miljoonien vuosien välein esiintyy myös erittäin suuria ( miljoonien neliökilometrien suuruisia ) purkausalueita , jotka vaikuttavat ilmastoon miljoonien vuosien ajan .', 'Kasvihuoneilmiö on merkittävä maapallon lämpötilaa säätelevä tekijä .', 'Kasvihuoneilmiötä voimistavista kasvihuonekaasuista hiilidioksidin määrän ilmakehässä arvioidaan tällä hetkellä olevan korkein kolmeen miljoonaan vuoteen .', 'Paleoklimatologeja kiinnostaakin nyt tutkia plioseenikaudella eli kauan ennen ihmislajin ilmaantumista maapallolle vallinnutta ajanjaksoa , koska hiilidioksidipitoisuuden kasvuun liittyvän ilmaston lämpenemisen arvioidaan muuttavan Maapalloa silloin vallinneita oloja muistuttavaan suuntaan .', 'Kalkkikiven rapautuminen vaimentaa hiilidioksidipitoisuuden muutoksia .', 'Mitä enemmän hiilidioksidia , sitä enemmän rapautuminen kiihtyy , mikä lisää kalkkikiven syntymistä , joka taas sitoo hiilidioksidia itseensä vähentäen pitoisuuksia .', 'Kestää kuitenkin miljoonia vuosia , ennen kuin ilmakehän hiilidioksidipitoisuus palaa ennalleen edellä kuvatun prosessin avulla .', 'Toisaalta nykyistä hiilidioksidipitoisuutta on arveluttavaa verrata 250 miljoonaa vuotta sitten olleeseen tilanteeseen , koska silloin ilmeisesti Siperiassa oli voimakasta vulkaanista toimintaa ja silloin tapahtui yksi maapallon historian suurimmista lajien massakadoista .', 'Arviolta 95 % lajeista katosi ja biodiversiteetin palautuminen kesti 5–6 miljoonaa vuotta .', 'Silloin hiilidioksidipitoisuus oli epätavallisen korkea verrattuna nykytilanteeseen .', 'Nyt käynnissä oleva ilmastonmuutos on seurausta ihmisen omasta toiminnasta .', 'Ihmiskunnan aiheuttaman ilmastonmuutoksen vaikutukset maapallolle ovat saavuttamassa sellaiset mittasuhteet , että nykyaikaa on alettu kutsua maailmanhistoriassa antroposeeniksi eli ihmisten aikakaudeksi .', 'Ihmisperäisen ilmastonmuutoksen myötä maapallolla on alkamassa kokonaan uusi , luontaisesta poikkeava kehityskulku .', 'Tutkijoiden mukaan maapallon keskilämpötila tulee nousemaan ihmiskunnan toimien johdosta vuoteen 2100 mennessä todennäköisesti usealla celsiusasteella jatkaen nousuaan useita vuosisatoja .', 'Nykyinen konsensusarvio vuodelle 2100 on noin 1 , 5 –6 , 0 °C .', 'Lämpenemisen voimakkuus riippuu tässä arviossa siitä , lisääntyykö vai väheneekö ihmiskunnan ilmakehään syytämien kasvihuonekaasujen määrä .', 'Nykyisellä kehityksellä ilmakehän kasvihuonekaasujen pitoisuus tulisi lähes kolminkertaistumaan nykyisestä .', 'Jos ilmastonmuutos halutaan pitää aisoissa , teollisuusmaiden päästöjen olisi pudottava tuntuvasti jo lähivuosikymmeninä , ja teollistuvien kehitysmaittenkin olisi hillittävä tehokkaasti päästöjensä kasvuvauhtia .', 'Tämä merkitsisi sitä , että suurin osa fossiilisista polttoaineista jätettäisiin ikiajoiksi maan poveen .', 'Ihmiskunnan päästöjen kehitys riippuu muun muassa poliittisesta tahdosta , tekniikan kehityksestä ja päästöjen rajoittamisyritysten vaikutuksista .', 'Ilmaston lämpeneminen johtuu ennen kaikkea ilmakehän hiilidioksidi- , metaani- ja typpioksiduulipitoisuuksien sekä troposfäärin otsonipitoisuuksien noususta .', 'Pienhiukkasten eli aerosolien vaikutusta pilvisyyteen on vaikea arvioida tarkasti , mutta nykytiedon valossa pienhiukkasilla olisi voimakas ilmastoa viilentävä nettovaikutus , joka on huomioitu ilmastomalleissa ja -ennusteissa .', 'Pienhiukkasten suhteellinen ilmakehää viilentävä vaikutus vähenee kuitenkin jatkuvasti .', 'Tämä johtuu siitä , että kasvihuonekaasujen pitoisuus ilmakehässä kasvaa voimakkaasti ja näillä kaasuilla on huomattavasti pidempi elinkaari kuin pienhiukkasilla .', 'Kasvavia hiilidioksidipäästöjä tuottava fossiilisten polttoaineiden jatkuvasti lisääntyvä käyttö on suurin yksittäinen syy antropogeeniseen eli ihmisten toimista johtuvaan ilmastonmuutokseen .', 'Myös maankäytön muutokset kuten metsien hävitys ja soiden kuivatus pelloksi sekä maatalous voimistavat ilmastonmuutosta .', 'Nautakarjan pito ja riisinviljely aiheuttavat ilmastoa lämmittäviä metaanipäästöjä .', 'Ilmakehän metaanipitoisuus onkin noussut lähes kolminkertaiseksi esiteolliseen aikaan verrattuna .', 'Ilmastoa lämmittävää typpioksiduulia muodostuu viljelysmaassa nitraattien hajotessa ja keinolannoitteiden käyttö lisää typpioksiduulipäästöjä .', 'Typpioksiduulipäästöt kasvavat tällä hetkellä lineaarisesti .', 'Viimeisten 55 miljoonan vuoden aikana ilmakehän hiilidioksidipitoisuus on vaihdellut luontaisesti noin 200 ja 300 ppm:n välillä , ja viimeiset 1 000 vuotta pitoisuus on ollut noin 280 ppm.', 'Ihmiskunnan pääenergianlähde on ollut jo pitkään kivihiilikauden metsäjäännösten , fossiilisten polttoaineiden ( öljy , kivihiili , maakaasu ) esiinkaivaminen ja polttaminen .', 'Näistä kivihiilen varannot riittävät vielä sadoiksi vuosiksi eteenpäin .', 'Hiilen eri muotojen polttaminen on nostanut ilmakehän hiilidioksidipitoisuuden nykyiseen noin 380 ppm:iin , yli 30 % historiallisesta arvosta ( v. 2004 tilanne ) .', 'Koska fossiilisten polttoaineiden käyttö lisääntyy edelleen , myös ilmakehän hiilidioksidipitoisuus kasvaa ja vieläpä nopeutuen .', 'Kasvillisuus menestyy pääsääntöisesti hyvin hiilidioksidipitoisessa ilmassa , koska kasvit tarvitsevat hiilidioksidia yhteyttämiseen .', 'Uusimmat tutkimukset asettavat kuitenkin kyseenalaiseksi kasvillisuuden rehevöitymisen nettovaikutuksen .', 'Tämä johtuu siitä , että ilmaston lämmetessä maaperään varastoitunut hiili alkaa hajota lisäten ilmakehän hiilidioksidipitoisuutta entisestään .', 'Lisäksi on merkkejä lämpenevien pohjoisten soiden ( Siperia , Alaska , omalta pieneltä osaltaan myös Suomen Lappi ) lisääntyvästä hiilidioksidin- ja metaanintuotannosta , josta saattaa muodostua tulevaisuudessa hyvinkin oleellinen ilmakehän hiilidioksidipitoisuuden kohottaja .', 'Nykyisin pidetään todennäköisenä , että ihmisen aikaansaama ilmaston lämpeneminen ei ole tasaisesti etenevä prosessi , vaan että ilmasto tulee muuttumaan hyppäyksenomaisesti kriittisten kynnysarvojen ylittymisen seurauksena .', 'Kun jokin ilmastopakote , vaikkapa säteily , muuttaa ilmastoa , monet mekanismit voivat joko vahvistaa tai vaimentaa muutosta .', 'Nämä ovat positiivisia ja negatiivisia takaisinkytkentöjä .', 'On olemassa lukuisia lämpenemistä voimistavia positiivisia takaisinkytkentöjä , joita kaikkia ei ole huomioitu IPCC:n ilmastomalleissa .', 'Näitä takaisinkytkentöjä liittyy esimerkiksi jäätiköiden kiihtyvään sulamiseen , joka nopeuttaa meriveden lämpenemistä .', 'Muita positiivisia takaisinkytkentöjä ovat ikiroudan sulamisen aikaansaamat metaanipäästöt sekä veden lämpenemisestä johtuva merenpohjien metaanihydraatin vapautuminen ilmakehään metaanin muodossa .', 'Kahta viimeksi mainittua prosessia ei ole huomioitu niissä ilmastomalleissa , joihin IPCC:n raportit perustuvat .', 'Lämpenemisen aikaansaama merenpinnan nousu voi lisätä myös tulivuorenpurkauksia , joiden yhteydessä ilmakehään pääsee lisää metaania ja hiilidioksidia .', 'Trooppisten kosteikkojen kuivuminen vähentää niiden metaanipäästöjä lisäten kuitenkin samalla niiden palamisriskiä .', 'Kuivuneiden kosteikkojen palot vapauttavat hiiltä ilmakehään .', 'Myös merivirtojen ja ilmakehän virtausten keskinäiset vuorovaikutukset muodostavat monimutkaisia palautejärjestelmiä .', 'Kaikkia vuorovaikutuksia ei ymmärretä vielä kovin hyvin .', 'Aiemmin vallinneiden ilmasto-olosuhteiden päättelemistä varten kerätään laajapohjaisesti aineistoa , jonka pohjalta ilmastoja voidaan rakentaa uudelleen esimerkiksi ilmastomallein .', 'Suurin osa todistusaineistosta on epäsuoraa : esimerkiksi kasvillisuudesta , puiden vuosirenkaista , jääkairausnäytteistä , merenpinnan muutoksista sekä jäätiköiden liikkeistä voidaan kerätä tietoa aiemmin vallinneista ilmastoista .', 'Myös järvien ja soiden sedimenttikerroksiin tallentuneet siitepölyn ja kovakuoriaisten jäänteitä on käytetty tähän tarkoitukseen .']\n",
      "Processed Document: ilmastonmuutos kasvihuonekaasupitoisuud lämpenemin johtuv ihmis ilmak lisääntyv ilmasto käsit artikkel globaal nyky tarkoit yleiskiel lämpenem toimin ilmastonmuutos aiheutuv kaik tekijö paikallis vaikuttav ilmasto maailmanlaajuis artikkel yleiskatsaus viilenem käsittel artikkel ilmasto ilmastonmuutos paikallis ilmasto merkittäv globaal aikaväl pitk muutos sadano muutoks tuulikuvio tapahtu esimerk voiva lämpötilo vuos vaihd kymmen miljoon tarkasteltav aikaväl liik aiko muas vulkaanis toimin mannerlaato aiheutu lämpömekanism aktiivisuut liittyv ilmastonmuutos auringo rata ihmis tapahtum mer maapalo jotk asteroiditörmäyks auringo sisäist proses reaktio tekijö muutoks ilmasto aksel kiertorad esimerk aktiivisuud maapalo ulko maan muutu johtuv polttoain synnyttäm co ilmak vulkaanis pitoisuuks toimin fossiilist nousu sisäis proses päästö esimerk cfc voiva ol luontais ihmis no kasvihuonekaasu käytö maapalo dynaamin kaoottin epälineaarin järjestelm sää tarkoit ennustettav osit valo sään suhteellis aiko ast havainto ilmasto aiva keskiarvo olu kuite vaka lukeutuv mitattav määrä ilmasto suure lukuis päiv aurinkoist keskilämpötil sadan vaikut muutoks jotk ilmasto ympäristö tapahtu voiva maan kuite jäätikö luonnol kasvu pakot vahvistav pienenemin esimerk ulkois vaihtelu aiheuttav toisa muutoks aiheut voiva voimak os energia mon niide kuljet vaikutus liityy ilmasto lämpökapasiteet suure kykyy mer kasv pitem termohaliinikiero merkitys aikaväl siihe yks toisa vaikuttav nykytil ilmasto kysymys tila riippuvain edeltäv liik muutae vuos kulue vaikuttav vuort ilmasto site merivirto miljoon sato muoto mannerlaato auringo tapahtuv muuttav muutoks ilmasto aktiivisuud aikaväl pitk säteilypakot lyhye tuhans aikajänt sisäis vuos ova johtuv aurinkokun muutoks dynamiik nopeamp säännöllis rada jotk heilahtelu suht tapahtuv maan sato kutsutu jääkausisykl jakso milanković aiheuttav vaikut äkillis ilmasto tulivuorenpurkauks voiva voimak kerto purkauks use tapahtu suur vuosisad aja esiintyy vuos kymmen joide vaikuttav jotk ilmasto neliökilometr suur miljoon suuruis väle purkausalue erit kasvihuoneilmiö säätelev merkittäv maapalo lämpötil tekij kasvihuoneilmiö milj hiilidioksid hetk kolm vuote kork määrä voimistav kasvihuonekaasu täl ilmakeh olev arvioid paleoklimatolog ajanjakso kosk ihmislaj plioseenikaud tutk silo muistuttav hiilidioksidipitoisuud kiinnost muuttav suun kasvu lämpenemis vallin liittyv arvioid ilmaantum olo ilmasto maapalo vallinnut hiilidioksidipitoisuud muutoks vaiment rapautumin kalkkikiv kiihtyy hiilidioksid syntym lisä its vähentäe rapautumin enem pitoisuuks sito kalkkikiv proses vuos kest ede kuvatu hiilidioksidipitoisuus miljoon avu pala kuite ilmak kosk suurim hiilidioksidipitoisuut toimint tapahtui miljoon ver yks silo laj arveluttav vuot nyky voimak vulkaan tilant ilmeis ol massakado toisa siperia historia sit maapalo palautumin kest kato biodiversiteet laje arvio miljoon vuot epätavallis silo hiilidioksidipitoisuus nykytilant verratu kork käyn ihmis olev seurau toimin ilmastonmuutos ilmastonmuutoks saavuttam aikakaud nykyaik sellais ova aiheuttam aletu kutsu mittasuht ihmist vaikutuks antroposeen maailmanhistoria maapalo ihmiskun ilmastonmuutoks kehityskulku poikkeav luontais alkam ihmisperäis maapalo vuosisato tutkij celsiusast jatkae nousua johdo vuote toim todennäköis use men nousem maapalo keskilämpötil ihmiskun nykyin vuode konsensusarvio voimakkuus täs määrä syytäm riipu kasvihuonekaasu arvio ilmakeh lämpenemis vähen lisääntyy ihmiskun kolminkertaistum kehityks kasvihuonekaasu tuli nykyis ilmak pitoisuus aiso teollistuv kasvuvauht kehitysm tehok pudottav halu lähivuosikymmen tuntuv pitä päästöj hillittäv teollisuusm ilmastonmuutos jätet polttoain pove suur fossiilis ikiaj merkits maan osa kehitys muas vaikutuks riipu kehityks rajoittamisyrityst tahdo päästöj poliittis tekniik ihmiskun nousu lämpenemin johtu kaik otsonipitoisuuks troposfäär ilmasto typpioksiduulipitoisuuks ilmak tarkast valo pienhiukkas vaikutu ilmastomal nettovaikutus huomioitu aerosol pilvisyyt mut ilmasto voimakas arvioid pienhiukkast nykytiedo viilentäv vaike jatkuv vaikutus ilmakeh suhteellin vähen pienhiukkast kuite viilentäv kasv pienhiukkas johtu huomattav elinkaar näil kaasu kasvihuonekaasu ilmakeh pidemp voimak pitoisuus ilmastonmuutoks jatkuv johtuv syy ihmist toim polttoain hiilidioksidipäästöj antropogeenis kasvav suur käytö tuottav lisääntyv fossiilist maankäytö maatalous muutoks kute soide ilmastonmuuto voimistav pelo mets kuivatus hävitys pito nautakarj metaanipäästöj lämmittäv ilmasto riisinviljely aiheuttav nousu kolminkertais metaanipitoisuus verratu ilmak esiteollis hajot typpioksiduul muodostu lisä lämmittäv ilmasto nitraat keinolannoit käytö typpioksiduulipäästöj viljelysm lineaaris hetk kasvav typpioksiduulipäästö täl vuode vuot olu luontais n viimeis hiilidioksidipitoisuus ppm viimeist miljoon vaihdelu väl ilmak pitoisuus pääenergianlähd öljy pit polttoain polttamin kivihiil maakaasu kivihiilikaud esiinkaivamin metsäjäännöst olu ihmiskun fossiilist riittäv vuos sado kivihiil eteenp varano näis hiilidioksidipitoisuud historiallis iin polttamin ilmak nostanu ppm tila arvo nykyis muoto hiile kasv kosk polttoain hiilidioksidipitoisuus käytö ede nopeutue lisääntyy ilmak fossiilist hyv kasv hiilidioksid pääsääntöis kasvillisuus kosk ilm yhteyttämis hiilidioksidipitois menestyy tarvitsev uusim kyseenalais kasvillisuud asettav rehevöitymis nettovaikutuks kuite tutkimuks johtu alk hajo hiili hiilidioksidipitoisuut ilmasto entis varastoitunu lämmet maaper lisät ilmak metaanintuotano oleellin osa ilmak hyv tulevaisuud soide pohjoist lämpenev siper kohottaj muodostu hiilidioksidipitoisuud piene lisä alask lap suome saat merkkej lisääntyv seurauks lämpenemin pide proses ylittymis aikaansaam todennäköis ihmis ilmasto tasais muuttum kriittist kynnysarvo etenev nykyis hyppäyksenomais mone vaik vahvist muuto vaiment ilmasto jok ilmastopakot voiva mekanism säteily positiivis negatiivis takaisinkytkentöj ova ipc kaik ilmastomal huomioitu n voimistav positiivis takaisinkytkentöj lukuis olem lämpenem lämpenem jäätikö nopeut kiihtyv merived liityy sulamis esimerk takaisinkytkentöj muodo vede johtuv ova ikiroud aikaansaam metaanihydraat vapautumin sulamis positiivis ilmakeh lämpenemis metaanipäästö takaisinkytkentöj merenpohj metaan ipc raport proses ilmastomal huomioitu n kah joih perustuv niis mainitu nousu pääse hiilidioksid aikaansaam joide lisä yhteyd merenpin ilmakeh lämpenemis tulivuorenpurkauks metaan kosteiko vähent niide metaanipäästöj kuivumin trooppist lisät palamisrisk kuite kosteiko kuivun vapauttav palo ilmakeh hiil palautejärjestelm virtaust muodostav merivirto vuorovaikutuks keskinäis monimutkais ilmak hyv kaik vuorovaikutuks kov ymmär aineisto uude vart ilmastomal ilmasto aiem laajapohjais päättelem vallin pohj voida esimerk jonk kerä rakent liik jäätikö vuosirenk aiem puide osa muutoks jääkairausnäyt epäsuor merenpin suur esimerk vallin tieto kerä todistusaineisto ilmasto kasvillisuud voida tähä kovakuoriaist soide siitepöly tarkoituks käytety sedimenttikerroks tallentun järv jäänt\n",
      "Sentences: ['Päästö', 'Päästö eli emissio tarkoittaa ympäristölainsäädännössä ihmistoiminnan aiheuttamaa aineen , energian , melun , tärinän , säteilyn , valon tai hajun päästämistä , johtamista tai jättämistä yhdestä tai useammasta alkukohdasta ( päästölähteestä ) suoraan tai epäsuorasti ilmaan , veteen tai maaperään .', 'Päästöt voivat olla toivottuja ( esimerkiksi ulkoilmakonsertti konsertin kuulijoille ) tai ei-toivottuja .', 'Päästöjen seurauksen voi aiheutua ympäristön pilaantumista , joka käsite sisältää myös terveyshaitan ja omaisuuden vahingoittumisen päästön seurauksena .']\n",
      "Processed Document: päästö jättäm tärin ihmistoimin tarkoit johtam valo aiheuttam ympäristölainsäädänö aine ilm haju säteily energia suora päästö epäsuor emisio vete useam melu alkukohd päästöläht maaper yhd päästäm ol ulkoilmakonsert päästö konsert toivotu esimerk kuulij voiva pilaantum päästö omaisuud ympäristö terveyshait päästöj käsit vahingoittumis sisält seurauks aiheutu\n",
      "Sentences: ['Ekologinen kestävyys', 'Ekologinen kestävyys on yksi kestävän kehityksen näkökulmista .', 'Sillä tarkoitetaan luonnon monimuotoisuuden ja ekosysteemien toiminnan varmistamista sekä ihmisten toiminnan sopeuttamista siihen niin , että luonnon kestokyky ei ylity saastutuksen tai luonnonvarojen liikakäytön takia .']\n",
      "Processed Document: kestävyys ekologin näkökulm yks kestäv kehityks ekologin kestävyys siihe monimuotoisuud ihmist varmistam kestokyky sil luonnonvaro luono sopeuttam tak saastutuks liikakäytö ylity tarkoit toimin ekosysteem\n",
      "\n",
      "Corpus:\n",
      "joustavuus kysyn laadullis kerto ominaisuus muutoks epäedullis sopeutum site kilpailij yrityks joustavuus muutost mite pystyy tapahtuv määrällis asem yritys varj hyv poikkeav pollert arvostelu vaikuttav an tois käsit palj toimenpit työntekijö joustavuud asem tehd ristiriitais kesk toimenpit oikeuttam joustavuud pyrity lyhytaikais flexibility kielenkäytö jousto pitkäaikais predicatability adaptability kaht for laj joustavuus toiminnallin määrällin täsmällis sopeutumis ennakoin jaeta lyhytaikais kysyn tuotantokustannuks yrityks joustavuus sopeut merkits nopeast ennakoin työntekijö joustavuut irtisano teknist lisä hank nopeast mahdollisuus lyhytaik ominaisuuks edellyt pitkäaikais tuotantoprosesia sopeutum kyky uudenl aut yrityks joustavuus kehit yrity uus tuot sopeutumis markkinatilant lyhytaikais pitkäaikais yrityks kohdistuv kilpailuvoim toimial joustavuud aiheuttav tarv voima samanaikais vaikuttav use käytettäv yrityks eril kah henkilöstöhallin strategia tähä mal joustav havainto yrityks pohj liittyv ilmiö atkinso kehittäny mal pysyv pitkäaikais taitav työsuht koostu suunnittelij olev jne johtaj työntekijö yd turvallin mon kerto heidä projekt mut työsuht saattav yrityks työnkuv muutu ova pienem vaara säännöllis työsuht mut urakehityks suuremp mahdollisuud työntekijö reunaryhm irtisanomis motivoiv vähem ova henkilöstöhallino use kohdistuv enem toimenpit reunaryhm fordistis vuokratyövoim ova ulkoistamin jousto tärk käytö mekanism alihankin joustavuut työttömyyskorvauks työttömyysvakuutuks sovelt piir olev esimerk voida työttömyyskorvauks ansiosidonnais määrä saantiaik lyhentäm joustavuus esimerk voida toteut pienentäm joustamin toimeentulo riittäv työttömyyskorvauks mikäl työtö hakeutui idea töih työttömyyskorvau perustu saa niide huolimat töitä eivä yrityks vaikeut tos jotk asem saa lyhytaikais alentue vuon alu entis aletu pitkäaikaistyöttöm mut joustavuusidea korvaus asem korkeamp ajam suome korvauks ol työttöm heikennet jonk kannustav järjestelm ns kutsu joustavuut työntekij heikentäm vastust ajav yle edustaj työnantajapuol kannustavuut asem\n",
      "ilmastonmuutos kasvihuonekaasupitoisuud lämpenemin johtuv ihmis ilmak lisääntyv ilmasto käsit artikkel globaal nyky tarkoit yleiskiel lämpenem toimin ilmastonmuutos aiheutuv kaik tekijö paikallis vaikuttav ilmasto maailmanlaajuis artikkel yleiskatsaus viilenem käsittel artikkel ilmasto ilmastonmuutos paikallis ilmasto merkittäv globaal aikaväl pitk muutos sadano muutoks tuulikuvio tapahtu esimerk voiva lämpötilo vuos vaihd kymmen miljoon tarkasteltav aikaväl liik aiko muas vulkaanis toimin mannerlaato aiheutu lämpömekanism aktiivisuut liittyv ilmastonmuutos auringo rata ihmis tapahtum mer maapalo jotk asteroiditörmäyks auringo sisäist proses reaktio tekijö muutoks ilmasto aksel kiertorad esimerk aktiivisuud maapalo ulko maan muutu johtuv polttoain synnyttäm co ilmak vulkaanis pitoisuuks toimin fossiilist nousu sisäis proses päästö esimerk cfc voiva ol luontais ihmis no kasvihuonekaasu käytö maapalo dynaamin kaoottin epälineaarin järjestelm sää tarkoit ennustettav osit valo sään suhteellis aiko ast havainto ilmasto aiva keskiarvo olu kuite vaka lukeutuv mitattav määrä ilmasto suure lukuis päiv aurinkoist keskilämpötil sadan vaikut muutoks jotk ilmasto ympäristö tapahtu voiva maan kuite jäätikö luonnol kasvu pakot vahvistav pienenemin esimerk ulkois vaihtelu aiheuttav toisa muutoks aiheut voiva voimak os energia mon niide kuljet vaikutus liityy ilmasto lämpökapasiteet suure kykyy mer kasv pitem termohaliinikiero merkitys aikaväl siihe yks toisa vaikuttav nykytil ilmasto kysymys tila riippuvain edeltäv liik muutae vuos kulue vaikuttav vuort ilmasto site merivirto miljoon sato muoto mannerlaato auringo tapahtuv muuttav muutoks ilmasto aktiivisuud aikaväl pitk säteilypakot lyhye tuhans aikajänt sisäis vuos ova johtuv aurinkokun muutoks dynamiik nopeamp säännöllis rada jotk heilahtelu suht tapahtuv maan sato kutsutu jääkausisykl jakso milanković aiheuttav vaikut äkillis ilmasto tulivuorenpurkauks voiva voimak kerto purkauks use tapahtu suur vuosisad aja esiintyy vuos kymmen joide vaikuttav jotk ilmasto neliökilometr suur miljoon suuruis väle purkausalue erit kasvihuoneilmiö säätelev merkittäv maapalo lämpötil tekij kasvihuoneilmiö milj hiilidioksid hetk kolm vuote kork määrä voimistav kasvihuonekaasu täl ilmakeh olev arvioid paleoklimatolog ajanjakso kosk ihmislaj plioseenikaud tutk silo muistuttav hiilidioksidipitoisuud kiinnost muuttav suun kasvu lämpenemis vallin liittyv arvioid ilmaantum olo ilmasto maapalo vallinnut hiilidioksidipitoisuud muutoks vaiment rapautumin kalkkikiv kiihtyy hiilidioksid syntym lisä its vähentäe rapautumin enem pitoisuuks sito kalkkikiv proses vuos kest ede kuvatu hiilidioksidipitoisuus miljoon avu pala kuite ilmak kosk suurim hiilidioksidipitoisuut toimint tapahtui miljoon ver yks silo laj arveluttav vuot nyky voimak vulkaan tilant ilmeis ol massakado toisa siperia historia sit maapalo palautumin kest kato biodiversiteet laje arvio miljoon vuot epätavallis silo hiilidioksidipitoisuus nykytilant verratu kork käyn ihmis olev seurau toimin ilmastonmuutos ilmastonmuutoks saavuttam aikakaud nykyaik sellais ova aiheuttam aletu kutsu mittasuht ihmist vaikutuks antroposeen maailmanhistoria maapalo ihmiskun ilmastonmuutoks kehityskulku poikkeav luontais alkam ihmisperäis maapalo vuosisato tutkij celsiusast jatkae nousua johdo vuote toim todennäköis use men nousem maapalo keskilämpötil ihmiskun nykyin vuode konsensusarvio voimakkuus täs määrä syytäm riipu kasvihuonekaasu arvio ilmakeh lämpenemis vähen lisääntyy ihmiskun kolminkertaistum kehityks kasvihuonekaasu tuli nykyis ilmak pitoisuus aiso teollistuv kasvuvauht kehitysm tehok pudottav halu lähivuosikymmen tuntuv pitä päästöj hillittäv teollisuusm ilmastonmuutos jätet polttoain pove suur fossiilis ikiaj merkits maan osa kehitys muas vaikutuks riipu kehityks rajoittamisyrityst tahdo päästöj poliittis tekniik ihmiskun nousu lämpenemin johtu kaik otsonipitoisuuks troposfäär ilmasto typpioksiduulipitoisuuks ilmak tarkast valo pienhiukkas vaikutu ilmastomal nettovaikutus huomioitu aerosol pilvisyyt mut ilmasto voimakas arvioid pienhiukkast nykytiedo viilentäv vaike jatkuv vaikutus ilmakeh suhteellin vähen pienhiukkast kuite viilentäv kasv pienhiukkas johtu huomattav elinkaar näil kaasu kasvihuonekaasu ilmakeh pidemp voimak pitoisuus ilmastonmuutoks jatkuv johtuv syy ihmist toim polttoain hiilidioksidipäästöj antropogeenis kasvav suur käytö tuottav lisääntyv fossiilist maankäytö maatalous muutoks kute soide ilmastonmuuto voimistav pelo mets kuivatus hävitys pito nautakarj metaanipäästöj lämmittäv ilmasto riisinviljely aiheuttav nousu kolminkertais metaanipitoisuus verratu ilmak esiteollis hajot typpioksiduul muodostu lisä lämmittäv ilmasto nitraat keinolannoit käytö typpioksiduulipäästöj viljelysm lineaaris hetk kasvav typpioksiduulipäästö täl vuode vuot olu luontais n viimeis hiilidioksidipitoisuus ppm viimeist miljoon vaihdelu väl ilmak pitoisuus pääenergianlähd öljy pit polttoain polttamin kivihiil maakaasu kivihiilikaud esiinkaivamin metsäjäännöst olu ihmiskun fossiilist riittäv vuos sado kivihiil eteenp varano näis hiilidioksidipitoisuud historiallis iin polttamin ilmak nostanu ppm tila arvo nykyis muoto hiile kasv kosk polttoain hiilidioksidipitoisuus käytö ede nopeutue lisääntyy ilmak fossiilist hyv kasv hiilidioksid pääsääntöis kasvillisuus kosk ilm yhteyttämis hiilidioksidipitois menestyy tarvitsev uusim kyseenalais kasvillisuud asettav rehevöitymis nettovaikutuks kuite tutkimuks johtu alk hajo hiili hiilidioksidipitoisuut ilmasto entis varastoitunu lämmet maaper lisät ilmak metaanintuotano oleellin osa ilmak hyv tulevaisuud soide pohjoist lämpenev siper kohottaj muodostu hiilidioksidipitoisuud piene lisä alask lap suome saat merkkej lisääntyv seurauks lämpenemin pide proses ylittymis aikaansaam todennäköis ihmis ilmasto tasais muuttum kriittist kynnysarvo etenev nykyis hyppäyksenomais mone vaik vahvist muuto vaiment ilmasto jok ilmastopakot voiva mekanism säteily positiivis negatiivis takaisinkytkentöj ova ipc kaik ilmastomal huomioitu n voimistav positiivis takaisinkytkentöj lukuis olem lämpenem lämpenem jäätikö nopeut kiihtyv merived liityy sulamis esimerk takaisinkytkentöj muodo vede johtuv ova ikiroud aikaansaam metaanihydraat vapautumin sulamis positiivis ilmakeh lämpenemis metaanipäästö takaisinkytkentöj merenpohj metaan ipc raport proses ilmastomal huomioitu n kah joih perustuv niis mainitu nousu pääse hiilidioksid aikaansaam joide lisä yhteyd merenpin ilmakeh lämpenemis tulivuorenpurkauks metaan kosteiko vähent niide metaanipäästöj kuivumin trooppist lisät palamisrisk kuite kosteiko kuivun vapauttav palo ilmakeh hiil palautejärjestelm virtaust muodostav merivirto vuorovaikutuks keskinäis monimutkais ilmak hyv kaik vuorovaikutuks kov ymmär aineisto uude vart ilmastomal ilmasto aiem laajapohjais päättelem vallin pohj voida esimerk jonk kerä rakent liik jäätikö vuosirenk aiem puide osa muutoks jääkairausnäyt epäsuor merenpin suur esimerk vallin tieto kerä todistusaineisto ilmasto kasvillisuud voida tähä kovakuoriaist soide siitepöly tarkoituks käytety sedimenttikerroks tallentun järv jäänt\n",
      "päästö jättäm tärin ihmistoimin tarkoit johtam valo aiheuttam ympäristölainsäädänö aine ilm haju säteily energia suora päästö epäsuor emisio vete useam melu alkukohd päästöläht maaper yhd päästäm ol ulkoilmakonsert päästö konsert toivotu esimerk kuulij voiva pilaantum päästö omaisuud ympäristö terveyshait päästöj käsit vahingoittumis sisält seurauks aiheutu\n",
      "kestävyys ekologin näkökulm yks kestäv kehityks ekologin kestävyys siihe monimuotoisuud ihmist varmistam kestokyky sil luonnonvaro luono sopeuttam tak saastutuks liikakäytö ylity tarkoit toimin ekosysteem\n"
     ]
    }
   ],
   "source": [
    "# Preprocess the document\n",
    "corpus = []\n",
    "\n",
    "for title, document in wikipedia_data.items():\n",
    "    processed_doc = preProcess(document[\"content\"], finnish_stopwords)\n",
    "    print(f\"Processed Document: {processed_doc}\")\n",
    "    corpus.append(processed_doc)\n",
    "\n",
    "# Print the processed document\n",
    "print(\"\\nCorpus:\")\n",
    "for doc in corpus:\n",
    "    print(doc)"
   ]
  },
  {
   "cell_type": "code",
   "execution_count": 39,
   "metadata": {},
   "outputs": [],
   "source": [
    "# TF-IDF Vectorization of each document\n",
    "tf = TfidfVectorizer(use_idf=True, min_df=1)\n",
    "tfidf_matrix = tf.fit_transform(corpus)"
   ]
  },
  {
   "cell_type": "code",
   "execution_count": 40,
   "metadata": {},
   "outputs": [],
   "source": [
    "# Compute cosine similarity of each pair of these documents\n",
    "cosine_sim = cosine_similarity(tfidf_matrix)"
   ]
  },
  {
   "cell_type": "code",
   "execution_count": 41,
   "metadata": {},
   "outputs": [
    {
     "name": "stdout",
     "output_type": "stream",
     "text": [
      "          Doc1      Doc2      Doc3      Doc4\n",
      "Doc1  1.000000  0.062607  0.011806  0.000000\n",
      "Doc2  0.062607  1.000000  0.058166  0.030478\n",
      "Doc3  0.011806  0.058166  1.000000  0.012154\n",
      "Doc4  0.000000  0.030478  0.012154  1.000000\n"
     ]
    }
   ],
   "source": [
    "# Provide the result in a table\n",
    "cosine_sim_df = pd.DataFrame(\n",
    "    cosine_sim,\n",
    "    index=[f\"Doc{i+1}\" for i in range(len(cosine_sim))],\n",
    "    columns=[f\"Doc{i+1}\" for i in range(len(cosine_sim))],\n",
    ")\n",
    "\n",
    "print(cosine_sim_df)\n",
    "\n",
    "# Comment on the findings"
   ]
  },
  {
   "cell_type": "markdown",
   "metadata": {},
   "source": [
    "### Task 3\n",
    "\n",
    "Repeat 2) when the documents are restricted only to clickable entities of each document\n"
   ]
  },
  {
   "cell_type": "code",
   "execution_count": 42,
   "metadata": {},
   "outputs": [],
   "source": [
    "# Preprocessing function to remove stopwords, stemming\n",
    "def preProcess_entites(words, stopwords):\n",
    "    clean_stopwords = [word.casefold() for word in stopwords]\n",
    "    stemmer = SnowballStemmer(\"finnish\")\n",
    "\n",
    "    words = [stemmer.stem(word) for word in words]\n",
    "\n",
    "    words = [word for word in words if word.isalpha() and word not in clean_stopwords]\n",
    "\n",
    "    words = list(set(words))\n",
    "\n",
    "    return \" \".join(words)"
   ]
  },
  {
   "cell_type": "code",
   "execution_count": 43,
   "metadata": {},
   "outputs": [
    {
     "name": "stdout",
     "output_type": "stream",
     "text": [
      "\n",
      "Corpus_entity:\n",
      "vuokratyövoim mal voima projekt ennakoint toimial mahdollisuus työttömyysvakuutus yritys tuote ide havainto määrä käsit pohj ilmiö atkinso johtaj vaara asem tarv suomi työntekij ominaisuus jousto an joustavuus piiri laji muutos yd varj työ strateg ns\n",
      "reaktio puu hiili aurinkokun v keskilämpötil muoto valo maailmanhistor tutkij maatalous maa nitraat kivihiilikau aktiivisuus siper pohj elinkaar tekniik voimakkuus suomi suun aerosol alask kivihiil merivir artikkel pala öljy rata kaasu histor kiertor energ lämpötil celsiusast tarkoitus pelto maakaasu liike tutk järv osa pilvisyys raport väli takaisinkytken havainto määrä aksel jääkairausnäyt käsit poltoa arvo säteilypakot yleiskiel milj kosteiko proses vuosis hiilidioksid nykyaik ympäristö lap teollisuusm suo ilmasto kasvihuonekaasu lämpökapasiteet meriv vuorovaikutus dynamiik jäätikö mannerlaat siitepöly meta hiki co mets kehitysm ilm tila toimin kalkkikiv tekij syy troposfäär päästö merkitys vuori ilmastonmuutos tulevaisuus meri palo no aisa tapahtum eteenp toimi ilmastomal biodiversiteet päivä vesi tulivuorenpurkaus tutkimus kasvihuoneilmiö ihmin jakso epälineaarin säteily sadan pudo neliökilometr suure sää tieto laji muutos aur ikirou merk todistusaineisto suhd ilmakeh ppm maaper merenpohj c pohjoin\n",
      "valo päästö konsert aine melu ilm ympäristö terveyshait käsit emisio maaper energ vesi säteily\n",
      "monimuotoisuus kestävyys ihmin näkökulm toimin ekosysteem luonto\n"
     ]
    }
   ],
   "source": [
    "# Preprocess the document\n",
    "corpus_entity = []\n",
    "for document, found_entities in entities_found.items():\n",
    "    processed_doc = preProcess_entites(found_entities, finnish_stopwords)\n",
    "    corpus_entity.append(processed_doc)\n",
    "\n",
    "# Print the processed document\n",
    "print(\"\\nCorpus_entity:\")\n",
    "for doc in corpus_entity:\n",
    "    print(doc)"
   ]
  },
  {
   "cell_type": "code",
   "execution_count": 44,
   "metadata": {},
   "outputs": [],
   "source": [
    "# TF-IDF Vectorization of each document\n",
    "tf = TfidfVectorizer(use_idf=True, min_df=1)\n",
    "tfidf_matrix_entity = tf.fit_transform(corpus_entity)"
   ]
  },
  {
   "cell_type": "code",
   "execution_count": 45,
   "metadata": {},
   "outputs": [],
   "source": [
    "# Compute cosine similarity of each pair of these documents\n",
    "cosine_sim_entity = cosine_similarity(tfidf_matrix_entity)"
   ]
  },
  {
   "cell_type": "code",
   "execution_count": 46,
   "metadata": {},
   "outputs": [
    {
     "name": "stdout",
     "output_type": "stream",
     "text": [
      "          Doc1      Doc2      Doc3      Doc4\n",
      "Doc1  1.000000  0.066520  0.022306  0.000000\n",
      "Doc2  0.066520  1.000000  0.152217  0.045353\n",
      "Doc3  0.022306  0.152217  1.000000  0.000000\n",
      "Doc4  0.000000  0.045353  0.000000  1.000000\n"
     ]
    }
   ],
   "source": [
    "# Provide the result in a table\n",
    "cosine_sim_df_entity = pd.DataFrame(\n",
    "    cosine_sim_entity,\n",
    "    index=[f\"Doc{i+1}\" for i in range(len(cosine_sim_entity))],\n",
    "    columns=[f\"Doc{i+1}\" for i in range(len(cosine_sim_entity))],\n",
    ")\n",
    "\n",
    "print(cosine_sim_df_entity)\n",
    "\n",
    "# Comment on the findings"
   ]
  },
  {
   "cell_type": "markdown",
   "metadata": {},
   "source": [
    "### Task 4\n",
    "\n",
    "Write a script that explores the clickable entities in each of the four concepts (exploring only once), and generates new extended vocabulary for each concepts, and compute the new similarity between each pair of concepts using extent of overlapping of overall vocabulary and reduced vocabulary (when restricting the vocabulary to clickable entities). We shall refer to the case where the clickable entities are further explored as extended vocabulary case.\n"
   ]
  },
  {
   "cell_type": "code",
   "execution_count": 47,
   "metadata": {},
   "outputs": [],
   "source": [
    "# Function to further explore clickable entities and generate extended vocabulary\n",
    "# Function to load the extracted Wikipedia dataset\n",
    "def load_wikipedia_dataset_extended(directory):\n",
    "    data_entity_voc = {}\n",
    "    nodup = {}\n",
    "    categories = [\"ilmastonmuutos\", \"päästö\", \"joustavuus\", \"ekologinen kestävyys\"]\n",
    "    data_entity_voc = {category: [] for category in categories}\n",
    "    for topic, found_entities in entities_found.items():\n",
    "        nodup[topic] = list(set(found_entities))\n",
    "\n",
    "    # Iterate over all dataset parts\n",
    "    files = [\n",
    "        f\n",
    "        for f in os.listdir(directory)\n",
    "        if f.startswith(\"wiki_part\") and f.endswith(\".VRT\")\n",
    "    ]\n",
    "\n",
    "    for filename in tqdm(files, desc=\"Processing files\"):\n",
    "        if filename.startswith(\"wiki_part\") and filename.endswith(\".VRT\"):\n",
    "            file_path = os.path.join(directory, filename)\n",
    "            # print(f\"Processing file: {file_path}\")\n",
    "\n",
    "            with open(file_path, \"r\", encoding=\"utf-8\") as file:\n",
    "                content = file.read()\n",
    "\n",
    "                # Use regex to find all documents within the <doc>...</doc> tags\n",
    "                docs = re.findall(\n",
    "                    r'<doc id=\"(.*?)\" url=\"(.*?)\" title=\"(.*?)\">(.*?)</doc>',\n",
    "                    content,\n",
    "                    re.DOTALL,\n",
    "                )\n",
    "\n",
    "                # Process each document found\n",
    "                for doc_id, url, title, doc_content in docs:\n",
    "                    # Loop through the relevant categories in 'nodup' to reduce repetitive code\n",
    "                    for category in categories:\n",
    "                        # Check if the title matches the category terms in 'nodup'\n",
    "                        if title.casefold() in nodup[category]:\n",
    "                            # Create a dictionary with the document data\n",
    "                            document_data = {\n",
    "                                \"title\": title,\n",
    "                                \"id\": doc_id,\n",
    "                                \"url\": url,\n",
    "                                \"content\": doc_content,\n",
    "                            }\n",
    "\n",
    "                            # Append the document data to the corresponding category in 'data_entity_voc'\n",
    "                            data_entity_voc[category].append(document_data)\n",
    "\n",
    "    return data_entity_voc"
   ]
  },
  {
   "cell_type": "code",
   "execution_count": 48,
   "metadata": {},
   "outputs": [
    {
     "name": "stderr",
     "output_type": "stream",
     "text": [
      "Processing files: 100%|██████████| 66/66 [00:55<00:00,  1.18it/s]\n"
     ]
    }
   ],
   "source": [
    "#\n",
    "dataset_directory = \"data/wikipedia-fi-2017-src\"  # Path to the extracted dataset\n",
    "documents_extended = load_wikipedia_dataset_extended(dataset_directory)"
   ]
  },
  {
   "cell_type": "code",
   "execution_count": 49,
   "metadata": {},
   "outputs": [],
   "source": [
    "def list_extended_words(documents_extended):\n",
    "    all_words_extended = {}\n",
    "\n",
    "    for title, documents in documents_extended.items():\n",
    "        for doc in documents:\n",
    "            sentences = re.findall(\n",
    "                r\"<sentence>(.*?)</sentence>\", doc[\"content\"], re.DOTALL\n",
    "            )\n",
    "            document_words = []\n",
    "            if sentences:\n",
    "                for idx, sentence_content in enumerate(sentences):\n",
    "                    # print(f\"Processing sentence {idx + 1}...\")\n",
    "\n",
    "                    # Split each sentence into individual lines\n",
    "                    lines = sentence_content.strip().split(\"\\n\")\n",
    "\n",
    "                    # cleaned_lines = re.sub(r'[^\\w\\s]', '', lines)\n",
    "                    # Extract the word (3nd column) from each line\n",
    "                    words = [line.split(\"\\t\")[2] for line in lines if line.strip()]\n",
    "                    for word in words:\n",
    "                        cleaned_word = re.sub(r\"[^\\w\\s]\", \"\", word)\n",
    "                        if not cleaned_word or cleaned_word in finnish_stopwords:\n",
    "                            continue\n",
    "                        document_words.append(cleaned_word.casefold())\n",
    "\n",
    "            if title in all_words_extended:\n",
    "                all_words_extended[title].extend(document_words)\n",
    "            else:\n",
    "                # If the title doesn't exist, initialize it with the document_words list\n",
    "                all_words_extended[title] = document_words\n",
    "\n",
    "    return all_words_extended"
   ]
  },
  {
   "cell_type": "code",
   "execution_count": 50,
   "metadata": {},
   "outputs": [],
   "source": [
    "words_extended = list_extended_words(documents_extended)\n",
    "\n",
    "words_extended_all = (\n",
    "    {}\n",
    ")  # extended words for all documents \"ilmastonmuutos\", \"päästö\", \"joustavuus\", \"ekologinen kestävyys\"\n",
    "\n",
    "categories = [\"ilmastonmuutos\", \"päästö\", \"joustavuus\", \"ekologinen kestävyys\"]\n",
    "words_extended_all = {category: [] for category in categories}\n",
    "\n",
    "for title, words in all_words.items():\n",
    "    words_extended_all[title] = all_words[title] + words_extended[title]"
   ]
  },
  {
   "cell_type": "code",
   "execution_count": 51,
   "metadata": {},
   "outputs": [],
   "source": [
    "# Preprocessing function to remove stopwords, stemming\n",
    "def preProcess_extended_words(words, stopwords):\n",
    "    clean_stopwords = [word.casefold() for word in stopwords]\n",
    "    stemmer = SnowballStemmer(\"finnish\")\n",
    "\n",
    "    words = [stemmer.stem(word) for word in words]\n",
    "\n",
    "    words = [word for word in words if word.isalpha() and word not in clean_stopwords]\n",
    "\n",
    "    words = list(set(words))\n",
    "\n",
    "    return \" \".join(words)\n",
    "\n",
    "\n",
    "# Compute similiarity for the extended words\n",
    "\n",
    "\n",
    "def compute_similarity(vocab1, vocab2):\n",
    "    # Join vocabularies into a single string for each concept\n",
    "    text1 = \" \".join(vocab1)\n",
    "    text2 = \" \".join(vocab2)\n",
    "\n",
    "    # Use TfidfVectorizer to create a matrix of the text\n",
    "    tf = TfidfVectorizer(use_idf=True, min_df=1)\n",
    "    tfidf_matrix = tf.fit_transform([text1, text2])\n",
    "\n",
    "    # Compute cosine similarit\n",
    "    cosine_sim = cosine_similarity(tfidf_matrix[0:1], tfidf_matrix[1:2])[0][0]\n",
    "\n",
    "    return cosine_sim"
   ]
  },
  {
   "cell_type": "code",
   "execution_count": 52,
   "metadata": {},
   "outputs": [],
   "source": [
    "# Preprocess the extended words + original words and extended words\n",
    "\n",
    "words_extended_preproces = {}\n",
    "words_extended_all_preproces = {}\n",
    "\n",
    "categories = [\"ilmastonmuutos\", \"päästö\", \"joustavuus\", \"ekologinen kestävyys\"]\n",
    "words_extended_preproces = {category: [] for category in categories}\n",
    "words_extended_all_preproces = {category: [] for category in categories}\n",
    "\n",
    "for document, words in words_extended.items():\n",
    "    processed_doc_ext = preProcess_entites(words, finnish_stopwords)\n",
    "    words_extended_preproces[document].append(processed_doc_ext)\n",
    "\n",
    "for document, words in words_extended_all.items():\n",
    "    processed_doc_ext_all = preProcess_entites(words, finnish_stopwords)\n",
    "    words_extended_all_preproces[document].append(processed_doc_ext_all)"
   ]
  },
  {
   "cell_type": "code",
   "execution_count": 53,
   "metadata": {},
   "outputs": [
    {
     "name": "stdout",
     "output_type": "stream",
     "text": [
      "Similarity between the extended vocabulary of 'ilmastonmuutos' and the original vocabulary: 0.999999999999558\n",
      "Similarity between the extended vocabulary of 'päästö' and the original vocabulary: 0.9999999999999338\n",
      "Similarity between the extended vocabulary of 'joustavuus' and the original vocabulary: 1.0000000000001876\n",
      "Similarity between the extended vocabulary of 'ekologinen kestävyys' and the original vocabulary: 0.9957818568242269\n"
     ]
    }
   ],
   "source": [
    "# Compute similarity for the extended words + original words and extended words\n",
    "\n",
    "similarities = {}\n",
    "for title in categories:\n",
    "    similarities[title] = compute_similarity(\n",
    "        words_extended_preproces[title], words_extended_all_preproces[title]\n",
    "    )\n",
    "\n",
    "for title, similarity in similarities.items():\n",
    "    print(\n",
    "        f\"Similarity between the extended vocabulary of '{title}' and the original vocabulary: {similarity}\"\n",
    "    )"
   ]
  },
  {
   "cell_type": "markdown",
   "metadata": {},
   "source": [
    "### Task 5\n",
    "\n",
    "We want to assess the importance of each of the four concepts by the number of clickable entities including in the webpage of the given concept. Write a script that implements this strategy to determine the importance of each concept. Next, we want to use the extended vocabulary by quantifying the importance of individual entity in the original webpage by the number of clickable links it generates. Summarize a table highlighting the order of importance of the four concepts according to each of the original and extended vocabulary.\n"
   ]
  },
  {
   "cell_type": "code",
   "execution_count": 54,
   "metadata": {},
   "outputs": [
    {
     "name": "stdout",
     "output_type": "stream",
     "text": [
      "Document 'joustavuus' contains entities:\n",
      "{'joustavuus': 14, 'yritys': 11, 'asema': 5, 'työntekijä': 5, 'jousto': 3, 'ominaisuus': 2, 'muutos': 2, 'ennakointi': 2, 'mahdollisuus': 2, 'malli': 2, 'työ': 2, 'anna': 1, 'käsite': 1, 'varjo': 1, 'laji': 1, 'tuote': 1, 'toimiala': 1, 'tarve': 1, 'voima': 1, 'strategia': 1, 'ilmiö': 1, 'havainto': 1, 'pohja': 1, 'atkinson': 1, 'ydin': 1, 'johtaja': 1, 'projekti': 1, 'vaara': 1, 'vuokratyövoima': 1, 'työttömyysvakuutus': 1, 'piiri': 1, 'määrä': 1, 'idea': 1, '2015': 1, 'suomi': 1, 'ns': 1}\n",
      "Document 'ilmastonmuutos' contains entities:\n",
      "{'ilmasto': 26, 'ilmakehä': 19, 'muutos': 12, 'miljoona': 10, 'ihminen': 7, 'hiilidioksidi': 7, 'toiminta': 6, 'prosessi': 5, 'päästö': 5, 'polttoaine': 5, 'kasvihuonekaasu': 5, 'maa': 4, 'osa': 4, 'ilmastomalli': 4, 'takaisinkytkentä': 4, 'artikkeli': 3, 'tekijä': 3, 'liike': 3, 'aurinko': 3, 'aktiivisuus': 3, 'määrä': 3, 'jäätikkö': 3, 'muoto': 3, 'metaani': 3, 'suo': 3, 'sadanta': 2, 'lämpötila': 2, 'meri': 2, 'rata': 2, 'mannerlaatta': 2, 'sää': 2, 'valo': 2, 'keskilämpötila': 2, 'tila': 2, 'merivirta': 2, 'tulivuorenpurkaus': 2, 'vuosisata': 2, 'kasvihuoneilmiö': 2, 'kalkkikivi': 2, 'siperia': 2, 'laji': 2, 'toimi': 2, 'kivihiili': 2, 'hiili': 2, 'kosteikko': 2, 'vuorovaikutus': 2, 'yleiskieli': 1, 'käsite': 1, 'ilmastonmuutos': 1, 'tapahtuma': 1, 'reaktio': 1, 'kiertorata': 1, 'akseli': 1, 'no': 1, 'co': 1, 'epälineaarinen': 1, 'havainto': 1, 'päivä': 1, 'suure': 1, 'ympäristö': 1, 'lämpökapasiteetti': 1, 'energia': 1, 'merkitys': 1, 'vuori': 1, 'säteilypakote': 1, 'suhde': 1, 'aurinkokunta': 1, 'dynamiikka': 1, 'jakso': 1, 'väli': 1, 'neliökilometri': 1, 'tutka': 1, 'suunta': 1, 'palaa': 1, 'historia': 1, 'biodiversiteetti': 1, 'nykyaika': 1, 'maailmanhistoria': 1, 'tutkija': 1, 'celsiusaste': 1, '0': 1, 'c': 1, 'voimakkuus': 1, 'aisa': 1, 'teollisuusmaa': 1, 'pudota': 1, 'kehitysmaa': 1, 'tekniikka': 1, 'troposfääri': 1, 'aerosoli': 1, 'pilvisyys': 1, 'kaasu': 1, 'elinkaari': 1, 'syy': 1, 'metsä': 1, 'pelto': 1, 'maatalous': 1, 'nitraatti': 1, '000': 1, 'ppm': 1, 'kivihiilikausi': 1, 'öljy': 1, 'maakaasu': 1, 'eteenpäin': 1, 'arvo': 1, 'v': 1, '2004': 1, 'ilma': 1, 'tutkimus': 1, 'maaperä': 1, 'merkki': 1, 'pohjoinen': 1, 'alaska': 1, 'suomi': 1, 'lappi': 1, 'tulevaisuus': 1, 'säteily': 1, 'merivesi': 1, 'ikirouta': 1, 'vesi': 1, 'merenpohja': 1, 'raportti': 1, 'palo': 1, 'hiki': 1, 'pohja': 1, 'todistusaineisto': 1, 'puu': 1, 'jääkairausnäyte': 1, 'tieto': 1, 'järvi': 1, 'siitepöly': 1, 'tarkoitus': 1}\n",
      "Document 'päästö' contains entities:\n",
      "{'päästö': 5, 'emissio': 1, 'aine': 1, 'energia': 1, 'melu': 1, 'säteily': 1, 'valo': 1, 'ilma': 1, 'vesi': 1, 'maaperä': 1, 'konsertti': 1, 'ympäristö': 1, 'käsite': 1, 'terveyshaitta': 1}\n",
      "Document 'ekologinen kestävyys' contains entities:\n",
      "{'kestävyys': 2, 'luonto': 2, 'toiminta': 2, 'näkökulma': 1, 'monimuotoisuus': 1, 'ekosysteemi': 1, 'ihminen': 1}\n"
     ]
    }
   ],
   "source": [
    "# calculate the occurance of each entity in the entities_found\n",
    "entity_occurence = {}\n",
    "for topic, found_entities in entities_found.items():\n",
    "    entity_occurence[topic] = {}\n",
    "    for entity in found_entities:\n",
    "        if entity in entity_occurence[topic]:\n",
    "            entity_occurence[topic][entity] += 1\n",
    "        else:\n",
    "            entity_occurence[topic][entity] = 1\n",
    "\n",
    "# order the entities by occurance\n",
    "sorted_entities = {}\n",
    "for topic, entities in entity_occurence.items():\n",
    "    sorted_entities[topic] = {\n",
    "        k: v\n",
    "        for k, v in sorted(entities.items(), key=lambda item: item[1], reverse=True)\n",
    "    }\n",
    "\n",
    "## print the sorted entities for each topic\n",
    "for topic, entities in sorted_entities.items():\n",
    "    print(f\"Document '{topic}' contains entities:\")\n",
    "    print(entities)"
   ]
  },
  {
   "cell_type": "code",
   "execution_count": 55,
   "metadata": {},
   "outputs": [
    {
     "name": "stdout",
     "output_type": "stream",
     "text": [
      "                Concept  Original Importance  Extended Importance\n",
      "1        ilmastonmuutos                 1016                16231\n",
      "0            joustavuus                  241               122660\n",
      "2                päästö                   91                47921\n",
      "3  ekologinen kestävyys                   64                13249\n"
     ]
    }
   ],
   "source": [
    "## words_extended_all contains the extended vocabulary for each document\n",
    "## entities_found contains the entities found in each document\n",
    "\n",
    "\n",
    "def count_clickable_links(entities):\n",
    "    return {entity: len(entity) for entity in entities}\n",
    "\n",
    "\n",
    "# Count clickable links for original and extended vocabulary\n",
    "original_counts = {\n",
    "    concept: count_clickable_links(entities)\n",
    "    for concept, entities in entities_found.items()\n",
    "}\n",
    "extended_counts = {\n",
    "    concept: count_clickable_links(entities)\n",
    "    for concept, entities in words_extended_all.items()\n",
    "}\n",
    "\n",
    "# Summarize importance\n",
    "original_importance = {\n",
    "    concept: sum(counts.values()) for concept, counts in original_counts.items()\n",
    "}\n",
    "extended_importance = {\n",
    "    concept: sum(counts.values()) for concept, counts in extended_counts.items()\n",
    "}\n",
    "\n",
    "# Create a DataFrame to summarize the importance\n",
    "importance_df = pd.DataFrame(\n",
    "    {\n",
    "        \"Concept\": list(original_importance.keys()),\n",
    "        \"Original Importance\": list(original_importance.values()),\n",
    "        \"Extended Importance\": list(extended_importance.values()),\n",
    "    }\n",
    ")\n",
    "\n",
    "# Sort the DataFrame by importance\n",
    "importance_df = importance_df.sort_values(\n",
    "    by=[\"Original Importance\", \"Extended Importance\"], ascending=False\n",
    ")\n",
    "\n",
    "# Display the table\n",
    "print(importance_df)"
   ]
  },
  {
   "cell_type": "code",
   "execution_count": null,
   "metadata": {},
   "outputs": [],
   "source": []
  },
  {
   "cell_type": "markdown",
   "metadata": {},
   "source": [
    "### Task 6\n",
    "\n",
    "We want to assess the similarity between the concepts is reflected in the their webpage content. Use a script to calculate Wu and Palmer WordNet semantic similarity between each pair of the four concepts and then compare result with the Jaccard similarity obtained by both original vocabulary in 2) and extended vocabulary 4), and comment on the compatibility between the semantic similarity and the above constructed Jaccard similarity measures\n"
   ]
  },
  {
   "cell_type": "code",
   "execution_count": 56,
   "metadata": {},
   "outputs": [
    {
     "name": "stderr",
     "output_type": "stream",
     "text": [
      "C:\\Users\\janne\\AppData\\Local\\Temp\\ipykernel_248160\\2577086909.py:4: WnWarning: lexicon dependencies not available: omw-en:1.4\n",
      "  fi = wn.Wordnet(\"omw-fi\")\n"
     ]
    }
   ],
   "source": [
    "finnwordnet_path = \"data/FinnWordNet/dict\"\n",
    "# wn = WordNetCorpusReader(finnwordnet_path, None)\n",
    "\n",
    "fi = wn.Wordnet(\"omw-fi\")"
   ]
  },
  {
   "cell_type": "code",
   "execution_count": 57,
   "metadata": {},
   "outputs": [
    {
     "name": "stdout",
     "output_type": "stream",
     "text": [
      "\n",
      "Wu and Palmer WordNet Semantic Similarity:\n",
      "          Concept1  Concept2  Concept3  Concept4\n",
      "Concept1       1.0       0.0       0.5       0.5\n",
      "Concept2       0.0       1.0       0.0       0.0\n",
      "Concept3       0.5       0.0       1.0       0.5\n",
      "Concept4       0.5       0.0       0.5       1.0\n",
      "\n",
      "Jaccard Similarity (Original Vocabulary):\n",
      "          Concept1  Concept2  Concept3  Concept4\n",
      "Concept1  1.000000  0.018182  0.016854  0.034247\n",
      "Concept2  0.018182  1.000000  0.006250  0.011682\n",
      "Concept3  0.016854  0.006250  1.000000  0.050847\n",
      "Concept4  0.034247  0.011682  0.050847  1.000000\n",
      "\n",
      "Jaccard Similarity (Extended Vocabulary):\n",
      "          Concept1  Concept2  Concept3  Concept4\n",
      "Concept1  1.000000  0.164775  0.129126  0.126862\n",
      "Concept2  0.164775  1.000000  0.119208  0.113017\n",
      "Concept3  0.129126  0.119208  1.000000  0.311455\n",
      "Concept4  0.126862  0.113017  0.311455  1.000000\n",
      "\n",
      "Comments on Compatibility Between Semantic and Jaccard Similarities:\n",
      "\n",
      "Comparison between Concept1 and Concept2:\n",
      "Wu and Palmer Semantic Similarity: 0.00\n",
      "Jaccard Similarity (Original Vocabulary): 0.02\n",
      "Jaccard Similarity (Extended Vocabulary): 0.16\n",
      "Low semantic similarity indicates less compatibility with Jaccard similarity.\n",
      "\n",
      "Comparison between Concept1 and Concept3:\n",
      "Wu and Palmer Semantic Similarity: 0.50\n",
      "Jaccard Similarity (Original Vocabulary): 0.02\n",
      "Jaccard Similarity (Extended Vocabulary): 0.13\n",
      "Low semantic similarity indicates less compatibility with Jaccard similarity.\n",
      "\n",
      "Comparison between Concept1 and Concept4:\n",
      "Wu and Palmer Semantic Similarity: 0.50\n",
      "Jaccard Similarity (Original Vocabulary): 0.03\n",
      "Jaccard Similarity (Extended Vocabulary): 0.13\n",
      "Low semantic similarity indicates less compatibility with Jaccard similarity.\n",
      "\n",
      "Comparison between Concept2 and Concept3:\n",
      "Wu and Palmer Semantic Similarity: 0.00\n",
      "Jaccard Similarity (Original Vocabulary): 0.01\n",
      "Jaccard Similarity (Extended Vocabulary): 0.12\n",
      "Low semantic similarity indicates less compatibility with Jaccard similarity.\n",
      "\n",
      "Comparison between Concept2 and Concept4:\n",
      "Wu and Palmer Semantic Similarity: 0.00\n",
      "Jaccard Similarity (Original Vocabulary): 0.01\n",
      "Jaccard Similarity (Extended Vocabulary): 0.11\n",
      "Low semantic similarity indicates less compatibility with Jaccard similarity.\n",
      "\n",
      "Comparison between Concept3 and Concept4:\n",
      "Wu and Palmer Semantic Similarity: 0.50\n",
      "Jaccard Similarity (Original Vocabulary): 0.05\n",
      "Jaccard Similarity (Extended Vocabulary): 0.31\n",
      "Low semantic similarity indicates less compatibility with Jaccard similarity.\n"
     ]
    }
   ],
   "source": [
    "# Wu and Palmer WordNet Semantic Similarity Calculation\n",
    "terms_list = list(terms)\n",
    "wu_palmer_similarity = []\n",
    "for i in range(len(terms_list)):\n",
    "    row = []\n",
    "    for j in range(len(terms_list)):\n",
    "        if i == j:\n",
    "            row.append(1.0)\n",
    "        else:\n",
    "            synsets_1 = fi.synsets(terms_list[i])\n",
    "            synsets_2 = fi.synsets(terms_list[j])\n",
    "            max_similarity = 0\n",
    "            for syn1 in synsets_1:\n",
    "                for syn2 in synsets_2:\n",
    "                    similarity = wup(syn1, syn2, simulate_root=True)\n",
    "                    if similarity and similarity > max_similarity:\n",
    "                        max_similarity = similarity\n",
    "            row.append(max_similarity if max_similarity else 0)\n",
    "    wu_palmer_similarity.append(row)\n",
    "\n",
    "# Provide the result in a table\n",
    "wu_palmer_sim_df = pd.DataFrame(\n",
    "    wu_palmer_similarity,\n",
    "    index=[f\"Concept{i+1}\" for i in range(len(terms_list))],\n",
    "    columns=[f\"Concept{i+1}\" for i in range(len(terms_list))],\n",
    ")\n",
    "\n",
    "print(\"\\nWu and Palmer WordNet Semantic Similarity:\")\n",
    "print(wu_palmer_sim_df)\n",
    "\n",
    "\n",
    "# Jaccard Similarity Calculation for Original and Extended Vocabulary\n",
    "def jaccard_similarity(set1, set2):\n",
    "    intersection = len(set(set1).intersection(set(set2)))\n",
    "    union = len(set(set1).union(set(set2)))\n",
    "    return intersection / union if union != 0 else 0\n",
    "\n",
    "\n",
    "# Calculate Jaccard Similarity for Original and Extended Vocabularies\n",
    "jaccard_original = []\n",
    "jaccard_extended = []\n",
    "for i in range(len(terms_list)):\n",
    "    row_original = []\n",
    "    row_extended = []\n",
    "    for j in range(len(terms_list)):\n",
    "        if i == j:\n",
    "            row_original.append(1.0)\n",
    "            row_extended.append(1.0)\n",
    "        else:\n",
    "            row_original.append(\n",
    "                jaccard_similarity(all_words[terms_list[i]], all_words[terms_list[j]])\n",
    "            )\n",
    "            row_extended.append(\n",
    "                jaccard_similarity(\n",
    "                    words_extended_all[terms_list[i]], words_extended_all[terms_list[j]]\n",
    "                )\n",
    "            )\n",
    "    jaccard_original.append(row_original)\n",
    "    jaccard_extended.append(row_extended)\n",
    "\n",
    "# Provide the results in tables\n",
    "jaccard_original_df = pd.DataFrame(\n",
    "    jaccard_original,\n",
    "    index=[f\"Concept{i+1}\" for i in range(len(terms_list))],\n",
    "    columns=[f\"Concept{i+1}\" for i in range(len(terms_list))],\n",
    ")\n",
    "\n",
    "jaccard_extended_df = pd.DataFrame(\n",
    "    jaccard_extended,\n",
    "    index=[f\"Concept{i+1}\" for i in range(len(terms_list))],\n",
    "    columns=[f\"Concept{i+1}\" for i in range(len(terms_list))],\n",
    ")\n",
    "\n",
    "print(\"\\nJaccard Similarity (Original Vocabulary):\")\n",
    "print(jaccard_original_df)\n",
    "print(\"\\nJaccard Similarity (Extended Vocabulary):\")\n",
    "print(jaccard_extended_df)\n",
    "\n",
    "# Comment on Compatibility Between Similarity Measures\n",
    "print(\"\\nComments on Compatibility Between Semantic and Jaccard Similarities:\")\n",
    "for i in range(len(terms_list)):\n",
    "    for j in range(i + 1, len(terms_list)):\n",
    "        print(f\"\\nComparison between Concept{i+1} and Concept{j+1}:\")\n",
    "        print(f\"Wu and Palmer Semantic Similarity: {wu_palmer_sim_df.iloc[i, j]:.2f}\")\n",
    "        print(\n",
    "            f\"Jaccard Similarity (Original Vocabulary): {jaccard_original_df.iloc[i, j]:.2f}\"\n",
    "        )\n",
    "        print(\n",
    "            f\"Jaccard Similarity (Extended Vocabulary): {jaccard_extended_df.iloc[i, j]:.2f}\"\n",
    "        )\n",
    "        if wu_palmer_sim_df.iloc[i, j] > 0.5:\n",
    "            print(\n",
    "                \"High semantic similarity is generally compatible with high Jaccard similarity.\"\n",
    "            )\n",
    "        else:\n",
    "            print(\n",
    "                \"Low semantic similarity indicates less compatibility with Jaccard similarity.\"\n",
    "            )"
   ]
  },
  {
   "cell_type": "code",
   "execution_count": null,
   "metadata": {},
   "outputs": [],
   "source": []
  },
  {
   "cell_type": "markdown",
   "metadata": {},
   "source": [
    "### Task 7\n",
    "\n",
    "Now we want to evaluate the emotion of the text in each dataframe. For this purpose, use WordnetAffect (https://github.com/clemtoy/WNAffect), which generates an emotion state and the part of speech tag of each word matched in the lexicon, and then compile the overall output for each concept. Repeat this process for both restricted and extended vocabulary cases, and comment on the compatibility between the emotion gained from the corresponding Wikipedia page and the intuitive emotion from individual concept.\n"
   ]
  },
  {
   "cell_type": "code",
   "execution_count": 308,
   "metadata": {},
   "outputs": [],
   "source": [
    "\n",
    "# Initialize Google Translator\n",
    "translator = Translator()\n",
    "\n",
    "#Emotional Damage          Analysis Using WordNetAffect\n",
    "wna = WNAffect(wordnet16_path, wordnet_affect_path)\n"
   ]
  },
  {
   "cell_type": "code",
   "execution_count": 309,
   "metadata": {},
   "outputs": [
    {
     "ename": "AttributeError",
     "evalue": "'NoneType' object has no attribute 'group'",
     "output_type": "error",
     "traceback": [
      "\u001b[1;31m---------------------------------------------------------------------------\u001b[0m",
      "\u001b[1;31mAttributeError\u001b[0m                            Traceback (most recent call last)",
      "Cell \u001b[1;32mIn[309], line 20\u001b[0m\n\u001b[0;32m     18\u001b[0m emotion_results_extended \u001b[38;5;241m=\u001b[39m {}\n\u001b[0;32m     19\u001b[0m \u001b[38;5;28;01mfor\u001b[39;00m term, vocab \u001b[38;5;129;01min\u001b[39;00m all_words\u001b[38;5;241m.\u001b[39mitems():\n\u001b[1;32m---> 20\u001b[0m     emotion_results_original[term] \u001b[38;5;241m=\u001b[39m \u001b[43manalyze_emotions\u001b[49m\u001b[43m(\u001b[49m\u001b[38;5;124;43m\"\u001b[39;49m\u001b[38;5;124;43m \u001b[39;49m\u001b[38;5;124;43m\"\u001b[39;49m\u001b[38;5;241;43m.\u001b[39;49m\u001b[43mjoin\u001b[49m\u001b[43m(\u001b[49m\u001b[43mvocab\u001b[49m\u001b[43m)\u001b[49m\u001b[43m)\u001b[49m\n\u001b[0;32m     21\u001b[0m \u001b[38;5;28;01mfor\u001b[39;00m term, vocab \u001b[38;5;129;01min\u001b[39;00m words_extended_all\u001b[38;5;241m.\u001b[39mitems():\n\u001b[0;32m     22\u001b[0m     emotion_results_extended[term] \u001b[38;5;241m=\u001b[39m analyze_emotions(\u001b[38;5;124m\"\u001b[39m\u001b[38;5;124m \u001b[39m\u001b[38;5;124m\"\u001b[39m\u001b[38;5;241m.\u001b[39mjoin(vocab))\n",
      "Cell \u001b[1;32mIn[309], line 7\u001b[0m, in \u001b[0;36manalyze_emotions\u001b[1;34m(text)\u001b[0m\n\u001b[0;32m      4\u001b[0m emotion_count \u001b[38;5;241m=\u001b[39m defaultdict(\u001b[38;5;28mint\u001b[39m)\n\u001b[0;32m      5\u001b[0m \u001b[38;5;28;01mfor\u001b[39;00m word \u001b[38;5;129;01min\u001b[39;00m words:\n\u001b[0;32m      6\u001b[0m     \u001b[38;5;66;03m# Translate the Finnish word to English\u001b[39;00m\n\u001b[1;32m----> 7\u001b[0m     translated_word \u001b[38;5;241m=\u001b[39m \u001b[43mtranslator\u001b[49m\u001b[38;5;241;43m.\u001b[39;49m\u001b[43mtranslate\u001b[49m\u001b[43m(\u001b[49m\u001b[43mword\u001b[49m\u001b[43m,\u001b[49m\u001b[43m \u001b[49m\u001b[43msrc\u001b[49m\u001b[38;5;241;43m=\u001b[39;49m\u001b[38;5;124;43m\"\u001b[39;49m\u001b[38;5;124;43mfi\u001b[39;49m\u001b[38;5;124;43m\"\u001b[39;49m\u001b[43m,\u001b[49m\u001b[43m \u001b[49m\u001b[43mdest\u001b[49m\u001b[38;5;241;43m=\u001b[39;49m\u001b[38;5;124;43m\"\u001b[39;49m\u001b[38;5;124;43men\u001b[39;49m\u001b[38;5;124;43m\"\u001b[39;49m\u001b[43m)\u001b[49m\u001b[38;5;241m.\u001b[39mtext\n\u001b[0;32m      8\u001b[0m     synsets \u001b[38;5;241m=\u001b[39m wn\u001b[38;5;241m.\u001b[39msynsets(translated_word)\n\u001b[0;32m      9\u001b[0m     \u001b[38;5;28;01mfor\u001b[39;00m syn \u001b[38;5;129;01min\u001b[39;00m synsets:\n",
      "File \u001b[1;32mc:\\Users\\janne\\Documents\\GitHub\\NLP-Course-Project\\venv\\Lib\\site-packages\\googletrans\\client.py:182\u001b[0m, in \u001b[0;36mTranslator.translate\u001b[1;34m(self, text, dest, src, **kwargs)\u001b[0m\n\u001b[0;32m    179\u001b[0m     \u001b[38;5;28;01mreturn\u001b[39;00m result\n\u001b[0;32m    181\u001b[0m origin \u001b[38;5;241m=\u001b[39m text\n\u001b[1;32m--> 182\u001b[0m data \u001b[38;5;241m=\u001b[39m \u001b[38;5;28;43mself\u001b[39;49m\u001b[38;5;241;43m.\u001b[39;49m\u001b[43m_translate\u001b[49m\u001b[43m(\u001b[49m\u001b[43mtext\u001b[49m\u001b[43m,\u001b[49m\u001b[43m \u001b[49m\u001b[43mdest\u001b[49m\u001b[43m,\u001b[49m\u001b[43m \u001b[49m\u001b[43msrc\u001b[49m\u001b[43m,\u001b[49m\u001b[43m \u001b[49m\u001b[43mkwargs\u001b[49m\u001b[43m)\u001b[49m\n\u001b[0;32m    184\u001b[0m \u001b[38;5;66;03m# this code will be updated when the format is changed.\u001b[39;00m\n\u001b[0;32m    185\u001b[0m translated \u001b[38;5;241m=\u001b[39m \u001b[38;5;124m'\u001b[39m\u001b[38;5;124m'\u001b[39m\u001b[38;5;241m.\u001b[39mjoin([d[\u001b[38;5;241m0\u001b[39m] \u001b[38;5;28;01mif\u001b[39;00m d[\u001b[38;5;241m0\u001b[39m] \u001b[38;5;28;01melse\u001b[39;00m \u001b[38;5;124m'\u001b[39m\u001b[38;5;124m'\u001b[39m \u001b[38;5;28;01mfor\u001b[39;00m d \u001b[38;5;129;01min\u001b[39;00m data[\u001b[38;5;241m0\u001b[39m]])\n",
      "File \u001b[1;32mc:\\Users\\janne\\Documents\\GitHub\\NLP-Course-Project\\venv\\Lib\\site-packages\\googletrans\\client.py:78\u001b[0m, in \u001b[0;36mTranslator._translate\u001b[1;34m(self, text, dest, src, override)\u001b[0m\n\u001b[0;32m     77\u001b[0m \u001b[38;5;28;01mdef\u001b[39;00m \u001b[38;5;21m_translate\u001b[39m(\u001b[38;5;28mself\u001b[39m, text, dest, src, override):\n\u001b[1;32m---> 78\u001b[0m     token \u001b[38;5;241m=\u001b[39m \u001b[38;5;28;43mself\u001b[39;49m\u001b[38;5;241;43m.\u001b[39;49m\u001b[43mtoken_acquirer\u001b[49m\u001b[38;5;241;43m.\u001b[39;49m\u001b[43mdo\u001b[49m\u001b[43m(\u001b[49m\u001b[43mtext\u001b[49m\u001b[43m)\u001b[49m\n\u001b[0;32m     79\u001b[0m     params \u001b[38;5;241m=\u001b[39m utils\u001b[38;5;241m.\u001b[39mbuild_params(query\u001b[38;5;241m=\u001b[39mtext, src\u001b[38;5;241m=\u001b[39msrc, dest\u001b[38;5;241m=\u001b[39mdest,\n\u001b[0;32m     80\u001b[0m                                 token\u001b[38;5;241m=\u001b[39mtoken, override\u001b[38;5;241m=\u001b[39moverride)\n\u001b[0;32m     82\u001b[0m     url \u001b[38;5;241m=\u001b[39m urls\u001b[38;5;241m.\u001b[39mTRANSLATE\u001b[38;5;241m.\u001b[39mformat(host\u001b[38;5;241m=\u001b[39m\u001b[38;5;28mself\u001b[39m\u001b[38;5;241m.\u001b[39m_pick_service_url())\n",
      "File \u001b[1;32mc:\\Users\\janne\\Documents\\GitHub\\NLP-Course-Project\\venv\\Lib\\site-packages\\googletrans\\gtoken.py:194\u001b[0m, in \u001b[0;36mTokenAcquirer.do\u001b[1;34m(self, text)\u001b[0m\n\u001b[0;32m    193\u001b[0m \u001b[38;5;28;01mdef\u001b[39;00m \u001b[38;5;21mdo\u001b[39m(\u001b[38;5;28mself\u001b[39m, text):\n\u001b[1;32m--> 194\u001b[0m     \u001b[38;5;28;43mself\u001b[39;49m\u001b[38;5;241;43m.\u001b[39;49m\u001b[43m_update\u001b[49m\u001b[43m(\u001b[49m\u001b[43m)\u001b[49m\n\u001b[0;32m    195\u001b[0m     tk \u001b[38;5;241m=\u001b[39m \u001b[38;5;28mself\u001b[39m\u001b[38;5;241m.\u001b[39macquire(text)\n\u001b[0;32m    196\u001b[0m     \u001b[38;5;28;01mreturn\u001b[39;00m tk\n",
      "File \u001b[1;32mc:\\Users\\janne\\Documents\\GitHub\\NLP-Course-Project\\venv\\Lib\\site-packages\\googletrans\\gtoken.py:62\u001b[0m, in \u001b[0;36mTokenAcquirer._update\u001b[1;34m(self)\u001b[0m\n\u001b[0;32m     59\u001b[0m     \u001b[38;5;28;01mreturn\u001b[39;00m\n\u001b[0;32m     61\u001b[0m \u001b[38;5;66;03m# this will be the same as python code after stripping out a reserved word 'var'\u001b[39;00m\n\u001b[1;32m---> 62\u001b[0m code \u001b[38;5;241m=\u001b[39m \u001b[38;5;28;43mself\u001b[39;49m\u001b[38;5;241;43m.\u001b[39;49m\u001b[43mRE_TKK\u001b[49m\u001b[38;5;241;43m.\u001b[39;49m\u001b[43msearch\u001b[49m\u001b[43m(\u001b[49m\u001b[43mr\u001b[49m\u001b[38;5;241;43m.\u001b[39;49m\u001b[43mtext\u001b[49m\u001b[43m)\u001b[49m\u001b[38;5;241;43m.\u001b[39;49m\u001b[43mgroup\u001b[49m(\u001b[38;5;241m1\u001b[39m)\u001b[38;5;241m.\u001b[39mreplace(\u001b[38;5;124m'\u001b[39m\u001b[38;5;124mvar \u001b[39m\u001b[38;5;124m'\u001b[39m, \u001b[38;5;124m'\u001b[39m\u001b[38;5;124m'\u001b[39m)\n\u001b[0;32m     63\u001b[0m \u001b[38;5;66;03m# unescape special ascii characters such like a \\x3d(=)\u001b[39;00m\n\u001b[0;32m     64\u001b[0m code \u001b[38;5;241m=\u001b[39m code\u001b[38;5;241m.\u001b[39mencode()\u001b[38;5;241m.\u001b[39mdecode(\u001b[38;5;124m'\u001b[39m\u001b[38;5;124municode-escape\u001b[39m\u001b[38;5;124m'\u001b[39m)\n",
      "\u001b[1;31mAttributeError\u001b[0m: 'NoneType' object has no attribute 'group'"
     ]
    }
   ],
   "source": [
    "# Function to analyze emotions of text using WordNetAffect\n",
    "def analyze_emotions(text):\n",
    "    words = text.split()\n",
    "    emotion_count = defaultdict(int)\n",
    "    for word in words:\n",
    "        # Translate the Finnish word to English\n",
    "        translated_word = translator.translate(word, src=\"fi\", dest=\"en\").text\n",
    "        synsets = wn.synsets(translated_word)\n",
    "        for syn in synsets:\n",
    "            emotion = wna.get_emotion(syn)\n",
    "            if emotion:\n",
    "                emotion_count[emotion] += 1\n",
    "    return emotion_count\n",
    "\n",
    "\n",
    "# Analyze emotions for original and extended vocabulary\n",
    "emotion_results_original = {}\n",
    "emotion_results_extended = {}\n",
    "for term, vocab in all_words.items():\n",
    "    emotion_results_original[term] = analyze_emotions(\" \".join(vocab))\n",
    "for term, vocab in words_extended_all.items():\n",
    "    emotion_results_extended[term] = analyze_emotions(\" \".join(vocab))\n",
    "\n",
    "# Print emotion analysis results\n",
    "print(\"\\nEmotion Analysis (Original Vocabulary):\")\n",
    "for term, emotions in emotion_results_original.items():\n",
    "    print(f\"{term}: {dict(emotions)}\")\n",
    "\n",
    "print(\"\\nEmotion Analysis (Extended Vocabulary):\")\n",
    "for term, emotions in emotion_results_extended.items():\n",
    "    print(f\"{term}: {dict(emotions)}\")\n",
    "\n",
    "# Comment on Compatibility Between Emotion Analysis and Intuitive Emotion\n",
    "print(\"\\nComments on Compatibility Between Emotion Analysis and Intuitive Emotion:\")\n",
    "for term in terms_list:\n",
    "    print(f\"\\nConcept: {term}\")\n",
    "    print(f\"Emotion Analysis (Original Vocabulary): {emotion_results_original[term]}\")\n",
    "    print(f\"Emotion Analysis (Extended Vocabulary): {emotion_results_extended[term]}\")\n",
    "    # Add your own intuitive analysis based on the concept meaning\n",
    "    print(\n",
    "        \"The intuitive emotion for this concept aligns/does not align well with the emotion extracted from the Wikipedia page.\"\n",
    "    )"
   ]
  },
  {
   "cell_type": "markdown",
   "metadata": {},
   "source": [
    "### Task 8\n",
    "\n",
    "We want to repeat this process for sentiment polarity. For this purpose, use the Vader sentiment https://github.com/cjhutto/vaderSentiment to assess the sentiment of each the Wikipedia page associated to each concept (both with original vocabulary and extended vocabulary, by aggregating the sentiment of individual clickable entity’s page) to compute the sentiment associated with each concept. Comment on the sentiment of each concept in restricted and extended vocabulary and its compatibility with the intuitive sentiment gained from the inherent definition of these concepts.\n"
   ]
  },
  {
   "cell_type": "code",
   "execution_count": 253,
   "metadata": {},
   "outputs": [],
   "source": [
    "# Initialize Sentiment Analyzer\n",
    "analyzer = SentimentIntensityAnalyzer()"
   ]
  },
  {
   "cell_type": "code",
   "execution_count": 254,
   "metadata": {},
   "outputs": [
    {
     "ename": "AttributeError",
     "evalue": "'NoneType' object has no attribute 'group'",
     "output_type": "error",
     "traceback": [
      "\u001b[1;31m---------------------------------------------------------------------------\u001b[0m",
      "\u001b[1;31mAttributeError\u001b[0m                            Traceback (most recent call last)",
      "Cell \u001b[1;32mIn[254], line 12\u001b[0m\n\u001b[0;32m     10\u001b[0m sentiment_results_extended \u001b[38;5;241m=\u001b[39m {}\n\u001b[0;32m     11\u001b[0m \u001b[38;5;28;01mfor\u001b[39;00m term, vocab \u001b[38;5;129;01min\u001b[39;00m all_words\u001b[38;5;241m.\u001b[39mitems():\n\u001b[1;32m---> 12\u001b[0m     sentiment_results_original[term] \u001b[38;5;241m=\u001b[39m \u001b[43manalyze_sentiment\u001b[49m\u001b[43m(\u001b[49m\u001b[38;5;124;43m\"\u001b[39;49m\u001b[38;5;124;43m \u001b[39;49m\u001b[38;5;124;43m\"\u001b[39;49m\u001b[38;5;241;43m.\u001b[39;49m\u001b[43mjoin\u001b[49m\u001b[43m(\u001b[49m\u001b[43mvocab\u001b[49m\u001b[43m)\u001b[49m\u001b[43m)\u001b[49m\n\u001b[0;32m     13\u001b[0m \u001b[38;5;28;01mfor\u001b[39;00m term, vocab \u001b[38;5;129;01min\u001b[39;00m words_extended_all\u001b[38;5;241m.\u001b[39mitems():\n\u001b[0;32m     14\u001b[0m     sentiment_results_extended[term] \u001b[38;5;241m=\u001b[39m analyze_sentiment(\u001b[38;5;124m\"\u001b[39m\u001b[38;5;124m \u001b[39m\u001b[38;5;124m\"\u001b[39m\u001b[38;5;241m.\u001b[39mjoin(vocab))\n",
      "Cell \u001b[1;32mIn[254], line 4\u001b[0m, in \u001b[0;36manalyze_sentiment\u001b[1;34m(text)\u001b[0m\n\u001b[0;32m      3\u001b[0m \u001b[38;5;28;01mdef\u001b[39;00m \u001b[38;5;21manalyze_sentiment\u001b[39m(text):\n\u001b[1;32m----> 4\u001b[0m     translated_text \u001b[38;5;241m=\u001b[39m \u001b[43mtranslator\u001b[49m\u001b[38;5;241;43m.\u001b[39;49m\u001b[43mtranslate\u001b[49m\u001b[43m(\u001b[49m\u001b[43mtext\u001b[49m\u001b[43m,\u001b[49m\u001b[43m \u001b[49m\u001b[43msrc\u001b[49m\u001b[38;5;241;43m=\u001b[39;49m\u001b[38;5;124;43m'\u001b[39;49m\u001b[38;5;124;43mfi\u001b[39;49m\u001b[38;5;124;43m'\u001b[39;49m\u001b[43m,\u001b[49m\u001b[43m \u001b[49m\u001b[43mdest\u001b[49m\u001b[38;5;241;43m=\u001b[39;49m\u001b[38;5;124;43m'\u001b[39;49m\u001b[38;5;124;43men\u001b[39;49m\u001b[38;5;124;43m'\u001b[39;49m\u001b[43m)\u001b[49m\n\u001b[0;32m      5\u001b[0m     sentiment \u001b[38;5;241m=\u001b[39m analyzer\u001b[38;5;241m.\u001b[39mpolarity_scores(translated_text)\n\u001b[0;32m      6\u001b[0m     \u001b[38;5;28;01mreturn\u001b[39;00m sentiment\n",
      "File \u001b[1;32mc:\\Users\\janne\\Documents\\GitHub\\NLP-Course-Project\\venv\\Lib\\site-packages\\googletrans\\client.py:182\u001b[0m, in \u001b[0;36mTranslator.translate\u001b[1;34m(self, text, dest, src, **kwargs)\u001b[0m\n\u001b[0;32m    179\u001b[0m     \u001b[38;5;28;01mreturn\u001b[39;00m result\n\u001b[0;32m    181\u001b[0m origin \u001b[38;5;241m=\u001b[39m text\n\u001b[1;32m--> 182\u001b[0m data \u001b[38;5;241m=\u001b[39m \u001b[38;5;28;43mself\u001b[39;49m\u001b[38;5;241;43m.\u001b[39;49m\u001b[43m_translate\u001b[49m\u001b[43m(\u001b[49m\u001b[43mtext\u001b[49m\u001b[43m,\u001b[49m\u001b[43m \u001b[49m\u001b[43mdest\u001b[49m\u001b[43m,\u001b[49m\u001b[43m \u001b[49m\u001b[43msrc\u001b[49m\u001b[43m,\u001b[49m\u001b[43m \u001b[49m\u001b[43mkwargs\u001b[49m\u001b[43m)\u001b[49m\n\u001b[0;32m    184\u001b[0m \u001b[38;5;66;03m# this code will be updated when the format is changed.\u001b[39;00m\n\u001b[0;32m    185\u001b[0m translated \u001b[38;5;241m=\u001b[39m \u001b[38;5;124m'\u001b[39m\u001b[38;5;124m'\u001b[39m\u001b[38;5;241m.\u001b[39mjoin([d[\u001b[38;5;241m0\u001b[39m] \u001b[38;5;28;01mif\u001b[39;00m d[\u001b[38;5;241m0\u001b[39m] \u001b[38;5;28;01melse\u001b[39;00m \u001b[38;5;124m'\u001b[39m\u001b[38;5;124m'\u001b[39m \u001b[38;5;28;01mfor\u001b[39;00m d \u001b[38;5;129;01min\u001b[39;00m data[\u001b[38;5;241m0\u001b[39m]])\n",
      "File \u001b[1;32mc:\\Users\\janne\\Documents\\GitHub\\NLP-Course-Project\\venv\\Lib\\site-packages\\googletrans\\client.py:78\u001b[0m, in \u001b[0;36mTranslator._translate\u001b[1;34m(self, text, dest, src, override)\u001b[0m\n\u001b[0;32m     77\u001b[0m \u001b[38;5;28;01mdef\u001b[39;00m \u001b[38;5;21m_translate\u001b[39m(\u001b[38;5;28mself\u001b[39m, text, dest, src, override):\n\u001b[1;32m---> 78\u001b[0m     token \u001b[38;5;241m=\u001b[39m \u001b[38;5;28;43mself\u001b[39;49m\u001b[38;5;241;43m.\u001b[39;49m\u001b[43mtoken_acquirer\u001b[49m\u001b[38;5;241;43m.\u001b[39;49m\u001b[43mdo\u001b[49m\u001b[43m(\u001b[49m\u001b[43mtext\u001b[49m\u001b[43m)\u001b[49m\n\u001b[0;32m     79\u001b[0m     params \u001b[38;5;241m=\u001b[39m utils\u001b[38;5;241m.\u001b[39mbuild_params(query\u001b[38;5;241m=\u001b[39mtext, src\u001b[38;5;241m=\u001b[39msrc, dest\u001b[38;5;241m=\u001b[39mdest,\n\u001b[0;32m     80\u001b[0m                                 token\u001b[38;5;241m=\u001b[39mtoken, override\u001b[38;5;241m=\u001b[39moverride)\n\u001b[0;32m     82\u001b[0m     url \u001b[38;5;241m=\u001b[39m urls\u001b[38;5;241m.\u001b[39mTRANSLATE\u001b[38;5;241m.\u001b[39mformat(host\u001b[38;5;241m=\u001b[39m\u001b[38;5;28mself\u001b[39m\u001b[38;5;241m.\u001b[39m_pick_service_url())\n",
      "File \u001b[1;32mc:\\Users\\janne\\Documents\\GitHub\\NLP-Course-Project\\venv\\Lib\\site-packages\\googletrans\\gtoken.py:194\u001b[0m, in \u001b[0;36mTokenAcquirer.do\u001b[1;34m(self, text)\u001b[0m\n\u001b[0;32m    193\u001b[0m \u001b[38;5;28;01mdef\u001b[39;00m \u001b[38;5;21mdo\u001b[39m(\u001b[38;5;28mself\u001b[39m, text):\n\u001b[1;32m--> 194\u001b[0m     \u001b[38;5;28;43mself\u001b[39;49m\u001b[38;5;241;43m.\u001b[39;49m\u001b[43m_update\u001b[49m\u001b[43m(\u001b[49m\u001b[43m)\u001b[49m\n\u001b[0;32m    195\u001b[0m     tk \u001b[38;5;241m=\u001b[39m \u001b[38;5;28mself\u001b[39m\u001b[38;5;241m.\u001b[39macquire(text)\n\u001b[0;32m    196\u001b[0m     \u001b[38;5;28;01mreturn\u001b[39;00m tk\n",
      "File \u001b[1;32mc:\\Users\\janne\\Documents\\GitHub\\NLP-Course-Project\\venv\\Lib\\site-packages\\googletrans\\gtoken.py:62\u001b[0m, in \u001b[0;36mTokenAcquirer._update\u001b[1;34m(self)\u001b[0m\n\u001b[0;32m     59\u001b[0m     \u001b[38;5;28;01mreturn\u001b[39;00m\n\u001b[0;32m     61\u001b[0m \u001b[38;5;66;03m# this will be the same as python code after stripping out a reserved word 'var'\u001b[39;00m\n\u001b[1;32m---> 62\u001b[0m code \u001b[38;5;241m=\u001b[39m \u001b[38;5;28;43mself\u001b[39;49m\u001b[38;5;241;43m.\u001b[39;49m\u001b[43mRE_TKK\u001b[49m\u001b[38;5;241;43m.\u001b[39;49m\u001b[43msearch\u001b[49m\u001b[43m(\u001b[49m\u001b[43mr\u001b[49m\u001b[38;5;241;43m.\u001b[39;49m\u001b[43mtext\u001b[49m\u001b[43m)\u001b[49m\u001b[38;5;241;43m.\u001b[39;49m\u001b[43mgroup\u001b[49m(\u001b[38;5;241m1\u001b[39m)\u001b[38;5;241m.\u001b[39mreplace(\u001b[38;5;124m'\u001b[39m\u001b[38;5;124mvar \u001b[39m\u001b[38;5;124m'\u001b[39m, \u001b[38;5;124m'\u001b[39m\u001b[38;5;124m'\u001b[39m)\n\u001b[0;32m     63\u001b[0m \u001b[38;5;66;03m# unescape special ascii characters such like a \\x3d(=)\u001b[39;00m\n\u001b[0;32m     64\u001b[0m code \u001b[38;5;241m=\u001b[39m code\u001b[38;5;241m.\u001b[39mencode()\u001b[38;5;241m.\u001b[39mdecode(\u001b[38;5;124m'\u001b[39m\u001b[38;5;124municode-escape\u001b[39m\u001b[38;5;124m'\u001b[39m)\n",
      "\u001b[1;31mAttributeError\u001b[0m: 'NoneType' object has no attribute 'group'"
     ]
    }
   ],
   "source": [
    "# Sentiment Analysis Using Vader Sentiment\n",
    "# Function to analyze sentiment of text using Vader Sentiment Analyzer\n",
    "def analyze_sentiment(text):\n",
    "    translated_text = translator.translate(text, src='fi', dest='en')\n",
    "    sentiment = analyzer.polarity_scores(translated_text)\n",
    "    return sentiment\n",
    "\n",
    "# Analyze sentiment for original and extended vocabulary\n",
    "sentiment_results_original = {}\n",
    "sentiment_results_extended = {}\n",
    "for term, vocab in all_words.items():\n",
    "    sentiment_results_original[term] = analyze_sentiment(\" \".join(vocab))\n",
    "for term, vocab in words_extended_all.items():\n",
    "    sentiment_results_extended[term] = analyze_sentiment(\" \".join(vocab))\n",
    "\n",
    "# Print sentiment analysis results\n",
    "print(\"\\nSentiment Analysis (Original Vocabulary):\")\n",
    "for term, sentiment in sentiment_results_original.items():\n",
    "    print(f\"{term}: {sentiment}\")\n",
    "\n",
    "print(\"\\nSentiment Analysis (Extended Vocabulary):\")\n",
    "for term, sentiment in sentiment_results_extended.items():\n",
    "    print(f\"{term}: {sentiment}\")\n",
    "\n",
    "# Comment on Compatibility Between Sentiment Analysis and Intuitive Sentiment\n",
    "print(\"\\nComments on Compatibility Between Sentiment Analysis and Intuitive Sentiment:\")\n",
    "for term in terms_list:\n",
    "    print(f\"\\nConcept: {term}\")\n",
    "    print(f\"Sentiment Analysis (Original Vocabulary): {sentiment_results_original[term]}\")\n",
    "    print(f\"Sentiment Analysis (Extended Vocabulary): {sentiment_results_extended[term]}\")\n",
    "    # Add your own intuitive analysis based on the concept meaning\n",
    "    print(\"The intuitive sentiment for this concept aligns/does not align well with the sentiment extracted from the Wikipedia page.\")"
   ]
  },
  {
   "cell_type": "markdown",
   "metadata": {},
   "source": [
    "### Task 9\n",
    "\n",
    "We want to investigate the similarity using the embedding representation. For this purpose, write a program that uses word2vec embedding to evaluate\n",
    "\n",
    "i) the consistency of the Wikipedia page by calculating the cosine similarity between the underlined concept and the average word2vec embedding of every words contained in the page\n",
    "\n",
    "ii) the similarity between the various concepts by computing the cosine similarity between the aggregated embedding vector of the corresponding pages. Comment on the compatibility between webpage content and concept and similarity between the various concepts.\n"
   ]
  },
  {
   "cell_type": "markdown",
   "metadata": {},
   "source": [
    "##### i)\n"
   ]
  },
  {
   "cell_type": "code",
   "execution_count": 162,
   "metadata": {},
   "outputs": [],
   "source": [
    "def load_wikipedia_dataset(directory, title_term):\n",
    "    data = {}\n",
    "\n",
    "    # Iterate over all dataset parts\n",
    "    files = [\n",
    "        f\n",
    "        for f in os.listdir(directory)\n",
    "        if f.startswith(\"wiki_part\") and f.endswith(\".VRT\")\n",
    "    ]\n",
    "    for filename in tqdm(files, desc=\"Processing files\"):\n",
    "        if filename.startswith(\"wiki_part\") and filename.endswith(\".VRT\"):\n",
    "            file_path = os.path.join(directory, filename)\n",
    "            # print(f\"Processing file: {file_path}\")\n",
    "\n",
    "            with open(file_path, \"r\", encoding=\"utf-8\") as file:\n",
    "                content = file.read()\n",
    "\n",
    "                # Use regex to find all documents within the <doc>...</doc> tags\n",
    "                docs = re.findall(\n",
    "                    r'<doc id=\"(.*?)\" url=\"(.*?)\" title=\"(.*?)\">(.*?)</doc>',\n",
    "                    content,\n",
    "                    re.DOTALL,\n",
    "                )\n",
    "\n",
    "                # Process each document found\n",
    "                for doc_id, url, title, doc_content in docs:\n",
    "                    # Only store the data if the title matches one of the specified terms\n",
    "                    if title.casefold() in title_term:\n",
    "                        data = {\n",
    "                            \"id\": doc_id,\n",
    "                            \"url\": url,\n",
    "                            \"content\": doc_content,\n",
    "                        }\n",
    "\n",
    "    return data\n",
    "\n",
    "# Function to get Word2Vec embedding of a word if it exists in the model\n",
    "def get_word_embedding(word, model):\n",
    "    try:\n",
    "        #print(f\"get_word_embedding: {word}\")\n",
    "        return model[word]\n",
    "    except KeyError:\n",
    "        return None\n",
    "\n",
    "# Function to get average embedding\n",
    "def get_average_embedding(tokens, model):\n",
    "    embeddings = [get_word_embedding(token, model) for token in tokens]\n",
    "    #print(f\"embeddings 1: {embeddings}\")\n",
    "    embeddings = [embedding for embedding in embeddings if embedding is not None]\n",
    "    #print(f\"embeddings 2: {embeddings}\")\n",
    "    if not embeddings:\n",
    "        return None\n",
    "    return np.mean(embeddings, axis=0)\n",
    "\n",
    "# Function to calculate cosine similarity\n",
    "def cosine_similarity_vectors(v1, v2):\n",
    "    v1 = v1.reshape(1, -1)\n",
    "    v2 = v2.reshape(1, -1)\n",
    "    return cosine_similarity(v1, v2)[0][0]"
   ]
  },
  {
   "cell_type": "code",
   "execution_count": 163,
   "metadata": {},
   "outputs": [],
   "source": [
    "# word2vec_fi = kagglehub.dataset_download(\"lehtol/word2vec-fi\")\n",
    "def evaluate_page_consistency(page_title, model, stop_words):\n",
    "    # Get the page content\n",
    "    #page_content = load_wikipedia_dataset(dataset_directory, page_title)\n",
    "    #page_content = page_content[\"content\"]\n",
    "\n",
    "    page_content = wikipedia_data[page_title][\"content\"]\n",
    "\n",
    "    # Preprocess the page content\n",
    "    page_tokens = preProcess(page_content, stop_words)\n",
    "    page_tokens = word_tokenize(page_tokens)\n",
    "\n",
    "    # Get the embedding of the concept\n",
    "    stemmer = SnowballStemmer(\"finnish\")\n",
    "    word = stemmer.stem(page_title)\n",
    "\n",
    "    concept_embedding = get_word_embedding(word.casefold(), model)\n",
    "    if concept_embedding is None:\n",
    "        print(f\"The concept '{page_title}' is not in the Word2Vec model vocabulary.\")\n",
    "        return\n",
    "\n",
    "    # Get the average embedding of the page content\n",
    "    avg_embedding = get_average_embedding(page_tokens, model)\n",
    "    if avg_embedding is None:\n",
    "        print(\n",
    "            f\"No words in the Wikipedia page '{page_title}' have embeddings in the Word2Vec model.\"\n",
    "        )\n",
    "        return\n",
    "\n",
    "    # Calculate cosine similarity\n",
    "    similarity = cosine_similarity_vectors(concept_embedding, avg_embedding)\n",
    "    print(\n",
    "        f\"Cosine similarity between the page '{page_title}' and average embedding of the page content is: {similarity}\"\n",
    "    )"
   ]
  },
  {
   "cell_type": "code",
   "execution_count": 164,
   "metadata": {},
   "outputs": [
    {
     "name": "stdout",
     "output_type": "stream",
     "text": [
      "Cosine similarity between the page 'päästö' and average embedding of the page content is: 0.7162094116210938\n",
      "The concept 'ekologinen kestävyys' is not in the Word2Vec model vocabulary.\n",
      "Cosine similarity between the page 'joustavuus' and average embedding of the page content is: 0.38735419511795044\n",
      "Cosine similarity between the page 'ilmastonmuutos' and average embedding of the page content is: 0.45335862040519714\n"
     ]
    }
   ],
   "source": [
    "# load the word2vec model\n",
    "fi_model_path = os.path.join(word2vec_fi, \"word2vec-fi.bin\")\n",
    "word2vec_fi_model = gensim.models.KeyedVectors.load_word2vec_format(fi_model_path, binary=True)\n",
    "\n",
    "## Evaluate the consistency of the Wikipedia page content with the concept \"ilmastonmuutos\"\n",
    "# evaluate_page_consistency(\n",
    "#     \"ilmastonmuutos\", word2vec_fi_model, finnish_stopwords\n",
    "# )\n",
    "\n",
    "#evaluate_page_consistency(\"kestävyys\", word2vec_fi_model, finnish_stopwords)\n",
    "\n",
    "for title in terms:\n",
    "    evaluate_page_consistency(\n",
    "        title, word2vec_fi_model, finnish_stopwords\n",
    "    )\n",
    "\n"
   ]
  },
  {
   "cell_type": "markdown",
   "metadata": {},
   "source": [
    "##### ii)\n"
   ]
  },
  {
   "cell_type": "code",
   "execution_count": 185,
   "metadata": {},
   "outputs": [],
   "source": [
    "# Function to get the aggregated embedding of a Wikipedia page\n",
    "def get_page_embedding(page_title, model, stop_words):\n",
    "    # Get the page content\n",
    "    #page_content = load_wikipedia_dataset(dataset_directory, page_title)\n",
    "    #page_content = page_content[\"content\"]\n",
    "\n",
    "    page_content = wikipedia_data[page_title][\"content\"]\n",
    "\n",
    "    # Check if the page exists\n",
    "    if page_content is None:\n",
    "        print(f\"The Wikipedia page does not exist.\")\n",
    "        return None\n",
    "\n",
    "    # Preprocess the page content\n",
    "    page_tokens = preProcess(page_content, stop_words)\n",
    "    page_tokens = word_tokenize(page_tokens)\n",
    "\n",
    "    # Get the average embedding of the page content\n",
    "    avg_page_embedding = get_average_embedding(page_tokens, model)\n",
    "\n",
    "    return avg_page_embedding\n",
    "\n",
    "def cosine_similarity_between_pages(page_title_1, page_title_2, model, stop_words):\n",
    "    # Get the aggregated embeddings for both pages\n",
    "    #print(f\"Calculating cosine similarity between '{page_title_1}' and '{page_title_2}'\")\n",
    "    embedding_1 = get_page_embedding(page_title_1, model, stop_words)\n",
    "    embedding_2 = get_page_embedding(page_title_2, model, stop_words)\n",
    "\n",
    "    #print(f\"Embedding 1: {embedding_1}, Embedding 2: {embedding_2}\")\n",
    "\n",
    "    # Check if embeddings exist for both pages\n",
    "    if embedding_1 is None or embedding_2 is None:\n",
    "        print(\"One or both pages do not have valid embeddings.\")\n",
    "        return None\n",
    "\n",
    "    # Reshape the embeddings for cosine similarity calculation\n",
    "    embedding_1 = embedding_1.reshape(1, -1)\n",
    "    embedding_2 = embedding_2.reshape(1, -1)\n",
    "\n",
    "    # Calculate and return the cosine similarity\n",
    "    similarity = cosine_similarity(embedding_1, embedding_2)[0][0]\n",
    "    return similarity\n"
   ]
  },
  {
   "cell_type": "code",
   "execution_count": 193,
   "metadata": {},
   "outputs": [
    {
     "name": "stdout",
     "output_type": "stream",
     "text": [
      "Cosine similarity: 0.7628\n",
      "\n",
      "Cosine Similarity Between Wikipedia Pages:\n",
      "                        päästö  ekologinen kestävyys  joustavuus  \\\n",
      "päästö                1.000000              0.520792    0.550498   \n",
      "ekologinen kestävyys  0.520792              1.000000    0.732082   \n",
      "joustavuus            0.550498              0.732082    1.000000   \n",
      "ilmastonmuutos        0.762753              0.732151    0.764892   \n",
      "\n",
      "                      ilmastonmuutos  \n",
      "päästö                      0.762753  \n",
      "ekologinen kestävyys        0.732151  \n",
      "joustavuus                  0.764892  \n",
      "ilmastonmuutos              1.000000  \n"
     ]
    },
    {
     "data": {
      "image/png": "[encoded data removed]",
      "text/plain": [
       "<Figure size 1000x800 with 2 Axes>"
      ]
     },
     "metadata": {},
     "output_type": "display_data"
    }
   ],
   "source": [
    "\n",
    "terms_list = list(terms)\n",
    "# Calculate the cosine similarity between the pages and print the results in a matrix\n",
    "page_similarity_matrix = np.zeros((len(terms_list), len(terms_list)))\n",
    "for i, page_title_1 in enumerate(terms_list):\n",
    "    for j, page_title_2 in enumerate(terms_list):\n",
    "        similarity = cosine_similarity_between_pages(\n",
    "            page_title_1, page_title_2, word2vec_fi_model, finnish_stopwords\n",
    "        )\n",
    "        page_similarity_matrix[i, j] = similarity\n",
    "\n",
    "# Provide the result in a table\n",
    "page_similarity_df = pd.DataFrame(\n",
    "    page_similarity_matrix,\n",
    "    index=terms_list,\n",
    "    columns=terms_list,\n",
    ")\n",
    "\n",
    "print(\"\\nCosine Similarity Between Wikipedia Pages:\")\n",
    "print(page_similarity_df)\n",
    "\n",
    "# print results in a graph\n",
    "plt.figure(figsize=(10, 8))\n",
    "sns.heatmap(page_similarity_df, annot=True, cmap=\"coolwarm\", fmt=\".2f\")\n",
    "plt.title(\"Cosine Similarity Between Wikipedia Pages\")\n",
    "plt.xlabel(\"Wikipedia Page\")\n",
    "plt.ylabel(\"Wikipedia Page\")\n",
    "plt.show()\n"
   ]
  },
  {
   "cell_type": "markdown",
   "metadata": {},
   "source": [
    "### Task 10\n",
    "\n",
    "Repeat 9) when the extended vocabulary is considered.\n"
   ]
  },
  {
   "cell_type": "markdown",
   "metadata": {},
   "source": [
    "##### i)\n"
   ]
  },
  {
   "cell_type": "code",
   "execution_count": 246,
   "metadata": {},
   "outputs": [],
   "source": [
    "# word2vec_fi = kagglehub.dataset_download(\"lehtol/word2vec-fi\")\n",
    "def evaluate_page_consistency(page_title, model, stop_words):\n",
    "    # Get the page content\n",
    "    page_content = words_extended_all[page_title]\n",
    "\n",
    "    # Preprocess the page content\n",
    "    clean_stopwords = [word.casefold() for word in stop_words]\n",
    "    stemmer = SnowballStemmer(\"finnish\")\n",
    "\n",
    "    page_tokens = [stemmer.stem(word) for word in page_content]\n",
    "\n",
    "    page_tokens = [word for word in page_tokens if word.isalpha() and word not in clean_stopwords]\n",
    "\n",
    "    page_tokens = list(set(page_tokens))\n",
    "\n",
    "    # Get the embedding of the concept\n",
    "    word = stemmer.stem(page_title)\n",
    "\n",
    "    concept_embedding = get_word_embedding(word.casefold(), model)\n",
    "    if concept_embedding is None:\n",
    "        print(f\"The concept '{page_title}' is not in the Word2Vec model vocabulary.\")\n",
    "        return\n",
    "\n",
    "    # Get the average embedding of the page content\n",
    "    avg_embedding = get_average_embedding(page_tokens, model)\n",
    "    if avg_embedding is None:\n",
    "        print(\n",
    "            f\"No words in the Wikipedia page '{page_title}' have embeddings in the Word2Vec model.\"\n",
    "        )\n",
    "        return\n",
    "\n",
    "    # Calculate cosine similarity\n",
    "    similarity = cosine_similarity_vectors(concept_embedding, avg_embedding)\n",
    "    print(\n",
    "        f\"Cosine similarity between the page '{page_title}' and average embedding of the page content is: {similarity}\"\n",
    "    )"
   ]
  },
  {
   "cell_type": "code",
   "execution_count": 247,
   "metadata": {},
   "outputs": [
    {
     "name": "stdout",
     "output_type": "stream",
     "text": [
      "Cosine similarity between the page 'päästö' and average embedding of the page content is: 0.4166816771030426\n",
      "The concept 'ekologinen kestävyys' is not in the Word2Vec model vocabulary.\n",
      "Cosine similarity between the page 'joustavuus' and average embedding of the page content is: 0.23404879868030548\n",
      "Cosine similarity between the page 'ilmastonmuutos' and average embedding of the page content is: 0.33270910382270813\n"
     ]
    }
   ],
   "source": [
    "\n",
    "for title in terms:\n",
    "    evaluate_page_consistency(\n",
    "        title, word2vec_fi_model, finnish_stopwords\n",
    "    )"
   ]
  },
  {
   "cell_type": "markdown",
   "metadata": {},
   "source": [
    "##### ii)\n"
   ]
  },
  {
   "cell_type": "code",
   "execution_count": 251,
   "metadata": {},
   "outputs": [],
   "source": [
    "# Function to get the aggregated embedding of a Wikipedia page\n",
    "def get_page_embedding(page_title, model, stop_words):\n",
    "    # Get the page content\n",
    "\n",
    "    page_content = words_extended_all[page_title]\n",
    "\n",
    "    # Check if the page exists\n",
    "    if page_content is None:\n",
    "        print(f\"The Wikipedia page does not exist.\")\n",
    "        return None\n",
    "\n",
    "    # Preprocess the page content\n",
    "    clean_stopwords = [word.casefold() for word in stop_words]\n",
    "    stemmer = SnowballStemmer(\"finnish\")\n",
    "\n",
    "    page_tokens = [stemmer.stem(word) for word in page_content]\n",
    "\n",
    "    page_tokens = [word for word in page_tokens if word.isalpha() and word not in clean_stopwords]\n",
    "\n",
    "    page_tokens = list(set(page_tokens))\n",
    "\n",
    "\n",
    "    # Get the average embedding of the page content\n",
    "    avg_page_embedding = get_average_embedding(page_tokens, model)\n",
    "\n",
    "    return avg_page_embedding\n",
    "\n",
    "def cosine_similarity_between_pages(page_title_1, page_title_2, model, stop_words):\n",
    "    # Get the aggregated embeddings for both pages\n",
    "    #print(f\"Calculating cosine similarity between '{page_title_1}' and '{page_title_2}'\")\n",
    "    embedding_1 = get_page_embedding(page_title_1, model, stop_words)\n",
    "    embedding_2 = get_page_embedding(page_title_2, model, stop_words)\n",
    "\n",
    "    #print(f\"Embedding 1: {embedding_1}, Embedding 2: {embedding_2}\")\n",
    "\n",
    "    # Check if embeddings exist for both pages\n",
    "    if embedding_1 is None or embedding_2 is None:\n",
    "        print(\"One or both pages do not have valid embeddings.\")\n",
    "        return None\n",
    "\n",
    "    # Reshape the embeddings for cosine similarity calculation\n",
    "    embedding_1 = embedding_1.reshape(1, -1)\n",
    "    embedding_2 = embedding_2.reshape(1, -1)\n",
    "\n",
    "    # Calculate and return the cosine similarity\n",
    "    similarity = cosine_similarity(embedding_1, embedding_2)[0][0]\n",
    "    return similarity"
   ]
  },
  {
   "cell_type": "code",
   "execution_count": 252,
   "metadata": {},
   "outputs": [
    {
     "name": "stdout",
     "output_type": "stream",
     "text": [
      "\n",
      "Cosine Similarity Between Wikipedia Pages:\n",
      "                        päästö  ekologinen kestävyys  joustavuus  \\\n",
      "päästö                1.000000              0.936783    0.874938   \n",
      "ekologinen kestävyys  0.936783              1.000000    0.893511   \n",
      "joustavuus            0.874938              0.893511    1.000000   \n",
      "ilmastonmuutos        0.954524              0.936028    0.942167   \n",
      "\n",
      "                      ilmastonmuutos  \n",
      "päästö                      0.954524  \n",
      "ekologinen kestävyys        0.936028  \n",
      "joustavuus                  0.942167  \n",
      "ilmastonmuutos              1.000000  \n"
     ]
    },
    {
     "data": {
      "image/png": "[encoded data removed]",
      "text/plain": [
       "<Figure size 1000x800 with 2 Axes>"
      ]
     },
     "metadata": {},
     "output_type": "display_data"
    }
   ],
   "source": [
    "terms_list = list(terms)\n",
    "# Calculate the cosine similarity between the pages and print the results in a matrix\n",
    "page_similarity_matrix = np.zeros((len(terms_list), len(terms_list)))\n",
    "for i, page_title_1 in enumerate(terms_list):\n",
    "    for j, page_title_2 in enumerate(terms_list):\n",
    "        similarity = cosine_similarity_between_pages(\n",
    "            page_title_1, page_title_2, word2vec_fi_model, finnish_stopwords\n",
    "        )\n",
    "        page_similarity_matrix[i, j] = similarity\n",
    "\n",
    "#Provide the result in a table\n",
    "page_similarity_df = pd.DataFrame(\n",
    "    page_similarity_matrix,\n",
    "    index=terms_list,\n",
    "    columns=terms_list,\n",
    ")\n",
    "\n",
    "print(\"\\nCosine Similarity Between Wikipedia Pages:\")\n",
    "print(page_similarity_df)\n",
    "\n",
    "# print results in a graph\n",
    "plt.figure(figsize=(10, 8))\n",
    "sns.heatmap(page_similarity_df, annot=True, cmap=\"coolwarm\", fmt=\".2f\")\n",
    "plt.title(\"Cosine Similarity Between Wikipedia Pages\")\n",
    "plt.xlabel(\"Wikipedia Page\")\n",
    "plt.ylabel(\"Wikipedia Page\")\n",
    "plt.show()"
   ]
  },
  {
   "cell_type": "markdown",
   "metadata": {},
   "source": [
    "### Task 11\n",
    "\n",
    "Use appropriate literature to comment on the findings. Also, identify any additional input that would allow you to further elucidate any of the preceding, and use appropriate literature of corpus linguistic literature to justify your findings and comment on the obtained results. Finally, comment on the limitations and structural weakness of the data processing pipeline.\n"
   ]
  }
 ],
 "metadata": {
  "kernelspec": {
   "display_name": "venv",
   "language": "python",
   "name": "python3"
  },
  "language_info": {
   "codemirror_mode": {
    "name": "ipython",
    "version": 3
   },
   "file_extension": ".py",
   "mimetype": "text/x-python",
   "name": "python",
   "nbconvert_exporter": "python",
   "pygments_lexer": "ipython3",
   "version": "3.12.6"
  }
 },
 "nbformat": 4,
 "nbformat_minor": 4
}
